{
 "cells": [
  {
   "cell_type": "markdown",
   "id": "cell-1",
   "metadata": {},
   "source": [
    "# MLflow Validation Test - Self-Contained Model Registration\n",
    "\n",
    "This notebook generates synthetic data and registers a simple model to validate our MLflow infrastructure."
   ]
  },
  {
   "cell_type": "code",
   "execution_count": null,
   "id": "cell-2",
   "metadata": {},
   "outputs": [],
   "source": [
    "import numpy as np\n",
    "import pandas as pd\n",
    "import mlflow\n",
    "import mlflow.sklearn\n",
    "from sklearn.ensemble import IsolationForest\n",
    "from sklearn.model_selection import train_test_split\n",
    "from sklearn.preprocessing import StandardScaler\n",
    "import os\n",
    "\n",
    "print(\"Libraries imported successfully\")\n",
    "print(f\"MLflow tracking URI: {mlflow.get_tracking_uri()}\")"
   ]
  },
  {
   "cell_type": "code",
   "execution_count": null,
   "id": "cell-3",
   "metadata": {},
   "outputs": [],
   "source": [
    "# Generate synthetic sensor data\n",
    "np.random.seed(42)\n",
    "\n",
    "# Create 1000 samples with 5 features\n",
    "n_samples = 1000\n",
    "n_features = 5\n",
    "\n",
    "# Normal operation data (90% of samples)\n",
    "normal_data = np.random.normal(0, 1, (int(n_samples * 0.9), n_features))\n",
    "\n",
    "# Anomalous data (10% of samples)\n",
    "anomalous_data = np.random.normal(3, 1.5, (int(n_samples * 0.1), n_features))\n",
    "\n",
    "# Combine data\n",
    "X_synthetic = np.vstack([normal_data, anomalous_data])\n",
    "y_synthetic = np.hstack([np.zeros(len(normal_data)), np.ones(len(anomalous_data))])\n",
    "\n",
    "# Create feature names\n",
    "feature_names = [f'feature_{i}' for i in range(n_features)]\n",
    "\n",
    "print(f\"Generated {len(X_synthetic)} synthetic samples\")\n",
    "print(f\"Features: {feature_names}\")\n",
    "print(f\"Normal samples: {len(normal_data)}, Anomalous samples: {len(anomalous_data)}\")"
   ]
  },
  {
   "cell_type": "code",
   "execution_count": null,
   "id": "cell-4",
   "metadata": {},
   "outputs": [],
   "source": [
    "# Configure MLflow\n",
    "mlflow.set_tracking_uri(\"http://mlflow:5000\")\n",
    "mlflow.set_experiment(\"Synthetic_Data_Validation\")\n",
    "\n",
    "print(f\"MLflow configured to: {mlflow.get_tracking_uri()}\")\n",
    "print(f\"Active experiment: {mlflow.get_experiment_by_name('Synthetic_Data_Validation')}\")"
   ]
  },
  {
   "cell_type": "code",
   "execution_count": null,
   "id": "cell-5",
   "metadata": {},
   "outputs": [],
   "source": [
    "# Split data for training and testing\n",
    "X_train, X_test, y_train, y_test = train_test_split(\n",
    "    X_synthetic, y_synthetic, test_size=0.3, random_state=42, stratify=y_synthetic\n",
    ")\n",
    "\n",
    "# Scale the features\n",
    "scaler = StandardScaler()\n",
    "X_train_scaled = scaler.fit_transform(X_train)\n",
    "X_test_scaled = scaler.transform(X_test)\n",
    "\n",
    "print(f\"Training set: {X_train_scaled.shape}\")\n",
    "print(f\"Test set: {X_test_scaled.shape}\")"
   ]
  },
  {
   "cell_type": "code",
   "execution_count": null,
   "id": "cell-6",
   "metadata": {},
   "outputs": [],
   "source": [
    "# Train and register model with MLflow\n",
    "with mlflow.start_run(run_name=\"Synthetic_Validation_IsolationForest\") as run:\n",
    "    # Log parameters\n",
    "    contamination = 0.1\n",
    "    mlflow.log_param(\"model_type\", \"IsolationForest\")\n",
    "    mlflow.log_param(\"contamination\", contamination)\n",
    "    mlflow.log_param(\"n_samples\", n_samples)\n",
    "    mlflow.log_param(\"n_features\", n_features)\n",
    "    mlflow.log_param(\"data_type\", \"synthetic\")\n",
    "    \n",
    "    # Train model\n",
    "    model = IsolationForest(contamination=contamination, random_state=42)\n",
    "    model.fit(X_train_scaled)\n",
    "    \n",
    "    # Make predictions\n",
    "    y_pred = model.predict(X_test_scaled)\n",
    "    y_pred_binary = (y_pred == -1).astype(int)  # Convert to binary (1 for anomaly)\n",
    "    \n",
    "    # Calculate basic metrics\n",
    "    from sklearn.metrics import accuracy_score, precision_score, recall_score\n",
    "    \n",
    "    accuracy = accuracy_score(y_test, y_pred_binary)\n",
    "    precision = precision_score(y_test, y_pred_binary, zero_division=0)\n",
    "    recall = recall_score(y_test, y_pred_binary, zero_division=0)\n",
    "    \n",
    "    # Log metrics\n",
    "    mlflow.log_metric(\"accuracy\", accuracy)\n",
    "    mlflow.log_metric(\"precision\", precision)\n",
    "    mlflow.log_metric(\"recall\", recall)\n",
    "    \n",
    "    # Log feature names as artifact\n",
    "    with open(\"/tmp/feature_names_synthetic.txt\", \"w\") as f:\n",
    "        f.write(\"\\n\".join(feature_names))\n",
    "    mlflow.log_artifact(\"/tmp/feature_names_synthetic.txt\")\n",
    "    \n",
    "    # Register the model\n",
    "    model_name = \"synthetic_validation_isolation_forest\"\n",
    "    mlflow.sklearn.log_model(\n",
    "        model, \n",
    "        \"model\",\n",
    "        registered_model_name=model_name\n",
    "    )\n",
    "    \n",
    "    print(f\"Model registered as: {model_name}\")\n",
    "    print(f\"Run ID: {run.info.run_id}\")\n",
    "    print(f\"Accuracy: {accuracy:.4f}\")\n",
    "    print(f\"Precision: {precision:.4f}\")\n",
    "    print(f\"Recall: {recall:.4f}\")"
   ]
  },
  {
   "cell_type": "code",
   "execution_count": null,
   "id": "cell-7",
   "metadata": {},
   "outputs": [],
   "source": [
    "# Test model loading from MLflow\n",
    "print(\"\\n=== Testing Model Loading ===\")\n",
    "try:\n",
    "    # Load the model back from MLflow\n",
    "    loaded_model = mlflow.sklearn.load_model(f\"models:/{model_name}/latest\")\n",
    "    \n",
    "    # Test prediction with the loaded model\n",
    "    test_sample = X_test_scaled[:5]  # Test with first 5 samples\n",
    "    predictions = loaded_model.predict(test_sample)\n",
    "    \n",
    "    print(f\"Successfully loaded model: {model_name}\")\n",
    "    print(f\"Test predictions: {predictions}\")\n",
    "    print(\"✅ MLflow model loading validation PASSED\")\n",
    "    \n",
    "except Exception as e:\n",
    "    print(f\"❌ MLflow model loading validation FAILED: {e}\")\n",
    "    raise"
   ]
  },
  {
   "cell_type": "code",
   "execution_count": null,
   "id": "cell-8",
   "metadata": {},
   "outputs": [],
   "source": [
    "print(\"\\n=== Synthetic Data Validation Summary ===\")\n",
    "print(\"✅ Synthetic data generation: SUCCESS\")\n",
    "print(\"✅ Model training: SUCCESS\")\n",
    "print(\"✅ MLflow logging: SUCCESS\")\n",
    "print(\"✅ Model registration: SUCCESS\")\n",
    "print(\"✅ Model loading validation: SUCCESS\")\n",
    "print(\"\\n🎉 All validation tests passed! MLflow infrastructure is working correctly.\")"
   ]
  }
 ],
 "metadata": {
  "kernelspec": {
   "display_name": "Python 3",
   "language": "python",
   "name": "python3"
  },
  "language_info": {
   "codemirror_mode": {
    "name": "ipython",
    "version": 3
   },
   "file_extension": ".py",
   "mimetype": "text/x-python",
   "name": "python",
   "nbconvert_exporter": "python",
   "pygments_lexer": "ipython3",
   "version": "3.12.3"
  }
 },
 "nbformat": 4,
 "nbformat_minor": 5
}