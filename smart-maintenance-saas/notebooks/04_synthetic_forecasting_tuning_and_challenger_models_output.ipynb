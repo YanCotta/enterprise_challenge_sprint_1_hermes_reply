{
 "cells": [
  {
   "cell_type": "code",
   "execution_count": 1,
   "id": "2cb92870",
   "metadata": {
    "execution": {
     "iopub.execute_input": "2025-09-16T20:27:39.195729Z",
     "iopub.status.busy": "2025-09-16T20:27:39.195575Z",
     "iopub.status.idle": "2025-09-16T20:27:43.756565Z",
     "shell.execute_reply": "2025-09-16T20:27:43.756158Z"
    },
    "papermill": {
     "duration": 4.563441,
     "end_time": "2025-09-16T20:27:43.757267",
     "exception": false,
     "start_time": "2025-09-16T20:27:39.193826",
     "status": "completed"
    },
    "tags": []
   },
   "outputs": [
    {
     "name": "stderr",
     "output_type": "stream",
     "text": [
      "/usr/local/lib/python3.11/site-packages/tqdm/auto.py:21: TqdmWarning: IProgress not found. Please update jupyter and ipywidgets. See https://ipywidgets.readthedocs.io/en/stable/user_install.html\n",
      "  from .autonotebook import tqdm as notebook_tqdm\n",
      "mkdir -p failed for path /.config/matplotlib: [Errno 13] Permission denied: '/.config'\n"
     ]
    },
    {
     "name": "stderr",
     "output_type": "stream",
     "text": [
      "Matplotlib created a temporary cache directory at /tmp/matplotlib-8r2xjagi because there was an issue with the default path (/.config/matplotlib); it is highly recommended to set the MPLCONFIGDIR environment variable to a writable directory, in particular to speed up the import of Matplotlib and to better support multiprocessing.\n"
     ]
    },
    {
     "name": "stdout",
     "output_type": "stream",
     "text": [
      "MLflow tracking URI set to: http://mlflow:5000\n"
     ]
    }
   ],
   "source": [
    "import pandas as pd\n",
    "import numpy as np\n",
    "import mlflow\n",
    "from prophet import Prophet\n",
    "import lightgbm as lgb\n",
    "from sklearn.metrics import mean_absolute_error\n",
    "import logging\n",
    "import os\n",
    "from apps.ml.features import SensorFeatureTransformer\n",
    "\n",
    "logging.getLogger(\"prophet\").setLevel(logging.ERROR)\n",
    "logging.getLogger(\"cmdstanpy\").setLevel(logging.ERROR)\n",
    "\n",
    "tracking_uri = \"http://mlflow:5000\" if os.getenv(\"DOCKER_ENV\") == \"true\" else \"http://localhost:5000\"\n",
    "mlflow.set_tracking_uri(tracking_uri)\n",
    "mlflow.set_experiment(\"Forecasting Models\")\n",
    "\n",
    "print(f\"MLflow tracking URI set to: {mlflow.get_tracking_uri()}\")"
   ]
  },
  {
   "cell_type": "code",
   "execution_count": 2,
   "id": "419bf319",
   "metadata": {
    "execution": {
     "iopub.execute_input": "2025-09-16T20:27:43.760573Z",
     "iopub.status.busy": "2025-09-16T20:27:43.760248Z",
     "iopub.status.idle": "2025-09-16T20:27:43.880213Z",
     "shell.execute_reply": "2025-09-16T20:27:43.879928Z"
    },
    "papermill": {
     "duration": 0.122146,
     "end_time": "2025-09-16T20:27:43.880795",
     "exception": false,
     "start_time": "2025-09-16T20:27:43.758649",
     "status": "completed"
    },
    "tags": []
   },
   "outputs": [
    {
     "name": "stdout",
     "output_type": "stream",
     "text": [
      "Data prepared for sensor: sensor-001\n"
     ]
    }
   ],
   "source": [
    "# --- Data Preparation (Consistent for both models) ---\n",
    "df = pd.read_csv('data/sensor_data.csv', parse_dates=['timestamp'])\n",
    "df['timestamp'] = df['timestamp'].dt.tz_localize(None)\n",
    "\n",
    "sensor_id = 'sensor-001'\n",
    "df_sensor = df[df['sensor_id'] == sensor_id].copy()\n",
    "\n",
    "# 80/20 Train/Test Split\n",
    "split_point = int(len(df_sensor) * 0.8)\n",
    "train_df_raw = df_sensor.iloc[:split_point]\n",
    "test_df_raw = df_sensor.iloc[split_point:]\n",
    "\n",
    "y_true = test_df_raw['value'].values\n",
    "\n",
    "print(f\"Data prepared for sensor: {sensor_id}\")"
   ]
  },
  {
   "cell_type": "code",
   "execution_count": 3,
   "id": "1afa20bc",
   "metadata": {
    "execution": {
     "iopub.execute_input": "2025-09-16T20:27:43.882967Z",
     "iopub.status.busy": "2025-09-16T20:27:43.882834Z",
     "iopub.status.idle": "2025-09-16T20:29:31.954970Z",
     "shell.execute_reply": "2025-09-16T20:29:31.954700Z"
    },
    "papermill": {
     "duration": 108.073666,
     "end_time": "2025-09-16T20:29:31.955443",
     "exception": false,
     "start_time": "2025-09-16T20:27:43.881777",
     "status": "completed"
    },
    "tags": []
   },
   "outputs": [
    {
     "name": "stderr",
     "output_type": "stream",
     "text": [
      "2025/09/16 20:27:43 WARNING mlflow.tracking.context.registry: Encountered unexpected error during resolving tags: 'getpwuid(): uid not found: 1000'\n"
     ]
    },
    {
     "name": "stdout",
     "output_type": "stream",
     "text": [
      "\n",
      "--- Starting Prophet Tuning ---\n"
     ]
    },
    {
     "name": "stderr",
     "output_type": "stream",
     "text": [
      "20:27:48 - cmdstanpy - INFO - Chain [1] start processing\n"
     ]
    },
    {
     "name": "stderr",
     "output_type": "stream",
     "text": [
      "20:27:48 - cmdstanpy - INFO - Chain [1] done processing\n"
     ]
    },
    {
     "name": "stderr",
     "output_type": "stream",
     "text": [
      "\u001b[31m2025/09/16 20:27:50 WARNING mlflow.models.model: Model logged without a signature and input example. Please set `input_example` parameter when logging the model to auto infer the model signature.\u001b[0m\n"
     ]
    },
    {
     "name": "stdout",
     "output_type": "stream",
     "text": [
      "🏃 View run Prophet_Tuning_cps_0.01_sps_1.0 at: http://mlflow:5000/#/experiments/3/runs/17a6d588c91e4e9d95ced8bdf2a7262c\n",
      "🧪 View experiment at: http://mlflow:5000/#/experiments/3\n"
     ]
    },
    {
     "name": "stderr",
     "output_type": "stream",
     "text": [
      "2025/09/16 20:27:59 WARNING mlflow.tracking.context.registry: Encountered unexpected error during resolving tags: 'getpwuid(): uid not found: 1000'\n"
     ]
    },
    {
     "name": "stderr",
     "output_type": "stream",
     "text": [
      "20:28:03 - cmdstanpy - INFO - Chain [1] start processing\n"
     ]
    },
    {
     "name": "stderr",
     "output_type": "stream",
     "text": [
      "20:28:03 - cmdstanpy - INFO - Chain [1] done processing\n"
     ]
    },
    {
     "name": "stderr",
     "output_type": "stream",
     "text": [
      "\u001b[31m2025/09/16 20:28:05 WARNING mlflow.models.model: Model logged without a signature and input example. Please set `input_example` parameter when logging the model to auto infer the model signature.\u001b[0m\n"
     ]
    },
    {
     "name": "stdout",
     "output_type": "stream",
     "text": [
      "🏃 View run Prophet_Tuning_cps_0.01_sps_5.0 at: http://mlflow:5000/#/experiments/3/runs/70bdb06e3d334e47be26435b36a5a71a\n",
      "🧪 View experiment at: http://mlflow:5000/#/experiments/3\n"
     ]
    },
    {
     "name": "stderr",
     "output_type": "stream",
     "text": [
      "2025/09/16 20:28:13 WARNING mlflow.tracking.context.registry: Encountered unexpected error during resolving tags: 'getpwuid(): uid not found: 1000'\n"
     ]
    },
    {
     "name": "stderr",
     "output_type": "stream",
     "text": [
      "20:28:18 - cmdstanpy - INFO - Chain [1] start processing\n"
     ]
    },
    {
     "name": "stderr",
     "output_type": "stream",
     "text": [
      "20:28:18 - cmdstanpy - INFO - Chain [1] done processing\n"
     ]
    },
    {
     "name": "stdout",
     "output_type": "stream",
     "text": [
      "🏃 View run Prophet_Tuning_cps_0.01_sps_10.0 at: http://mlflow:5000/#/experiments/3/runs/a1d13bb162654b1c8f5bccbdfeffeeb3\n",
      "🧪 View experiment at: http://mlflow:5000/#/experiments/3\n"
     ]
    },
    {
     "name": "stderr",
     "output_type": "stream",
     "text": [
      "2025/09/16 20:28:22 WARNING mlflow.tracking.context.registry: Encountered unexpected error during resolving tags: 'getpwuid(): uid not found: 1000'\n"
     ]
    },
    {
     "name": "stderr",
     "output_type": "stream",
     "text": [
      "20:28:27 - cmdstanpy - INFO - Chain [1] start processing\n"
     ]
    },
    {
     "name": "stderr",
     "output_type": "stream",
     "text": [
      "20:28:27 - cmdstanpy - INFO - Chain [1] done processing\n"
     ]
    },
    {
     "name": "stdout",
     "output_type": "stream",
     "text": [
      "🏃 View run Prophet_Tuning_cps_0.05_sps_1.0 at: http://mlflow:5000/#/experiments/3/runs/d89f635b00574ebaacab4f31c707a005\n",
      "🧪 View experiment at: http://mlflow:5000/#/experiments/3\n"
     ]
    },
    {
     "name": "stderr",
     "output_type": "stream",
     "text": [
      "2025/09/16 20:28:30 WARNING mlflow.tracking.context.registry: Encountered unexpected error during resolving tags: 'getpwuid(): uid not found: 1000'\n"
     ]
    },
    {
     "name": "stderr",
     "output_type": "stream",
     "text": [
      "20:28:35 - cmdstanpy - INFO - Chain [1] start processing\n"
     ]
    },
    {
     "name": "stderr",
     "output_type": "stream",
     "text": [
      "20:28:35 - cmdstanpy - INFO - Chain [1] done processing\n"
     ]
    },
    {
     "name": "stderr",
     "output_type": "stream",
     "text": [
      "\u001b[31m2025/09/16 20:28:36 WARNING mlflow.models.model: Model logged without a signature and input example. Please set `input_example` parameter when logging the model to auto infer the model signature.\u001b[0m\n"
     ]
    },
    {
     "name": "stdout",
     "output_type": "stream",
     "text": [
      "🏃 View run Prophet_Tuning_cps_0.05_sps_5.0 at: http://mlflow:5000/#/experiments/3/runs/1f5fe1c2b62d4680b92a22b5ac2da09f\n",
      "🧪 View experiment at: http://mlflow:5000/#/experiments/3\n"
     ]
    },
    {
     "name": "stderr",
     "output_type": "stream",
     "text": [
      "2025/09/16 20:28:45 WARNING mlflow.tracking.context.registry: Encountered unexpected error during resolving tags: 'getpwuid(): uid not found: 1000'\n"
     ]
    },
    {
     "name": "stderr",
     "output_type": "stream",
     "text": [
      "20:28:50 - cmdstanpy - INFO - Chain [1] start processing\n"
     ]
    },
    {
     "name": "stderr",
     "output_type": "stream",
     "text": [
      "20:28:50 - cmdstanpy - INFO - Chain [1] done processing\n"
     ]
    },
    {
     "name": "stdout",
     "output_type": "stream",
     "text": [
      "🏃 View run Prophet_Tuning_cps_0.05_sps_10.0 at: http://mlflow:5000/#/experiments/3/runs/a7fafdcf8910430197479be6665d906c\n",
      "🧪 View experiment at: http://mlflow:5000/#/experiments/3\n"
     ]
    },
    {
     "name": "stderr",
     "output_type": "stream",
     "text": [
      "2025/09/16 20:28:54 WARNING mlflow.tracking.context.registry: Encountered unexpected error during resolving tags: 'getpwuid(): uid not found: 1000'\n"
     ]
    },
    {
     "name": "stderr",
     "output_type": "stream",
     "text": [
      "20:28:59 - cmdstanpy - INFO - Chain [1] start processing\n"
     ]
    },
    {
     "name": "stderr",
     "output_type": "stream",
     "text": [
      "20:28:59 - cmdstanpy - INFO - Chain [1] done processing\n"
     ]
    },
    {
     "name": "stderr",
     "output_type": "stream",
     "text": [
      "\u001b[31m2025/09/16 20:29:00 WARNING mlflow.models.model: Model logged without a signature and input example. Please set `input_example` parameter when logging the model to auto infer the model signature.\u001b[0m\n"
     ]
    },
    {
     "name": "stdout",
     "output_type": "stream",
     "text": [
      "🏃 View run Prophet_Tuning_cps_0.1_sps_1.0 at: http://mlflow:5000/#/experiments/3/runs/f8cb6f9175714ee3a8e91070cec4dfe9\n",
      "🧪 View experiment at: http://mlflow:5000/#/experiments/3\n"
     ]
    },
    {
     "name": "stderr",
     "output_type": "stream",
     "text": [
      "2025/09/16 20:29:08 WARNING mlflow.tracking.context.registry: Encountered unexpected error during resolving tags: 'getpwuid(): uid not found: 1000'\n"
     ]
    },
    {
     "name": "stderr",
     "output_type": "stream",
     "text": [
      "20:29:13 - cmdstanpy - INFO - Chain [1] start processing\n"
     ]
    },
    {
     "name": "stderr",
     "output_type": "stream",
     "text": [
      "20:29:13 - cmdstanpy - INFO - Chain [1] done processing\n"
     ]
    },
    {
     "name": "stderr",
     "output_type": "stream",
     "text": [
      "\u001b[31m2025/09/16 20:29:14 WARNING mlflow.models.model: Model logged without a signature and input example. Please set `input_example` parameter when logging the model to auto infer the model signature.\u001b[0m\n"
     ]
    },
    {
     "name": "stdout",
     "output_type": "stream",
     "text": [
      "🏃 View run Prophet_Tuning_cps_0.1_sps_5.0 at: http://mlflow:5000/#/experiments/3/runs/3b58d36b5fb84ffc960e15b4ef896fea\n",
      "🧪 View experiment at: http://mlflow:5000/#/experiments/3\n"
     ]
    },
    {
     "name": "stderr",
     "output_type": "stream",
     "text": [
      "2025/09/16 20:29:23 WARNING mlflow.tracking.context.registry: Encountered unexpected error during resolving tags: 'getpwuid(): uid not found: 1000'\n"
     ]
    },
    {
     "name": "stderr",
     "output_type": "stream",
     "text": [
      "20:29:27 - cmdstanpy - INFO - Chain [1] start processing\n"
     ]
    },
    {
     "name": "stderr",
     "output_type": "stream",
     "text": [
      "20:29:28 - cmdstanpy - INFO - Chain [1] done processing\n"
     ]
    },
    {
     "name": "stdout",
     "output_type": "stream",
     "text": [
      "🏃 View run Prophet_Tuning_cps_0.1_sps_10.0 at: http://mlflow:5000/#/experiments/3/runs/bf12ddb2d820400cb589d473a20404c1\n",
      "🧪 View experiment at: http://mlflow:5000/#/experiments/3\n"
     ]
    },
    {
     "name": "stdout",
     "output_type": "stream",
     "text": [
      "Best Prophet MAE: 2.8258 with params: {'changepoint_prior_scale': 0.1, 'seasonality_prior_scale': 5.0}\n"
     ]
    }
   ],
   "source": [
    "# --- 1. Prophet Hyperparameter Tuning ---\n",
    "print(\"\\n--- Starting Prophet Tuning ---\")\n",
    "\n",
    "# Define a simple grid of hyperparameters to test\n",
    "param_grid = {\n",
    "    'changepoint_prior_scale': [0.01, 0.05, 0.1],\n",
    "    'seasonality_prior_scale': [1.0, 5.0, 10.0]\n",
    "}\n",
    "\n",
    "best_mae = float('inf')\n",
    "best_params = {}\n",
    "\n",
    "# Prepare data for Prophet\n",
    "train_df_prophet = train_df_raw[['timestamp', 'value']].rename(columns={'timestamp': 'ds', 'value': 'y'})\n",
    "\n",
    "for cps in param_grid['changepoint_prior_scale']:\n",
    "    for sps in param_grid['seasonality_prior_scale']:\n",
    "        with mlflow.start_run(run_name=f\"Prophet_Tuning_cps_{cps}_sps_{sps}\", nested=True):\n",
    "            params = {'changepoint_prior_scale': cps, 'seasonality_prior_scale': sps}\n",
    "            mlflow.log_params(params)\n",
    "            mlflow.log_param(\"model_type\", \"Prophet_Tuned\")\n",
    "\n",
    "            model = Prophet(**params, daily_seasonality=True, weekly_seasonality=False, yearly_seasonality=False)\n",
    "            model.fit(train_df_prophet)\n",
    "            \n",
    "            future_df = model.make_future_dataframe(periods=len(test_df_raw), freq='5min')\n",
    "            forecast_df = model.predict(future_df)\n",
    "            y_pred = forecast_df['yhat'][-len(test_df_raw):].values\n",
    "            \n",
    "            mae = mean_absolute_error(y_true, y_pred)\n",
    "            mlflow.log_metric(\"mae\", mae)\n",
    "            \n",
    "            if mae < best_mae:\n",
    "                best_mae = mae\n",
    "                best_params = params\n",
    "                # Log the best model so far\n",
    "                mlflow.prophet.log_model(model, \"best_prophet_model\")\n",
    "                mlflow.set_tag(\"status\", \"best_candidate\")\n",
    "\n",
    "print(f\"Best Prophet MAE: {best_mae:.4f} with params: {best_params}\")"
   ]
  },
  {
   "cell_type": "code",
   "execution_count": 4,
   "id": "40fbb2ad",
   "metadata": {
    "execution": {
     "iopub.execute_input": "2025-09-16T20:29:31.959453Z",
     "iopub.status.busy": "2025-09-16T20:29:31.959348Z",
     "iopub.status.idle": "2025-09-16T20:29:54.812085Z",
     "shell.execute_reply": "2025-09-16T20:29:54.811695Z"
    },
    "papermill": {
     "duration": 22.855251,
     "end_time": "2025-09-16T20:29:54.812582",
     "exception": false,
     "start_time": "2025-09-16T20:29:31.957331",
     "status": "completed"
    },
    "tags": []
   },
   "outputs": [
    {
     "name": "stderr",
     "output_type": "stream",
     "text": [
      "2025/09/16 20:29:31 WARNING mlflow.tracking.context.registry: Encountered unexpected error during resolving tags: 'getpwuid(): uid not found: 1000'\n"
     ]
    },
    {
     "name": "stdout",
     "output_type": "stream",
     "text": [
      "\n",
      "--- Starting LightGBM Challenger Model ---\n"
     ]
    },
    {
     "name": "stderr",
     "output_type": "stream",
     "text": [
      "/app/apps/ml/features.py:75: FutureWarning: DataFrameGroupBy.apply operated on the grouping columns. This behavior is deprecated, and in a future version of pandas the grouping columns will be excluded from the operation. Either pass `include_groups=False` to exclude the groupings or explicitly select the grouping columns after groupby to silence this warning.\n",
      "  .apply(lambda g: g.ffill().bfill())\n",
      "/app/apps/ml/features.py:75: FutureWarning: DataFrameGroupBy.apply operated on the grouping columns. This behavior is deprecated, and in a future version of pandas the grouping columns will be excluded from the operation. Either pass `include_groups=False` to exclude the groupings or explicitly select the grouping columns after groupby to silence this warning.\n",
      "  .apply(lambda g: g.ffill().bfill())\n"
     ]
    },
    {
     "name": "stdout",
     "output_type": "stream",
     "text": [
      "NaN values in X_train: 0\n",
      "NaN values in y_train: 0\n",
      "NaN values in X_test: 0\n",
      "NaN values in y_test: 0\n",
      "Final training set size: 479\n",
      "Final test set size: 119\n"
     ]
    },
    {
     "name": "stdout",
     "output_type": "stream",
     "text": [
      "LightGBM MAE: 3.0994\n"
     ]
    },
    {
     "name": "stderr",
     "output_type": "stream",
     "text": [
      "\u001b[31m2025/09/16 20:29:42 WARNING mlflow.models.model: Model logged without a signature and input example. Please set `input_example` parameter when logging the model to auto infer the model signature.\u001b[0m\n"
     ]
    },
    {
     "name": "stderr",
     "output_type": "stream",
     "text": [
      "Successfully registered model 'lightgbm_forecaster_challenger'.\n"
     ]
    },
    {
     "name": "stderr",
     "output_type": "stream",
     "text": [
      "2025/09/16 20:29:52 INFO mlflow.store.model_registry.abstract_store: Waiting up to 300 seconds for model version to finish creation. Model name: lightgbm_forecaster_challenger, version 1\n"
     ]
    },
    {
     "name": "stderr",
     "output_type": "stream",
     "text": [
      "Created version '1' of model 'lightgbm_forecaster_challenger'.\n"
     ]
    },
    {
     "name": "stdout",
     "output_type": "stream",
     "text": [
      "🏃 View run LightGBM_Challenger_v1 at: http://mlflow:5000/#/experiments/3/runs/95eebf78e6af44d4aa15bae87a7a89e8\n",
      "🧪 View experiment at: http://mlflow:5000/#/experiments/3\n"
     ]
    },
    {
     "name": "stdout",
     "output_type": "stream",
     "text": [
      "\n",
      "--- Experiment session complete! ---\n"
     ]
    }
   ],
   "source": [
    "# --- 2. Challenger Model: LightGBM with Lag Features ---\n",
    "print(\"\\n--- Starting LightGBM Challenger Model ---\")\n",
    "\n",
    "with mlflow.start_run(run_name=\"LightGBM_Challenger_v1\"):\n",
    "    mlflow.log_param(\"model_type\", \"LightGBM\")\n",
    "    \n",
    "    # --- Feature Engineering ---\n",
    "    # Create lag features for forecasting the next value\n",
    "    feature_transformer = SensorFeatureTransformer(n_lags=12, scale_columns=['value'])\n",
    "    \n",
    "    # Transform train data\n",
    "    X_train_transformed = feature_transformer.fit_transform(train_df_raw)\n",
    "    # Create target: next value (shift -1 means we predict the next value)\n",
    "    y_train_full = train_df_raw['value'].shift(-1)\n",
    "    \n",
    "    # Remove the last row since it doesn't have a target (NaN after shift)\n",
    "    X_train_clean = X_train_transformed.iloc[:-1]\n",
    "    y_train_clean = y_train_full.iloc[:-1]\n",
    "    \n",
    "    # Transform test data\n",
    "    X_test_transformed = feature_transformer.transform(test_df_raw)\n",
    "    y_test_full = test_df_raw['value'].shift(-1)\n",
    "    \n",
    "    # Remove the last row since it doesn't have a target\n",
    "    X_test_clean = X_test_transformed.iloc[:-1]\n",
    "    y_test_clean = y_test_full.iloc[:-1]\n",
    "    \n",
    "    # Check for any remaining NaN values and handle them\n",
    "    print(f\"NaN values in X_train: {X_train_clean.isna().sum().sum()}\")\n",
    "    print(f\"NaN values in y_train: {y_train_clean.isna().sum()}\")\n",
    "    print(f\"NaN values in X_test: {X_test_clean.isna().sum().sum()}\")\n",
    "    print(f\"NaN values in y_test: {y_test_clean.isna().sum()}\")\n",
    "    \n",
    "    # Drop any remaining NaN rows\n",
    "    if X_train_clean.isna().any().any() or y_train_clean.isna().any():\n",
    "        valid_train_idx = ~(X_train_clean.isna().any(axis=1) | y_train_clean.isna())\n",
    "        X_train_clean = X_train_clean[valid_train_idx]\n",
    "        y_train_clean = y_train_clean[valid_train_idx]\n",
    "        print(f\"Dropped {(~valid_train_idx).sum()} training rows with NaN\")\n",
    "    \n",
    "    if X_test_clean.isna().any().any() or y_test_clean.isna().any():\n",
    "        valid_test_idx = ~(X_test_clean.isna().any(axis=1) | y_test_clean.isna())\n",
    "        X_test_clean = X_test_clean[valid_test_idx]\n",
    "        y_test_clean = y_test_clean[valid_test_idx]\n",
    "        print(f\"Dropped {(~valid_test_idx).sum()} test rows with NaN\")\n",
    "    \n",
    "    print(f\"Final training set size: {len(X_train_clean)}\")\n",
    "    print(f\"Final test set size: {len(X_test_clean)}\")\n",
    "    \n",
    "    # --- Model Training ---\n",
    "    lgbm = lgb.LGBMRegressor(random_state=42, verbosity=-1)\n",
    "    mlflow.log_params(lgbm.get_params())\n",
    "    lgbm.fit(X_train_clean, y_train_clean)\n",
    "    \n",
    "    # --- Evaluation ---\n",
    "    y_pred_lgbm = lgbm.predict(X_test_clean)\n",
    "    mae_lgbm = mean_absolute_error(y_test_clean, y_pred_lgbm)\n",
    "    mlflow.log_metric(\"mae\", mae_lgbm)\n",
    "    \n",
    "    print(f\"LightGBM MAE: {mae_lgbm:.4f}\")\n",
    "\n",
    "    # --- Log Model ---\n",
    "    mlflow.lightgbm.log_model(lgbm, \"model\", registered_model_name=\"lightgbm_forecaster_challenger\")\n",
    "\n",
    "print(\"\\n--- Experiment session complete! ---\")"
   ]
  }
 ],
 "metadata": {
  "kernelspec": {
   "display_name": "Python 3",
   "language": "python",
   "name": "python3"
  },
  "language_info": {
   "codemirror_mode": {
    "name": "ipython",
    "version": 3
   },
   "file_extension": ".py",
   "mimetype": "text/x-python",
   "name": "python",
   "nbconvert_exporter": "python",
   "pygments_lexer": "ipython3",
   "version": "3.11.13"
  },
  "papermill": {
   "default_parameters": {},
   "duration": 137.108175,
   "end_time": "2025-09-16T20:29:55.629317",
   "environment_variables": {},
   "exception": null,
   "input_path": "notebooks/04_synthetic_forecasting_tuning_and_challenger_models.ipynb",
   "output_path": "notebooks/04_synthetic_forecasting_tuning_and_challenger_models_output.ipynb",
   "parameters": {},
   "start_time": "2025-09-16T20:27:38.521142",
   "version": "2.6.0"
  }
 },
 "nbformat": 4,
 "nbformat_minor": 5
}