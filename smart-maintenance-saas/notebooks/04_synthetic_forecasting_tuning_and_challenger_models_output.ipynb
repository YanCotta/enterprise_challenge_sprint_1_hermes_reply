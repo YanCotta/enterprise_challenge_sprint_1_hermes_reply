{
 "cells": [
  {
   "cell_type": "code",
   "execution_count": 1,
   "id": "1d8b025f",
   "metadata": {
    "execution": {
     "iopub.execute_input": "2025-08-22T12:50:35.519437Z",
     "iopub.status.busy": "2025-08-22T12:50:35.519253Z",
     "iopub.status.idle": "2025-08-22T12:50:40.476053Z",
     "shell.execute_reply": "2025-08-22T12:50:40.475725Z"
    },
    "papermill": {
     "duration": 4.958932,
     "end_time": "2025-08-22T12:50:40.476625",
     "exception": false,
     "start_time": "2025-08-22T12:50:35.517693",
     "status": "completed"
    },
    "tags": []
   },
   "outputs": [
    {
     "name": "stderr",
     "output_type": "stream",
     "text": [
      "/usr/local/lib/python3.12/site-packages/tqdm/auto.py:21: TqdmWarning: IProgress not found. Please update jupyter and ipywidgets. See https://ipywidgets.readthedocs.io/en/stable/user_install.html\n",
      "  from .autonotebook import tqdm as notebook_tqdm\n",
      "mkdir -p failed for path /.config/matplotlib: [Errno 13] Permission denied: '/.config'\n"
     ]
    },
    {
     "name": "stderr",
     "output_type": "stream",
     "text": [
      "Matplotlib created a temporary cache directory at /tmp/matplotlib-t12id4nk because there was an issue with the default path (/.config/matplotlib); it is highly recommended to set the MPLCONFIGDIR environment variable to a writable directory, in particular to speed up the import of Matplotlib and to better support multiprocessing.\n"
     ]
    },
    {
     "name": "stdout",
     "output_type": "stream",
     "text": [
      "MLflow tracking URI set to: http://mlflow:5000\n"
     ]
    }
   ],
   "source": [
    "import pandas as pd\n",
    "import numpy as np\n",
    "import mlflow\n",
    "from prophet import Prophet\n",
    "import lightgbm as lgb\n",
    "from sklearn.metrics import mean_absolute_error\n",
    "import logging\n",
    "import os\n",
    "from apps.ml.features import SensorFeatureTransformer\n",
    "\n",
    "logging.getLogger(\"prophet\").setLevel(logging.ERROR)\n",
    "logging.getLogger(\"cmdstanpy\").setLevel(logging.ERROR)\n",
    "\n",
    "tracking_uri = \"http://mlflow:5000\" if os.getenv(\"DOCKER_ENV\") == \"true\" else \"http://localhost:5000\"\n",
    "mlflow.set_tracking_uri(tracking_uri)\n",
    "mlflow.set_experiment(\"Forecasting Models\")\n",
    "\n",
    "print(f\"MLflow tracking URI set to: {mlflow.get_tracking_uri()}\")"
   ]
  },
  {
   "cell_type": "code",
   "execution_count": 2,
   "id": "1641947e",
   "metadata": {
    "execution": {
     "iopub.execute_input": "2025-08-22T12:50:40.478949Z",
     "iopub.status.busy": "2025-08-22T12:50:40.478694Z",
     "iopub.status.idle": "2025-08-22T12:50:40.509781Z",
     "shell.execute_reply": "2025-08-22T12:50:40.509411Z"
    },
    "papermill": {
     "duration": 0.032706,
     "end_time": "2025-08-22T12:50:40.510385",
     "exception": false,
     "start_time": "2025-08-22T12:50:40.477679",
     "status": "completed"
    },
    "tags": []
   },
   "outputs": [
    {
     "name": "stdout",
     "output_type": "stream",
     "text": [
      "Data prepared for sensor: sensor-001\n"
     ]
    }
   ],
   "source": [
    "# --- Data Preparation (Consistent for both models) ---\n",
    "df = pd.read_csv('data/sensor_data.csv', parse_dates=['timestamp'])\n",
    "df['timestamp'] = df['timestamp'].dt.tz_localize(None)\n",
    "\n",
    "sensor_id = 'sensor-001'\n",
    "df_sensor = df[df['sensor_id'] == sensor_id].copy()\n",
    "\n",
    "# 80/20 Train/Test Split\n",
    "split_point = int(len(df_sensor) * 0.8)\n",
    "train_df_raw = df_sensor.iloc[:split_point]\n",
    "test_df_raw = df_sensor.iloc[split_point:]\n",
    "\n",
    "y_true = test_df_raw['value'].values\n",
    "\n",
    "print(f\"Data prepared for sensor: {sensor_id}\")"
   ]
  },
  {
   "cell_type": "code",
   "execution_count": 3,
   "id": "7d592a16",
   "metadata": {
    "execution": {
     "iopub.execute_input": "2025-08-22T12:50:40.512689Z",
     "iopub.status.busy": "2025-08-22T12:50:40.512541Z",
     "iopub.status.idle": "2025-08-22T12:50:44.704151Z",
     "shell.execute_reply": "2025-08-22T12:50:44.703838Z"
    },
    "papermill": {
     "duration": 4.193375,
     "end_time": "2025-08-22T12:50:44.704721",
     "exception": false,
     "start_time": "2025-08-22T12:50:40.511346",
     "status": "completed"
    },
    "tags": []
   },
   "outputs": [
    {
     "name": "stderr",
     "output_type": "stream",
     "text": [
      "2025/08/22 12:50:40 WARNING mlflow.tracking.context.registry: Encountered unexpected error during resolving tags: 'getpwuid(): uid not found: 1000'\n"
     ]
    },
    {
     "name": "stdout",
     "output_type": "stream",
     "text": [
      "\n",
      "--- Starting Prophet Tuning ---\n"
     ]
    },
    {
     "name": "stderr",
     "output_type": "stream",
     "text": [
      "12:50:40 - cmdstanpy - INFO - Chain [1] start processing\n"
     ]
    },
    {
     "name": "stderr",
     "output_type": "stream",
     "text": [
      "12:50:40 - cmdstanpy - INFO - Chain [1] done processing\n"
     ]
    },
    {
     "name": "stderr",
     "output_type": "stream",
     "text": [
      "\u001b[31m2025/08/22 12:50:41 WARNING mlflow.models.model: Model logged without a signature and input example. Please set `input_example` parameter when logging the model to auto infer the model signature.\u001b[0m\n"
     ]
    },
    {
     "name": "stderr",
     "output_type": "stream",
     "text": [
      "2025/08/22 12:50:41 WARNING mlflow.tracking.context.registry: Encountered unexpected error during resolving tags: 'getpwuid(): uid not found: 1000'\n"
     ]
    },
    {
     "name": "stdout",
     "output_type": "stream",
     "text": [
      "🏃 View run Prophet_Tuning_cps_0.01_sps_1.0 at: http://mlflow:5000/#/experiments/5/runs/b3c7cd3ad9be486eabf1ab84ff065a36\n",
      "🧪 View experiment at: http://mlflow:5000/#/experiments/5\n"
     ]
    },
    {
     "name": "stderr",
     "output_type": "stream",
     "text": [
      "12:50:41 - cmdstanpy - INFO - Chain [1] start processing\n"
     ]
    },
    {
     "name": "stderr",
     "output_type": "stream",
     "text": [
      "12:50:41 - cmdstanpy - INFO - Chain [1] done processing\n"
     ]
    },
    {
     "name": "stderr",
     "output_type": "stream",
     "text": [
      "\u001b[31m2025/08/22 12:50:41 WARNING mlflow.models.model: Model logged without a signature and input example. Please set `input_example` parameter when logging the model to auto infer the model signature.\u001b[0m\n"
     ]
    },
    {
     "name": "stderr",
     "output_type": "stream",
     "text": [
      "2025/08/22 12:50:41 WARNING mlflow.tracking.context.registry: Encountered unexpected error during resolving tags: 'getpwuid(): uid not found: 1000'\n"
     ]
    },
    {
     "name": "stdout",
     "output_type": "stream",
     "text": [
      "🏃 View run Prophet_Tuning_cps_0.01_sps_5.0 at: http://mlflow:5000/#/experiments/5/runs/e22b79a94686459bbae78e7413c745f3\n",
      "🧪 View experiment at: http://mlflow:5000/#/experiments/5\n"
     ]
    },
    {
     "name": "stderr",
     "output_type": "stream",
     "text": [
      "12:50:42 - cmdstanpy - INFO - Chain [1] start processing\n"
     ]
    },
    {
     "name": "stderr",
     "output_type": "stream",
     "text": [
      "12:50:42 - cmdstanpy - INFO - Chain [1] done processing\n"
     ]
    },
    {
     "name": "stderr",
     "output_type": "stream",
     "text": [
      "2025/08/22 12:50:42 WARNING mlflow.tracking.context.registry: Encountered unexpected error during resolving tags: 'getpwuid(): uid not found: 1000'\n"
     ]
    },
    {
     "name": "stdout",
     "output_type": "stream",
     "text": [
      "🏃 View run Prophet_Tuning_cps_0.01_sps_10.0 at: http://mlflow:5000/#/experiments/5/runs/46b573b2064c4ab4bb9f0df0655176ef\n",
      "🧪 View experiment at: http://mlflow:5000/#/experiments/5\n"
     ]
    },
    {
     "name": "stderr",
     "output_type": "stream",
     "text": [
      "12:50:42 - cmdstanpy - INFO - Chain [1] start processing\n"
     ]
    },
    {
     "name": "stderr",
     "output_type": "stream",
     "text": [
      "12:50:42 - cmdstanpy - INFO - Chain [1] done processing\n"
     ]
    },
    {
     "name": "stderr",
     "output_type": "stream",
     "text": [
      "2025/08/22 12:50:42 WARNING mlflow.tracking.context.registry: Encountered unexpected error during resolving tags: 'getpwuid(): uid not found: 1000'\n"
     ]
    },
    {
     "name": "stdout",
     "output_type": "stream",
     "text": [
      "🏃 View run Prophet_Tuning_cps_0.05_sps_1.0 at: http://mlflow:5000/#/experiments/5/runs/2322f4b2296148d2b7a2087082299388\n",
      "🧪 View experiment at: http://mlflow:5000/#/experiments/5\n"
     ]
    },
    {
     "name": "stderr",
     "output_type": "stream",
     "text": [
      "12:50:42 - cmdstanpy - INFO - Chain [1] start processing\n"
     ]
    },
    {
     "name": "stderr",
     "output_type": "stream",
     "text": [
      "12:50:42 - cmdstanpy - INFO - Chain [1] done processing\n"
     ]
    },
    {
     "name": "stderr",
     "output_type": "stream",
     "text": [
      "\u001b[31m2025/08/22 12:50:42 WARNING mlflow.models.model: Model logged without a signature and input example. Please set `input_example` parameter when logging the model to auto infer the model signature.\u001b[0m\n"
     ]
    },
    {
     "name": "stderr",
     "output_type": "stream",
     "text": [
      "2025/08/22 12:50:43 WARNING mlflow.tracking.context.registry: Encountered unexpected error during resolving tags: 'getpwuid(): uid not found: 1000'\n"
     ]
    },
    {
     "name": "stdout",
     "output_type": "stream",
     "text": [
      "🏃 View run Prophet_Tuning_cps_0.05_sps_5.0 at: http://mlflow:5000/#/experiments/5/runs/effc7a09a9554bbe9045348f4ae2b5b6\n",
      "🧪 View experiment at: http://mlflow:5000/#/experiments/5\n"
     ]
    },
    {
     "name": "stderr",
     "output_type": "stream",
     "text": [
      "12:50:43 - cmdstanpy - INFO - Chain [1] start processing\n"
     ]
    },
    {
     "name": "stderr",
     "output_type": "stream",
     "text": [
      "12:50:43 - cmdstanpy - INFO - Chain [1] done processing\n"
     ]
    },
    {
     "name": "stderr",
     "output_type": "stream",
     "text": [
      "2025/08/22 12:50:43 WARNING mlflow.tracking.context.registry: Encountered unexpected error during resolving tags: 'getpwuid(): uid not found: 1000'\n"
     ]
    },
    {
     "name": "stdout",
     "output_type": "stream",
     "text": [
      "🏃 View run Prophet_Tuning_cps_0.05_sps_10.0 at: http://mlflow:5000/#/experiments/5/runs/9b1096630bf04f7bae1af348f8dc2954\n",
      "🧪 View experiment at: http://mlflow:5000/#/experiments/5\n"
     ]
    },
    {
     "name": "stderr",
     "output_type": "stream",
     "text": [
      "12:50:43 - cmdstanpy - INFO - Chain [1] start processing\n"
     ]
    },
    {
     "name": "stderr",
     "output_type": "stream",
     "text": [
      "12:50:43 - cmdstanpy - INFO - Chain [1] done processing\n"
     ]
    },
    {
     "name": "stderr",
     "output_type": "stream",
     "text": [
      "\u001b[31m2025/08/22 12:50:43 WARNING mlflow.models.model: Model logged without a signature and input example. Please set `input_example` parameter when logging the model to auto infer the model signature.\u001b[0m\n"
     ]
    },
    {
     "name": "stderr",
     "output_type": "stream",
     "text": [
      "2025/08/22 12:50:43 WARNING mlflow.tracking.context.registry: Encountered unexpected error during resolving tags: 'getpwuid(): uid not found: 1000'\n"
     ]
    },
    {
     "name": "stdout",
     "output_type": "stream",
     "text": [
      "🏃 View run Prophet_Tuning_cps_0.1_sps_1.0 at: http://mlflow:5000/#/experiments/5/runs/f12ccfa1a87644c6a02b8df5f54310ef\n",
      "🧪 View experiment at: http://mlflow:5000/#/experiments/5\n"
     ]
    },
    {
     "name": "stderr",
     "output_type": "stream",
     "text": [
      "12:50:44 - cmdstanpy - INFO - Chain [1] start processing\n"
     ]
    },
    {
     "name": "stderr",
     "output_type": "stream",
     "text": [
      "12:50:44 - cmdstanpy - INFO - Chain [1] done processing\n"
     ]
    },
    {
     "name": "stderr",
     "output_type": "stream",
     "text": [
      "\u001b[31m2025/08/22 12:50:44 WARNING mlflow.models.model: Model logged without a signature and input example. Please set `input_example` parameter when logging the model to auto infer the model signature.\u001b[0m\n"
     ]
    },
    {
     "name": "stderr",
     "output_type": "stream",
     "text": [
      "2025/08/22 12:50:44 WARNING mlflow.tracking.context.registry: Encountered unexpected error during resolving tags: 'getpwuid(): uid not found: 1000'\n"
     ]
    },
    {
     "name": "stdout",
     "output_type": "stream",
     "text": [
      "🏃 View run Prophet_Tuning_cps_0.1_sps_5.0 at: http://mlflow:5000/#/experiments/5/runs/37f93c492f6e4db1bc373c5561173017\n",
      "🧪 View experiment at: http://mlflow:5000/#/experiments/5\n"
     ]
    },
    {
     "name": "stderr",
     "output_type": "stream",
     "text": [
      "12:50:44 - cmdstanpy - INFO - Chain [1] start processing\n"
     ]
    },
    {
     "name": "stderr",
     "output_type": "stream",
     "text": [
      "12:50:44 - cmdstanpy - INFO - Chain [1] done processing\n"
     ]
    },
    {
     "name": "stdout",
     "output_type": "stream",
     "text": [
      "🏃 View run Prophet_Tuning_cps_0.1_sps_10.0 at: http://mlflow:5000/#/experiments/5/runs/01e5622c29a54f079e02a0e3a6319b22\n",
      "🧪 View experiment at: http://mlflow:5000/#/experiments/5\n",
      "Best Prophet MAE: 2.8258 with params: {'changepoint_prior_scale': 0.1, 'seasonality_prior_scale': 5.0}\n"
     ]
    }
   ],
   "source": [
    "# --- 1. Prophet Hyperparameter Tuning ---\n",
    "print(\"\\n--- Starting Prophet Tuning ---\")\n",
    "\n",
    "# Define a simple grid of hyperparameters to test\n",
    "param_grid = {\n",
    "    'changepoint_prior_scale': [0.01, 0.05, 0.1],\n",
    "    'seasonality_prior_scale': [1.0, 5.0, 10.0]\n",
    "}\n",
    "\n",
    "best_mae = float('inf')\n",
    "best_params = {}\n",
    "\n",
    "# Prepare data for Prophet\n",
    "train_df_prophet = train_df_raw[['timestamp', 'value']].rename(columns={'timestamp': 'ds', 'value': 'y'})\n",
    "\n",
    "for cps in param_grid['changepoint_prior_scale']:\n",
    "    for sps in param_grid['seasonality_prior_scale']:\n",
    "        with mlflow.start_run(run_name=f\"Prophet_Tuning_cps_{cps}_sps_{sps}\", nested=True):\n",
    "            params = {'changepoint_prior_scale': cps, 'seasonality_prior_scale': sps}\n",
    "            mlflow.log_params(params)\n",
    "            mlflow.log_param(\"model_type\", \"Prophet_Tuned\")\n",
    "\n",
    "            model = Prophet(**params, daily_seasonality=True, weekly_seasonality=False, yearly_seasonality=False)\n",
    "            model.fit(train_df_prophet)\n",
    "            \n",
    "            future_df = model.make_future_dataframe(periods=len(test_df_raw), freq='5min')\n",
    "            forecast_df = model.predict(future_df)\n",
    "            y_pred = forecast_df['yhat'][-len(test_df_raw):].values\n",
    "            \n",
    "            mae = mean_absolute_error(y_true, y_pred)\n",
    "            mlflow.log_metric(\"mae\", mae)\n",
    "            \n",
    "            if mae < best_mae:\n",
    "                best_mae = mae\n",
    "                best_params = params\n",
    "                # Log the best model so far\n",
    "                mlflow.prophet.log_model(model, \"best_prophet_model\")\n",
    "                mlflow.set_tag(\"status\", \"best_candidate\")\n",
    "\n",
    "print(f\"Best Prophet MAE: {best_mae:.4f} with params: {best_params}\")"
   ]
  },
  {
   "cell_type": "code",
   "execution_count": 4,
   "id": "89df398c",
   "metadata": {
    "execution": {
     "iopub.execute_input": "2025-08-22T12:50:44.709395Z",
     "iopub.status.busy": "2025-08-22T12:50:44.709213Z",
     "iopub.status.idle": "2025-08-22T12:50:49.980141Z",
     "shell.execute_reply": "2025-08-22T12:50:49.979859Z"
    },
    "papermill": {
     "duration": 5.27377,
     "end_time": "2025-08-22T12:50:49.980673",
     "exception": false,
     "start_time": "2025-08-22T12:50:44.706903",
     "status": "completed"
    },
    "tags": []
   },
   "outputs": [
    {
     "name": "stderr",
     "output_type": "stream",
     "text": [
      "2025/08/22 12:50:44 WARNING mlflow.tracking.context.registry: Encountered unexpected error during resolving tags: 'getpwuid(): uid not found: 1000'\n"
     ]
    },
    {
     "name": "stdout",
     "output_type": "stream",
     "text": [
      "\n",
      "--- Starting LightGBM Challenger Model ---\n",
      "NaN values in X_train: 0\n",
      "NaN values in y_train: 0\n",
      "NaN values in X_test: 0\n",
      "NaN values in y_test: 0\n",
      "Final training set size: 479\n",
      "Final test set size: 119\n"
     ]
    },
    {
     "name": "stderr",
     "output_type": "stream",
     "text": [
      "/app/apps/ml/features.py:75: FutureWarning: DataFrameGroupBy.apply operated on the grouping columns. This behavior is deprecated, and in a future version of pandas the grouping columns will be excluded from the operation. Either pass `include_groups=False` to exclude the groupings or explicitly select the grouping columns after groupby to silence this warning.\n",
      "  .apply(lambda g: g.ffill().bfill())\n",
      "/app/apps/ml/features.py:75: FutureWarning: DataFrameGroupBy.apply operated on the grouping columns. This behavior is deprecated, and in a future version of pandas the grouping columns will be excluded from the operation. Either pass `include_groups=False` to exclude the groupings or explicitly select the grouping columns after groupby to silence this warning.\n",
      "  .apply(lambda g: g.ffill().bfill())\n"
     ]
    },
    {
     "name": "stdout",
     "output_type": "stream",
     "text": [
      "LightGBM MAE: 3.0994\n"
     ]
    },
    {
     "name": "stderr",
     "output_type": "stream",
     "text": [
      "\u001b[31m2025/08/22 12:50:49 WARNING mlflow.models.model: Model logged without a signature and input example. Please set `input_example` parameter when logging the model to auto infer the model signature.\u001b[0m\n"
     ]
    },
    {
     "name": "stderr",
     "output_type": "stream",
     "text": [
      "Successfully registered model 'lightgbm_forecaster_challenger'.\n"
     ]
    },
    {
     "name": "stderr",
     "output_type": "stream",
     "text": [
      "2025/08/22 12:50:49 INFO mlflow.store.model_registry.abstract_store: Waiting up to 300 seconds for model version to finish creation. Model name: lightgbm_forecaster_challenger, version 1\n"
     ]
    },
    {
     "name": "stdout",
     "output_type": "stream",
     "text": [
      "🏃 View run LightGBM_Challenger_v1 at: http://mlflow:5000/#/experiments/5/runs/415b118116a34132b3f390831762dd1e\n",
      "🧪 View experiment at: http://mlflow:5000/#/experiments/5\n",
      "\n",
      "--- Experiment session complete! ---\n"
     ]
    },
    {
     "name": "stderr",
     "output_type": "stream",
     "text": [
      "Created version '1' of model 'lightgbm_forecaster_challenger'.\n"
     ]
    }
   ],
   "source": [
    "# --- 2. Challenger Model: LightGBM with Lag Features ---\n",
    "print(\"\\n--- Starting LightGBM Challenger Model ---\")\n",
    "\n",
    "with mlflow.start_run(run_name=\"LightGBM_Challenger_v1\"):\n",
    "    mlflow.log_param(\"model_type\", \"LightGBM\")\n",
    "    \n",
    "    # --- Feature Engineering ---\n",
    "    # Create lag features for forecasting the next value\n",
    "    feature_transformer = SensorFeatureTransformer(n_lags=12, scale_columns=['value'])\n",
    "    \n",
    "    # Transform train data\n",
    "    X_train_transformed = feature_transformer.fit_transform(train_df_raw)\n",
    "    # Create target: next value (shift -1 means we predict the next value)\n",
    "    y_train_full = train_df_raw['value'].shift(-1)\n",
    "    \n",
    "    # Remove the last row since it doesn't have a target (NaN after shift)\n",
    "    X_train_clean = X_train_transformed.iloc[:-1]\n",
    "    y_train_clean = y_train_full.iloc[:-1]\n",
    "    \n",
    "    # Transform test data\n",
    "    X_test_transformed = feature_transformer.transform(test_df_raw)\n",
    "    y_test_full = test_df_raw['value'].shift(-1)\n",
    "    \n",
    "    # Remove the last row since it doesn't have a target\n",
    "    X_test_clean = X_test_transformed.iloc[:-1]\n",
    "    y_test_clean = y_test_full.iloc[:-1]\n",
    "    \n",
    "    # Check for any remaining NaN values and handle them\n",
    "    print(f\"NaN values in X_train: {X_train_clean.isna().sum().sum()}\")\n",
    "    print(f\"NaN values in y_train: {y_train_clean.isna().sum()}\")\n",
    "    print(f\"NaN values in X_test: {X_test_clean.isna().sum().sum()}\")\n",
    "    print(f\"NaN values in y_test: {y_test_clean.isna().sum()}\")\n",
    "    \n",
    "    # Drop any remaining NaN rows\n",
    "    if X_train_clean.isna().any().any() or y_train_clean.isna().any():\n",
    "        valid_train_idx = ~(X_train_clean.isna().any(axis=1) | y_train_clean.isna())\n",
    "        X_train_clean = X_train_clean[valid_train_idx]\n",
    "        y_train_clean = y_train_clean[valid_train_idx]\n",
    "        print(f\"Dropped {(~valid_train_idx).sum()} training rows with NaN\")\n",
    "    \n",
    "    if X_test_clean.isna().any().any() or y_test_clean.isna().any():\n",
    "        valid_test_idx = ~(X_test_clean.isna().any(axis=1) | y_test_clean.isna())\n",
    "        X_test_clean = X_test_clean[valid_test_idx]\n",
    "        y_test_clean = y_test_clean[valid_test_idx]\n",
    "        print(f\"Dropped {(~valid_test_idx).sum()} test rows with NaN\")\n",
    "    \n",
    "    print(f\"Final training set size: {len(X_train_clean)}\")\n",
    "    print(f\"Final test set size: {len(X_test_clean)}\")\n",
    "    \n",
    "    # --- Model Training ---\n",
    "    lgbm = lgb.LGBMRegressor(random_state=42, verbosity=-1)\n",
    "    mlflow.log_params(lgbm.get_params())\n",
    "    lgbm.fit(X_train_clean, y_train_clean)\n",
    "    \n",
    "    # --- Evaluation ---\n",
    "    y_pred_lgbm = lgbm.predict(X_test_clean)\n",
    "    mae_lgbm = mean_absolute_error(y_test_clean, y_pred_lgbm)\n",
    "    mlflow.log_metric(\"mae\", mae_lgbm)\n",
    "    \n",
    "    print(f\"LightGBM MAE: {mae_lgbm:.4f}\")\n",
    "\n",
    "    # --- Log Model ---\n",
    "    mlflow.lightgbm.log_model(lgbm, \"model\", registered_model_name=\"lightgbm_forecaster_challenger\")\n",
    "\n",
    "print(\"\\n--- Experiment session complete! ---\")"
   ]
  }
 ],
 "metadata": {
  "kernelspec": {
   "display_name": "Python 3",
   "language": "python",
   "name": "python3"
  },
  "language_info": {
   "codemirror_mode": {
    "name": "ipython",
    "version": 3
   },
   "file_extension": ".py",
   "mimetype": "text/x-python",
   "name": "python",
   "nbconvert_exporter": "python",
   "pygments_lexer": "ipython3",
   "version": "3.12.11"
  },
  "papermill": {
   "default_parameters": {},
   "duration": 15.893864,
   "end_time": "2025-08-22T12:50:50.698176",
   "environment_variables": {},
   "exception": null,
   "input_path": "notebooks/04_synthetic_forecasting_tuning_and_challenger_models.ipynb",
   "output_path": "notebooks/04_synthetic_forecasting_tuning_and_challenger_models_output.ipynb",
   "parameters": {},
   "start_time": "2025-08-22T12:50:34.804312",
   "version": "2.6.0"
  }
 },
 "nbformat": 4,
 "nbformat_minor": 5
}