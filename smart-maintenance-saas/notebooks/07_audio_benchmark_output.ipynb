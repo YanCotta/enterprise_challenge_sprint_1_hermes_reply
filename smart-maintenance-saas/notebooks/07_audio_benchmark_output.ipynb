{
 "cells": [
  {
   "cell_type": "markdown",
   "id": "7940d8f5",
   "metadata": {
    "papermill": {
     "duration": 0.001195,
     "end_time": "2025-08-18T18:14:32.135285",
     "exception": false,
     "start_time": "2025-08-18T18:14:32.134090",
     "status": "completed"
    },
    "tags": []
   },
   "source": [
    "# Phase 3: The Audio Gauntlet (MIMII Sound Dataset)\n",
    "\n",
    "This notebook processes raw audio signal data from the MIMII sound dataset to build supervised anomaly detection models for industrial equipment.\n",
    "\n",
    "## Objectives:\n",
    "1. Load and process MIMII industrial machine sound data (.wav files)\n",
    "2. Extract MFCC (Mel-Frequency Cepstral Coefficients) features from audio signals\n",
    "3. Train supervised classification models to detect anomalous machine sounds\n",
    "4. Register models in MLflow for production deployment\n",
    "\n",
    "## Dataset: MIMII Sound Dataset\n",
    "- **Source**: MIMII Dataset from Hitachi, Ltd. and Tokyo Institute of Technology\n",
    "- **Type**: Industrial machine sound recordings (valve, pump, fan, slider)\n",
    "- **Structure**: Normal and abnormal sound samples organized by machine type and ID\n",
    "- **Features**: .wav files sampled at 16kHz with various noise conditions\n",
    "- **Gauntlet Focus**: 6dB SNR valve and pump sounds\n",
    "\n",
    "## Methodology:\n",
    "- **Feature Extraction**: 40 MFCC coefficients per audio sample\n",
    "- **Model**: RandomForest classifier for normal vs abnormal classification\n",
    "- **Evaluation**: Classification metrics focused on anomaly detection performance"
   ]
  },
  {
   "cell_type": "code",
   "execution_count": null,
   "id": "6f6b8d33",
   "metadata": {
    "execution": {
     "iopub.execute_input": "2025-08-18T18:14:32.138016Z",
     "iopub.status.busy": "2025-08-18T18:14:32.137853Z",
     "iopub.status.idle": "2025-08-18T18:14:37.897550Z",
     "shell.execute_reply": "2025-08-18T18:14:37.897277Z"
    },
    "papermill": {
     "duration": 5.761708,
     "end_time": "2025-08-18T18:14:37.898052",
     "exception": false,
     "start_time": "2025-08-18T18:14:32.136344",
     "status": "completed"
    },
    "tags": []
   },
   "outputs": [
    {
     "name": "stdout",
     "output_type": "stream",
     "text": [
      "MLflow tracking URI set to: http://mlflow:5000\n",
      "Current working directory: /app\n"
     ]
    }
   ],
   "source": [
    "# Import required libraries\n",
    "import pandas as pd\n",
    "import numpy as np\n",
    "import mlflow\n",
    "import librosa\n",
    "from sklearn.model_selection import train_test_split\n",
    "from sklearn.preprocessing import StandardScaler\n",
    "from sklearn.ensemble import RandomForestClassifier\n",
    "from sklearn.metrics import classification_report\n",
    "import os\n",
    "import glob\n",
    "from tqdm import tqdm\n",
    "import warnings\n",
    "import matplotlib.pyplot as plt\n",
    "import seaborn as sns\n",
    "from datetime import datetime\n",
    "\n",
    "warnings.filterwarnings('ignore', category=UserWarning, module='librosa')\n",
    "\n",
    "# MLflow configuration\n",
    "tracking_uri = \"http://mlflow:5000\" if os.getenv(\"DOCKER_ENV\") == \"true\" else \"http://localhost:5000\"\n",
    "mlflow.set_tracking_uri(tracking_uri)\n",
    "mlflow.set_experiment(\"Audio Gauntlet (MIMII)\")\n",
    "\n",
    "print(f\"MLflow tracking URI set to: {mlflow.get_tracking_uri()}\")\n",
    "print(f\"Current working directory: {os.getcwd()}\")\n",
    "\n",
    "# Ensure output directory exists\n",
    "os.makedirs('docs/ml', exist_ok=True)"
   ]
  },
  {
   "cell_type": "code",
   "execution_count": null,
   "id": "c856cd72",
   "metadata": {
    "execution": {
     "iopub.execute_input": "2025-08-18T18:14:37.900577Z",
     "iopub.status.busy": "2025-08-18T18:14:37.900339Z",
     "iopub.status.idle": "2025-08-18T18:14:37.905816Z",
     "shell.execute_reply": "2025-08-18T18:14:37.905545Z"
    },
    "papermill": {
     "duration": 0.007149,
     "end_time": "2025-08-18T18:14:37.906300",
     "exception": false,
     "start_time": "2025-08-18T18:14:37.899151",
     "status": "completed"
    },
    "tags": []
   },
   "outputs": [
    {
     "name": "stdout",
     "output_type": "stream",
     "text": [
      "=== Dataset Accessibility Check ===\n",
      "Current working directory: /app\n",
      "Contents of current directory: ['docs', 'infrastructure', '.env.prod.example', 'alembic_migrations', 'README.md', 'pytest.ini', '.dvcignore', 'Dockerfile.ml', '.env.example', 'apps', 'scripts', 'Makefile', '.pre-commit-config.yaml', 'alembic.ini', 'core', 'data', 'ui', '__init__.py', 'Dockerfile.mlflow', 'notebooks', 'pyproject.toml', '.dvc']\n",
      "✅ 'data' directory exists\n",
      "Contents of data directory: ['validators', 'XJTU_SY_bearing_datasets', '__pycache__', 'kaggle_pump_sensor_data', 'schemas.py', 'sensor_data.csv', '.gitignore', 'AI4I_2020_uci_dataset', 'generators', 'nasa_bearing_dataset', 'processors', 'MIMII_sound_dataset', 'sensor_data.csv.dvc', 'models', 'exceptions.py', '__init__.py']\n",
      "✅ MIMII dataset directory exists at: data/MIMII_sound_dataset\n",
      "Contents: ['6_dB_pump', '6_dB_valve']\n",
      "✅ 6_dB_valve directory exists\n",
      "Contents: ['valve']\n",
      "✅ data/MIMII_sound_dataset/6_dB_valve/valve exists\n",
      "Found ID directories: ['id_00', 'id_02', 'id_04', 'id_06']\n",
      "Sample normal audio files in id_00: 991 files\n",
      "First few files: ['00000521.wav', '00000730.wav', '00000254.wav']\n",
      "✅ 6_dB_pump directory exists\n",
      "Contents: ['pump']\n",
      "✅ data/MIMII_sound_dataset/6_dB_pump/pump exists\n",
      "Found ID directories: ['id_00', 'id_02', 'id_04', 'id_06']\n",
      "Sample normal audio files in id_00: 1006 files\n",
      "First few files: ['00000521.wav', '00000730.wav', '00000254.wav']\n",
      "=== End Debug Check ===\n",
      "\n"
     ]
    }
   ],
   "source": [
    "# --- Debug: Check Dataset Accessibility ---\n",
    "\n",
    "print(\"=== Dataset Accessibility Check ===\")\n",
    "print(f\"Current working directory: {os.getcwd()}\")\n",
    "print(f\"Contents of current directory: {os.listdir('.')}\")\n",
    "\n",
    "# Check if data directory exists\n",
    "if os.path.exists('data'):\n",
    "    print(f\"✅ 'data' directory exists\")\n",
    "    print(f\"Contents of data directory: {os.listdir('data')}\")\n",
    "    \n",
    "    # Check MIMII dataset specifically\n",
    "    mimii_path = 'data/MIMII_sound_dataset'\n",
    "    if os.path.exists(mimii_path):\n",
    "        print(f\"✅ MIMII dataset directory exists at: {mimii_path}\")\n",
    "        print(f\"Contents: {os.listdir(mimii_path)}\")\n",
    "        \n",
    "        # Check for the specific machine types we need\n",
    "        for machine_dir in ['6_dB_valve', '6_dB_pump']:\n",
    "            machine_path = os.path.join(mimii_path, machine_dir)\n",
    "            if os.path.exists(machine_path):\n",
    "                print(f\"✅ {machine_dir} directory exists\")\n",
    "                print(f\"Contents: {os.listdir(machine_path)}\")\n",
    "                \n",
    "                # Check deeper structure\n",
    "                machine_type = machine_dir.split('_')[-1]\n",
    "                full_path = os.path.join(machine_path, machine_type)\n",
    "                if os.path.exists(full_path):\n",
    "                    print(f\"✅ {full_path} exists\")\n",
    "                    id_dirs = [d for d in os.listdir(full_path) if d.startswith('id_')]\n",
    "                    print(f\"Found ID directories: {id_dirs}\")\n",
    "                    \n",
    "                    # Check for a sample audio file\n",
    "                    if id_dirs:\n",
    "                        sample_id = id_dirs[0]\n",
    "                        normal_path = os.path.join(full_path, sample_id, 'normal')\n",
    "                        if os.path.exists(normal_path):\n",
    "                            wav_files = [f for f in os.listdir(normal_path) if f.endswith('.wav')]\n",
    "                            print(f\"Sample normal audio files in {sample_id}: {len(wav_files)} files\")\n",
    "                            if wav_files:\n",
    "                                print(f\"First few files: {wav_files[:3]}\")\n",
    "                        else:\n",
    "                            print(f\"❌ Normal directory not found: {normal_path}\")\n",
    "                else:\n",
    "                    print(f\"❌ Machine type directory not found: {full_path}\")\n",
    "            else:\n",
    "                print(f\"❌ {machine_dir} directory not found\")\n",
    "    else:\n",
    "        print(f\"❌ MIMII dataset directory not found at: {mimii_path}\")\n",
    "else:\n",
    "    print(f\"❌ 'data' directory not found\")\n",
    "\n",
    "print(\"=== End Debug Check ===\\n\")"
   ]
  },
  {
   "cell_type": "code",
   "execution_count": 3,
   "id": "1106162a",
   "metadata": {
    "execution": {
     "iopub.execute_input": "2025-08-18T18:14:37.908623Z",
     "iopub.status.busy": "2025-08-18T18:14:37.908500Z",
     "iopub.status.idle": "2025-08-18T18:21:57.088902Z",
     "shell.execute_reply": "2025-08-18T18:21:57.088490Z"
    },
    "papermill": {
     "duration": 439.182179,
     "end_time": "2025-08-18T18:21:57.089506",
     "exception": false,
     "start_time": "2025-08-18T18:14:37.907327",
     "status": "completed"
    },
    "tags": []
   },
   "outputs": [
    {
     "name": "stdout",
     "output_type": "stream",
     "text": [
      "Starting audio feature extraction from MIMII dataset...\n",
      "Target machine types: ['6_dB_valve', '6_dB_pump']\n",
      "\n",
      "Processing valve sounds from: data/MIMII_sound_dataset/6_dB_valve/valve\n",
      "Found 4 machine IDs for valve\n",
      "Processing 991 normal files for id_00...\n"
     ]
    },
    {
     "name": "stderr",
     "output_type": "stream",
     "text": [
      "\r\n",
      "Normal id_00:   0%|                                                                          | 0/991 [00:00<?, ?it/s]"
     ]
    },
    {
     "name": "stderr",
     "output_type": "stream",
     "text": [
      "\r\n",
      "Normal id_00:   0%|                                                                | 1/991 [00:12<3:18:31, 12.03s/it]"
     ]
    },
    {
     "name": "stderr",
     "output_type": "stream",
     "text": [
      "\r\n",
      "Normal id_00:   0%|▎                                                                 | 4/991 [00:12<38:06,  2.32s/it]"
     ]
    },
    {
     "name": "stderr",
     "output_type": "stream",
     "text": [
      "\r\n",
      "Normal id_00:   1%|▍                                                                 | 7/991 [00:12<18:05,  1.10s/it]"
     ]
    },
    {
     "name": "stderr",
     "output_type": "stream",
     "text": [
      "\r\n",
      "Normal id_00:   1%|▌                                                                 | 9/991 [00:12<12:14,  1.34it/s]"
     ]
    },
    {
     "name": "stderr",
     "output_type": "stream",
     "text": [
      "\r\n",
      "Normal id_00:   1%|▋                                                                | 11/991 [00:12<08:31,  1.91it/s]"
     ]
    },
    {
     "name": "stderr",
     "output_type": "stream",
     "text": [
      "\r\n",
      "Normal id_00:   1%|▉                                                                | 14/991 [00:12<05:18,  3.07it/s]"
     ]
    },
    {
     "name": "stderr",
     "output_type": "stream",
     "text": [
      "\r\n",
      "Normal id_00:   2%|█                                                                | 17/991 [00:12<03:36,  4.51it/s]"
     ]
    },
    {
     "name": "stderr",
     "output_type": "stream",
     "text": [
      "\r\n",
      "Normal id_00:   2%|█▎                                                               | 20/991 [00:13<02:40,  6.06it/s]"
     ]
    },
    {
     "name": "stderr",
     "output_type": "stream",
     "text": [
      "\r\n",
      "Normal id_00:   2%|█▌                                                               | 23/991 [00:13<02:01,  7.97it/s]"
     ]
    },
    {
     "name": "stderr",
     "output_type": "stream",
     "text": [
      "\r\n",
      "Normal id_00:   3%|█▋                                                               | 26/991 [00:13<01:36, 10.01it/s]"
     ]
    },
    {
     "name": "stderr",
     "output_type": "stream",
     "text": [
      "\r\n",
      "Normal id_00:   3%|█▉                                                               | 29/991 [00:13<01:19, 12.03it/s]"
     ]
    },
    {
     "name": "stderr",
     "output_type": "stream",
     "text": [
      "\r\n",
      "Normal id_00:   3%|██                                                               | 32/991 [00:13<01:08, 13.99it/s]"
     ]
    },
    {
     "name": "stderr",
     "output_type": "stream",
     "text": [
      "\r\n",
      "Normal id_00:   4%|██▎                                                              | 35/991 [00:13<01:00, 15.83it/s]"
     ]
    },
    {
     "name": "stderr",
     "output_type": "stream",
     "text": [
      "\r\n",
      "Normal id_00:   4%|██▍                                                              | 38/991 [00:13<00:57, 16.67it/s]"
     ]
    },
    {
     "name": "stderr",
     "output_type": "stream",
     "text": [
      "\r\n",
      "Normal id_00:   4%|██▋                                                              | 41/991 [00:14<00:54, 17.30it/s]"
     ]
    },
    {
     "name": "stderr",
     "output_type": "stream",
     "text": [
      "\r\n",
      "Normal id_00:   4%|██▉                                                              | 44/991 [00:14<00:52, 18.01it/s]"
     ]
    },
    {
     "name": "stderr",
     "output_type": "stream",
     "text": [
      "\r\n",
      "Normal id_00:   5%|███                                                              | 47/991 [00:14<00:51, 18.35it/s]"
     ]
    },
    {
     "name": "stderr",
     "output_type": "stream",
     "text": [
      "\r\n",
      "Normal id_00:   5%|███▎                                                             | 50/991 [00:14<00:49, 19.03it/s]"
     ]
    },
    {
     "name": "stderr",
     "output_type": "stream",
     "text": [
      "\r\n",
      "Normal id_00:   5%|███▍                                                             | 53/991 [00:14<00:48, 19.33it/s]"
     ]
    },
    {
     "name": "stderr",
     "output_type": "stream",
     "text": [
      "\r\n",
      "Normal id_00:   6%|███▋                                                             | 56/991 [00:14<00:46, 20.14it/s]"
     ]
    },
    {
     "name": "stderr",
     "output_type": "stream",
     "text": [
      "\r\n",
      "Normal id_00:   6%|███▊                                                             | 59/991 [00:14<00:48, 19.13it/s]"
     ]
    },
    {
     "name": "stderr",
     "output_type": "stream",
     "text": [
      "\r\n",
      "Normal id_00:   6%|████                                                             | 62/991 [00:15<00:46, 20.01it/s]"
     ]
    },
    {
     "name": "stderr",
     "output_type": "stream",
     "text": [
      "\r\n",
      "Normal id_00:   7%|████▎                                                            | 65/991 [00:15<00:45, 20.51it/s]"
     ]
    },
    {
     "name": "stderr",
     "output_type": "stream",
     "text": [
      "\r\n",
      "Normal id_00:   7%|████▍                                                            | 68/991 [00:15<00:43, 21.01it/s]"
     ]
    },
    {
     "name": "stderr",
     "output_type": "stream",
     "text": [
      "\r\n",
      "Normal id_00:   7%|████▋                                                            | 71/991 [00:15<00:42, 21.42it/s]"
     ]
    },
    {
     "name": "stderr",
     "output_type": "stream",
     "text": [
      "\r\n",
      "Normal id_00:   7%|████▊                                                            | 74/991 [00:15<00:42, 21.70it/s]"
     ]
    },
    {
     "name": "stderr",
     "output_type": "stream",
     "text": [
      "\r\n",
      "Normal id_00:   8%|█████                                                            | 77/991 [00:15<00:43, 20.94it/s]"
     ]
    },
    {
     "name": "stderr",
     "output_type": "stream",
     "text": [
      "\r\n",
      "Normal id_00:   8%|█████▏                                                           | 80/991 [00:15<00:47, 19.29it/s]"
     ]
    },
    {
     "name": "stderr",
     "output_type": "stream",
     "text": [
      "\r\n",
      "Normal id_00:   8%|█████▍                                                           | 83/991 [00:16<00:45, 20.16it/s]"
     ]
    },
    {
     "name": "stderr",
     "output_type": "stream",
     "text": [
      "\r\n",
      "Normal id_00:   9%|█████▋                                                           | 86/991 [00:16<00:44, 20.48it/s]"
     ]
    },
    {
     "name": "stderr",
     "output_type": "stream",
     "text": [
      "\r\n",
      "Normal id_00:   9%|█████▊                                                           | 89/991 [00:16<00:42, 21.03it/s]"
     ]
    },
    {
     "name": "stderr",
     "output_type": "stream",
     "text": [
      "\r\n",
      "Normal id_00:   9%|██████                                                           | 92/991 [00:16<00:41, 21.41it/s]"
     ]
    },
    {
     "name": "stderr",
     "output_type": "stream",
     "text": [
      "\r\n",
      "Normal id_00:  10%|██████▏                                                          | 95/991 [00:16<00:42, 21.31it/s]"
     ]
    },
    {
     "name": "stderr",
     "output_type": "stream",
     "text": [
      "\r\n",
      "Normal id_00:  10%|██████▍                                                          | 98/991 [00:16<00:42, 20.98it/s]"
     ]
    },
    {
     "name": "stderr",
     "output_type": "stream",
     "text": [
      "\r\n",
      "Normal id_00:  10%|██████▌                                                         | 101/991 [00:16<00:43, 20.38it/s]"
     ]
    },
    {
     "name": "stderr",
     "output_type": "stream",
     "text": [
      "\r\n",
      "Normal id_00:  10%|██████▋                                                         | 104/991 [00:17<00:42, 20.64it/s]"
     ]
    },
    {
     "name": "stderr",
     "output_type": "stream",
     "text": [
      "\r\n",
      "Normal id_00:  11%|██████▉                                                         | 107/991 [00:17<00:42, 20.89it/s]"
     ]
    },
    {
     "name": "stderr",
     "output_type": "stream",
     "text": [
      "\r\n",
      "Normal id_00:  11%|███████                                                         | 110/991 [00:17<00:42, 20.51it/s]"
     ]
    },
    {
     "name": "stderr",
     "output_type": "stream",
     "text": [
      "\r\n",
      "Normal id_00:  11%|███████▎                                                        | 113/991 [00:17<00:42, 20.54it/s]"
     ]
    },
    {
     "name": "stderr",
     "output_type": "stream",
     "text": [
      "\r\n",
      "Normal id_00:  12%|███████▍                                                        | 116/991 [00:17<00:41, 20.92it/s]"
     ]
    },
    {
     "name": "stderr",
     "output_type": "stream",
     "text": [
      "\r\n",
      "Normal id_00:  12%|███████▋                                                        | 119/991 [00:17<00:40, 21.38it/s]"
     ]
    },
    {
     "name": "stderr",
     "output_type": "stream",
     "text": [
      "\r\n",
      "Normal id_00:  12%|███████▉                                                        | 122/991 [00:17<00:42, 20.58it/s]"
     ]
    },
    {
     "name": "stderr",
     "output_type": "stream",
     "text": [
      "\r\n",
      "Normal id_00:  13%|████████                                                        | 125/991 [00:18<00:41, 20.79it/s]"
     ]
    },
    {
     "name": "stderr",
     "output_type": "stream",
     "text": [
      "\r\n",
      "Normal id_00:  13%|████████▎                                                       | 128/991 [00:18<00:41, 20.74it/s]"
     ]
    },
    {
     "name": "stderr",
     "output_type": "stream",
     "text": [
      "\r\n",
      "Normal id_00:  13%|████████▍                                                       | 131/991 [00:18<00:41, 20.75it/s]"
     ]
    },
    {
     "name": "stderr",
     "output_type": "stream",
     "text": [
      "\r\n",
      "Normal id_00:  14%|████████▋                                                       | 134/991 [00:18<00:41, 20.74it/s]"
     ]
    },
    {
     "name": "stderr",
     "output_type": "stream",
     "text": [
      "\r\n",
      "Normal id_00:  14%|████████▊                                                       | 137/991 [00:18<00:41, 20.49it/s]"
     ]
    },
    {
     "name": "stderr",
     "output_type": "stream",
     "text": [
      "\r\n",
      "Normal id_00:  14%|█████████                                                       | 140/991 [00:18<00:41, 20.28it/s]"
     ]
    },
    {
     "name": "stderr",
     "output_type": "stream",
     "text": [
      "\r\n",
      "Normal id_00:  14%|█████████▏                                                      | 143/991 [00:18<00:42, 19.80it/s]"
     ]
    },
    {
     "name": "stderr",
     "output_type": "stream",
     "text": [
      "\r\n",
      "Normal id_00:  15%|█████████▍                                                      | 146/991 [00:19<00:42, 19.79it/s]"
     ]
    },
    {
     "name": "stderr",
     "output_type": "stream",
     "text": [
      "\r\n",
      "Normal id_00:  15%|█████████▌                                                      | 149/991 [00:19<00:41, 20.15it/s]"
     ]
    },
    {
     "name": "stderr",
     "output_type": "stream",
     "text": [
      "\r\n",
      "Normal id_00:  15%|█████████▊                                                      | 152/991 [00:19<00:41, 20.16it/s]"
     ]
    },
    {
     "name": "stderr",
     "output_type": "stream",
     "text": [
      "\r\n",
      "Normal id_00:  16%|██████████                                                      | 155/991 [00:19<00:41, 20.24it/s]"
     ]
    },
    {
     "name": "stderr",
     "output_type": "stream",
     "text": [
      "\r\n",
      "Normal id_00:  16%|██████████▏                                                     | 158/991 [00:19<00:43, 19.34it/s]"
     ]
    },
    {
     "name": "stderr",
     "output_type": "stream",
     "text": [
      "\r\n",
      "Normal id_00:  16%|██████████▎                                                     | 160/991 [00:19<00:43, 19.21it/s]"
     ]
    },
    {
     "name": "stderr",
     "output_type": "stream",
     "text": [
      "\r\n",
      "Normal id_00:  16%|██████████▍                                                     | 162/991 [00:19<00:45, 18.37it/s]"
     ]
    },
    {
     "name": "stderr",
     "output_type": "stream",
     "text": [
      "\r\n",
      "Normal id_00:  17%|██████████▋                                                     | 165/991 [00:20<00:42, 19.46it/s]"
     ]
    },
    {
     "name": "stderr",
     "output_type": "stream",
     "text": [
      "\r\n",
      "Normal id_00:  17%|██████████▊                                                     | 168/991 [00:20<00:40, 20.42it/s]"
     ]
    },
    {
     "name": "stderr",
     "output_type": "stream",
     "text": [
      "\r\n",
      "Normal id_00:  17%|███████████                                                     | 171/991 [00:20<00:39, 20.67it/s]"
     ]
    },
    {
     "name": "stderr",
     "output_type": "stream",
     "text": [
      "\r\n",
      "Normal id_00:  18%|███████████▏                                                    | 174/991 [00:20<00:39, 20.84it/s]"
     ]
    },
    {
     "name": "stderr",
     "output_type": "stream",
     "text": [
      "\r\n",
      "Normal id_00:  18%|███████████▍                                                    | 177/991 [00:20<00:38, 21.28it/s]"
     ]
    },
    {
     "name": "stderr",
     "output_type": "stream",
     "text": [
      "\r\n",
      "Normal id_00:  18%|███████████▌                                                    | 180/991 [00:20<00:39, 20.47it/s]"
     ]
    },
    {
     "name": "stderr",
     "output_type": "stream",
     "text": [
      "\r\n",
      "Normal id_00:  18%|███████████▊                                                    | 183/991 [00:20<00:41, 19.41it/s]"
     ]
    },
    {
     "name": "stderr",
     "output_type": "stream",
     "text": [
      "\r\n",
      "Normal id_00:  19%|████████████                                                    | 186/991 [00:21<00:40, 19.93it/s]"
     ]
    },
    {
     "name": "stderr",
     "output_type": "stream",
     "text": [
      "\r\n",
      "Normal id_00:  19%|████████████▏                                                   | 189/991 [00:21<00:40, 19.94it/s]"
     ]
    },
    {
     "name": "stderr",
     "output_type": "stream",
     "text": [
      "\r\n",
      "Normal id_00:  19%|████████████▍                                                   | 192/991 [00:21<00:39, 20.35it/s]"
     ]
    },
    {
     "name": "stderr",
     "output_type": "stream",
     "text": [
      "\r\n",
      "Normal id_00:  20%|████████████▌                                                   | 195/991 [00:21<00:38, 20.94it/s]"
     ]
    },
    {
     "name": "stderr",
     "output_type": "stream",
     "text": [
      "\r\n",
      "Normal id_00:  20%|████████████▊                                                   | 198/991 [00:21<00:37, 21.30it/s]"
     ]
    },
    {
     "name": "stderr",
     "output_type": "stream",
     "text": [
      "\r\n",
      "Normal id_00:  20%|████████████▉                                                   | 201/991 [00:21<00:36, 21.61it/s]"
     ]
    },
    {
     "name": "stderr",
     "output_type": "stream",
     "text": [
      "\r\n",
      "Normal id_00:  21%|█████████████▏                                                  | 204/991 [00:21<00:37, 20.85it/s]"
     ]
    },
    {
     "name": "stderr",
     "output_type": "stream",
     "text": [
      "\r\n",
      "Normal id_00:  21%|█████████████▎                                                  | 207/991 [00:22<00:37, 20.99it/s]"
     ]
    },
    {
     "name": "stderr",
     "output_type": "stream",
     "text": [
      "\r\n",
      "Normal id_00:  21%|█████████████▌                                                  | 210/991 [00:22<00:36, 21.12it/s]"
     ]
    },
    {
     "name": "stderr",
     "output_type": "stream",
     "text": [
      "\r\n",
      "Normal id_00:  21%|█████████████▊                                                  | 213/991 [00:22<00:36, 21.31it/s]"
     ]
    },
    {
     "name": "stderr",
     "output_type": "stream",
     "text": [
      "\r\n",
      "Normal id_00:  22%|█████████████▉                                                  | 216/991 [00:22<00:36, 21.24it/s]"
     ]
    },
    {
     "name": "stderr",
     "output_type": "stream",
     "text": [
      "\r\n",
      "Normal id_00:  22%|██████████████▏                                                 | 219/991 [00:22<00:36, 21.36it/s]"
     ]
    },
    {
     "name": "stderr",
     "output_type": "stream",
     "text": [
      "\r\n",
      "Normal id_00:  22%|██████████████▎                                                 | 222/991 [00:22<00:36, 21.12it/s]"
     ]
    },
    {
     "name": "stderr",
     "output_type": "stream",
     "text": [
      "\r\n",
      "Normal id_00:  23%|██████████████▌                                                 | 225/991 [00:22<00:36, 20.88it/s]"
     ]
    },
    {
     "name": "stderr",
     "output_type": "stream",
     "text": [
      "\r\n",
      "Normal id_00:  23%|██████████████▋                                                 | 228/991 [00:23<00:36, 21.18it/s]"
     ]
    },
    {
     "name": "stderr",
     "output_type": "stream",
     "text": [
      "\r\n",
      "Normal id_00:  23%|██████████████▉                                                 | 231/991 [00:23<00:35, 21.45it/s]"
     ]
    },
    {
     "name": "stderr",
     "output_type": "stream",
     "text": [
      "\r\n",
      "Normal id_00:  24%|███████████████                                                 | 234/991 [00:23<00:36, 20.99it/s]"
     ]
    },
    {
     "name": "stderr",
     "output_type": "stream",
     "text": [
      "\r\n",
      "Normal id_00:  24%|███████████████▎                                                | 237/991 [00:23<00:36, 20.71it/s]"
     ]
    },
    {
     "name": "stderr",
     "output_type": "stream",
     "text": [
      "\r\n",
      "Normal id_00:  24%|███████████████▍                                                | 240/991 [00:23<00:37, 20.07it/s]"
     ]
    },
    {
     "name": "stderr",
     "output_type": "stream",
     "text": [
      "\r\n",
      "Normal id_00:  25%|███████████████▋                                                | 243/991 [00:23<00:37, 20.13it/s]"
     ]
    },
    {
     "name": "stderr",
     "output_type": "stream",
     "text": [
      "\r\n",
      "Normal id_00:  25%|███████████████▉                                                | 246/991 [00:23<00:37, 19.91it/s]"
     ]
    },
    {
     "name": "stderr",
     "output_type": "stream",
     "text": [
      "\r\n",
      "Normal id_00:  25%|████████████████                                                | 249/991 [00:24<00:36, 20.22it/s]"
     ]
    },
    {
     "name": "stderr",
     "output_type": "stream",
     "text": [
      "\r\n",
      "Normal id_00:  25%|████████████████▎                                               | 252/991 [00:24<00:35, 20.69it/s]"
     ]
    },
    {
     "name": "stderr",
     "output_type": "stream",
     "text": [
      "\r\n",
      "Normal id_00:  26%|████████████████▍                                               | 255/991 [00:24<00:34, 21.14it/s]"
     ]
    },
    {
     "name": "stderr",
     "output_type": "stream",
     "text": [
      "\r\n",
      "Normal id_00:  26%|████████████████▋                                               | 258/991 [00:24<00:35, 20.38it/s]"
     ]
    },
    {
     "name": "stderr",
     "output_type": "stream",
     "text": [
      "\r\n",
      "Normal id_00:  26%|████████████████▊                                               | 261/991 [00:24<00:37, 19.68it/s]"
     ]
    },
    {
     "name": "stderr",
     "output_type": "stream",
     "text": [
      "\r\n",
      "Normal id_00:  27%|████████████████▉                                               | 263/991 [00:24<00:37, 19.16it/s]"
     ]
    },
    {
     "name": "stderr",
     "output_type": "stream",
     "text": [
      "\r\n",
      "Normal id_00:  27%|█████████████████                                               | 265/991 [00:24<00:39, 18.16it/s]"
     ]
    },
    {
     "name": "stderr",
     "output_type": "stream",
     "text": [
      "\r\n",
      "Normal id_00:  27%|█████████████████▏                                              | 267/991 [00:25<00:39, 18.55it/s]"
     ]
    },
    {
     "name": "stderr",
     "output_type": "stream",
     "text": [
      "\r\n",
      "Normal id_00:  27%|█████████████████▎                                              | 269/991 [00:25<00:38, 18.58it/s]"
     ]
    },
    {
     "name": "stderr",
     "output_type": "stream",
     "text": [
      "\r\n",
      "Normal id_00:  27%|█████████████████▌                                              | 271/991 [00:25<00:38, 18.66it/s]"
     ]
    },
    {
     "name": "stderr",
     "output_type": "stream",
     "text": [
      "\r\n",
      "Normal id_00:  28%|█████████████████▋                                              | 274/991 [00:25<00:36, 19.41it/s]"
     ]
    },
    {
     "name": "stderr",
     "output_type": "stream",
     "text": [
      "\r\n",
      "Normal id_00:  28%|█████████████████▉                                              | 277/991 [00:25<00:35, 20.24it/s]"
     ]
    },
    {
     "name": "stderr",
     "output_type": "stream",
     "text": [
      "\r\n",
      "Normal id_00:  28%|██████████████████                                              | 280/991 [00:25<00:33, 20.96it/s]"
     ]
    },
    {
     "name": "stderr",
     "output_type": "stream",
     "text": [
      "\r\n",
      "Normal id_00:  29%|██████████████████▎                                             | 283/991 [00:25<00:34, 20.75it/s]"
     ]
    },
    {
     "name": "stderr",
     "output_type": "stream",
     "text": [
      "\r\n",
      "Normal id_00:  29%|██████████████████▍                                             | 286/991 [00:26<00:35, 20.03it/s]"
     ]
    },
    {
     "name": "stderr",
     "output_type": "stream",
     "text": [
      "\r\n",
      "Normal id_00:  29%|██████████████████▋                                             | 289/991 [00:26<00:33, 20.67it/s]"
     ]
    },
    {
     "name": "stderr",
     "output_type": "stream",
     "text": [
      "\r\n",
      "Normal id_00:  29%|██████████████████▊                                             | 292/991 [00:26<00:35, 19.93it/s]"
     ]
    },
    {
     "name": "stderr",
     "output_type": "stream",
     "text": [
      "\r\n",
      "Normal id_00:  30%|███████████████████                                             | 295/991 [00:26<00:33, 20.64it/s]"
     ]
    },
    {
     "name": "stderr",
     "output_type": "stream",
     "text": [
      "\r\n",
      "Normal id_00:  30%|███████████████████▏                                            | 298/991 [00:26<00:33, 20.83it/s]"
     ]
    },
    {
     "name": "stderr",
     "output_type": "stream",
     "text": [
      "\r\n",
      "Normal id_00:  30%|███████████████████▍                                            | 301/991 [00:26<00:33, 20.82it/s]"
     ]
    },
    {
     "name": "stderr",
     "output_type": "stream",
     "text": [
      "\r\n",
      "Normal id_00:  31%|███████████████████▋                                            | 304/991 [00:26<00:34, 19.72it/s]"
     ]
    },
    {
     "name": "stderr",
     "output_type": "stream",
     "text": [
      "\r\n",
      "Normal id_00:  31%|███████████████████▊                                            | 306/991 [00:26<00:35, 19.51it/s]"
     ]
    },
    {
     "name": "stderr",
     "output_type": "stream",
     "text": [
      "\r\n",
      "Normal id_00:  31%|███████████████████▉                                            | 309/991 [00:27<00:33, 20.13it/s]"
     ]
    },
    {
     "name": "stderr",
     "output_type": "stream",
     "text": [
      "\r\n",
      "Normal id_00:  31%|████████████████████▏                                           | 312/991 [00:27<00:34, 19.89it/s]"
     ]
    },
    {
     "name": "stderr",
     "output_type": "stream",
     "text": [
      "\r\n",
      "Normal id_00:  32%|████████████████████▎                                           | 314/991 [00:27<00:34, 19.81it/s]"
     ]
    },
    {
     "name": "stderr",
     "output_type": "stream",
     "text": [
      "\r\n",
      "Normal id_00:  32%|████████████████████▍                                           | 316/991 [00:27<00:34, 19.77it/s]"
     ]
    },
    {
     "name": "stderr",
     "output_type": "stream",
     "text": [
      "\r\n",
      "Normal id_00:  32%|████████████████████▌                                           | 318/991 [00:27<00:34, 19.71it/s]"
     ]
    },
    {
     "name": "stderr",
     "output_type": "stream",
     "text": [
      "\r\n",
      "Normal id_00:  32%|████████████████████▋                                           | 320/991 [00:27<00:34, 19.68it/s]"
     ]
    },
    {
     "name": "stderr",
     "output_type": "stream",
     "text": [
      "\r\n",
      "Normal id_00:  33%|████████████████████▊                                           | 323/991 [00:27<00:34, 19.18it/s]"
     ]
    },
    {
     "name": "stderr",
     "output_type": "stream",
     "text": [
      "\r\n",
      "Normal id_00:  33%|████████████████████▉                                           | 325/991 [00:27<00:35, 18.69it/s]"
     ]
    },
    {
     "name": "stderr",
     "output_type": "stream",
     "text": [
      "\r\n",
      "Normal id_00:  33%|█████████████████████▏                                          | 328/991 [00:28<00:33, 19.54it/s]"
     ]
    },
    {
     "name": "stderr",
     "output_type": "stream",
     "text": [
      "\r\n",
      "Normal id_00:  33%|█████████████████████▎                                          | 330/991 [00:28<00:34, 19.04it/s]"
     ]
    },
    {
     "name": "stderr",
     "output_type": "stream",
     "text": [
      "\r\n",
      "Normal id_00:  34%|█████████████████████▍                                          | 332/991 [00:28<00:34, 19.25it/s]"
     ]
    },
    {
     "name": "stderr",
     "output_type": "stream",
     "text": [
      "\r\n",
      "Normal id_00:  34%|█████████████████████▋                                          | 335/991 [00:28<00:33, 19.76it/s]"
     ]
    },
    {
     "name": "stderr",
     "output_type": "stream",
     "text": [
      "\r\n",
      "Normal id_00:  34%|█████████████████████▊                                          | 338/991 [00:28<00:32, 19.81it/s]"
     ]
    },
    {
     "name": "stderr",
     "output_type": "stream",
     "text": [
      "\r\n",
      "Normal id_00:  34%|██████████████████████                                          | 341/991 [00:28<00:32, 20.03it/s]"
     ]
    },
    {
     "name": "stderr",
     "output_type": "stream",
     "text": [
      "\r\n",
      "Normal id_00:  35%|██████████████████████▏                                         | 343/991 [00:28<00:34, 18.90it/s]"
     ]
    },
    {
     "name": "stderr",
     "output_type": "stream",
     "text": [
      "\r\n",
      "Normal id_00:  35%|██████████████████████▎                                         | 345/991 [00:29<00:34, 18.72it/s]"
     ]
    },
    {
     "name": "stderr",
     "output_type": "stream",
     "text": [
      "\r\n",
      "Normal id_00:  35%|██████████████████████▍                                         | 347/991 [00:29<00:33, 18.98it/s]"
     ]
    },
    {
     "name": "stderr",
     "output_type": "stream",
     "text": [
      "\r\n",
      "Normal id_00:  35%|██████████████████████▌                                         | 350/991 [00:29<00:31, 20.17it/s]"
     ]
    },
    {
     "name": "stderr",
     "output_type": "stream",
     "text": [
      "\r\n",
      "Normal id_00:  36%|██████████████████████▊                                         | 353/991 [00:29<00:30, 20.85it/s]"
     ]
    },
    {
     "name": "stderr",
     "output_type": "stream",
     "text": [
      "\r\n",
      "Normal id_00:  36%|██████████████████████▉                                         | 356/991 [00:29<00:30, 21.14it/s]"
     ]
    },
    {
     "name": "stderr",
     "output_type": "stream",
     "text": [
      "\r\n",
      "Normal id_00:  36%|███████████████████████▏                                        | 359/991 [00:29<00:32, 19.46it/s]"
     ]
    },
    {
     "name": "stderr",
     "output_type": "stream",
     "text": [
      "\r\n",
      "Normal id_00:  37%|███████████████████████▍                                        | 362/991 [00:29<00:30, 20.30it/s]"
     ]
    },
    {
     "name": "stderr",
     "output_type": "stream",
     "text": [
      "\r\n",
      "Normal id_00:  37%|███████████████████████▌                                        | 365/991 [00:29<00:30, 20.77it/s]"
     ]
    },
    {
     "name": "stderr",
     "output_type": "stream",
     "text": [
      "\r\n",
      "Normal id_00:  37%|███████████████████████▊                                        | 368/991 [00:30<00:29, 21.21it/s]"
     ]
    },
    {
     "name": "stderr",
     "output_type": "stream",
     "text": [
      "\r\n",
      "Normal id_00:  37%|███████████████████████▉                                        | 371/991 [00:30<00:30, 20.37it/s]"
     ]
    },
    {
     "name": "stderr",
     "output_type": "stream",
     "text": [
      "\r\n",
      "Normal id_00:  38%|████████████████████████▏                                       | 374/991 [00:30<00:30, 20.48it/s]"
     ]
    },
    {
     "name": "stderr",
     "output_type": "stream",
     "text": [
      "\r\n",
      "Normal id_00:  38%|████████████████████████▎                                       | 377/991 [00:30<00:29, 20.61it/s]"
     ]
    },
    {
     "name": "stderr",
     "output_type": "stream",
     "text": [
      "\r\n",
      "Normal id_00:  38%|████████████████████████▌                                       | 380/991 [00:30<00:29, 20.82it/s]"
     ]
    },
    {
     "name": "stderr",
     "output_type": "stream",
     "text": [
      "\r\n",
      "Normal id_00:  39%|████████████████████████▋                                       | 383/991 [00:30<00:29, 20.69it/s]"
     ]
    },
    {
     "name": "stderr",
     "output_type": "stream",
     "text": [
      "\r\n",
      "Normal id_00:  39%|████████████████████████▉                                       | 386/991 [00:30<00:29, 20.73it/s]"
     ]
    },
    {
     "name": "stderr",
     "output_type": "stream",
     "text": [
      "\r\n",
      "Normal id_00:  39%|█████████████████████████                                       | 389/991 [00:31<00:28, 20.77it/s]"
     ]
    },
    {
     "name": "stderr",
     "output_type": "stream",
     "text": [
      "\r\n",
      "Normal id_00:  40%|█████████████████████████▎                                      | 392/991 [00:31<00:29, 20.29it/s]"
     ]
    },
    {
     "name": "stderr",
     "output_type": "stream",
     "text": [
      "\r\n",
      "Normal id_00:  40%|█████████████████████████▌                                      | 395/991 [00:31<00:29, 20.09it/s]"
     ]
    },
    {
     "name": "stderr",
     "output_type": "stream",
     "text": [
      "\r\n",
      "Normal id_00:  40%|█████████████████████████▋                                      | 398/991 [00:31<00:29, 20.29it/s]"
     ]
    },
    {
     "name": "stderr",
     "output_type": "stream",
     "text": [
      "\r\n",
      "Normal id_00:  40%|█████████████████████████▉                                      | 401/991 [00:31<00:28, 20.38it/s]"
     ]
    },
    {
     "name": "stderr",
     "output_type": "stream",
     "text": [
      "\r\n",
      "Normal id_00:  41%|██████████████████████████                                      | 404/991 [00:31<00:30, 19.41it/s]"
     ]
    },
    {
     "name": "stderr",
     "output_type": "stream",
     "text": [
      "\r\n",
      "Normal id_00:  41%|██████████████████████████▎                                     | 407/991 [00:32<00:29, 19.97it/s]"
     ]
    },
    {
     "name": "stderr",
     "output_type": "stream",
     "text": [
      "\r\n",
      "Normal id_00:  41%|██████████████████████████▍                                     | 410/991 [00:32<00:29, 19.91it/s]"
     ]
    },
    {
     "name": "stderr",
     "output_type": "stream",
     "text": [
      "\r\n",
      "Normal id_00:  42%|██████████████████████████▌                                     | 412/991 [00:32<00:29, 19.82it/s]"
     ]
    },
    {
     "name": "stderr",
     "output_type": "stream",
     "text": [
      "\r\n",
      "Normal id_00:  42%|██████████████████████████▊                                     | 415/991 [00:32<00:28, 20.24it/s]"
     ]
    },
    {
     "name": "stderr",
     "output_type": "stream",
     "text": [
      "\r\n",
      "Normal id_00:  42%|██████████████████████████▉                                     | 418/991 [00:32<00:28, 20.08it/s]"
     ]
    },
    {
     "name": "stderr",
     "output_type": "stream",
     "text": [
      "\r\n",
      "Normal id_00:  42%|███████████████████████████▏                                    | 421/991 [00:32<00:27, 20.73it/s]"
     ]
    },
    {
     "name": "stderr",
     "output_type": "stream",
     "text": [
      "\r\n",
      "Normal id_00:  43%|███████████████████████████▍                                    | 424/991 [00:32<00:26, 21.28it/s]"
     ]
    },
    {
     "name": "stderr",
     "output_type": "stream",
     "text": [
      "\r\n",
      "Normal id_00:  43%|███████████████████████████▌                                    | 427/991 [00:33<00:27, 20.50it/s]"
     ]
    },
    {
     "name": "stderr",
     "output_type": "stream",
     "text": [
      "\r\n",
      "Normal id_00:  43%|███████████████████████████▊                                    | 430/991 [00:33<00:26, 21.08it/s]"
     ]
    },
    {
     "name": "stderr",
     "output_type": "stream",
     "text": [
      "\r\n",
      "Normal id_00:  44%|███████████████████████████▉                                    | 433/991 [00:33<00:27, 20.59it/s]"
     ]
    },
    {
     "name": "stderr",
     "output_type": "stream",
     "text": [
      "\r\n",
      "Normal id_00:  44%|████████████████████████████▏                                   | 436/991 [00:33<00:27, 20.23it/s]"
     ]
    },
    {
     "name": "stderr",
     "output_type": "stream",
     "text": [
      "\r\n",
      "Normal id_00:  44%|████████████████████████████▎                                   | 439/991 [00:33<00:26, 20.85it/s]"
     ]
    },
    {
     "name": "stderr",
     "output_type": "stream",
     "text": [
      "\r\n",
      "Normal id_00:  45%|████████████████████████████▌                                   | 442/991 [00:33<00:26, 20.58it/s]"
     ]
    },
    {
     "name": "stderr",
     "output_type": "stream",
     "text": [
      "\r\n",
      "Normal id_00:  45%|████████████████████████████▋                                   | 445/991 [00:33<00:27, 19.65it/s]"
     ]
    },
    {
     "name": "stderr",
     "output_type": "stream",
     "text": [
      "\r\n",
      "Normal id_00:  45%|████████████████████████████▉                                   | 448/991 [00:34<00:27, 19.94it/s]"
     ]
    },
    {
     "name": "stderr",
     "output_type": "stream",
     "text": [
      "\r\n",
      "Normal id_00:  46%|█████████████████████████████▏                                  | 451/991 [00:34<00:30, 17.84it/s]"
     ]
    },
    {
     "name": "stderr",
     "output_type": "stream",
     "text": [
      "\r\n",
      "Normal id_00:  46%|█████████████████████████████▎                                  | 453/991 [00:34<00:29, 18.19it/s]"
     ]
    },
    {
     "name": "stderr",
     "output_type": "stream",
     "text": [
      "\r\n",
      "Normal id_00:  46%|█████████████████████████████▍                                  | 455/991 [00:34<00:28, 18.56it/s]"
     ]
    },
    {
     "name": "stderr",
     "output_type": "stream",
     "text": [
      "\r\n",
      "Normal id_00:  46%|█████████████████████████████▌                                  | 457/991 [00:34<00:29, 18.39it/s]"
     ]
    },
    {
     "name": "stderr",
     "output_type": "stream",
     "text": [
      "\r\n",
      "Normal id_00:  46%|█████████████████████████████▋                                  | 459/991 [00:34<00:28, 18.51it/s]"
     ]
    },
    {
     "name": "stderr",
     "output_type": "stream",
     "text": [
      "\r\n",
      "Normal id_00:  47%|█████████████████████████████▊                                  | 461/991 [00:34<00:28, 18.74it/s]"
     ]
    },
    {
     "name": "stderr",
     "output_type": "stream",
     "text": [
      "\r\n",
      "Normal id_00:  47%|█████████████████████████████▉                                  | 463/991 [00:34<00:28, 18.57it/s]"
     ]
    },
    {
     "name": "stderr",
     "output_type": "stream",
     "text": [
      "\r\n",
      "Normal id_00:  47%|██████████████████████████████                                  | 465/991 [00:34<00:28, 18.78it/s]"
     ]
    },
    {
     "name": "stderr",
     "output_type": "stream",
     "text": [
      "\r\n",
      "Normal id_00:  47%|██████████████████████████████▏                                 | 467/991 [00:35<00:28, 18.25it/s]"
     ]
    },
    {
     "name": "stderr",
     "output_type": "stream",
     "text": [
      "\r\n",
      "Normal id_00:  47%|██████████████████████████████▎                                 | 470/991 [00:35<00:26, 19.45it/s]"
     ]
    },
    {
     "name": "stderr",
     "output_type": "stream",
     "text": [
      "\r\n",
      "Normal id_00:  48%|██████████████████████████████▌                                 | 473/991 [00:35<00:25, 20.44it/s]"
     ]
    },
    {
     "name": "stderr",
     "output_type": "stream",
     "text": [
      "\r\n",
      "Normal id_00:  48%|██████████████████████████████▋                                 | 476/991 [00:35<00:24, 20.88it/s]"
     ]
    },
    {
     "name": "stderr",
     "output_type": "stream",
     "text": [
      "\r\n",
      "Normal id_00:  48%|██████████████████████████████▉                                 | 479/991 [00:35<00:24, 20.84it/s]"
     ]
    },
    {
     "name": "stderr",
     "output_type": "stream",
     "text": [
      "\r\n",
      "Normal id_00:  49%|███████████████████████████████▏                                | 482/991 [00:35<00:23, 21.33it/s]"
     ]
    },
    {
     "name": "stderr",
     "output_type": "stream",
     "text": [
      "\r\n",
      "Normal id_00:  49%|███████████████████████████████▎                                | 485/991 [00:35<00:24, 20.45it/s]"
     ]
    },
    {
     "name": "stderr",
     "output_type": "stream",
     "text": [
      "\r\n",
      "Normal id_00:  49%|███████████████████████████████▌                                | 488/991 [00:36<00:24, 20.30it/s]"
     ]
    },
    {
     "name": "stderr",
     "output_type": "stream",
     "text": [
      "\r\n",
      "Normal id_00:  50%|███████████████████████████████▋                                | 491/991 [00:36<00:23, 20.88it/s]"
     ]
    },
    {
     "name": "stderr",
     "output_type": "stream",
     "text": [
      "\r\n",
      "Normal id_00:  50%|███████████████████████████████▉                                | 494/991 [00:36<00:23, 20.73it/s]"
     ]
    },
    {
     "name": "stderr",
     "output_type": "stream",
     "text": [
      "\r\n",
      "Normal id_00:  50%|████████████████████████████████                                | 497/991 [00:36<00:24, 20.34it/s]"
     ]
    },
    {
     "name": "stderr",
     "output_type": "stream",
     "text": [
      "\r\n",
      "Normal id_00:  50%|████████████████████████████████▎                               | 500/991 [00:36<00:23, 20.81it/s]"
     ]
    },
    {
     "name": "stderr",
     "output_type": "stream",
     "text": [
      "\r\n",
      "Normal id_00:  51%|████████████████████████████████▍                               | 503/991 [00:36<00:23, 20.73it/s]"
     ]
    },
    {
     "name": "stderr",
     "output_type": "stream",
     "text": [
      "\r\n",
      "Normal id_00:  51%|████████████████████████████████▋                               | 506/991 [00:36<00:23, 20.98it/s]"
     ]
    },
    {
     "name": "stderr",
     "output_type": "stream",
     "text": [
      "\r\n",
      "Normal id_00:  51%|████████████████████████████████▊                               | 509/991 [00:37<00:23, 20.33it/s]"
     ]
    },
    {
     "name": "stderr",
     "output_type": "stream",
     "text": [
      "\r\n",
      "Normal id_00:  52%|█████████████████████████████████                               | 512/991 [00:37<00:23, 20.71it/s]"
     ]
    },
    {
     "name": "stderr",
     "output_type": "stream",
     "text": [
      "\r\n",
      "Normal id_00:  52%|█████████████████████████████████▎                              | 515/991 [00:37<00:22, 20.83it/s]"
     ]
    },
    {
     "name": "stderr",
     "output_type": "stream",
     "text": [
      "\r\n",
      "Normal id_00:  52%|█████████████████████████████████▍                              | 518/991 [00:37<00:23, 20.49it/s]"
     ]
    },
    {
     "name": "stderr",
     "output_type": "stream",
     "text": [
      "\r\n",
      "Normal id_00:  53%|█████████████████████████████████▋                              | 521/991 [00:37<00:22, 20.81it/s]"
     ]
    },
    {
     "name": "stderr",
     "output_type": "stream",
     "text": [
      "\r\n",
      "Normal id_00:  53%|█████████████████████████████████▊                              | 524/991 [00:37<00:22, 20.75it/s]"
     ]
    },
    {
     "name": "stderr",
     "output_type": "stream",
     "text": [
      "\r\n",
      "Normal id_00:  53%|██████████████████████████████████                              | 527/991 [00:37<00:22, 20.78it/s]"
     ]
    },
    {
     "name": "stderr",
     "output_type": "stream",
     "text": [
      "\r\n",
      "Normal id_00:  53%|██████████████████████████████████▏                             | 530/991 [00:38<00:22, 20.84it/s]"
     ]
    },
    {
     "name": "stderr",
     "output_type": "stream",
     "text": [
      "\r\n",
      "Normal id_00:  54%|██████████████████████████████████▍                             | 533/991 [00:38<00:21, 20.86it/s]"
     ]
    },
    {
     "name": "stderr",
     "output_type": "stream",
     "text": [
      "\r\n",
      "Normal id_00:  54%|██████████████████████████████████▌                             | 536/991 [00:38<00:21, 20.89it/s]"
     ]
    },
    {
     "name": "stderr",
     "output_type": "stream",
     "text": [
      "\r\n",
      "Normal id_00:  54%|██████████████████████████████████▊                             | 539/991 [00:38<00:21, 20.89it/s]"
     ]
    },
    {
     "name": "stderr",
     "output_type": "stream",
     "text": [
      "\r\n",
      "Normal id_00:  55%|███████████████████████████████████                             | 542/991 [00:38<00:21, 20.93it/s]"
     ]
    },
    {
     "name": "stderr",
     "output_type": "stream",
     "text": [
      "\r\n",
      "Normal id_00:  55%|███████████████████████████████████▏                            | 545/991 [00:38<00:21, 21.03it/s]"
     ]
    },
    {
     "name": "stderr",
     "output_type": "stream",
     "text": [
      "\r\n",
      "Normal id_00:  55%|███████████████████████████████████▍                            | 548/991 [00:39<00:22, 20.11it/s]"
     ]
    },
    {
     "name": "stderr",
     "output_type": "stream",
     "text": [
      "\r\n",
      "Normal id_00:  56%|███████████████████████████████████▌                            | 551/991 [00:39<00:22, 19.36it/s]"
     ]
    },
    {
     "name": "stderr",
     "output_type": "stream",
     "text": [
      "\r\n",
      "Normal id_00:  56%|███████████████████████████████████▋                            | 553/991 [00:39<00:22, 19.36it/s]"
     ]
    },
    {
     "name": "stderr",
     "output_type": "stream",
     "text": [
      "\r\n",
      "Normal id_00:  56%|███████████████████████████████████▉                            | 556/991 [00:39<00:21, 20.05it/s]"
     ]
    },
    {
     "name": "stderr",
     "output_type": "stream",
     "text": [
      "\r\n",
      "Normal id_00:  56%|████████████████████████████████████                            | 559/991 [00:39<00:21, 20.45it/s]"
     ]
    },
    {
     "name": "stderr",
     "output_type": "stream",
     "text": [
      "\r\n",
      "Normal id_00:  57%|████████████████████████████████████▎                           | 562/991 [00:39<00:21, 19.61it/s]"
     ]
    },
    {
     "name": "stderr",
     "output_type": "stream",
     "text": [
      "\r\n",
      "Normal id_00:  57%|████████████████████████████████████▍                           | 564/991 [00:39<00:22, 19.39it/s]"
     ]
    },
    {
     "name": "stderr",
     "output_type": "stream",
     "text": [
      "\r\n",
      "Normal id_00:  57%|████████████████████████████████████▌                           | 566/991 [00:39<00:23, 18.18it/s]"
     ]
    },
    {
     "name": "stderr",
     "output_type": "stream",
     "text": [
      "\r\n",
      "Normal id_00:  57%|████████████████████████████████████▋                           | 569/991 [00:40<00:22, 18.86it/s]"
     ]
    },
    {
     "name": "stderr",
     "output_type": "stream",
     "text": [
      "\r\n",
      "Normal id_00:  58%|████████████████████████████████████▉                           | 572/991 [00:40<00:21, 19.87it/s]"
     ]
    },
    {
     "name": "stderr",
     "output_type": "stream",
     "text": [
      "\r\n",
      "Normal id_00:  58%|█████████████████████████████████████▏                          | 575/991 [00:40<00:20, 20.02it/s]"
     ]
    },
    {
     "name": "stderr",
     "output_type": "stream",
     "text": [
      "\r\n",
      "Normal id_00:  58%|█████████████████████████████████████▎                          | 577/991 [00:40<00:20, 19.87it/s]"
     ]
    },
    {
     "name": "stderr",
     "output_type": "stream",
     "text": [
      "\r\n",
      "Normal id_00:  59%|█████████████████████████████████████▍                          | 580/991 [00:40<00:20, 20.43it/s]"
     ]
    },
    {
     "name": "stderr",
     "output_type": "stream",
     "text": [
      "\r\n",
      "Normal id_00:  59%|█████████████████████████████████████▋                          | 583/991 [00:40<00:19, 21.04it/s]"
     ]
    },
    {
     "name": "stderr",
     "output_type": "stream",
     "text": [
      "\r\n",
      "Normal id_00:  59%|█████████████████████████████████████▊                          | 586/991 [00:40<00:20, 20.14it/s]"
     ]
    },
    {
     "name": "stderr",
     "output_type": "stream",
     "text": [
      "\r\n",
      "Normal id_00:  59%|██████████████████████████████████████                          | 589/991 [00:41<00:19, 20.76it/s]"
     ]
    },
    {
     "name": "stderr",
     "output_type": "stream",
     "text": [
      "\r\n",
      "Normal id_00:  60%|██████████████████████████████████████▏                         | 592/991 [00:41<00:19, 20.34it/s]"
     ]
    },
    {
     "name": "stderr",
     "output_type": "stream",
     "text": [
      "\r\n",
      "Normal id_00:  60%|██████████████████████████████████████▍                         | 595/991 [00:41<00:19, 20.75it/s]"
     ]
    },
    {
     "name": "stderr",
     "output_type": "stream",
     "text": [
      "\r\n",
      "Normal id_00:  60%|██████████████████████████████████████▌                         | 598/991 [00:41<00:19, 20.40it/s]"
     ]
    },
    {
     "name": "stderr",
     "output_type": "stream",
     "text": [
      "\r\n",
      "Normal id_00:  61%|██████████████████████████████████████▊                         | 601/991 [00:41<00:18, 20.80it/s]"
     ]
    },
    {
     "name": "stderr",
     "output_type": "stream",
     "text": [
      "\r\n",
      "Normal id_00:  61%|███████████████████████████████████████                         | 604/991 [00:41<00:18, 21.04it/s]"
     ]
    },
    {
     "name": "stderr",
     "output_type": "stream",
     "text": [
      "\r\n",
      "Normal id_00:  61%|███████████████████████████████████████▏                        | 607/991 [00:41<00:19, 19.63it/s]"
     ]
    },
    {
     "name": "stderr",
     "output_type": "stream",
     "text": [
      "\r\n",
      "Normal id_00:  62%|███████████████████████████████████████▍                        | 610/991 [00:42<00:19, 19.89it/s]"
     ]
    },
    {
     "name": "stderr",
     "output_type": "stream",
     "text": [
      "\r\n",
      "Normal id_00:  62%|███████████████████████████████████████▌                        | 613/991 [00:42<00:18, 20.14it/s]"
     ]
    },
    {
     "name": "stderr",
     "output_type": "stream",
     "text": [
      "\r\n",
      "Normal id_00:  62%|███████████████████████████████████████▊                        | 616/991 [00:42<00:19, 19.70it/s]"
     ]
    },
    {
     "name": "stderr",
     "output_type": "stream",
     "text": [
      "\r\n",
      "Normal id_00:  62%|███████████████████████████████████████▉                        | 618/991 [00:42<00:19, 19.62it/s]"
     ]
    },
    {
     "name": "stderr",
     "output_type": "stream",
     "text": [
      "\r\n",
      "Normal id_00:  63%|████████████████████████████████████████                        | 620/991 [00:42<00:18, 19.59it/s]"
     ]
    },
    {
     "name": "stderr",
     "output_type": "stream",
     "text": [
      "\r\n",
      "Normal id_00:  63%|████████████████████████████████████████▏                       | 623/991 [00:42<00:18, 19.88it/s]"
     ]
    },
    {
     "name": "stderr",
     "output_type": "stream",
     "text": [
      "\r\n",
      "Normal id_00:  63%|████████████████████████████████████████▎                       | 625/991 [00:42<00:20, 18.12it/s]"
     ]
    },
    {
     "name": "stderr",
     "output_type": "stream",
     "text": [
      "\r\n",
      "Normal id_00:  63%|████████████████████████████████████████▍                       | 627/991 [00:43<00:19, 18.33it/s]"
     ]
    },
    {
     "name": "stderr",
     "output_type": "stream",
     "text": [
      "\r\n",
      "Normal id_00:  64%|████████████████████████████████████████▋                       | 630/991 [00:43<00:18, 19.10it/s]"
     ]
    },
    {
     "name": "stderr",
     "output_type": "stream",
     "text": [
      "\r\n",
      "Normal id_00:  64%|████████████████████████████████████████▊                       | 632/991 [00:43<00:18, 19.23it/s]"
     ]
    },
    {
     "name": "stderr",
     "output_type": "stream",
     "text": [
      "\r\n",
      "Normal id_00:  64%|█████████████████████████████████████████                       | 635/991 [00:43<00:17, 19.92it/s]"
     ]
    },
    {
     "name": "stderr",
     "output_type": "stream",
     "text": [
      "\r\n",
      "Normal id_00:  64%|█████████████████████████████████████████▏                      | 638/991 [00:43<00:17, 20.64it/s]"
     ]
    },
    {
     "name": "stderr",
     "output_type": "stream",
     "text": [
      "\r\n",
      "Normal id_00:  65%|█████████████████████████████████████████▍                      | 641/991 [00:43<00:16, 21.18it/s]"
     ]
    },
    {
     "name": "stderr",
     "output_type": "stream",
     "text": [
      "\r\n",
      "Normal id_00:  65%|█████████████████████████████████████████▌                      | 644/991 [00:43<00:16, 21.50it/s]"
     ]
    },
    {
     "name": "stderr",
     "output_type": "stream",
     "text": [
      "\r\n",
      "Normal id_00:  65%|█████████████████████████████████████████▊                      | 647/991 [00:43<00:17, 19.98it/s]"
     ]
    },
    {
     "name": "stderr",
     "output_type": "stream",
     "text": [
      "\r\n",
      "Normal id_00:  66%|█████████████████████████████████████████▉                      | 650/991 [00:44<00:17, 19.91it/s]"
     ]
    },
    {
     "name": "stderr",
     "output_type": "stream",
     "text": [
      "\r\n",
      "Normal id_00:  66%|██████████████████████████████████████████▏                     | 653/991 [00:44<00:17, 19.67it/s]"
     ]
    },
    {
     "name": "stderr",
     "output_type": "stream",
     "text": [
      "\r\n",
      "Normal id_00:  66%|██████████████████████████████████████████▎                     | 655/991 [00:44<00:17, 19.47it/s]"
     ]
    },
    {
     "name": "stderr",
     "output_type": "stream",
     "text": [
      "\r\n",
      "Normal id_00:  66%|██████████████████████████████████████████▍                     | 658/991 [00:44<00:16, 19.86it/s]"
     ]
    },
    {
     "name": "stderr",
     "output_type": "stream",
     "text": [
      "\r\n",
      "Normal id_00:  67%|██████████████████████████████████████████▌                     | 660/991 [00:44<00:18, 18.32it/s]"
     ]
    },
    {
     "name": "stderr",
     "output_type": "stream",
     "text": [
      "\r\n",
      "Normal id_00:  67%|██████████████████████████████████████████▊                     | 663/991 [00:44<00:16, 19.41it/s]"
     ]
    },
    {
     "name": "stderr",
     "output_type": "stream",
     "text": [
      "\r\n",
      "Normal id_00:  67%|██████████████████████████████████████████▉                     | 665/991 [00:44<00:17, 18.89it/s]"
     ]
    },
    {
     "name": "stderr",
     "output_type": "stream",
     "text": [
      "\r\n",
      "Normal id_00:  67%|███████████████████████████████████████████▏                    | 668/991 [00:45<00:16, 19.13it/s]"
     ]
    },
    {
     "name": "stderr",
     "output_type": "stream",
     "text": [
      "\r\n",
      "Normal id_00:  68%|███████████████████████████████████████████▎                    | 670/991 [00:45<00:16, 19.07it/s]"
     ]
    },
    {
     "name": "stderr",
     "output_type": "stream",
     "text": [
      "\r\n",
      "Normal id_00:  68%|███████████████████████████████████████████▍                    | 672/991 [00:45<00:17, 18.48it/s]"
     ]
    },
    {
     "name": "stderr",
     "output_type": "stream",
     "text": [
      "\r\n",
      "Normal id_00:  68%|███████████████████████████████████████████▌                    | 674/991 [00:45<00:17, 18.35it/s]"
     ]
    },
    {
     "name": "stderr",
     "output_type": "stream",
     "text": [
      "\r\n",
      "Normal id_00:  68%|███████████████████████████████████████████▋                    | 676/991 [00:45<00:17, 18.45it/s]"
     ]
    },
    {
     "name": "stderr",
     "output_type": "stream",
     "text": [
      "\r\n",
      "Normal id_00:  68%|███████████████████████████████████████████▊                    | 678/991 [00:45<00:17, 18.40it/s]"
     ]
    },
    {
     "name": "stderr",
     "output_type": "stream",
     "text": [
      "\r\n",
      "Normal id_00:  69%|███████████████████████████████████████████▉                    | 681/991 [00:45<00:16, 19.09it/s]"
     ]
    },
    {
     "name": "stderr",
     "output_type": "stream",
     "text": [
      "\r\n",
      "Normal id_00:  69%|████████████████████████████████████████████                    | 683/991 [00:45<00:18, 17.10it/s]"
     ]
    },
    {
     "name": "stderr",
     "output_type": "stream",
     "text": [
      "\r\n",
      "Normal id_00:  69%|████████████████████████████████████████████▎                   | 686/991 [00:46<00:16, 18.63it/s]"
     ]
    },
    {
     "name": "stderr",
     "output_type": "stream",
     "text": [
      "\r\n",
      "Normal id_00:  70%|████████████████████████████████████████████▍                   | 689/991 [00:46<00:15, 19.76it/s]"
     ]
    },
    {
     "name": "stderr",
     "output_type": "stream",
     "text": [
      "\r\n",
      "Normal id_00:  70%|████████████████████████████████████████████▋                   | 692/991 [00:46<00:14, 20.54it/s]"
     ]
    },
    {
     "name": "stderr",
     "output_type": "stream",
     "text": [
      "\r\n",
      "Normal id_00:  70%|████████████████████████████████████████████▉                   | 695/991 [00:46<00:14, 20.70it/s]"
     ]
    },
    {
     "name": "stderr",
     "output_type": "stream",
     "text": [
      "\r\n",
      "Normal id_00:  70%|█████████████████████████████████████████████                   | 698/991 [00:46<00:14, 20.37it/s]"
     ]
    },
    {
     "name": "stderr",
     "output_type": "stream",
     "text": [
      "\r\n",
      "Normal id_00:  71%|█████████████████████████████████████████████▎                  | 701/991 [00:46<00:14, 20.64it/s]"
     ]
    },
    {
     "name": "stderr",
     "output_type": "stream",
     "text": [
      "\r\n",
      "Normal id_00:  71%|█████████████████████████████████████████████▍                  | 704/991 [00:46<00:14, 20.48it/s]"
     ]
    },
    {
     "name": "stderr",
     "output_type": "stream",
     "text": [
      "\r\n",
      "Normal id_00:  71%|█████████████████████████████████████████████▋                  | 707/991 [00:47<00:13, 20.61it/s]"
     ]
    },
    {
     "name": "stderr",
     "output_type": "stream",
     "text": [
      "\r\n",
      "Normal id_00:  72%|█████████████████████████████████████████████▊                  | 710/991 [00:47<00:13, 20.16it/s]"
     ]
    },
    {
     "name": "stderr",
     "output_type": "stream",
     "text": [
      "\r\n",
      "Normal id_00:  72%|██████████████████████████████████████████████                  | 713/991 [00:47<00:13, 20.17it/s]"
     ]
    },
    {
     "name": "stderr",
     "output_type": "stream",
     "text": [
      "\r\n",
      "Normal id_00:  72%|██████████████████████████████████████████████▏                 | 716/991 [00:47<00:13, 19.71it/s]"
     ]
    },
    {
     "name": "stderr",
     "output_type": "stream",
     "text": [
      "\r\n",
      "Normal id_00:  73%|██████████████████████████████████████████████▍                 | 719/991 [00:47<00:13, 19.76it/s]"
     ]
    },
    {
     "name": "stderr",
     "output_type": "stream",
     "text": [
      "\r\n",
      "Normal id_00:  73%|██████████████████████████████████████████████▋                 | 722/991 [00:47<00:13, 19.72it/s]"
     ]
    },
    {
     "name": "stderr",
     "output_type": "stream",
     "text": [
      "\r\n",
      "Normal id_00:  73%|██████████████████████████████████████████████▊                 | 724/991 [00:47<00:13, 19.22it/s]"
     ]
    },
    {
     "name": "stderr",
     "output_type": "stream",
     "text": [
      "\r\n",
      "Normal id_00:  73%|██████████████████████████████████████████████▉                 | 726/991 [00:48<00:13, 19.24it/s]"
     ]
    },
    {
     "name": "stderr",
     "output_type": "stream",
     "text": [
      "\r\n",
      "Normal id_00:  73%|███████████████████████████████████████████████                 | 728/991 [00:48<00:13, 19.32it/s]"
     ]
    },
    {
     "name": "stderr",
     "output_type": "stream",
     "text": [
      "\r\n",
      "Normal id_00:  74%|███████████████████████████████████████████████▏                | 731/991 [00:48<00:13, 19.64it/s]"
     ]
    },
    {
     "name": "stderr",
     "output_type": "stream",
     "text": [
      "\r\n",
      "Normal id_00:  74%|███████████████████████████████████████████████▎                | 733/991 [00:48<00:13, 19.69it/s]"
     ]
    },
    {
     "name": "stderr",
     "output_type": "stream",
     "text": [
      "\r\n",
      "Normal id_00:  74%|███████████████████████████████████████████████▌                | 736/991 [00:48<00:12, 20.08it/s]"
     ]
    },
    {
     "name": "stderr",
     "output_type": "stream",
     "text": [
      "\r\n",
      "Normal id_00:  75%|███████████████████████████████████████████████▋                | 739/991 [00:48<00:12, 20.13it/s]"
     ]
    },
    {
     "name": "stderr",
     "output_type": "stream",
     "text": [
      "\r\n",
      "Normal id_00:  75%|███████████████████████████████████████████████▉                | 742/991 [00:48<00:12, 19.74it/s]"
     ]
    },
    {
     "name": "stderr",
     "output_type": "stream",
     "text": [
      "\r\n",
      "Normal id_00:  75%|████████████████████████████████████████████████                | 745/991 [00:48<00:12, 20.41it/s]"
     ]
    },
    {
     "name": "stderr",
     "output_type": "stream",
     "text": [
      "\r\n",
      "Normal id_00:  75%|████████████████████████████████████████████████▎               | 748/991 [00:49<00:11, 20.54it/s]"
     ]
    },
    {
     "name": "stderr",
     "output_type": "stream",
     "text": [
      "\r\n",
      "Normal id_00:  76%|████████████████████████████████████████████████▌               | 751/991 [00:49<00:11, 20.68it/s]"
     ]
    },
    {
     "name": "stderr",
     "output_type": "stream",
     "text": [
      "\r\n",
      "Normal id_00:  76%|████████████████████████████████████████████████▋               | 754/991 [00:49<00:11, 20.25it/s]"
     ]
    },
    {
     "name": "stderr",
     "output_type": "stream",
     "text": [
      "\r\n",
      "Normal id_00:  76%|████████████████████████████████████████████████▉               | 757/991 [00:49<00:11, 20.60it/s]"
     ]
    },
    {
     "name": "stderr",
     "output_type": "stream",
     "text": [
      "\r\n",
      "Normal id_00:  77%|█████████████████████████████████████████████████               | 760/991 [00:49<00:11, 19.40it/s]"
     ]
    },
    {
     "name": "stderr",
     "output_type": "stream",
     "text": [
      "\r\n",
      "Normal id_00:  77%|█████████████████████████████████████████████████▏              | 762/991 [00:49<00:11, 19.52it/s]"
     ]
    },
    {
     "name": "stderr",
     "output_type": "stream",
     "text": [
      "\r\n",
      "Normal id_00:  77%|█████████████████████████████████████████████████▎              | 764/991 [00:49<00:12, 18.91it/s]"
     ]
    },
    {
     "name": "stderr",
     "output_type": "stream",
     "text": [
      "\r\n",
      "Normal id_00:  77%|█████████████████████████████████████████████████▌              | 767/991 [00:50<00:11, 19.51it/s]"
     ]
    },
    {
     "name": "stderr",
     "output_type": "stream",
     "text": [
      "\r\n",
      "Normal id_00:  78%|█████████████████████████████████████████████████▋              | 769/991 [00:50<00:11, 19.61it/s]"
     ]
    },
    {
     "name": "stderr",
     "output_type": "stream",
     "text": [
      "\r\n",
      "Normal id_00:  78%|█████████████████████████████████████████████████▊              | 771/991 [00:50<00:11, 19.65it/s]"
     ]
    },
    {
     "name": "stderr",
     "output_type": "stream",
     "text": [
      "\r\n",
      "Normal id_00:  78%|█████████████████████████████████████████████████▉              | 774/991 [00:50<00:10, 20.55it/s]"
     ]
    },
    {
     "name": "stderr",
     "output_type": "stream",
     "text": [
      "\r\n",
      "Normal id_00:  78%|██████████████████████████████████████████████████▏             | 777/991 [00:50<00:10, 19.91it/s]"
     ]
    },
    {
     "name": "stderr",
     "output_type": "stream",
     "text": [
      "\r\n",
      "Normal id_00:  79%|██████████████████████████████████████████████████▎             | 780/991 [00:50<00:10, 20.33it/s]"
     ]
    },
    {
     "name": "stderr",
     "output_type": "stream",
     "text": [
      "\r\n",
      "Normal id_00:  79%|██████████████████████████████████████████████████▌             | 783/991 [00:50<00:10, 19.64it/s]"
     ]
    },
    {
     "name": "stderr",
     "output_type": "stream",
     "text": [
      "\r\n",
      "Normal id_00:  79%|██████████████████████████████████████████████████▊             | 786/991 [00:51<00:10, 19.76it/s]"
     ]
    },
    {
     "name": "stderr",
     "output_type": "stream",
     "text": [
      "\r\n",
      "Normal id_00:  80%|██████████████████████████████████████████████████▉             | 788/991 [00:51<00:10, 19.79it/s]"
     ]
    },
    {
     "name": "stderr",
     "output_type": "stream",
     "text": [
      "\r\n",
      "Normal id_00:  80%|███████████████████████████████████████████████████             | 791/991 [00:51<00:09, 20.37it/s]"
     ]
    },
    {
     "name": "stderr",
     "output_type": "stream",
     "text": [
      "\r\n",
      "Normal id_00:  80%|███████████████████████████████████████████████████▎            | 794/991 [00:51<00:10, 19.44it/s]"
     ]
    },
    {
     "name": "stderr",
     "output_type": "stream",
     "text": [
      "\r\n",
      "Normal id_00:  80%|███████████████████████████████████████████████████▍            | 796/991 [00:51<00:10, 19.47it/s]"
     ]
    },
    {
     "name": "stderr",
     "output_type": "stream",
     "text": [
      "\r\n",
      "Normal id_00:  81%|███████████████████████████████████████████████████▌            | 799/991 [00:51<00:09, 20.05it/s]"
     ]
    },
    {
     "name": "stderr",
     "output_type": "stream",
     "text": [
      "\r\n",
      "Normal id_00:  81%|███████████████████████████████████████████████████▊            | 802/991 [00:51<00:09, 19.10it/s]"
     ]
    },
    {
     "name": "stderr",
     "output_type": "stream",
     "text": [
      "\r\n",
      "Normal id_00:  81%|███████████████████████████████████████████████████▉            | 804/991 [00:51<00:09, 18.90it/s]"
     ]
    },
    {
     "name": "stderr",
     "output_type": "stream",
     "text": [
      "\r\n",
      "Normal id_00:  81%|████████████████████████████████████████████████████            | 807/991 [00:52<00:09, 19.69it/s]"
     ]
    },
    {
     "name": "stderr",
     "output_type": "stream",
     "text": [
      "\r\n",
      "Normal id_00:  82%|████████████████████████████████████████████████████▎           | 810/991 [00:52<00:09, 20.06it/s]"
     ]
    },
    {
     "name": "stderr",
     "output_type": "stream",
     "text": [
      "\r\n",
      "Normal id_00:  82%|████████████████████████████████████████████████████▌           | 813/991 [00:52<00:08, 20.79it/s]"
     ]
    },
    {
     "name": "stderr",
     "output_type": "stream",
     "text": [
      "\r\n",
      "Normal id_00:  82%|████████████████████████████████████████████████████▋           | 816/991 [00:52<00:08, 20.29it/s]"
     ]
    },
    {
     "name": "stderr",
     "output_type": "stream",
     "text": [
      "\r\n",
      "Normal id_00:  83%|████████████████████████████████████████████████████▉           | 819/991 [00:52<00:08, 20.92it/s]"
     ]
    },
    {
     "name": "stderr",
     "output_type": "stream",
     "text": [
      "\r\n",
      "Normal id_00:  83%|█████████████████████████████████████████████████████           | 822/991 [00:52<00:08, 20.60it/s]"
     ]
    },
    {
     "name": "stderr",
     "output_type": "stream",
     "text": [
      "\r\n",
      "Normal id_00:  83%|█████████████████████████████████████████████████████▎          | 825/991 [00:52<00:08, 20.61it/s]"
     ]
    },
    {
     "name": "stderr",
     "output_type": "stream",
     "text": [
      "\r\n",
      "Normal id_00:  84%|█████████████████████████████████████████████████████▍          | 828/991 [00:53<00:07, 20.62it/s]"
     ]
    },
    {
     "name": "stderr",
     "output_type": "stream",
     "text": [
      "\r\n",
      "Normal id_00:  84%|█████████████████████████████████████████████████████▋          | 831/991 [00:53<00:07, 21.10it/s]"
     ]
    },
    {
     "name": "stderr",
     "output_type": "stream",
     "text": [
      "\r\n",
      "Normal id_00:  84%|█████████████████████████████████████████████████████▊          | 834/991 [00:53<00:07, 21.41it/s]"
     ]
    },
    {
     "name": "stderr",
     "output_type": "stream",
     "text": [
      "\r\n",
      "Normal id_00:  84%|██████████████████████████████████████████████████████          | 837/991 [00:53<00:07, 20.57it/s]"
     ]
    },
    {
     "name": "stderr",
     "output_type": "stream",
     "text": [
      "\r\n",
      "Normal id_00:  85%|██████████████████████████████████████████████████████▏         | 840/991 [00:53<00:07, 20.73it/s]"
     ]
    },
    {
     "name": "stderr",
     "output_type": "stream",
     "text": [
      "\r\n",
      "Normal id_00:  85%|██████████████████████████████████████████████████████▍         | 843/991 [00:53<00:07, 20.56it/s]"
     ]
    },
    {
     "name": "stderr",
     "output_type": "stream",
     "text": [
      "\r\n",
      "Normal id_00:  85%|██████████████████████████████████████████████████████▋         | 846/991 [00:54<00:07, 20.13it/s]"
     ]
    },
    {
     "name": "stderr",
     "output_type": "stream",
     "text": [
      "\r\n",
      "Normal id_00:  86%|██████████████████████████████████████████████████████▊         | 849/991 [00:54<00:06, 20.73it/s]"
     ]
    },
    {
     "name": "stderr",
     "output_type": "stream",
     "text": [
      "\r\n",
      "Normal id_00:  86%|███████████████████████████████████████████████████████         | 852/991 [00:54<00:06, 20.44it/s]"
     ]
    },
    {
     "name": "stderr",
     "output_type": "stream",
     "text": [
      "\r\n",
      "Normal id_00:  86%|███████████████████████████████████████████████████████▏        | 855/991 [00:54<00:06, 20.22it/s]"
     ]
    },
    {
     "name": "stderr",
     "output_type": "stream",
     "text": [
      "\r\n",
      "Normal id_00:  87%|███████████████████████████████████████████████████████▍        | 858/991 [00:54<00:06, 20.56it/s]"
     ]
    },
    {
     "name": "stderr",
     "output_type": "stream",
     "text": [
      "\r\n",
      "Normal id_00:  87%|███████████████████████████████████████████████████████▌        | 861/991 [00:54<00:06, 20.35it/s]"
     ]
    },
    {
     "name": "stderr",
     "output_type": "stream",
     "text": [
      "\r\n",
      "Normal id_00:  87%|███████████████████████████████████████████████████████▊        | 864/991 [00:54<00:06, 19.82it/s]"
     ]
    },
    {
     "name": "stderr",
     "output_type": "stream",
     "text": [
      "\r\n",
      "Normal id_00:  87%|███████████████████████████████████████████████████████▉        | 866/991 [00:55<00:06, 19.74it/s]"
     ]
    },
    {
     "name": "stderr",
     "output_type": "stream",
     "text": [
      "\r\n",
      "Normal id_00:  88%|████████████████████████████████████████████████████████        | 868/991 [00:55<00:06, 19.69it/s]"
     ]
    },
    {
     "name": "stderr",
     "output_type": "stream",
     "text": [
      "\r\n",
      "Normal id_00:  88%|████████████████████████████████████████████████████████▏       | 870/991 [00:55<00:06, 19.34it/s]"
     ]
    },
    {
     "name": "stderr",
     "output_type": "stream",
     "text": [
      "\r\n",
      "Normal id_00:  88%|████████████████████████████████████████████████████████▍       | 873/991 [00:55<00:05, 20.33it/s]"
     ]
    },
    {
     "name": "stderr",
     "output_type": "stream",
     "text": [
      "\r\n",
      "Normal id_00:  88%|████████████████████████████████████████████████████████▌       | 876/991 [00:55<00:05, 20.78it/s]"
     ]
    },
    {
     "name": "stderr",
     "output_type": "stream",
     "text": [
      "\r\n",
      "Normal id_00:  89%|████████████████████████████████████████████████████████▊       | 879/991 [00:55<00:05, 21.16it/s]"
     ]
    },
    {
     "name": "stderr",
     "output_type": "stream",
     "text": [
      "\r\n",
      "Normal id_00:  89%|████████████████████████████████████████████████████████▉       | 882/991 [00:55<00:05, 20.55it/s]"
     ]
    },
    {
     "name": "stderr",
     "output_type": "stream",
     "text": [
      "\r\n",
      "Normal id_00:  89%|█████████████████████████████████████████████████████████▏      | 885/991 [00:55<00:05, 18.60it/s]"
     ]
    },
    {
     "name": "stderr",
     "output_type": "stream",
     "text": [
      "\r\n",
      "Normal id_00:  90%|█████████████████████████████████████████████████████████▎      | 887/991 [00:56<00:05, 18.59it/s]"
     ]
    },
    {
     "name": "stderr",
     "output_type": "stream",
     "text": [
      "\r\n",
      "Normal id_00:  90%|█████████████████████████████████████████████████████████▍      | 890/991 [00:56<00:05, 19.28it/s]"
     ]
    },
    {
     "name": "stderr",
     "output_type": "stream",
     "text": [
      "\r\n",
      "Normal id_00:  90%|█████████████████████████████████████████████████████████▌      | 892/991 [00:56<00:05, 19.33it/s]"
     ]
    },
    {
     "name": "stderr",
     "output_type": "stream",
     "text": [
      "\r\n",
      "Normal id_00:  90%|█████████████████████████████████████████████████████████▋      | 894/991 [00:56<00:05, 19.31it/s]"
     ]
    },
    {
     "name": "stderr",
     "output_type": "stream",
     "text": [
      "\r\n",
      "Normal id_00:  90%|█████████████████████████████████████████████████████████▊      | 896/991 [00:56<00:04, 19.29it/s]"
     ]
    },
    {
     "name": "stderr",
     "output_type": "stream",
     "text": [
      "\r\n",
      "Normal id_00:  91%|██████████████████████████████████████████████████████████      | 899/991 [00:56<00:04, 20.19it/s]"
     ]
    },
    {
     "name": "stderr",
     "output_type": "stream",
     "text": [
      "\r\n",
      "Normal id_00:  91%|██████████████████████████████████████████████████████████▎     | 902/991 [00:56<00:04, 19.55it/s]"
     ]
    },
    {
     "name": "stderr",
     "output_type": "stream",
     "text": [
      "\r\n",
      "Normal id_00:  91%|██████████████████████████████████████████████████████████▍     | 904/991 [00:56<00:04, 18.64it/s]"
     ]
    },
    {
     "name": "stderr",
     "output_type": "stream",
     "text": [
      "\r\n",
      "Normal id_00:  91%|██████████████████████████████████████████████████████████▌     | 906/991 [00:57<00:04, 18.90it/s]"
     ]
    },
    {
     "name": "stderr",
     "output_type": "stream",
     "text": [
      "\r\n",
      "Normal id_00:  92%|██████████████████████████████████████████████████████████▋     | 908/991 [00:57<00:04, 18.80it/s]"
     ]
    },
    {
     "name": "stderr",
     "output_type": "stream",
     "text": [
      "\r\n",
      "Normal id_00:  92%|██████████████████████████████████████████████████████████▊     | 911/991 [00:57<00:03, 20.00it/s]"
     ]
    },
    {
     "name": "stderr",
     "output_type": "stream",
     "text": [
      "\r\n",
      "Normal id_00:  92%|███████████████████████████████████████████████████████████     | 914/991 [00:57<00:03, 20.72it/s]"
     ]
    },
    {
     "name": "stderr",
     "output_type": "stream",
     "text": [
      "\r\n",
      "Normal id_00:  93%|███████████████████████████████████████████████████████████▏    | 917/991 [00:57<00:03, 20.47it/s]"
     ]
    },
    {
     "name": "stderr",
     "output_type": "stream",
     "text": [
      "\r\n",
      "Normal id_00:  93%|███████████████████████████████████████████████████████████▍    | 920/991 [00:57<00:03, 20.68it/s]"
     ]
    },
    {
     "name": "stderr",
     "output_type": "stream",
     "text": [
      "\r\n",
      "Normal id_00:  93%|███████████████████████████████████████████████████████████▌    | 923/991 [00:57<00:03, 19.97it/s]"
     ]
    },
    {
     "name": "stderr",
     "output_type": "stream",
     "text": [
      "\r\n",
      "Normal id_00:  93%|███████████████████████████████████████████████████████████▊    | 926/991 [00:58<00:03, 20.67it/s]"
     ]
    },
    {
     "name": "stderr",
     "output_type": "stream",
     "text": [
      "\r\n",
      "Normal id_00:  94%|███████████████████████████████████████████████████████████▉    | 929/991 [00:58<00:03, 20.49it/s]"
     ]
    },
    {
     "name": "stderr",
     "output_type": "stream",
     "text": [
      "\r\n",
      "Normal id_00:  94%|████████████████████████████████████████████████████████████▏   | 932/991 [00:58<00:02, 20.83it/s]"
     ]
    },
    {
     "name": "stderr",
     "output_type": "stream",
     "text": [
      "\r\n",
      "Normal id_00:  94%|████████████████████████████████████████████████████████████▍   | 935/991 [00:58<00:02, 21.28it/s]"
     ]
    },
    {
     "name": "stderr",
     "output_type": "stream",
     "text": [
      "\r\n",
      "Normal id_00:  95%|████████████████████████████████████████████████████████████▌   | 938/991 [00:58<00:02, 20.72it/s]"
     ]
    },
    {
     "name": "stderr",
     "output_type": "stream",
     "text": [
      "\r\n",
      "Normal id_00:  95%|████████████████████████████████████████████████████████████▊   | 941/991 [00:58<00:02, 20.99it/s]"
     ]
    },
    {
     "name": "stderr",
     "output_type": "stream",
     "text": [
      "\r\n",
      "Normal id_00:  95%|████████████████████████████████████████████████████████████▉   | 944/991 [00:58<00:02, 20.17it/s]"
     ]
    },
    {
     "name": "stderr",
     "output_type": "stream",
     "text": [
      "\r\n",
      "Normal id_00:  96%|█████████████████████████████████████████████████████████████▏  | 947/991 [00:59<00:02, 20.07it/s]"
     ]
    },
    {
     "name": "stderr",
     "output_type": "stream",
     "text": [
      "\r\n",
      "Normal id_00:  96%|█████████████████████████████████████████████████████████████▎  | 950/991 [00:59<00:02, 20.10it/s]"
     ]
    },
    {
     "name": "stderr",
     "output_type": "stream",
     "text": [
      "\r\n",
      "Normal id_00:  96%|█████████████████████████████████████████████████████████████▌  | 953/991 [00:59<00:01, 20.30it/s]"
     ]
    },
    {
     "name": "stderr",
     "output_type": "stream",
     "text": [
      "\r\n",
      "Normal id_00:  96%|█████████████████████████████████████████████████████████████▋  | 956/991 [00:59<00:01, 19.98it/s]"
     ]
    },
    {
     "name": "stderr",
     "output_type": "stream",
     "text": [
      "\r\n",
      "Normal id_00:  97%|█████████████████████████████████████████████████████████████▉  | 959/991 [00:59<00:01, 18.31it/s]"
     ]
    },
    {
     "name": "stderr",
     "output_type": "stream",
     "text": [
      "\r\n",
      "Normal id_00:  97%|██████████████████████████████████████████████████████████████▏ | 962/991 [00:59<00:01, 18.62it/s]"
     ]
    },
    {
     "name": "stderr",
     "output_type": "stream",
     "text": [
      "\r\n",
      "Normal id_00:  97%|██████████████████████████████████████████████████████████████▎ | 964/991 [00:59<00:01, 18.32it/s]"
     ]
    },
    {
     "name": "stderr",
     "output_type": "stream",
     "text": [
      "\r\n",
      "Normal id_00:  98%|██████████████████████████████████████████████████████████████▍ | 967/991 [01:00<00:01, 18.89it/s]"
     ]
    },
    {
     "name": "stderr",
     "output_type": "stream",
     "text": [
      "\r\n",
      "Normal id_00:  98%|██████████████████████████████████████████████████████████████▌ | 969/991 [01:00<00:01, 19.04it/s]"
     ]
    },
    {
     "name": "stderr",
     "output_type": "stream",
     "text": [
      "\r\n",
      "Normal id_00:  98%|██████████████████████████████████████████████████████████████▋ | 971/991 [01:00<00:01, 18.53it/s]"
     ]
    },
    {
     "name": "stderr",
     "output_type": "stream",
     "text": [
      "\r\n",
      "Normal id_00:  98%|██████████████████████████████████████████████████████████████▊ | 973/991 [01:00<00:00, 18.86it/s]"
     ]
    },
    {
     "name": "stderr",
     "output_type": "stream",
     "text": [
      "\r\n",
      "Normal id_00:  98%|██████████████████████████████████████████████████████████████▉ | 975/991 [01:00<00:00, 18.86it/s]"
     ]
    },
    {
     "name": "stderr",
     "output_type": "stream",
     "text": [
      "\r\n",
      "Normal id_00:  99%|███████████████████████████████████████████████████████████████▏| 978/991 [01:00<00:00, 19.95it/s]"
     ]
    },
    {
     "name": "stderr",
     "output_type": "stream",
     "text": [
      "\r\n",
      "Normal id_00:  99%|███████████████████████████████████████████████████████████████▎| 980/991 [01:00<00:00, 19.55it/s]"
     ]
    },
    {
     "name": "stderr",
     "output_type": "stream",
     "text": [
      "\r\n",
      "Normal id_00:  99%|███████████████████████████████████████████████████████████████▍| 982/991 [01:00<00:00, 18.69it/s]"
     ]
    },
    {
     "name": "stderr",
     "output_type": "stream",
     "text": [
      "\r\n",
      "Normal id_00:  99%|███████████████████████████████████████████████████████████████▌| 985/991 [01:01<00:00, 19.58it/s]"
     ]
    },
    {
     "name": "stderr",
     "output_type": "stream",
     "text": [
      "\r\n",
      "Normal id_00: 100%|███████████████████████████████████████████████████████████████▊| 988/991 [01:01<00:00, 20.15it/s]"
     ]
    },
    {
     "name": "stderr",
     "output_type": "stream",
     "text": [
      "\r\n",
      "Normal id_00: 100%|████████████████████████████████████████████████████████████████| 991/991 [01:01<00:00, 20.81it/s]"
     ]
    },
    {
     "name": "stderr",
     "output_type": "stream",
     "text": [
      "\r\n",
      "Normal id_00: 100%|████████████████████████████████████████████████████████████████| 991/991 [01:01<00:00, 16.16it/s]"
     ]
    },
    {
     "name": "stderr",
     "output_type": "stream",
     "text": [
      "\n"
     ]
    },
    {
     "name": "stdout",
     "output_type": "stream",
     "text": [
      "Processing 119 abnormal files for id_00...\n"
     ]
    },
    {
     "name": "stderr",
     "output_type": "stream",
     "text": [
      "\r\n",
      "Abnormal id_00:   0%|                                                                        | 0/119 [00:00<?, ?it/s]"
     ]
    },
    {
     "name": "stderr",
     "output_type": "stream",
     "text": [
      "\r\n",
      "Abnormal id_00:   2%|█                                                               | 2/119 [00:00<00:07, 15.36it/s]"
     ]
    },
    {
     "name": "stderr",
     "output_type": "stream",
     "text": [
      "\r\n",
      "Abnormal id_00:   3%|██▏                                                             | 4/119 [00:00<00:06, 17.70it/s]"
     ]
    },
    {
     "name": "stderr",
     "output_type": "stream",
     "text": [
      "\r\n",
      "Abnormal id_00:   6%|███▊                                                            | 7/119 [00:00<00:05, 19.14it/s]"
     ]
    },
    {
     "name": "stderr",
     "output_type": "stream",
     "text": [
      "\r\n",
      "Abnormal id_00:   8%|████▊                                                           | 9/119 [00:00<00:05, 19.20it/s]"
     ]
    },
    {
     "name": "stderr",
     "output_type": "stream",
     "text": [
      "\r\n",
      "Abnormal id_00:   9%|█████▊                                                         | 11/119 [00:00<00:05, 18.31it/s]"
     ]
    },
    {
     "name": "stderr",
     "output_type": "stream",
     "text": [
      "\r\n",
      "Abnormal id_00:  12%|███████▍                                                       | 14/119 [00:00<00:05, 19.81it/s]"
     ]
    },
    {
     "name": "stderr",
     "output_type": "stream",
     "text": [
      "\r\n",
      "Abnormal id_00:  14%|█████████                                                      | 17/119 [00:00<00:04, 20.67it/s]"
     ]
    },
    {
     "name": "stderr",
     "output_type": "stream",
     "text": [
      "\r\n",
      "Abnormal id_00:  17%|██████████▌                                                    | 20/119 [00:01<00:04, 21.09it/s]"
     ]
    },
    {
     "name": "stderr",
     "output_type": "stream",
     "text": [
      "\r\n",
      "Abnormal id_00:  19%|████████████▏                                                  | 23/119 [00:01<00:04, 21.04it/s]"
     ]
    },
    {
     "name": "stderr",
     "output_type": "stream",
     "text": [
      "\r\n",
      "Abnormal id_00:  22%|█████████████▊                                                 | 26/119 [00:01<00:04, 20.06it/s]"
     ]
    },
    {
     "name": "stderr",
     "output_type": "stream",
     "text": [
      "\r\n",
      "Abnormal id_00:  24%|███████████████▎                                               | 29/119 [00:01<00:04, 20.48it/s]"
     ]
    },
    {
     "name": "stderr",
     "output_type": "stream",
     "text": [
      "\r\n",
      "Abnormal id_00:  27%|████████████████▉                                              | 32/119 [00:01<00:04, 19.71it/s]"
     ]
    },
    {
     "name": "stderr",
     "output_type": "stream",
     "text": [
      "\r\n",
      "Abnormal id_00:  29%|██████████████████                                             | 34/119 [00:01<00:04, 19.76it/s]"
     ]
    },
    {
     "name": "stderr",
     "output_type": "stream",
     "text": [
      "\r\n",
      "Abnormal id_00:  31%|███████████████████▌                                           | 37/119 [00:01<00:04, 19.97it/s]"
     ]
    },
    {
     "name": "stderr",
     "output_type": "stream",
     "text": [
      "\r\n",
      "Abnormal id_00:  34%|█████████████████████▏                                         | 40/119 [00:02<00:03, 20.31it/s]"
     ]
    },
    {
     "name": "stderr",
     "output_type": "stream",
     "text": [
      "\r\n",
      "Abnormal id_00:  36%|██████████████████████▊                                        | 43/119 [00:02<00:03, 20.29it/s]"
     ]
    },
    {
     "name": "stderr",
     "output_type": "stream",
     "text": [
      "\r\n",
      "Abnormal id_00:  39%|████████████████████████▎                                      | 46/119 [00:02<00:03, 20.24it/s]"
     ]
    },
    {
     "name": "stderr",
     "output_type": "stream",
     "text": [
      "\r\n",
      "Abnormal id_00:  41%|█████████████████████████▉                                     | 49/119 [00:02<00:03, 19.53it/s]"
     ]
    },
    {
     "name": "stderr",
     "output_type": "stream",
     "text": [
      "\r\n",
      "Abnormal id_00:  43%|███████████████████████████                                    | 51/119 [00:02<00:03, 19.22it/s]"
     ]
    },
    {
     "name": "stderr",
     "output_type": "stream",
     "text": [
      "\r\n",
      "Abnormal id_00:  45%|████████████████████████████▌                                  | 54/119 [00:02<00:03, 20.10it/s]"
     ]
    },
    {
     "name": "stderr",
     "output_type": "stream",
     "text": [
      "\r\n",
      "Abnormal id_00:  48%|██████████████████████████████▏                                | 57/119 [00:02<00:03, 19.17it/s]"
     ]
    },
    {
     "name": "stderr",
     "output_type": "stream",
     "text": [
      "\r\n",
      "Abnormal id_00:  50%|███████████████████████████████▏                               | 59/119 [00:02<00:03, 19.29it/s]"
     ]
    },
    {
     "name": "stderr",
     "output_type": "stream",
     "text": [
      "\r\n",
      "Abnormal id_00:  52%|████████████████████████████████▊                              | 62/119 [00:03<00:02, 19.94it/s]"
     ]
    },
    {
     "name": "stderr",
     "output_type": "stream",
     "text": [
      "\r\n",
      "Abnormal id_00:  55%|██████████████████████████████████▍                            | 65/119 [00:03<00:02, 19.59it/s]"
     ]
    },
    {
     "name": "stderr",
     "output_type": "stream",
     "text": [
      "\r\n",
      "Abnormal id_00:  56%|███████████████████████████████████▍                           | 67/119 [00:03<00:02, 19.55it/s]"
     ]
    },
    {
     "name": "stderr",
     "output_type": "stream",
     "text": [
      "\r\n",
      "Abnormal id_00:  58%|████████████████████████████████████▌                          | 69/119 [00:03<00:02, 19.46it/s]"
     ]
    },
    {
     "name": "stderr",
     "output_type": "stream",
     "text": [
      "\r\n",
      "Abnormal id_00:  60%|█████████████████████████████████████▌                         | 71/119 [00:03<00:02, 18.29it/s]"
     ]
    },
    {
     "name": "stderr",
     "output_type": "stream",
     "text": [
      "\r\n",
      "Abnormal id_00:  62%|███████████████████████████████████████▏                       | 74/119 [00:03<00:02, 19.32it/s]"
     ]
    },
    {
     "name": "stderr",
     "output_type": "stream",
     "text": [
      "\r\n",
      "Abnormal id_00:  65%|████████████████████████████████████████▊                      | 77/119 [00:03<00:02, 20.20it/s]"
     ]
    },
    {
     "name": "stderr",
     "output_type": "stream",
     "text": [
      "\r\n",
      "Abnormal id_00:  67%|██████████████████████████████████████████▎                    | 80/119 [00:04<00:01, 19.81it/s]"
     ]
    },
    {
     "name": "stderr",
     "output_type": "stream",
     "text": [
      "\r\n",
      "Abnormal id_00:  69%|███████████████████████████████████████████▍                   | 82/119 [00:04<00:01, 19.82it/s]"
     ]
    },
    {
     "name": "stderr",
     "output_type": "stream",
     "text": [
      "\r\n",
      "Abnormal id_00:  71%|████████████████████████████████████████████▍                  | 84/119 [00:04<00:01, 19.75it/s]"
     ]
    },
    {
     "name": "stderr",
     "output_type": "stream",
     "text": [
      "\r\n",
      "Abnormal id_00:  72%|█████████████████████████████████████████████▌                 | 86/119 [00:04<00:01, 19.72it/s]"
     ]
    },
    {
     "name": "stderr",
     "output_type": "stream",
     "text": [
      "\r\n",
      "Abnormal id_00:  74%|██████████████████████████████████████████████▌                | 88/119 [00:04<00:01, 19.24it/s]"
     ]
    },
    {
     "name": "stderr",
     "output_type": "stream",
     "text": [
      "\r\n",
      "Abnormal id_00:  76%|███████████████████████████████████████████████▋               | 90/119 [00:04<00:01, 18.62it/s]"
     ]
    },
    {
     "name": "stderr",
     "output_type": "stream",
     "text": [
      "\r\n",
      "Abnormal id_00:  77%|████████████████████████████████████████████████▋              | 92/119 [00:04<00:01, 18.99it/s]"
     ]
    },
    {
     "name": "stderr",
     "output_type": "stream",
     "text": [
      "\r\n",
      "Abnormal id_00:  80%|██████████████████████████████████████████████████▎            | 95/119 [00:04<00:01, 19.36it/s]"
     ]
    },
    {
     "name": "stderr",
     "output_type": "stream",
     "text": [
      "\r\n",
      "Abnormal id_00:  82%|███████████████████████████████████████████████████▉           | 98/119 [00:04<00:01, 20.31it/s]"
     ]
    },
    {
     "name": "stderr",
     "output_type": "stream",
     "text": [
      "\r\n",
      "Abnormal id_00:  85%|████████████████████████████████████████████████████▌         | 101/119 [00:05<00:00, 20.06it/s]"
     ]
    },
    {
     "name": "stderr",
     "output_type": "stream",
     "text": [
      "\r\n",
      "Abnormal id_00:  87%|██████████████████████████████████████████████████████▏       | 104/119 [00:05<00:00, 19.53it/s]"
     ]
    },
    {
     "name": "stderr",
     "output_type": "stream",
     "text": [
      "\r\n",
      "Abnormal id_00:  89%|███████████████████████████████████████████████████████▏      | 106/119 [00:05<00:00, 19.54it/s]"
     ]
    },
    {
     "name": "stderr",
     "output_type": "stream",
     "text": [
      "\r\n",
      "Abnormal id_00:  91%|████████████████████████████████████████████████████████▎     | 108/119 [00:05<00:00, 19.37it/s]"
     ]
    },
    {
     "name": "stderr",
     "output_type": "stream",
     "text": [
      "\r\n",
      "Abnormal id_00:  92%|█████████████████████████████████████████████████████████▎    | 110/119 [00:05<00:00, 18.54it/s]"
     ]
    },
    {
     "name": "stderr",
     "output_type": "stream",
     "text": [
      "\r\n",
      "Abnormal id_00:  94%|██████████████████████████████████████████████████████████▎   | 112/119 [00:05<00:00, 18.66it/s]"
     ]
    },
    {
     "name": "stderr",
     "output_type": "stream",
     "text": [
      "\r\n",
      "Abnormal id_00:  97%|███████████████████████████████████████████████████████████▉  | 115/119 [00:05<00:00, 19.56it/s]"
     ]
    },
    {
     "name": "stderr",
     "output_type": "stream",
     "text": [
      "\r\n",
      "Abnormal id_00:  99%|█████████████████████████████████████████████████████████████▍| 118/119 [00:06<00:00, 19.66it/s]"
     ]
    },
    {
     "name": "stderr",
     "output_type": "stream",
     "text": [
      "\r\n",
      "Abnormal id_00: 100%|██████████████████████████████████████████████████████████████| 119/119 [00:06<00:00, 19.64it/s]"
     ]
    },
    {
     "name": "stderr",
     "output_type": "stream",
     "text": [
      "\n"
     ]
    },
    {
     "name": "stdout",
     "output_type": "stream",
     "text": [
      "Processing 708 normal files for id_02...\n"
     ]
    },
    {
     "name": "stderr",
     "output_type": "stream",
     "text": [
      "\r\n",
      "Normal id_02:   0%|                                                                          | 0/708 [00:00<?, ?it/s]"
     ]
    },
    {
     "name": "stderr",
     "output_type": "stream",
     "text": [
      "\r\n",
      "Normal id_02:   0%|▏                                                                 | 2/708 [00:00<00:35, 19.89it/s]"
     ]
    },
    {
     "name": "stderr",
     "output_type": "stream",
     "text": [
      "\r\n",
      "Normal id_02:   1%|▍                                                                 | 5/708 [00:00<00:34, 20.42it/s]"
     ]
    },
    {
     "name": "stderr",
     "output_type": "stream",
     "text": [
      "\r\n",
      "Normal id_02:   1%|▋                                                                 | 8/708 [00:00<00:33, 21.13it/s]"
     ]
    },
    {
     "name": "stderr",
     "output_type": "stream",
     "text": [
      "\r\n",
      "Normal id_02:   2%|█                                                                | 11/708 [00:00<00:36, 19.00it/s]"
     ]
    },
    {
     "name": "stderr",
     "output_type": "stream",
     "text": [
      "\r\n",
      "Normal id_02:   2%|█▏                                                               | 13/708 [00:00<00:36, 18.99it/s]"
     ]
    },
    {
     "name": "stderr",
     "output_type": "stream",
     "text": [
      "\r\n",
      "Normal id_02:   2%|█▍                                                               | 15/708 [00:00<00:36, 19.06it/s]"
     ]
    },
    {
     "name": "stderr",
     "output_type": "stream",
     "text": [
      "\r\n",
      "Normal id_02:   2%|█▌                                                               | 17/708 [00:00<00:36, 19.16it/s]"
     ]
    },
    {
     "name": "stderr",
     "output_type": "stream",
     "text": [
      "\r\n",
      "Normal id_02:   3%|█▋                                                               | 19/708 [00:00<00:35, 19.33it/s]"
     ]
    },
    {
     "name": "stderr",
     "output_type": "stream",
     "text": [
      "\r\n",
      "Normal id_02:   3%|█▉                                                               | 21/708 [00:01<00:35, 19.26it/s]"
     ]
    },
    {
     "name": "stderr",
     "output_type": "stream",
     "text": [
      "\r\n",
      "Normal id_02:   3%|██                                                               | 23/708 [00:01<00:35, 19.33it/s]"
     ]
    },
    {
     "name": "stderr",
     "output_type": "stream",
     "text": [
      "\r\n",
      "Normal id_02:   4%|██▎                                                              | 25/708 [00:01<00:36, 18.82it/s]"
     ]
    },
    {
     "name": "stderr",
     "output_type": "stream",
     "text": [
      "\r\n",
      "Normal id_02:   4%|██▍                                                              | 27/708 [00:01<00:36, 18.90it/s]"
     ]
    },
    {
     "name": "stderr",
     "output_type": "stream",
     "text": [
      "\r\n",
      "Normal id_02:   4%|██▋                                                              | 29/708 [00:01<00:35, 18.87it/s]"
     ]
    },
    {
     "name": "stderr",
     "output_type": "stream",
     "text": [
      "\r\n",
      "Normal id_02:   4%|██▊                                                              | 31/708 [00:01<00:35, 19.00it/s]"
     ]
    },
    {
     "name": "stderr",
     "output_type": "stream",
     "text": [
      "\r\n",
      "Normal id_02:   5%|███                                                              | 33/708 [00:01<00:35, 19.15it/s]"
     ]
    },
    {
     "name": "stderr",
     "output_type": "stream",
     "text": [
      "\r\n",
      "Normal id_02:   5%|███▎                                                             | 36/708 [00:01<00:33, 19.90it/s]"
     ]
    },
    {
     "name": "stderr",
     "output_type": "stream",
     "text": [
      "\r\n",
      "Normal id_02:   6%|███▌                                                             | 39/708 [00:01<00:32, 20.74it/s]"
     ]
    },
    {
     "name": "stderr",
     "output_type": "stream",
     "text": [
      "\r\n",
      "Normal id_02:   6%|███▊                                                             | 42/708 [00:02<00:31, 21.00it/s]"
     ]
    },
    {
     "name": "stderr",
     "output_type": "stream",
     "text": [
      "\r\n",
      "Normal id_02:   6%|████▏                                                            | 45/708 [00:02<00:32, 20.64it/s]"
     ]
    },
    {
     "name": "stderr",
     "output_type": "stream",
     "text": [
      "\r\n",
      "Normal id_02:   7%|████▍                                                            | 48/708 [00:02<00:31, 20.64it/s]"
     ]
    },
    {
     "name": "stderr",
     "output_type": "stream",
     "text": [
      "\r\n",
      "Normal id_02:   7%|████▋                                                            | 51/708 [00:02<00:34, 18.91it/s]"
     ]
    },
    {
     "name": "stderr",
     "output_type": "stream",
     "text": [
      "\r\n",
      "Normal id_02:   8%|████▉                                                            | 54/708 [00:02<00:33, 19.28it/s]"
     ]
    },
    {
     "name": "stderr",
     "output_type": "stream",
     "text": [
      "\r\n",
      "Normal id_02:   8%|█████▏                                                           | 57/708 [00:02<00:32, 19.82it/s]"
     ]
    },
    {
     "name": "stderr",
     "output_type": "stream",
     "text": [
      "\r\n",
      "Normal id_02:   8%|█████▌                                                           | 60/708 [00:03<00:32, 20.17it/s]"
     ]
    },
    {
     "name": "stderr",
     "output_type": "stream",
     "text": [
      "\r\n",
      "Normal id_02:   9%|█████▊                                                           | 63/708 [00:03<00:31, 20.29it/s]"
     ]
    },
    {
     "name": "stderr",
     "output_type": "stream",
     "text": [
      "\r\n",
      "Normal id_02:   9%|██████                                                           | 66/708 [00:03<00:31, 20.20it/s]"
     ]
    },
    {
     "name": "stderr",
     "output_type": "stream",
     "text": [
      "\r\n",
      "Normal id_02:  10%|██████▎                                                          | 69/708 [00:03<00:32, 19.69it/s]"
     ]
    },
    {
     "name": "stderr",
     "output_type": "stream",
     "text": [
      "\r\n",
      "Normal id_02:  10%|██████▌                                                          | 71/708 [00:03<00:32, 19.72it/s]"
     ]
    },
    {
     "name": "stderr",
     "output_type": "stream",
     "text": [
      "\r\n",
      "Normal id_02:  10%|██████▋                                                          | 73/708 [00:03<00:33, 19.19it/s]"
     ]
    },
    {
     "name": "stderr",
     "output_type": "stream",
     "text": [
      "\r\n",
      "Normal id_02:  11%|██████▉                                                          | 76/708 [00:03<00:31, 19.93it/s]"
     ]
    },
    {
     "name": "stderr",
     "output_type": "stream",
     "text": [
      "\r\n",
      "Normal id_02:  11%|███████▎                                                         | 79/708 [00:04<00:31, 20.02it/s]"
     ]
    },
    {
     "name": "stderr",
     "output_type": "stream",
     "text": [
      "\r\n",
      "Normal id_02:  11%|███████▍                                                         | 81/708 [00:04<00:31, 19.90it/s]"
     ]
    },
    {
     "name": "stderr",
     "output_type": "stream",
     "text": [
      "\r\n",
      "Normal id_02:  12%|███████▌                                                         | 83/708 [00:04<00:31, 19.62it/s]"
     ]
    },
    {
     "name": "stderr",
     "output_type": "stream",
     "text": [
      "\r\n",
      "Normal id_02:  12%|███████▉                                                         | 86/708 [00:04<00:30, 20.40it/s]"
     ]
    },
    {
     "name": "stderr",
     "output_type": "stream",
     "text": [
      "\r\n",
      "Normal id_02:  13%|████████▏                                                        | 89/708 [00:04<00:31, 19.70it/s]"
     ]
    },
    {
     "name": "stderr",
     "output_type": "stream",
     "text": [
      "\r\n",
      "Normal id_02:  13%|████████▍                                                        | 92/708 [00:04<00:30, 20.32it/s]"
     ]
    },
    {
     "name": "stderr",
     "output_type": "stream",
     "text": [
      "\r\n",
      "Normal id_02:  13%|████████▋                                                        | 95/708 [00:04<00:29, 20.94it/s]"
     ]
    },
    {
     "name": "stderr",
     "output_type": "stream",
     "text": [
      "\r\n",
      "Normal id_02:  14%|████████▉                                                        | 98/708 [00:04<00:29, 20.85it/s]"
     ]
    },
    {
     "name": "stderr",
     "output_type": "stream",
     "text": [
      "\r\n",
      "Normal id_02:  14%|█████████▏                                                      | 101/708 [00:05<00:28, 21.19it/s]"
     ]
    },
    {
     "name": "stderr",
     "output_type": "stream",
     "text": [
      "\r\n",
      "Normal id_02:  15%|█████████▍                                                      | 104/708 [00:05<00:28, 20.88it/s]"
     ]
    },
    {
     "name": "stderr",
     "output_type": "stream",
     "text": [
      "\r\n",
      "Normal id_02:  15%|█████████▋                                                      | 107/708 [00:05<00:29, 20.58it/s]"
     ]
    },
    {
     "name": "stderr",
     "output_type": "stream",
     "text": [
      "\r\n",
      "Normal id_02:  16%|█████████▉                                                      | 110/708 [00:05<00:30, 19.85it/s]"
     ]
    },
    {
     "name": "stderr",
     "output_type": "stream",
     "text": [
      "\r\n",
      "Normal id_02:  16%|██████████▏                                                     | 113/708 [00:05<00:29, 20.34it/s]"
     ]
    },
    {
     "name": "stderr",
     "output_type": "stream",
     "text": [
      "\r\n",
      "Normal id_02:  16%|██████████▍                                                     | 116/708 [00:05<00:29, 20.26it/s]"
     ]
    },
    {
     "name": "stderr",
     "output_type": "stream",
     "text": [
      "\r\n",
      "Normal id_02:  17%|██████████▊                                                     | 119/708 [00:05<00:28, 20.44it/s]"
     ]
    },
    {
     "name": "stderr",
     "output_type": "stream",
     "text": [
      "\r\n",
      "Normal id_02:  17%|███████████                                                     | 122/708 [00:06<00:28, 20.45it/s]"
     ]
    },
    {
     "name": "stderr",
     "output_type": "stream",
     "text": [
      "\r\n",
      "Normal id_02:  18%|███████████▎                                                    | 125/708 [00:06<00:28, 20.43it/s]"
     ]
    },
    {
     "name": "stderr",
     "output_type": "stream",
     "text": [
      "\r\n",
      "Normal id_02:  18%|███████████▌                                                    | 128/708 [00:06<00:28, 20.52it/s]"
     ]
    },
    {
     "name": "stderr",
     "output_type": "stream",
     "text": [
      "\r\n",
      "Normal id_02:  19%|███████████▊                                                    | 131/708 [00:06<00:29, 19.59it/s]"
     ]
    },
    {
     "name": "stderr",
     "output_type": "stream",
     "text": [
      "\r\n",
      "Normal id_02:  19%|████████████                                                    | 133/708 [00:06<00:29, 19.50it/s]"
     ]
    },
    {
     "name": "stderr",
     "output_type": "stream",
     "text": [
      "\r\n",
      "Normal id_02:  19%|████████████▎                                                   | 136/708 [00:06<00:28, 20.30it/s]"
     ]
    },
    {
     "name": "stderr",
     "output_type": "stream",
     "text": [
      "\r\n",
      "Normal id_02:  20%|████████████▌                                                   | 139/708 [00:06<00:27, 20.80it/s]"
     ]
    },
    {
     "name": "stderr",
     "output_type": "stream",
     "text": [
      "\r\n",
      "Normal id_02:  20%|████████████▊                                                   | 142/708 [00:07<00:26, 21.29it/s]"
     ]
    },
    {
     "name": "stderr",
     "output_type": "stream",
     "text": [
      "\r\n",
      "Normal id_02:  20%|█████████████                                                   | 145/708 [00:07<00:26, 21.26it/s]"
     ]
    },
    {
     "name": "stderr",
     "output_type": "stream",
     "text": [
      "\r\n",
      "Normal id_02:  21%|█████████████▍                                                  | 148/708 [00:07<00:26, 21.53it/s]"
     ]
    },
    {
     "name": "stderr",
     "output_type": "stream",
     "text": [
      "\r\n",
      "Normal id_02:  21%|█████████████▋                                                  | 151/708 [00:07<00:27, 20.61it/s]"
     ]
    },
    {
     "name": "stderr",
     "output_type": "stream",
     "text": [
      "\r\n",
      "Normal id_02:  22%|█████████████▉                                                  | 154/708 [00:07<00:26, 21.00it/s]"
     ]
    },
    {
     "name": "stderr",
     "output_type": "stream",
     "text": [
      "\r\n",
      "Normal id_02:  22%|██████████████▏                                                 | 157/708 [00:07<00:26, 20.92it/s]"
     ]
    },
    {
     "name": "stderr",
     "output_type": "stream",
     "text": [
      "\r\n",
      "Normal id_02:  23%|██████████████▍                                                 | 160/708 [00:07<00:26, 20.94it/s]"
     ]
    },
    {
     "name": "stderr",
     "output_type": "stream",
     "text": [
      "\r\n",
      "Normal id_02:  23%|██████████████▋                                                 | 163/708 [00:08<00:26, 20.59it/s]"
     ]
    },
    {
     "name": "stderr",
     "output_type": "stream",
     "text": [
      "\r\n",
      "Normal id_02:  23%|███████████████                                                 | 166/708 [00:08<00:26, 20.28it/s]"
     ]
    },
    {
     "name": "stderr",
     "output_type": "stream",
     "text": [
      "\r\n",
      "Normal id_02:  24%|███████████████▎                                                | 169/708 [00:08<00:27, 19.41it/s]"
     ]
    },
    {
     "name": "stderr",
     "output_type": "stream",
     "text": [
      "\r\n",
      "Normal id_02:  24%|███████████████▍                                                | 171/708 [00:08<00:28, 18.94it/s]"
     ]
    },
    {
     "name": "stderr",
     "output_type": "stream",
     "text": [
      "\r\n",
      "Normal id_02:  24%|███████████████▋                                                | 173/708 [00:08<00:28, 18.67it/s]"
     ]
    },
    {
     "name": "stderr",
     "output_type": "stream",
     "text": [
      "\r\n",
      "Normal id_02:  25%|███████████████▊                                                | 175/708 [00:08<00:29, 18.29it/s]"
     ]
    },
    {
     "name": "stderr",
     "output_type": "stream",
     "text": [
      "\r\n",
      "Normal id_02:  25%|████████████████                                                | 177/708 [00:08<00:28, 18.54it/s]"
     ]
    },
    {
     "name": "stderr",
     "output_type": "stream",
     "text": [
      "\r\n",
      "Normal id_02:  25%|████████████████▏                                               | 179/708 [00:08<00:28, 18.66it/s]"
     ]
    },
    {
     "name": "stderr",
     "output_type": "stream",
     "text": [
      "\r\n",
      "Normal id_02:  26%|████████████████▎                                               | 181/708 [00:09<00:27, 18.90it/s]"
     ]
    },
    {
     "name": "stderr",
     "output_type": "stream",
     "text": [
      "\r\n",
      "Normal id_02:  26%|████████████████▌                                               | 183/708 [00:09<00:27, 19.16it/s]"
     ]
    },
    {
     "name": "stderr",
     "output_type": "stream",
     "text": [
      "\r\n",
      "Normal id_02:  26%|████████████████▊                                               | 186/708 [00:09<00:26, 19.68it/s]"
     ]
    },
    {
     "name": "stderr",
     "output_type": "stream",
     "text": [
      "\r\n",
      "Normal id_02:  27%|█████████████████                                               | 189/708 [00:09<00:26, 19.95it/s]"
     ]
    },
    {
     "name": "stderr",
     "output_type": "stream",
     "text": [
      "\r\n",
      "Normal id_02:  27%|█████████████████▎                                              | 191/708 [00:09<00:26, 19.21it/s]"
     ]
    },
    {
     "name": "stderr",
     "output_type": "stream",
     "text": [
      "\r\n",
      "Normal id_02:  27%|█████████████████▌                                              | 194/708 [00:09<00:25, 19.85it/s]"
     ]
    },
    {
     "name": "stderr",
     "output_type": "stream",
     "text": [
      "\r\n",
      "Normal id_02:  28%|█████████████████▋                                              | 196/708 [00:09<00:26, 19.23it/s]"
     ]
    },
    {
     "name": "stderr",
     "output_type": "stream",
     "text": [
      "\r\n",
      "Normal id_02:  28%|█████████████████▉                                              | 199/708 [00:09<00:25, 20.05it/s]"
     ]
    },
    {
     "name": "stderr",
     "output_type": "stream",
     "text": [
      "\r\n",
      "Normal id_02:  29%|██████████████████▎                                             | 202/708 [00:10<00:24, 20.40it/s]"
     ]
    },
    {
     "name": "stderr",
     "output_type": "stream",
     "text": [
      "\r\n",
      "Normal id_02:  29%|██████████████████▌                                             | 205/708 [00:10<00:24, 20.86it/s]"
     ]
    },
    {
     "name": "stderr",
     "output_type": "stream",
     "text": [
      "\r\n",
      "Normal id_02:  29%|██████████████████▊                                             | 208/708 [00:10<00:23, 21.23it/s]"
     ]
    },
    {
     "name": "stderr",
     "output_type": "stream",
     "text": [
      "\r\n",
      "Normal id_02:  30%|███████████████████                                             | 211/708 [00:10<00:25, 19.60it/s]"
     ]
    },
    {
     "name": "stderr",
     "output_type": "stream",
     "text": [
      "\r\n",
      "Normal id_02:  30%|███████████████████▎                                            | 214/708 [00:10<00:26, 18.87it/s]"
     ]
    },
    {
     "name": "stderr",
     "output_type": "stream",
     "text": [
      "\r\n",
      "Normal id_02:  31%|███████████████████▌                                            | 217/708 [00:10<00:25, 19.23it/s]"
     ]
    },
    {
     "name": "stderr",
     "output_type": "stream",
     "text": [
      "\r\n",
      "Normal id_02:  31%|███████████████████▊                                            | 219/708 [00:10<00:25, 19.04it/s]"
     ]
    },
    {
     "name": "stderr",
     "output_type": "stream",
     "text": [
      "\r\n",
      "Normal id_02:  31%|████████████████████                                            | 222/708 [00:11<00:24, 19.76it/s]"
     ]
    },
    {
     "name": "stderr",
     "output_type": "stream",
     "text": [
      "\r\n",
      "Normal id_02:  32%|████████████████████▎                                           | 225/708 [00:11<00:23, 20.50it/s]"
     ]
    },
    {
     "name": "stderr",
     "output_type": "stream",
     "text": [
      "\r\n",
      "Normal id_02:  32%|████████████████████▌                                           | 228/708 [00:11<00:23, 20.61it/s]"
     ]
    },
    {
     "name": "stderr",
     "output_type": "stream",
     "text": [
      "\r\n",
      "Normal id_02:  33%|████████████████████▉                                           | 231/708 [00:11<00:23, 20.49it/s]"
     ]
    },
    {
     "name": "stderr",
     "output_type": "stream",
     "text": [
      "\r\n",
      "Normal id_02:  33%|█████████████████████▏                                          | 234/708 [00:11<00:23, 19.80it/s]"
     ]
    },
    {
     "name": "stderr",
     "output_type": "stream",
     "text": [
      "\r\n",
      "Normal id_02:  33%|█████████████████████▎                                          | 236/708 [00:11<00:24, 19.67it/s]"
     ]
    },
    {
     "name": "stderr",
     "output_type": "stream",
     "text": [
      "\r\n",
      "Normal id_02:  34%|█████████████████████▌                                          | 238/708 [00:11<00:24, 19.57it/s]"
     ]
    },
    {
     "name": "stderr",
     "output_type": "stream",
     "text": [
      "\r\n",
      "Normal id_02:  34%|█████████████████████▋                                          | 240/708 [00:12<00:24, 19.45it/s]"
     ]
    },
    {
     "name": "stderr",
     "output_type": "stream",
     "text": [
      "\r\n",
      "Normal id_02:  34%|█████████████████████▉                                          | 242/708 [00:12<00:24, 19.38it/s]"
     ]
    },
    {
     "name": "stderr",
     "output_type": "stream",
     "text": [
      "\r\n",
      "Normal id_02:  34%|██████████████████████                                          | 244/708 [00:12<00:24, 19.17it/s]"
     ]
    },
    {
     "name": "stderr",
     "output_type": "stream",
     "text": [
      "\r\n",
      "Normal id_02:  35%|██████████████████████▏                                         | 246/708 [00:12<00:24, 18.72it/s]"
     ]
    },
    {
     "name": "stderr",
     "output_type": "stream",
     "text": [
      "\r\n",
      "Normal id_02:  35%|██████████████████████▍                                         | 248/708 [00:12<00:26, 17.35it/s]"
     ]
    },
    {
     "name": "stderr",
     "output_type": "stream",
     "text": [
      "\r\n",
      "Normal id_02:  35%|██████████████████████▋                                         | 251/708 [00:12<00:24, 18.43it/s]"
     ]
    },
    {
     "name": "stderr",
     "output_type": "stream",
     "text": [
      "\r\n",
      "Normal id_02:  36%|██████████████████████▊                                         | 253/708 [00:12<00:24, 18.39it/s]"
     ]
    },
    {
     "name": "stderr",
     "output_type": "stream",
     "text": [
      "\r\n",
      "Normal id_02:  36%|███████████████████████                                         | 255/708 [00:12<00:24, 18.75it/s]"
     ]
    },
    {
     "name": "stderr",
     "output_type": "stream",
     "text": [
      "\r\n",
      "Normal id_02:  36%|███████████████████████▏                                        | 257/708 [00:12<00:24, 18.74it/s]"
     ]
    },
    {
     "name": "stderr",
     "output_type": "stream",
     "text": [
      "\r\n",
      "Normal id_02:  37%|███████████████████████▍                                        | 259/708 [00:13<00:23, 18.85it/s]"
     ]
    },
    {
     "name": "stderr",
     "output_type": "stream",
     "text": [
      "\r\n",
      "Normal id_02:  37%|███████████████████████▌                                        | 261/708 [00:13<00:23, 18.69it/s]"
     ]
    },
    {
     "name": "stderr",
     "output_type": "stream",
     "text": [
      "\r\n",
      "Normal id_02:  37%|███████████████████████▊                                        | 263/708 [00:13<00:23, 18.88it/s]"
     ]
    },
    {
     "name": "stderr",
     "output_type": "stream",
     "text": [
      "\r\n",
      "Normal id_02:  37%|███████████████████████▉                                        | 265/708 [00:13<00:23, 19.08it/s]"
     ]
    },
    {
     "name": "stderr",
     "output_type": "stream",
     "text": [
      "\r\n",
      "Normal id_02:  38%|████████████████████████▏                                       | 267/708 [00:13<00:23, 18.72it/s]"
     ]
    },
    {
     "name": "stderr",
     "output_type": "stream",
     "text": [
      "\r\n",
      "Normal id_02:  38%|████████████████████████▎                                       | 269/708 [00:13<00:23, 18.38it/s]"
     ]
    },
    {
     "name": "stderr",
     "output_type": "stream",
     "text": [
      "\r\n",
      "Normal id_02:  38%|████████████████████████▍                                       | 271/708 [00:13<00:23, 18.66it/s]"
     ]
    },
    {
     "name": "stderr",
     "output_type": "stream",
     "text": [
      "\r\n",
      "Normal id_02:  39%|████████████████████████▋                                       | 273/708 [00:13<00:23, 18.79it/s]"
     ]
    },
    {
     "name": "stderr",
     "output_type": "stream",
     "text": [
      "\r\n",
      "Normal id_02:  39%|████████████████████████▊                                       | 275/708 [00:13<00:22, 19.05it/s]"
     ]
    },
    {
     "name": "stderr",
     "output_type": "stream",
     "text": [
      "\r\n",
      "Normal id_02:  39%|█████████████████████████                                       | 277/708 [00:14<00:22, 19.16it/s]"
     ]
    },
    {
     "name": "stderr",
     "output_type": "stream",
     "text": [
      "\r\n",
      "Normal id_02:  39%|█████████████████████████▏                                      | 279/708 [00:14<00:22, 18.92it/s]"
     ]
    },
    {
     "name": "stderr",
     "output_type": "stream",
     "text": [
      "\r\n",
      "Normal id_02:  40%|█████████████████████████▍                                      | 281/708 [00:14<00:22, 18.79it/s]"
     ]
    },
    {
     "name": "stderr",
     "output_type": "stream",
     "text": [
      "\r\n",
      "Normal id_02:  40%|█████████████████████████▌                                      | 283/708 [00:14<00:22, 18.66it/s]"
     ]
    },
    {
     "name": "stderr",
     "output_type": "stream",
     "text": [
      "\r\n",
      "Normal id_02:  40%|█████████████████████████▊                                      | 285/708 [00:14<00:22, 18.72it/s]"
     ]
    },
    {
     "name": "stderr",
     "output_type": "stream",
     "text": [
      "\r\n",
      "Normal id_02:  41%|█████████████████████████▉                                      | 287/708 [00:14<00:23, 17.73it/s]"
     ]
    },
    {
     "name": "stderr",
     "output_type": "stream",
     "text": [
      "\r\n",
      "Normal id_02:  41%|██████████████████████████                                      | 289/708 [00:14<00:22, 18.33it/s]"
     ]
    },
    {
     "name": "stderr",
     "output_type": "stream",
     "text": [
      "\r\n",
      "Normal id_02:  41%|██████████████████████████▍                                     | 292/708 [00:14<00:21, 19.23it/s]"
     ]
    },
    {
     "name": "stderr",
     "output_type": "stream",
     "text": [
      "\r\n",
      "Normal id_02:  42%|██████████████████████████▌                                     | 294/708 [00:14<00:21, 19.22it/s]"
     ]
    },
    {
     "name": "stderr",
     "output_type": "stream",
     "text": [
      "\r\n",
      "Normal id_02:  42%|██████████████████████████▊                                     | 297/708 [00:15<00:20, 19.77it/s]"
     ]
    },
    {
     "name": "stderr",
     "output_type": "stream",
     "text": [
      "\r\n",
      "Normal id_02:  42%|███████████████████████████                                     | 299/708 [00:15<00:20, 19.73it/s]"
     ]
    },
    {
     "name": "stderr",
     "output_type": "stream",
     "text": [
      "\r\n",
      "Normal id_02:  43%|███████████████████████████▏                                    | 301/708 [00:15<00:21, 19.08it/s]"
     ]
    },
    {
     "name": "stderr",
     "output_type": "stream",
     "text": [
      "\r\n",
      "Normal id_02:  43%|███████████████████████████▍                                    | 304/708 [00:15<00:20, 19.82it/s]"
     ]
    },
    {
     "name": "stderr",
     "output_type": "stream",
     "text": [
      "\r\n",
      "Normal id_02:  43%|███████████████████████████▋                                    | 306/708 [00:15<00:20, 19.85it/s]"
     ]
    },
    {
     "name": "stderr",
     "output_type": "stream",
     "text": [
      "\r\n",
      "Normal id_02:  44%|███████████████████████████▊                                    | 308/708 [00:15<00:20, 19.85it/s]"
     ]
    },
    {
     "name": "stderr",
     "output_type": "stream",
     "text": [
      "\r\n",
      "Normal id_02:  44%|████████████████████████████                                    | 311/708 [00:15<00:19, 20.26it/s]"
     ]
    },
    {
     "name": "stderr",
     "output_type": "stream",
     "text": [
      "\r\n",
      "Normal id_02:  44%|████████████████████████████▍                                   | 314/708 [00:15<00:18, 20.77it/s]"
     ]
    },
    {
     "name": "stderr",
     "output_type": "stream",
     "text": [
      "\r\n",
      "Normal id_02:  45%|████████████████████████████▋                                   | 317/708 [00:16<00:18, 21.26it/s]"
     ]
    },
    {
     "name": "stderr",
     "output_type": "stream",
     "text": [
      "\r\n",
      "Normal id_02:  45%|████████████████████████████▉                                   | 320/708 [00:16<00:18, 20.67it/s]"
     ]
    },
    {
     "name": "stderr",
     "output_type": "stream",
     "text": [
      "\r\n",
      "Normal id_02:  46%|█████████████████████████████▏                                  | 323/708 [00:16<00:19, 20.24it/s]"
     ]
    },
    {
     "name": "stderr",
     "output_type": "stream",
     "text": [
      "\r\n",
      "Normal id_02:  46%|█████████████████████████████▍                                  | 326/708 [00:16<00:20, 18.90it/s]"
     ]
    },
    {
     "name": "stderr",
     "output_type": "stream",
     "text": [
      "\r\n",
      "Normal id_02:  46%|█████████████████████████████▋                                  | 329/708 [00:16<00:19, 19.78it/s]"
     ]
    },
    {
     "name": "stderr",
     "output_type": "stream",
     "text": [
      "\r\n",
      "Normal id_02:  47%|██████████████████████████████                                  | 332/708 [00:16<00:19, 19.38it/s]"
     ]
    },
    {
     "name": "stderr",
     "output_type": "stream",
     "text": [
      "\r\n",
      "Normal id_02:  47%|██████████████████████████████▏                                 | 334/708 [00:16<00:19, 19.26it/s]"
     ]
    },
    {
     "name": "stderr",
     "output_type": "stream",
     "text": [
      "\r\n",
      "Normal id_02:  47%|██████████████████████████████▎                                 | 336/708 [00:17<00:19, 18.93it/s]"
     ]
    },
    {
     "name": "stderr",
     "output_type": "stream",
     "text": [
      "\r\n",
      "Normal id_02:  48%|██████████████████████████████▌                                 | 338/708 [00:17<00:19, 18.64it/s]"
     ]
    },
    {
     "name": "stderr",
     "output_type": "stream",
     "text": [
      "\r\n",
      "Normal id_02:  48%|██████████████████████████████▋                                 | 340/708 [00:17<00:20, 18.30it/s]"
     ]
    },
    {
     "name": "stderr",
     "output_type": "stream",
     "text": [
      "\r\n",
      "Normal id_02:  48%|██████████████████████████████▉                                 | 342/708 [00:17<00:20, 18.25it/s]"
     ]
    },
    {
     "name": "stderr",
     "output_type": "stream",
     "text": [
      "\r\n",
      "Normal id_02:  49%|███████████████████████████████                                 | 344/708 [00:17<00:20, 17.93it/s]"
     ]
    },
    {
     "name": "stderr",
     "output_type": "stream",
     "text": [
      "\r\n",
      "Normal id_02:  49%|███████████████████████████████▎                                | 347/708 [00:17<00:18, 19.35it/s]"
     ]
    },
    {
     "name": "stderr",
     "output_type": "stream",
     "text": [
      "\r\n",
      "Normal id_02:  49%|███████████████████████████████▋                                | 350/708 [00:17<00:18, 19.75it/s]"
     ]
    },
    {
     "name": "stderr",
     "output_type": "stream",
     "text": [
      "\r\n",
      "Normal id_02:  50%|███████████████████████████████▊                                | 352/708 [00:17<00:18, 19.66it/s]"
     ]
    },
    {
     "name": "stderr",
     "output_type": "stream",
     "text": [
      "\r\n",
      "Normal id_02:  50%|████████████████████████████████                                | 354/708 [00:17<00:18, 19.63it/s]"
     ]
    },
    {
     "name": "stderr",
     "output_type": "stream",
     "text": [
      "\r\n",
      "Normal id_02:  50%|████████████████████████████████▏                               | 356/708 [00:18<00:18, 19.55it/s]"
     ]
    },
    {
     "name": "stderr",
     "output_type": "stream",
     "text": [
      "\r\n",
      "Normal id_02:  51%|████████████████████████████████▍                               | 359/708 [00:18<00:17, 20.04it/s]"
     ]
    },
    {
     "name": "stderr",
     "output_type": "stream",
     "text": [
      "\r\n",
      "Normal id_02:  51%|████████████████████████████████▋                               | 362/708 [00:18<00:17, 20.30it/s]"
     ]
    },
    {
     "name": "stderr",
     "output_type": "stream",
     "text": [
      "\r\n",
      "Normal id_02:  52%|████████████████████████████████▉                               | 365/708 [00:18<00:17, 19.56it/s]"
     ]
    },
    {
     "name": "stderr",
     "output_type": "stream",
     "text": [
      "\r\n",
      "Normal id_02:  52%|█████████████████████████████████▏                              | 367/708 [00:18<00:17, 19.60it/s]"
     ]
    },
    {
     "name": "stderr",
     "output_type": "stream",
     "text": [
      "\r\n",
      "Normal id_02:  52%|█████████████████████████████████▍                              | 370/708 [00:18<00:16, 20.08it/s]"
     ]
    },
    {
     "name": "stderr",
     "output_type": "stream",
     "text": [
      "\r\n",
      "Normal id_02:  53%|█████████████████████████████████▋                              | 373/708 [00:18<00:17, 19.53it/s]"
     ]
    },
    {
     "name": "stderr",
     "output_type": "stream",
     "text": [
      "\r\n",
      "Normal id_02:  53%|█████████████████████████████████▉                              | 376/708 [00:19<00:16, 19.92it/s]"
     ]
    },
    {
     "name": "stderr",
     "output_type": "stream",
     "text": [
      "\r\n",
      "Normal id_02:  54%|██████████████████████████████████▎                             | 379/708 [00:19<00:16, 20.00it/s]"
     ]
    },
    {
     "name": "stderr",
     "output_type": "stream",
     "text": [
      "\r\n",
      "Normal id_02:  54%|██████████████████████████████████▌                             | 382/708 [00:19<00:15, 20.63it/s]"
     ]
    },
    {
     "name": "stderr",
     "output_type": "stream",
     "text": [
      "\r\n",
      "Normal id_02:  54%|██████████████████████████████████▊                             | 385/708 [00:19<00:16, 19.38it/s]"
     ]
    },
    {
     "name": "stderr",
     "output_type": "stream",
     "text": [
      "\r\n",
      "Normal id_02:  55%|███████████████████████████████████                             | 388/708 [00:19<00:16, 19.77it/s]"
     ]
    },
    {
     "name": "stderr",
     "output_type": "stream",
     "text": [
      "\r\n",
      "Normal id_02:  55%|███████████████████████████████████▎                            | 391/708 [00:19<00:15, 19.97it/s]"
     ]
    },
    {
     "name": "stderr",
     "output_type": "stream",
     "text": [
      "\r\n",
      "Normal id_02:  56%|███████████████████████████████████▌                            | 394/708 [00:19<00:15, 19.98it/s]"
     ]
    },
    {
     "name": "stderr",
     "output_type": "stream",
     "text": [
      "\r\n",
      "Normal id_02:  56%|███████████████████████████████████▉                            | 397/708 [00:20<00:15, 20.14it/s]"
     ]
    },
    {
     "name": "stderr",
     "output_type": "stream",
     "text": [
      "\r\n",
      "Normal id_02:  56%|████████████████████████████████████▏                           | 400/708 [00:20<00:15, 20.05it/s]"
     ]
    },
    {
     "name": "stderr",
     "output_type": "stream",
     "text": [
      "\r\n",
      "Normal id_02:  57%|████████████████████████████████████▍                           | 403/708 [00:20<00:15, 19.79it/s]"
     ]
    },
    {
     "name": "stderr",
     "output_type": "stream",
     "text": [
      "\r\n",
      "Normal id_02:  57%|████████████████████████████████████▌                           | 405/708 [00:20<00:15, 19.07it/s]"
     ]
    },
    {
     "name": "stderr",
     "output_type": "stream",
     "text": [
      "\r\n",
      "Normal id_02:  58%|████████████████████████████████████▉                           | 408/708 [00:20<00:15, 19.67it/s]"
     ]
    },
    {
     "name": "stderr",
     "output_type": "stream",
     "text": [
      "\r\n",
      "Normal id_02:  58%|█████████████████████████████████████▏                          | 411/708 [00:20<00:15, 19.72it/s]"
     ]
    },
    {
     "name": "stderr",
     "output_type": "stream",
     "text": [
      "\r\n",
      "Normal id_02:  58%|█████████████████████████████████████▎                          | 413/708 [00:20<00:15, 19.57it/s]"
     ]
    },
    {
     "name": "stderr",
     "output_type": "stream",
     "text": [
      "\r\n",
      "Normal id_02:  59%|█████████████████████████████████████▌                          | 415/708 [00:21<00:15, 19.09it/s]"
     ]
    },
    {
     "name": "stderr",
     "output_type": "stream",
     "text": [
      "\r\n",
      "Normal id_02:  59%|█████████████████████████████████████▊                          | 418/708 [00:21<00:14, 19.39it/s]"
     ]
    },
    {
     "name": "stderr",
     "output_type": "stream",
     "text": [
      "\r\n",
      "Normal id_02:  59%|██████████████████████████████████████                          | 421/708 [00:21<00:14, 19.82it/s]"
     ]
    },
    {
     "name": "stderr",
     "output_type": "stream",
     "text": [
      "\r\n",
      "Normal id_02:  60%|██████████████████████████████████████▏                         | 423/708 [00:21<00:15, 18.62it/s]"
     ]
    },
    {
     "name": "stderr",
     "output_type": "stream",
     "text": [
      "\r\n",
      "Normal id_02:  60%|██████████████████████████████████████▌                         | 426/708 [00:21<00:14, 19.23it/s]"
     ]
    },
    {
     "name": "stderr",
     "output_type": "stream",
     "text": [
      "\r\n",
      "Normal id_02:  61%|██████████████████████████████████████▊                         | 429/708 [00:21<00:14, 19.57it/s]"
     ]
    },
    {
     "name": "stderr",
     "output_type": "stream",
     "text": [
      "\r\n",
      "Normal id_02:  61%|███████████████████████████████████████                         | 432/708 [00:21<00:13, 19.85it/s]"
     ]
    },
    {
     "name": "stderr",
     "output_type": "stream",
     "text": [
      "\r\n",
      "Normal id_02:  61%|███████████████████████████████████████▏                        | 434/708 [00:22<00:13, 19.75it/s]"
     ]
    },
    {
     "name": "stderr",
     "output_type": "stream",
     "text": [
      "\r\n",
      "Normal id_02:  62%|███████████████████████████████████████▌                        | 437/708 [00:22<00:13, 20.52it/s]"
     ]
    },
    {
     "name": "stderr",
     "output_type": "stream",
     "text": [
      "\r\n",
      "Normal id_02:  62%|███████████████████████████████████████▊                        | 440/708 [00:22<00:13, 19.71it/s]"
     ]
    },
    {
     "name": "stderr",
     "output_type": "stream",
     "text": [
      "\r\n",
      "Normal id_02:  63%|████████████████████████████████████████                        | 443/708 [00:22<00:13, 19.23it/s]"
     ]
    },
    {
     "name": "stderr",
     "output_type": "stream",
     "text": [
      "\r\n",
      "Normal id_02:  63%|████████████████████████████████████████▎                       | 446/708 [00:22<00:13, 19.41it/s]"
     ]
    },
    {
     "name": "stderr",
     "output_type": "stream",
     "text": [
      "\r\n",
      "Normal id_02:  63%|████████████████████████████████████████▌                       | 449/708 [00:22<00:13, 19.71it/s]"
     ]
    },
    {
     "name": "stderr",
     "output_type": "stream",
     "text": [
      "\r\n",
      "Normal id_02:  64%|████████████████████████████████████████▊                       | 451/708 [00:22<00:13, 19.46it/s]"
     ]
    },
    {
     "name": "stderr",
     "output_type": "stream",
     "text": [
      "\r\n",
      "Normal id_02:  64%|████████████████████████████████████████▉                       | 453/708 [00:23<00:13, 18.89it/s]"
     ]
    },
    {
     "name": "stderr",
     "output_type": "stream",
     "text": [
      "\r\n",
      "Normal id_02:  64%|█████████████████████████████████████████▏                      | 455/708 [00:23<00:13, 18.88it/s]"
     ]
    },
    {
     "name": "stderr",
     "output_type": "stream",
     "text": [
      "\r\n",
      "Normal id_02:  65%|█████████████████████████████████████████▎                      | 457/708 [00:23<00:13, 18.41it/s]"
     ]
    },
    {
     "name": "stderr",
     "output_type": "stream",
     "text": [
      "\r\n",
      "Normal id_02:  65%|█████████████████████████████████████████▌                      | 460/708 [00:23<00:12, 19.13it/s]"
     ]
    },
    {
     "name": "stderr",
     "output_type": "stream",
     "text": [
      "\r\n",
      "Normal id_02:  65%|█████████████████████████████████████████▊                      | 463/708 [00:23<00:12, 19.15it/s]"
     ]
    },
    {
     "name": "stderr",
     "output_type": "stream",
     "text": [
      "\r\n",
      "Normal id_02:  66%|██████████████████████████████████████████                      | 466/708 [00:23<00:12, 19.94it/s]"
     ]
    },
    {
     "name": "stderr",
     "output_type": "stream",
     "text": [
      "\r\n",
      "Normal id_02:  66%|██████████████████████████████████████████▍                     | 469/708 [00:23<00:11, 20.42it/s]"
     ]
    },
    {
     "name": "stderr",
     "output_type": "stream",
     "text": [
      "\r\n",
      "Normal id_02:  67%|██████████████████████████████████████████▋                     | 472/708 [00:23<00:11, 20.75it/s]"
     ]
    },
    {
     "name": "stderr",
     "output_type": "stream",
     "text": [
      "\r\n",
      "Normal id_02:  67%|██████████████████████████████████████████▉                     | 475/708 [00:24<00:11, 19.50it/s]"
     ]
    },
    {
     "name": "stderr",
     "output_type": "stream",
     "text": [
      "\r\n",
      "Normal id_02:  68%|███████████████████████████████████████████▏                    | 478/708 [00:24<00:11, 19.61it/s]"
     ]
    },
    {
     "name": "stderr",
     "output_type": "stream",
     "text": [
      "\r\n",
      "Normal id_02:  68%|███████████████████████████████████████████▍                    | 481/708 [00:24<00:11, 19.49it/s]"
     ]
    },
    {
     "name": "stderr",
     "output_type": "stream",
     "text": [
      "\r\n",
      "Normal id_02:  68%|███████████████████████████████████████████▋                    | 483/708 [00:24<00:11, 18.79it/s]"
     ]
    },
    {
     "name": "stderr",
     "output_type": "stream",
     "text": [
      "\r\n",
      "Normal id_02:  69%|███████████████████████████████████████████▊                    | 485/708 [00:24<00:11, 18.83it/s]"
     ]
    },
    {
     "name": "stderr",
     "output_type": "stream",
     "text": [
      "\r\n",
      "Normal id_02:  69%|████████████████████████████████████████████                    | 488/708 [00:24<00:11, 19.68it/s]"
     ]
    },
    {
     "name": "stderr",
     "output_type": "stream",
     "text": [
      "\r\n",
      "Normal id_02:  69%|████████████████████████████████████████████▍                   | 491/708 [00:24<00:10, 20.23it/s]"
     ]
    },
    {
     "name": "stderr",
     "output_type": "stream",
     "text": [
      "\r\n",
      "Normal id_02:  70%|████████████████████████████████████████████▋                   | 494/708 [00:25<00:10, 19.79it/s]"
     ]
    },
    {
     "name": "stderr",
     "output_type": "stream",
     "text": [
      "\r\n",
      "Normal id_02:  70%|████████████████████████████████████████████▉                   | 497/708 [00:25<00:10, 20.49it/s]"
     ]
    },
    {
     "name": "stderr",
     "output_type": "stream",
     "text": [
      "\r\n",
      "Normal id_02:  71%|█████████████████████████████████████████████▏                  | 500/708 [00:25<00:10, 20.55it/s]"
     ]
    },
    {
     "name": "stderr",
     "output_type": "stream",
     "text": [
      "\r\n",
      "Normal id_02:  71%|█████████████████████████████████████████████▍                  | 503/708 [00:25<00:10, 19.93it/s]"
     ]
    },
    {
     "name": "stderr",
     "output_type": "stream",
     "text": [
      "\r\n",
      "Normal id_02:  71%|█████████████████████████████████████████████▋                  | 505/708 [00:25<00:10, 19.74it/s]"
     ]
    },
    {
     "name": "stderr",
     "output_type": "stream",
     "text": [
      "\r\n",
      "Normal id_02:  72%|█████████████████████████████████████████████▊                  | 507/708 [00:25<00:10, 19.53it/s]"
     ]
    },
    {
     "name": "stderr",
     "output_type": "stream",
     "text": [
      "\r\n",
      "Normal id_02:  72%|██████████████████████████████████████████████                  | 509/708 [00:25<00:10, 19.41it/s]"
     ]
    },
    {
     "name": "stderr",
     "output_type": "stream",
     "text": [
      "\r\n",
      "Normal id_02:  72%|██████████████████████████████████████████████▏                 | 511/708 [00:25<00:10, 18.81it/s]"
     ]
    },
    {
     "name": "stderr",
     "output_type": "stream",
     "text": [
      "\r\n",
      "Normal id_02:  73%|██████████████████████████████████████████████▍                 | 514/708 [00:26<00:09, 19.47it/s]"
     ]
    },
    {
     "name": "stderr",
     "output_type": "stream",
     "text": [
      "\r\n",
      "Normal id_02:  73%|██████████████████████████████████████████████▋                 | 517/708 [00:26<00:09, 20.34it/s]"
     ]
    },
    {
     "name": "stderr",
     "output_type": "stream",
     "text": [
      "\r\n",
      "Normal id_02:  73%|███████████████████████████████████████████████                 | 520/708 [00:26<00:09, 20.47it/s]"
     ]
    },
    {
     "name": "stderr",
     "output_type": "stream",
     "text": [
      "\r\n",
      "Normal id_02:  74%|███████████████████████████████████████████████▎                | 523/708 [00:26<00:09, 19.99it/s]"
     ]
    },
    {
     "name": "stderr",
     "output_type": "stream",
     "text": [
      "\r\n",
      "Normal id_02:  74%|███████████████████████████████████████████████▍                | 525/708 [00:26<00:09, 19.25it/s]"
     ]
    },
    {
     "name": "stderr",
     "output_type": "stream",
     "text": [
      "\r\n",
      "Normal id_02:  75%|███████████████████████████████████████████████▋                | 528/708 [00:26<00:09, 18.71it/s]"
     ]
    },
    {
     "name": "stderr",
     "output_type": "stream",
     "text": [
      "\r\n",
      "Normal id_02:  75%|████████████████████████████████████████████████                | 531/708 [00:26<00:09, 19.60it/s]"
     ]
    },
    {
     "name": "stderr",
     "output_type": "stream",
     "text": [
      "\r\n",
      "Normal id_02:  75%|████████████████████████████████████████████████▎               | 534/708 [00:27<00:08, 20.42it/s]"
     ]
    },
    {
     "name": "stderr",
     "output_type": "stream",
     "text": [
      "\r\n",
      "Normal id_02:  76%|████████████████████████████████████████████████▌               | 537/708 [00:27<00:08, 20.50it/s]"
     ]
    },
    {
     "name": "stderr",
     "output_type": "stream",
     "text": [
      "\r\n",
      "Normal id_02:  76%|████████████████████████████████████████████████▊               | 540/708 [00:27<00:08, 20.07it/s]"
     ]
    },
    {
     "name": "stderr",
     "output_type": "stream",
     "text": [
      "\r\n",
      "Normal id_02:  77%|█████████████████████████████████████████████████               | 543/708 [00:27<00:08, 19.50it/s]"
     ]
    },
    {
     "name": "stderr",
     "output_type": "stream",
     "text": [
      "\r\n",
      "Normal id_02:  77%|█████████████████████████████████████████████████▎              | 545/708 [00:27<00:08, 19.39it/s]"
     ]
    },
    {
     "name": "stderr",
     "output_type": "stream",
     "text": [
      "\r\n",
      "Normal id_02:  77%|█████████████████████████████████████████████████▌              | 548/708 [00:27<00:07, 20.08it/s]"
     ]
    },
    {
     "name": "stderr",
     "output_type": "stream",
     "text": [
      "\r\n",
      "Normal id_02:  78%|█████████████████████████████████████████████████▊              | 551/708 [00:27<00:08, 19.61it/s]"
     ]
    },
    {
     "name": "stderr",
     "output_type": "stream",
     "text": [
      "\r\n",
      "Normal id_02:  78%|█████████████████████████████████████████████████▉              | 553/708 [00:28<00:07, 19.46it/s]"
     ]
    },
    {
     "name": "stderr",
     "output_type": "stream",
     "text": [
      "\r\n",
      "Normal id_02:  79%|██████████████████████████████████████████████████▎             | 556/708 [00:28<00:07, 19.88it/s]"
     ]
    },
    {
     "name": "stderr",
     "output_type": "stream",
     "text": [
      "\r\n",
      "Normal id_02:  79%|██████████████████████████████████████████████████▌             | 559/708 [00:28<00:07, 19.98it/s]"
     ]
    },
    {
     "name": "stderr",
     "output_type": "stream",
     "text": [
      "\r\n",
      "Normal id_02:  79%|██████████████████████████████████████████████████▋             | 561/708 [00:28<00:07, 19.77it/s]"
     ]
    },
    {
     "name": "stderr",
     "output_type": "stream",
     "text": [
      "\r\n",
      "Normal id_02:  80%|██████████████████████████████████████████████████▉             | 564/708 [00:28<00:07, 19.93it/s]"
     ]
    },
    {
     "name": "stderr",
     "output_type": "stream",
     "text": [
      "\r\n",
      "Normal id_02:  80%|███████████████████████████████████████████████████▎            | 567/708 [00:28<00:07, 20.04it/s]"
     ]
    },
    {
     "name": "stderr",
     "output_type": "stream",
     "text": [
      "\r\n",
      "Normal id_02:  80%|███████████████████████████████████████████████████▍            | 569/708 [00:28<00:07, 19.85it/s]"
     ]
    },
    {
     "name": "stderr",
     "output_type": "stream",
     "text": [
      "\r\n",
      "Normal id_02:  81%|███████████████████████████████████████████████████▋            | 572/708 [00:29<00:06, 20.10it/s]"
     ]
    },
    {
     "name": "stderr",
     "output_type": "stream",
     "text": [
      "\r\n",
      "Normal id_02:  81%|███████████████████████████████████████████████████▉            | 575/708 [00:29<00:06, 19.44it/s]"
     ]
    },
    {
     "name": "stderr",
     "output_type": "stream",
     "text": [
      "\r\n",
      "Normal id_02:  82%|████████████████████████████████████████████████████▏           | 578/708 [00:29<00:06, 19.76it/s]"
     ]
    },
    {
     "name": "stderr",
     "output_type": "stream",
     "text": [
      "\r\n",
      "Normal id_02:  82%|████████████████████████████████████████████████████▍           | 580/708 [00:29<00:06, 18.89it/s]"
     ]
    },
    {
     "name": "stderr",
     "output_type": "stream",
     "text": [
      "\r\n",
      "Normal id_02:  82%|████████████████████████████████████████████████████▌           | 582/708 [00:29<00:06, 18.81it/s]"
     ]
    },
    {
     "name": "stderr",
     "output_type": "stream",
     "text": [
      "\r\n",
      "Normal id_02:  83%|████████████████████████████████████████████████████▉           | 585/708 [00:29<00:06, 19.52it/s]"
     ]
    },
    {
     "name": "stderr",
     "output_type": "stream",
     "text": [
      "\r\n",
      "Normal id_02:  83%|█████████████████████████████████████████████████████▏          | 588/708 [00:29<00:06, 19.77it/s]"
     ]
    },
    {
     "name": "stderr",
     "output_type": "stream",
     "text": [
      "\r\n",
      "Normal id_02:  83%|█████████████████████████████████████████████████████▍          | 591/708 [00:30<00:05, 20.04it/s]"
     ]
    },
    {
     "name": "stderr",
     "output_type": "stream",
     "text": [
      "\r\n",
      "Normal id_02:  84%|█████████████████████████████████████████████████████▋          | 594/708 [00:30<00:05, 20.23it/s]"
     ]
    },
    {
     "name": "stderr",
     "output_type": "stream",
     "text": [
      "\r\n",
      "Normal id_02:  84%|█████████████████████████████████████████████████████▉          | 597/708 [00:30<00:05, 20.44it/s]"
     ]
    },
    {
     "name": "stderr",
     "output_type": "stream",
     "text": [
      "\r\n",
      "Normal id_02:  85%|██████████████████████████████████████████████████████▏         | 600/708 [00:30<00:05, 20.19it/s]"
     ]
    },
    {
     "name": "stderr",
     "output_type": "stream",
     "text": [
      "\r\n",
      "Normal id_02:  85%|██████████████████████████████████████████████████████▌         | 603/708 [00:30<00:05, 19.74it/s]"
     ]
    },
    {
     "name": "stderr",
     "output_type": "stream",
     "text": [
      "\r\n",
      "Normal id_02:  86%|██████████████████████████████████████████████████████▊         | 606/708 [00:30<00:05, 20.29it/s]"
     ]
    },
    {
     "name": "stderr",
     "output_type": "stream",
     "text": [
      "\r\n",
      "Normal id_02:  86%|███████████████████████████████████████████████████████         | 609/708 [00:30<00:04, 20.86it/s]"
     ]
    },
    {
     "name": "stderr",
     "output_type": "stream",
     "text": [
      "\r\n",
      "Normal id_02:  86%|███████████████████████████████████████████████████████▎        | 612/708 [00:31<00:04, 21.25it/s]"
     ]
    },
    {
     "name": "stderr",
     "output_type": "stream",
     "text": [
      "\r\n",
      "Normal id_02:  87%|███████████████████████████████████████████████████████▌        | 615/708 [00:31<00:04, 21.36it/s]"
     ]
    },
    {
     "name": "stderr",
     "output_type": "stream",
     "text": [
      "\r\n",
      "Normal id_02:  87%|███████████████████████████████████████████████████████▊        | 618/708 [00:31<00:04, 21.13it/s]"
     ]
    },
    {
     "name": "stderr",
     "output_type": "stream",
     "text": [
      "\r\n",
      "Normal id_02:  88%|████████████████████████████████████████████████████████▏       | 621/708 [00:31<00:04, 20.86it/s]"
     ]
    },
    {
     "name": "stderr",
     "output_type": "stream",
     "text": [
      "\r\n",
      "Normal id_02:  88%|████████████████████████████████████████████████████████▍       | 624/708 [00:31<00:04, 19.63it/s]"
     ]
    },
    {
     "name": "stderr",
     "output_type": "stream",
     "text": [
      "\r\n",
      "Normal id_02:  89%|████████████████████████████████████████████████████████▋       | 627/708 [00:31<00:04, 19.95it/s]"
     ]
    },
    {
     "name": "stderr",
     "output_type": "stream",
     "text": [
      "\r\n",
      "Normal id_02:  89%|████████████████████████████████████████████████████████▉       | 630/708 [00:31<00:03, 20.10it/s]"
     ]
    },
    {
     "name": "stderr",
     "output_type": "stream",
     "text": [
      "\r\n",
      "Normal id_02:  89%|█████████████████████████████████████████████████████████▏      | 633/708 [00:32<00:03, 20.24it/s]"
     ]
    },
    {
     "name": "stderr",
     "output_type": "stream",
     "text": [
      "\r\n",
      "Normal id_02:  90%|█████████████████████████████████████████████████████████▍      | 636/708 [00:32<00:03, 20.41it/s]"
     ]
    },
    {
     "name": "stderr",
     "output_type": "stream",
     "text": [
      "\r\n",
      "Normal id_02:  90%|█████████████████████████████████████████████████████████▊      | 639/708 [00:32<00:03, 19.85it/s]"
     ]
    },
    {
     "name": "stderr",
     "output_type": "stream",
     "text": [
      "\r\n",
      "Normal id_02:  91%|█████████████████████████████████████████████████████████▉      | 641/708 [00:32<00:03, 18.76it/s]"
     ]
    },
    {
     "name": "stderr",
     "output_type": "stream",
     "text": [
      "\r\n",
      "Normal id_02:  91%|██████████████████████████████████████████████████████████      | 643/708 [00:32<00:03, 18.97it/s]"
     ]
    },
    {
     "name": "stderr",
     "output_type": "stream",
     "text": [
      "\r\n",
      "Normal id_02:  91%|██████████████████████████████████████████████████████████▎     | 645/708 [00:32<00:03, 18.89it/s]"
     ]
    },
    {
     "name": "stderr",
     "output_type": "stream",
     "text": [
      "\r\n",
      "Normal id_02:  91%|██████████████████████████████████████████████████████████▍     | 647/708 [00:32<00:03, 19.08it/s]"
     ]
    },
    {
     "name": "stderr",
     "output_type": "stream",
     "text": [
      "\r\n",
      "Normal id_02:  92%|██████████████████████████████████████████████████████████▋     | 649/708 [00:32<00:03, 18.72it/s]"
     ]
    },
    {
     "name": "stderr",
     "output_type": "stream",
     "text": [
      "\r\n",
      "Normal id_02:  92%|██████████████████████████████████████████████████████████▊     | 651/708 [00:33<00:02, 19.01it/s]"
     ]
    },
    {
     "name": "stderr",
     "output_type": "stream",
     "text": [
      "\r\n",
      "Normal id_02:  92%|███████████████████████████████████████████████████████████     | 654/708 [00:33<00:02, 19.37it/s]"
     ]
    },
    {
     "name": "stderr",
     "output_type": "stream",
     "text": [
      "\r\n",
      "Normal id_02:  93%|███████████████████████████████████████████████████████████▎    | 656/708 [00:33<00:02, 18.79it/s]"
     ]
    },
    {
     "name": "stderr",
     "output_type": "stream",
     "text": [
      "\r\n",
      "Normal id_02:  93%|███████████████████████████████████████████████████████████▌    | 659/708 [00:33<00:02, 19.94it/s]"
     ]
    },
    {
     "name": "stderr",
     "output_type": "stream",
     "text": [
      "\r\n",
      "Normal id_02:  93%|███████████████████████████████████████████████████████████▊    | 661/708 [00:33<00:02, 19.18it/s]"
     ]
    },
    {
     "name": "stderr",
     "output_type": "stream",
     "text": [
      "\r\n",
      "Normal id_02:  94%|████████████████████████████████████████████████████████████    | 664/708 [00:33<00:02, 19.94it/s]"
     ]
    },
    {
     "name": "stderr",
     "output_type": "stream",
     "text": [
      "\r\n",
      "Normal id_02:  94%|████████████████████████████████████████████████████████████▎   | 667/708 [00:33<00:02, 20.26it/s]"
     ]
    },
    {
     "name": "stderr",
     "output_type": "stream",
     "text": [
      "\r\n",
      "Normal id_02:  95%|████████████████████████████████████████████████████████████▌   | 670/708 [00:33<00:01, 20.28it/s]"
     ]
    },
    {
     "name": "stderr",
     "output_type": "stream",
     "text": [
      "\r\n",
      "Normal id_02:  95%|████████████████████████████████████████████████████████████▊   | 673/708 [00:34<00:01, 19.84it/s]"
     ]
    },
    {
     "name": "stderr",
     "output_type": "stream",
     "text": [
      "\r\n",
      "Normal id_02:  95%|█████████████████████████████████████████████████████████████   | 675/708 [00:34<00:01, 19.85it/s]"
     ]
    },
    {
     "name": "stderr",
     "output_type": "stream",
     "text": [
      "\r\n",
      "Normal id_02:  96%|█████████████████████████████████████████████████████████████▏  | 677/708 [00:34<00:01, 19.06it/s]"
     ]
    },
    {
     "name": "stderr",
     "output_type": "stream",
     "text": [
      "\r\n",
      "Normal id_02:  96%|█████████████████████████████████████████████████████████████▍  | 680/708 [00:34<00:01, 18.77it/s]"
     ]
    },
    {
     "name": "stderr",
     "output_type": "stream",
     "text": [
      "\r\n",
      "Normal id_02:  96%|█████████████████████████████████████████████████████████████▋  | 683/708 [00:34<00:01, 18.58it/s]"
     ]
    },
    {
     "name": "stderr",
     "output_type": "stream",
     "text": [
      "\r\n",
      "Normal id_02:  97%|██████████████████████████████████████████████████████████████  | 686/708 [00:34<00:01, 19.23it/s]"
     ]
    },
    {
     "name": "stderr",
     "output_type": "stream",
     "text": [
      "\r\n",
      "Normal id_02:  97%|██████████████████████████████████████████████████████████████▎ | 689/708 [00:34<00:00, 19.82it/s]"
     ]
    },
    {
     "name": "stderr",
     "output_type": "stream",
     "text": [
      "\r\n",
      "Normal id_02:  98%|██████████████████████████████████████████████████████████████▌ | 692/708 [00:35<00:00, 20.43it/s]"
     ]
    },
    {
     "name": "stderr",
     "output_type": "stream",
     "text": [
      "\r\n",
      "Normal id_02:  98%|██████████████████████████████████████████████████████████████▊ | 695/708 [00:35<00:00, 20.82it/s]"
     ]
    },
    {
     "name": "stderr",
     "output_type": "stream",
     "text": [
      "\r\n",
      "Normal id_02:  99%|███████████████████████████████████████████████████████████████ | 698/708 [00:35<00:00, 20.30it/s]"
     ]
    },
    {
     "name": "stderr",
     "output_type": "stream",
     "text": [
      "\r\n",
      "Normal id_02:  99%|███████████████████████████████████████████████████████████████▎| 701/708 [00:35<00:00, 19.16it/s]"
     ]
    },
    {
     "name": "stderr",
     "output_type": "stream",
     "text": [
      "\r\n",
      "Normal id_02:  99%|███████████████████████████████████████████████████████████████▋| 704/708 [00:35<00:00, 19.76it/s]"
     ]
    },
    {
     "name": "stderr",
     "output_type": "stream",
     "text": [
      "\r\n",
      "Normal id_02: 100%|███████████████████████████████████████████████████████████████▊| 706/708 [00:35<00:00, 19.79it/s]"
     ]
    },
    {
     "name": "stderr",
     "output_type": "stream",
     "text": [
      "\r\n",
      "Normal id_02: 100%|████████████████████████████████████████████████████████████████| 708/708 [00:35<00:00, 19.72it/s]"
     ]
    },
    {
     "name": "stderr",
     "output_type": "stream",
     "text": [
      "\n"
     ]
    },
    {
     "name": "stdout",
     "output_type": "stream",
     "text": [
      "Processing 120 abnormal files for id_02...\n"
     ]
    },
    {
     "name": "stderr",
     "output_type": "stream",
     "text": [
      "\r\n",
      "Abnormal id_02:   0%|                                                                        | 0/120 [00:00<?, ?it/s]"
     ]
    },
    {
     "name": "stderr",
     "output_type": "stream",
     "text": [
      "\r\n",
      "Abnormal id_02:   2%|█▌                                                              | 3/120 [00:00<00:05, 20.44it/s]"
     ]
    },
    {
     "name": "stderr",
     "output_type": "stream",
     "text": [
      "\r\n",
      "Abnormal id_02:   5%|███▏                                                            | 6/120 [00:00<00:05, 20.18it/s]"
     ]
    },
    {
     "name": "stderr",
     "output_type": "stream",
     "text": [
      "\r\n",
      "Abnormal id_02:   8%|████▊                                                           | 9/120 [00:00<00:05, 20.34it/s]"
     ]
    },
    {
     "name": "stderr",
     "output_type": "stream",
     "text": [
      "\r\n",
      "Abnormal id_02:  10%|██████▎                                                        | 12/120 [00:00<00:05, 19.19it/s]"
     ]
    },
    {
     "name": "stderr",
     "output_type": "stream",
     "text": [
      "\r\n",
      "Abnormal id_02:  12%|███████▉                                                       | 15/120 [00:00<00:05, 20.20it/s]"
     ]
    },
    {
     "name": "stderr",
     "output_type": "stream",
     "text": [
      "\r\n",
      "Abnormal id_02:  15%|█████████▍                                                     | 18/120 [00:00<00:04, 20.86it/s]"
     ]
    },
    {
     "name": "stderr",
     "output_type": "stream",
     "text": [
      "\r\n",
      "Abnormal id_02:  18%|███████████                                                    | 21/120 [00:01<00:04, 21.15it/s]"
     ]
    },
    {
     "name": "stderr",
     "output_type": "stream",
     "text": [
      "\r\n",
      "Abnormal id_02:  20%|████████████▌                                                  | 24/120 [00:01<00:04, 21.47it/s]"
     ]
    },
    {
     "name": "stderr",
     "output_type": "stream",
     "text": [
      "\r\n",
      "Abnormal id_02:  22%|██████████████▏                                                | 27/120 [00:01<00:04, 21.68it/s]"
     ]
    },
    {
     "name": "stderr",
     "output_type": "stream",
     "text": [
      "\r\n",
      "Abnormal id_02:  25%|███████████████▊                                               | 30/120 [00:01<00:04, 20.50it/s]"
     ]
    },
    {
     "name": "stderr",
     "output_type": "stream",
     "text": [
      "\r\n",
      "Abnormal id_02:  28%|█████████████████▎                                             | 33/120 [00:01<00:04, 19.62it/s]"
     ]
    },
    {
     "name": "stderr",
     "output_type": "stream",
     "text": [
      "\r\n",
      "Abnormal id_02:  30%|██████████████████▉                                            | 36/120 [00:01<00:04, 20.34it/s]"
     ]
    },
    {
     "name": "stderr",
     "output_type": "stream",
     "text": [
      "\r\n",
      "Abnormal id_02:  32%|████████████████████▍                                          | 39/120 [00:01<00:04, 20.12it/s]"
     ]
    },
    {
     "name": "stderr",
     "output_type": "stream",
     "text": [
      "\r\n",
      "Abnormal id_02:  35%|██████████████████████                                         | 42/120 [00:02<00:03, 19.77it/s]"
     ]
    },
    {
     "name": "stderr",
     "output_type": "stream",
     "text": [
      "\r\n",
      "Abnormal id_02:  37%|███████████████████████                                        | 44/120 [00:02<00:03, 19.79it/s]"
     ]
    },
    {
     "name": "stderr",
     "output_type": "stream",
     "text": [
      "\r\n",
      "Abnormal id_02:  38%|████████████████████████▏                                      | 46/120 [00:02<00:03, 19.67it/s]"
     ]
    },
    {
     "name": "stderr",
     "output_type": "stream",
     "text": [
      "\r\n",
      "Abnormal id_02:  41%|█████████████████████████▋                                     | 49/120 [00:02<00:03, 20.47it/s]"
     ]
    },
    {
     "name": "stderr",
     "output_type": "stream",
     "text": [
      "\r\n",
      "Abnormal id_02:  43%|███████████████████████████▎                                   | 52/120 [00:02<00:03, 19.26it/s]"
     ]
    },
    {
     "name": "stderr",
     "output_type": "stream",
     "text": [
      "\r\n",
      "Abnormal id_02:  45%|████████████████████████████▎                                  | 54/120 [00:02<00:03, 19.07it/s]"
     ]
    },
    {
     "name": "stderr",
     "output_type": "stream",
     "text": [
      "\r\n",
      "Abnormal id_02:  48%|█████████████████████████████▉                                 | 57/120 [00:02<00:03, 19.77it/s]"
     ]
    },
    {
     "name": "stderr",
     "output_type": "stream",
     "text": [
      "\r\n",
      "Abnormal id_02:  50%|███████████████████████████████▌                               | 60/120 [00:02<00:02, 20.29it/s]"
     ]
    },
    {
     "name": "stderr",
     "output_type": "stream",
     "text": [
      "\r\n",
      "Abnormal id_02:  52%|█████████████████████████████████                              | 63/120 [00:03<00:02, 20.79it/s]"
     ]
    },
    {
     "name": "stderr",
     "output_type": "stream",
     "text": [
      "\r\n",
      "Abnormal id_02:  55%|██████████████████████████████████▋                            | 66/120 [00:03<00:02, 21.12it/s]"
     ]
    },
    {
     "name": "stderr",
     "output_type": "stream",
     "text": [
      "\r\n",
      "Abnormal id_02:  57%|████████████████████████████████████▏                          | 69/120 [00:03<00:02, 20.23it/s]"
     ]
    },
    {
     "name": "stderr",
     "output_type": "stream",
     "text": [
      "\r\n",
      "Abnormal id_02:  60%|█████████████████████████████████████▊                         | 72/120 [00:03<00:02, 19.01it/s]"
     ]
    },
    {
     "name": "stderr",
     "output_type": "stream",
     "text": [
      "\r\n",
      "Abnormal id_02:  62%|███████████████████████████████████████▍                       | 75/120 [00:03<00:02, 19.54it/s]"
     ]
    },
    {
     "name": "stderr",
     "output_type": "stream",
     "text": [
      "\r\n",
      "Abnormal id_02:  65%|████████████████████████████████████████▉                      | 78/120 [00:03<00:02, 19.95it/s]"
     ]
    },
    {
     "name": "stderr",
     "output_type": "stream",
     "text": [
      "\r\n",
      "Abnormal id_02:  68%|██████████████████████████████████████████▌                    | 81/120 [00:04<00:01, 20.37it/s]"
     ]
    },
    {
     "name": "stderr",
     "output_type": "stream",
     "text": [
      "\r\n",
      "Abnormal id_02:  70%|████████████████████████████████████████████                   | 84/120 [00:04<00:01, 20.46it/s]"
     ]
    },
    {
     "name": "stderr",
     "output_type": "stream",
     "text": [
      "\r\n",
      "Abnormal id_02:  72%|█████████████████████████████████████████████▋                 | 87/120 [00:04<00:01, 20.46it/s]"
     ]
    },
    {
     "name": "stderr",
     "output_type": "stream",
     "text": [
      "\r\n",
      "Abnormal id_02:  75%|███████████████████████████████████████████████▎               | 90/120 [00:04<00:01, 20.18it/s]"
     ]
    },
    {
     "name": "stderr",
     "output_type": "stream",
     "text": [
      "\r\n",
      "Abnormal id_02:  78%|████████████████████████████████████████████████▊              | 93/120 [00:04<00:01, 19.51it/s]"
     ]
    },
    {
     "name": "stderr",
     "output_type": "stream",
     "text": [
      "\r\n",
      "Abnormal id_02:  80%|██████████████████████████████████████████████████▍            | 96/120 [00:04<00:01, 20.27it/s]"
     ]
    },
    {
     "name": "stderr",
     "output_type": "stream",
     "text": [
      "\r\n",
      "Abnormal id_02:  82%|███████████████████████████████████████████████████▉           | 99/120 [00:04<00:01, 20.41it/s]"
     ]
    },
    {
     "name": "stderr",
     "output_type": "stream",
     "text": [
      "\r\n",
      "Abnormal id_02:  85%|████████████████████████████████████████████████████▋         | 102/120 [00:05<00:00, 20.52it/s]"
     ]
    },
    {
     "name": "stderr",
     "output_type": "stream",
     "text": [
      "\r\n",
      "Abnormal id_02:  88%|██████████████████████████████████████████████████████▎       | 105/120 [00:05<00:00, 20.48it/s]"
     ]
    },
    {
     "name": "stderr",
     "output_type": "stream",
     "text": [
      "\r\n",
      "Abnormal id_02:  90%|███████████████████████████████████████████████████████▊      | 108/120 [00:05<00:00, 20.53it/s]"
     ]
    },
    {
     "name": "stderr",
     "output_type": "stream",
     "text": [
      "\r\n",
      "Abnormal id_02:  92%|█████████████████████████████████████████████████████████▎    | 111/120 [00:05<00:00, 20.07it/s]"
     ]
    },
    {
     "name": "stderr",
     "output_type": "stream",
     "text": [
      "\r\n",
      "Abnormal id_02:  95%|██████████████████████████████████████████████████████████▉   | 114/120 [00:05<00:00, 18.89it/s]"
     ]
    },
    {
     "name": "stderr",
     "output_type": "stream",
     "text": [
      "\r\n",
      "Abnormal id_02:  97%|███████████████████████████████████████████████████████████▉  | 116/120 [00:05<00:00, 19.06it/s]"
     ]
    },
    {
     "name": "stderr",
     "output_type": "stream",
     "text": [
      "\r\n",
      "Abnormal id_02:  99%|█████████████████████████████████████████████████████████████▍| 119/120 [00:05<00:00, 19.57it/s]"
     ]
    },
    {
     "name": "stderr",
     "output_type": "stream",
     "text": [
      "\r\n",
      "Abnormal id_02: 100%|██████████████████████████████████████████████████████████████| 120/120 [00:05<00:00, 20.06it/s]"
     ]
    },
    {
     "name": "stderr",
     "output_type": "stream",
     "text": [
      "\n"
     ]
    },
    {
     "name": "stdout",
     "output_type": "stream",
     "text": [
      "Processing 1000 normal files for id_04...\n"
     ]
    },
    {
     "name": "stderr",
     "output_type": "stream",
     "text": [
      "\r\n",
      "Normal id_04:   0%|                                                                         | 0/1000 [00:00<?, ?it/s]"
     ]
    },
    {
     "name": "stderr",
     "output_type": "stream",
     "text": [
      "\r\n",
      "Normal id_04:   0%|▏                                                                | 2/1000 [00:00<00:52, 18.92it/s]"
     ]
    },
    {
     "name": "stderr",
     "output_type": "stream",
     "text": [
      "\r\n",
      "Normal id_04:   0%|▎                                                                | 5/1000 [00:00<00:47, 20.98it/s]"
     ]
    },
    {
     "name": "stderr",
     "output_type": "stream",
     "text": [
      "\r\n",
      "Normal id_04:   1%|▌                                                                | 8/1000 [00:00<00:53, 18.59it/s]"
     ]
    },
    {
     "name": "stderr",
     "output_type": "stream",
     "text": [
      "\r\n",
      "Normal id_04:   1%|▋                                                               | 11/1000 [00:00<00:52, 18.66it/s]"
     ]
    },
    {
     "name": "stderr",
     "output_type": "stream",
     "text": [
      "\r\n",
      "Normal id_04:   1%|▉                                                               | 14/1000 [00:00<00:49, 19.73it/s]"
     ]
    },
    {
     "name": "stderr",
     "output_type": "stream",
     "text": [
      "\r\n",
      "Normal id_04:   2%|█                                                               | 17/1000 [00:00<00:48, 20.22it/s]"
     ]
    },
    {
     "name": "stderr",
     "output_type": "stream",
     "text": [
      "\r\n",
      "Normal id_04:   2%|█▎                                                              | 20/1000 [00:01<00:49, 19.75it/s]"
     ]
    },
    {
     "name": "stderr",
     "output_type": "stream",
     "text": [
      "\r\n",
      "Normal id_04:   2%|█▍                                                              | 22/1000 [00:01<00:49, 19.72it/s]"
     ]
    },
    {
     "name": "stderr",
     "output_type": "stream",
     "text": [
      "\r\n",
      "Normal id_04:   2%|█▌                                                              | 24/1000 [00:01<00:49, 19.66it/s]"
     ]
    },
    {
     "name": "stderr",
     "output_type": "stream",
     "text": [
      "\r\n",
      "Normal id_04:   3%|█▋                                                              | 26/1000 [00:01<00:50, 19.39it/s]"
     ]
    },
    {
     "name": "stderr",
     "output_type": "stream",
     "text": [
      "\r\n",
      "Normal id_04:   3%|█▊                                                              | 28/1000 [00:01<00:50, 19.34it/s]"
     ]
    },
    {
     "name": "stderr",
     "output_type": "stream",
     "text": [
      "\r\n",
      "Normal id_04:   3%|█▉                                                              | 30/1000 [00:01<00:51, 18.94it/s]"
     ]
    },
    {
     "name": "stderr",
     "output_type": "stream",
     "text": [
      "\r\n",
      "Normal id_04:   3%|██                                                              | 32/1000 [00:01<00:54, 17.62it/s]"
     ]
    },
    {
     "name": "stderr",
     "output_type": "stream",
     "text": [
      "\r\n",
      "Normal id_04:   4%|██▏                                                             | 35/1000 [00:01<00:51, 18.87it/s]"
     ]
    },
    {
     "name": "stderr",
     "output_type": "stream",
     "text": [
      "\r\n",
      "Normal id_04:   4%|██▍                                                             | 38/1000 [00:01<00:49, 19.49it/s]"
     ]
    },
    {
     "name": "stderr",
     "output_type": "stream",
     "text": [
      "\r\n",
      "Normal id_04:   4%|██▌                                                             | 41/1000 [00:02<00:47, 20.17it/s]"
     ]
    },
    {
     "name": "stderr",
     "output_type": "stream",
     "text": [
      "\r\n",
      "Normal id_04:   4%|██▊                                                             | 44/1000 [00:02<00:47, 20.26it/s]"
     ]
    },
    {
     "name": "stderr",
     "output_type": "stream",
     "text": [
      "\r\n",
      "Normal id_04:   5%|███                                                             | 47/1000 [00:02<00:46, 20.33it/s]"
     ]
    },
    {
     "name": "stderr",
     "output_type": "stream",
     "text": [
      "\r\n",
      "Normal id_04:   5%|███▏                                                            | 50/1000 [00:02<00:47, 19.96it/s]"
     ]
    },
    {
     "name": "stderr",
     "output_type": "stream",
     "text": [
      "\r\n",
      "Normal id_04:   5%|███▎                                                            | 52/1000 [00:02<00:49, 19.29it/s]"
     ]
    },
    {
     "name": "stderr",
     "output_type": "stream",
     "text": [
      "\r\n",
      "Normal id_04:   6%|███▌                                                            | 55/1000 [00:02<00:47, 19.70it/s]"
     ]
    },
    {
     "name": "stderr",
     "output_type": "stream",
     "text": [
      "\r\n",
      "Normal id_04:   6%|███▋                                                            | 57/1000 [00:02<00:47, 19.66it/s]"
     ]
    },
    {
     "name": "stderr",
     "output_type": "stream",
     "text": [
      "\r\n",
      "Normal id_04:   6%|███▊                                                            | 59/1000 [00:03<00:47, 19.62it/s]"
     ]
    },
    {
     "name": "stderr",
     "output_type": "stream",
     "text": [
      "\r\n",
      "Normal id_04:   6%|███▉                                                            | 61/1000 [00:03<00:47, 19.65it/s]"
     ]
    },
    {
     "name": "stderr",
     "output_type": "stream",
     "text": [
      "\r\n",
      "Normal id_04:   6%|████                                                            | 64/1000 [00:03<00:46, 20.01it/s]"
     ]
    },
    {
     "name": "stderr",
     "output_type": "stream",
     "text": [
      "\r\n",
      "Normal id_04:   7%|████▎                                                           | 67/1000 [00:03<00:46, 20.12it/s]"
     ]
    },
    {
     "name": "stderr",
     "output_type": "stream",
     "text": [
      "\r\n",
      "Normal id_04:   7%|████▍                                                           | 70/1000 [00:03<00:46, 19.86it/s]"
     ]
    },
    {
     "name": "stderr",
     "output_type": "stream",
     "text": [
      "\r\n",
      "Normal id_04:   7%|████▌                                                           | 72/1000 [00:03<00:48, 19.14it/s]"
     ]
    },
    {
     "name": "stderr",
     "output_type": "stream",
     "text": [
      "\r\n",
      "Normal id_04:   8%|████▊                                                           | 75/1000 [00:03<00:46, 19.89it/s]"
     ]
    },
    {
     "name": "stderr",
     "output_type": "stream",
     "text": [
      "\r\n",
      "Normal id_04:   8%|████▉                                                           | 77/1000 [00:03<00:47, 19.53it/s]"
     ]
    },
    {
     "name": "stderr",
     "output_type": "stream",
     "text": [
      "\r\n",
      "Normal id_04:   8%|█████                                                           | 79/1000 [00:04<00:47, 19.45it/s]"
     ]
    },
    {
     "name": "stderr",
     "output_type": "stream",
     "text": [
      "\r\n",
      "Normal id_04:   8%|█████▏                                                          | 81/1000 [00:04<00:48, 19.11it/s]"
     ]
    },
    {
     "name": "stderr",
     "output_type": "stream",
     "text": [
      "\r\n",
      "Normal id_04:   8%|█████▎                                                          | 83/1000 [00:04<00:48, 19.10it/s]"
     ]
    },
    {
     "name": "stderr",
     "output_type": "stream",
     "text": [
      "\r\n",
      "Normal id_04:   8%|█████▍                                                          | 85/1000 [00:04<00:47, 19.23it/s]"
     ]
    },
    {
     "name": "stderr",
     "output_type": "stream",
     "text": [
      "\r\n",
      "Normal id_04:   9%|█████▋                                                          | 88/1000 [00:04<00:46, 19.80it/s]"
     ]
    },
    {
     "name": "stderr",
     "output_type": "stream",
     "text": [
      "\r\n",
      "Normal id_04:   9%|█████▊                                                          | 90/1000 [00:04<00:48, 18.85it/s]"
     ]
    },
    {
     "name": "stderr",
     "output_type": "stream",
     "text": [
      "\r\n",
      "Normal id_04:   9%|█████▉                                                          | 92/1000 [00:04<00:48, 18.56it/s]"
     ]
    },
    {
     "name": "stderr",
     "output_type": "stream",
     "text": [
      "\r\n",
      "Normal id_04:  10%|██████                                                          | 95/1000 [00:04<00:45, 19.70it/s]"
     ]
    },
    {
     "name": "stderr",
     "output_type": "stream",
     "text": [
      "\r\n",
      "Normal id_04:  10%|██████▏                                                         | 97/1000 [00:04<00:45, 19.75it/s]"
     ]
    },
    {
     "name": "stderr",
     "output_type": "stream",
     "text": [
      "\r\n",
      "Normal id_04:  10%|██████▎                                                         | 99/1000 [00:05<00:49, 18.21it/s]"
     ]
    },
    {
     "name": "stderr",
     "output_type": "stream",
     "text": [
      "\r\n",
      "Normal id_04:  10%|██████▍                                                        | 102/1000 [00:05<00:46, 19.45it/s]"
     ]
    },
    {
     "name": "stderr",
     "output_type": "stream",
     "text": [
      "\r\n",
      "Normal id_04:  10%|██████▌                                                        | 105/1000 [00:05<00:45, 19.85it/s]"
     ]
    },
    {
     "name": "stderr",
     "output_type": "stream",
     "text": [
      "\r\n",
      "Normal id_04:  11%|██████▊                                                        | 108/1000 [00:05<00:44, 20.09it/s]"
     ]
    },
    {
     "name": "stderr",
     "output_type": "stream",
     "text": [
      "\r\n",
      "Normal id_04:  11%|██████▉                                                        | 111/1000 [00:05<00:47, 18.87it/s]"
     ]
    },
    {
     "name": "stderr",
     "output_type": "stream",
     "text": [
      "\r\n",
      "Normal id_04:  11%|███████                                                        | 113/1000 [00:05<00:47, 18.81it/s]"
     ]
    },
    {
     "name": "stderr",
     "output_type": "stream",
     "text": [
      "\r\n",
      "Normal id_04:  12%|███████▏                                                       | 115/1000 [00:05<00:47, 18.75it/s]"
     ]
    },
    {
     "name": "stderr",
     "output_type": "stream",
     "text": [
      "\r\n",
      "Normal id_04:  12%|███████▎                                                       | 117/1000 [00:06<00:47, 18.65it/s]"
     ]
    },
    {
     "name": "stderr",
     "output_type": "stream",
     "text": [
      "\r\n",
      "Normal id_04:  12%|███████▍                                                       | 119/1000 [00:06<00:46, 18.84it/s]"
     ]
    },
    {
     "name": "stderr",
     "output_type": "stream",
     "text": [
      "\r\n",
      "Normal id_04:  12%|███████▌                                                       | 121/1000 [00:06<00:46, 18.95it/s]"
     ]
    },
    {
     "name": "stderr",
     "output_type": "stream",
     "text": [
      "\r\n",
      "Normal id_04:  12%|███████▋                                                       | 123/1000 [00:06<00:46, 19.00it/s]"
     ]
    },
    {
     "name": "stderr",
     "output_type": "stream",
     "text": [
      "\r\n",
      "Normal id_04:  12%|███████▉                                                       | 125/1000 [00:06<00:45, 19.11it/s]"
     ]
    },
    {
     "name": "stderr",
     "output_type": "stream",
     "text": [
      "\r\n",
      "Normal id_04:  13%|████████                                                       | 127/1000 [00:06<00:46, 18.90it/s]"
     ]
    },
    {
     "name": "stderr",
     "output_type": "stream",
     "text": [
      "\r\n",
      "Normal id_04:  13%|████████▏                                                      | 129/1000 [00:06<00:48, 17.93it/s]"
     ]
    },
    {
     "name": "stderr",
     "output_type": "stream",
     "text": [
      "\r\n",
      "Normal id_04:  13%|████████▎                                                      | 131/1000 [00:06<00:47, 18.47it/s]"
     ]
    },
    {
     "name": "stderr",
     "output_type": "stream",
     "text": [
      "\r\n",
      "Normal id_04:  13%|████████▍                                                      | 134/1000 [00:06<00:45, 19.13it/s]"
     ]
    },
    {
     "name": "stderr",
     "output_type": "stream",
     "text": [
      "\r\n",
      "Normal id_04:  14%|████████▋                                                      | 137/1000 [00:07<00:43, 20.02it/s]"
     ]
    },
    {
     "name": "stderr",
     "output_type": "stream",
     "text": [
      "\r\n",
      "Normal id_04:  14%|████████▊                                                      | 140/1000 [00:07<00:42, 20.40it/s]"
     ]
    },
    {
     "name": "stderr",
     "output_type": "stream",
     "text": [
      "\r\n",
      "Normal id_04:  14%|█████████                                                      | 143/1000 [00:07<00:41, 20.60it/s]"
     ]
    },
    {
     "name": "stderr",
     "output_type": "stream",
     "text": [
      "\r\n",
      "Normal id_04:  15%|█████████▏                                                     | 146/1000 [00:07<00:42, 20.08it/s]"
     ]
    },
    {
     "name": "stderr",
     "output_type": "stream",
     "text": [
      "\r\n",
      "Normal id_04:  15%|█████████▍                                                     | 149/1000 [00:07<00:44, 19.14it/s]"
     ]
    },
    {
     "name": "stderr",
     "output_type": "stream",
     "text": [
      "\r\n",
      "Normal id_04:  15%|█████████▌                                                     | 152/1000 [00:07<00:43, 19.59it/s]"
     ]
    },
    {
     "name": "stderr",
     "output_type": "stream",
     "text": [
      "\r\n",
      "Normal id_04:  16%|█████████▊                                                     | 155/1000 [00:07<00:42, 20.11it/s]"
     ]
    },
    {
     "name": "stderr",
     "output_type": "stream",
     "text": [
      "\r\n",
      "Normal id_04:  16%|█████████▉                                                     | 158/1000 [00:08<00:41, 20.43it/s]"
     ]
    },
    {
     "name": "stderr",
     "output_type": "stream",
     "text": [
      "\r\n",
      "Normal id_04:  16%|██████████▏                                                    | 161/1000 [00:08<00:40, 20.97it/s]"
     ]
    },
    {
     "name": "stderr",
     "output_type": "stream",
     "text": [
      "\r\n",
      "Normal id_04:  16%|██████████▎                                                    | 164/1000 [00:08<00:39, 21.26it/s]"
     ]
    },
    {
     "name": "stderr",
     "output_type": "stream",
     "text": [
      "\r\n",
      "Normal id_04:  17%|██████████▌                                                    | 167/1000 [00:08<00:39, 20.98it/s]"
     ]
    },
    {
     "name": "stderr",
     "output_type": "stream",
     "text": [
      "\r\n",
      "Normal id_04:  17%|██████████▋                                                    | 170/1000 [00:08<00:41, 19.89it/s]"
     ]
    },
    {
     "name": "stderr",
     "output_type": "stream",
     "text": [
      "\r\n",
      "Normal id_04:  17%|██████████▉                                                    | 173/1000 [00:08<00:42, 19.36it/s]"
     ]
    },
    {
     "name": "stderr",
     "output_type": "stream",
     "text": [
      "\r\n",
      "Normal id_04:  18%|███████████                                                    | 175/1000 [00:08<00:42, 19.19it/s]"
     ]
    },
    {
     "name": "stderr",
     "output_type": "stream",
     "text": [
      "\r\n",
      "Normal id_04:  18%|███████████▏                                                   | 178/1000 [00:09<00:42, 19.43it/s]"
     ]
    },
    {
     "name": "stderr",
     "output_type": "stream",
     "text": [
      "\r\n",
      "Normal id_04:  18%|███████████▎                                                   | 180/1000 [00:09<00:42, 19.39it/s]"
     ]
    },
    {
     "name": "stderr",
     "output_type": "stream",
     "text": [
      "\r\n",
      "Normal id_04:  18%|███████████▍                                                   | 182/1000 [00:09<00:43, 19.00it/s]"
     ]
    },
    {
     "name": "stderr",
     "output_type": "stream",
     "text": [
      "\r\n",
      "Normal id_04:  18%|███████████▌                                                   | 184/1000 [00:09<00:44, 18.33it/s]"
     ]
    },
    {
     "name": "stderr",
     "output_type": "stream",
     "text": [
      "\r\n",
      "Normal id_04:  19%|███████████▋                                                   | 186/1000 [00:09<00:43, 18.55it/s]"
     ]
    },
    {
     "name": "stderr",
     "output_type": "stream",
     "text": [
      "\r\n",
      "Normal id_04:  19%|███████████▊                                                   | 188/1000 [00:09<00:44, 18.09it/s]"
     ]
    },
    {
     "name": "stderr",
     "output_type": "stream",
     "text": [
      "\r\n",
      "Normal id_04:  19%|████████████                                                   | 191/1000 [00:09<00:42, 18.85it/s]"
     ]
    },
    {
     "name": "stderr",
     "output_type": "stream",
     "text": [
      "\r\n",
      "Normal id_04:  19%|████████████▏                                                  | 194/1000 [00:09<00:40, 19.89it/s]"
     ]
    },
    {
     "name": "stderr",
     "output_type": "stream",
     "text": [
      "\r\n",
      "Normal id_04:  20%|████████████▍                                                  | 197/1000 [00:10<00:39, 20.53it/s]"
     ]
    },
    {
     "name": "stderr",
     "output_type": "stream",
     "text": [
      "\r\n",
      "Normal id_04:  20%|████████████▌                                                  | 200/1000 [00:10<00:38, 20.97it/s]"
     ]
    },
    {
     "name": "stderr",
     "output_type": "stream",
     "text": [
      "\r\n",
      "Normal id_04:  20%|████████████▊                                                  | 203/1000 [00:10<00:40, 19.59it/s]"
     ]
    },
    {
     "name": "stderr",
     "output_type": "stream",
     "text": [
      "\r\n",
      "Normal id_04:  21%|████████████▉                                                  | 206/1000 [00:10<00:39, 20.10it/s]"
     ]
    },
    {
     "name": "stderr",
     "output_type": "stream",
     "text": [
      "\r\n",
      "Normal id_04:  21%|█████████████▏                                                 | 209/1000 [00:10<00:39, 20.09it/s]"
     ]
    },
    {
     "name": "stderr",
     "output_type": "stream",
     "text": [
      "\r\n",
      "Normal id_04:  21%|█████████████▎                                                 | 212/1000 [00:10<00:38, 20.40it/s]"
     ]
    },
    {
     "name": "stderr",
     "output_type": "stream",
     "text": [
      "\r\n",
      "Normal id_04:  22%|█████████████▌                                                 | 215/1000 [00:10<00:37, 20.88it/s]"
     ]
    },
    {
     "name": "stderr",
     "output_type": "stream",
     "text": [
      "\r\n",
      "Normal id_04:  22%|█████████████▋                                                 | 218/1000 [00:11<00:36, 21.33it/s]"
     ]
    },
    {
     "name": "stderr",
     "output_type": "stream",
     "text": [
      "\r\n",
      "Normal id_04:  22%|█████████████▉                                                 | 221/1000 [00:11<00:39, 19.97it/s]"
     ]
    },
    {
     "name": "stderr",
     "output_type": "stream",
     "text": [
      "\r\n",
      "Normal id_04:  22%|██████████████                                                 | 224/1000 [00:11<00:39, 19.80it/s]"
     ]
    },
    {
     "name": "stderr",
     "output_type": "stream",
     "text": [
      "\r\n",
      "Normal id_04:  23%|██████████████▏                                                | 226/1000 [00:11<00:39, 19.49it/s]"
     ]
    },
    {
     "name": "stderr",
     "output_type": "stream",
     "text": [
      "\r\n",
      "Normal id_04:  23%|██████████████▎                                                | 228/1000 [00:11<00:40, 19.18it/s]"
     ]
    },
    {
     "name": "stderr",
     "output_type": "stream",
     "text": [
      "\r\n",
      "Normal id_04:  23%|██████████████▍                                                | 230/1000 [00:11<00:40, 19.18it/s]"
     ]
    },
    {
     "name": "stderr",
     "output_type": "stream",
     "text": [
      "\r\n",
      "Normal id_04:  23%|██████████████▌                                                | 232/1000 [00:11<00:40, 18.83it/s]"
     ]
    },
    {
     "name": "stderr",
     "output_type": "stream",
     "text": [
      "\r\n",
      "Normal id_04:  24%|██████████████▊                                                | 235/1000 [00:12<00:38, 19.70it/s]"
     ]
    },
    {
     "name": "stderr",
     "output_type": "stream",
     "text": [
      "\r\n",
      "Normal id_04:  24%|██████████████▉                                                | 238/1000 [00:12<00:38, 19.97it/s]"
     ]
    },
    {
     "name": "stderr",
     "output_type": "stream",
     "text": [
      "\r\n",
      "Normal id_04:  24%|███████████████                                                | 240/1000 [00:12<00:38, 19.50it/s]"
     ]
    },
    {
     "name": "stderr",
     "output_type": "stream",
     "text": [
      "\r\n",
      "Normal id_04:  24%|███████████████▏                                               | 242/1000 [00:12<00:40, 18.78it/s]"
     ]
    },
    {
     "name": "stderr",
     "output_type": "stream",
     "text": [
      "\r\n",
      "Normal id_04:  24%|███████████████▍                                               | 245/1000 [00:12<00:38, 19.73it/s]"
     ]
    },
    {
     "name": "stderr",
     "output_type": "stream",
     "text": [
      "\r\n",
      "Normal id_04:  25%|███████████████▌                                               | 247/1000 [00:12<00:39, 18.93it/s]"
     ]
    },
    {
     "name": "stderr",
     "output_type": "stream",
     "text": [
      "\r\n",
      "Normal id_04:  25%|███████████████▋                                               | 249/1000 [00:12<00:39, 18.98it/s]"
     ]
    },
    {
     "name": "stderr",
     "output_type": "stream",
     "text": [
      "\r\n",
      "Normal id_04:  25%|███████████████▊                                               | 251/1000 [00:12<00:40, 18.67it/s]"
     ]
    },
    {
     "name": "stderr",
     "output_type": "stream",
     "text": [
      "\r\n",
      "Normal id_04:  25%|███████████████▉                                               | 253/1000 [00:12<00:40, 18.48it/s]"
     ]
    },
    {
     "name": "stderr",
     "output_type": "stream",
     "text": [
      "\r\n",
      "Normal id_04:  26%|████████████████                                               | 255/1000 [00:13<00:39, 18.79it/s]"
     ]
    },
    {
     "name": "stderr",
     "output_type": "stream",
     "text": [
      "\r\n",
      "Normal id_04:  26%|████████████████▏                                              | 257/1000 [00:13<00:39, 19.00it/s]"
     ]
    },
    {
     "name": "stderr",
     "output_type": "stream",
     "text": [
      "\r\n",
      "Normal id_04:  26%|████████████████▎                                              | 259/1000 [00:13<00:38, 19.18it/s]"
     ]
    },
    {
     "name": "stderr",
     "output_type": "stream",
     "text": [
      "\r\n",
      "Normal id_04:  26%|████████████████▍                                              | 261/1000 [00:13<00:39, 18.77it/s]"
     ]
    },
    {
     "name": "stderr",
     "output_type": "stream",
     "text": [
      "\r\n",
      "Normal id_04:  26%|████████████████▌                                              | 263/1000 [00:13<00:38, 18.98it/s]"
     ]
    },
    {
     "name": "stderr",
     "output_type": "stream",
     "text": [
      "\r\n",
      "Normal id_04:  26%|████████████████▋                                              | 265/1000 [00:13<00:40, 18.09it/s]"
     ]
    },
    {
     "name": "stderr",
     "output_type": "stream",
     "text": [
      "\r\n",
      "Normal id_04:  27%|████████████████▉                                              | 268/1000 [00:13<00:37, 19.27it/s]"
     ]
    },
    {
     "name": "stderr",
     "output_type": "stream",
     "text": [
      "\r\n",
      "Normal id_04:  27%|█████████████████                                              | 270/1000 [00:13<00:37, 19.34it/s]"
     ]
    },
    {
     "name": "stderr",
     "output_type": "stream",
     "text": [
      "\r\n",
      "Normal id_04:  27%|█████████████████▏                                             | 272/1000 [00:13<00:38, 19.11it/s]"
     ]
    },
    {
     "name": "stderr",
     "output_type": "stream",
     "text": [
      "\r\n",
      "Normal id_04:  28%|█████████████████▎                                             | 275/1000 [00:14<00:36, 20.01it/s]"
     ]
    },
    {
     "name": "stderr",
     "output_type": "stream",
     "text": [
      "\r\n",
      "Normal id_04:  28%|█████████████████▌                                             | 278/1000 [00:14<00:34, 20.68it/s]"
     ]
    },
    {
     "name": "stderr",
     "output_type": "stream",
     "text": [
      "\r\n",
      "Normal id_04:  28%|█████████████████▋                                             | 281/1000 [00:14<00:35, 20.20it/s]"
     ]
    },
    {
     "name": "stderr",
     "output_type": "stream",
     "text": [
      "\r\n",
      "Normal id_04:  28%|█████████████████▉                                             | 284/1000 [00:14<00:39, 18.19it/s]"
     ]
    },
    {
     "name": "stderr",
     "output_type": "stream",
     "text": [
      "\r\n",
      "Normal id_04:  29%|██████████████████                                             | 287/1000 [00:14<00:37, 18.99it/s]"
     ]
    },
    {
     "name": "stderr",
     "output_type": "stream",
     "text": [
      "\r\n",
      "Normal id_04:  29%|██████████████████▎                                            | 290/1000 [00:14<00:37, 19.15it/s]"
     ]
    },
    {
     "name": "stderr",
     "output_type": "stream",
     "text": [
      "\r\n",
      "Normal id_04:  29%|██████████████████▍                                            | 292/1000 [00:14<00:36, 19.23it/s]"
     ]
    },
    {
     "name": "stderr",
     "output_type": "stream",
     "text": [
      "\r\n",
      "Normal id_04:  30%|██████████████████▌                                            | 295/1000 [00:15<00:35, 20.05it/s]"
     ]
    },
    {
     "name": "stderr",
     "output_type": "stream",
     "text": [
      "\r\n",
      "Normal id_04:  30%|██████████████████▊                                            | 298/1000 [00:15<00:34, 20.19it/s]"
     ]
    },
    {
     "name": "stderr",
     "output_type": "stream",
     "text": [
      "\r\n",
      "Normal id_04:  30%|██████████████████▉                                            | 301/1000 [00:15<00:34, 20.33it/s]"
     ]
    },
    {
     "name": "stderr",
     "output_type": "stream",
     "text": [
      "\r\n",
      "Normal id_04:  30%|███████████████████▏                                           | 304/1000 [00:15<00:34, 20.24it/s]"
     ]
    },
    {
     "name": "stderr",
     "output_type": "stream",
     "text": [
      "\r\n",
      "Normal id_04:  31%|███████████████████▎                                           | 307/1000 [00:15<00:33, 20.80it/s]"
     ]
    },
    {
     "name": "stderr",
     "output_type": "stream",
     "text": [
      "\r\n",
      "Normal id_04:  31%|███████████████████▌                                           | 310/1000 [00:15<00:32, 21.17it/s]"
     ]
    },
    {
     "name": "stderr",
     "output_type": "stream",
     "text": [
      "\r\n",
      "Normal id_04:  31%|███████████████████▋                                           | 313/1000 [00:15<00:32, 20.99it/s]"
     ]
    },
    {
     "name": "stderr",
     "output_type": "stream",
     "text": [
      "\r\n",
      "Normal id_04:  32%|███████████████████▉                                           | 316/1000 [00:16<00:31, 21.39it/s]"
     ]
    },
    {
     "name": "stderr",
     "output_type": "stream",
     "text": [
      "\r\n",
      "Normal id_04:  32%|████████████████████                                           | 319/1000 [00:16<00:31, 21.63it/s]"
     ]
    },
    {
     "name": "stderr",
     "output_type": "stream",
     "text": [
      "\r\n",
      "Normal id_04:  32%|████████████████████▎                                          | 322/1000 [00:16<00:32, 21.15it/s]"
     ]
    },
    {
     "name": "stderr",
     "output_type": "stream",
     "text": [
      "\r\n",
      "Normal id_04:  32%|████████████████████▍                                          | 325/1000 [00:16<00:32, 20.51it/s]"
     ]
    },
    {
     "name": "stderr",
     "output_type": "stream",
     "text": [
      "\r\n",
      "Normal id_04:  33%|████████████████████▋                                          | 328/1000 [00:16<00:33, 19.92it/s]"
     ]
    },
    {
     "name": "stderr",
     "output_type": "stream",
     "text": [
      "\r\n",
      "Normal id_04:  33%|████████████████████▊                                          | 331/1000 [00:16<00:33, 20.16it/s]"
     ]
    },
    {
     "name": "stderr",
     "output_type": "stream",
     "text": [
      "\r\n",
      "Normal id_04:  33%|█████████████████████                                          | 334/1000 [00:17<00:32, 20.34it/s]"
     ]
    },
    {
     "name": "stderr",
     "output_type": "stream",
     "text": [
      "\r\n",
      "Normal id_04:  34%|█████████████████████▏                                         | 337/1000 [00:17<00:32, 20.63it/s]"
     ]
    },
    {
     "name": "stderr",
     "output_type": "stream",
     "text": [
      "\r\n",
      "Normal id_04:  34%|█████████████████████▍                                         | 340/1000 [00:17<00:31, 20.96it/s]"
     ]
    },
    {
     "name": "stderr",
     "output_type": "stream",
     "text": [
      "\r\n",
      "Normal id_04:  34%|█████████████████████▌                                         | 343/1000 [00:17<00:30, 21.35it/s]"
     ]
    },
    {
     "name": "stderr",
     "output_type": "stream",
     "text": [
      "\r\n",
      "Normal id_04:  35%|█████████████████████▊                                         | 346/1000 [00:17<00:31, 20.48it/s]"
     ]
    },
    {
     "name": "stderr",
     "output_type": "stream",
     "text": [
      "\r\n",
      "Normal id_04:  35%|█████████████████████▉                                         | 349/1000 [00:17<00:32, 20.12it/s]"
     ]
    },
    {
     "name": "stderr",
     "output_type": "stream",
     "text": [
      "\r\n",
      "Normal id_04:  35%|██████████████████████▏                                        | 352/1000 [00:17<00:31, 20.73it/s]"
     ]
    },
    {
     "name": "stderr",
     "output_type": "stream",
     "text": [
      "\r\n",
      "Normal id_04:  36%|██████████████████████▎                                        | 355/1000 [00:18<00:31, 20.80it/s]"
     ]
    },
    {
     "name": "stderr",
     "output_type": "stream",
     "text": [
      "\r\n",
      "Normal id_04:  36%|██████████████████████▌                                        | 358/1000 [00:18<00:31, 20.19it/s]"
     ]
    },
    {
     "name": "stderr",
     "output_type": "stream",
     "text": [
      "\r\n",
      "Normal id_04:  36%|██████████████████████▋                                        | 361/1000 [00:18<00:31, 20.55it/s]"
     ]
    },
    {
     "name": "stderr",
     "output_type": "stream",
     "text": [
      "\r\n",
      "Normal id_04:  36%|██████████████████████▉                                        | 364/1000 [00:18<00:31, 20.07it/s]"
     ]
    },
    {
     "name": "stderr",
     "output_type": "stream",
     "text": [
      "\r\n",
      "Normal id_04:  37%|███████████████████████                                        | 367/1000 [00:18<00:33, 19.08it/s]"
     ]
    },
    {
     "name": "stderr",
     "output_type": "stream",
     "text": [
      "\r\n",
      "Normal id_04:  37%|███████████████████████▏                                       | 369/1000 [00:18<00:34, 18.39it/s]"
     ]
    },
    {
     "name": "stderr",
     "output_type": "stream",
     "text": [
      "\r\n",
      "Normal id_04:  37%|███████████████████████▍                                       | 372/1000 [00:18<00:32, 19.09it/s]"
     ]
    },
    {
     "name": "stderr",
     "output_type": "stream",
     "text": [
      "\r\n",
      "Normal id_04:  38%|███████████████████████▋                                       | 375/1000 [00:19<00:32, 19.46it/s]"
     ]
    },
    {
     "name": "stderr",
     "output_type": "stream",
     "text": [
      "\r\n",
      "Normal id_04:  38%|███████████████████████▊                                       | 377/1000 [00:19<00:32, 19.37it/s]"
     ]
    },
    {
     "name": "stderr",
     "output_type": "stream",
     "text": [
      "\r\n",
      "Normal id_04:  38%|███████████████████████▉                                       | 379/1000 [00:19<00:32, 19.26it/s]"
     ]
    },
    {
     "name": "stderr",
     "output_type": "stream",
     "text": [
      "\r\n",
      "Normal id_04:  38%|████████████████████████                                       | 381/1000 [00:19<00:33, 18.33it/s]"
     ]
    },
    {
     "name": "stderr",
     "output_type": "stream",
     "text": [
      "\r\n",
      "Normal id_04:  38%|████████████████████████▏                                      | 384/1000 [00:19<00:31, 19.43it/s]"
     ]
    },
    {
     "name": "stderr",
     "output_type": "stream",
     "text": [
      "\r\n",
      "Normal id_04:  39%|████████████████████████▎                                      | 386/1000 [00:19<00:32, 18.88it/s]"
     ]
    },
    {
     "name": "stderr",
     "output_type": "stream",
     "text": [
      "\r\n",
      "Normal id_04:  39%|████████████████████████▌                                      | 389/1000 [00:19<00:30, 19.99it/s]"
     ]
    },
    {
     "name": "stderr",
     "output_type": "stream",
     "text": [
      "\r\n",
      "Normal id_04:  39%|████████████████████████▋                                      | 392/1000 [00:19<00:29, 20.55it/s]"
     ]
    },
    {
     "name": "stderr",
     "output_type": "stream",
     "text": [
      "\r\n",
      "Normal id_04:  40%|████████████████████████▉                                      | 395/1000 [00:20<00:29, 20.45it/s]"
     ]
    },
    {
     "name": "stderr",
     "output_type": "stream",
     "text": [
      "\r\n",
      "Normal id_04:  40%|█████████████████████████                                      | 398/1000 [00:20<00:28, 20.90it/s]"
     ]
    },
    {
     "name": "stderr",
     "output_type": "stream",
     "text": [
      "\r\n",
      "Normal id_04:  40%|█████████████████████████▎                                     | 401/1000 [00:20<00:29, 20.07it/s]"
     ]
    },
    {
     "name": "stderr",
     "output_type": "stream",
     "text": [
      "\r\n",
      "Normal id_04:  40%|█████████████████████████▍                                     | 404/1000 [00:20<00:29, 20.05it/s]"
     ]
    },
    {
     "name": "stderr",
     "output_type": "stream",
     "text": [
      "\r\n",
      "Normal id_04:  41%|█████████████████████████▋                                     | 407/1000 [00:20<00:30, 19.44it/s]"
     ]
    },
    {
     "name": "stderr",
     "output_type": "stream",
     "text": [
      "\r\n",
      "Normal id_04:  41%|█████████████████████████▊                                     | 410/1000 [00:20<00:30, 19.66it/s]"
     ]
    },
    {
     "name": "stderr",
     "output_type": "stream",
     "text": [
      "\r\n",
      "Normal id_04:  41%|█████████████████████████▉                                     | 412/1000 [00:20<00:29, 19.70it/s]"
     ]
    },
    {
     "name": "stderr",
     "output_type": "stream",
     "text": [
      "\r\n",
      "Normal id_04:  42%|██████████████████████████▏                                    | 415/1000 [00:21<00:29, 19.98it/s]"
     ]
    },
    {
     "name": "stderr",
     "output_type": "stream",
     "text": [
      "\r\n",
      "Normal id_04:  42%|██████████████████████████▎                                    | 418/1000 [00:21<00:28, 20.37it/s]"
     ]
    },
    {
     "name": "stderr",
     "output_type": "stream",
     "text": [
      "\r\n",
      "Normal id_04:  42%|██████████████████████████▌                                    | 421/1000 [00:21<00:28, 20.41it/s]"
     ]
    },
    {
     "name": "stderr",
     "output_type": "stream",
     "text": [
      "\r\n",
      "Normal id_04:  42%|██████████████████████████▋                                    | 424/1000 [00:21<00:28, 20.47it/s]"
     ]
    },
    {
     "name": "stderr",
     "output_type": "stream",
     "text": [
      "\r\n",
      "Normal id_04:  43%|██████████████████████████▉                                    | 427/1000 [00:21<00:29, 19.54it/s]"
     ]
    },
    {
     "name": "stderr",
     "output_type": "stream",
     "text": [
      "\r\n",
      "Normal id_04:  43%|███████████████████████████                                    | 430/1000 [00:21<00:28, 20.00it/s]"
     ]
    },
    {
     "name": "stderr",
     "output_type": "stream",
     "text": [
      "\r\n",
      "Normal id_04:  43%|███████████████████████████▎                                   | 433/1000 [00:21<00:27, 20.32it/s]"
     ]
    },
    {
     "name": "stderr",
     "output_type": "stream",
     "text": [
      "\r\n",
      "Normal id_04:  44%|███████████████████████████▍                                   | 436/1000 [00:22<00:28, 19.88it/s]"
     ]
    },
    {
     "name": "stderr",
     "output_type": "stream",
     "text": [
      "\r\n",
      "Normal id_04:  44%|███████████████████████████▌                                   | 438/1000 [00:22<00:28, 19.66it/s]"
     ]
    },
    {
     "name": "stderr",
     "output_type": "stream",
     "text": [
      "\r\n",
      "Normal id_04:  44%|███████████████████████████▋                                   | 440/1000 [00:22<00:28, 19.60it/s]"
     ]
    },
    {
     "name": "stderr",
     "output_type": "stream",
     "text": [
      "\r\n",
      "Normal id_04:  44%|███████████████████████████▉                                   | 443/1000 [00:22<00:27, 20.42it/s]"
     ]
    },
    {
     "name": "stderr",
     "output_type": "stream",
     "text": [
      "\r\n",
      "Normal id_04:  45%|████████████████████████████                                   | 446/1000 [00:22<00:28, 19.16it/s]"
     ]
    },
    {
     "name": "stderr",
     "output_type": "stream",
     "text": [
      "\r\n",
      "Normal id_04:  45%|████████████████████████████▎                                  | 449/1000 [00:22<00:27, 20.04it/s]"
     ]
    },
    {
     "name": "stderr",
     "output_type": "stream",
     "text": [
      "\r\n",
      "Normal id_04:  45%|████████████████████████████▍                                  | 452/1000 [00:22<00:26, 20.44it/s]"
     ]
    },
    {
     "name": "stderr",
     "output_type": "stream",
     "text": [
      "\r\n",
      "Normal id_04:  46%|████████████████████████████▋                                  | 455/1000 [00:23<00:25, 20.98it/s]"
     ]
    },
    {
     "name": "stderr",
     "output_type": "stream",
     "text": [
      "\r\n",
      "Normal id_04:  46%|████████████████████████████▊                                  | 458/1000 [00:23<00:25, 21.24it/s]"
     ]
    },
    {
     "name": "stderr",
     "output_type": "stream",
     "text": [
      "\r\n",
      "Normal id_04:  46%|█████████████████████████████                                  | 461/1000 [00:23<00:25, 21.50it/s]"
     ]
    },
    {
     "name": "stderr",
     "output_type": "stream",
     "text": [
      "\r\n",
      "Normal id_04:  46%|█████████████████████████████▏                                 | 464/1000 [00:23<00:24, 21.55it/s]"
     ]
    },
    {
     "name": "stderr",
     "output_type": "stream",
     "text": [
      "\r\n",
      "Normal id_04:  47%|█████████████████████████████▍                                 | 467/1000 [00:23<00:25, 20.51it/s]"
     ]
    },
    {
     "name": "stderr",
     "output_type": "stream",
     "text": [
      "\r\n",
      "Normal id_04:  47%|█████████████████████████████▌                                 | 470/1000 [00:23<00:25, 20.97it/s]"
     ]
    },
    {
     "name": "stderr",
     "output_type": "stream",
     "text": [
      "\r\n",
      "Normal id_04:  47%|█████████████████████████████▊                                 | 473/1000 [00:23<00:25, 20.38it/s]"
     ]
    },
    {
     "name": "stderr",
     "output_type": "stream",
     "text": [
      "\r\n",
      "Normal id_04:  48%|█████████████████████████████▉                                 | 476/1000 [00:24<00:25, 20.90it/s]"
     ]
    },
    {
     "name": "stderr",
     "output_type": "stream",
     "text": [
      "\r\n",
      "Normal id_04:  48%|██████████████████████████████▏                                | 479/1000 [00:24<00:24, 21.05it/s]"
     ]
    },
    {
     "name": "stderr",
     "output_type": "stream",
     "text": [
      "\r\n",
      "Normal id_04:  48%|██████████████████████████████▎                                | 482/1000 [00:24<00:24, 21.38it/s]"
     ]
    },
    {
     "name": "stderr",
     "output_type": "stream",
     "text": [
      "\r\n",
      "Normal id_04:  48%|██████████████████████████████▌                                | 485/1000 [00:24<00:23, 21.58it/s]"
     ]
    },
    {
     "name": "stderr",
     "output_type": "stream",
     "text": [
      "\r\n",
      "Normal id_04:  49%|██████████████████████████████▋                                | 488/1000 [00:24<00:24, 21.01it/s]"
     ]
    },
    {
     "name": "stderr",
     "output_type": "stream",
     "text": [
      "\r\n",
      "Normal id_04:  49%|██████████████████████████████▉                                | 491/1000 [00:24<00:24, 20.60it/s]"
     ]
    },
    {
     "name": "stderr",
     "output_type": "stream",
     "text": [
      "\r\n",
      "Normal id_04:  49%|███████████████████████████████                                | 494/1000 [00:24<00:24, 21.06it/s]"
     ]
    },
    {
     "name": "stderr",
     "output_type": "stream",
     "text": [
      "\r\n",
      "Normal id_04:  50%|███████████████████████████████▎                               | 497/1000 [00:25<00:24, 20.96it/s]"
     ]
    },
    {
     "name": "stderr",
     "output_type": "stream",
     "text": [
      "\r\n",
      "Normal id_04:  50%|███████████████████████████████▌                               | 500/1000 [00:25<00:23, 20.95it/s]"
     ]
    },
    {
     "name": "stderr",
     "output_type": "stream",
     "text": [
      "\r\n",
      "Normal id_04:  50%|███████████████████████████████▋                               | 503/1000 [00:25<00:23, 21.22it/s]"
     ]
    },
    {
     "name": "stderr",
     "output_type": "stream",
     "text": [
      "\r\n",
      "Normal id_04:  51%|███████████████████████████████▉                               | 506/1000 [00:25<00:23, 21.23it/s]"
     ]
    },
    {
     "name": "stderr",
     "output_type": "stream",
     "text": [
      "\r\n",
      "Normal id_04:  51%|████████████████████████████████                               | 509/1000 [00:25<00:23, 20.60it/s]"
     ]
    },
    {
     "name": "stderr",
     "output_type": "stream",
     "text": [
      "\r\n",
      "Normal id_04:  51%|████████████████████████████████▎                              | 512/1000 [00:25<00:23, 20.84it/s]"
     ]
    },
    {
     "name": "stderr",
     "output_type": "stream",
     "text": [
      "\r\n",
      "Normal id_04:  52%|████████████████████████████████▍                              | 515/1000 [00:25<00:24, 19.94it/s]"
     ]
    },
    {
     "name": "stderr",
     "output_type": "stream",
     "text": [
      "\r\n",
      "Normal id_04:  52%|████████████████████████████████▋                              | 518/1000 [00:26<00:23, 20.31it/s]"
     ]
    },
    {
     "name": "stderr",
     "output_type": "stream",
     "text": [
      "\r\n",
      "Normal id_04:  52%|████████████████████████████████▊                              | 521/1000 [00:26<00:23, 20.28it/s]"
     ]
    },
    {
     "name": "stderr",
     "output_type": "stream",
     "text": [
      "\r\n",
      "Normal id_04:  52%|█████████████████████████████████                              | 524/1000 [00:26<00:23, 19.93it/s]"
     ]
    },
    {
     "name": "stderr",
     "output_type": "stream",
     "text": [
      "\r\n",
      "Normal id_04:  53%|█████████████████████████████████▏                             | 526/1000 [00:26<00:25, 18.75it/s]"
     ]
    },
    {
     "name": "stderr",
     "output_type": "stream",
     "text": [
      "\r\n",
      "Normal id_04:  53%|█████████████████████████████████▎                             | 528/1000 [00:26<00:25, 18.18it/s]"
     ]
    },
    {
     "name": "stderr",
     "output_type": "stream",
     "text": [
      "\r\n",
      "Normal id_04:  53%|█████████████████████████████████▍                             | 530/1000 [00:26<00:25, 18.46it/s]"
     ]
    },
    {
     "name": "stderr",
     "output_type": "stream",
     "text": [
      "\r\n",
      "Normal id_04:  53%|█████████████████████████████████▌                             | 533/1000 [00:26<00:24, 19.17it/s]"
     ]
    },
    {
     "name": "stderr",
     "output_type": "stream",
     "text": [
      "\r\n",
      "Normal id_04:  54%|█████████████████████████████████▋                             | 535/1000 [00:26<00:24, 19.10it/s]"
     ]
    },
    {
     "name": "stderr",
     "output_type": "stream",
     "text": [
      "\r\n",
      "Normal id_04:  54%|█████████████████████████████████▉                             | 538/1000 [00:27<00:23, 19.67it/s]"
     ]
    },
    {
     "name": "stderr",
     "output_type": "stream",
     "text": [
      "\r\n",
      "Normal id_04:  54%|██████████████████████████████████                             | 540/1000 [00:27<00:23, 19.39it/s]"
     ]
    },
    {
     "name": "stderr",
     "output_type": "stream",
     "text": [
      "\r\n",
      "Normal id_04:  54%|██████████████████████████████████▏                            | 542/1000 [00:27<00:23, 19.41it/s]"
     ]
    },
    {
     "name": "stderr",
     "output_type": "stream",
     "text": [
      "\r\n",
      "Normal id_04:  54%|██████████████████████████████████▎                            | 544/1000 [00:27<00:23, 19.19it/s]"
     ]
    },
    {
     "name": "stderr",
     "output_type": "stream",
     "text": [
      "\r\n",
      "Normal id_04:  55%|██████████████████████████████████▍                            | 546/1000 [00:27<00:23, 19.00it/s]"
     ]
    },
    {
     "name": "stderr",
     "output_type": "stream",
     "text": [
      "\r\n",
      "Normal id_04:  55%|██████████████████████████████████▌                            | 548/1000 [00:27<00:24, 18.24it/s]"
     ]
    },
    {
     "name": "stderr",
     "output_type": "stream",
     "text": [
      "\r\n",
      "Normal id_04:  55%|██████████████████████████████████▋                            | 551/1000 [00:27<00:23, 19.51it/s]"
     ]
    },
    {
     "name": "stderr",
     "output_type": "stream",
     "text": [
      "\r\n",
      "Normal id_04:  55%|██████████████████████████████████▊                            | 553/1000 [00:27<00:22, 19.62it/s]"
     ]
    },
    {
     "name": "stderr",
     "output_type": "stream",
     "text": [
      "\r\n",
      "Normal id_04:  56%|██████████████████████████████████▉                            | 555/1000 [00:28<00:22, 19.55it/s]"
     ]
    },
    {
     "name": "stderr",
     "output_type": "stream",
     "text": [
      "\r\n",
      "Normal id_04:  56%|███████████████████████████████████                            | 557/1000 [00:28<00:23, 19.22it/s]"
     ]
    },
    {
     "name": "stderr",
     "output_type": "stream",
     "text": [
      "\r\n",
      "Normal id_04:  56%|███████████████████████████████████▏                           | 559/1000 [00:28<00:23, 18.61it/s]"
     ]
    },
    {
     "name": "stderr",
     "output_type": "stream",
     "text": [
      "\r\n",
      "Normal id_04:  56%|███████████████████████████████████▎                           | 561/1000 [00:28<00:23, 18.75it/s]"
     ]
    },
    {
     "name": "stderr",
     "output_type": "stream",
     "text": [
      "\r\n",
      "Normal id_04:  56%|███████████████████████████████████▌                           | 564/1000 [00:28<00:22, 19.58it/s]"
     ]
    },
    {
     "name": "stderr",
     "output_type": "stream",
     "text": [
      "\r\n",
      "Normal id_04:  57%|███████████████████████████████████▋                           | 566/1000 [00:28<00:22, 19.47it/s]"
     ]
    },
    {
     "name": "stderr",
     "output_type": "stream",
     "text": [
      "\r\n",
      "Normal id_04:  57%|███████████████████████████████████▊                           | 568/1000 [00:28<00:22, 19.54it/s]"
     ]
    },
    {
     "name": "stderr",
     "output_type": "stream",
     "text": [
      "\r\n",
      "Normal id_04:  57%|███████████████████████████████████▉                           | 570/1000 [00:28<00:22, 19.12it/s]"
     ]
    },
    {
     "name": "stderr",
     "output_type": "stream",
     "text": [
      "\r\n",
      "Normal id_04:  57%|████████████████████████████████████                           | 572/1000 [00:28<00:22, 19.21it/s]"
     ]
    },
    {
     "name": "stderr",
     "output_type": "stream",
     "text": [
      "\r\n",
      "Normal id_04:  57%|████████████████████████████████████▏                          | 574/1000 [00:29<00:22, 19.18it/s]"
     ]
    },
    {
     "name": "stderr",
     "output_type": "stream",
     "text": [
      "\r\n",
      "Normal id_04:  58%|████████████████████████████████████▎                          | 576/1000 [00:29<00:22, 19.12it/s]"
     ]
    },
    {
     "name": "stderr",
     "output_type": "stream",
     "text": [
      "\r\n",
      "Normal id_04:  58%|████████████████████████████████████▍                          | 578/1000 [00:29<00:22, 19.00it/s]"
     ]
    },
    {
     "name": "stderr",
     "output_type": "stream",
     "text": [
      "\r\n",
      "Normal id_04:  58%|████████████████████████████████████▌                          | 580/1000 [00:29<00:21, 19.25it/s]"
     ]
    },
    {
     "name": "stderr",
     "output_type": "stream",
     "text": [
      "\r\n",
      "Normal id_04:  58%|████████████████████████████████████▋                          | 582/1000 [00:29<00:21, 19.32it/s]"
     ]
    },
    {
     "name": "stderr",
     "output_type": "stream",
     "text": [
      "\r\n",
      "Normal id_04:  58%|████████████████████████████████████▊                          | 585/1000 [00:29<00:21, 19.67it/s]"
     ]
    },
    {
     "name": "stderr",
     "output_type": "stream",
     "text": [
      "\r\n",
      "Normal id_04:  59%|████████████████████████████████████▉                          | 587/1000 [00:29<00:21, 18.95it/s]"
     ]
    },
    {
     "name": "stderr",
     "output_type": "stream",
     "text": [
      "\r\n",
      "Normal id_04:  59%|█████████████████████████████████████                          | 589/1000 [00:29<00:22, 18.52it/s]"
     ]
    },
    {
     "name": "stderr",
     "output_type": "stream",
     "text": [
      "\r\n",
      "Normal id_04:  59%|█████████████████████████████████████▎                         | 592/1000 [00:29<00:20, 19.62it/s]"
     ]
    },
    {
     "name": "stderr",
     "output_type": "stream",
     "text": [
      "\r\n",
      "Normal id_04:  60%|█████████████████████████████████████▍                         | 595/1000 [00:30<00:20, 20.15it/s]"
     ]
    },
    {
     "name": "stderr",
     "output_type": "stream",
     "text": [
      "\r\n",
      "Normal id_04:  60%|█████████████████████████████████████▋                         | 598/1000 [00:30<00:20, 19.88it/s]"
     ]
    },
    {
     "name": "stderr",
     "output_type": "stream",
     "text": [
      "\r\n",
      "Normal id_04:  60%|█████████████████████████████████████▊                         | 601/1000 [00:30<00:20, 19.18it/s]"
     ]
    },
    {
     "name": "stderr",
     "output_type": "stream",
     "text": [
      "\r\n",
      "Normal id_04:  60%|██████████████████████████████████████                         | 604/1000 [00:30<00:20, 19.53it/s]"
     ]
    },
    {
     "name": "stderr",
     "output_type": "stream",
     "text": [
      "\r\n",
      "Normal id_04:  61%|██████████████████████████████████████▏                        | 606/1000 [00:30<00:20, 18.82it/s]"
     ]
    },
    {
     "name": "stderr",
     "output_type": "stream",
     "text": [
      "\r\n",
      "Normal id_04:  61%|██████████████████████████████████████▎                        | 609/1000 [00:30<00:19, 19.63it/s]"
     ]
    },
    {
     "name": "stderr",
     "output_type": "stream",
     "text": [
      "\r\n",
      "Normal id_04:  61%|██████████████████████████████████████▍                        | 611/1000 [00:30<00:19, 19.51it/s]"
     ]
    },
    {
     "name": "stderr",
     "output_type": "stream",
     "text": [
      "\r\n",
      "Normal id_04:  61%|██████████████████████████████████████▋                        | 614/1000 [00:31<00:19, 20.25it/s]"
     ]
    },
    {
     "name": "stderr",
     "output_type": "stream",
     "text": [
      "\r\n",
      "Normal id_04:  62%|██████████████████████████████████████▊                        | 617/1000 [00:31<00:18, 20.78it/s]"
     ]
    },
    {
     "name": "stderr",
     "output_type": "stream",
     "text": [
      "\r\n",
      "Normal id_04:  62%|███████████████████████████████████████                        | 620/1000 [00:31<00:18, 21.10it/s]"
     ]
    },
    {
     "name": "stderr",
     "output_type": "stream",
     "text": [
      "\r\n",
      "Normal id_04:  62%|███████████████████████████████████████▏                       | 623/1000 [00:31<00:17, 21.41it/s]"
     ]
    },
    {
     "name": "stderr",
     "output_type": "stream",
     "text": [
      "\r\n",
      "Normal id_04:  63%|███████████████████████████████████████▍                       | 626/1000 [00:31<00:19, 18.83it/s]"
     ]
    },
    {
     "name": "stderr",
     "output_type": "stream",
     "text": [
      "\r\n",
      "Normal id_04:  63%|███████████████████████████████████████▋                       | 629/1000 [00:31<00:19, 19.46it/s]"
     ]
    },
    {
     "name": "stderr",
     "output_type": "stream",
     "text": [
      "\r\n",
      "Normal id_04:  63%|███████████████████████████████████████▊                       | 632/1000 [00:31<00:18, 19.70it/s]"
     ]
    },
    {
     "name": "stderr",
     "output_type": "stream",
     "text": [
      "\r\n",
      "Normal id_04:  64%|████████████████████████████████████████                       | 635/1000 [00:32<00:18, 19.86it/s]"
     ]
    },
    {
     "name": "stderr",
     "output_type": "stream",
     "text": [
      "\r\n",
      "Normal id_04:  64%|████████████████████████████████████████▏                      | 638/1000 [00:32<00:18, 19.64it/s]"
     ]
    },
    {
     "name": "stderr",
     "output_type": "stream",
     "text": [
      "\r\n",
      "Normal id_04:  64%|████████████████████████████████████████▎                      | 640/1000 [00:32<00:18, 19.41it/s]"
     ]
    },
    {
     "name": "stderr",
     "output_type": "stream",
     "text": [
      "\r\n",
      "Normal id_04:  64%|████████████████████████████████████████▌                      | 643/1000 [00:32<00:17, 20.00it/s]"
     ]
    },
    {
     "name": "stderr",
     "output_type": "stream",
     "text": [
      "\r\n",
      "Normal id_04:  65%|████████████████████████████████████████▋                      | 646/1000 [00:32<00:18, 19.02it/s]"
     ]
    },
    {
     "name": "stderr",
     "output_type": "stream",
     "text": [
      "\r\n",
      "Normal id_04:  65%|████████████████████████████████████████▉                      | 649/1000 [00:32<00:17, 19.57it/s]"
     ]
    },
    {
     "name": "stderr",
     "output_type": "stream",
     "text": [
      "\r\n",
      "Normal id_04:  65%|█████████████████████████████████████████                      | 652/1000 [00:32<00:17, 20.10it/s]"
     ]
    },
    {
     "name": "stderr",
     "output_type": "stream",
     "text": [
      "\r\n",
      "Normal id_04:  66%|█████████████████████████████████████████▎                     | 655/1000 [00:33<00:16, 20.58it/s]"
     ]
    },
    {
     "name": "stderr",
     "output_type": "stream",
     "text": [
      "\r\n",
      "Normal id_04:  66%|█████████████████████████████████████████▍                     | 658/1000 [00:33<00:16, 20.41it/s]"
     ]
    },
    {
     "name": "stderr",
     "output_type": "stream",
     "text": [
      "\r\n",
      "Normal id_04:  66%|█████████████████████████████████████████▋                     | 661/1000 [00:33<00:17, 19.42it/s]"
     ]
    },
    {
     "name": "stderr",
     "output_type": "stream",
     "text": [
      "\r\n",
      "Normal id_04:  66%|█████████████████████████████████████████▊                     | 663/1000 [00:33<00:17, 18.93it/s]"
     ]
    },
    {
     "name": "stderr",
     "output_type": "stream",
     "text": [
      "\r\n",
      "Normal id_04:  66%|█████████████████████████████████████████▉                     | 665/1000 [00:33<00:18, 18.42it/s]"
     ]
    },
    {
     "name": "stderr",
     "output_type": "stream",
     "text": [
      "\r\n",
      "Normal id_04:  67%|██████████████████████████████████████████                     | 668/1000 [00:33<00:16, 19.53it/s]"
     ]
    },
    {
     "name": "stderr",
     "output_type": "stream",
     "text": [
      "\r\n",
      "Normal id_04:  67%|██████████████████████████████████████████▏                    | 670/1000 [00:33<00:17, 19.13it/s]"
     ]
    },
    {
     "name": "stderr",
     "output_type": "stream",
     "text": [
      "\r\n",
      "Normal id_04:  67%|██████████████████████████████████████████▎                    | 672/1000 [00:34<00:17, 19.23it/s]"
     ]
    },
    {
     "name": "stderr",
     "output_type": "stream",
     "text": [
      "\r\n",
      "Normal id_04:  68%|██████████████████████████████████████████▌                    | 675/1000 [00:34<00:16, 19.88it/s]"
     ]
    },
    {
     "name": "stderr",
     "output_type": "stream",
     "text": [
      "\r\n",
      "Normal id_04:  68%|██████████████████████████████████████████▋                    | 678/1000 [00:34<00:16, 20.12it/s]"
     ]
    },
    {
     "name": "stderr",
     "output_type": "stream",
     "text": [
      "\r\n",
      "Normal id_04:  68%|██████████████████████████████████████████▉                    | 681/1000 [00:34<00:16, 19.90it/s]"
     ]
    },
    {
     "name": "stderr",
     "output_type": "stream",
     "text": [
      "\r\n",
      "Normal id_04:  68%|███████████████████████████████████████████                    | 683/1000 [00:34<00:15, 19.87it/s]"
     ]
    },
    {
     "name": "stderr",
     "output_type": "stream",
     "text": [
      "\r\n",
      "Normal id_04:  68%|███████████████████████████████████████████▏                   | 685/1000 [00:34<00:16, 19.15it/s]"
     ]
    },
    {
     "name": "stderr",
     "output_type": "stream",
     "text": [
      "\r\n",
      "Normal id_04:  69%|███████████████████████████████████████████▎                   | 688/1000 [00:34<00:15, 20.06it/s]"
     ]
    },
    {
     "name": "stderr",
     "output_type": "stream",
     "text": [
      "\r\n",
      "Normal id_04:  69%|███████████████████████████████████████████▌                   | 691/1000 [00:34<00:14, 20.69it/s]"
     ]
    },
    {
     "name": "stderr",
     "output_type": "stream",
     "text": [
      "\r\n",
      "Normal id_04:  69%|███████████████████████████████████████████▋                   | 694/1000 [00:35<00:14, 20.65it/s]"
     ]
    },
    {
     "name": "stderr",
     "output_type": "stream",
     "text": [
      "\r\n",
      "Normal id_04:  70%|███████████████████████████████████████████▉                   | 697/1000 [00:35<00:14, 20.44it/s]"
     ]
    },
    {
     "name": "stderr",
     "output_type": "stream",
     "text": [
      "\r\n",
      "Normal id_04:  70%|████████████████████████████████████████████                   | 700/1000 [00:35<00:14, 20.24it/s]"
     ]
    },
    {
     "name": "stderr",
     "output_type": "stream",
     "text": [
      "\r\n",
      "Normal id_04:  70%|████████████████████████████████████████████▎                  | 703/1000 [00:35<00:15, 19.32it/s]"
     ]
    },
    {
     "name": "stderr",
     "output_type": "stream",
     "text": [
      "\r\n",
      "Normal id_04:  70%|████████████████████████████████████████████▍                  | 705/1000 [00:35<00:15, 18.73it/s]"
     ]
    },
    {
     "name": "stderr",
     "output_type": "stream",
     "text": [
      "\r\n",
      "Normal id_04:  71%|████████████████████████████████████████████▌                  | 708/1000 [00:35<00:15, 19.27it/s]"
     ]
    },
    {
     "name": "stderr",
     "output_type": "stream",
     "text": [
      "\r\n",
      "Normal id_04:  71%|████████████████████████████████████████████▋                  | 710/1000 [00:35<00:15, 19.29it/s]"
     ]
    },
    {
     "name": "stderr",
     "output_type": "stream",
     "text": [
      "\r\n",
      "Normal id_04:  71%|████████████████████████████████████████████▊                  | 712/1000 [00:36<00:14, 19.34it/s]"
     ]
    },
    {
     "name": "stderr",
     "output_type": "stream",
     "text": [
      "\r\n",
      "Normal id_04:  72%|█████████████████████████████████████████████                  | 715/1000 [00:36<00:14, 20.23it/s]"
     ]
    },
    {
     "name": "stderr",
     "output_type": "stream",
     "text": [
      "\r\n",
      "Normal id_04:  72%|█████████████████████████████████████████████▏                 | 718/1000 [00:36<00:14, 19.84it/s]"
     ]
    },
    {
     "name": "stderr",
     "output_type": "stream",
     "text": [
      "\r\n",
      "Normal id_04:  72%|█████████████████████████████████████████████▎                 | 720/1000 [00:36<00:14, 19.24it/s]"
     ]
    },
    {
     "name": "stderr",
     "output_type": "stream",
     "text": [
      "\r\n",
      "Normal id_04:  72%|█████████████████████████████████████████████▌                 | 723/1000 [00:36<00:14, 19.23it/s]"
     ]
    },
    {
     "name": "stderr",
     "output_type": "stream",
     "text": [
      "\r\n",
      "Normal id_04:  73%|█████████████████████████████████████████████▋                 | 726/1000 [00:36<00:13, 19.75it/s]"
     ]
    },
    {
     "name": "stderr",
     "output_type": "stream",
     "text": [
      "\r\n",
      "Normal id_04:  73%|█████████████████████████████████████████████▊                 | 728/1000 [00:36<00:13, 19.61it/s]"
     ]
    },
    {
     "name": "stderr",
     "output_type": "stream",
     "text": [
      "\r\n",
      "Normal id_04:  73%|█████████████████████████████████████████████▉                 | 730/1000 [00:36<00:13, 19.32it/s]"
     ]
    },
    {
     "name": "stderr",
     "output_type": "stream",
     "text": [
      "\r\n",
      "Normal id_04:  73%|██████████████████████████████████████████████                 | 732/1000 [00:37<00:13, 19.15it/s]"
     ]
    },
    {
     "name": "stderr",
     "output_type": "stream",
     "text": [
      "\r\n",
      "Normal id_04:  73%|██████████████████████████████████████████████▏                | 734/1000 [00:37<00:13, 19.28it/s]"
     ]
    },
    {
     "name": "stderr",
     "output_type": "stream",
     "text": [
      "\r\n",
      "Normal id_04:  74%|██████████████████████████████████████████████▎                | 736/1000 [00:37<00:13, 19.23it/s]"
     ]
    },
    {
     "name": "stderr",
     "output_type": "stream",
     "text": [
      "\r\n",
      "Normal id_04:  74%|██████████████████████████████████████████████▍                | 738/1000 [00:37<00:13, 19.35it/s]"
     ]
    },
    {
     "name": "stderr",
     "output_type": "stream",
     "text": [
      "\r\n",
      "Normal id_04:  74%|██████████████████████████████████████████████▋                | 741/1000 [00:37<00:12, 20.24it/s]"
     ]
    },
    {
     "name": "stderr",
     "output_type": "stream",
     "text": [
      "\r\n",
      "Normal id_04:  74%|██████████████████████████████████████████████▊                | 744/1000 [00:37<00:13, 19.59it/s]"
     ]
    },
    {
     "name": "stderr",
     "output_type": "stream",
     "text": [
      "\r\n",
      "Normal id_04:  75%|███████████████████████████████████████████████                | 747/1000 [00:37<00:12, 20.40it/s]"
     ]
    },
    {
     "name": "stderr",
     "output_type": "stream",
     "text": [
      "\r\n",
      "Normal id_04:  75%|███████████████████████████████████████████████▎               | 750/1000 [00:37<00:12, 20.02it/s]"
     ]
    },
    {
     "name": "stderr",
     "output_type": "stream",
     "text": [
      "\r\n",
      "Normal id_04:  75%|███████████████████████████████████████████████▍               | 753/1000 [00:38<00:12, 20.25it/s]"
     ]
    },
    {
     "name": "stderr",
     "output_type": "stream",
     "text": [
      "\r\n",
      "Normal id_04:  76%|███████████████████████████████████████████████▋               | 756/1000 [00:38<00:12, 19.93it/s]"
     ]
    },
    {
     "name": "stderr",
     "output_type": "stream",
     "text": [
      "\r\n",
      "Normal id_04:  76%|███████████████████████████████████████████████▊               | 758/1000 [00:38<00:12, 19.86it/s]"
     ]
    },
    {
     "name": "stderr",
     "output_type": "stream",
     "text": [
      "\r\n",
      "Normal id_04:  76%|███████████████████████████████████████████████▉               | 760/1000 [00:38<00:12, 19.66it/s]"
     ]
    },
    {
     "name": "stderr",
     "output_type": "stream",
     "text": [
      "\r\n",
      "Normal id_04:  76%|████████████████████████████████████████████████               | 762/1000 [00:38<00:12, 18.97it/s]"
     ]
    },
    {
     "name": "stderr",
     "output_type": "stream",
     "text": [
      "\r\n",
      "Normal id_04:  76%|████████████████████████████████████████████████▏              | 765/1000 [00:38<00:12, 19.47it/s]"
     ]
    },
    {
     "name": "stderr",
     "output_type": "stream",
     "text": [
      "\r\n",
      "Normal id_04:  77%|████████████████████████████████████████████████▍              | 768/1000 [00:38<00:11, 20.12it/s]"
     ]
    },
    {
     "name": "stderr",
     "output_type": "stream",
     "text": [
      "\r\n",
      "Normal id_04:  77%|████████████████████████████████████████████████▌              | 771/1000 [00:39<00:11, 20.16it/s]"
     ]
    },
    {
     "name": "stderr",
     "output_type": "stream",
     "text": [
      "\r\n",
      "Normal id_04:  77%|████████████████████████████████████████████████▊              | 774/1000 [00:39<00:11, 19.39it/s]"
     ]
    },
    {
     "name": "stderr",
     "output_type": "stream",
     "text": [
      "\r\n",
      "Normal id_04:  78%|████████████████████████████████████████████████▉              | 777/1000 [00:39<00:11, 19.93it/s]"
     ]
    },
    {
     "name": "stderr",
     "output_type": "stream",
     "text": [
      "\r\n",
      "Normal id_04:  78%|█████████████████████████████████████████████████▏             | 780/1000 [00:39<00:11, 19.94it/s]"
     ]
    },
    {
     "name": "stderr",
     "output_type": "stream",
     "text": [
      "\r\n",
      "Normal id_04:  78%|█████████████████████████████████████████████████▎             | 782/1000 [00:39<00:11, 19.12it/s]"
     ]
    },
    {
     "name": "stderr",
     "output_type": "stream",
     "text": [
      "\r\n",
      "Normal id_04:  78%|█████████████████████████████████████████████████▍             | 784/1000 [00:39<00:11, 18.71it/s]"
     ]
    },
    {
     "name": "stderr",
     "output_type": "stream",
     "text": [
      "\r\n",
      "Normal id_04:  79%|█████████████████████████████████████████████████▌             | 787/1000 [00:39<00:10, 19.52it/s]"
     ]
    },
    {
     "name": "stderr",
     "output_type": "stream",
     "text": [
      "\r\n",
      "Normal id_04:  79%|█████████████████████████████████████████████████▊             | 790/1000 [00:39<00:10, 20.00it/s]"
     ]
    },
    {
     "name": "stderr",
     "output_type": "stream",
     "text": [
      "\r\n",
      "Normal id_04:  79%|█████████████████████████████████████████████████▉             | 792/1000 [00:40<00:10, 19.88it/s]"
     ]
    },
    {
     "name": "stderr",
     "output_type": "stream",
     "text": [
      "\r\n",
      "Normal id_04:  80%|██████████████████████████████████████████████████             | 795/1000 [00:40<00:10, 20.28it/s]"
     ]
    },
    {
     "name": "stderr",
     "output_type": "stream",
     "text": [
      "\r\n",
      "Normal id_04:  80%|██████████████████████████████████████████████████▎            | 798/1000 [00:40<00:10, 19.97it/s]"
     ]
    },
    {
     "name": "stderr",
     "output_type": "stream",
     "text": [
      "\r\n",
      "Normal id_04:  80%|██████████████████████████████████████████████████▍            | 800/1000 [00:40<00:10, 19.40it/s]"
     ]
    },
    {
     "name": "stderr",
     "output_type": "stream",
     "text": [
      "\r\n",
      "Normal id_04:  80%|██████████████████████████████████████████████████▌            | 802/1000 [00:40<00:10, 18.03it/s]"
     ]
    },
    {
     "name": "stderr",
     "output_type": "stream",
     "text": [
      "\r\n",
      "Normal id_04:  80%|██████████████████████████████████████████████████▋            | 805/1000 [00:40<00:10, 19.31it/s]"
     ]
    },
    {
     "name": "stderr",
     "output_type": "stream",
     "text": [
      "\r\n",
      "Normal id_04:  81%|██████████████████████████████████████████████████▉            | 808/1000 [00:40<00:09, 20.15it/s]"
     ]
    },
    {
     "name": "stderr",
     "output_type": "stream",
     "text": [
      "\r\n",
      "Normal id_04:  81%|███████████████████████████████████████████████████            | 811/1000 [00:41<00:09, 20.79it/s]"
     ]
    },
    {
     "name": "stderr",
     "output_type": "stream",
     "text": [
      "\r\n",
      "Normal id_04:  81%|███████████████████████████████████████████████████▎           | 814/1000 [00:41<00:09, 20.22it/s]"
     ]
    },
    {
     "name": "stderr",
     "output_type": "stream",
     "text": [
      "\r\n",
      "Normal id_04:  82%|███████████████████████████████████████████████████▍           | 817/1000 [00:41<00:09, 19.89it/s]"
     ]
    },
    {
     "name": "stderr",
     "output_type": "stream",
     "text": [
      "\r\n",
      "Normal id_04:  82%|███████████████████████████████████████████████████▋           | 820/1000 [00:41<00:08, 20.58it/s]"
     ]
    },
    {
     "name": "stderr",
     "output_type": "stream",
     "text": [
      "\r\n",
      "Normal id_04:  82%|███████████████████████████████████████████████████▊           | 823/1000 [00:41<00:08, 19.90it/s]"
     ]
    },
    {
     "name": "stderr",
     "output_type": "stream",
     "text": [
      "\r\n",
      "Normal id_04:  83%|████████████████████████████████████████████████████           | 826/1000 [00:41<00:08, 19.70it/s]"
     ]
    },
    {
     "name": "stderr",
     "output_type": "stream",
     "text": [
      "\r\n",
      "Normal id_04:  83%|████████████████████████████████████████████████████▏          | 828/1000 [00:41<00:08, 19.61it/s]"
     ]
    },
    {
     "name": "stderr",
     "output_type": "stream",
     "text": [
      "\r\n",
      "Normal id_04:  83%|████████████████████████████████████████████████████▎          | 830/1000 [00:42<00:08, 19.45it/s]"
     ]
    },
    {
     "name": "stderr",
     "output_type": "stream",
     "text": [
      "\r\n",
      "Normal id_04:  83%|████████████████████████████████████████████████████▍          | 833/1000 [00:42<00:08, 19.75it/s]"
     ]
    },
    {
     "name": "stderr",
     "output_type": "stream",
     "text": [
      "\r\n",
      "Normal id_04:  84%|████████████████████████████████████████████████████▌          | 835/1000 [00:42<00:08, 19.64it/s]"
     ]
    },
    {
     "name": "stderr",
     "output_type": "stream",
     "text": [
      "\r\n",
      "Normal id_04:  84%|████████████████████████████████████████████████████▋          | 837/1000 [00:42<00:08, 19.03it/s]"
     ]
    },
    {
     "name": "stderr",
     "output_type": "stream",
     "text": [
      "\r\n",
      "Normal id_04:  84%|████████████████████████████████████████████████████▊          | 839/1000 [00:42<00:08, 17.99it/s]"
     ]
    },
    {
     "name": "stderr",
     "output_type": "stream",
     "text": [
      "\r\n",
      "Normal id_04:  84%|█████████████████████████████████████████████████████          | 842/1000 [00:42<00:08, 19.22it/s]"
     ]
    },
    {
     "name": "stderr",
     "output_type": "stream",
     "text": [
      "\r\n",
      "Normal id_04:  84%|█████████████████████████████████████████████████████▏         | 845/1000 [00:42<00:07, 19.94it/s]"
     ]
    },
    {
     "name": "stderr",
     "output_type": "stream",
     "text": [
      "\r\n",
      "Normal id_04:  85%|█████████████████████████████████████████████████████▍         | 848/1000 [00:42<00:07, 20.58it/s]"
     ]
    },
    {
     "name": "stderr",
     "output_type": "stream",
     "text": [
      "\r\n",
      "Normal id_04:  85%|█████████████████████████████████████████████████████▌         | 851/1000 [00:43<00:07, 20.98it/s]"
     ]
    },
    {
     "name": "stderr",
     "output_type": "stream",
     "text": [
      "\r\n",
      "Normal id_04:  85%|█████████████████████████████████████████████████████▊         | 854/1000 [00:43<00:06, 21.11it/s]"
     ]
    },
    {
     "name": "stderr",
     "output_type": "stream",
     "text": [
      "\r\n",
      "Normal id_04:  86%|█████████████████████████████████████████████████████▉         | 857/1000 [00:43<00:06, 20.49it/s]"
     ]
    },
    {
     "name": "stderr",
     "output_type": "stream",
     "text": [
      "\r\n",
      "Normal id_04:  86%|██████████████████████████████████████████████████████▏        | 860/1000 [00:43<00:06, 20.63it/s]"
     ]
    },
    {
     "name": "stderr",
     "output_type": "stream",
     "text": [
      "\r\n",
      "Normal id_04:  86%|██████████████████████████████████████████████████████▎        | 863/1000 [00:43<00:06, 19.79it/s]"
     ]
    },
    {
     "name": "stderr",
     "output_type": "stream",
     "text": [
      "\r\n",
      "Normal id_04:  87%|██████████████████████████████████████████████████████▌        | 866/1000 [00:43<00:06, 19.96it/s]"
     ]
    },
    {
     "name": "stderr",
     "output_type": "stream",
     "text": [
      "\r\n",
      "Normal id_04:  87%|██████████████████████████████████████████████████████▋        | 869/1000 [00:43<00:06, 20.19it/s]"
     ]
    },
    {
     "name": "stderr",
     "output_type": "stream",
     "text": [
      "\r\n",
      "Normal id_04:  87%|██████████████████████████████████████████████████████▉        | 872/1000 [00:44<00:06, 20.01it/s]"
     ]
    },
    {
     "name": "stderr",
     "output_type": "stream",
     "text": [
      "\r\n",
      "Normal id_04:  88%|███████████████████████████████████████████████████████▏       | 875/1000 [00:44<00:06, 19.83it/s]"
     ]
    },
    {
     "name": "stderr",
     "output_type": "stream",
     "text": [
      "\r\n",
      "Normal id_04:  88%|███████████████████████████████████████████████████████▎       | 878/1000 [00:44<00:06, 20.03it/s]"
     ]
    },
    {
     "name": "stderr",
     "output_type": "stream",
     "text": [
      "\r\n",
      "Normal id_04:  88%|███████████████████████████████████████████████████████▌       | 881/1000 [00:44<00:06, 19.74it/s]"
     ]
    },
    {
     "name": "stderr",
     "output_type": "stream",
     "text": [
      "\r\n",
      "Normal id_04:  88%|███████████████████████████████████████████████████████▋       | 883/1000 [00:44<00:06, 19.04it/s]"
     ]
    },
    {
     "name": "stderr",
     "output_type": "stream",
     "text": [
      "\r\n",
      "Normal id_04:  89%|███████████████████████████████████████████████████████▊       | 886/1000 [00:44<00:05, 19.86it/s]"
     ]
    },
    {
     "name": "stderr",
     "output_type": "stream",
     "text": [
      "\r\n",
      "Normal id_04:  89%|████████████████████████████████████████████████████████       | 889/1000 [00:44<00:05, 20.52it/s]"
     ]
    },
    {
     "name": "stderr",
     "output_type": "stream",
     "text": [
      "\r\n",
      "Normal id_04:  89%|████████████████████████████████████████████████████████▏      | 892/1000 [00:45<00:05, 20.98it/s]"
     ]
    },
    {
     "name": "stderr",
     "output_type": "stream",
     "text": [
      "\r\n",
      "Normal id_04:  90%|████████████████████████████████████████████████████████▍      | 895/1000 [00:45<00:05, 20.16it/s]"
     ]
    },
    {
     "name": "stderr",
     "output_type": "stream",
     "text": [
      "\r\n",
      "Normal id_04:  90%|████████████████████████████████████████████████████████▌      | 898/1000 [00:45<00:04, 20.58it/s]"
     ]
    },
    {
     "name": "stderr",
     "output_type": "stream",
     "text": [
      "\r\n",
      "Normal id_04:  90%|████████████████████████████████████████████████████████▊      | 901/1000 [00:45<00:04, 20.88it/s]"
     ]
    },
    {
     "name": "stderr",
     "output_type": "stream",
     "text": [
      "\r\n",
      "Normal id_04:  90%|████████████████████████████████████████████████████████▉      | 904/1000 [00:45<00:05, 18.80it/s]"
     ]
    },
    {
     "name": "stderr",
     "output_type": "stream",
     "text": [
      "\r\n",
      "Normal id_04:  91%|█████████████████████████████████████████████████████████▏     | 907/1000 [00:45<00:04, 19.70it/s]"
     ]
    },
    {
     "name": "stderr",
     "output_type": "stream",
     "text": [
      "\r\n",
      "Normal id_04:  91%|█████████████████████████████████████████████████████████▎     | 910/1000 [00:45<00:04, 20.03it/s]"
     ]
    },
    {
     "name": "stderr",
     "output_type": "stream",
     "text": [
      "\r\n",
      "Normal id_04:  91%|█████████████████████████████████████████████████████████▌     | 913/1000 [00:46<00:04, 20.13it/s]"
     ]
    },
    {
     "name": "stderr",
     "output_type": "stream",
     "text": [
      "\r\n",
      "Normal id_04:  92%|█████████████████████████████████████████████████████████▋     | 916/1000 [00:46<00:04, 20.35it/s]"
     ]
    },
    {
     "name": "stderr",
     "output_type": "stream",
     "text": [
      "\r\n",
      "Normal id_04:  92%|█████████████████████████████████████████████████████████▉     | 919/1000 [00:46<00:03, 20.39it/s]"
     ]
    },
    {
     "name": "stderr",
     "output_type": "stream",
     "text": [
      "\r\n",
      "Normal id_04:  92%|██████████████████████████████████████████████████████████     | 922/1000 [00:46<00:03, 19.59it/s]"
     ]
    },
    {
     "name": "stderr",
     "output_type": "stream",
     "text": [
      "\r\n",
      "Normal id_04:  92%|██████████████████████████████████████████████████████████▎    | 925/1000 [00:46<00:03, 20.31it/s]"
     ]
    },
    {
     "name": "stderr",
     "output_type": "stream",
     "text": [
      "\r\n",
      "Normal id_04:  93%|██████████████████████████████████████████████████████████▍    | 928/1000 [00:46<00:03, 20.07it/s]"
     ]
    },
    {
     "name": "stderr",
     "output_type": "stream",
     "text": [
      "\r\n",
      "Normal id_04:  93%|██████████████████████████████████████████████████████████▋    | 931/1000 [00:47<00:03, 19.82it/s]"
     ]
    },
    {
     "name": "stderr",
     "output_type": "stream",
     "text": [
      "\r\n",
      "Normal id_04:  93%|██████████████████████████████████████████████████████████▊    | 933/1000 [00:47<00:03, 19.79it/s]"
     ]
    },
    {
     "name": "stderr",
     "output_type": "stream",
     "text": [
      "\r\n",
      "Normal id_04:  94%|██████████████████████████████████████████████████████████▉    | 935/1000 [00:47<00:03, 19.83it/s]"
     ]
    },
    {
     "name": "stderr",
     "output_type": "stream",
     "text": [
      "\r\n",
      "Normal id_04:  94%|███████████████████████████████████████████████████████████    | 937/1000 [00:47<00:03, 19.84it/s]"
     ]
    },
    {
     "name": "stderr",
     "output_type": "stream",
     "text": [
      "\r\n",
      "Normal id_04:  94%|███████████████████████████████████████████████████████████▏   | 939/1000 [00:47<00:03, 19.74it/s]"
     ]
    },
    {
     "name": "stderr",
     "output_type": "stream",
     "text": [
      "\r\n",
      "Normal id_04:  94%|███████████████████████████████████████████████████████████▎   | 941/1000 [00:47<00:02, 19.68it/s]"
     ]
    },
    {
     "name": "stderr",
     "output_type": "stream",
     "text": [
      "\r\n",
      "Normal id_04:  94%|███████████████████████████████████████████████████████████▍   | 943/1000 [00:47<00:02, 19.28it/s]"
     ]
    },
    {
     "name": "stderr",
     "output_type": "stream",
     "text": [
      "\r\n",
      "Normal id_04:  94%|███████████████████████████████████████████████████████████▌   | 945/1000 [00:47<00:02, 19.38it/s]"
     ]
    },
    {
     "name": "stderr",
     "output_type": "stream",
     "text": [
      "\r\n",
      "Normal id_04:  95%|███████████████████████████████████████████████████████████▋   | 947/1000 [00:47<00:02, 19.43it/s]"
     ]
    },
    {
     "name": "stderr",
     "output_type": "stream",
     "text": [
      "\r\n",
      "Normal id_04:  95%|███████████████████████████████████████████████████████████▊   | 949/1000 [00:47<00:02, 19.35it/s]"
     ]
    },
    {
     "name": "stderr",
     "output_type": "stream",
     "text": [
      "\r\n",
      "Normal id_04:  95%|███████████████████████████████████████████████████████████▉   | 951/1000 [00:48<00:02, 19.22it/s]"
     ]
    },
    {
     "name": "stderr",
     "output_type": "stream",
     "text": [
      "\r\n",
      "Normal id_04:  95%|████████████████████████████████████████████████████████████   | 953/1000 [00:48<00:02, 19.29it/s]"
     ]
    },
    {
     "name": "stderr",
     "output_type": "stream",
     "text": [
      "\r\n",
      "Normal id_04:  96%|████████████████████████████████████████████████████████████▏  | 955/1000 [00:48<00:02, 19.33it/s]"
     ]
    },
    {
     "name": "stderr",
     "output_type": "stream",
     "text": [
      "\r\n",
      "Normal id_04:  96%|████████████████████████████████████████████████████████████▎  | 957/1000 [00:48<00:02, 19.37it/s]"
     ]
    },
    {
     "name": "stderr",
     "output_type": "stream",
     "text": [
      "\r\n",
      "Normal id_04:  96%|████████████████████████████████████████████████████████████▍  | 959/1000 [00:48<00:02, 19.38it/s]"
     ]
    },
    {
     "name": "stderr",
     "output_type": "stream",
     "text": [
      "\r\n",
      "Normal id_04:  96%|████████████████████████████████████████████████████████████▌  | 961/1000 [00:48<00:02, 19.09it/s]"
     ]
    },
    {
     "name": "stderr",
     "output_type": "stream",
     "text": [
      "\r\n",
      "Normal id_04:  96%|████████████████████████████████████████████████████████████▋  | 963/1000 [00:48<00:01, 18.90it/s]"
     ]
    },
    {
     "name": "stderr",
     "output_type": "stream",
     "text": [
      "\r\n",
      "Normal id_04:  97%|████████████████████████████████████████████████████████████▊  | 966/1000 [00:48<00:01, 19.65it/s]"
     ]
    },
    {
     "name": "stderr",
     "output_type": "stream",
     "text": [
      "\r\n",
      "Normal id_04:  97%|█████████████████████████████████████████████████████████████  | 969/1000 [00:48<00:01, 19.98it/s]"
     ]
    },
    {
     "name": "stderr",
     "output_type": "stream",
     "text": [
      "\r\n",
      "Normal id_04:  97%|█████████████████████████████████████████████████████████████▏ | 972/1000 [00:49<00:01, 20.19it/s]"
     ]
    },
    {
     "name": "stderr",
     "output_type": "stream",
     "text": [
      "\r\n",
      "Normal id_04:  98%|█████████████████████████████████████████████████████████████▍ | 975/1000 [00:49<00:01, 19.86it/s]"
     ]
    },
    {
     "name": "stderr",
     "output_type": "stream",
     "text": [
      "\r\n",
      "Normal id_04:  98%|█████████████████████████████████████████████████████████████▌ | 978/1000 [00:49<00:01, 20.26it/s]"
     ]
    },
    {
     "name": "stderr",
     "output_type": "stream",
     "text": [
      "\r\n",
      "Normal id_04:  98%|█████████████████████████████████████████████████████████████▊ | 981/1000 [00:49<00:00, 19.75it/s]"
     ]
    },
    {
     "name": "stderr",
     "output_type": "stream",
     "text": [
      "\r\n",
      "Normal id_04:  98%|█████████████████████████████████████████████████████████████▉ | 983/1000 [00:49<00:00, 19.04it/s]"
     ]
    },
    {
     "name": "stderr",
     "output_type": "stream",
     "text": [
      "\r\n",
      "Normal id_04:  99%|██████████████████████████████████████████████████████████████ | 986/1000 [00:49<00:00, 19.96it/s]"
     ]
    },
    {
     "name": "stderr",
     "output_type": "stream",
     "text": [
      "\r\n",
      "Normal id_04:  99%|██████████████████████████████████████████████████████████████▎| 989/1000 [00:49<00:00, 20.59it/s]"
     ]
    },
    {
     "name": "stderr",
     "output_type": "stream",
     "text": [
      "\r\n",
      "Normal id_04:  99%|██████████████████████████████████████████████████████████████▍| 992/1000 [00:50<00:00, 21.07it/s]"
     ]
    },
    {
     "name": "stderr",
     "output_type": "stream",
     "text": [
      "\r\n",
      "Normal id_04: 100%|██████████████████████████████████████████████████████████████▋| 995/1000 [00:50<00:00, 20.24it/s]"
     ]
    },
    {
     "name": "stderr",
     "output_type": "stream",
     "text": [
      "\r\n",
      "Normal id_04: 100%|██████████████████████████████████████████████████████████████▊| 998/1000 [00:50<00:00, 19.84it/s]"
     ]
    },
    {
     "name": "stderr",
     "output_type": "stream",
     "text": [
      "\r\n",
      "Normal id_04: 100%|██████████████████████████████████████████████████████████████| 1000/1000 [00:50<00:00, 19.47it/s]"
     ]
    },
    {
     "name": "stderr",
     "output_type": "stream",
     "text": [
      "\r\n",
      "Normal id_04: 100%|██████████████████████████████████████████████████████████████| 1000/1000 [00:50<00:00, 19.78it/s]"
     ]
    },
    {
     "name": "stderr",
     "output_type": "stream",
     "text": [
      "\n"
     ]
    },
    {
     "name": "stdout",
     "output_type": "stream",
     "text": [
      "Processing 120 abnormal files for id_04...\n"
     ]
    },
    {
     "name": "stderr",
     "output_type": "stream",
     "text": [
      "\r\n",
      "Abnormal id_04:   0%|                                                                        | 0/120 [00:00<?, ?it/s]"
     ]
    },
    {
     "name": "stderr",
     "output_type": "stream",
     "text": [
      "\r\n",
      "Abnormal id_04:   2%|█                                                               | 2/120 [00:00<00:06, 17.04it/s]"
     ]
    },
    {
     "name": "stderr",
     "output_type": "stream",
     "text": [
      "\r\n",
      "Abnormal id_04:   4%|██▋                                                             | 5/120 [00:00<00:06, 18.62it/s]"
     ]
    },
    {
     "name": "stderr",
     "output_type": "stream",
     "text": [
      "\r\n",
      "Abnormal id_04:   6%|███▋                                                            | 7/120 [00:00<00:06, 18.10it/s]"
     ]
    },
    {
     "name": "stderr",
     "output_type": "stream",
     "text": [
      "\r\n",
      "Abnormal id_04:   8%|████▊                                                           | 9/120 [00:00<00:06, 18.41it/s]"
     ]
    },
    {
     "name": "stderr",
     "output_type": "stream",
     "text": [
      "\r\n",
      "Abnormal id_04:   9%|█████▊                                                         | 11/120 [00:00<00:05, 18.66it/s]"
     ]
    },
    {
     "name": "stderr",
     "output_type": "stream",
     "text": [
      "\r\n",
      "Abnormal id_04:  11%|██████▊                                                        | 13/120 [00:00<00:05, 19.03it/s]"
     ]
    },
    {
     "name": "stderr",
     "output_type": "stream",
     "text": [
      "\r\n",
      "Abnormal id_04:  12%|███████▉                                                       | 15/120 [00:00<00:05, 19.16it/s]"
     ]
    },
    {
     "name": "stderr",
     "output_type": "stream",
     "text": [
      "\r\n",
      "Abnormal id_04:  14%|████████▉                                                      | 17/120 [00:00<00:05, 19.39it/s]"
     ]
    },
    {
     "name": "stderr",
     "output_type": "stream",
     "text": [
      "\r\n",
      "Abnormal id_04:  16%|█████████▉                                                     | 19/120 [00:01<00:05, 19.55it/s]"
     ]
    },
    {
     "name": "stderr",
     "output_type": "stream",
     "text": [
      "\r\n",
      "Abnormal id_04:  18%|███████████                                                    | 21/120 [00:01<00:05, 18.76it/s]"
     ]
    },
    {
     "name": "stderr",
     "output_type": "stream",
     "text": [
      "\r\n",
      "Abnormal id_04:  20%|████████████▌                                                  | 24/120 [00:01<00:04, 19.70it/s]"
     ]
    },
    {
     "name": "stderr",
     "output_type": "stream",
     "text": [
      "\r\n",
      "Abnormal id_04:  22%|██████████████▏                                                | 27/120 [00:01<00:04, 19.88it/s]"
     ]
    },
    {
     "name": "stderr",
     "output_type": "stream",
     "text": [
      "\r\n",
      "Abnormal id_04:  25%|███████████████▊                                               | 30/120 [00:01<00:04, 20.08it/s]"
     ]
    },
    {
     "name": "stderr",
     "output_type": "stream",
     "text": [
      "\r\n",
      "Abnormal id_04:  27%|████████████████▊                                              | 32/120 [00:01<00:04, 19.86it/s]"
     ]
    },
    {
     "name": "stderr",
     "output_type": "stream",
     "text": [
      "\r\n",
      "Abnormal id_04:  29%|██████████████████▍                                            | 35/120 [00:01<00:04, 20.17it/s]"
     ]
    },
    {
     "name": "stderr",
     "output_type": "stream",
     "text": [
      "\r\n",
      "Abnormal id_04:  32%|███████████████████▉                                           | 38/120 [00:01<00:03, 20.50it/s]"
     ]
    },
    {
     "name": "stderr",
     "output_type": "stream",
     "text": [
      "\r\n",
      "Abnormal id_04:  34%|█████████████████████▌                                         | 41/120 [00:02<00:04, 19.50it/s]"
     ]
    },
    {
     "name": "stderr",
     "output_type": "stream",
     "text": [
      "\r\n",
      "Abnormal id_04:  36%|██████████████████████▌                                        | 43/120 [00:02<00:04, 19.06it/s]"
     ]
    },
    {
     "name": "stderr",
     "output_type": "stream",
     "text": [
      "\r\n",
      "Abnormal id_04:  38%|████████████████████████▏                                      | 46/120 [00:02<00:03, 19.95it/s]"
     ]
    },
    {
     "name": "stderr",
     "output_type": "stream",
     "text": [
      "\r\n",
      "Abnormal id_04:  40%|█████████████████████████▏                                     | 48/120 [00:02<00:03, 19.86it/s]"
     ]
    },
    {
     "name": "stderr",
     "output_type": "stream",
     "text": [
      "\r\n",
      "Abnormal id_04:  42%|██████████████████████████▎                                    | 50/120 [00:02<00:03, 19.64it/s]"
     ]
    },
    {
     "name": "stderr",
     "output_type": "stream",
     "text": [
      "\r\n",
      "Abnormal id_04:  43%|███████████████████████████▎                                   | 52/120 [00:02<00:03, 19.50it/s]"
     ]
    },
    {
     "name": "stderr",
     "output_type": "stream",
     "text": [
      "\r\n",
      "Abnormal id_04:  46%|████████████████████████████▉                                  | 55/120 [00:02<00:03, 20.13it/s]"
     ]
    },
    {
     "name": "stderr",
     "output_type": "stream",
     "text": [
      "\r\n",
      "Abnormal id_04:  48%|██████████████████████████████▍                                | 58/120 [00:02<00:03, 19.66it/s]"
     ]
    },
    {
     "name": "stderr",
     "output_type": "stream",
     "text": [
      "\r\n",
      "Abnormal id_04:  50%|███████████████████████████████▌                               | 60/120 [00:03<00:03, 19.06it/s]"
     ]
    },
    {
     "name": "stderr",
     "output_type": "stream",
     "text": [
      "\r\n",
      "Abnormal id_04:  52%|█████████████████████████████████                              | 63/120 [00:03<00:02, 19.97it/s]"
     ]
    },
    {
     "name": "stderr",
     "output_type": "stream",
     "text": [
      "\r\n",
      "Abnormal id_04:  55%|██████████████████████████████████▋                            | 66/120 [00:03<00:02, 20.12it/s]"
     ]
    },
    {
     "name": "stderr",
     "output_type": "stream",
     "text": [
      "\r\n",
      "Abnormal id_04:  57%|████████████████████████████████████▏                          | 69/120 [00:03<00:02, 19.79it/s]"
     ]
    },
    {
     "name": "stderr",
     "output_type": "stream",
     "text": [
      "\r\n",
      "Abnormal id_04:  59%|█████████████████████████████████████▎                         | 71/120 [00:03<00:02, 19.70it/s]"
     ]
    },
    {
     "name": "stderr",
     "output_type": "stream",
     "text": [
      "\r\n",
      "Abnormal id_04:  61%|██████████████████████████████████████▎                        | 73/120 [00:03<00:02, 19.30it/s]"
     ]
    },
    {
     "name": "stderr",
     "output_type": "stream",
     "text": [
      "\r\n",
      "Abnormal id_04:  63%|███████████████████████████████████████▉                       | 76/120 [00:03<00:02, 19.90it/s]"
     ]
    },
    {
     "name": "stderr",
     "output_type": "stream",
     "text": [
      "\r\n",
      "Abnormal id_04:  66%|█████████████████████████████████████████▍                     | 79/120 [00:04<00:02, 19.09it/s]"
     ]
    },
    {
     "name": "stderr",
     "output_type": "stream",
     "text": [
      "\r\n",
      "Abnormal id_04:  68%|███████████████████████████████████████████                    | 82/120 [00:04<00:01, 19.73it/s]"
     ]
    },
    {
     "name": "stderr",
     "output_type": "stream",
     "text": [
      "\r\n",
      "Abnormal id_04:  70%|████████████████████████████████████████████                   | 84/120 [00:04<00:01, 19.54it/s]"
     ]
    },
    {
     "name": "stderr",
     "output_type": "stream",
     "text": [
      "\r\n",
      "Abnormal id_04:  72%|█████████████████████████████████████████████▋                 | 87/120 [00:04<00:01, 20.12it/s]"
     ]
    },
    {
     "name": "stderr",
     "output_type": "stream",
     "text": [
      "\r\n",
      "Abnormal id_04:  75%|███████████████████████████████████████████████▎               | 90/120 [00:04<00:01, 20.17it/s]"
     ]
    },
    {
     "name": "stderr",
     "output_type": "stream",
     "text": [
      "\r\n",
      "Abnormal id_04:  78%|████████████████████████████████████████████████▊              | 93/120 [00:04<00:01, 20.10it/s]"
     ]
    },
    {
     "name": "stderr",
     "output_type": "stream",
     "text": [
      "\r\n",
      "Abnormal id_04:  80%|██████████████████████████████████████████████████▍            | 96/120 [00:04<00:01, 20.29it/s]"
     ]
    },
    {
     "name": "stderr",
     "output_type": "stream",
     "text": [
      "\r\n",
      "Abnormal id_04:  82%|███████████████████████████████████████████████████▉           | 99/120 [00:05<00:01, 18.99it/s]"
     ]
    },
    {
     "name": "stderr",
     "output_type": "stream",
     "text": [
      "\r\n",
      "Abnormal id_04:  85%|████████████████████████████████████████████████████▋         | 102/120 [00:05<00:00, 19.54it/s]"
     ]
    },
    {
     "name": "stderr",
     "output_type": "stream",
     "text": [
      "\r\n",
      "Abnormal id_04:  87%|█████████████████████████████████████████████████████▋        | 104/120 [00:05<00:00, 19.44it/s]"
     ]
    },
    {
     "name": "stderr",
     "output_type": "stream",
     "text": [
      "\r\n",
      "Abnormal id_04:  88%|██████████████████████████████████████████████████████▊       | 106/120 [00:05<00:00, 18.98it/s]"
     ]
    },
    {
     "name": "stderr",
     "output_type": "stream",
     "text": [
      "\r\n",
      "Abnormal id_04:  91%|████████████████████████████████████████████████████████▎     | 109/120 [00:05<00:00, 19.44it/s]"
     ]
    },
    {
     "name": "stderr",
     "output_type": "stream",
     "text": [
      "\r\n",
      "Abnormal id_04:  93%|█████████████████████████████████████████████████████████▊    | 112/120 [00:05<00:00, 20.01it/s]"
     ]
    },
    {
     "name": "stderr",
     "output_type": "stream",
     "text": [
      "\r\n",
      "Abnormal id_04:  95%|██████████████████████████████████████████████████████████▉   | 114/120 [00:05<00:00, 19.94it/s]"
     ]
    },
    {
     "name": "stderr",
     "output_type": "stream",
     "text": [
      "\r\n",
      "Abnormal id_04:  98%|████████████████████████████████████████████████████████████▍ | 117/120 [00:05<00:00, 20.66it/s]"
     ]
    },
    {
     "name": "stderr",
     "output_type": "stream",
     "text": [
      "\r\n",
      "Abnormal id_04: 100%|██████████████████████████████████████████████████████████████| 120/120 [00:06<00:00, 20.15it/s]"
     ]
    },
    {
     "name": "stderr",
     "output_type": "stream",
     "text": [
      "\r\n",
      "Abnormal id_04: 100%|██████████████████████████████████████████████████████████████| 120/120 [00:06<00:00, 19.65it/s]"
     ]
    },
    {
     "name": "stderr",
     "output_type": "stream",
     "text": [
      "\n"
     ]
    },
    {
     "name": "stdout",
     "output_type": "stream",
     "text": [
      "Processing 992 normal files for id_06...\n"
     ]
    },
    {
     "name": "stderr",
     "output_type": "stream",
     "text": [
      "\r\n",
      "Normal id_06:   0%|                                                                          | 0/992 [00:00<?, ?it/s]"
     ]
    },
    {
     "name": "stderr",
     "output_type": "stream",
     "text": [
      "\r\n",
      "Normal id_06:   0%|▏                                                                 | 3/992 [00:00<00:46, 21.11it/s]"
     ]
    },
    {
     "name": "stderr",
     "output_type": "stream",
     "text": [
      "\r\n",
      "Normal id_06:   1%|▍                                                                 | 6/992 [00:00<00:50, 19.56it/s]"
     ]
    },
    {
     "name": "stderr",
     "output_type": "stream",
     "text": [
      "\r\n",
      "Normal id_06:   1%|▌                                                                 | 8/992 [00:00<00:50, 19.42it/s]"
     ]
    },
    {
     "name": "stderr",
     "output_type": "stream",
     "text": [
      "\r\n",
      "Normal id_06:   1%|▋                                                                | 10/992 [00:00<00:51, 19.12it/s]"
     ]
    },
    {
     "name": "stderr",
     "output_type": "stream",
     "text": [
      "\r\n",
      "Normal id_06:   1%|▊                                                                | 12/992 [00:00<00:53, 18.48it/s]"
     ]
    },
    {
     "name": "stderr",
     "output_type": "stream",
     "text": [
      "\r\n",
      "Normal id_06:   1%|▉                                                                | 14/992 [00:00<00:53, 18.35it/s]"
     ]
    },
    {
     "name": "stderr",
     "output_type": "stream",
     "text": [
      "\r\n",
      "Normal id_06:   2%|█                                                                | 17/992 [00:00<00:53, 18.18it/s]"
     ]
    },
    {
     "name": "stderr",
     "output_type": "stream",
     "text": [
      "\r\n",
      "Normal id_06:   2%|█▎                                                               | 20/992 [00:01<00:51, 18.94it/s]"
     ]
    },
    {
     "name": "stderr",
     "output_type": "stream",
     "text": [
      "\r\n",
      "Normal id_06:   2%|█▍                                                               | 22/992 [00:01<00:50, 19.05it/s]"
     ]
    },
    {
     "name": "stderr",
     "output_type": "stream",
     "text": [
      "\r\n",
      "Normal id_06:   2%|█▌                                                               | 24/992 [00:01<00:51, 18.84it/s]"
     ]
    },
    {
     "name": "stderr",
     "output_type": "stream",
     "text": [
      "\r\n",
      "Normal id_06:   3%|█▋                                                               | 26/992 [00:01<00:50, 18.99it/s]"
     ]
    },
    {
     "name": "stderr",
     "output_type": "stream",
     "text": [
      "\r\n",
      "Normal id_06:   3%|█▊                                                               | 28/992 [00:01<00:50, 19.16it/s]"
     ]
    },
    {
     "name": "stderr",
     "output_type": "stream",
     "text": [
      "\r\n",
      "Normal id_06:   3%|█▉                                                               | 30/992 [00:01<00:50, 19.15it/s]"
     ]
    },
    {
     "name": "stderr",
     "output_type": "stream",
     "text": [
      "\r\n",
      "Normal id_06:   3%|██                                                               | 32/992 [00:01<00:49, 19.21it/s]"
     ]
    },
    {
     "name": "stderr",
     "output_type": "stream",
     "text": [
      "\r\n",
      "Normal id_06:   3%|██▏                                                              | 34/992 [00:01<00:50, 18.99it/s]"
     ]
    },
    {
     "name": "stderr",
     "output_type": "stream",
     "text": [
      "\r\n",
      "Normal id_06:   4%|██▎                                                              | 36/992 [00:01<00:50, 18.84it/s]"
     ]
    },
    {
     "name": "stderr",
     "output_type": "stream",
     "text": [
      "\r\n",
      "Normal id_06:   4%|██▍                                                              | 38/992 [00:02<00:52, 18.28it/s]"
     ]
    },
    {
     "name": "stderr",
     "output_type": "stream",
     "text": [
      "\r\n",
      "Normal id_06:   4%|██▋                                                              | 41/992 [00:02<00:49, 19.33it/s]"
     ]
    },
    {
     "name": "stderr",
     "output_type": "stream",
     "text": [
      "\r\n",
      "Normal id_06:   4%|██▊                                                              | 43/992 [00:02<00:51, 18.53it/s]"
     ]
    },
    {
     "name": "stderr",
     "output_type": "stream",
     "text": [
      "\r\n",
      "Normal id_06:   5%|███                                                              | 46/992 [00:02<00:48, 19.33it/s]"
     ]
    },
    {
     "name": "stderr",
     "output_type": "stream",
     "text": [
      "\r\n",
      "Normal id_06:   5%|███▏                                                             | 49/992 [00:02<00:48, 19.64it/s]"
     ]
    },
    {
     "name": "stderr",
     "output_type": "stream",
     "text": [
      "\r\n",
      "Normal id_06:   5%|███▍                                                             | 52/992 [00:02<00:47, 19.87it/s]"
     ]
    },
    {
     "name": "stderr",
     "output_type": "stream",
     "text": [
      "\r\n",
      "Normal id_06:   6%|███▌                                                             | 55/992 [00:02<00:46, 20.08it/s]"
     ]
    },
    {
     "name": "stderr",
     "output_type": "stream",
     "text": [
      "\r\n",
      "Normal id_06:   6%|███▋                                                             | 57/992 [00:02<00:47, 19.62it/s]"
     ]
    },
    {
     "name": "stderr",
     "output_type": "stream",
     "text": [
      "\r\n",
      "Normal id_06:   6%|███▊                                                             | 59/992 [00:03<00:47, 19.48it/s]"
     ]
    },
    {
     "name": "stderr",
     "output_type": "stream",
     "text": [
      "\r\n",
      "Normal id_06:   6%|████                                                             | 62/992 [00:03<00:47, 19.63it/s]"
     ]
    },
    {
     "name": "stderr",
     "output_type": "stream",
     "text": [
      "\r\n",
      "Normal id_06:   6%|████▏                                                            | 64/992 [00:03<00:47, 19.52it/s]"
     ]
    },
    {
     "name": "stderr",
     "output_type": "stream",
     "text": [
      "\r\n",
      "Normal id_06:   7%|████▎                                                            | 66/992 [00:03<00:47, 19.38it/s]"
     ]
    },
    {
     "name": "stderr",
     "output_type": "stream",
     "text": [
      "\r\n",
      "Normal id_06:   7%|████▍                                                            | 68/992 [00:03<00:47, 19.31it/s]"
     ]
    },
    {
     "name": "stderr",
     "output_type": "stream",
     "text": [
      "\r\n",
      "Normal id_06:   7%|████▌                                                            | 70/992 [00:03<00:48, 19.12it/s]"
     ]
    },
    {
     "name": "stderr",
     "output_type": "stream",
     "text": [
      "\r\n",
      "Normal id_06:   7%|████▋                                                            | 72/992 [00:03<00:50, 18.11it/s]"
     ]
    },
    {
     "name": "stderr",
     "output_type": "stream",
     "text": [
      "\r\n",
      "Normal id_06:   7%|████▊                                                            | 74/992 [00:03<00:50, 18.30it/s]"
     ]
    },
    {
     "name": "stderr",
     "output_type": "stream",
     "text": [
      "\r\n",
      "Normal id_06:   8%|████▉                                                            | 76/992 [00:04<00:51, 17.65it/s]"
     ]
    },
    {
     "name": "stderr",
     "output_type": "stream",
     "text": [
      "\r\n",
      "Normal id_06:   8%|█████▏                                                           | 79/992 [00:04<00:49, 18.34it/s]"
     ]
    },
    {
     "name": "stderr",
     "output_type": "stream",
     "text": [
      "\r\n",
      "Normal id_06:   8%|█████▎                                                           | 82/992 [00:04<00:47, 19.00it/s]"
     ]
    },
    {
     "name": "stderr",
     "output_type": "stream",
     "text": [
      "\r\n",
      "Normal id_06:   9%|█████▌                                                           | 85/992 [00:04<00:46, 19.61it/s]"
     ]
    },
    {
     "name": "stderr",
     "output_type": "stream",
     "text": [
      "\r\n",
      "Normal id_06:   9%|█████▊                                                           | 88/992 [00:04<00:45, 19.79it/s]"
     ]
    },
    {
     "name": "stderr",
     "output_type": "stream",
     "text": [
      "\r\n",
      "Normal id_06:   9%|█████▉                                                           | 90/992 [00:04<00:45, 19.79it/s]"
     ]
    },
    {
     "name": "stderr",
     "output_type": "stream",
     "text": [
      "\r\n",
      "Normal id_06:   9%|██████                                                           | 93/992 [00:04<00:44, 20.05it/s]"
     ]
    },
    {
     "name": "stderr",
     "output_type": "stream",
     "text": [
      "\r\n",
      "Normal id_06:  10%|██████▏                                                          | 95/992 [00:04<00:47, 18.84it/s]"
     ]
    },
    {
     "name": "stderr",
     "output_type": "stream",
     "text": [
      "\r\n",
      "Normal id_06:  10%|██████▍                                                          | 98/992 [00:05<00:45, 19.50it/s]"
     ]
    },
    {
     "name": "stderr",
     "output_type": "stream",
     "text": [
      "\r\n",
      "Normal id_06:  10%|██████▍                                                         | 100/992 [00:05<00:45, 19.43it/s]"
     ]
    },
    {
     "name": "stderr",
     "output_type": "stream",
     "text": [
      "\r\n",
      "Normal id_06:  10%|██████▌                                                         | 102/992 [00:05<00:46, 19.21it/s]"
     ]
    },
    {
     "name": "stderr",
     "output_type": "stream",
     "text": [
      "\r\n",
      "Normal id_06:  10%|██████▋                                                         | 104/992 [00:05<00:46, 19.07it/s]"
     ]
    },
    {
     "name": "stderr",
     "output_type": "stream",
     "text": [
      "\r\n",
      "Normal id_06:  11%|██████▊                                                         | 106/992 [00:05<00:46, 19.10it/s]"
     ]
    },
    {
     "name": "stderr",
     "output_type": "stream",
     "text": [
      "\r\n",
      "Normal id_06:  11%|███████                                                         | 109/992 [00:05<00:44, 19.85it/s]"
     ]
    },
    {
     "name": "stderr",
     "output_type": "stream",
     "text": [
      "\r\n",
      "Normal id_06:  11%|███████▏                                                        | 111/992 [00:05<00:44, 19.74it/s]"
     ]
    },
    {
     "name": "stderr",
     "output_type": "stream",
     "text": [
      "\r\n",
      "Normal id_06:  11%|███████▎                                                        | 114/992 [00:05<00:44, 19.83it/s]"
     ]
    },
    {
     "name": "stderr",
     "output_type": "stream",
     "text": [
      "\r\n",
      "Normal id_06:  12%|███████▍                                                        | 116/992 [00:06<00:44, 19.77it/s]"
     ]
    },
    {
     "name": "stderr",
     "output_type": "stream",
     "text": [
      "\r\n",
      "Normal id_06:  12%|███████▌                                                        | 118/992 [00:06<00:44, 19.67it/s]"
     ]
    },
    {
     "name": "stderr",
     "output_type": "stream",
     "text": [
      "\r\n",
      "Normal id_06:  12%|███████▋                                                        | 120/992 [00:06<00:46, 18.86it/s]"
     ]
    },
    {
     "name": "stderr",
     "output_type": "stream",
     "text": [
      "\r\n",
      "Normal id_06:  12%|███████▊                                                        | 122/992 [00:06<00:46, 18.91it/s]"
     ]
    },
    {
     "name": "stderr",
     "output_type": "stream",
     "text": [
      "\r\n",
      "Normal id_06:  13%|████████                                                        | 125/992 [00:06<00:43, 20.01it/s]"
     ]
    },
    {
     "name": "stderr",
     "output_type": "stream",
     "text": [
      "\r\n",
      "Normal id_06:  13%|████████▏                                                       | 127/992 [00:06<00:45, 18.85it/s]"
     ]
    },
    {
     "name": "stderr",
     "output_type": "stream",
     "text": [
      "\r\n",
      "Normal id_06:  13%|████████▎                                                       | 129/992 [00:06<00:45, 19.12it/s]"
     ]
    },
    {
     "name": "stderr",
     "output_type": "stream",
     "text": [
      "\r\n",
      "Normal id_06:  13%|████████▍                                                       | 131/992 [00:06<00:46, 18.53it/s]"
     ]
    },
    {
     "name": "stderr",
     "output_type": "stream",
     "text": [
      "\r\n",
      "Normal id_06:  13%|████████▌                                                       | 133/992 [00:06<00:48, 17.68it/s]"
     ]
    },
    {
     "name": "stderr",
     "output_type": "stream",
     "text": [
      "\r\n",
      "Normal id_06:  14%|████████▊                                                       | 136/992 [00:07<00:44, 19.11it/s]"
     ]
    },
    {
     "name": "stderr",
     "output_type": "stream",
     "text": [
      "\r\n",
      "Normal id_06:  14%|████████▉                                                       | 138/992 [00:07<00:44, 19.16it/s]"
     ]
    },
    {
     "name": "stderr",
     "output_type": "stream",
     "text": [
      "\r\n",
      "Normal id_06:  14%|█████████                                                       | 141/992 [00:07<00:43, 19.37it/s]"
     ]
    },
    {
     "name": "stderr",
     "output_type": "stream",
     "text": [
      "\r\n",
      "Normal id_06:  14%|█████████▏                                                      | 143/992 [00:07<00:43, 19.38it/s]"
     ]
    },
    {
     "name": "stderr",
     "output_type": "stream",
     "text": [
      "\r\n",
      "Normal id_06:  15%|█████████▎                                                      | 145/992 [00:07<00:43, 19.32it/s]"
     ]
    },
    {
     "name": "stderr",
     "output_type": "stream",
     "text": [
      "\r\n",
      "Normal id_06:  15%|█████████▍                                                      | 147/992 [00:07<00:44, 19.18it/s]"
     ]
    },
    {
     "name": "stderr",
     "output_type": "stream",
     "text": [
      "\r\n",
      "Normal id_06:  15%|█████████▋                                                      | 150/992 [00:07<00:42, 19.83it/s]"
     ]
    },
    {
     "name": "stderr",
     "output_type": "stream",
     "text": [
      "\r\n",
      "Normal id_06:  15%|█████████▊                                                      | 153/992 [00:07<00:41, 20.14it/s]"
     ]
    },
    {
     "name": "stderr",
     "output_type": "stream",
     "text": [
      "\r\n",
      "Normal id_06:  16%|██████████                                                      | 156/992 [00:08<00:41, 20.17it/s]"
     ]
    },
    {
     "name": "stderr",
     "output_type": "stream",
     "text": [
      "\r\n",
      "Normal id_06:  16%|██████████▎                                                     | 159/992 [00:08<00:41, 20.21it/s]"
     ]
    },
    {
     "name": "stderr",
     "output_type": "stream",
     "text": [
      "\r\n",
      "Normal id_06:  16%|██████████▍                                                     | 162/992 [00:08<00:41, 20.04it/s]"
     ]
    },
    {
     "name": "stderr",
     "output_type": "stream",
     "text": [
      "\r\n",
      "Normal id_06:  17%|██████████▋                                                     | 165/992 [00:08<00:40, 20.52it/s]"
     ]
    },
    {
     "name": "stderr",
     "output_type": "stream",
     "text": [
      "\r\n",
      "Normal id_06:  17%|██████████▊                                                     | 168/992 [00:08<00:40, 20.50it/s]"
     ]
    },
    {
     "name": "stderr",
     "output_type": "stream",
     "text": [
      "\r\n",
      "Normal id_06:  17%|███████████                                                     | 171/992 [00:08<00:39, 20.55it/s]"
     ]
    },
    {
     "name": "stderr",
     "output_type": "stream",
     "text": [
      "\r\n",
      "Normal id_06:  18%|███████████▏                                                    | 174/992 [00:09<00:43, 18.64it/s]"
     ]
    },
    {
     "name": "stderr",
     "output_type": "stream",
     "text": [
      "\r\n",
      "Normal id_06:  18%|███████████▎                                                    | 176/992 [00:09<00:43, 18.55it/s]"
     ]
    },
    {
     "name": "stderr",
     "output_type": "stream",
     "text": [
      "\r\n",
      "Normal id_06:  18%|███████████▍                                                    | 178/992 [00:09<00:44, 18.34it/s]"
     ]
    },
    {
     "name": "stderr",
     "output_type": "stream",
     "text": [
      "\r\n",
      "Normal id_06:  18%|███████████▋                                                    | 181/992 [00:09<00:42, 19.10it/s]"
     ]
    },
    {
     "name": "stderr",
     "output_type": "stream",
     "text": [
      "\r\n",
      "Normal id_06:  18%|███████████▊                                                    | 183/992 [00:09<00:42, 18.83it/s]"
     ]
    },
    {
     "name": "stderr",
     "output_type": "stream",
     "text": [
      "\r\n",
      "Normal id_06:  19%|███████████▉                                                    | 185/992 [00:09<00:43, 18.51it/s]"
     ]
    },
    {
     "name": "stderr",
     "output_type": "stream",
     "text": [
      "\r\n",
      "Normal id_06:  19%|████████████▏                                                   | 188/992 [00:09<00:41, 19.41it/s]"
     ]
    },
    {
     "name": "stderr",
     "output_type": "stream",
     "text": [
      "\r\n",
      "Normal id_06:  19%|████████████▎                                                   | 190/992 [00:09<00:41, 19.49it/s]"
     ]
    },
    {
     "name": "stderr",
     "output_type": "stream",
     "text": [
      "\r\n",
      "Normal id_06:  19%|████████████▍                                                   | 192/992 [00:09<00:42, 18.72it/s]"
     ]
    },
    {
     "name": "stderr",
     "output_type": "stream",
     "text": [
      "\r\n",
      "Normal id_06:  20%|████████████▌                                                   | 195/992 [00:10<00:40, 19.77it/s]"
     ]
    },
    {
     "name": "stderr",
     "output_type": "stream",
     "text": [
      "\r\n",
      "Normal id_06:  20%|████████████▊                                                   | 198/992 [00:10<00:39, 20.14it/s]"
     ]
    },
    {
     "name": "stderr",
     "output_type": "stream",
     "text": [
      "\r\n",
      "Normal id_06:  20%|████████████▉                                                   | 201/992 [00:10<00:39, 20.28it/s]"
     ]
    },
    {
     "name": "stderr",
     "output_type": "stream",
     "text": [
      "\r\n",
      "Normal id_06:  21%|█████████████▏                                                  | 204/992 [00:10<00:39, 19.97it/s]"
     ]
    },
    {
     "name": "stderr",
     "output_type": "stream",
     "text": [
      "\r\n",
      "Normal id_06:  21%|█████████████▎                                                  | 206/992 [00:10<00:40, 19.57it/s]"
     ]
    },
    {
     "name": "stderr",
     "output_type": "stream",
     "text": [
      "\r\n",
      "Normal id_06:  21%|█████████████▍                                                  | 208/992 [00:10<00:40, 19.59it/s]"
     ]
    },
    {
     "name": "stderr",
     "output_type": "stream",
     "text": [
      "\r\n",
      "Normal id_06:  21%|█████████████▌                                                  | 211/992 [00:10<00:41, 18.99it/s]"
     ]
    },
    {
     "name": "stderr",
     "output_type": "stream",
     "text": [
      "\r\n",
      "Normal id_06:  22%|█████████████▊                                                  | 214/992 [00:11<00:39, 19.90it/s]"
     ]
    },
    {
     "name": "stderr",
     "output_type": "stream",
     "text": [
      "\r\n",
      "Normal id_06:  22%|██████████████                                                  | 217/992 [00:11<00:37, 20.57it/s]"
     ]
    },
    {
     "name": "stderr",
     "output_type": "stream",
     "text": [
      "\r\n",
      "Normal id_06:  22%|██████████████▏                                                 | 220/992 [00:11<00:38, 19.92it/s]"
     ]
    },
    {
     "name": "stderr",
     "output_type": "stream",
     "text": [
      "\r\n",
      "Normal id_06:  22%|██████████████▍                                                 | 223/992 [00:11<00:37, 20.26it/s]"
     ]
    },
    {
     "name": "stderr",
     "output_type": "stream",
     "text": [
      "\r\n",
      "Normal id_06:  23%|██████████████▌                                                 | 226/992 [00:11<00:38, 20.08it/s]"
     ]
    },
    {
     "name": "stderr",
     "output_type": "stream",
     "text": [
      "\r\n",
      "Normal id_06:  23%|██████████████▊                                                 | 229/992 [00:11<00:38, 20.00it/s]"
     ]
    },
    {
     "name": "stderr",
     "output_type": "stream",
     "text": [
      "\r\n",
      "Normal id_06:  23%|██████████████▉                                                 | 232/992 [00:11<00:40, 18.95it/s]"
     ]
    },
    {
     "name": "stderr",
     "output_type": "stream",
     "text": [
      "\r\n",
      "Normal id_06:  24%|███████████████                                                 | 234/992 [00:12<00:40, 18.86it/s]"
     ]
    },
    {
     "name": "stderr",
     "output_type": "stream",
     "text": [
      "\r\n",
      "Normal id_06:  24%|███████████████▎                                                | 237/992 [00:12<00:39, 19.26it/s]"
     ]
    },
    {
     "name": "stderr",
     "output_type": "stream",
     "text": [
      "\r\n",
      "Normal id_06:  24%|███████████████▍                                                | 240/992 [00:12<00:38, 19.55it/s]"
     ]
    },
    {
     "name": "stderr",
     "output_type": "stream",
     "text": [
      "\r\n",
      "Normal id_06:  24%|███████████████▌                                                | 242/992 [00:12<00:38, 19.46it/s]"
     ]
    },
    {
     "name": "stderr",
     "output_type": "stream",
     "text": [
      "\r\n",
      "Normal id_06:  25%|███████████████▊                                                | 245/992 [00:12<00:36, 20.30it/s]"
     ]
    },
    {
     "name": "stderr",
     "output_type": "stream",
     "text": [
      "\r\n",
      "Normal id_06:  25%|████████████████                                                | 248/992 [00:12<00:36, 20.62it/s]"
     ]
    },
    {
     "name": "stderr",
     "output_type": "stream",
     "text": [
      "\r\n",
      "Normal id_06:  25%|████████████████▏                                               | 251/992 [00:12<00:38, 19.37it/s]"
     ]
    },
    {
     "name": "stderr",
     "output_type": "stream",
     "text": [
      "\r\n",
      "Normal id_06:  26%|████████████████▍                                               | 254/992 [00:13<00:37, 19.86it/s]"
     ]
    },
    {
     "name": "stderr",
     "output_type": "stream",
     "text": [
      "\r\n",
      "Normal id_06:  26%|████████████████▌                                               | 257/992 [00:13<00:36, 20.11it/s]"
     ]
    },
    {
     "name": "stderr",
     "output_type": "stream",
     "text": [
      "\r\n",
      "Normal id_06:  26%|████████████████▊                                               | 260/992 [00:13<00:38, 19.14it/s]"
     ]
    },
    {
     "name": "stderr",
     "output_type": "stream",
     "text": [
      "\r\n",
      "Normal id_06:  27%|████████████████▉                                               | 263/992 [00:13<00:36, 19.87it/s]"
     ]
    },
    {
     "name": "stderr",
     "output_type": "stream",
     "text": [
      "\r\n",
      "Normal id_06:  27%|█████████████████▏                                              | 266/992 [00:13<00:35, 20.52it/s]"
     ]
    },
    {
     "name": "stderr",
     "output_type": "stream",
     "text": [
      "\r\n",
      "Normal id_06:  27%|█████████████████▎                                              | 269/992 [00:13<00:34, 20.93it/s]"
     ]
    },
    {
     "name": "stderr",
     "output_type": "stream",
     "text": [
      "\r\n",
      "Normal id_06:  27%|█████████████████▌                                              | 272/992 [00:14<00:37, 19.45it/s]"
     ]
    },
    {
     "name": "stderr",
     "output_type": "stream",
     "text": [
      "\r\n",
      "Normal id_06:  28%|█████████████████▋                                              | 275/992 [00:14<00:36, 19.84it/s]"
     ]
    },
    {
     "name": "stderr",
     "output_type": "stream",
     "text": [
      "\r\n",
      "Normal id_06:  28%|█████████████████▉                                              | 278/992 [00:14<00:35, 20.22it/s]"
     ]
    },
    {
     "name": "stderr",
     "output_type": "stream",
     "text": [
      "\r\n",
      "Normal id_06:  28%|██████████████████▏                                             | 281/992 [00:14<00:34, 20.77it/s]"
     ]
    },
    {
     "name": "stderr",
     "output_type": "stream",
     "text": [
      "\r\n",
      "Normal id_06:  29%|██████████████████▎                                             | 284/992 [00:14<00:35, 19.68it/s]"
     ]
    },
    {
     "name": "stderr",
     "output_type": "stream",
     "text": [
      "\r\n",
      "Normal id_06:  29%|██████████████████▍                                             | 286/992 [00:14<00:36, 19.17it/s]"
     ]
    },
    {
     "name": "stderr",
     "output_type": "stream",
     "text": [
      "\r\n",
      "Normal id_06:  29%|██████████████████▌                                             | 288/992 [00:14<00:37, 18.83it/s]"
     ]
    },
    {
     "name": "stderr",
     "output_type": "stream",
     "text": [
      "\r\n",
      "Normal id_06:  29%|██████████████████▋                                             | 290/992 [00:14<00:37, 18.58it/s]"
     ]
    },
    {
     "name": "stderr",
     "output_type": "stream",
     "text": [
      "\r\n",
      "Normal id_06:  29%|██████████████████▊                                             | 292/992 [00:15<00:37, 18.47it/s]"
     ]
    },
    {
     "name": "stderr",
     "output_type": "stream",
     "text": [
      "\r\n",
      "Normal id_06:  30%|███████████████████                                             | 295/992 [00:15<00:36, 19.26it/s]"
     ]
    },
    {
     "name": "stderr",
     "output_type": "stream",
     "text": [
      "\r\n",
      "Normal id_06:  30%|███████████████████▏                                            | 298/992 [00:15<00:34, 20.19it/s]"
     ]
    },
    {
     "name": "stderr",
     "output_type": "stream",
     "text": [
      "\r\n",
      "Normal id_06:  30%|███████████████████▍                                            | 301/992 [00:15<00:33, 20.75it/s]"
     ]
    },
    {
     "name": "stderr",
     "output_type": "stream",
     "text": [
      "\r\n",
      "Normal id_06:  31%|███████████████████▌                                            | 304/992 [00:15<00:33, 20.84it/s]"
     ]
    },
    {
     "name": "stderr",
     "output_type": "stream",
     "text": [
      "\r\n",
      "Normal id_06:  31%|███████████████████▊                                            | 307/992 [00:15<00:33, 20.37it/s]"
     ]
    },
    {
     "name": "stderr",
     "output_type": "stream",
     "text": [
      "\r\n",
      "Normal id_06:  31%|████████████████████                                            | 310/992 [00:15<00:34, 19.66it/s]"
     ]
    },
    {
     "name": "stderr",
     "output_type": "stream",
     "text": [
      "\r\n",
      "Normal id_06:  32%|████████████████████▏                                           | 313/992 [00:16<00:33, 20.01it/s]"
     ]
    },
    {
     "name": "stderr",
     "output_type": "stream",
     "text": [
      "\r\n",
      "Normal id_06:  32%|████████████████████▍                                           | 316/992 [00:16<00:34, 19.56it/s]"
     ]
    },
    {
     "name": "stderr",
     "output_type": "stream",
     "text": [
      "\r\n",
      "Normal id_06:  32%|████████████████████▌                                           | 318/992 [00:16<00:34, 19.44it/s]"
     ]
    },
    {
     "name": "stderr",
     "output_type": "stream",
     "text": [
      "\r\n",
      "Normal id_06:  32%|████████████████████▋                                           | 320/992 [00:16<00:34, 19.56it/s]"
     ]
    },
    {
     "name": "stderr",
     "output_type": "stream",
     "text": [
      "\r\n",
      "Normal id_06:  32%|████████████████████▊                                           | 322/992 [00:16<00:34, 19.66it/s]"
     ]
    },
    {
     "name": "stderr",
     "output_type": "stream",
     "text": [
      "\r\n",
      "Normal id_06:  33%|████████████████████▉                                           | 324/992 [00:16<00:34, 19.59it/s]"
     ]
    },
    {
     "name": "stderr",
     "output_type": "stream",
     "text": [
      "\r\n",
      "Normal id_06:  33%|█████████████████████                                           | 326/992 [00:16<00:34, 19.53it/s]"
     ]
    },
    {
     "name": "stderr",
     "output_type": "stream",
     "text": [
      "\r\n",
      "Normal id_06:  33%|█████████████████████▏                                          | 329/992 [00:16<00:32, 20.11it/s]"
     ]
    },
    {
     "name": "stderr",
     "output_type": "stream",
     "text": [
      "\r\n",
      "Normal id_06:  33%|█████████████████████▍                                          | 332/992 [00:17<00:34, 18.94it/s]"
     ]
    },
    {
     "name": "stderr",
     "output_type": "stream",
     "text": [
      "\r\n",
      "Normal id_06:  34%|█████████████████████▌                                          | 335/992 [00:17<00:32, 19.94it/s]"
     ]
    },
    {
     "name": "stderr",
     "output_type": "stream",
     "text": [
      "\r\n",
      "Normal id_06:  34%|█████████████████████▊                                          | 338/992 [00:17<00:32, 19.82it/s]"
     ]
    },
    {
     "name": "stderr",
     "output_type": "stream",
     "text": [
      "\r\n",
      "Normal id_06:  34%|██████████████████████                                          | 341/992 [00:17<00:31, 20.35it/s]"
     ]
    },
    {
     "name": "stderr",
     "output_type": "stream",
     "text": [
      "\r\n",
      "Normal id_06:  35%|██████████████████████▏                                         | 344/992 [00:17<00:31, 20.26it/s]"
     ]
    },
    {
     "name": "stderr",
     "output_type": "stream",
     "text": [
      "\r\n",
      "Normal id_06:  35%|██████████████████████▍                                         | 347/992 [00:17<00:30, 20.82it/s]"
     ]
    },
    {
     "name": "stderr",
     "output_type": "stream",
     "text": [
      "\r\n",
      "Normal id_06:  35%|██████████████████████▌                                         | 350/992 [00:17<00:30, 21.08it/s]"
     ]
    },
    {
     "name": "stderr",
     "output_type": "stream",
     "text": [
      "\r\n",
      "Normal id_06:  36%|██████████████████████▊                                         | 353/992 [00:18<00:31, 20.36it/s]"
     ]
    },
    {
     "name": "stderr",
     "output_type": "stream",
     "text": [
      "\r\n",
      "Normal id_06:  36%|██████████████████████▉                                         | 356/992 [00:18<00:31, 19.98it/s]"
     ]
    },
    {
     "name": "stderr",
     "output_type": "stream",
     "text": [
      "\r\n",
      "Normal id_06:  36%|███████████████████████▏                                        | 359/992 [00:18<00:32, 19.76it/s]"
     ]
    },
    {
     "name": "stderr",
     "output_type": "stream",
     "text": [
      "\r\n",
      "Normal id_06:  36%|███████████████████████▎                                        | 361/992 [00:18<00:32, 19.52it/s]"
     ]
    },
    {
     "name": "stderr",
     "output_type": "stream",
     "text": [
      "\r\n",
      "Normal id_06:  37%|███████████████████████▍                                        | 363/992 [00:18<00:33, 18.88it/s]"
     ]
    },
    {
     "name": "stderr",
     "output_type": "stream",
     "text": [
      "\r\n",
      "Normal id_06:  37%|███████████████████████▌                                        | 366/992 [00:18<00:32, 19.04it/s]"
     ]
    },
    {
     "name": "stderr",
     "output_type": "stream",
     "text": [
      "\r\n",
      "Normal id_06:  37%|███████████████████████▋                                        | 368/992 [00:18<00:33, 18.80it/s]"
     ]
    },
    {
     "name": "stderr",
     "output_type": "stream",
     "text": [
      "\r\n",
      "Normal id_06:  37%|███████████████████████▊                                        | 370/992 [00:18<00:33, 18.38it/s]"
     ]
    },
    {
     "name": "stderr",
     "output_type": "stream",
     "text": [
      "\r\n",
      "Normal id_06:  38%|████████████████████████                                        | 373/992 [00:19<00:31, 19.62it/s]"
     ]
    },
    {
     "name": "stderr",
     "output_type": "stream",
     "text": [
      "\r\n",
      "Normal id_06:  38%|████████████████████████▎                                       | 376/992 [00:19<00:30, 20.44it/s]"
     ]
    },
    {
     "name": "stderr",
     "output_type": "stream",
     "text": [
      "\r\n",
      "Normal id_06:  38%|████████████████████████▍                                       | 379/992 [00:19<00:30, 20.30it/s]"
     ]
    },
    {
     "name": "stderr",
     "output_type": "stream",
     "text": [
      "\r\n",
      "Normal id_06:  39%|████████████████████████▋                                       | 382/992 [00:19<00:30, 20.07it/s]"
     ]
    },
    {
     "name": "stderr",
     "output_type": "stream",
     "text": [
      "\r\n",
      "Normal id_06:  39%|████████████████████████▊                                       | 385/992 [00:19<00:30, 19.87it/s]"
     ]
    },
    {
     "name": "stderr",
     "output_type": "stream",
     "text": [
      "\r\n",
      "Normal id_06:  39%|█████████████████████████                                       | 388/992 [00:19<00:29, 20.31it/s]"
     ]
    },
    {
     "name": "stderr",
     "output_type": "stream",
     "text": [
      "\r\n",
      "Normal id_06:  39%|█████████████████████████▏                                      | 391/992 [00:19<00:28, 20.91it/s]"
     ]
    },
    {
     "name": "stderr",
     "output_type": "stream",
     "text": [
      "\r\n",
      "Normal id_06:  40%|█████████████████████████▍                                      | 394/992 [00:20<00:30, 19.50it/s]"
     ]
    },
    {
     "name": "stderr",
     "output_type": "stream",
     "text": [
      "\r\n",
      "Normal id_06:  40%|█████████████████████████▌                                      | 396/992 [00:20<00:30, 19.52it/s]"
     ]
    },
    {
     "name": "stderr",
     "output_type": "stream",
     "text": [
      "\r\n",
      "Normal id_06:  40%|█████████████████████████▋                                      | 398/992 [00:20<00:30, 19.41it/s]"
     ]
    },
    {
     "name": "stderr",
     "output_type": "stream",
     "text": [
      "\r\n",
      "Normal id_06:  40%|█████████████████████████▊                                      | 401/992 [00:20<00:29, 20.09it/s]"
     ]
    },
    {
     "name": "stderr",
     "output_type": "stream",
     "text": [
      "\r\n",
      "Normal id_06:  41%|██████████████████████████                                      | 404/992 [00:20<00:30, 19.46it/s]"
     ]
    },
    {
     "name": "stderr",
     "output_type": "stream",
     "text": [
      "\r\n",
      "Normal id_06:  41%|██████████████████████████▎                                     | 407/992 [00:20<00:28, 20.23it/s]"
     ]
    },
    {
     "name": "stderr",
     "output_type": "stream",
     "text": [
      "\r\n",
      "Normal id_06:  41%|██████████████████████████▍                                     | 410/992 [00:20<00:28, 20.29it/s]"
     ]
    },
    {
     "name": "stderr",
     "output_type": "stream",
     "text": [
      "\r\n",
      "Normal id_06:  42%|██████████████████████████▋                                     | 413/992 [00:21<00:28, 20.30it/s]"
     ]
    },
    {
     "name": "stderr",
     "output_type": "stream",
     "text": [
      "\r\n",
      "Normal id_06:  42%|██████████████████████████▊                                     | 416/992 [00:21<00:28, 20.12it/s]"
     ]
    },
    {
     "name": "stderr",
     "output_type": "stream",
     "text": [
      "\r\n",
      "Normal id_06:  42%|███████████████████████████                                     | 419/992 [00:21<00:28, 19.91it/s]"
     ]
    },
    {
     "name": "stderr",
     "output_type": "stream",
     "text": [
      "\r\n",
      "Normal id_06:  43%|███████████████████████████▏                                    | 422/992 [00:21<00:29, 19.23it/s]"
     ]
    },
    {
     "name": "stderr",
     "output_type": "stream",
     "text": [
      "\r\n",
      "Normal id_06:  43%|███████████████████████████▍                                    | 425/992 [00:21<00:28, 19.73it/s]"
     ]
    },
    {
     "name": "stderr",
     "output_type": "stream",
     "text": [
      "\r\n",
      "Normal id_06:  43%|███████████████████████████▌                                    | 428/992 [00:21<00:28, 19.70it/s]"
     ]
    },
    {
     "name": "stderr",
     "output_type": "stream",
     "text": [
      "\r\n",
      "Normal id_06:  43%|███████████████████████████▋                                    | 430/992 [00:21<00:30, 18.67it/s]"
     ]
    },
    {
     "name": "stderr",
     "output_type": "stream",
     "text": [
      "\r\n",
      "Normal id_06:  44%|███████████████████████████▊                                    | 432/992 [00:22<00:29, 18.97it/s]"
     ]
    },
    {
     "name": "stderr",
     "output_type": "stream",
     "text": [
      "\r\n",
      "Normal id_06:  44%|████████████████████████████                                    | 434/992 [00:22<00:29, 19.16it/s]"
     ]
    },
    {
     "name": "stderr",
     "output_type": "stream",
     "text": [
      "\r\n",
      "Normal id_06:  44%|████████████████████████████▏                                   | 436/992 [00:22<00:28, 19.36it/s]"
     ]
    },
    {
     "name": "stderr",
     "output_type": "stream",
     "text": [
      "\r\n",
      "Normal id_06:  44%|████████████████████████████▎                                   | 439/992 [00:22<00:28, 19.66it/s]"
     ]
    },
    {
     "name": "stderr",
     "output_type": "stream",
     "text": [
      "\r\n",
      "Normal id_06:  44%|████████████████████████████▍                                   | 441/992 [00:22<00:28, 19.51it/s]"
     ]
    },
    {
     "name": "stderr",
     "output_type": "stream",
     "text": [
      "\r\n",
      "Normal id_06:  45%|████████████████████████████▌                                   | 443/992 [00:22<00:29, 18.88it/s]"
     ]
    },
    {
     "name": "stderr",
     "output_type": "stream",
     "text": [
      "\r\n",
      "Normal id_06:  45%|████████████████████████████▊                                   | 446/992 [00:22<00:27, 19.56it/s]"
     ]
    },
    {
     "name": "stderr",
     "output_type": "stream",
     "text": [
      "\r\n",
      "Normal id_06:  45%|████████████████████████████▉                                   | 449/992 [00:22<00:28, 19.20it/s]"
     ]
    },
    {
     "name": "stderr",
     "output_type": "stream",
     "text": [
      "\r\n",
      "Normal id_06:  46%|█████████████████████████████▏                                  | 452/992 [00:23<00:26, 20.05it/s]"
     ]
    },
    {
     "name": "stderr",
     "output_type": "stream",
     "text": [
      "\r\n",
      "Normal id_06:  46%|█████████████████████████████▎                                  | 455/992 [00:23<00:26, 20.56it/s]"
     ]
    },
    {
     "name": "stderr",
     "output_type": "stream",
     "text": [
      "\r\n",
      "Normal id_06:  46%|█████████████████████████████▌                                  | 458/992 [00:23<00:25, 20.68it/s]"
     ]
    },
    {
     "name": "stderr",
     "output_type": "stream",
     "text": [
      "\r\n",
      "Normal id_06:  46%|█████████████████████████████▋                                  | 461/992 [00:23<00:26, 20.01it/s]"
     ]
    },
    {
     "name": "stderr",
     "output_type": "stream",
     "text": [
      "\r\n",
      "Normal id_06:  47%|█████████████████████████████▉                                  | 464/992 [00:23<00:25, 20.45it/s]"
     ]
    },
    {
     "name": "stderr",
     "output_type": "stream",
     "text": [
      "\r\n",
      "Normal id_06:  47%|██████████████████████████████▏                                 | 467/992 [00:23<00:26, 20.16it/s]"
     ]
    },
    {
     "name": "stderr",
     "output_type": "stream",
     "text": [
      "\r\n",
      "Normal id_06:  47%|██████████████████████████████▎                                 | 470/992 [00:24<00:27, 18.94it/s]"
     ]
    },
    {
     "name": "stderr",
     "output_type": "stream",
     "text": [
      "\r\n",
      "Normal id_06:  48%|██████████████████████████████▌                                 | 473/992 [00:24<00:26, 19.63it/s]"
     ]
    },
    {
     "name": "stderr",
     "output_type": "stream",
     "text": [
      "\r\n",
      "Normal id_06:  48%|██████████████████████████████▋                                 | 476/992 [00:24<00:25, 19.99it/s]"
     ]
    },
    {
     "name": "stderr",
     "output_type": "stream",
     "text": [
      "\r\n",
      "Normal id_06:  48%|██████████████████████████████▉                                 | 479/992 [00:24<00:26, 19.70it/s]"
     ]
    },
    {
     "name": "stderr",
     "output_type": "stream",
     "text": [
      "\r\n",
      "Normal id_06:  48%|███████████████████████████████                                 | 481/992 [00:24<00:26, 19.61it/s]"
     ]
    },
    {
     "name": "stderr",
     "output_type": "stream",
     "text": [
      "\r\n",
      "Normal id_06:  49%|███████████████████████████████▏                                | 483/992 [00:24<00:26, 19.41it/s]"
     ]
    },
    {
     "name": "stderr",
     "output_type": "stream",
     "text": [
      "\r\n",
      "Normal id_06:  49%|███████████████████████████████▎                                | 485/992 [00:24<00:25, 19.52it/s]"
     ]
    },
    {
     "name": "stderr",
     "output_type": "stream",
     "text": [
      "\r\n",
      "Normal id_06:  49%|███████████████████████████████▍                                | 488/992 [00:24<00:26, 18.81it/s]"
     ]
    },
    {
     "name": "stderr",
     "output_type": "stream",
     "text": [
      "\r\n",
      "Normal id_06:  49%|███████████████████████████████▌                                | 490/992 [00:25<00:26, 19.06it/s]"
     ]
    },
    {
     "name": "stderr",
     "output_type": "stream",
     "text": [
      "\r\n",
      "Normal id_06:  50%|███████████████████████████████▋                                | 492/992 [00:25<00:26, 19.16it/s]"
     ]
    },
    {
     "name": "stderr",
     "output_type": "stream",
     "text": [
      "\r\n",
      "Normal id_06:  50%|███████████████████████████████▊                                | 494/992 [00:25<00:25, 19.20it/s]"
     ]
    },
    {
     "name": "stderr",
     "output_type": "stream",
     "text": [
      "\r\n",
      "Normal id_06:  50%|████████████████████████████████                                | 496/992 [00:25<00:25, 19.35it/s]"
     ]
    },
    {
     "name": "stderr",
     "output_type": "stream",
     "text": [
      "\r\n",
      "Normal id_06:  50%|████████████████████████████████▏                               | 499/992 [00:25<00:24, 19.78it/s]"
     ]
    },
    {
     "name": "stderr",
     "output_type": "stream",
     "text": [
      "\r\n",
      "Normal id_06:  51%|████████████████████████████████▍                               | 502/992 [00:25<00:24, 19.99it/s]"
     ]
    },
    {
     "name": "stderr",
     "output_type": "stream",
     "text": [
      "\r\n",
      "Normal id_06:  51%|████████████████████████████████▌                               | 505/992 [00:25<00:24, 20.17it/s]"
     ]
    },
    {
     "name": "stderr",
     "output_type": "stream",
     "text": [
      "\r\n",
      "Normal id_06:  51%|████████████████████████████████▊                               | 508/992 [00:25<00:24, 19.95it/s]"
     ]
    },
    {
     "name": "stderr",
     "output_type": "stream",
     "text": [
      "\r\n",
      "Normal id_06:  51%|████████████████████████████████▉                               | 510/992 [00:26<00:24, 19.95it/s]"
     ]
    },
    {
     "name": "stderr",
     "output_type": "stream",
     "text": [
      "\r\n",
      "Normal id_06:  52%|█████████████████████████████████                               | 513/992 [00:26<00:24, 19.64it/s]"
     ]
    },
    {
     "name": "stderr",
     "output_type": "stream",
     "text": [
      "\r\n",
      "Normal id_06:  52%|█████████████████████████████████▎                              | 516/992 [00:26<00:23, 20.08it/s]"
     ]
    },
    {
     "name": "stderr",
     "output_type": "stream",
     "text": [
      "\r\n",
      "Normal id_06:  52%|█████████████████████████████████▍                              | 519/992 [00:26<00:23, 20.52it/s]"
     ]
    },
    {
     "name": "stderr",
     "output_type": "stream",
     "text": [
      "\r\n",
      "Normal id_06:  53%|█████████████████████████████████▋                              | 522/992 [00:26<00:22, 20.88it/s]"
     ]
    },
    {
     "name": "stderr",
     "output_type": "stream",
     "text": [
      "\r\n",
      "Normal id_06:  53%|█████████████████████████████████▊                              | 525/992 [00:26<00:23, 19.58it/s]"
     ]
    },
    {
     "name": "stderr",
     "output_type": "stream",
     "text": [
      "\r\n",
      "Normal id_06:  53%|██████████████████████████████████                              | 527/992 [00:26<00:23, 19.58it/s]"
     ]
    },
    {
     "name": "stderr",
     "output_type": "stream",
     "text": [
      "\r\n",
      "Normal id_06:  53%|██████████████████████████████████▏                             | 529/992 [00:27<00:24, 18.65it/s]"
     ]
    },
    {
     "name": "stderr",
     "output_type": "stream",
     "text": [
      "\r\n",
      "Normal id_06:  54%|██████████████████████████████████▎                             | 532/992 [00:27<00:23, 19.75it/s]"
     ]
    },
    {
     "name": "stderr",
     "output_type": "stream",
     "text": [
      "\r\n",
      "Normal id_06:  54%|██████████████████████████████████▌                             | 535/992 [00:27<00:22, 20.43it/s]"
     ]
    },
    {
     "name": "stderr",
     "output_type": "stream",
     "text": [
      "\r\n",
      "Normal id_06:  54%|██████████████████████████████████▋                             | 538/992 [00:27<00:21, 20.94it/s]"
     ]
    },
    {
     "name": "stderr",
     "output_type": "stream",
     "text": [
      "\r\n",
      "Normal id_06:  55%|██████████████████████████████████▉                             | 541/992 [00:27<00:22, 19.96it/s]"
     ]
    },
    {
     "name": "stderr",
     "output_type": "stream",
     "text": [
      "\r\n",
      "Normal id_06:  55%|███████████████████████████████████                             | 544/992 [00:27<00:22, 20.36it/s]"
     ]
    },
    {
     "name": "stderr",
     "output_type": "stream",
     "text": [
      "\r\n",
      "Normal id_06:  55%|███████████████████████████████████▎                            | 547/992 [00:27<00:22, 20.13it/s]"
     ]
    },
    {
     "name": "stderr",
     "output_type": "stream",
     "text": [
      "\r\n",
      "Normal id_06:  55%|███████████████████████████████████▍                            | 550/992 [00:28<00:22, 19.55it/s]"
     ]
    },
    {
     "name": "stderr",
     "output_type": "stream",
     "text": [
      "\r\n",
      "Normal id_06:  56%|███████████████████████████████████▋                            | 553/992 [00:28<00:22, 19.91it/s]"
     ]
    },
    {
     "name": "stderr",
     "output_type": "stream",
     "text": [
      "\r\n",
      "Normal id_06:  56%|███████████████████████████████████▊                            | 556/992 [00:28<00:21, 20.47it/s]"
     ]
    },
    {
     "name": "stderr",
     "output_type": "stream",
     "text": [
      "\r\n",
      "Normal id_06:  56%|████████████████████████████████████                            | 559/992 [00:28<00:20, 20.89it/s]"
     ]
    },
    {
     "name": "stderr",
     "output_type": "stream",
     "text": [
      "\r\n",
      "Normal id_06:  57%|████████████████████████████████████▎                           | 562/992 [00:28<00:20, 20.91it/s]"
     ]
    },
    {
     "name": "stderr",
     "output_type": "stream",
     "text": [
      "\r\n",
      "Normal id_06:  57%|████████████████████████████████████▍                           | 565/992 [00:28<00:20, 20.71it/s]"
     ]
    },
    {
     "name": "stderr",
     "output_type": "stream",
     "text": [
      "\r\n",
      "Normal id_06:  57%|████████████████████████████████████▋                           | 568/992 [00:28<00:21, 19.29it/s]"
     ]
    },
    {
     "name": "stderr",
     "output_type": "stream",
     "text": [
      "\r\n",
      "Normal id_06:  57%|████████████████████████████████████▊                           | 570/992 [00:29<00:21, 19.25it/s]"
     ]
    },
    {
     "name": "stderr",
     "output_type": "stream",
     "text": [
      "\r\n",
      "Normal id_06:  58%|████████████████████████████████████▉                           | 573/992 [00:29<00:20, 20.12it/s]"
     ]
    },
    {
     "name": "stderr",
     "output_type": "stream",
     "text": [
      "\r\n",
      "Normal id_06:  58%|█████████████████████████████████████▏                          | 576/992 [00:29<00:20, 20.15it/s]"
     ]
    },
    {
     "name": "stderr",
     "output_type": "stream",
     "text": [
      "\r\n",
      "Normal id_06:  58%|█████████████████████████████████████▎                          | 579/992 [00:29<00:20, 19.82it/s]"
     ]
    },
    {
     "name": "stderr",
     "output_type": "stream",
     "text": [
      "\r\n",
      "Normal id_06:  59%|█████████████████████████████████████▍                          | 581/992 [00:29<00:20, 19.79it/s]"
     ]
    },
    {
     "name": "stderr",
     "output_type": "stream",
     "text": [
      "\r\n",
      "Normal id_06:  59%|█████████████████████████████████████▌                          | 583/992 [00:29<00:20, 19.55it/s]"
     ]
    },
    {
     "name": "stderr",
     "output_type": "stream",
     "text": [
      "\r\n",
      "Normal id_06:  59%|█████████████████████████████████████▊                          | 586/992 [00:29<00:20, 20.04it/s]"
     ]
    },
    {
     "name": "stderr",
     "output_type": "stream",
     "text": [
      "\r\n",
      "Normal id_06:  59%|█████████████████████████████████████▉                          | 588/992 [00:29<00:21, 19.15it/s]"
     ]
    },
    {
     "name": "stderr",
     "output_type": "stream",
     "text": [
      "\r\n",
      "Normal id_06:  60%|██████████████████████████████████████▏                         | 591/992 [00:30<00:20, 19.73it/s]"
     ]
    },
    {
     "name": "stderr",
     "output_type": "stream",
     "text": [
      "\r\n",
      "Normal id_06:  60%|██████████████████████████████████████▎                         | 594/992 [00:30<00:19, 20.02it/s]"
     ]
    },
    {
     "name": "stderr",
     "output_type": "stream",
     "text": [
      "\r\n",
      "Normal id_06:  60%|██████████████████████████████████████▍                         | 596/992 [00:30<00:19, 19.82it/s]"
     ]
    },
    {
     "name": "stderr",
     "output_type": "stream",
     "text": [
      "\r\n",
      "Normal id_06:  60%|██████████████████████████████████████▋                         | 599/992 [00:30<00:19, 20.27it/s]"
     ]
    },
    {
     "name": "stderr",
     "output_type": "stream",
     "text": [
      "\r\n",
      "Normal id_06:  61%|██████████████████████████████████████▊                         | 602/992 [00:30<00:18, 20.84it/s]"
     ]
    },
    {
     "name": "stderr",
     "output_type": "stream",
     "text": [
      "\r\n",
      "Normal id_06:  61%|███████████████████████████████████████                         | 605/992 [00:30<00:18, 20.74it/s]"
     ]
    },
    {
     "name": "stderr",
     "output_type": "stream",
     "text": [
      "\r\n",
      "Normal id_06:  61%|███████████████████████████████████████▏                        | 608/992 [00:30<00:20, 18.64it/s]"
     ]
    },
    {
     "name": "stderr",
     "output_type": "stream",
     "text": [
      "\r\n",
      "Normal id_06:  61%|███████████████████████████████████████▎                        | 610/992 [00:31<00:21, 17.92it/s]"
     ]
    },
    {
     "name": "stderr",
     "output_type": "stream",
     "text": [
      "\r\n",
      "Normal id_06:  62%|███████████████████████████████████████▌                        | 613/992 [00:31<00:20, 18.83it/s]"
     ]
    },
    {
     "name": "stderr",
     "output_type": "stream",
     "text": [
      "\r\n",
      "Normal id_06:  62%|███████████████████████████████████████▋                        | 616/992 [00:31<00:19, 19.46it/s]"
     ]
    },
    {
     "name": "stderr",
     "output_type": "stream",
     "text": [
      "\r\n",
      "Normal id_06:  62%|███████████████████████████████████████▉                        | 619/992 [00:31<00:18, 19.75it/s]"
     ]
    },
    {
     "name": "stderr",
     "output_type": "stream",
     "text": [
      "\r\n",
      "Normal id_06:  63%|████████████████████████████████████████▏                       | 622/992 [00:31<00:18, 20.35it/s]"
     ]
    },
    {
     "name": "stderr",
     "output_type": "stream",
     "text": [
      "\r\n",
      "Normal id_06:  63%|████████████████████████████████████████▎                       | 625/992 [00:31<00:18, 19.62it/s]"
     ]
    },
    {
     "name": "stderr",
     "output_type": "stream",
     "text": [
      "\r\n",
      "Normal id_06:  63%|████████████████████████████████████████▍                       | 627/992 [00:31<00:19, 18.85it/s]"
     ]
    },
    {
     "name": "stderr",
     "output_type": "stream",
     "text": [
      "\r\n",
      "Normal id_06:  64%|████████████████████████████████████████▋                       | 630/992 [00:32<00:18, 19.27it/s]"
     ]
    },
    {
     "name": "stderr",
     "output_type": "stream",
     "text": [
      "\r\n",
      "Normal id_06:  64%|████████████████████████████████████████▊                       | 632/992 [00:32<00:18, 19.29it/s]"
     ]
    },
    {
     "name": "stderr",
     "output_type": "stream",
     "text": [
      "\r\n",
      "Normal id_06:  64%|████████████████████████████████████████▉                       | 634/992 [00:32<00:18, 18.90it/s]"
     ]
    },
    {
     "name": "stderr",
     "output_type": "stream",
     "text": [
      "\r\n",
      "Normal id_06:  64%|█████████████████████████████████████████                       | 637/992 [00:32<00:17, 19.88it/s]"
     ]
    },
    {
     "name": "stderr",
     "output_type": "stream",
     "text": [
      "\r\n",
      "Normal id_06:  65%|█████████████████████████████████████████▎                      | 640/992 [00:32<00:17, 20.20it/s]"
     ]
    },
    {
     "name": "stderr",
     "output_type": "stream",
     "text": [
      "\r\n",
      "Normal id_06:  65%|█████████████████████████████████████████▍                      | 643/992 [00:32<00:16, 20.69it/s]"
     ]
    },
    {
     "name": "stderr",
     "output_type": "stream",
     "text": [
      "\r\n",
      "Normal id_06:  65%|█████████████████████████████████████████▋                      | 646/992 [00:32<00:16, 20.73it/s]"
     ]
    },
    {
     "name": "stderr",
     "output_type": "stream",
     "text": [
      "\r\n",
      "Normal id_06:  65%|█████████████████████████████████████████▊                      | 649/992 [00:33<00:17, 20.01it/s]"
     ]
    },
    {
     "name": "stderr",
     "output_type": "stream",
     "text": [
      "\r\n",
      "Normal id_06:  66%|██████████████████████████████████████████                      | 652/992 [00:33<00:17, 19.59it/s]"
     ]
    },
    {
     "name": "stderr",
     "output_type": "stream",
     "text": [
      "\r\n",
      "Normal id_06:  66%|██████████████████████████████████████████▏                     | 654/992 [00:33<00:17, 19.44it/s]"
     ]
    },
    {
     "name": "stderr",
     "output_type": "stream",
     "text": [
      "\r\n",
      "Normal id_06:  66%|██████████████████████████████████████████▎                     | 656/992 [00:33<00:17, 19.29it/s]"
     ]
    },
    {
     "name": "stderr",
     "output_type": "stream",
     "text": [
      "\r\n",
      "Normal id_06:  66%|██████████████████████████████████████████▌                     | 659/992 [00:33<00:16, 19.92it/s]"
     ]
    },
    {
     "name": "stderr",
     "output_type": "stream",
     "text": [
      "\r\n",
      "Normal id_06:  67%|██████████████████████████████████████████▋                     | 661/992 [00:33<00:17, 19.41it/s]"
     ]
    },
    {
     "name": "stderr",
     "output_type": "stream",
     "text": [
      "\r\n",
      "Normal id_06:  67%|██████████████████████████████████████████▊                     | 663/992 [00:33<00:17, 18.94it/s]"
     ]
    },
    {
     "name": "stderr",
     "output_type": "stream",
     "text": [
      "\r\n",
      "Normal id_06:  67%|██████████████████████████████████████████▉                     | 665/992 [00:33<00:17, 19.06it/s]"
     ]
    },
    {
     "name": "stderr",
     "output_type": "stream",
     "text": [
      "\r\n",
      "Normal id_06:  67%|███████████████████████████████████████████                     | 667/992 [00:33<00:17, 18.43it/s]"
     ]
    },
    {
     "name": "stderr",
     "output_type": "stream",
     "text": [
      "\r\n",
      "Normal id_06:  68%|███████████████████████████████████████████▏                    | 670/992 [00:34<00:16, 19.40it/s]"
     ]
    },
    {
     "name": "stderr",
     "output_type": "stream",
     "text": [
      "\r\n",
      "Normal id_06:  68%|███████████████████████████████████████████▎                    | 672/992 [00:34<00:16, 18.88it/s]"
     ]
    },
    {
     "name": "stderr",
     "output_type": "stream",
     "text": [
      "\r\n",
      "Normal id_06:  68%|███████████████████████████████████████████▌                    | 675/992 [00:34<00:15, 20.06it/s]"
     ]
    },
    {
     "name": "stderr",
     "output_type": "stream",
     "text": [
      "\r\n",
      "Normal id_06:  68%|███████████████████████████████████████████▋                    | 678/992 [00:34<00:15, 20.50it/s]"
     ]
    },
    {
     "name": "stderr",
     "output_type": "stream",
     "text": [
      "\r\n",
      "Normal id_06:  69%|███████████████████████████████████████████▉                    | 681/992 [00:34<00:15, 20.55it/s]"
     ]
    },
    {
     "name": "stderr",
     "output_type": "stream",
     "text": [
      "\r\n",
      "Normal id_06:  69%|████████████████████████████████████████████▏                   | 684/992 [00:34<00:14, 20.54it/s]"
     ]
    },
    {
     "name": "stderr",
     "output_type": "stream",
     "text": [
      "\r\n",
      "Normal id_06:  69%|████████████████████████████████████████████▎                   | 687/992 [00:34<00:15, 19.17it/s]"
     ]
    },
    {
     "name": "stderr",
     "output_type": "stream",
     "text": [
      "\r\n",
      "Normal id_06:  69%|████████████████████████████████████████████▍                   | 689/992 [00:35<00:15, 19.29it/s]"
     ]
    },
    {
     "name": "stderr",
     "output_type": "stream",
     "text": [
      "\r\n",
      "Normal id_06:  70%|████████████████████████████████████████████▋                   | 692/992 [00:35<00:15, 19.59it/s]"
     ]
    },
    {
     "name": "stderr",
     "output_type": "stream",
     "text": [
      "\r\n",
      "Normal id_06:  70%|████████████████████████████████████████████▊                   | 695/992 [00:35<00:14, 20.04it/s]"
     ]
    },
    {
     "name": "stderr",
     "output_type": "stream",
     "text": [
      "\r\n",
      "Normal id_06:  70%|█████████████████████████████████████████████                   | 698/992 [00:35<00:14, 19.66it/s]"
     ]
    },
    {
     "name": "stderr",
     "output_type": "stream",
     "text": [
      "\r\n",
      "Normal id_06:  71%|█████████████████████████████████████████████▏                  | 700/992 [00:35<00:14, 19.65it/s]"
     ]
    },
    {
     "name": "stderr",
     "output_type": "stream",
     "text": [
      "\r\n",
      "Normal id_06:  71%|█████████████████████████████████████████████▎                  | 702/992 [00:35<00:14, 19.34it/s]"
     ]
    },
    {
     "name": "stderr",
     "output_type": "stream",
     "text": [
      "\r\n",
      "Normal id_06:  71%|█████████████████████████████████████████████▍                  | 704/992 [00:35<00:14, 19.22it/s]"
     ]
    },
    {
     "name": "stderr",
     "output_type": "stream",
     "text": [
      "\r\n",
      "Normal id_06:  71%|█████████████████████████████████████████████▌                  | 706/992 [00:35<00:15, 18.53it/s]"
     ]
    },
    {
     "name": "stderr",
     "output_type": "stream",
     "text": [
      "\r\n",
      "Normal id_06:  71%|█████████████████████████████████████████████▋                  | 708/992 [00:36<00:15, 18.28it/s]"
     ]
    },
    {
     "name": "stderr",
     "output_type": "stream",
     "text": [
      "\r\n",
      "Normal id_06:  72%|█████████████████████████████████████████████▊                  | 710/992 [00:36<00:15, 18.71it/s]"
     ]
    },
    {
     "name": "stderr",
     "output_type": "stream",
     "text": [
      "\r\n",
      "Normal id_06:  72%|█████████████████████████████████████████████▉                  | 712/992 [00:36<00:15, 18.30it/s]"
     ]
    },
    {
     "name": "stderr",
     "output_type": "stream",
     "text": [
      "\r\n",
      "Normal id_06:  72%|██████████████████████████████████████████████▏                 | 715/992 [00:36<00:14, 19.54it/s]"
     ]
    },
    {
     "name": "stderr",
     "output_type": "stream",
     "text": [
      "\r\n",
      "Normal id_06:  72%|██████████████████████████████████████████████▎                 | 718/992 [00:36<00:13, 20.26it/s]"
     ]
    },
    {
     "name": "stderr",
     "output_type": "stream",
     "text": [
      "\r\n",
      "Normal id_06:  73%|██████████████████████████████████████████████▌                 | 721/992 [00:36<00:13, 19.74it/s]"
     ]
    },
    {
     "name": "stderr",
     "output_type": "stream",
     "text": [
      "\r\n",
      "Normal id_06:  73%|██████████████████████████████████████████████▋                 | 724/992 [00:36<00:13, 20.13it/s]"
     ]
    },
    {
     "name": "stderr",
     "output_type": "stream",
     "text": [
      "\r\n",
      "Normal id_06:  73%|██████████████████████████████████████████████▉                 | 727/992 [00:37<00:13, 19.67it/s]"
     ]
    },
    {
     "name": "stderr",
     "output_type": "stream",
     "text": [
      "\r\n",
      "Normal id_06:  74%|███████████████████████████████████████████████                 | 730/992 [00:37<00:12, 20.40it/s]"
     ]
    },
    {
     "name": "stderr",
     "output_type": "stream",
     "text": [
      "\r\n",
      "Normal id_06:  74%|███████████████████████████████████████████████▎                | 733/992 [00:37<00:12, 20.92it/s]"
     ]
    },
    {
     "name": "stderr",
     "output_type": "stream",
     "text": [
      "\r\n",
      "Normal id_06:  74%|███████████████████████████████████████████████▍                | 736/992 [00:37<00:12, 21.21it/s]"
     ]
    },
    {
     "name": "stderr",
     "output_type": "stream",
     "text": [
      "\r\n",
      "Normal id_06:  74%|███████████████████████████████████████████████▋                | 739/992 [00:37<00:12, 20.53it/s]"
     ]
    },
    {
     "name": "stderr",
     "output_type": "stream",
     "text": [
      "\r\n",
      "Normal id_06:  75%|███████████████████████████████████████████████▊                | 742/992 [00:37<00:12, 20.52it/s]"
     ]
    },
    {
     "name": "stderr",
     "output_type": "stream",
     "text": [
      "\r\n",
      "Normal id_06:  75%|████████████████████████████████████████████████                | 745/992 [00:37<00:11, 20.76it/s]"
     ]
    },
    {
     "name": "stderr",
     "output_type": "stream",
     "text": [
      "\r\n",
      "Normal id_06:  75%|████████████████████████████████████████████████▎               | 748/992 [00:38<00:12, 19.36it/s]"
     ]
    },
    {
     "name": "stderr",
     "output_type": "stream",
     "text": [
      "\r\n",
      "Normal id_06:  76%|████████████████████████████████████████████████▍               | 750/992 [00:38<00:12, 19.48it/s]"
     ]
    },
    {
     "name": "stderr",
     "output_type": "stream",
     "text": [
      "\r\n",
      "Normal id_06:  76%|████████████████████████████████████████████████▌               | 752/992 [00:38<00:12, 19.50it/s]"
     ]
    },
    {
     "name": "stderr",
     "output_type": "stream",
     "text": [
      "\r\n",
      "Normal id_06:  76%|████████████████████████████████████████████████▋               | 755/992 [00:38<00:11, 19.78it/s]"
     ]
    },
    {
     "name": "stderr",
     "output_type": "stream",
     "text": [
      "\r\n",
      "Normal id_06:  76%|████████████████████████████████████████████████▉               | 758/992 [00:38<00:11, 19.85it/s]"
     ]
    },
    {
     "name": "stderr",
     "output_type": "stream",
     "text": [
      "\r\n",
      "Normal id_06:  77%|█████████████████████████████████████████████████               | 760/992 [00:38<00:11, 19.87it/s]"
     ]
    },
    {
     "name": "stderr",
     "output_type": "stream",
     "text": [
      "\r\n",
      "Normal id_06:  77%|█████████████████████████████████████████████████▏              | 762/992 [00:38<00:11, 19.88it/s]"
     ]
    },
    {
     "name": "stderr",
     "output_type": "stream",
     "text": [
      "\r\n",
      "Normal id_06:  77%|█████████████████████████████████████████████████▎              | 764/992 [00:38<00:11, 19.84it/s]"
     ]
    },
    {
     "name": "stderr",
     "output_type": "stream",
     "text": [
      "\r\n",
      "Normal id_06:  77%|█████████████████████████████████████████████████▍              | 766/992 [00:39<00:11, 18.95it/s]"
     ]
    },
    {
     "name": "stderr",
     "output_type": "stream",
     "text": [
      "\r\n",
      "Normal id_06:  78%|█████████████████████████████████████████████████▌              | 769/992 [00:39<00:11, 19.72it/s]"
     ]
    },
    {
     "name": "stderr",
     "output_type": "stream",
     "text": [
      "\r\n",
      "Normal id_06:  78%|█████████████████████████████████████████████████▊              | 772/992 [00:39<00:10, 20.08it/s]"
     ]
    },
    {
     "name": "stderr",
     "output_type": "stream",
     "text": [
      "\r\n",
      "Normal id_06:  78%|██████████████████████████████████████████████████              | 775/992 [00:39<00:10, 20.39it/s]"
     ]
    },
    {
     "name": "stderr",
     "output_type": "stream",
     "text": [
      "\r\n",
      "Normal id_06:  78%|██████████████████████████████████████████████████▏             | 778/992 [00:39<00:10, 20.57it/s]"
     ]
    },
    {
     "name": "stderr",
     "output_type": "stream",
     "text": [
      "\r\n",
      "Normal id_06:  79%|██████████████████████████████████████████████████▍             | 781/992 [00:39<00:10, 20.47it/s]"
     ]
    },
    {
     "name": "stderr",
     "output_type": "stream",
     "text": [
      "\r\n",
      "Normal id_06:  79%|██████████████████████████████████████████████████▌             | 784/992 [00:39<00:11, 18.87it/s]"
     ]
    },
    {
     "name": "stderr",
     "output_type": "stream",
     "text": [
      "\r\n",
      "Normal id_06:  79%|██████████████████████████████████████████████████▋             | 786/992 [00:40<00:11, 18.52it/s]"
     ]
    },
    {
     "name": "stderr",
     "output_type": "stream",
     "text": [
      "\r\n",
      "Normal id_06:  80%|██████████████████████████████████████████████████▉             | 789/992 [00:40<00:10, 19.30it/s]"
     ]
    },
    {
     "name": "stderr",
     "output_type": "stream",
     "text": [
      "\r\n",
      "Normal id_06:  80%|███████████████████████████████████████████████████             | 792/992 [00:40<00:10, 19.33it/s]"
     ]
    },
    {
     "name": "stderr",
     "output_type": "stream",
     "text": [
      "\r\n",
      "Normal id_06:  80%|███████████████████████████████████████████████████▏            | 794/992 [00:40<00:10, 19.36it/s]"
     ]
    },
    {
     "name": "stderr",
     "output_type": "stream",
     "text": [
      "\r\n",
      "Normal id_06:  80%|███████████████████████████████████████████████████▎            | 796/992 [00:40<00:10, 19.48it/s]"
     ]
    },
    {
     "name": "stderr",
     "output_type": "stream",
     "text": [
      "\r\n",
      "Normal id_06:  81%|███████████████████████████████████████████████████▌            | 799/992 [00:40<00:09, 19.72it/s]"
     ]
    },
    {
     "name": "stderr",
     "output_type": "stream",
     "text": [
      "\r\n",
      "Normal id_06:  81%|███████████████████████████████████████████████████▋            | 802/992 [00:40<00:09, 19.37it/s]"
     ]
    },
    {
     "name": "stderr",
     "output_type": "stream",
     "text": [
      "\r\n",
      "Normal id_06:  81%|███████████████████████████████████████████████████▊            | 804/992 [00:40<00:09, 19.49it/s]"
     ]
    },
    {
     "name": "stderr",
     "output_type": "stream",
     "text": [
      "\r\n",
      "Normal id_06:  81%|████████████████████████████████████████████████████            | 806/992 [00:41<00:09, 19.57it/s]"
     ]
    },
    {
     "name": "stderr",
     "output_type": "stream",
     "text": [
      "\r\n",
      "Normal id_06:  81%|████████████████████████████████████████████████████▏           | 808/992 [00:41<00:09, 19.39it/s]"
     ]
    },
    {
     "name": "stderr",
     "output_type": "stream",
     "text": [
      "\r\n",
      "Normal id_06:  82%|████████████████████████████████████████████████████▎           | 811/992 [00:41<00:09, 19.83it/s]"
     ]
    },
    {
     "name": "stderr",
     "output_type": "stream",
     "text": [
      "\r\n",
      "Normal id_06:  82%|████████████████████████████████████████████████████▌           | 814/992 [00:41<00:08, 20.04it/s]"
     ]
    },
    {
     "name": "stderr",
     "output_type": "stream",
     "text": [
      "\r\n",
      "Normal id_06:  82%|████████████████████████████████████████████████████▋           | 817/992 [00:41<00:08, 20.29it/s]"
     ]
    },
    {
     "name": "stderr",
     "output_type": "stream",
     "text": [
      "\r\n",
      "Normal id_06:  83%|████████████████████████████████████████████████████▉           | 820/992 [00:41<00:08, 19.72it/s]"
     ]
    },
    {
     "name": "stderr",
     "output_type": "stream",
     "text": [
      "\r\n",
      "Normal id_06:  83%|█████████████████████████████████████████████████████           | 822/992 [00:41<00:08, 19.68it/s]"
     ]
    },
    {
     "name": "stderr",
     "output_type": "stream",
     "text": [
      "\r\n",
      "Normal id_06:  83%|█████████████████████████████████████████████████████▏          | 824/992 [00:41<00:08, 18.88it/s]"
     ]
    },
    {
     "name": "stderr",
     "output_type": "stream",
     "text": [
      "\r\n",
      "Normal id_06:  83%|█████████████████████████████████████████████████████▎          | 827/992 [00:42<00:08, 19.72it/s]"
     ]
    },
    {
     "name": "stderr",
     "output_type": "stream",
     "text": [
      "\r\n",
      "Normal id_06:  84%|█████████████████████████████████████████████████████▌          | 830/992 [00:42<00:07, 20.49it/s]"
     ]
    },
    {
     "name": "stderr",
     "output_type": "stream",
     "text": [
      "\r\n",
      "Normal id_06:  84%|█████████████████████████████████████████████████████▋          | 833/992 [00:42<00:07, 21.04it/s]"
     ]
    },
    {
     "name": "stderr",
     "output_type": "stream",
     "text": [
      "\r\n",
      "Normal id_06:  84%|█████████████████████████████████████████████████████▉          | 836/992 [00:42<00:07, 21.43it/s]"
     ]
    },
    {
     "name": "stderr",
     "output_type": "stream",
     "text": [
      "\r\n",
      "Normal id_06:  85%|██████████████████████████████████████████████████████▏         | 839/992 [00:42<00:07, 21.66it/s]"
     ]
    },
    {
     "name": "stderr",
     "output_type": "stream",
     "text": [
      "\r\n",
      "Normal id_06:  85%|██████████████████████████████████████████████████████▎         | 842/992 [00:42<00:06, 21.77it/s]"
     ]
    },
    {
     "name": "stderr",
     "output_type": "stream",
     "text": [
      "\r\n",
      "Normal id_06:  85%|██████████████████████████████████████████████████████▌         | 845/992 [00:42<00:07, 20.59it/s]"
     ]
    },
    {
     "name": "stderr",
     "output_type": "stream",
     "text": [
      "\r\n",
      "Normal id_06:  85%|██████████████████████████████████████████████████████▋         | 848/992 [00:43<00:07, 19.74it/s]"
     ]
    },
    {
     "name": "stderr",
     "output_type": "stream",
     "text": [
      "\r\n",
      "Normal id_06:  86%|██████████████████████████████████████████████████████▊         | 850/992 [00:43<00:07, 19.79it/s]"
     ]
    },
    {
     "name": "stderr",
     "output_type": "stream",
     "text": [
      "\r\n",
      "Normal id_06:  86%|███████████████████████████████████████████████████████         | 853/992 [00:43<00:06, 19.92it/s]"
     ]
    },
    {
     "name": "stderr",
     "output_type": "stream",
     "text": [
      "\r\n",
      "Normal id_06:  86%|███████████████████████████████████████████████████████▏        | 856/992 [00:43<00:06, 19.98it/s]"
     ]
    },
    {
     "name": "stderr",
     "output_type": "stream",
     "text": [
      "\r\n",
      "Normal id_06:  87%|███████████████████████████████████████████████████████▍        | 859/992 [00:43<00:06, 19.67it/s]"
     ]
    },
    {
     "name": "stderr",
     "output_type": "stream",
     "text": [
      "\r\n",
      "Normal id_06:  87%|███████████████████████████████████████████████████████▌        | 862/992 [00:43<00:06, 20.40it/s]"
     ]
    },
    {
     "name": "stderr",
     "output_type": "stream",
     "text": [
      "\r\n",
      "Normal id_06:  87%|███████████████████████████████████████████████████████▊        | 865/992 [00:43<00:06, 19.78it/s]"
     ]
    },
    {
     "name": "stderr",
     "output_type": "stream",
     "text": [
      "\r\n",
      "Normal id_06:  88%|████████████████████████████████████████████████████████        | 868/992 [00:44<00:06, 19.93it/s]"
     ]
    },
    {
     "name": "stderr",
     "output_type": "stream",
     "text": [
      "\r\n",
      "Normal id_06:  88%|████████████████████████████████████████████████████████▏       | 871/992 [00:44<00:05, 20.55it/s]"
     ]
    },
    {
     "name": "stderr",
     "output_type": "stream",
     "text": [
      "\r\n",
      "Normal id_06:  88%|████████████████████████████████████████████████████████▍       | 874/992 [00:44<00:05, 20.99it/s]"
     ]
    },
    {
     "name": "stderr",
     "output_type": "stream",
     "text": [
      "\r\n",
      "Normal id_06:  88%|████████████████████████████████████████████████████████▌       | 877/992 [00:44<00:05, 20.94it/s]"
     ]
    },
    {
     "name": "stderr",
     "output_type": "stream",
     "text": [
      "\r\n",
      "Normal id_06:  89%|████████████████████████████████████████████████████████▊       | 880/992 [00:44<00:05, 20.79it/s]"
     ]
    },
    {
     "name": "stderr",
     "output_type": "stream",
     "text": [
      "\r\n",
      "Normal id_06:  89%|████████████████████████████████████████████████████████▉       | 883/992 [00:44<00:05, 20.55it/s]"
     ]
    },
    {
     "name": "stderr",
     "output_type": "stream",
     "text": [
      "\r\n",
      "Normal id_06:  89%|█████████████████████████████████████████████████████████▏      | 886/992 [00:44<00:05, 19.70it/s]"
     ]
    },
    {
     "name": "stderr",
     "output_type": "stream",
     "text": [
      "\r\n",
      "Normal id_06:  90%|█████████████████████████████████████████████████████████▎      | 889/992 [00:45<00:05, 19.82it/s]"
     ]
    },
    {
     "name": "stderr",
     "output_type": "stream",
     "text": [
      "\r\n",
      "Normal id_06:  90%|█████████████████████████████████████████████████████████▍      | 891/992 [00:45<00:05, 19.45it/s]"
     ]
    },
    {
     "name": "stderr",
     "output_type": "stream",
     "text": [
      "\r\n",
      "Normal id_06:  90%|█████████████████████████████████████████████████████████▌      | 893/992 [00:45<00:05, 19.22it/s]"
     ]
    },
    {
     "name": "stderr",
     "output_type": "stream",
     "text": [
      "\r\n",
      "Normal id_06:  90%|█████████████████████████████████████████████████████████▋      | 895/992 [00:45<00:05, 19.21it/s]"
     ]
    },
    {
     "name": "stderr",
     "output_type": "stream",
     "text": [
      "\r\n",
      "Normal id_06:  90%|█████████████████████████████████████████████████████████▊      | 897/992 [00:45<00:04, 19.34it/s]"
     ]
    },
    {
     "name": "stderr",
     "output_type": "stream",
     "text": [
      "\r\n",
      "Normal id_06:  91%|██████████████████████████████████████████████████████████      | 900/992 [00:45<00:04, 20.06it/s]"
     ]
    },
    {
     "name": "stderr",
     "output_type": "stream",
     "text": [
      "\r\n",
      "Normal id_06:  91%|██████████████████████████████████████████████████████████▏     | 902/992 [00:45<00:04, 19.73it/s]"
     ]
    },
    {
     "name": "stderr",
     "output_type": "stream",
     "text": [
      "\r\n",
      "Normal id_06:  91%|██████████████████████████████████████████████████████████▍     | 905/992 [00:45<00:04, 18.92it/s]"
     ]
    },
    {
     "name": "stderr",
     "output_type": "stream",
     "text": [
      "\r\n",
      "Normal id_06:  92%|██████████████████████████████████████████████████████████▌     | 908/992 [00:46<00:04, 19.53it/s]"
     ]
    },
    {
     "name": "stderr",
     "output_type": "stream",
     "text": [
      "\r\n",
      "Normal id_06:  92%|██████████████████████████████████████████████████████████▋     | 910/992 [00:46<00:04, 19.46it/s]"
     ]
    },
    {
     "name": "stderr",
     "output_type": "stream",
     "text": [
      "\r\n",
      "Normal id_06:  92%|██████████████████████████████████████████████████████████▊     | 912/992 [00:46<00:04, 19.56it/s]"
     ]
    },
    {
     "name": "stderr",
     "output_type": "stream",
     "text": [
      "\r\n",
      "Normal id_06:  92%|███████████████████████████████████████████████████████████     | 915/992 [00:46<00:03, 20.15it/s]"
     ]
    },
    {
     "name": "stderr",
     "output_type": "stream",
     "text": [
      "\r\n",
      "Normal id_06:  93%|███████████████████████████████████████████████████████████▏    | 918/992 [00:46<00:03, 20.85it/s]"
     ]
    },
    {
     "name": "stderr",
     "output_type": "stream",
     "text": [
      "\r\n",
      "Normal id_06:  93%|███████████████████████████████████████████████████████████▍    | 921/992 [00:46<00:03, 20.56it/s]"
     ]
    },
    {
     "name": "stderr",
     "output_type": "stream",
     "text": [
      "\r\n",
      "Normal id_06:  93%|███████████████████████████████████████████████████████████▌    | 924/992 [00:46<00:03, 20.82it/s]"
     ]
    },
    {
     "name": "stderr",
     "output_type": "stream",
     "text": [
      "\r\n",
      "Normal id_06:  93%|███████████████████████████████████████████████████████████▊    | 927/992 [00:47<00:03, 19.60it/s]"
     ]
    },
    {
     "name": "stderr",
     "output_type": "stream",
     "text": [
      "\r\n",
      "Normal id_06:  94%|████████████████████████████████████████████████████████████    | 930/992 [00:47<00:03, 20.23it/s]"
     ]
    },
    {
     "name": "stderr",
     "output_type": "stream",
     "text": [
      "\r\n",
      "Normal id_06:  94%|████████████████████████████████████████████████████████████▏   | 933/992 [00:47<00:02, 19.85it/s]"
     ]
    },
    {
     "name": "stderr",
     "output_type": "stream",
     "text": [
      "\r\n",
      "Normal id_06:  94%|████████████████████████████████████████████████████████████▎   | 935/992 [00:47<00:02, 19.28it/s]"
     ]
    },
    {
     "name": "stderr",
     "output_type": "stream",
     "text": [
      "\r\n",
      "Normal id_06:  94%|████████████████████████████████████████████████████████████▍   | 937/992 [00:47<00:02, 19.27it/s]"
     ]
    },
    {
     "name": "stderr",
     "output_type": "stream",
     "text": [
      "\r\n",
      "Normal id_06:  95%|████████████████████████████████████████████████████████████▌   | 939/992 [00:47<00:02, 19.31it/s]"
     ]
    },
    {
     "name": "stderr",
     "output_type": "stream",
     "text": [
      "\r\n",
      "Normal id_06:  95%|████████████████████████████████████████████████████████████▋   | 941/992 [00:47<00:02, 19.39it/s]"
     ]
    },
    {
     "name": "stderr",
     "output_type": "stream",
     "text": [
      "\r\n",
      "Normal id_06:  95%|████████████████████████████████████████████████████████████▊   | 943/992 [00:47<00:02, 18.96it/s]"
     ]
    },
    {
     "name": "stderr",
     "output_type": "stream",
     "text": [
      "\r\n",
      "Normal id_06:  95%|████████████████████████████████████████████████████████████▉   | 945/992 [00:48<00:02, 18.37it/s]"
     ]
    },
    {
     "name": "stderr",
     "output_type": "stream",
     "text": [
      "\r\n",
      "Normal id_06:  96%|█████████████████████████████████████████████████████████████▏  | 948/992 [00:48<00:02, 19.42it/s]"
     ]
    },
    {
     "name": "stderr",
     "output_type": "stream",
     "text": [
      "\r\n",
      "Normal id_06:  96%|█████████████████████████████████████████████████████████████▎  | 951/992 [00:48<00:02, 20.29it/s]"
     ]
    },
    {
     "name": "stderr",
     "output_type": "stream",
     "text": [
      "\r\n",
      "Normal id_06:  96%|█████████████████████████████████████████████████████████████▌  | 954/992 [00:48<00:01, 20.83it/s]"
     ]
    },
    {
     "name": "stderr",
     "output_type": "stream",
     "text": [
      "\r\n",
      "Normal id_06:  96%|█████████████████████████████████████████████████████████████▋  | 957/992 [00:48<00:01, 21.28it/s]"
     ]
    },
    {
     "name": "stderr",
     "output_type": "stream",
     "text": [
      "\r\n",
      "Normal id_06:  97%|█████████████████████████████████████████████████████████████▉  | 960/992 [00:48<00:01, 19.66it/s]"
     ]
    },
    {
     "name": "stderr",
     "output_type": "stream",
     "text": [
      "\r\n",
      "Normal id_06:  97%|██████████████████████████████████████████████████████████████▏ | 963/992 [00:48<00:01, 20.42it/s]"
     ]
    },
    {
     "name": "stderr",
     "output_type": "stream",
     "text": [
      "\r\n",
      "Normal id_06:  97%|██████████████████████████████████████████████████████████████▎ | 966/992 [00:49<00:01, 19.43it/s]"
     ]
    },
    {
     "name": "stderr",
     "output_type": "stream",
     "text": [
      "\r\n",
      "Normal id_06:  98%|██████████████████████████████████████████████████████████████▌ | 969/992 [00:49<00:01, 18.82it/s]"
     ]
    },
    {
     "name": "stderr",
     "output_type": "stream",
     "text": [
      "\r\n",
      "Normal id_06:  98%|██████████████████████████████████████████████████████████████▋ | 971/992 [00:49<00:01, 18.76it/s]"
     ]
    },
    {
     "name": "stderr",
     "output_type": "stream",
     "text": [
      "\r\n",
      "Normal id_06:  98%|██████████████████████████████████████████████████████████████▊ | 974/992 [00:49<00:00, 19.52it/s]"
     ]
    },
    {
     "name": "stderr",
     "output_type": "stream",
     "text": [
      "\r\n",
      "Normal id_06:  98%|███████████████████████████████████████████████████████████████ | 977/992 [00:49<00:00, 19.99it/s]"
     ]
    },
    {
     "name": "stderr",
     "output_type": "stream",
     "text": [
      "\r\n",
      "Normal id_06:  99%|███████████████████████████████████████████████████████████████▏| 980/992 [00:49<00:00, 19.45it/s]"
     ]
    },
    {
     "name": "stderr",
     "output_type": "stream",
     "text": [
      "\r\n",
      "Normal id_06:  99%|███████████████████████████████████████████████████████████████▍| 983/992 [00:49<00:00, 19.45it/s]"
     ]
    },
    {
     "name": "stderr",
     "output_type": "stream",
     "text": [
      "\r\n",
      "Normal id_06:  99%|███████████████████████████████████████████████████████████████▌| 985/992 [00:50<00:00, 19.26it/s]"
     ]
    },
    {
     "name": "stderr",
     "output_type": "stream",
     "text": [
      "\r\n",
      "Normal id_06:  99%|███████████████████████████████████████████████████████████████▋| 987/992 [00:50<00:00, 19.20it/s]"
     ]
    },
    {
     "name": "stderr",
     "output_type": "stream",
     "text": [
      "\r\n",
      "Normal id_06: 100%|███████████████████████████████████████████████████████████████▊| 989/992 [00:50<00:00, 19.26it/s]"
     ]
    },
    {
     "name": "stderr",
     "output_type": "stream",
     "text": [
      "\r\n",
      "Normal id_06: 100%|███████████████████████████████████████████████████████████████▉| 991/992 [00:50<00:00, 18.98it/s]"
     ]
    },
    {
     "name": "stderr",
     "output_type": "stream",
     "text": [
      "\r\n",
      "Normal id_06: 100%|████████████████████████████████████████████████████████████████| 992/992 [00:50<00:00, 19.69it/s]"
     ]
    },
    {
     "name": "stderr",
     "output_type": "stream",
     "text": [
      "\n"
     ]
    },
    {
     "name": "stdout",
     "output_type": "stream",
     "text": [
      "Processing 120 abnormal files for id_06...\n"
     ]
    },
    {
     "name": "stderr",
     "output_type": "stream",
     "text": [
      "\r\n",
      "Abnormal id_06:   0%|                                                                        | 0/120 [00:00<?, ?it/s]"
     ]
    },
    {
     "name": "stderr",
     "output_type": "stream",
     "text": [
      "\r\n",
      "Abnormal id_06:   2%|█                                                               | 2/120 [00:00<00:06, 18.81it/s]"
     ]
    },
    {
     "name": "stderr",
     "output_type": "stream",
     "text": [
      "\r\n",
      "Abnormal id_06:   4%|██▋                                                             | 5/120 [00:00<00:05, 20.65it/s]"
     ]
    },
    {
     "name": "stderr",
     "output_type": "stream",
     "text": [
      "\r\n",
      "Abnormal id_06:   7%|████▎                                                           | 8/120 [00:00<00:05, 21.43it/s]"
     ]
    },
    {
     "name": "stderr",
     "output_type": "stream",
     "text": [
      "\r\n",
      "Abnormal id_06:   9%|█████▊                                                         | 11/120 [00:00<00:05, 21.51it/s]"
     ]
    },
    {
     "name": "stderr",
     "output_type": "stream",
     "text": [
      "\r\n",
      "Abnormal id_06:  12%|███████▎                                                       | 14/120 [00:00<00:05, 20.25it/s]"
     ]
    },
    {
     "name": "stderr",
     "output_type": "stream",
     "text": [
      "\r\n",
      "Abnormal id_06:  14%|████████▉                                                      | 17/120 [00:00<00:05, 19.72it/s]"
     ]
    },
    {
     "name": "stderr",
     "output_type": "stream",
     "text": [
      "\r\n",
      "Abnormal id_06:  16%|█████████▉                                                     | 19/120 [00:00<00:05, 19.70it/s]"
     ]
    },
    {
     "name": "stderr",
     "output_type": "stream",
     "text": [
      "\r\n",
      "Abnormal id_06:  18%|███████████▌                                                   | 22/120 [00:01<00:04, 20.50it/s]"
     ]
    },
    {
     "name": "stderr",
     "output_type": "stream",
     "text": [
      "\r\n",
      "Abnormal id_06:  21%|█████████████▏                                                 | 25/120 [00:01<00:04, 20.90it/s]"
     ]
    },
    {
     "name": "stderr",
     "output_type": "stream",
     "text": [
      "\r\n",
      "Abnormal id_06:  23%|██████████████▋                                                | 28/120 [00:01<00:04, 21.12it/s]"
     ]
    },
    {
     "name": "stderr",
     "output_type": "stream",
     "text": [
      "\r\n",
      "Abnormal id_06:  26%|████████████████▎                                              | 31/120 [00:01<00:04, 21.32it/s]"
     ]
    },
    {
     "name": "stderr",
     "output_type": "stream",
     "text": [
      "\r\n",
      "Abnormal id_06:  28%|█████████████████▊                                             | 34/120 [00:01<00:04, 20.30it/s]"
     ]
    },
    {
     "name": "stderr",
     "output_type": "stream",
     "text": [
      "\r\n",
      "Abnormal id_06:  31%|███████████████████▍                                           | 37/120 [00:01<00:03, 20.92it/s]"
     ]
    },
    {
     "name": "stderr",
     "output_type": "stream",
     "text": [
      "\r\n",
      "Abnormal id_06:  33%|█████████████████████                                          | 40/120 [00:01<00:03, 20.62it/s]"
     ]
    },
    {
     "name": "stderr",
     "output_type": "stream",
     "text": [
      "\r\n",
      "Abnormal id_06:  36%|██████████████████████▌                                        | 43/120 [00:02<00:03, 20.04it/s]"
     ]
    },
    {
     "name": "stderr",
     "output_type": "stream",
     "text": [
      "\r\n",
      "Abnormal id_06:  38%|████████████████████████▏                                      | 46/120 [00:02<00:03, 20.67it/s]"
     ]
    },
    {
     "name": "stderr",
     "output_type": "stream",
     "text": [
      "\r\n",
      "Abnormal id_06:  41%|█████████████████████████▋                                     | 49/120 [00:02<00:03, 20.52it/s]"
     ]
    },
    {
     "name": "stderr",
     "output_type": "stream",
     "text": [
      "\r\n",
      "Abnormal id_06:  43%|███████████████████████████▎                                   | 52/120 [00:02<00:03, 19.91it/s]"
     ]
    },
    {
     "name": "stderr",
     "output_type": "stream",
     "text": [
      "\r\n",
      "Abnormal id_06:  46%|████████████████████████████▉                                  | 55/120 [00:02<00:03, 20.20it/s]"
     ]
    },
    {
     "name": "stderr",
     "output_type": "stream",
     "text": [
      "\r\n",
      "Abnormal id_06:  48%|██████████████████████████████▍                                | 58/120 [00:02<00:02, 20.77it/s]"
     ]
    },
    {
     "name": "stderr",
     "output_type": "stream",
     "text": [
      "\r\n",
      "Abnormal id_06:  51%|████████████████████████████████                               | 61/120 [00:02<00:02, 20.62it/s]"
     ]
    },
    {
     "name": "stderr",
     "output_type": "stream",
     "text": [
      "\r\n",
      "Abnormal id_06:  53%|█████████████████████████████████▌                             | 64/120 [00:03<00:02, 21.02it/s]"
     ]
    },
    {
     "name": "stderr",
     "output_type": "stream",
     "text": [
      "\r\n",
      "Abnormal id_06:  56%|███████████████████████████████████▏                           | 67/120 [00:03<00:02, 21.31it/s]"
     ]
    },
    {
     "name": "stderr",
     "output_type": "stream",
     "text": [
      "\r\n",
      "Abnormal id_06:  58%|████████████████████████████████████▊                          | 70/120 [00:03<00:02, 20.49it/s]"
     ]
    },
    {
     "name": "stderr",
     "output_type": "stream",
     "text": [
      "\r\n",
      "Abnormal id_06:  61%|██████████████████████████████████████▎                        | 73/120 [00:03<00:02, 19.00it/s]"
     ]
    },
    {
     "name": "stderr",
     "output_type": "stream",
     "text": [
      "\r\n",
      "Abnormal id_06:  63%|███████████████████████████████████████▉                       | 76/120 [00:03<00:02, 19.64it/s]"
     ]
    },
    {
     "name": "stderr",
     "output_type": "stream",
     "text": [
      "\r\n",
      "Abnormal id_06:  66%|█████████████████████████████████████████▍                     | 79/120 [00:03<00:02, 20.27it/s]"
     ]
    },
    {
     "name": "stderr",
     "output_type": "stream",
     "text": [
      "\r\n",
      "Abnormal id_06:  68%|███████████████████████████████████████████                    | 82/120 [00:04<00:01, 20.49it/s]"
     ]
    },
    {
     "name": "stderr",
     "output_type": "stream",
     "text": [
      "\r\n",
      "Abnormal id_06:  71%|████████████████████████████████████████████▋                  | 85/120 [00:04<00:01, 20.44it/s]"
     ]
    },
    {
     "name": "stderr",
     "output_type": "stream",
     "text": [
      "\r\n",
      "Abnormal id_06:  73%|██████████████████████████████████████████████▏                | 88/120 [00:04<00:01, 19.96it/s]"
     ]
    },
    {
     "name": "stderr",
     "output_type": "stream",
     "text": [
      "\r\n",
      "Abnormal id_06:  76%|███████████████████████████████████████████████▊               | 91/120 [00:04<00:01, 19.79it/s]"
     ]
    },
    {
     "name": "stderr",
     "output_type": "stream",
     "text": [
      "\r\n",
      "Abnormal id_06:  78%|████████████████████████████████████████████████▊              | 93/120 [00:04<00:01, 18.93it/s]"
     ]
    },
    {
     "name": "stderr",
     "output_type": "stream",
     "text": [
      "\r\n",
      "Abnormal id_06:  80%|██████████████████████████████████████████████████▍            | 96/120 [00:04<00:01, 19.76it/s]"
     ]
    },
    {
     "name": "stderr",
     "output_type": "stream",
     "text": [
      "\r\n",
      "Abnormal id_06:  82%|███████████████████████████████████████████████████▉           | 99/120 [00:04<00:01, 20.52it/s]"
     ]
    },
    {
     "name": "stderr",
     "output_type": "stream",
     "text": [
      "\r\n",
      "Abnormal id_06:  85%|████████████████████████████████████████████████████▋         | 102/120 [00:05<00:00, 20.34it/s]"
     ]
    },
    {
     "name": "stderr",
     "output_type": "stream",
     "text": [
      "\r\n",
      "Abnormal id_06:  88%|██████████████████████████████████████████████████████▎       | 105/120 [00:05<00:00, 20.71it/s]"
     ]
    },
    {
     "name": "stderr",
     "output_type": "stream",
     "text": [
      "\r\n",
      "Abnormal id_06:  90%|███████████████████████████████████████████████████████▊      | 108/120 [00:05<00:00, 20.69it/s]"
     ]
    },
    {
     "name": "stderr",
     "output_type": "stream",
     "text": [
      "\r\n",
      "Abnormal id_06:  92%|█████████████████████████████████████████████████████████▎    | 111/120 [00:05<00:00, 20.65it/s]"
     ]
    },
    {
     "name": "stderr",
     "output_type": "stream",
     "text": [
      "\r\n",
      "Abnormal id_06:  95%|██████████████████████████████████████████████████████████▉   | 114/120 [00:05<00:00, 19.86it/s]"
     ]
    },
    {
     "name": "stderr",
     "output_type": "stream",
     "text": [
      "\r\n",
      "Abnormal id_06:  98%|████████████████████████████████████████████████████████████▍ | 117/120 [00:05<00:00, 20.06it/s]"
     ]
    },
    {
     "name": "stderr",
     "output_type": "stream",
     "text": [
      "\r\n",
      "Abnormal id_06: 100%|██████████████████████████████████████████████████████████████| 120/120 [00:05<00:00, 19.62it/s]"
     ]
    },
    {
     "name": "stderr",
     "output_type": "stream",
     "text": [
      "\r\n",
      "Abnormal id_06: 100%|██████████████████████████████████████████████████████████████| 120/120 [00:05<00:00, 20.29it/s]"
     ]
    },
    {
     "name": "stderr",
     "output_type": "stream",
     "text": [
      "\n"
     ]
    },
    {
     "name": "stdout",
     "output_type": "stream",
     "text": [
      "\n",
      "Processing pump sounds from: data/MIMII_sound_dataset/6_dB_pump/pump\n",
      "Found 4 machine IDs for pump\n",
      "Processing 1006 normal files for id_00...\n"
     ]
    },
    {
     "name": "stderr",
     "output_type": "stream",
     "text": [
      "\r\n",
      "Normal id_00:   0%|                                                                         | 0/1006 [00:00<?, ?it/s]"
     ]
    },
    {
     "name": "stderr",
     "output_type": "stream",
     "text": [
      "\r\n",
      "Normal id_00:   0%|▏                                                                | 2/1006 [00:00<00:51, 19.36it/s]"
     ]
    },
    {
     "name": "stderr",
     "output_type": "stream",
     "text": [
      "\r\n",
      "Normal id_00:   0%|▎                                                                | 5/1006 [00:00<00:47, 21.10it/s]"
     ]
    },
    {
     "name": "stderr",
     "output_type": "stream",
     "text": [
      "\r\n",
      "Normal id_00:   1%|▌                                                                | 8/1006 [00:00<00:49, 20.20it/s]"
     ]
    },
    {
     "name": "stderr",
     "output_type": "stream",
     "text": [
      "\r\n",
      "Normal id_00:   1%|▋                                                               | 11/1006 [00:00<00:50, 19.71it/s]"
     ]
    },
    {
     "name": "stderr",
     "output_type": "stream",
     "text": [
      "\r\n",
      "Normal id_00:   1%|▊                                                               | 13/1006 [00:00<00:53, 18.41it/s]"
     ]
    },
    {
     "name": "stderr",
     "output_type": "stream",
     "text": [
      "\r\n",
      "Normal id_00:   2%|█                                                               | 16/1006 [00:00<00:50, 19.75it/s]"
     ]
    },
    {
     "name": "stderr",
     "output_type": "stream",
     "text": [
      "\r\n",
      "Normal id_00:   2%|█▏                                                              | 19/1006 [00:00<00:50, 19.64it/s]"
     ]
    },
    {
     "name": "stderr",
     "output_type": "stream",
     "text": [
      "\r\n",
      "Normal id_00:   2%|█▍                                                              | 22/1006 [00:01<00:50, 19.60it/s]"
     ]
    },
    {
     "name": "stderr",
     "output_type": "stream",
     "text": [
      "\r\n",
      "Normal id_00:   2%|█▌                                                              | 25/1006 [00:01<00:48, 20.16it/s]"
     ]
    },
    {
     "name": "stderr",
     "output_type": "stream",
     "text": [
      "\r\n",
      "Normal id_00:   3%|█▊                                                              | 28/1006 [00:01<00:48, 20.15it/s]"
     ]
    },
    {
     "name": "stderr",
     "output_type": "stream",
     "text": [
      "\r\n",
      "Normal id_00:   3%|█▉                                                              | 31/1006 [00:01<00:49, 19.55it/s]"
     ]
    },
    {
     "name": "stderr",
     "output_type": "stream",
     "text": [
      "\r\n",
      "Normal id_00:   3%|██                                                              | 33/1006 [00:01<00:51, 18.86it/s]"
     ]
    },
    {
     "name": "stderr",
     "output_type": "stream",
     "text": [
      "\r\n",
      "Normal id_00:   4%|██▎                                                             | 36/1006 [00:01<00:49, 19.65it/s]"
     ]
    },
    {
     "name": "stderr",
     "output_type": "stream",
     "text": [
      "\r\n",
      "Normal id_00:   4%|██▍                                                             | 39/1006 [00:01<00:47, 20.39it/s]"
     ]
    },
    {
     "name": "stderr",
     "output_type": "stream",
     "text": [
      "\r\n",
      "Normal id_00:   4%|██▋                                                             | 42/1006 [00:02<00:48, 19.84it/s]"
     ]
    },
    {
     "name": "stderr",
     "output_type": "stream",
     "text": [
      "\r\n",
      "Normal id_00:   4%|██▊                                                             | 44/1006 [00:02<00:48, 19.74it/s]"
     ]
    },
    {
     "name": "stderr",
     "output_type": "stream",
     "text": [
      "\r\n",
      "Normal id_00:   5%|██▉                                                             | 46/1006 [00:02<00:49, 19.58it/s]"
     ]
    },
    {
     "name": "stderr",
     "output_type": "stream",
     "text": [
      "\r\n",
      "Normal id_00:   5%|███                                                             | 48/1006 [00:02<00:49, 19.21it/s]"
     ]
    },
    {
     "name": "stderr",
     "output_type": "stream",
     "text": [
      "\r\n",
      "Normal id_00:   5%|███▏                                                            | 51/1006 [00:02<00:50, 18.81it/s]"
     ]
    },
    {
     "name": "stderr",
     "output_type": "stream",
     "text": [
      "\r\n",
      "Normal id_00:   5%|███▎                                                            | 53/1006 [00:02<00:51, 18.44it/s]"
     ]
    },
    {
     "name": "stderr",
     "output_type": "stream",
     "text": [
      "\r\n",
      "Normal id_00:   6%|███▌                                                            | 56/1006 [00:02<00:48, 19.55it/s]"
     ]
    },
    {
     "name": "stderr",
     "output_type": "stream",
     "text": [
      "\r\n",
      "Normal id_00:   6%|███▊                                                            | 59/1006 [00:03<00:47, 19.83it/s]"
     ]
    },
    {
     "name": "stderr",
     "output_type": "stream",
     "text": [
      "\r\n",
      "Normal id_00:   6%|███▉                                                            | 62/1006 [00:03<00:47, 20.01it/s]"
     ]
    },
    {
     "name": "stderr",
     "output_type": "stream",
     "text": [
      "\r\n",
      "Normal id_00:   6%|████                                                            | 64/1006 [00:03<00:48, 19.57it/s]"
     ]
    },
    {
     "name": "stderr",
     "output_type": "stream",
     "text": [
      "\r\n",
      "Normal id_00:   7%|████▏                                                           | 66/1006 [00:03<00:48, 19.44it/s]"
     ]
    },
    {
     "name": "stderr",
     "output_type": "stream",
     "text": [
      "\r\n",
      "Normal id_00:   7%|████▍                                                           | 69/1006 [00:03<00:46, 20.14it/s]"
     ]
    },
    {
     "name": "stderr",
     "output_type": "stream",
     "text": [
      "\r\n",
      "Normal id_00:   7%|████▌                                                           | 72/1006 [00:03<00:49, 18.93it/s]"
     ]
    },
    {
     "name": "stderr",
     "output_type": "stream",
     "text": [
      "\r\n",
      "Normal id_00:   7%|████▊                                                           | 75/1006 [00:03<00:49, 18.92it/s]"
     ]
    },
    {
     "name": "stderr",
     "output_type": "stream",
     "text": [
      "\r\n",
      "Normal id_00:   8%|████▉                                                           | 77/1006 [00:03<00:50, 18.38it/s]"
     ]
    },
    {
     "name": "stderr",
     "output_type": "stream",
     "text": [
      "\r\n",
      "Normal id_00:   8%|█████                                                           | 80/1006 [00:04<00:47, 19.39it/s]"
     ]
    },
    {
     "name": "stderr",
     "output_type": "stream",
     "text": [
      "\r\n",
      "Normal id_00:   8%|█████▎                                                          | 83/1006 [00:04<00:45, 20.09it/s]"
     ]
    },
    {
     "name": "stderr",
     "output_type": "stream",
     "text": [
      "\r\n",
      "Normal id_00:   9%|█████▍                                                          | 86/1006 [00:04<00:44, 20.48it/s]"
     ]
    },
    {
     "name": "stderr",
     "output_type": "stream",
     "text": [
      "\r\n",
      "Normal id_00:   9%|█████▋                                                          | 89/1006 [00:04<00:44, 20.56it/s]"
     ]
    },
    {
     "name": "stderr",
     "output_type": "stream",
     "text": [
      "\r\n",
      "Normal id_00:   9%|█████▊                                                          | 92/1006 [00:04<00:44, 20.38it/s]"
     ]
    },
    {
     "name": "stderr",
     "output_type": "stream",
     "text": [
      "\r\n",
      "Normal id_00:   9%|██████                                                          | 95/1006 [00:04<00:45, 19.81it/s]"
     ]
    },
    {
     "name": "stderr",
     "output_type": "stream",
     "text": [
      "\r\n",
      "Normal id_00:  10%|██████▏                                                         | 97/1006 [00:04<00:47, 19.33it/s]"
     ]
    },
    {
     "name": "stderr",
     "output_type": "stream",
     "text": [
      "\r\n",
      "Normal id_00:  10%|██████▎                                                         | 99/1006 [00:05<00:47, 19.02it/s]"
     ]
    },
    {
     "name": "stderr",
     "output_type": "stream",
     "text": [
      "\r\n",
      "Normal id_00:  10%|██████▎                                                        | 101/1006 [00:05<00:47, 18.95it/s]"
     ]
    },
    {
     "name": "stderr",
     "output_type": "stream",
     "text": [
      "\r\n",
      "Normal id_00:  10%|██████▍                                                        | 103/1006 [00:05<00:47, 18.96it/s]"
     ]
    },
    {
     "name": "stderr",
     "output_type": "stream",
     "text": [
      "\r\n",
      "Normal id_00:  11%|██████▋                                                        | 106/1006 [00:05<00:45, 19.97it/s]"
     ]
    },
    {
     "name": "stderr",
     "output_type": "stream",
     "text": [
      "\r\n",
      "Normal id_00:  11%|██████▊                                                        | 109/1006 [00:05<00:44, 20.28it/s]"
     ]
    },
    {
     "name": "stderr",
     "output_type": "stream",
     "text": [
      "\r\n",
      "Normal id_00:  11%|███████                                                        | 112/1006 [00:05<00:43, 20.72it/s]"
     ]
    },
    {
     "name": "stderr",
     "output_type": "stream",
     "text": [
      "\r\n",
      "Normal id_00:  11%|███████▏                                                       | 115/1006 [00:05<00:45, 19.71it/s]"
     ]
    },
    {
     "name": "stderr",
     "output_type": "stream",
     "text": [
      "\r\n",
      "Normal id_00:  12%|███████▎                                                       | 117/1006 [00:05<00:47, 18.69it/s]"
     ]
    },
    {
     "name": "stderr",
     "output_type": "stream",
     "text": [
      "\r\n",
      "Normal id_00:  12%|███████▌                                                       | 120/1006 [00:06<00:45, 19.66it/s]"
     ]
    },
    {
     "name": "stderr",
     "output_type": "stream",
     "text": [
      "\r\n",
      "Normal id_00:  12%|███████▋                                                       | 123/1006 [00:06<00:43, 20.12it/s]"
     ]
    },
    {
     "name": "stderr",
     "output_type": "stream",
     "text": [
      "\r\n",
      "Normal id_00:  13%|███████▉                                                       | 126/1006 [00:06<00:42, 20.54it/s]"
     ]
    },
    {
     "name": "stderr",
     "output_type": "stream",
     "text": [
      "\r\n",
      "Normal id_00:  13%|████████                                                       | 129/1006 [00:06<00:43, 20.20it/s]"
     ]
    },
    {
     "name": "stderr",
     "output_type": "stream",
     "text": [
      "\r\n",
      "Normal id_00:  13%|████████▎                                                      | 132/1006 [00:06<00:45, 19.31it/s]"
     ]
    },
    {
     "name": "stderr",
     "output_type": "stream",
     "text": [
      "\r\n",
      "Normal id_00:  13%|████████▍                                                      | 134/1006 [00:06<00:45, 19.36it/s]"
     ]
    },
    {
     "name": "stderr",
     "output_type": "stream",
     "text": [
      "\r\n",
      "Normal id_00:  14%|████████▌                                                      | 136/1006 [00:06<00:44, 19.40it/s]"
     ]
    },
    {
     "name": "stderr",
     "output_type": "stream",
     "text": [
      "\r\n",
      "Normal id_00:  14%|████████▋                                                      | 138/1006 [00:07<00:45, 19.04it/s]"
     ]
    },
    {
     "name": "stderr",
     "output_type": "stream",
     "text": [
      "\r\n",
      "Normal id_00:  14%|████████▊                                                      | 140/1006 [00:07<00:49, 17.60it/s]"
     ]
    },
    {
     "name": "stderr",
     "output_type": "stream",
     "text": [
      "\r\n",
      "Normal id_00:  14%|████████▉                                                      | 142/1006 [00:07<00:53, 16.25it/s]"
     ]
    },
    {
     "name": "stderr",
     "output_type": "stream",
     "text": [
      "\r\n",
      "Normal id_00:  14%|█████████                                                      | 144/1006 [00:07<00:53, 16.15it/s]"
     ]
    },
    {
     "name": "stderr",
     "output_type": "stream",
     "text": [
      "\r\n",
      "Normal id_00:  15%|█████████▏                                                     | 146/1006 [00:07<00:55, 15.63it/s]"
     ]
    },
    {
     "name": "stderr",
     "output_type": "stream",
     "text": [
      "\r\n",
      "Normal id_00:  15%|█████████▎                                                     | 148/1006 [00:07<00:54, 15.73it/s]"
     ]
    },
    {
     "name": "stderr",
     "output_type": "stream",
     "text": [
      "\r\n",
      "Normal id_00:  15%|█████████▍                                                     | 150/1006 [00:07<00:53, 15.88it/s]"
     ]
    },
    {
     "name": "stderr",
     "output_type": "stream",
     "text": [
      "\r\n",
      "Normal id_00:  15%|█████████▌                                                     | 152/1006 [00:07<00:52, 16.14it/s]"
     ]
    },
    {
     "name": "stderr",
     "output_type": "stream",
     "text": [
      "\r\n",
      "Normal id_00:  15%|█████████▋                                                     | 154/1006 [00:08<00:52, 16.17it/s]"
     ]
    },
    {
     "name": "stderr",
     "output_type": "stream",
     "text": [
      "\r\n",
      "Normal id_00:  16%|█████████▊                                                     | 156/1006 [00:08<00:51, 16.54it/s]"
     ]
    },
    {
     "name": "stderr",
     "output_type": "stream",
     "text": [
      "\r\n",
      "Normal id_00:  16%|█████████▉                                                     | 158/1006 [00:08<00:51, 16.58it/s]"
     ]
    },
    {
     "name": "stderr",
     "output_type": "stream",
     "text": [
      "\r\n",
      "Normal id_00:  16%|██████████                                                     | 160/1006 [00:08<00:50, 16.65it/s]"
     ]
    },
    {
     "name": "stderr",
     "output_type": "stream",
     "text": [
      "\r\n",
      "Normal id_00:  16%|██████████▏                                                    | 162/1006 [00:08<00:53, 15.73it/s]"
     ]
    },
    {
     "name": "stderr",
     "output_type": "stream",
     "text": [
      "\r\n",
      "Normal id_00:  16%|██████████▎                                                    | 164/1006 [00:08<00:56, 14.97it/s]"
     ]
    },
    {
     "name": "stderr",
     "output_type": "stream",
     "text": [
      "\r\n",
      "Normal id_00:  17%|██████████▍                                                    | 166/1006 [00:08<00:57, 14.72it/s]"
     ]
    },
    {
     "name": "stderr",
     "output_type": "stream",
     "text": [
      "\r\n",
      "Normal id_00:  17%|██████████▌                                                    | 168/1006 [00:09<00:56, 14.73it/s]"
     ]
    },
    {
     "name": "stderr",
     "output_type": "stream",
     "text": [
      "\r\n",
      "Normal id_00:  17%|██████████▋                                                    | 170/1006 [00:09<00:57, 14.64it/s]"
     ]
    },
    {
     "name": "stderr",
     "output_type": "stream",
     "text": [
      "\r\n",
      "Normal id_00:  17%|██████████▊                                                    | 172/1006 [00:09<00:57, 14.52it/s]"
     ]
    },
    {
     "name": "stderr",
     "output_type": "stream",
     "text": [
      "\r\n",
      "Normal id_00:  17%|██████████▉                                                    | 174/1006 [00:09<00:54, 15.25it/s]"
     ]
    },
    {
     "name": "stderr",
     "output_type": "stream",
     "text": [
      "\r\n",
      "Normal id_00:  17%|███████████                                                    | 176/1006 [00:09<00:52, 15.88it/s]"
     ]
    },
    {
     "name": "stderr",
     "output_type": "stream",
     "text": [
      "\r\n",
      "Normal id_00:  18%|███████████▏                                                   | 178/1006 [00:09<00:49, 16.65it/s]"
     ]
    },
    {
     "name": "stderr",
     "output_type": "stream",
     "text": [
      "\r\n",
      "Normal id_00:  18%|███████████▎                                                   | 180/1006 [00:09<00:49, 16.78it/s]"
     ]
    },
    {
     "name": "stderr",
     "output_type": "stream",
     "text": [
      "\r\n",
      "Normal id_00:  18%|███████████▍                                                   | 182/1006 [00:09<00:49, 16.54it/s]"
     ]
    },
    {
     "name": "stderr",
     "output_type": "stream",
     "text": [
      "\r\n",
      "Normal id_00:  18%|███████████▌                                                   | 184/1006 [00:10<00:52, 15.62it/s]"
     ]
    },
    {
     "name": "stderr",
     "output_type": "stream",
     "text": [
      "\r\n",
      "Normal id_00:  18%|███████████▋                                                   | 186/1006 [00:10<00:54, 14.96it/s]"
     ]
    },
    {
     "name": "stderr",
     "output_type": "stream",
     "text": [
      "\r\n",
      "Normal id_00:  19%|███████████▊                                                   | 188/1006 [00:10<00:53, 15.19it/s]"
     ]
    },
    {
     "name": "stderr",
     "output_type": "stream",
     "text": [
      "\r\n",
      "Normal id_00:  19%|███████████▉                                                   | 190/1006 [00:10<00:52, 15.45it/s]"
     ]
    },
    {
     "name": "stderr",
     "output_type": "stream",
     "text": [
      "\r\n",
      "Normal id_00:  19%|████████████                                                   | 192/1006 [00:10<00:54, 14.84it/s]"
     ]
    },
    {
     "name": "stderr",
     "output_type": "stream",
     "text": [
      "\r\n",
      "Normal id_00:  19%|████████████▏                                                  | 194/1006 [00:10<00:56, 14.36it/s]"
     ]
    },
    {
     "name": "stderr",
     "output_type": "stream",
     "text": [
      "\r\n",
      "Normal id_00:  19%|████████████▎                                                  | 196/1006 [00:10<00:51, 15.68it/s]"
     ]
    },
    {
     "name": "stderr",
     "output_type": "stream",
     "text": [
      "\r\n",
      "Normal id_00:  20%|████████████▍                                                  | 198/1006 [00:10<00:51, 15.70it/s]"
     ]
    },
    {
     "name": "stderr",
     "output_type": "stream",
     "text": [
      "\r\n",
      "Normal id_00:  20%|████████████▌                                                  | 200/1006 [00:11<00:52, 15.43it/s]"
     ]
    },
    {
     "name": "stderr",
     "output_type": "stream",
     "text": [
      "\r\n",
      "Normal id_00:  20%|████████████▋                                                  | 202/1006 [00:11<00:52, 15.22it/s]"
     ]
    },
    {
     "name": "stderr",
     "output_type": "stream",
     "text": [
      "\r\n",
      "Normal id_00:  20%|████████████▊                                                  | 204/1006 [00:11<00:52, 15.28it/s]"
     ]
    },
    {
     "name": "stderr",
     "output_type": "stream",
     "text": [
      "\r\n",
      "Normal id_00:  20%|████████████▉                                                  | 206/1006 [00:11<00:51, 15.65it/s]"
     ]
    },
    {
     "name": "stderr",
     "output_type": "stream",
     "text": [
      "\r\n",
      "Normal id_00:  21%|█████████████                                                  | 208/1006 [00:11<00:50, 15.68it/s]"
     ]
    },
    {
     "name": "stderr",
     "output_type": "stream",
     "text": [
      "\r\n",
      "Normal id_00:  21%|█████████████▏                                                 | 210/1006 [00:11<00:53, 14.97it/s]"
     ]
    },
    {
     "name": "stderr",
     "output_type": "stream",
     "text": [
      "\r\n",
      "Normal id_00:  21%|█████████████▎                                                 | 212/1006 [00:11<00:54, 14.51it/s]"
     ]
    },
    {
     "name": "stderr",
     "output_type": "stream",
     "text": [
      "\r\n",
      "Normal id_00:  21%|█████████████▍                                                 | 214/1006 [00:11<00:52, 15.02it/s]"
     ]
    },
    {
     "name": "stderr",
     "output_type": "stream",
     "text": [
      "\r\n",
      "Normal id_00:  21%|█████████████▌                                                 | 216/1006 [00:12<00:50, 15.72it/s]"
     ]
    },
    {
     "name": "stderr",
     "output_type": "stream",
     "text": [
      "\r\n",
      "Normal id_00:  22%|█████████████▋                                                 | 218/1006 [00:12<00:47, 16.46it/s]"
     ]
    },
    {
     "name": "stderr",
     "output_type": "stream",
     "text": [
      "\r\n",
      "Normal id_00:  22%|█████████████▊                                                 | 220/1006 [00:12<00:46, 16.73it/s]"
     ]
    },
    {
     "name": "stderr",
     "output_type": "stream",
     "text": [
      "\r\n",
      "Normal id_00:  22%|█████████████▉                                                 | 222/1006 [00:12<00:49, 15.90it/s]"
     ]
    },
    {
     "name": "stderr",
     "output_type": "stream",
     "text": [
      "\r\n",
      "Normal id_00:  22%|██████████████                                                 | 224/1006 [00:12<00:50, 15.48it/s]"
     ]
    },
    {
     "name": "stderr",
     "output_type": "stream",
     "text": [
      "\r\n",
      "Normal id_00:  22%|██████████████▏                                                | 226/1006 [00:12<00:48, 16.17it/s]"
     ]
    },
    {
     "name": "stderr",
     "output_type": "stream",
     "text": [
      "\r\n",
      "Normal id_00:  23%|██████████████▎                                                | 228/1006 [00:12<00:48, 15.98it/s]"
     ]
    },
    {
     "name": "stderr",
     "output_type": "stream",
     "text": [
      "\r\n",
      "Normal id_00:  23%|██████████████▍                                                | 230/1006 [00:12<00:49, 15.75it/s]"
     ]
    },
    {
     "name": "stderr",
     "output_type": "stream",
     "text": [
      "\r\n",
      "Normal id_00:  23%|██████████████▌                                                | 232/1006 [00:13<00:50, 15.33it/s]"
     ]
    },
    {
     "name": "stderr",
     "output_type": "stream",
     "text": [
      "\r\n",
      "Normal id_00:  23%|██████████████▋                                                | 235/1006 [00:13<00:44, 17.41it/s]"
     ]
    },
    {
     "name": "stderr",
     "output_type": "stream",
     "text": [
      "\r\n",
      "Normal id_00:  24%|██████████████▉                                                | 238/1006 [00:13<00:40, 18.82it/s]"
     ]
    },
    {
     "name": "stderr",
     "output_type": "stream",
     "text": [
      "\r\n",
      "Normal id_00:  24%|███████████████                                                | 240/1006 [00:13<00:41, 18.68it/s]"
     ]
    },
    {
     "name": "stderr",
     "output_type": "stream",
     "text": [
      "\r\n",
      "Normal id_00:  24%|███████████████▏                                               | 242/1006 [00:13<00:42, 18.17it/s]"
     ]
    },
    {
     "name": "stderr",
     "output_type": "stream",
     "text": [
      "\r\n",
      "Normal id_00:  24%|███████████████▎                                               | 245/1006 [00:13<00:39, 19.15it/s]"
     ]
    },
    {
     "name": "stderr",
     "output_type": "stream",
     "text": [
      "\r\n",
      "Normal id_00:  25%|███████████████▌                                               | 248/1006 [00:13<00:38, 19.78it/s]"
     ]
    },
    {
     "name": "stderr",
     "output_type": "stream",
     "text": [
      "\r\n",
      "Normal id_00:  25%|███████████████▋                                               | 251/1006 [00:14<00:37, 20.04it/s]"
     ]
    },
    {
     "name": "stderr",
     "output_type": "stream",
     "text": [
      "\r\n",
      "Normal id_00:  25%|███████████████▉                                               | 254/1006 [00:14<00:36, 20.68it/s]"
     ]
    },
    {
     "name": "stderr",
     "output_type": "stream",
     "text": [
      "\r\n",
      "Normal id_00:  26%|████████████████                                               | 257/1006 [00:14<00:35, 21.14it/s]"
     ]
    },
    {
     "name": "stderr",
     "output_type": "stream",
     "text": [
      "\r\n",
      "Normal id_00:  26%|████████████████▎                                              | 260/1006 [00:14<00:35, 21.15it/s]"
     ]
    },
    {
     "name": "stderr",
     "output_type": "stream",
     "text": [
      "\r\n",
      "Normal id_00:  26%|████████████████▍                                              | 263/1006 [00:14<00:39, 18.97it/s]"
     ]
    },
    {
     "name": "stderr",
     "output_type": "stream",
     "text": [
      "\r\n",
      "Normal id_00:  26%|████████████████▋                                              | 266/1006 [00:14<00:36, 20.17it/s]"
     ]
    },
    {
     "name": "stderr",
     "output_type": "stream",
     "text": [
      "\r\n",
      "Normal id_00:  27%|████████████████▊                                              | 269/1006 [00:14<00:36, 19.92it/s]"
     ]
    },
    {
     "name": "stderr",
     "output_type": "stream",
     "text": [
      "\r\n",
      "Normal id_00:  27%|█████████████████                                              | 272/1006 [00:15<00:37, 19.55it/s]"
     ]
    },
    {
     "name": "stderr",
     "output_type": "stream",
     "text": [
      "\r\n",
      "Normal id_00:  27%|█████████████████▏                                             | 275/1006 [00:15<00:37, 19.66it/s]"
     ]
    },
    {
     "name": "stderr",
     "output_type": "stream",
     "text": [
      "\r\n",
      "Normal id_00:  28%|█████████████████▎                                             | 277/1006 [00:15<00:37, 19.43it/s]"
     ]
    },
    {
     "name": "stderr",
     "output_type": "stream",
     "text": [
      "\r\n",
      "Normal id_00:  28%|█████████████████▍                                             | 279/1006 [00:15<00:37, 19.49it/s]"
     ]
    },
    {
     "name": "stderr",
     "output_type": "stream",
     "text": [
      "\r\n",
      "Normal id_00:  28%|█████████████████▌                                             | 281/1006 [00:15<00:37, 19.38it/s]"
     ]
    },
    {
     "name": "stderr",
     "output_type": "stream",
     "text": [
      "\r\n",
      "Normal id_00:  28%|█████████████████▋                                             | 283/1006 [00:15<00:40, 17.88it/s]"
     ]
    },
    {
     "name": "stderr",
     "output_type": "stream",
     "text": [
      "\r\n",
      "Normal id_00:  28%|█████████████████▊                                             | 285/1006 [00:15<00:40, 18.00it/s]"
     ]
    },
    {
     "name": "stderr",
     "output_type": "stream",
     "text": [
      "\r\n",
      "Normal id_00:  29%|██████████████████                                             | 288/1006 [00:15<00:38, 18.87it/s]"
     ]
    },
    {
     "name": "stderr",
     "output_type": "stream",
     "text": [
      "\r\n",
      "Normal id_00:  29%|██████████████████▏                                            | 290/1006 [00:16<00:38, 18.36it/s]"
     ]
    },
    {
     "name": "stderr",
     "output_type": "stream",
     "text": [
      "\r\n",
      "Normal id_00:  29%|██████████████████▎                                            | 292/1006 [00:16<00:39, 18.28it/s]"
     ]
    },
    {
     "name": "stderr",
     "output_type": "stream",
     "text": [
      "\r\n",
      "Normal id_00:  29%|██████████████████▍                                            | 295/1006 [00:16<00:36, 19.54it/s]"
     ]
    },
    {
     "name": "stderr",
     "output_type": "stream",
     "text": [
      "\r\n",
      "Normal id_00:  30%|██████████████████▌                                            | 297/1006 [00:16<00:36, 19.24it/s]"
     ]
    },
    {
     "name": "stderr",
     "output_type": "stream",
     "text": [
      "\r\n",
      "Normal id_00:  30%|██████████████████▋                                            | 299/1006 [00:16<00:36, 19.31it/s]"
     ]
    },
    {
     "name": "stderr",
     "output_type": "stream",
     "text": [
      "\r\n",
      "Normal id_00:  30%|██████████████████▊                                            | 301/1006 [00:16<00:39, 17.66it/s]"
     ]
    },
    {
     "name": "stderr",
     "output_type": "stream",
     "text": [
      "\r\n",
      "Normal id_00:  30%|██████████████████▉                                            | 303/1006 [00:16<00:39, 17.84it/s]"
     ]
    },
    {
     "name": "stderr",
     "output_type": "stream",
     "text": [
      "\r\n",
      "Normal id_00:  30%|███████████████████                                            | 305/1006 [00:16<00:38, 18.26it/s]"
     ]
    },
    {
     "name": "stderr",
     "output_type": "stream",
     "text": [
      "\r\n",
      "Normal id_00:  31%|███████████████████▎                                           | 308/1006 [00:17<00:36, 18.89it/s]"
     ]
    },
    {
     "name": "stderr",
     "output_type": "stream",
     "text": [
      "\r\n",
      "Normal id_00:  31%|███████████████████▍                                           | 310/1006 [00:17<00:36, 19.17it/s]"
     ]
    },
    {
     "name": "stderr",
     "output_type": "stream",
     "text": [
      "\r\n",
      "Normal id_00:  31%|███████████████████▌                                           | 313/1006 [00:17<00:35, 19.43it/s]"
     ]
    },
    {
     "name": "stderr",
     "output_type": "stream",
     "text": [
      "\r\n",
      "Normal id_00:  31%|███████████████████▋                                           | 315/1006 [00:17<00:36, 19.01it/s]"
     ]
    },
    {
     "name": "stderr",
     "output_type": "stream",
     "text": [
      "\r\n",
      "Normal id_00:  32%|███████████████████▊                                           | 317/1006 [00:17<00:37, 18.50it/s]"
     ]
    },
    {
     "name": "stderr",
     "output_type": "stream",
     "text": [
      "\r\n",
      "Normal id_00:  32%|███████████████████▉                                           | 319/1006 [00:17<00:36, 18.75it/s]"
     ]
    },
    {
     "name": "stderr",
     "output_type": "stream",
     "text": [
      "\r\n",
      "Normal id_00:  32%|████████████████████                                           | 321/1006 [00:17<00:37, 18.19it/s]"
     ]
    },
    {
     "name": "stderr",
     "output_type": "stream",
     "text": [
      "\r\n",
      "Normal id_00:  32%|████████████████████▎                                          | 324/1006 [00:17<00:35, 19.27it/s]"
     ]
    },
    {
     "name": "stderr",
     "output_type": "stream",
     "text": [
      "\r\n",
      "Normal id_00:  33%|████████████████████▍                                          | 327/1006 [00:17<00:33, 20.13it/s]"
     ]
    },
    {
     "name": "stderr",
     "output_type": "stream",
     "text": [
      "\r\n",
      "Normal id_00:  33%|████████████████████▋                                          | 330/1006 [00:18<00:32, 20.84it/s]"
     ]
    },
    {
     "name": "stderr",
     "output_type": "stream",
     "text": [
      "\r\n",
      "Normal id_00:  33%|████████████████████▊                                          | 333/1006 [00:18<00:31, 21.03it/s]"
     ]
    },
    {
     "name": "stderr",
     "output_type": "stream",
     "text": [
      "\r\n",
      "Normal id_00:  33%|█████████████████████                                          | 336/1006 [00:18<00:31, 21.03it/s]"
     ]
    },
    {
     "name": "stderr",
     "output_type": "stream",
     "text": [
      "\r\n",
      "Normal id_00:  34%|█████████████████████▏                                         | 339/1006 [00:18<00:32, 20.33it/s]"
     ]
    },
    {
     "name": "stderr",
     "output_type": "stream",
     "text": [
      "\r\n",
      "Normal id_00:  34%|█████████████████████▍                                         | 342/1006 [00:18<00:34, 19.43it/s]"
     ]
    },
    {
     "name": "stderr",
     "output_type": "stream",
     "text": [
      "\r\n",
      "Normal id_00:  34%|█████████████████████▌                                         | 344/1006 [00:18<00:35, 18.81it/s]"
     ]
    },
    {
     "name": "stderr",
     "output_type": "stream",
     "text": [
      "\r\n",
      "Normal id_00:  34%|█████████████████████▋                                         | 346/1006 [00:18<00:34, 18.91it/s]"
     ]
    },
    {
     "name": "stderr",
     "output_type": "stream",
     "text": [
      "\r\n",
      "Normal id_00:  35%|█████████████████████▊                                         | 349/1006 [00:19<00:34, 19.26it/s]"
     ]
    },
    {
     "name": "stderr",
     "output_type": "stream",
     "text": [
      "\r\n",
      "Normal id_00:  35%|██████████████████████                                         | 352/1006 [00:19<00:33, 19.72it/s]"
     ]
    },
    {
     "name": "stderr",
     "output_type": "stream",
     "text": [
      "\r\n",
      "Normal id_00:  35%|██████████████████████▏                                        | 355/1006 [00:19<00:32, 20.03it/s]"
     ]
    },
    {
     "name": "stderr",
     "output_type": "stream",
     "text": [
      "\r\n",
      "Normal id_00:  36%|██████████████████████▍                                        | 358/1006 [00:19<00:32, 19.80it/s]"
     ]
    },
    {
     "name": "stderr",
     "output_type": "stream",
     "text": [
      "\r\n",
      "Normal id_00:  36%|██████████████████████▌                                        | 360/1006 [00:19<00:33, 19.39it/s]"
     ]
    },
    {
     "name": "stderr",
     "output_type": "stream",
     "text": [
      "\r\n",
      "Normal id_00:  36%|██████████████████████▋                                        | 363/1006 [00:19<00:31, 20.36it/s]"
     ]
    },
    {
     "name": "stderr",
     "output_type": "stream",
     "text": [
      "\r\n",
      "Normal id_00:  36%|██████████████████████▉                                        | 366/1006 [00:19<00:31, 20.23it/s]"
     ]
    },
    {
     "name": "stderr",
     "output_type": "stream",
     "text": [
      "\r\n",
      "Normal id_00:  37%|███████████████████████                                        | 369/1006 [00:20<00:33, 19.25it/s]"
     ]
    },
    {
     "name": "stderr",
     "output_type": "stream",
     "text": [
      "\r\n",
      "Normal id_00:  37%|███████████████████████▏                                       | 371/1006 [00:20<00:33, 19.17it/s]"
     ]
    },
    {
     "name": "stderr",
     "output_type": "stream",
     "text": [
      "\r\n",
      "Normal id_00:  37%|███████████████████████▎                                       | 373/1006 [00:20<00:33, 19.12it/s]"
     ]
    },
    {
     "name": "stderr",
     "output_type": "stream",
     "text": [
      "\r\n",
      "Normal id_00:  37%|███████████████████████▌                                       | 376/1006 [00:20<00:32, 19.58it/s]"
     ]
    },
    {
     "name": "stderr",
     "output_type": "stream",
     "text": [
      "\r\n",
      "Normal id_00:  38%|███████████████████████▋                                       | 379/1006 [00:20<00:32, 19.05it/s]"
     ]
    },
    {
     "name": "stderr",
     "output_type": "stream",
     "text": [
      "\r\n",
      "Normal id_00:  38%|███████████████████████▉                                       | 382/1006 [00:20<00:31, 19.53it/s]"
     ]
    },
    {
     "name": "stderr",
     "output_type": "stream",
     "text": [
      "\r\n",
      "Normal id_00:  38%|████████████████████████                                       | 385/1006 [00:20<00:30, 20.32it/s]"
     ]
    },
    {
     "name": "stderr",
     "output_type": "stream",
     "text": [
      "\r\n",
      "Normal id_00:  39%|████████████████████████▎                                      | 388/1006 [00:21<00:30, 20.19it/s]"
     ]
    },
    {
     "name": "stderr",
     "output_type": "stream",
     "text": [
      "\r\n",
      "Normal id_00:  39%|████████████████████████▍                                      | 391/1006 [00:21<00:30, 20.17it/s]"
     ]
    },
    {
     "name": "stderr",
     "output_type": "stream",
     "text": [
      "\r\n",
      "Normal id_00:  39%|████████████████████████▋                                      | 394/1006 [00:21<00:30, 20.14it/s]"
     ]
    },
    {
     "name": "stderr",
     "output_type": "stream",
     "text": [
      "\r\n",
      "Normal id_00:  39%|████████████████████████▊                                      | 397/1006 [00:21<00:30, 19.92it/s]"
     ]
    },
    {
     "name": "stderr",
     "output_type": "stream",
     "text": [
      "\r\n",
      "Normal id_00:  40%|████████████████████████▉                                      | 399/1006 [00:21<00:31, 19.13it/s]"
     ]
    },
    {
     "name": "stderr",
     "output_type": "stream",
     "text": [
      "\r\n",
      "Normal id_00:  40%|█████████████████████████                                      | 401/1006 [00:21<00:31, 19.01it/s]"
     ]
    },
    {
     "name": "stderr",
     "output_type": "stream",
     "text": [
      "\r\n",
      "Normal id_00:  40%|█████████████████████████▏                                     | 403/1006 [00:21<00:31, 19.09it/s]"
     ]
    },
    {
     "name": "stderr",
     "output_type": "stream",
     "text": [
      "\r\n",
      "Normal id_00:  40%|█████████████████████████▎                                     | 405/1006 [00:21<00:31, 19.13it/s]"
     ]
    },
    {
     "name": "stderr",
     "output_type": "stream",
     "text": [
      "\r\n",
      "Normal id_00:  41%|█████████████████████████▌                                     | 408/1006 [00:22<00:30, 19.70it/s]"
     ]
    },
    {
     "name": "stderr",
     "output_type": "stream",
     "text": [
      "\r\n",
      "Normal id_00:  41%|█████████████████████████▋                                     | 411/1006 [00:22<00:29, 19.98it/s]"
     ]
    },
    {
     "name": "stderr",
     "output_type": "stream",
     "text": [
      "\r\n",
      "Normal id_00:  41%|█████████████████████████▊                                     | 413/1006 [00:22<00:29, 19.80it/s]"
     ]
    },
    {
     "name": "stderr",
     "output_type": "stream",
     "text": [
      "\r\n",
      "Normal id_00:  41%|██████████████████████████                                     | 416/1006 [00:22<00:30, 19.26it/s]"
     ]
    },
    {
     "name": "stderr",
     "output_type": "stream",
     "text": [
      "\r\n",
      "Normal id_00:  42%|██████████████████████████▏                                    | 418/1006 [00:22<00:31, 18.57it/s]"
     ]
    },
    {
     "name": "stderr",
     "output_type": "stream",
     "text": [
      "\r\n",
      "Normal id_00:  42%|██████████████████████████▎                                    | 420/1006 [00:22<00:31, 18.40it/s]"
     ]
    },
    {
     "name": "stderr",
     "output_type": "stream",
     "text": [
      "\r\n",
      "Normal id_00:  42%|██████████████████████████▍                                    | 423/1006 [00:22<00:29, 19.69it/s]"
     ]
    },
    {
     "name": "stderr",
     "output_type": "stream",
     "text": [
      "\r\n",
      "Normal id_00:  42%|██████████████████████████▌                                    | 425/1006 [00:22<00:29, 19.67it/s]"
     ]
    },
    {
     "name": "stderr",
     "output_type": "stream",
     "text": [
      "\r\n",
      "Normal id_00:  43%|██████████████████████████▊                                    | 428/1006 [00:23<00:28, 20.15it/s]"
     ]
    },
    {
     "name": "stderr",
     "output_type": "stream",
     "text": [
      "\r\n",
      "Normal id_00:  43%|██████████████████████████▉                                    | 431/1006 [00:23<00:27, 20.86it/s]"
     ]
    },
    {
     "name": "stderr",
     "output_type": "stream",
     "text": [
      "\r\n",
      "Normal id_00:  43%|███████████████████████████▏                                   | 434/1006 [00:23<00:28, 20.26it/s]"
     ]
    },
    {
     "name": "stderr",
     "output_type": "stream",
     "text": [
      "\r\n",
      "Normal id_00:  43%|███████████████████████████▎                                   | 437/1006 [00:23<00:28, 19.82it/s]"
     ]
    },
    {
     "name": "stderr",
     "output_type": "stream",
     "text": [
      "\r\n",
      "Normal id_00:  44%|███████████████████████████▍                                   | 439/1006 [00:23<00:29, 19.15it/s]"
     ]
    },
    {
     "name": "stderr",
     "output_type": "stream",
     "text": [
      "\r\n",
      "Normal id_00:  44%|███████████████████████████▌                                   | 441/1006 [00:23<00:29, 19.05it/s]"
     ]
    },
    {
     "name": "stderr",
     "output_type": "stream",
     "text": [
      "\r\n",
      "Normal id_00:  44%|███████████████████████████▊                                   | 444/1006 [00:23<00:27, 20.13it/s]"
     ]
    },
    {
     "name": "stderr",
     "output_type": "stream",
     "text": [
      "\r\n",
      "Normal id_00:  44%|███████████████████████████▉                                   | 447/1006 [00:24<00:26, 20.74it/s]"
     ]
    },
    {
     "name": "stderr",
     "output_type": "stream",
     "text": [
      "\r\n",
      "Normal id_00:  45%|████████████████████████████▏                                  | 450/1006 [00:24<00:27, 20.41it/s]"
     ]
    },
    {
     "name": "stderr",
     "output_type": "stream",
     "text": [
      "\r\n",
      "Normal id_00:  45%|████████████████████████████▎                                  | 453/1006 [00:24<00:26, 20.92it/s]"
     ]
    },
    {
     "name": "stderr",
     "output_type": "stream",
     "text": [
      "\r\n",
      "Normal id_00:  45%|████████████████████████████▌                                  | 456/1006 [00:24<00:27, 19.79it/s]"
     ]
    },
    {
     "name": "stderr",
     "output_type": "stream",
     "text": [
      "\r\n",
      "Normal id_00:  46%|████████████████████████████▋                                  | 458/1006 [00:24<00:28, 19.00it/s]"
     ]
    },
    {
     "name": "stderr",
     "output_type": "stream",
     "text": [
      "\r\n",
      "Normal id_00:  46%|████████████████████████████▊                                  | 461/1006 [00:24<00:27, 19.95it/s]"
     ]
    },
    {
     "name": "stderr",
     "output_type": "stream",
     "text": [
      "\r\n",
      "Normal id_00:  46%|█████████████████████████████                                  | 464/1006 [00:24<00:26, 20.44it/s]"
     ]
    },
    {
     "name": "stderr",
     "output_type": "stream",
     "text": [
      "\r\n",
      "Normal id_00:  46%|█████████████████████████████▏                                 | 467/1006 [00:25<00:26, 20.54it/s]"
     ]
    },
    {
     "name": "stderr",
     "output_type": "stream",
     "text": [
      "\r\n",
      "Normal id_00:  47%|█████████████████████████████▍                                 | 470/1006 [00:25<00:26, 20.26it/s]"
     ]
    },
    {
     "name": "stderr",
     "output_type": "stream",
     "text": [
      "\r\n",
      "Normal id_00:  47%|█████████████████████████████▌                                 | 473/1006 [00:25<00:26, 20.00it/s]"
     ]
    },
    {
     "name": "stderr",
     "output_type": "stream",
     "text": [
      "\r\n",
      "Normal id_00:  47%|█████████████████████████████▊                                 | 476/1006 [00:25<00:25, 20.52it/s]"
     ]
    },
    {
     "name": "stderr",
     "output_type": "stream",
     "text": [
      "\r\n",
      "Normal id_00:  48%|█████████████████████████████▉                                 | 479/1006 [00:25<00:26, 19.60it/s]"
     ]
    },
    {
     "name": "stderr",
     "output_type": "stream",
     "text": [
      "\r\n",
      "Normal id_00:  48%|██████████████████████████████▏                                | 482/1006 [00:25<00:26, 20.15it/s]"
     ]
    },
    {
     "name": "stderr",
     "output_type": "stream",
     "text": [
      "\r\n",
      "Normal id_00:  48%|██████████████████████████████▎                                | 485/1006 [00:25<00:26, 19.97it/s]"
     ]
    },
    {
     "name": "stderr",
     "output_type": "stream",
     "text": [
      "\r\n",
      "Normal id_00:  49%|██████████████████████████████▌                                | 488/1006 [00:26<00:25, 20.09it/s]"
     ]
    },
    {
     "name": "stderr",
     "output_type": "stream",
     "text": [
      "\r\n",
      "Normal id_00:  49%|██████████████████████████████▋                                | 491/1006 [00:26<00:24, 20.65it/s]"
     ]
    },
    {
     "name": "stderr",
     "output_type": "stream",
     "text": [
      "\r\n",
      "Normal id_00:  49%|██████████████████████████████▉                                | 494/1006 [00:26<00:24, 20.82it/s]"
     ]
    },
    {
     "name": "stderr",
     "output_type": "stream",
     "text": [
      "\r\n",
      "Normal id_00:  49%|███████████████████████████████                                | 497/1006 [00:26<00:25, 20.03it/s]"
     ]
    },
    {
     "name": "stderr",
     "output_type": "stream",
     "text": [
      "\r\n",
      "Normal id_00:  50%|███████████████████████████████▎                               | 500/1006 [00:26<00:26, 19.25it/s]"
     ]
    },
    {
     "name": "stderr",
     "output_type": "stream",
     "text": [
      "\r\n",
      "Normal id_00:  50%|███████████████████████████████▍                               | 502/1006 [00:26<00:26, 19.12it/s]"
     ]
    },
    {
     "name": "stderr",
     "output_type": "stream",
     "text": [
      "\r\n",
      "Normal id_00:  50%|███████████████████████████████▌                               | 504/1006 [00:26<00:26, 19.05it/s]"
     ]
    },
    {
     "name": "stderr",
     "output_type": "stream",
     "text": [
      "\r\n",
      "Normal id_00:  50%|███████████████████████████████▋                               | 506/1006 [00:27<00:26, 19.05it/s]"
     ]
    },
    {
     "name": "stderr",
     "output_type": "stream",
     "text": [
      "\r\n",
      "Normal id_00:  50%|███████████████████████████████▊                               | 508/1006 [00:27<00:26, 19.12it/s]"
     ]
    },
    {
     "name": "stderr",
     "output_type": "stream",
     "text": [
      "\r\n",
      "Normal id_00:  51%|███████████████████████████████▉                               | 510/1006 [00:27<00:25, 19.09it/s]"
     ]
    },
    {
     "name": "stderr",
     "output_type": "stream",
     "text": [
      "\r\n",
      "Normal id_00:  51%|████████████████████████████████▏                              | 513/1006 [00:27<00:26, 18.50it/s]"
     ]
    },
    {
     "name": "stderr",
     "output_type": "stream",
     "text": [
      "\r\n",
      "Normal id_00:  51%|████████████████████████████████▎                              | 516/1006 [00:27<00:25, 19.47it/s]"
     ]
    },
    {
     "name": "stderr",
     "output_type": "stream",
     "text": [
      "\r\n",
      "Normal id_00:  51%|████████████████████████████████▍                              | 518/1006 [00:27<00:26, 18.70it/s]"
     ]
    },
    {
     "name": "stderr",
     "output_type": "stream",
     "text": [
      "\r\n",
      "Normal id_00:  52%|████████████████████████████████▋                              | 521/1006 [00:27<00:25, 19.11it/s]"
     ]
    },
    {
     "name": "stderr",
     "output_type": "stream",
     "text": [
      "\r\n",
      "Normal id_00:  52%|████████████████████████████████▊                              | 524/1006 [00:27<00:24, 19.40it/s]"
     ]
    },
    {
     "name": "stderr",
     "output_type": "stream",
     "text": [
      "\r\n",
      "Normal id_00:  52%|█████████████████████████████████                              | 527/1006 [00:28<00:24, 19.59it/s]"
     ]
    },
    {
     "name": "stderr",
     "output_type": "stream",
     "text": [
      "\r\n",
      "Normal id_00:  53%|█████████████████████████████████▏                             | 529/1006 [00:28<00:24, 19.59it/s]"
     ]
    },
    {
     "name": "stderr",
     "output_type": "stream",
     "text": [
      "\r\n",
      "Normal id_00:  53%|█████████████████████████████████▎                             | 531/1006 [00:28<00:24, 19.54it/s]"
     ]
    },
    {
     "name": "stderr",
     "output_type": "stream",
     "text": [
      "\r\n",
      "Normal id_00:  53%|█████████████████████████████████▍                             | 533/1006 [00:28<00:24, 19.49it/s]"
     ]
    },
    {
     "name": "stderr",
     "output_type": "stream",
     "text": [
      "\r\n",
      "Normal id_00:  53%|█████████████████████████████████▌                             | 536/1006 [00:28<00:23, 20.39it/s]"
     ]
    },
    {
     "name": "stderr",
     "output_type": "stream",
     "text": [
      "\r\n",
      "Normal id_00:  54%|█████████████████████████████████▊                             | 539/1006 [00:28<00:23, 19.73it/s]"
     ]
    },
    {
     "name": "stderr",
     "output_type": "stream",
     "text": [
      "\r\n",
      "Normal id_00:  54%|█████████████████████████████████▉                             | 542/1006 [00:28<00:22, 20.55it/s]"
     ]
    },
    {
     "name": "stderr",
     "output_type": "stream",
     "text": [
      "\r\n",
      "Normal id_00:  54%|██████████████████████████████████▏                            | 545/1006 [00:29<00:21, 21.01it/s]"
     ]
    },
    {
     "name": "stderr",
     "output_type": "stream",
     "text": [
      "\r\n",
      "Normal id_00:  54%|██████████████████████████████████▎                            | 548/1006 [00:29<00:21, 20.96it/s]"
     ]
    },
    {
     "name": "stderr",
     "output_type": "stream",
     "text": [
      "\r\n",
      "Normal id_00:  55%|██████████████████████████████████▌                            | 551/1006 [00:29<00:21, 20.73it/s]"
     ]
    },
    {
     "name": "stderr",
     "output_type": "stream",
     "text": [
      "\r\n",
      "Normal id_00:  55%|██████████████████████████████████▋                            | 554/1006 [00:29<00:22, 20.50it/s]"
     ]
    },
    {
     "name": "stderr",
     "output_type": "stream",
     "text": [
      "\r\n",
      "Normal id_00:  55%|██████████████████████████████████▉                            | 557/1006 [00:29<00:22, 20.36it/s]"
     ]
    },
    {
     "name": "stderr",
     "output_type": "stream",
     "text": [
      "\r\n",
      "Normal id_00:  56%|███████████████████████████████████                            | 560/1006 [00:29<00:22, 20.23it/s]"
     ]
    },
    {
     "name": "stderr",
     "output_type": "stream",
     "text": [
      "\r\n",
      "Normal id_00:  56%|███████████████████████████████████▎                           | 563/1006 [00:29<00:22, 19.83it/s]"
     ]
    },
    {
     "name": "stderr",
     "output_type": "stream",
     "text": [
      "\r\n",
      "Normal id_00:  56%|███████████████████████████████████▍                           | 565/1006 [00:30<00:22, 19.49it/s]"
     ]
    },
    {
     "name": "stderr",
     "output_type": "stream",
     "text": [
      "\r\n",
      "Normal id_00:  56%|███████████████████████████████████▌                           | 567/1006 [00:30<00:22, 19.51it/s]"
     ]
    },
    {
     "name": "stderr",
     "output_type": "stream",
     "text": [
      "\r\n",
      "Normal id_00:  57%|███████████████████████████████████▋                           | 569/1006 [00:30<00:22, 19.54it/s]"
     ]
    },
    {
     "name": "stderr",
     "output_type": "stream",
     "text": [
      "\r\n",
      "Normal id_00:  57%|███████████████████████████████████▊                           | 572/1006 [00:30<00:21, 20.35it/s]"
     ]
    },
    {
     "name": "stderr",
     "output_type": "stream",
     "text": [
      "\r\n",
      "Normal id_00:  57%|████████████████████████████████████                           | 575/1006 [00:30<00:20, 20.84it/s]"
     ]
    },
    {
     "name": "stderr",
     "output_type": "stream",
     "text": [
      "\r\n",
      "Normal id_00:  57%|████████████████████████████████████▏                          | 578/1006 [00:30<00:20, 20.74it/s]"
     ]
    },
    {
     "name": "stderr",
     "output_type": "stream",
     "text": [
      "\r\n",
      "Normal id_00:  58%|████████████████████████████████████▍                          | 581/1006 [00:30<00:20, 20.36it/s]"
     ]
    },
    {
     "name": "stderr",
     "output_type": "stream",
     "text": [
      "\r\n",
      "Normal id_00:  58%|████████████████████████████████████▌                          | 584/1006 [00:30<00:21, 19.67it/s]"
     ]
    },
    {
     "name": "stderr",
     "output_type": "stream",
     "text": [
      "\r\n",
      "Normal id_00:  58%|████████████████████████████████████▋                          | 586/1006 [00:31<00:23, 18.10it/s]"
     ]
    },
    {
     "name": "stderr",
     "output_type": "stream",
     "text": [
      "\r\n",
      "Normal id_00:  59%|████████████████████████████████████▉                          | 589/1006 [00:31<00:22, 18.91it/s]"
     ]
    },
    {
     "name": "stderr",
     "output_type": "stream",
     "text": [
      "\r\n",
      "Normal id_00:  59%|█████████████████████████████████████                          | 591/1006 [00:31<00:22, 18.74it/s]"
     ]
    },
    {
     "name": "stderr",
     "output_type": "stream",
     "text": [
      "\r\n",
      "Normal id_00:  59%|█████████████████████████████████████▏                         | 593/1006 [00:31<00:22, 18.60it/s]"
     ]
    },
    {
     "name": "stderr",
     "output_type": "stream",
     "text": [
      "\r\n",
      "Normal id_00:  59%|█████████████████████████████████████▎                         | 595/1006 [00:31<00:22, 18.55it/s]"
     ]
    },
    {
     "name": "stderr",
     "output_type": "stream",
     "text": [
      "\r\n",
      "Normal id_00:  59%|█████████████████████████████████████▍                         | 598/1006 [00:31<00:21, 19.27it/s]"
     ]
    },
    {
     "name": "stderr",
     "output_type": "stream",
     "text": [
      "\r\n",
      "Normal id_00:  60%|█████████████████████████████████████▌                         | 600/1006 [00:31<00:21, 18.83it/s]"
     ]
    },
    {
     "name": "stderr",
     "output_type": "stream",
     "text": [
      "\r\n",
      "Normal id_00:  60%|█████████████████████████████████████▋                         | 602/1006 [00:31<00:22, 18.30it/s]"
     ]
    },
    {
     "name": "stderr",
     "output_type": "stream",
     "text": [
      "\r\n",
      "Normal id_00:  60%|█████████████████████████████████████▊                         | 604/1006 [00:32<00:21, 18.65it/s]"
     ]
    },
    {
     "name": "stderr",
     "output_type": "stream",
     "text": [
      "\r\n",
      "Normal id_00:  60%|█████████████████████████████████████▉                         | 606/1006 [00:32<00:21, 18.48it/s]"
     ]
    },
    {
     "name": "stderr",
     "output_type": "stream",
     "text": [
      "\r\n",
      "Normal id_00:  61%|██████████████████████████████████████▏                        | 609/1006 [00:32<00:20, 19.75it/s]"
     ]
    },
    {
     "name": "stderr",
     "output_type": "stream",
     "text": [
      "\r\n",
      "Normal id_00:  61%|██████████████████████████████████████▎                        | 611/1006 [00:32<00:20, 19.55it/s]"
     ]
    },
    {
     "name": "stderr",
     "output_type": "stream",
     "text": [
      "\r\n",
      "Normal id_00:  61%|██████████████████████████████████████▍                        | 613/1006 [00:32<00:21, 18.69it/s]"
     ]
    },
    {
     "name": "stderr",
     "output_type": "stream",
     "text": [
      "\r\n",
      "Normal id_00:  61%|██████████████████████████████████████▌                        | 615/1006 [00:32<00:21, 18.09it/s]"
     ]
    },
    {
     "name": "stderr",
     "output_type": "stream",
     "text": [
      "\r\n",
      "Normal id_00:  61%|██████████████████████████████████████▋                        | 618/1006 [00:32<00:20, 19.33it/s]"
     ]
    },
    {
     "name": "stderr",
     "output_type": "stream",
     "text": [
      "\r\n",
      "Normal id_00:  62%|██████████████████████████████████████▉                        | 621/1006 [00:32<00:19, 20.23it/s]"
     ]
    },
    {
     "name": "stderr",
     "output_type": "stream",
     "text": [
      "\r\n",
      "Normal id_00:  62%|███████████████████████████████████████                        | 624/1006 [00:33<00:19, 19.77it/s]"
     ]
    },
    {
     "name": "stderr",
     "output_type": "stream",
     "text": [
      "\r\n",
      "Normal id_00:  62%|███████████████████████████████████████▏                       | 626/1006 [00:33<00:19, 19.78it/s]"
     ]
    },
    {
     "name": "stderr",
     "output_type": "stream",
     "text": [
      "\r\n",
      "Normal id_00:  63%|███████████████████████████████████████▍                       | 629/1006 [00:33<00:18, 20.27it/s]"
     ]
    },
    {
     "name": "stderr",
     "output_type": "stream",
     "text": [
      "\r\n",
      "Normal id_00:  63%|███████████████████████████████████████▌                       | 632/1006 [00:33<00:19, 19.67it/s]"
     ]
    },
    {
     "name": "stderr",
     "output_type": "stream",
     "text": [
      "\r\n",
      "Normal id_00:  63%|███████████████████████████████████████▋                       | 634/1006 [00:33<00:19, 19.12it/s]"
     ]
    },
    {
     "name": "stderr",
     "output_type": "stream",
     "text": [
      "\r\n",
      "Normal id_00:  63%|███████████████████████████████████████▉                       | 637/1006 [00:33<00:18, 19.57it/s]"
     ]
    },
    {
     "name": "stderr",
     "output_type": "stream",
     "text": [
      "\r\n",
      "Normal id_00:  64%|████████████████████████████████████████                       | 639/1006 [00:33<00:19, 18.50it/s]"
     ]
    },
    {
     "name": "stderr",
     "output_type": "stream",
     "text": [
      "\r\n",
      "Normal id_00:  64%|████████████████████████████████████████▏                      | 641/1006 [00:33<00:19, 18.58it/s]"
     ]
    },
    {
     "name": "stderr",
     "output_type": "stream",
     "text": [
      "\r\n",
      "Normal id_00:  64%|████████████████████████████████████████▎                      | 643/1006 [00:34<00:19, 18.61it/s]"
     ]
    },
    {
     "name": "stderr",
     "output_type": "stream",
     "text": [
      "\r\n",
      "Normal id_00:  64%|████████████████████████████████████████▍                      | 646/1006 [00:34<00:18, 19.17it/s]"
     ]
    },
    {
     "name": "stderr",
     "output_type": "stream",
     "text": [
      "\r\n",
      "Normal id_00:  65%|████████████████████████████████████████▋                      | 649/1006 [00:34<00:18, 19.53it/s]"
     ]
    },
    {
     "name": "stderr",
     "output_type": "stream",
     "text": [
      "\r\n",
      "Normal id_00:  65%|████████████████████████████████████████▊                      | 651/1006 [00:34<00:18, 18.98it/s]"
     ]
    },
    {
     "name": "stderr",
     "output_type": "stream",
     "text": [
      "\r\n",
      "Normal id_00:  65%|████████████████████████████████████████▉                      | 653/1006 [00:34<00:18, 18.73it/s]"
     ]
    },
    {
     "name": "stderr",
     "output_type": "stream",
     "text": [
      "\r\n",
      "Normal id_00:  65%|█████████████████████████████████████████                      | 655/1006 [00:34<00:19, 18.27it/s]"
     ]
    },
    {
     "name": "stderr",
     "output_type": "stream",
     "text": [
      "\r\n",
      "Normal id_00:  65%|█████████████████████████████████████████▏                     | 658/1006 [00:34<00:17, 19.44it/s]"
     ]
    },
    {
     "name": "stderr",
     "output_type": "stream",
     "text": [
      "\r\n",
      "Normal id_00:  66%|█████████████████████████████████████████▍                     | 661/1006 [00:35<00:17, 19.88it/s]"
     ]
    },
    {
     "name": "stderr",
     "output_type": "stream",
     "text": [
      "\r\n",
      "Normal id_00:  66%|█████████████████████████████████████████▌                     | 663/1006 [00:35<00:17, 19.38it/s]"
     ]
    },
    {
     "name": "stderr",
     "output_type": "stream",
     "text": [
      "\r\n",
      "Normal id_00:  66%|█████████████████████████████████████████▋                     | 665/1006 [00:35<00:17, 19.36it/s]"
     ]
    },
    {
     "name": "stderr",
     "output_type": "stream",
     "text": [
      "\r\n",
      "Normal id_00:  66%|█████████████████████████████████████████▊                     | 667/1006 [00:35<00:17, 19.36it/s]"
     ]
    },
    {
     "name": "stderr",
     "output_type": "stream",
     "text": [
      "\r\n",
      "Normal id_00:  67%|█████████████████████████████████████████▉                     | 669/1006 [00:35<00:17, 19.21it/s]"
     ]
    },
    {
     "name": "stderr",
     "output_type": "stream",
     "text": [
      "\r\n",
      "Normal id_00:  67%|██████████████████████████████████████████                     | 671/1006 [00:35<00:17, 19.13it/s]"
     ]
    },
    {
     "name": "stderr",
     "output_type": "stream",
     "text": [
      "\r\n",
      "Normal id_00:  67%|██████████████████████████████████████████▏                    | 673/1006 [00:35<00:18, 17.75it/s]"
     ]
    },
    {
     "name": "stderr",
     "output_type": "stream",
     "text": [
      "\r\n",
      "Normal id_00:  67%|██████████████████████████████████████████▎                    | 675/1006 [00:35<00:18, 18.35it/s]"
     ]
    },
    {
     "name": "stderr",
     "output_type": "stream",
     "text": [
      "\r\n",
      "Normal id_00:  67%|██████████████████████████████████████████▍                    | 677/1006 [00:35<00:17, 18.43it/s]"
     ]
    },
    {
     "name": "stderr",
     "output_type": "stream",
     "text": [
      "\r\n",
      "Normal id_00:  67%|██████████████████████████████████████████▌                    | 679/1006 [00:35<00:17, 18.47it/s]"
     ]
    },
    {
     "name": "stderr",
     "output_type": "stream",
     "text": [
      "\r\n",
      "Normal id_00:  68%|██████████████████████████████████████████▋                    | 681/1006 [00:36<00:17, 18.51it/s]"
     ]
    },
    {
     "name": "stderr",
     "output_type": "stream",
     "text": [
      "\r\n",
      "Normal id_00:  68%|██████████████████████████████████████████▊                    | 683/1006 [00:36<00:17, 18.35it/s]"
     ]
    },
    {
     "name": "stderr",
     "output_type": "stream",
     "text": [
      "\r\n",
      "Normal id_00:  68%|██████████████████████████████████████████▉                    | 685/1006 [00:36<00:17, 18.45it/s]"
     ]
    },
    {
     "name": "stderr",
     "output_type": "stream",
     "text": [
      "\r\n",
      "Normal id_00:  68%|███████████████████████████████████████████                    | 688/1006 [00:36<00:16, 19.18it/s]"
     ]
    },
    {
     "name": "stderr",
     "output_type": "stream",
     "text": [
      "\r\n",
      "Normal id_00:  69%|███████████████████████████████████████████▎                   | 691/1006 [00:36<00:16, 18.98it/s]"
     ]
    },
    {
     "name": "stderr",
     "output_type": "stream",
     "text": [
      "\r\n",
      "Normal id_00:  69%|███████████████████████████████████████████▍                   | 693/1006 [00:36<00:16, 18.61it/s]"
     ]
    },
    {
     "name": "stderr",
     "output_type": "stream",
     "text": [
      "\r\n",
      "Normal id_00:  69%|███████████████████████████████████████████▌                   | 696/1006 [00:36<00:15, 19.61it/s]"
     ]
    },
    {
     "name": "stderr",
     "output_type": "stream",
     "text": [
      "\r\n",
      "Normal id_00:  69%|███████████████████████████████████████████▊                   | 699/1006 [00:37<00:15, 20.27it/s]"
     ]
    },
    {
     "name": "stderr",
     "output_type": "stream",
     "text": [
      "\r\n",
      "Normal id_00:  70%|███████████████████████████████████████████▉                   | 702/1006 [00:37<00:14, 20.58it/s]"
     ]
    },
    {
     "name": "stderr",
     "output_type": "stream",
     "text": [
      "\r\n",
      "Normal id_00:  70%|████████████████████████████████████████████▏                  | 705/1006 [00:37<00:14, 20.45it/s]"
     ]
    },
    {
     "name": "stderr",
     "output_type": "stream",
     "text": [
      "\r\n",
      "Normal id_00:  70%|████████████████████████████████████████████▎                  | 708/1006 [00:37<00:14, 20.29it/s]"
     ]
    },
    {
     "name": "stderr",
     "output_type": "stream",
     "text": [
      "\r\n",
      "Normal id_00:  71%|████████████████████████████████████████████▌                  | 711/1006 [00:37<00:14, 19.88it/s]"
     ]
    },
    {
     "name": "stderr",
     "output_type": "stream",
     "text": [
      "\r\n",
      "Normal id_00:  71%|████████████████████████████████████████████▋                  | 714/1006 [00:37<00:14, 19.80it/s]"
     ]
    },
    {
     "name": "stderr",
     "output_type": "stream",
     "text": [
      "\r\n",
      "Normal id_00:  71%|████████████████████████████████████████████▊                  | 716/1006 [00:37<00:14, 19.51it/s]"
     ]
    },
    {
     "name": "stderr",
     "output_type": "stream",
     "text": [
      "\r\n",
      "Normal id_00:  71%|████████████████████████████████████████████▉                  | 718/1006 [00:37<00:14, 19.27it/s]"
     ]
    },
    {
     "name": "stderr",
     "output_type": "stream",
     "text": [
      "\r\n",
      "Normal id_00:  72%|█████████████████████████████████████████████                  | 720/1006 [00:38<00:15, 19.00it/s]"
     ]
    },
    {
     "name": "stderr",
     "output_type": "stream",
     "text": [
      "\r\n",
      "Normal id_00:  72%|█████████████████████████████████████████████▎                 | 723/1006 [00:38<00:14, 19.76it/s]"
     ]
    },
    {
     "name": "stderr",
     "output_type": "stream",
     "text": [
      "\r\n",
      "Normal id_00:  72%|█████████████████████████████████████████████▍                 | 725/1006 [00:38<00:14, 19.51it/s]"
     ]
    },
    {
     "name": "stderr",
     "output_type": "stream",
     "text": [
      "\r\n",
      "Normal id_00:  72%|█████████████████████████████████████████████▌                 | 727/1006 [00:38<00:14, 19.48it/s]"
     ]
    },
    {
     "name": "stderr",
     "output_type": "stream",
     "text": [
      "\r\n",
      "Normal id_00:  72%|█████████████████████████████████████████████▋                 | 729/1006 [00:38<00:14, 19.54it/s]"
     ]
    },
    {
     "name": "stderr",
     "output_type": "stream",
     "text": [
      "\r\n",
      "Normal id_00:  73%|█████████████████████████████████████████████▊                 | 731/1006 [00:38<00:15, 17.43it/s]"
     ]
    },
    {
     "name": "stderr",
     "output_type": "stream",
     "text": [
      "\r\n",
      "Normal id_00:  73%|█████████████████████████████████████████████▉                 | 734/1006 [00:38<00:14, 18.81it/s]"
     ]
    },
    {
     "name": "stderr",
     "output_type": "stream",
     "text": [
      "\r\n",
      "Normal id_00:  73%|██████████████████████████████████████████████▏                | 737/1006 [00:38<00:13, 19.76it/s]"
     ]
    },
    {
     "name": "stderr",
     "output_type": "stream",
     "text": [
      "\r\n",
      "Normal id_00:  74%|██████████████████████████████████████████████▎                | 740/1006 [00:39<00:12, 20.59it/s]"
     ]
    },
    {
     "name": "stderr",
     "output_type": "stream",
     "text": [
      "\r\n",
      "Normal id_00:  74%|██████████████████████████████████████████████▌                | 743/1006 [00:39<00:13, 20.13it/s]"
     ]
    },
    {
     "name": "stderr",
     "output_type": "stream",
     "text": [
      "\r\n",
      "Normal id_00:  74%|██████████████████████████████████████████████▋                | 746/1006 [00:39<00:13, 19.30it/s]"
     ]
    },
    {
     "name": "stderr",
     "output_type": "stream",
     "text": [
      "\r\n",
      "Normal id_00:  74%|██████████████████████████████████████████████▉                | 749/1006 [00:39<00:12, 20.11it/s]"
     ]
    },
    {
     "name": "stderr",
     "output_type": "stream",
     "text": [
      "\r\n",
      "Normal id_00:  75%|███████████████████████████████████████████████                | 752/1006 [00:39<00:13, 19.49it/s]"
     ]
    },
    {
     "name": "stderr",
     "output_type": "stream",
     "text": [
      "\r\n",
      "Normal id_00:  75%|███████████████████████████████████████████████▎               | 755/1006 [00:39<00:12, 20.28it/s]"
     ]
    },
    {
     "name": "stderr",
     "output_type": "stream",
     "text": [
      "\r\n",
      "Normal id_00:  75%|███████████████████████████████████████████████▍               | 758/1006 [00:39<00:12, 20.10it/s]"
     ]
    },
    {
     "name": "stderr",
     "output_type": "stream",
     "text": [
      "\r\n",
      "Normal id_00:  76%|███████████████████████████████████████████████▋               | 761/1006 [00:40<00:12, 19.88it/s]"
     ]
    },
    {
     "name": "stderr",
     "output_type": "stream",
     "text": [
      "\r\n",
      "Normal id_00:  76%|███████████████████████████████████████████████▊               | 764/1006 [00:40<00:12, 19.72it/s]"
     ]
    },
    {
     "name": "stderr",
     "output_type": "stream",
     "text": [
      "\r\n",
      "Normal id_00:  76%|████████████████████████████████████████████████               | 767/1006 [00:40<00:11, 19.97it/s]"
     ]
    },
    {
     "name": "stderr",
     "output_type": "stream",
     "text": [
      "\r\n",
      "Normal id_00:  77%|████████████████████████████████████████████████▏              | 770/1006 [00:40<00:12, 19.05it/s]"
     ]
    },
    {
     "name": "stderr",
     "output_type": "stream",
     "text": [
      "\r\n",
      "Normal id_00:  77%|████████████████████████████████████████████████▍              | 773/1006 [00:40<00:11, 19.77it/s]"
     ]
    },
    {
     "name": "stderr",
     "output_type": "stream",
     "text": [
      "\r\n",
      "Normal id_00:  77%|████████████████████████████████████████████████▌              | 776/1006 [00:40<00:11, 19.94it/s]"
     ]
    },
    {
     "name": "stderr",
     "output_type": "stream",
     "text": [
      "\r\n",
      "Normal id_00:  77%|████████████████████████████████████████████████▊              | 779/1006 [00:41<00:11, 20.13it/s]"
     ]
    },
    {
     "name": "stderr",
     "output_type": "stream",
     "text": [
      "\r\n",
      "Normal id_00:  78%|████████████████████████████████████████████████▉              | 782/1006 [00:41<00:11, 19.99it/s]"
     ]
    },
    {
     "name": "stderr",
     "output_type": "stream",
     "text": [
      "\r\n",
      "Normal id_00:  78%|█████████████████████████████████████████████████▏             | 785/1006 [00:41<00:10, 20.10it/s]"
     ]
    },
    {
     "name": "stderr",
     "output_type": "stream",
     "text": [
      "\r\n",
      "Normal id_00:  78%|█████████████████████████████████████████████████▎             | 788/1006 [00:41<00:10, 19.89it/s]"
     ]
    },
    {
     "name": "stderr",
     "output_type": "stream",
     "text": [
      "\r\n",
      "Normal id_00:  79%|█████████████████████████████████████████████████▍             | 790/1006 [00:41<00:11, 19.11it/s]"
     ]
    },
    {
     "name": "stderr",
     "output_type": "stream",
     "text": [
      "\r\n",
      "Normal id_00:  79%|█████████████████████████████████████████████████▌             | 792/1006 [00:41<00:11, 18.53it/s]"
     ]
    },
    {
     "name": "stderr",
     "output_type": "stream",
     "text": [
      "\r\n",
      "Normal id_00:  79%|█████████████████████████████████████████████████▋             | 794/1006 [00:41<00:11, 18.64it/s]"
     ]
    },
    {
     "name": "stderr",
     "output_type": "stream",
     "text": [
      "\r\n",
      "Normal id_00:  79%|█████████████████████████████████████████████████▊             | 796/1006 [00:41<00:11, 18.93it/s]"
     ]
    },
    {
     "name": "stderr",
     "output_type": "stream",
     "text": [
      "\r\n",
      "Normal id_00:  79%|█████████████████████████████████████████████████▉             | 798/1006 [00:42<00:10, 19.18it/s]"
     ]
    },
    {
     "name": "stderr",
     "output_type": "stream",
     "text": [
      "\r\n",
      "Normal id_00:  80%|██████████████████████████████████████████████████             | 800/1006 [00:42<00:10, 19.23it/s]"
     ]
    },
    {
     "name": "stderr",
     "output_type": "stream",
     "text": [
      "\r\n",
      "Normal id_00:  80%|██████████████████████████████████████████████████▏            | 802/1006 [00:42<00:11, 18.48it/s]"
     ]
    },
    {
     "name": "stderr",
     "output_type": "stream",
     "text": [
      "\r\n",
      "Normal id_00:  80%|██████████████████████████████████████████████████▍            | 805/1006 [00:42<00:10, 19.37it/s]"
     ]
    },
    {
     "name": "stderr",
     "output_type": "stream",
     "text": [
      "\r\n",
      "Normal id_00:  80%|██████████████████████████████████████████████████▌            | 808/1006 [00:42<00:09, 20.10it/s]"
     ]
    },
    {
     "name": "stderr",
     "output_type": "stream",
     "text": [
      "\r\n",
      "Normal id_00:  81%|██████████████████████████████████████████████████▋            | 810/1006 [00:42<00:10, 19.14it/s]"
     ]
    },
    {
     "name": "stderr",
     "output_type": "stream",
     "text": [
      "\r\n",
      "Normal id_00:  81%|██████████████████████████████████████████████████▊            | 812/1006 [00:42<00:10, 19.28it/s]"
     ]
    },
    {
     "name": "stderr",
     "output_type": "stream",
     "text": [
      "\r\n",
      "Normal id_00:  81%|███████████████████████████████████████████████████            | 815/1006 [00:42<00:09, 19.68it/s]"
     ]
    },
    {
     "name": "stderr",
     "output_type": "stream",
     "text": [
      "\r\n",
      "Normal id_00:  81%|███████████████████████████████████████████████████▏           | 818/1006 [00:43<00:09, 20.01it/s]"
     ]
    },
    {
     "name": "stderr",
     "output_type": "stream",
     "text": [
      "\r\n",
      "Normal id_00:  82%|███████████████████████████████████████████████████▍           | 821/1006 [00:43<00:09, 20.12it/s]"
     ]
    },
    {
     "name": "stderr",
     "output_type": "stream",
     "text": [
      "\r\n",
      "Normal id_00:  82%|███████████████████████████████████████████████████▌           | 824/1006 [00:43<00:09, 19.38it/s]"
     ]
    },
    {
     "name": "stderr",
     "output_type": "stream",
     "text": [
      "\r\n",
      "Normal id_00:  82%|███████████████████████████████████████████████████▊           | 827/1006 [00:43<00:09, 19.81it/s]"
     ]
    },
    {
     "name": "stderr",
     "output_type": "stream",
     "text": [
      "\r\n",
      "Normal id_00:  82%|███████████████████████████████████████████████████▉           | 829/1006 [00:43<00:09, 18.68it/s]"
     ]
    },
    {
     "name": "stderr",
     "output_type": "stream",
     "text": [
      "\r\n",
      "Normal id_00:  83%|████████████████████████████████████████████████████           | 832/1006 [00:43<00:08, 19.73it/s]"
     ]
    },
    {
     "name": "stderr",
     "output_type": "stream",
     "text": [
      "\r\n",
      "Normal id_00:  83%|████████████████████████████████████████████████████▎          | 835/1006 [00:43<00:08, 20.01it/s]"
     ]
    },
    {
     "name": "stderr",
     "output_type": "stream",
     "text": [
      "\r\n",
      "Normal id_00:  83%|████████████████████████████████████████████████████▍          | 837/1006 [00:44<00:08, 19.25it/s]"
     ]
    },
    {
     "name": "stderr",
     "output_type": "stream",
     "text": [
      "\r\n",
      "Normal id_00:  83%|████████████████████████████████████████████████████▌          | 839/1006 [00:44<00:08, 19.14it/s]"
     ]
    },
    {
     "name": "stderr",
     "output_type": "stream",
     "text": [
      "\r\n",
      "Normal id_00:  84%|████████████████████████████████████████████████████▋          | 842/1006 [00:44<00:08, 19.75it/s]"
     ]
    },
    {
     "name": "stderr",
     "output_type": "stream",
     "text": [
      "\r\n",
      "Normal id_00:  84%|████████████████████████████████████████████████████▊          | 844/1006 [00:44<00:08, 18.52it/s]"
     ]
    },
    {
     "name": "stderr",
     "output_type": "stream",
     "text": [
      "\r\n",
      "Normal id_00:  84%|█████████████████████████████████████████████████████          | 847/1006 [00:44<00:08, 19.11it/s]"
     ]
    },
    {
     "name": "stderr",
     "output_type": "stream",
     "text": [
      "\r\n",
      "Normal id_00:  84%|█████████████████████████████████████████████████████▏         | 849/1006 [00:44<00:08, 18.33it/s]"
     ]
    },
    {
     "name": "stderr",
     "output_type": "stream",
     "text": [
      "\r\n",
      "Normal id_00:  85%|█████████████████████████████████████████████████████▎         | 852/1006 [00:44<00:07, 19.33it/s]"
     ]
    },
    {
     "name": "stderr",
     "output_type": "stream",
     "text": [
      "\r\n",
      "Normal id_00:  85%|█████████████████████████████████████████████████████▌         | 855/1006 [00:44<00:07, 19.73it/s]"
     ]
    },
    {
     "name": "stderr",
     "output_type": "stream",
     "text": [
      "\r\n",
      "Normal id_00:  85%|█████████████████████████████████████████████████████▋         | 858/1006 [00:45<00:07, 19.79it/s]"
     ]
    },
    {
     "name": "stderr",
     "output_type": "stream",
     "text": [
      "\r\n",
      "Normal id_00:  85%|█████████████████████████████████████████████████████▊         | 860/1006 [00:45<00:07, 19.66it/s]"
     ]
    },
    {
     "name": "stderr",
     "output_type": "stream",
     "text": [
      "\r\n",
      "Normal id_00:  86%|█████████████████████████████████████████████████████▉         | 862/1006 [00:45<00:07, 19.41it/s]"
     ]
    },
    {
     "name": "stderr",
     "output_type": "stream",
     "text": [
      "\r\n",
      "Normal id_00:  86%|██████████████████████████████████████████████████████         | 864/1006 [00:45<00:07, 19.20it/s]"
     ]
    },
    {
     "name": "stderr",
     "output_type": "stream",
     "text": [
      "\r\n",
      "Normal id_00:  86%|██████████████████████████████████████████████████████▎        | 867/1006 [00:45<00:07, 19.27it/s]"
     ]
    },
    {
     "name": "stderr",
     "output_type": "stream",
     "text": [
      "\r\n",
      "Normal id_00:  86%|██████████████████████████████████████████████████████▍        | 869/1006 [00:45<00:07, 18.73it/s]"
     ]
    },
    {
     "name": "stderr",
     "output_type": "stream",
     "text": [
      "\r\n",
      "Normal id_00:  87%|██████████████████████████████████████████████████████▌        | 871/1006 [00:45<00:07, 18.94it/s]"
     ]
    },
    {
     "name": "stderr",
     "output_type": "stream",
     "text": [
      "\r\n",
      "Normal id_00:  87%|██████████████████████████████████████████████████████▋        | 874/1006 [00:45<00:06, 19.63it/s]"
     ]
    },
    {
     "name": "stderr",
     "output_type": "stream",
     "text": [
      "\r\n",
      "Normal id_00:  87%|██████████████████████████████████████████████████████▉        | 877/1006 [00:46<00:06, 20.09it/s]"
     ]
    },
    {
     "name": "stderr",
     "output_type": "stream",
     "text": [
      "\r\n",
      "Normal id_00:  87%|███████████████████████████████████████████████████████        | 879/1006 [00:46<00:06, 19.36it/s]"
     ]
    },
    {
     "name": "stderr",
     "output_type": "stream",
     "text": [
      "\r\n",
      "Normal id_00:  88%|███████████████████████████████████████████████████████▏       | 882/1006 [00:46<00:06, 20.25it/s]"
     ]
    },
    {
     "name": "stderr",
     "output_type": "stream",
     "text": [
      "\r\n",
      "Normal id_00:  88%|███████████████████████████████████████████████████████▍       | 885/1006 [00:46<00:06, 19.82it/s]"
     ]
    },
    {
     "name": "stderr",
     "output_type": "stream",
     "text": [
      "\r\n",
      "Normal id_00:  88%|███████████████████████████████████████████████████████▌       | 887/1006 [00:46<00:06, 18.59it/s]"
     ]
    },
    {
     "name": "stderr",
     "output_type": "stream",
     "text": [
      "\r\n",
      "Normal id_00:  88%|███████████████████████████████████████████████████████▋       | 890/1006 [00:46<00:05, 19.38it/s]"
     ]
    },
    {
     "name": "stderr",
     "output_type": "stream",
     "text": [
      "\r\n",
      "Normal id_00:  89%|███████████████████████████████████████████████████████▉       | 893/1006 [00:46<00:05, 20.00it/s]"
     ]
    },
    {
     "name": "stderr",
     "output_type": "stream",
     "text": [
      "\r\n",
      "Normal id_00:  89%|████████████████████████████████████████████████████████       | 895/1006 [00:47<00:05, 19.78it/s]"
     ]
    },
    {
     "name": "stderr",
     "output_type": "stream",
     "text": [
      "\r\n",
      "Normal id_00:  89%|████████████████████████████████████████████████████████▏      | 898/1006 [00:47<00:05, 19.68it/s]"
     ]
    },
    {
     "name": "stderr",
     "output_type": "stream",
     "text": [
      "\r\n",
      "Normal id_00:  89%|████████████████████████████████████████████████████████▎      | 900/1006 [00:47<00:05, 19.44it/s]"
     ]
    },
    {
     "name": "stderr",
     "output_type": "stream",
     "text": [
      "\r\n",
      "Normal id_00:  90%|████████████████████████████████████████████████████████▍      | 902/1006 [00:47<00:05, 18.32it/s]"
     ]
    },
    {
     "name": "stderr",
     "output_type": "stream",
     "text": [
      "\r\n",
      "Normal id_00:  90%|████████████████████████████████████████████████████████▋      | 905/1006 [00:47<00:05, 19.41it/s]"
     ]
    },
    {
     "name": "stderr",
     "output_type": "stream",
     "text": [
      "\r\n",
      "Normal id_00:  90%|████████████████████████████████████████████████████████▊      | 907/1006 [00:47<00:05, 18.66it/s]"
     ]
    },
    {
     "name": "stderr",
     "output_type": "stream",
     "text": [
      "\r\n",
      "Normal id_00:  90%|████████████████████████████████████████████████████████▉      | 909/1006 [00:47<00:05, 18.77it/s]"
     ]
    },
    {
     "name": "stderr",
     "output_type": "stream",
     "text": [
      "\r\n",
      "Normal id_00:  91%|█████████████████████████████████████████████████████████      | 912/1006 [00:47<00:04, 19.60it/s]"
     ]
    },
    {
     "name": "stderr",
     "output_type": "stream",
     "text": [
      "\r\n",
      "Normal id_00:  91%|█████████████████████████████████████████████████████████▏     | 914/1006 [00:48<00:04, 19.15it/s]"
     ]
    },
    {
     "name": "stderr",
     "output_type": "stream",
     "text": [
      "\r\n",
      "Normal id_00:  91%|█████████████████████████████████████████████████████████▍     | 917/1006 [00:48<00:04, 20.12it/s]"
     ]
    },
    {
     "name": "stderr",
     "output_type": "stream",
     "text": [
      "\r\n",
      "Normal id_00:  91%|█████████████████████████████████████████████████████████▌     | 920/1006 [00:48<00:04, 20.36it/s]"
     ]
    },
    {
     "name": "stderr",
     "output_type": "stream",
     "text": [
      "\r\n",
      "Normal id_00:  92%|█████████████████████████████████████████████████████████▊     | 923/1006 [00:48<00:04, 20.56it/s]"
     ]
    },
    {
     "name": "stderr",
     "output_type": "stream",
     "text": [
      "\r\n",
      "Normal id_00:  92%|█████████████████████████████████████████████████████████▉     | 926/1006 [00:48<00:04, 19.82it/s]"
     ]
    },
    {
     "name": "stderr",
     "output_type": "stream",
     "text": [
      "\r\n",
      "Normal id_00:  92%|██████████████████████████████████████████████████████████     | 928/1006 [00:48<00:03, 19.61it/s]"
     ]
    },
    {
     "name": "stderr",
     "output_type": "stream",
     "text": [
      "\r\n",
      "Normal id_00:  92%|██████████████████████████████████████████████████████████▏    | 930/1006 [00:48<00:03, 19.27it/s]"
     ]
    },
    {
     "name": "stderr",
     "output_type": "stream",
     "text": [
      "\r\n",
      "Normal id_00:  93%|██████████████████████████████████████████████████████████▎    | 932/1006 [00:48<00:03, 19.33it/s]"
     ]
    },
    {
     "name": "stderr",
     "output_type": "stream",
     "text": [
      "\r\n",
      "Normal id_00:  93%|██████████████████████████████████████████████████████████▍    | 934/1006 [00:49<00:03, 18.70it/s]"
     ]
    },
    {
     "name": "stderr",
     "output_type": "stream",
     "text": [
      "\r\n",
      "Normal id_00:  93%|██████████████████████████████████████████████████████████▌    | 936/1006 [00:49<00:03, 18.92it/s]"
     ]
    },
    {
     "name": "stderr",
     "output_type": "stream",
     "text": [
      "\r\n",
      "Normal id_00:  93%|██████████████████████████████████████████████████████████▋    | 938/1006 [00:49<00:03, 18.67it/s]"
     ]
    },
    {
     "name": "stderr",
     "output_type": "stream",
     "text": [
      "\r\n",
      "Normal id_00:  94%|██████████████████████████████████████████████████████████▉    | 941/1006 [00:49<00:03, 19.89it/s]"
     ]
    },
    {
     "name": "stderr",
     "output_type": "stream",
     "text": [
      "\r\n",
      "Normal id_00:  94%|███████████████████████████████████████████████████████████    | 944/1006 [00:49<00:02, 20.70it/s]"
     ]
    },
    {
     "name": "stderr",
     "output_type": "stream",
     "text": [
      "\r\n",
      "Normal id_00:  94%|███████████████████████████████████████████████████████████▎   | 947/1006 [00:49<00:02, 20.05it/s]"
     ]
    },
    {
     "name": "stderr",
     "output_type": "stream",
     "text": [
      "\r\n",
      "Normal id_00:  94%|███████████████████████████████████████████████████████████▍   | 950/1006 [00:49<00:02, 19.14it/s]"
     ]
    },
    {
     "name": "stderr",
     "output_type": "stream",
     "text": [
      "\r\n",
      "Normal id_00:  95%|███████████████████████████████████████████████████████████▋   | 953/1006 [00:50<00:02, 19.70it/s]"
     ]
    },
    {
     "name": "stderr",
     "output_type": "stream",
     "text": [
      "\r\n",
      "Normal id_00:  95%|███████████████████████████████████████████████████████████▊   | 955/1006 [00:50<00:02, 19.63it/s]"
     ]
    },
    {
     "name": "stderr",
     "output_type": "stream",
     "text": [
      "\r\n",
      "Normal id_00:  95%|███████████████████████████████████████████████████████████▉   | 957/1006 [00:50<00:02, 18.92it/s]"
     ]
    },
    {
     "name": "stderr",
     "output_type": "stream",
     "text": [
      "\r\n",
      "Normal id_00:  95%|████████████████████████████████████████████████████████████   | 959/1006 [00:50<00:02, 18.03it/s]"
     ]
    },
    {
     "name": "stderr",
     "output_type": "stream",
     "text": [
      "\r\n",
      "Normal id_00:  96%|████████████████████████████████████████████████████████████▏  | 962/1006 [00:50<00:02, 18.87it/s]"
     ]
    },
    {
     "name": "stderr",
     "output_type": "stream",
     "text": [
      "\r\n",
      "Normal id_00:  96%|████████████████████████████████████████████████████████████▎  | 964/1006 [00:50<00:02, 18.12it/s]"
     ]
    },
    {
     "name": "stderr",
     "output_type": "stream",
     "text": [
      "\r\n",
      "Normal id_00:  96%|████████████████████████████████████████████████████████████▍  | 966/1006 [00:50<00:02, 18.09it/s]"
     ]
    },
    {
     "name": "stderr",
     "output_type": "stream",
     "text": [
      "\r\n",
      "Normal id_00:  96%|████████████████████████████████████████████████████████████▌  | 968/1006 [00:50<00:02, 17.72it/s]"
     ]
    },
    {
     "name": "stderr",
     "output_type": "stream",
     "text": [
      "\r\n",
      "Normal id_00:  97%|████████████████████████████████████████████████████████████▊  | 971/1006 [00:51<00:01, 18.72it/s]"
     ]
    },
    {
     "name": "stderr",
     "output_type": "stream",
     "text": [
      "\r\n",
      "Normal id_00:  97%|████████████████████████████████████████████████████████████▉  | 973/1006 [00:51<00:01, 17.67it/s]"
     ]
    },
    {
     "name": "stderr",
     "output_type": "stream",
     "text": [
      "\r\n",
      "Normal id_00:  97%|█████████████████████████████████████████████████████████████  | 975/1006 [00:51<00:01, 16.48it/s]"
     ]
    },
    {
     "name": "stderr",
     "output_type": "stream",
     "text": [
      "\r\n",
      "Normal id_00:  97%|█████████████████████████████████████████████████████████████▏ | 977/1006 [00:51<00:01, 16.88it/s]"
     ]
    },
    {
     "name": "stderr",
     "output_type": "stream",
     "text": [
      "\r\n",
      "Normal id_00:  97%|█████████████████████████████████████████████████████████████▎ | 980/1006 [00:51<00:01, 18.33it/s]"
     ]
    },
    {
     "name": "stderr",
     "output_type": "stream",
     "text": [
      "\r\n",
      "Normal id_00:  98%|█████████████████████████████████████████████████████████████▍ | 982/1006 [00:51<00:01, 17.86it/s]"
     ]
    },
    {
     "name": "stderr",
     "output_type": "stream",
     "text": [
      "\r\n",
      "Normal id_00:  98%|█████████████████████████████████████████████████████████████▋ | 985/1006 [00:51<00:01, 18.86it/s]"
     ]
    },
    {
     "name": "stderr",
     "output_type": "stream",
     "text": [
      "\r\n",
      "Normal id_00:  98%|█████████████████████████████████████████████████████████████▊ | 987/1006 [00:51<00:01, 18.97it/s]"
     ]
    },
    {
     "name": "stderr",
     "output_type": "stream",
     "text": [
      "\r\n",
      "Normal id_00:  98%|█████████████████████████████████████████████████████████████▉ | 989/1006 [00:52<00:00, 18.91it/s]"
     ]
    },
    {
     "name": "stderr",
     "output_type": "stream",
     "text": [
      "\r\n",
      "Normal id_00:  99%|██████████████████████████████████████████████████████████████ | 991/1006 [00:52<00:00, 19.07it/s]"
     ]
    },
    {
     "name": "stderr",
     "output_type": "stream",
     "text": [
      "\r\n",
      "Normal id_00:  99%|██████████████████████████████████████████████████████████████▏| 993/1006 [00:52<00:00, 19.30it/s]"
     ]
    },
    {
     "name": "stderr",
     "output_type": "stream",
     "text": [
      "\r\n",
      "Normal id_00:  99%|██████████████████████████████████████████████████████████████▎| 995/1006 [00:52<00:00, 18.82it/s]"
     ]
    },
    {
     "name": "stderr",
     "output_type": "stream",
     "text": [
      "\r\n",
      "Normal id_00:  99%|██████████████████████████████████████████████████████████████▍| 997/1006 [00:52<00:00, 18.75it/s]"
     ]
    },
    {
     "name": "stderr",
     "output_type": "stream",
     "text": [
      "\r\n",
      "Normal id_00:  99%|██████████████████████████████████████████████████████████████▌| 999/1006 [00:52<00:00, 18.91it/s]"
     ]
    },
    {
     "name": "stderr",
     "output_type": "stream",
     "text": [
      "\r\n",
      "Normal id_00: 100%|█████████████████████████████████████████████████████████████▋| 1001/1006 [00:52<00:00, 17.63it/s]"
     ]
    },
    {
     "name": "stderr",
     "output_type": "stream",
     "text": [
      "\r\n",
      "Normal id_00: 100%|█████████████████████████████████████████████████████████████▉| 1004/1006 [00:52<00:00, 19.19it/s]"
     ]
    },
    {
     "name": "stderr",
     "output_type": "stream",
     "text": [
      "\r\n",
      "Normal id_00: 100%|██████████████████████████████████████████████████████████████| 1006/1006 [00:52<00:00, 19.02it/s]"
     ]
    },
    {
     "name": "stderr",
     "output_type": "stream",
     "text": [
      "\n"
     ]
    },
    {
     "name": "stdout",
     "output_type": "stream",
     "text": [
      "Processing 143 abnormal files for id_00...\n"
     ]
    },
    {
     "name": "stderr",
     "output_type": "stream",
     "text": [
      "\r\n",
      "Abnormal id_00:   0%|                                                                        | 0/143 [00:00<?, ?it/s]"
     ]
    },
    {
     "name": "stderr",
     "output_type": "stream",
     "text": [
      "\r\n",
      "Abnormal id_00:   2%|█▎                                                              | 3/143 [00:00<00:06, 21.87it/s]"
     ]
    },
    {
     "name": "stderr",
     "output_type": "stream",
     "text": [
      "\r\n",
      "Abnormal id_00:   4%|██▋                                                             | 6/143 [00:00<00:06, 21.14it/s]"
     ]
    },
    {
     "name": "stderr",
     "output_type": "stream",
     "text": [
      "\r\n",
      "Abnormal id_00:   6%|████                                                            | 9/143 [00:00<00:06, 20.78it/s]"
     ]
    },
    {
     "name": "stderr",
     "output_type": "stream",
     "text": [
      "\r\n",
      "Abnormal id_00:   8%|█████▎                                                         | 12/143 [00:00<00:06, 20.51it/s]"
     ]
    },
    {
     "name": "stderr",
     "output_type": "stream",
     "text": [
      "\r\n",
      "Abnormal id_00:  10%|██████▌                                                        | 15/143 [00:00<00:06, 19.27it/s]"
     ]
    },
    {
     "name": "stderr",
     "output_type": "stream",
     "text": [
      "\r\n",
      "Abnormal id_00:  13%|███████▉                                                       | 18/143 [00:00<00:06, 19.80it/s]"
     ]
    },
    {
     "name": "stderr",
     "output_type": "stream",
     "text": [
      "\r\n",
      "Abnormal id_00:  15%|█████████▎                                                     | 21/143 [00:01<00:06, 19.81it/s]"
     ]
    },
    {
     "name": "stderr",
     "output_type": "stream",
     "text": [
      "\r\n",
      "Abnormal id_00:  17%|██████████▌                                                    | 24/143 [00:01<00:05, 20.37it/s]"
     ]
    },
    {
     "name": "stderr",
     "output_type": "stream",
     "text": [
      "\r\n",
      "Abnormal id_00:  19%|███████████▉                                                   | 27/143 [00:01<00:05, 20.50it/s]"
     ]
    },
    {
     "name": "stderr",
     "output_type": "stream",
     "text": [
      "\r\n",
      "Abnormal id_00:  21%|█████████████▏                                                 | 30/143 [00:01<00:05, 20.26it/s]"
     ]
    },
    {
     "name": "stderr",
     "output_type": "stream",
     "text": [
      "\r\n",
      "Abnormal id_00:  23%|██████████████▌                                                | 33/143 [00:01<00:05, 20.14it/s]"
     ]
    },
    {
     "name": "stderr",
     "output_type": "stream",
     "text": [
      "\r\n",
      "Abnormal id_00:  25%|███████████████▊                                               | 36/143 [00:01<00:05, 19.58it/s]"
     ]
    },
    {
     "name": "stderr",
     "output_type": "stream",
     "text": [
      "\r\n",
      "Abnormal id_00:  27%|█████████████████▏                                             | 39/143 [00:01<00:05, 20.04it/s]"
     ]
    },
    {
     "name": "stderr",
     "output_type": "stream",
     "text": [
      "\r\n",
      "Abnormal id_00:  29%|██████████████████▌                                            | 42/143 [00:02<00:04, 20.64it/s]"
     ]
    },
    {
     "name": "stderr",
     "output_type": "stream",
     "text": [
      "\r\n",
      "Abnormal id_00:  31%|███████████████████▊                                           | 45/143 [00:02<00:04, 21.09it/s]"
     ]
    },
    {
     "name": "stderr",
     "output_type": "stream",
     "text": [
      "\r\n",
      "Abnormal id_00:  34%|█████████████████████▏                                         | 48/143 [00:02<00:04, 20.43it/s]"
     ]
    },
    {
     "name": "stderr",
     "output_type": "stream",
     "text": [
      "\r\n",
      "Abnormal id_00:  36%|██████████████████████▍                                        | 51/143 [00:02<00:04, 20.00it/s]"
     ]
    },
    {
     "name": "stderr",
     "output_type": "stream",
     "text": [
      "\r\n",
      "Abnormal id_00:  38%|███████████████████████▊                                       | 54/143 [00:02<00:04, 19.93it/s]"
     ]
    },
    {
     "name": "stderr",
     "output_type": "stream",
     "text": [
      "\r\n",
      "Abnormal id_00:  39%|████████████████████████▋                                      | 56/143 [00:02<00:04, 19.29it/s]"
     ]
    },
    {
     "name": "stderr",
     "output_type": "stream",
     "text": [
      "\r\n",
      "Abnormal id_00:  41%|█████████████████████████▉                                     | 59/143 [00:02<00:04, 19.77it/s]"
     ]
    },
    {
     "name": "stderr",
     "output_type": "stream",
     "text": [
      "\r\n",
      "Abnormal id_00:  43%|███████████████████████████▎                                   | 62/143 [00:03<00:04, 20.12it/s]"
     ]
    },
    {
     "name": "stderr",
     "output_type": "stream",
     "text": [
      "\r\n",
      "Abnormal id_00:  45%|████████████████████████████▋                                  | 65/143 [00:03<00:03, 19.74it/s]"
     ]
    },
    {
     "name": "stderr",
     "output_type": "stream",
     "text": [
      "\r\n",
      "Abnormal id_00:  47%|█████████████████████████████▌                                 | 67/143 [00:03<00:03, 19.61it/s]"
     ]
    },
    {
     "name": "stderr",
     "output_type": "stream",
     "text": [
      "\r\n",
      "Abnormal id_00:  49%|██████████████████████████████▊                                | 70/143 [00:03<00:03, 19.60it/s]"
     ]
    },
    {
     "name": "stderr",
     "output_type": "stream",
     "text": [
      "\r\n",
      "Abnormal id_00:  50%|███████████████████████████████▋                               | 72/143 [00:03<00:03, 18.40it/s]"
     ]
    },
    {
     "name": "stderr",
     "output_type": "stream",
     "text": [
      "\r\n",
      "Abnormal id_00:  52%|████████████████████████████████▌                              | 74/143 [00:03<00:03, 18.67it/s]"
     ]
    },
    {
     "name": "stderr",
     "output_type": "stream",
     "text": [
      "\r\n",
      "Abnormal id_00:  53%|█████████████████████████████████▍                             | 76/143 [00:03<00:03, 18.50it/s]"
     ]
    },
    {
     "name": "stderr",
     "output_type": "stream",
     "text": [
      "\r\n",
      "Abnormal id_00:  55%|██████████████████████████████████▊                            | 79/143 [00:03<00:03, 19.52it/s]"
     ]
    },
    {
     "name": "stderr",
     "output_type": "stream",
     "text": [
      "\r\n",
      "Abnormal id_00:  57%|███████████████████████████████████▋                           | 81/143 [00:04<00:03, 19.37it/s]"
     ]
    },
    {
     "name": "stderr",
     "output_type": "stream",
     "text": [
      "\r\n",
      "Abnormal id_00:  59%|█████████████████████████████████████                          | 84/143 [00:04<00:02, 20.31it/s]"
     ]
    },
    {
     "name": "stderr",
     "output_type": "stream",
     "text": [
      "\r\n",
      "Abnormal id_00:  61%|██████████████████████████████████████▎                        | 87/143 [00:04<00:03, 18.42it/s]"
     ]
    },
    {
     "name": "stderr",
     "output_type": "stream",
     "text": [
      "\r\n",
      "Abnormal id_00:  62%|███████████████████████████████████████▏                       | 89/143 [00:04<00:03, 17.53it/s]"
     ]
    },
    {
     "name": "stderr",
     "output_type": "stream",
     "text": [
      "\r\n",
      "Abnormal id_00:  64%|████████████████████████████████████████                       | 91/143 [00:04<00:02, 18.11it/s]"
     ]
    },
    {
     "name": "stderr",
     "output_type": "stream",
     "text": [
      "\r\n",
      "Abnormal id_00:  65%|████████████████████████████████████████▉                      | 93/143 [00:04<00:02, 17.22it/s]"
     ]
    },
    {
     "name": "stderr",
     "output_type": "stream",
     "text": [
      "\r\n",
      "Abnormal id_00:  67%|██████████████████████████████████████████▎                    | 96/143 [00:04<00:02, 18.33it/s]"
     ]
    },
    {
     "name": "stderr",
     "output_type": "stream",
     "text": [
      "\r\n",
      "Abnormal id_00:  69%|███████████████████████████████████████████▌                   | 99/143 [00:05<00:02, 19.11it/s]"
     ]
    },
    {
     "name": "stderr",
     "output_type": "stream",
     "text": [
      "\r\n",
      "Abnormal id_00:  71%|███████████████████████████████████████████▊                  | 101/143 [00:05<00:02, 18.80it/s]"
     ]
    },
    {
     "name": "stderr",
     "output_type": "stream",
     "text": [
      "\r\n",
      "Abnormal id_00:  72%|████████████████████████████████████████████▋                 | 103/143 [00:05<00:02, 18.95it/s]"
     ]
    },
    {
     "name": "stderr",
     "output_type": "stream",
     "text": [
      "\r\n",
      "Abnormal id_00:  73%|█████████████████████████████████████████████▌                | 105/143 [00:05<00:02, 18.62it/s]"
     ]
    },
    {
     "name": "stderr",
     "output_type": "stream",
     "text": [
      "\r\n",
      "Abnormal id_00:  75%|██████████████████████████████████████████████▍               | 107/143 [00:05<00:01, 18.26it/s]"
     ]
    },
    {
     "name": "stderr",
     "output_type": "stream",
     "text": [
      "\r\n",
      "Abnormal id_00:  76%|███████████████████████████████████████████████▎              | 109/143 [00:05<00:02, 16.68it/s]"
     ]
    },
    {
     "name": "stderr",
     "output_type": "stream",
     "text": [
      "\r\n",
      "Abnormal id_00:  78%|████████████████████████████████████████████████▏             | 111/143 [00:05<00:02, 15.24it/s]"
     ]
    },
    {
     "name": "stderr",
     "output_type": "stream",
     "text": [
      "\r\n",
      "Abnormal id_00:  79%|████████████████████████████████████████████████▉             | 113/143 [00:05<00:01, 15.25it/s]"
     ]
    },
    {
     "name": "stderr",
     "output_type": "stream",
     "text": [
      "\r\n",
      "Abnormal id_00:  81%|██████████████████████████████████████████████████▎           | 116/143 [00:06<00:01, 17.15it/s]"
     ]
    },
    {
     "name": "stderr",
     "output_type": "stream",
     "text": [
      "\r\n",
      "Abnormal id_00:  83%|███████████████████████████████████████████████████▌          | 119/143 [00:06<00:01, 18.17it/s]"
     ]
    },
    {
     "name": "stderr",
     "output_type": "stream",
     "text": [
      "\r\n",
      "Abnormal id_00:  85%|████████████████████████████████████████████████████▉         | 122/143 [00:06<00:01, 19.03it/s]"
     ]
    },
    {
     "name": "stderr",
     "output_type": "stream",
     "text": [
      "\r\n",
      "Abnormal id_00:  87%|██████████████████████████████████████████████████████▏       | 125/143 [00:06<00:00, 19.50it/s]"
     ]
    },
    {
     "name": "stderr",
     "output_type": "stream",
     "text": [
      "\r\n",
      "Abnormal id_00:  89%|███████████████████████████████████████████████████████       | 127/143 [00:06<00:00, 19.61it/s]"
     ]
    },
    {
     "name": "stderr",
     "output_type": "stream",
     "text": [
      "\r\n",
      "Abnormal id_00:  90%|███████████████████████████████████████████████████████▉      | 129/143 [00:06<00:00, 18.77it/s]"
     ]
    },
    {
     "name": "stderr",
     "output_type": "stream",
     "text": [
      "\r\n",
      "Abnormal id_00:  92%|████████████████████████████████████████████████████████▊     | 131/143 [00:06<00:00, 18.35it/s]"
     ]
    },
    {
     "name": "stderr",
     "output_type": "stream",
     "text": [
      "\r\n",
      "Abnormal id_00:  94%|██████████████████████████████████████████████████████████    | 134/143 [00:07<00:00, 18.85it/s]"
     ]
    },
    {
     "name": "stderr",
     "output_type": "stream",
     "text": [
      "\r\n",
      "Abnormal id_00:  95%|██████████████████████████████████████████████████████████▉   | 136/143 [00:07<00:00, 18.99it/s]"
     ]
    },
    {
     "name": "stderr",
     "output_type": "stream",
     "text": [
      "\r\n",
      "Abnormal id_00:  97%|███████████████████████████████████████████████████████████▊  | 138/143 [00:07<00:00, 19.09it/s]"
     ]
    },
    {
     "name": "stderr",
     "output_type": "stream",
     "text": [
      "\r\n",
      "Abnormal id_00:  99%|█████████████████████████████████████████████████████████████▏| 141/143 [00:07<00:00, 19.60it/s]"
     ]
    },
    {
     "name": "stderr",
     "output_type": "stream",
     "text": [
      "\r\n",
      "Abnormal id_00: 100%|██████████████████████████████████████████████████████████████| 143/143 [00:07<00:00, 18.74it/s]"
     ]
    },
    {
     "name": "stderr",
     "output_type": "stream",
     "text": [
      "\r\n",
      "Abnormal id_00: 100%|██████████████████████████████████████████████████████████████| 143/143 [00:07<00:00, 19.13it/s]"
     ]
    },
    {
     "name": "stderr",
     "output_type": "stream",
     "text": [
      "\n"
     ]
    },
    {
     "name": "stdout",
     "output_type": "stream",
     "text": [
      "Processing 1005 normal files for id_02...\n"
     ]
    },
    {
     "name": "stderr",
     "output_type": "stream",
     "text": [
      "\r\n",
      "Normal id_02:   0%|                                                                         | 0/1005 [00:00<?, ?it/s]"
     ]
    },
    {
     "name": "stderr",
     "output_type": "stream",
     "text": [
      "\r\n",
      "Normal id_02:   0%|▏                                                                | 2/1005 [00:00<00:50, 19.98it/s]"
     ]
    },
    {
     "name": "stderr",
     "output_type": "stream",
     "text": [
      "\r\n",
      "Normal id_02:   0%|▎                                                                | 4/1005 [00:00<00:52, 19.05it/s]"
     ]
    },
    {
     "name": "stderr",
     "output_type": "stream",
     "text": [
      "\r\n",
      "Normal id_02:   1%|▍                                                                | 6/1005 [00:00<01:00, 16.59it/s]"
     ]
    },
    {
     "name": "stderr",
     "output_type": "stream",
     "text": [
      "\r\n",
      "Normal id_02:   1%|▌                                                                | 8/1005 [00:00<00:57, 17.46it/s]"
     ]
    },
    {
     "name": "stderr",
     "output_type": "stream",
     "text": [
      "\r\n",
      "Normal id_02:   1%|▋                                                               | 11/1005 [00:00<00:55, 17.87it/s]"
     ]
    },
    {
     "name": "stderr",
     "output_type": "stream",
     "text": [
      "\r\n",
      "Normal id_02:   1%|▊                                                               | 13/1005 [00:00<00:55, 18.01it/s]"
     ]
    },
    {
     "name": "stderr",
     "output_type": "stream",
     "text": [
      "\r\n",
      "Normal id_02:   1%|▉                                                               | 15/1005 [00:00<00:53, 18.48it/s]"
     ]
    },
    {
     "name": "stderr",
     "output_type": "stream",
     "text": [
      "\r\n",
      "Normal id_02:   2%|█                                                               | 17/1005 [00:00<00:54, 18.09it/s]"
     ]
    },
    {
     "name": "stderr",
     "output_type": "stream",
     "text": [
      "\r\n",
      "Normal id_02:   2%|█▏                                                              | 19/1005 [00:01<00:54, 18.12it/s]"
     ]
    },
    {
     "name": "stderr",
     "output_type": "stream",
     "text": [
      "\r\n",
      "Normal id_02:   2%|█▎                                                              | 21/1005 [00:01<00:54, 18.03it/s]"
     ]
    },
    {
     "name": "stderr",
     "output_type": "stream",
     "text": [
      "\r\n",
      "Normal id_02:   2%|█▍                                                              | 23/1005 [00:01<00:52, 18.53it/s]"
     ]
    },
    {
     "name": "stderr",
     "output_type": "stream",
     "text": [
      "\r\n",
      "Normal id_02:   3%|█▋                                                              | 26/1005 [00:01<00:51, 19.09it/s]"
     ]
    },
    {
     "name": "stderr",
     "output_type": "stream",
     "text": [
      "\r\n",
      "Normal id_02:   3%|█▊                                                              | 29/1005 [00:01<00:49, 19.92it/s]"
     ]
    },
    {
     "name": "stderr",
     "output_type": "stream",
     "text": [
      "\r\n",
      "Normal id_02:   3%|██                                                              | 32/1005 [00:01<00:48, 20.00it/s]"
     ]
    },
    {
     "name": "stderr",
     "output_type": "stream",
     "text": [
      "\r\n",
      "Normal id_02:   3%|██▏                                                             | 35/1005 [00:01<00:48, 20.13it/s]"
     ]
    },
    {
     "name": "stderr",
     "output_type": "stream",
     "text": [
      "\r\n",
      "Normal id_02:   4%|██▍                                                             | 38/1005 [00:01<00:48, 20.12it/s]"
     ]
    },
    {
     "name": "stderr",
     "output_type": "stream",
     "text": [
      "\r\n",
      "Normal id_02:   4%|██▌                                                             | 41/1005 [00:02<00:48, 19.85it/s]"
     ]
    },
    {
     "name": "stderr",
     "output_type": "stream",
     "text": [
      "\r\n",
      "Normal id_02:   4%|██▋                                                             | 43/1005 [00:02<00:51, 18.76it/s]"
     ]
    },
    {
     "name": "stderr",
     "output_type": "stream",
     "text": [
      "\r\n",
      "Normal id_02:   5%|██▉                                                             | 46/1005 [00:02<00:48, 19.75it/s]"
     ]
    },
    {
     "name": "stderr",
     "output_type": "stream",
     "text": [
      "\r\n",
      "Normal id_02:   5%|███                                                             | 49/1005 [00:02<00:46, 20.57it/s]"
     ]
    },
    {
     "name": "stderr",
     "output_type": "stream",
     "text": [
      "\r\n",
      "Normal id_02:   5%|███▎                                                            | 52/1005 [00:02<00:46, 20.65it/s]"
     ]
    },
    {
     "name": "stderr",
     "output_type": "stream",
     "text": [
      "\r\n",
      "Normal id_02:   5%|███▌                                                            | 55/1005 [00:02<00:46, 20.54it/s]"
     ]
    },
    {
     "name": "stderr",
     "output_type": "stream",
     "text": [
      "\r\n",
      "Normal id_02:   6%|███▋                                                            | 58/1005 [00:02<00:45, 20.76it/s]"
     ]
    },
    {
     "name": "stderr",
     "output_type": "stream",
     "text": [
      "\r\n",
      "Normal id_02:   6%|███▉                                                            | 61/1005 [00:03<00:46, 20.22it/s]"
     ]
    },
    {
     "name": "stderr",
     "output_type": "stream",
     "text": [
      "\r\n",
      "Normal id_02:   6%|████                                                            | 64/1005 [00:03<00:49, 18.96it/s]"
     ]
    },
    {
     "name": "stderr",
     "output_type": "stream",
     "text": [
      "\r\n",
      "Normal id_02:   7%|████▎                                                           | 67/1005 [00:03<00:47, 19.62it/s]"
     ]
    },
    {
     "name": "stderr",
     "output_type": "stream",
     "text": [
      "\r\n",
      "Normal id_02:   7%|████▍                                                           | 70/1005 [00:03<00:46, 20.04it/s]"
     ]
    },
    {
     "name": "stderr",
     "output_type": "stream",
     "text": [
      "\r\n",
      "Normal id_02:   7%|████▋                                                           | 73/1005 [00:03<00:45, 20.67it/s]"
     ]
    },
    {
     "name": "stderr",
     "output_type": "stream",
     "text": [
      "\r\n",
      "Normal id_02:   8%|████▊                                                           | 76/1005 [00:03<00:43, 21.59it/s]"
     ]
    },
    {
     "name": "stderr",
     "output_type": "stream",
     "text": [
      "\r\n",
      "Normal id_02:   8%|█████                                                           | 79/1005 [00:04<00:43, 21.12it/s]"
     ]
    },
    {
     "name": "stderr",
     "output_type": "stream",
     "text": [
      "\r\n",
      "Normal id_02:   8%|█████▏                                                          | 82/1005 [00:04<00:43, 21.16it/s]"
     ]
    },
    {
     "name": "stderr",
     "output_type": "stream",
     "text": [
      "\r\n",
      "Normal id_02:   8%|█████▍                                                          | 85/1005 [00:04<00:45, 20.02it/s]"
     ]
    },
    {
     "name": "stderr",
     "output_type": "stream",
     "text": [
      "\r\n",
      "Normal id_02:   9%|█████▌                                                          | 88/1005 [00:04<00:44, 20.55it/s]"
     ]
    },
    {
     "name": "stderr",
     "output_type": "stream",
     "text": [
      "\r\n",
      "Normal id_02:   9%|█████▊                                                          | 91/1005 [00:04<00:43, 20.95it/s]"
     ]
    },
    {
     "name": "stderr",
     "output_type": "stream",
     "text": [
      "\r\n",
      "Normal id_02:   9%|█████▉                                                          | 94/1005 [00:04<00:45, 20.03it/s]"
     ]
    },
    {
     "name": "stderr",
     "output_type": "stream",
     "text": [
      "\r\n",
      "Normal id_02:  10%|██████▏                                                         | 97/1005 [00:04<00:44, 20.24it/s]"
     ]
    },
    {
     "name": "stderr",
     "output_type": "stream",
     "text": [
      "\r\n",
      "Normal id_02:  10%|██████▎                                                        | 100/1005 [00:05<00:43, 20.60it/s]"
     ]
    },
    {
     "name": "stderr",
     "output_type": "stream",
     "text": [
      "\r\n",
      "Normal id_02:  10%|██████▍                                                        | 103/1005 [00:05<00:43, 20.88it/s]"
     ]
    },
    {
     "name": "stderr",
     "output_type": "stream",
     "text": [
      "\r\n",
      "Normal id_02:  11%|██████▋                                                        | 106/1005 [00:05<00:45, 19.86it/s]"
     ]
    },
    {
     "name": "stderr",
     "output_type": "stream",
     "text": [
      "\r\n",
      "Normal id_02:  11%|██████▊                                                        | 109/1005 [00:05<00:44, 20.24it/s]"
     ]
    },
    {
     "name": "stderr",
     "output_type": "stream",
     "text": [
      "\r\n",
      "Normal id_02:  11%|███████                                                        | 112/1005 [00:05<00:43, 20.37it/s]"
     ]
    },
    {
     "name": "stderr",
     "output_type": "stream",
     "text": [
      "\r\n",
      "Normal id_02:  11%|███████▏                                                       | 115/1005 [00:05<00:43, 20.63it/s]"
     ]
    },
    {
     "name": "stderr",
     "output_type": "stream",
     "text": [
      "\r\n",
      "Normal id_02:  12%|███████▍                                                       | 118/1005 [00:05<00:42, 20.78it/s]"
     ]
    },
    {
     "name": "stderr",
     "output_type": "stream",
     "text": [
      "\r\n",
      "Normal id_02:  12%|███████▌                                                       | 121/1005 [00:06<00:41, 21.19it/s]"
     ]
    },
    {
     "name": "stderr",
     "output_type": "stream",
     "text": [
      "\r\n",
      "Normal id_02:  12%|███████▊                                                       | 124/1005 [00:06<00:42, 20.87it/s]"
     ]
    },
    {
     "name": "stderr",
     "output_type": "stream",
     "text": [
      "\r\n",
      "Normal id_02:  13%|███████▉                                                       | 127/1005 [00:06<00:45, 19.11it/s]"
     ]
    },
    {
     "name": "stderr",
     "output_type": "stream",
     "text": [
      "\r\n",
      "Normal id_02:  13%|████████▏                                                      | 130/1005 [00:06<00:43, 19.94it/s]"
     ]
    },
    {
     "name": "stderr",
     "output_type": "stream",
     "text": [
      "\r\n",
      "Normal id_02:  13%|████████▎                                                      | 133/1005 [00:06<00:44, 19.66it/s]"
     ]
    },
    {
     "name": "stderr",
     "output_type": "stream",
     "text": [
      "\r\n",
      "Normal id_02:  13%|████████▍                                                      | 135/1005 [00:06<00:44, 19.64it/s]"
     ]
    },
    {
     "name": "stderr",
     "output_type": "stream",
     "text": [
      "\r\n",
      "Normal id_02:  14%|████████▌                                                      | 137/1005 [00:06<00:44, 19.52it/s]"
     ]
    },
    {
     "name": "stderr",
     "output_type": "stream",
     "text": [
      "\r\n",
      "Normal id_02:  14%|████████▋                                                      | 139/1005 [00:07<00:44, 19.34it/s]"
     ]
    },
    {
     "name": "stderr",
     "output_type": "stream",
     "text": [
      "\r\n",
      "Normal id_02:  14%|████████▊                                                      | 141/1005 [00:07<00:45, 18.83it/s]"
     ]
    },
    {
     "name": "stderr",
     "output_type": "stream",
     "text": [
      "\r\n",
      "Normal id_02:  14%|████████▉                                                      | 143/1005 [00:07<00:45, 18.81it/s]"
     ]
    },
    {
     "name": "stderr",
     "output_type": "stream",
     "text": [
      "\r\n",
      "Normal id_02:  14%|█████████                                                      | 145/1005 [00:07<00:45, 19.11it/s]"
     ]
    },
    {
     "name": "stderr",
     "output_type": "stream",
     "text": [
      "\r\n",
      "Normal id_02:  15%|█████████▏                                                     | 147/1005 [00:07<00:45, 18.72it/s]"
     ]
    },
    {
     "name": "stderr",
     "output_type": "stream",
     "text": [
      "\r\n",
      "Normal id_02:  15%|█████████▎                                                     | 149/1005 [00:07<00:45, 18.67it/s]"
     ]
    },
    {
     "name": "stderr",
     "output_type": "stream",
     "text": [
      "\r\n",
      "Normal id_02:  15%|█████████▍                                                     | 151/1005 [00:07<00:47, 18.04it/s]"
     ]
    },
    {
     "name": "stderr",
     "output_type": "stream",
     "text": [
      "\r\n",
      "Normal id_02:  15%|█████████▌                                                     | 153/1005 [00:07<00:46, 18.22it/s]"
     ]
    },
    {
     "name": "stderr",
     "output_type": "stream",
     "text": [
      "\r\n",
      "Normal id_02:  15%|█████████▋                                                     | 155/1005 [00:07<00:45, 18.49it/s]"
     ]
    },
    {
     "name": "stderr",
     "output_type": "stream",
     "text": [
      "\r\n",
      "Normal id_02:  16%|█████████▊                                                     | 157/1005 [00:07<00:45, 18.81it/s]"
     ]
    },
    {
     "name": "stderr",
     "output_type": "stream",
     "text": [
      "\r\n",
      "Normal id_02:  16%|█████████▉                                                     | 159/1005 [00:08<00:44, 19.00it/s]"
     ]
    },
    {
     "name": "stderr",
     "output_type": "stream",
     "text": [
      "\r\n",
      "Normal id_02:  16%|██████████                                                     | 161/1005 [00:08<00:44, 18.89it/s]"
     ]
    },
    {
     "name": "stderr",
     "output_type": "stream",
     "text": [
      "\r\n",
      "Normal id_02:  16%|██████████▏                                                    | 163/1005 [00:08<00:46, 18.22it/s]"
     ]
    },
    {
     "name": "stderr",
     "output_type": "stream",
     "text": [
      "\r\n",
      "Normal id_02:  16%|██████████▎                                                    | 165/1005 [00:08<00:46, 18.21it/s]"
     ]
    },
    {
     "name": "stderr",
     "output_type": "stream",
     "text": [
      "\r\n",
      "Normal id_02:  17%|██████████▌                                                    | 168/1005 [00:08<00:43, 19.10it/s]"
     ]
    },
    {
     "name": "stderr",
     "output_type": "stream",
     "text": [
      "\r\n",
      "Normal id_02:  17%|██████████▋                                                    | 171/1005 [00:08<00:42, 19.56it/s]"
     ]
    },
    {
     "name": "stderr",
     "output_type": "stream",
     "text": [
      "\r\n",
      "Normal id_02:  17%|██████████▉                                                    | 174/1005 [00:08<00:41, 19.88it/s]"
     ]
    },
    {
     "name": "stderr",
     "output_type": "stream",
     "text": [
      "\r\n",
      "Normal id_02:  18%|███████████                                                    | 177/1005 [00:09<00:41, 19.96it/s]"
     ]
    },
    {
     "name": "stderr",
     "output_type": "stream",
     "text": [
      "\r\n",
      "Normal id_02:  18%|███████████▎                                                   | 180/1005 [00:09<00:40, 20.60it/s]"
     ]
    },
    {
     "name": "stderr",
     "output_type": "stream",
     "text": [
      "\r\n",
      "Normal id_02:  18%|███████████▍                                                   | 183/1005 [00:09<00:42, 19.41it/s]"
     ]
    },
    {
     "name": "stderr",
     "output_type": "stream",
     "text": [
      "\r\n",
      "Normal id_02:  19%|███████████▋                                                   | 186/1005 [00:09<00:40, 20.09it/s]"
     ]
    },
    {
     "name": "stderr",
     "output_type": "stream",
     "text": [
      "\r\n",
      "Normal id_02:  19%|███████████▊                                                   | 189/1005 [00:09<00:39, 20.66it/s]"
     ]
    },
    {
     "name": "stderr",
     "output_type": "stream",
     "text": [
      "\r\n",
      "Normal id_02:  19%|████████████                                                   | 192/1005 [00:09<00:39, 20.35it/s]"
     ]
    },
    {
     "name": "stderr",
     "output_type": "stream",
     "text": [
      "\r\n",
      "Normal id_02:  19%|████████████▏                                                  | 195/1005 [00:09<00:39, 20.66it/s]"
     ]
    },
    {
     "name": "stderr",
     "output_type": "stream",
     "text": [
      "\r\n",
      "Normal id_02:  20%|████████████▍                                                  | 198/1005 [00:10<00:38, 21.08it/s]"
     ]
    },
    {
     "name": "stderr",
     "output_type": "stream",
     "text": [
      "\r\n",
      "Normal id_02:  20%|████████████▌                                                  | 201/1005 [00:10<00:38, 20.75it/s]"
     ]
    },
    {
     "name": "stderr",
     "output_type": "stream",
     "text": [
      "\r\n",
      "Normal id_02:  20%|████████████▊                                                  | 204/1005 [00:10<00:37, 21.15it/s]"
     ]
    },
    {
     "name": "stderr",
     "output_type": "stream",
     "text": [
      "\r\n",
      "Normal id_02:  21%|████████████▉                                                  | 207/1005 [00:10<00:37, 21.15it/s]"
     ]
    },
    {
     "name": "stderr",
     "output_type": "stream",
     "text": [
      "\r\n",
      "Normal id_02:  21%|█████████████▏                                                 | 210/1005 [00:10<00:37, 21.46it/s]"
     ]
    },
    {
     "name": "stderr",
     "output_type": "stream",
     "text": [
      "\r\n",
      "Normal id_02:  21%|█████████████▎                                                 | 213/1005 [00:10<00:36, 21.74it/s]"
     ]
    },
    {
     "name": "stderr",
     "output_type": "stream",
     "text": [
      "\r\n",
      "Normal id_02:  21%|█████████████▌                                                 | 216/1005 [00:10<00:35, 21.92it/s]"
     ]
    },
    {
     "name": "stderr",
     "output_type": "stream",
     "text": [
      "\r\n",
      "Normal id_02:  22%|█████████████▋                                                 | 219/1005 [00:10<00:36, 21.44it/s]"
     ]
    },
    {
     "name": "stderr",
     "output_type": "stream",
     "text": [
      "\r\n",
      "Normal id_02:  22%|█████████████▉                                                 | 222/1005 [00:11<00:36, 21.58it/s]"
     ]
    },
    {
     "name": "stderr",
     "output_type": "stream",
     "text": [
      "\r\n",
      "Normal id_02:  22%|██████████████                                                 | 225/1005 [00:11<00:38, 20.26it/s]"
     ]
    },
    {
     "name": "stderr",
     "output_type": "stream",
     "text": [
      "\r\n",
      "Normal id_02:  23%|██████████████▎                                                | 228/1005 [00:11<00:40, 19.24it/s]"
     ]
    },
    {
     "name": "stderr",
     "output_type": "stream",
     "text": [
      "\r\n",
      "Normal id_02:  23%|██████████████▍                                                | 231/1005 [00:11<00:38, 20.03it/s]"
     ]
    },
    {
     "name": "stderr",
     "output_type": "stream",
     "text": [
      "\r\n",
      "Normal id_02:  23%|██████████████▋                                                | 234/1005 [00:11<00:37, 20.55it/s]"
     ]
    },
    {
     "name": "stderr",
     "output_type": "stream",
     "text": [
      "\r\n",
      "Normal id_02:  24%|██████████████▊                                                | 237/1005 [00:11<00:36, 20.97it/s]"
     ]
    },
    {
     "name": "stderr",
     "output_type": "stream",
     "text": [
      "\r\n",
      "Normal id_02:  24%|███████████████                                                | 240/1005 [00:12<00:36, 21.15it/s]"
     ]
    },
    {
     "name": "stderr",
     "output_type": "stream",
     "text": [
      "\r\n",
      "Normal id_02:  24%|███████████████▏                                               | 243/1005 [00:12<00:36, 20.81it/s]"
     ]
    },
    {
     "name": "stderr",
     "output_type": "stream",
     "text": [
      "\r\n",
      "Normal id_02:  24%|███████████████▍                                               | 246/1005 [00:12<00:38, 19.78it/s]"
     ]
    },
    {
     "name": "stderr",
     "output_type": "stream",
     "text": [
      "\r\n",
      "Normal id_02:  25%|███████████████▌                                               | 248/1005 [00:12<00:39, 19.32it/s]"
     ]
    },
    {
     "name": "stderr",
     "output_type": "stream",
     "text": [
      "\r\n",
      "Normal id_02:  25%|███████████████▋                                               | 250/1005 [00:12<00:39, 19.06it/s]"
     ]
    },
    {
     "name": "stderr",
     "output_type": "stream",
     "text": [
      "\r\n",
      "Normal id_02:  25%|███████████████▊                                               | 252/1005 [00:12<00:39, 18.91it/s]"
     ]
    },
    {
     "name": "stderr",
     "output_type": "stream",
     "text": [
      "\r\n",
      "Normal id_02:  25%|███████████████▉                                               | 254/1005 [00:12<00:39, 18.93it/s]"
     ]
    },
    {
     "name": "stderr",
     "output_type": "stream",
     "text": [
      "\r\n",
      "Normal id_02:  25%|████████████████                                               | 256/1005 [00:12<00:39, 19.06it/s]"
     ]
    },
    {
     "name": "stderr",
     "output_type": "stream",
     "text": [
      "\r\n",
      "Normal id_02:  26%|████████████████▏                                              | 258/1005 [00:12<00:39, 18.68it/s]"
     ]
    },
    {
     "name": "stderr",
     "output_type": "stream",
     "text": [
      "\r\n",
      "Normal id_02:  26%|████████████████▎                                              | 260/1005 [00:13<00:40, 18.35it/s]"
     ]
    },
    {
     "name": "stderr",
     "output_type": "stream",
     "text": [
      "\r\n",
      "Normal id_02:  26%|████████████████▍                                              | 262/1005 [00:13<00:41, 17.86it/s]"
     ]
    },
    {
     "name": "stderr",
     "output_type": "stream",
     "text": [
      "\r\n",
      "Normal id_02:  26%|████████████████▌                                              | 264/1005 [00:13<00:41, 17.67it/s]"
     ]
    },
    {
     "name": "stderr",
     "output_type": "stream",
     "text": [
      "\r\n",
      "Normal id_02:  26%|████████████████▋                                              | 266/1005 [00:13<00:40, 18.05it/s]"
     ]
    },
    {
     "name": "stderr",
     "output_type": "stream",
     "text": [
      "\r\n",
      "Normal id_02:  27%|████████████████▊                                              | 269/1005 [00:13<00:37, 19.39it/s]"
     ]
    },
    {
     "name": "stderr",
     "output_type": "stream",
     "text": [
      "\r\n",
      "Normal id_02:  27%|████████████████▉                                              | 271/1005 [00:13<00:38, 19.11it/s]"
     ]
    },
    {
     "name": "stderr",
     "output_type": "stream",
     "text": [
      "\r\n",
      "Normal id_02:  27%|█████████████████▏                                             | 274/1005 [00:13<00:37, 19.72it/s]"
     ]
    },
    {
     "name": "stderr",
     "output_type": "stream",
     "text": [
      "\r\n",
      "Normal id_02:  27%|█████████████████▎                                             | 276/1005 [00:13<00:37, 19.61it/s]"
     ]
    },
    {
     "name": "stderr",
     "output_type": "stream",
     "text": [
      "\r\n",
      "Normal id_02:  28%|█████████████████▍                                             | 279/1005 [00:14<00:35, 20.48it/s]"
     ]
    },
    {
     "name": "stderr",
     "output_type": "stream",
     "text": [
      "\r\n",
      "Normal id_02:  28%|█████████████████▋                                             | 282/1005 [00:14<00:35, 20.20it/s]"
     ]
    },
    {
     "name": "stderr",
     "output_type": "stream",
     "text": [
      "\r\n",
      "Normal id_02:  28%|█████████████████▊                                             | 285/1005 [00:14<00:36, 19.82it/s]"
     ]
    },
    {
     "name": "stderr",
     "output_type": "stream",
     "text": [
      "\r\n",
      "Normal id_02:  29%|██████████████████                                             | 288/1005 [00:14<00:37, 18.98it/s]"
     ]
    },
    {
     "name": "stderr",
     "output_type": "stream",
     "text": [
      "\r\n",
      "Normal id_02:  29%|██████████████████▏                                            | 290/1005 [00:14<00:40, 17.78it/s]"
     ]
    },
    {
     "name": "stderr",
     "output_type": "stream",
     "text": [
      "\r\n",
      "Normal id_02:  29%|██████████████████▎                                            | 292/1005 [00:14<00:41, 17.36it/s]"
     ]
    },
    {
     "name": "stderr",
     "output_type": "stream",
     "text": [
      "\r\n",
      "Normal id_02:  29%|██████████████████▍                                            | 295/1005 [00:14<00:37, 18.77it/s]"
     ]
    },
    {
     "name": "stderr",
     "output_type": "stream",
     "text": [
      "\r\n",
      "Normal id_02:  30%|██████████████████▋                                            | 298/1005 [00:15<00:35, 19.71it/s]"
     ]
    },
    {
     "name": "stderr",
     "output_type": "stream",
     "text": [
      "\r\n",
      "Normal id_02:  30%|██████████████████▊                                            | 301/1005 [00:15<00:34, 20.17it/s]"
     ]
    },
    {
     "name": "stderr",
     "output_type": "stream",
     "text": [
      "\r\n",
      "Normal id_02:  30%|███████████████████                                            | 304/1005 [00:15<00:36, 19.20it/s]"
     ]
    },
    {
     "name": "stderr",
     "output_type": "stream",
     "text": [
      "\r\n",
      "Normal id_02:  31%|███████████████████▏                                           | 307/1005 [00:15<00:35, 19.56it/s]"
     ]
    },
    {
     "name": "stderr",
     "output_type": "stream",
     "text": [
      "\r\n",
      "Normal id_02:  31%|███████████████████▎                                           | 309/1005 [00:15<00:35, 19.50it/s]"
     ]
    },
    {
     "name": "stderr",
     "output_type": "stream",
     "text": [
      "\r\n",
      "Normal id_02:  31%|███████████████████▍                                           | 311/1005 [00:15<00:35, 19.54it/s]"
     ]
    },
    {
     "name": "stderr",
     "output_type": "stream",
     "text": [
      "\r\n",
      "Normal id_02:  31%|███████████████████▌                                           | 313/1005 [00:15<00:35, 19.49it/s]"
     ]
    },
    {
     "name": "stderr",
     "output_type": "stream",
     "text": [
      "\r\n",
      "Normal id_02:  31%|███████████████████▋                                           | 315/1005 [00:15<00:35, 19.25it/s]"
     ]
    },
    {
     "name": "stderr",
     "output_type": "stream",
     "text": [
      "\r\n",
      "Normal id_02:  32%|███████████████████▊                                           | 317/1005 [00:16<00:35, 19.23it/s]"
     ]
    },
    {
     "name": "stderr",
     "output_type": "stream",
     "text": [
      "\r\n",
      "Normal id_02:  32%|███████████████████▉                                           | 319/1005 [00:16<00:35, 19.34it/s]"
     ]
    },
    {
     "name": "stderr",
     "output_type": "stream",
     "text": [
      "\r\n",
      "Normal id_02:  32%|████████████████████                                           | 321/1005 [00:16<00:37, 18.17it/s]"
     ]
    },
    {
     "name": "stderr",
     "output_type": "stream",
     "text": [
      "\r\n",
      "Normal id_02:  32%|████████████████████▏                                          | 323/1005 [00:16<00:37, 18.34it/s]"
     ]
    },
    {
     "name": "stderr",
     "output_type": "stream",
     "text": [
      "\r\n",
      "Normal id_02:  32%|████████████████████▍                                          | 326/1005 [00:16<00:36, 18.38it/s]"
     ]
    },
    {
     "name": "stderr",
     "output_type": "stream",
     "text": [
      "\r\n",
      "Normal id_02:  33%|████████████████████▌                                          | 328/1005 [00:16<00:36, 18.35it/s]"
     ]
    },
    {
     "name": "stderr",
     "output_type": "stream",
     "text": [
      "\r\n",
      "Normal id_02:  33%|████████████████████▋                                          | 330/1005 [00:16<00:36, 18.57it/s]"
     ]
    },
    {
     "name": "stderr",
     "output_type": "stream",
     "text": [
      "\r\n",
      "Normal id_02:  33%|████████████████████▊                                          | 333/1005 [00:16<00:35, 19.18it/s]"
     ]
    },
    {
     "name": "stderr",
     "output_type": "stream",
     "text": [
      "\r\n",
      "Normal id_02:  33%|█████████████████████                                          | 335/1005 [00:17<00:35, 18.92it/s]"
     ]
    },
    {
     "name": "stderr",
     "output_type": "stream",
     "text": [
      "\r\n",
      "Normal id_02:  34%|█████████████████████▏                                         | 337/1005 [00:17<00:35, 19.01it/s]"
     ]
    },
    {
     "name": "stderr",
     "output_type": "stream",
     "text": [
      "\r\n",
      "Normal id_02:  34%|█████████████████████▎                                         | 339/1005 [00:17<00:36, 18.16it/s]"
     ]
    },
    {
     "name": "stderr",
     "output_type": "stream",
     "text": [
      "\r\n",
      "Normal id_02:  34%|█████████████████████▍                                         | 341/1005 [00:17<00:35, 18.55it/s]"
     ]
    },
    {
     "name": "stderr",
     "output_type": "stream",
     "text": [
      "\r\n",
      "Normal id_02:  34%|█████████████████████▌                                         | 344/1005 [00:17<00:33, 19.75it/s]"
     ]
    },
    {
     "name": "stderr",
     "output_type": "stream",
     "text": [
      "\r\n",
      "Normal id_02:  35%|█████████████████████▊                                         | 347/1005 [00:17<00:32, 20.11it/s]"
     ]
    },
    {
     "name": "stderr",
     "output_type": "stream",
     "text": [
      "\r\n",
      "Normal id_02:  35%|█████████████████████▉                                         | 349/1005 [00:17<00:32, 20.03it/s]"
     ]
    },
    {
     "name": "stderr",
     "output_type": "stream",
     "text": [
      "\r\n",
      "Normal id_02:  35%|██████████████████████                                         | 352/1005 [00:17<00:32, 20.19it/s]"
     ]
    },
    {
     "name": "stderr",
     "output_type": "stream",
     "text": [
      "\r\n",
      "Normal id_02:  35%|██████████████████████▎                                        | 355/1005 [00:18<00:32, 20.21it/s]"
     ]
    },
    {
     "name": "stderr",
     "output_type": "stream",
     "text": [
      "\r\n",
      "Normal id_02:  36%|██████████████████████▍                                        | 358/1005 [00:18<00:31, 20.28it/s]"
     ]
    },
    {
     "name": "stderr",
     "output_type": "stream",
     "text": [
      "\r\n",
      "Normal id_02:  36%|██████████████████████▋                                        | 361/1005 [00:18<00:33, 19.21it/s]"
     ]
    },
    {
     "name": "stderr",
     "output_type": "stream",
     "text": [
      "\r\n",
      "Normal id_02:  36%|██████████████████████▊                                        | 364/1005 [00:18<00:32, 19.54it/s]"
     ]
    },
    {
     "name": "stderr",
     "output_type": "stream",
     "text": [
      "\r\n",
      "Normal id_02:  37%|███████████████████████                                        | 367/1005 [00:18<00:31, 20.29it/s]"
     ]
    },
    {
     "name": "stderr",
     "output_type": "stream",
     "text": [
      "\r\n",
      "Normal id_02:  37%|███████████████████████▏                                       | 370/1005 [00:18<00:30, 20.58it/s]"
     ]
    },
    {
     "name": "stderr",
     "output_type": "stream",
     "text": [
      "\r\n",
      "Normal id_02:  37%|███████████████████████▍                                       | 373/1005 [00:18<00:33, 18.65it/s]"
     ]
    },
    {
     "name": "stderr",
     "output_type": "stream",
     "text": [
      "\r\n",
      "Normal id_02:  37%|███████████████████████▌                                       | 375/1005 [00:19<00:33, 18.64it/s]"
     ]
    },
    {
     "name": "stderr",
     "output_type": "stream",
     "text": [
      "\r\n",
      "Normal id_02:  38%|███████████████████████▋                                       | 377/1005 [00:19<00:34, 18.13it/s]"
     ]
    },
    {
     "name": "stderr",
     "output_type": "stream",
     "text": [
      "\r\n",
      "Normal id_02:  38%|███████████████████████▊                                       | 380/1005 [00:19<00:34, 18.25it/s]"
     ]
    },
    {
     "name": "stderr",
     "output_type": "stream",
     "text": [
      "\r\n",
      "Normal id_02:  38%|████████████████████████                                       | 383/1005 [00:19<00:33, 18.78it/s]"
     ]
    },
    {
     "name": "stderr",
     "output_type": "stream",
     "text": [
      "\r\n",
      "Normal id_02:  38%|████████████████████████▏                                      | 386/1005 [00:19<00:31, 19.78it/s]"
     ]
    },
    {
     "name": "stderr",
     "output_type": "stream",
     "text": [
      "\r\n",
      "Normal id_02:  39%|████████████████████████▍                                      | 389/1005 [00:19<00:31, 19.86it/s]"
     ]
    },
    {
     "name": "stderr",
     "output_type": "stream",
     "text": [
      "\r\n",
      "Normal id_02:  39%|████████████████████████▌                                      | 392/1005 [00:19<00:30, 20.25it/s]"
     ]
    },
    {
     "name": "stderr",
     "output_type": "stream",
     "text": [
      "\r\n",
      "Normal id_02:  39%|████████████████████████▊                                      | 395/1005 [00:20<00:31, 19.44it/s]"
     ]
    },
    {
     "name": "stderr",
     "output_type": "stream",
     "text": [
      "\r\n",
      "Normal id_02:  40%|████████████████████████▉                                      | 397/1005 [00:20<00:31, 19.20it/s]"
     ]
    },
    {
     "name": "stderr",
     "output_type": "stream",
     "text": [
      "\r\n",
      "Normal id_02:  40%|█████████████████████████                                      | 399/1005 [00:20<00:33, 18.36it/s]"
     ]
    },
    {
     "name": "stderr",
     "output_type": "stream",
     "text": [
      "\r\n",
      "Normal id_02:  40%|█████████████████████████▏                                     | 402/1005 [00:20<00:31, 19.21it/s]"
     ]
    },
    {
     "name": "stderr",
     "output_type": "stream",
     "text": [
      "\r\n",
      "Normal id_02:  40%|█████████████████████████▍                                     | 405/1005 [00:20<00:30, 19.55it/s]"
     ]
    },
    {
     "name": "stderr",
     "output_type": "stream",
     "text": [
      "\r\n",
      "Normal id_02:  40%|█████████████████████████▌                                     | 407/1005 [00:20<00:30, 19.61it/s]"
     ]
    },
    {
     "name": "stderr",
     "output_type": "stream",
     "text": [
      "\r\n",
      "Normal id_02:  41%|█████████████████████████▋                                     | 410/1005 [00:20<00:30, 19.83it/s]"
     ]
    },
    {
     "name": "stderr",
     "output_type": "stream",
     "text": [
      "\r\n",
      "Normal id_02:  41%|█████████████████████████▉                                     | 413/1005 [00:21<00:29, 20.19it/s]"
     ]
    },
    {
     "name": "stderr",
     "output_type": "stream",
     "text": [
      "\r\n",
      "Normal id_02:  41%|██████████████████████████                                     | 416/1005 [00:21<00:29, 19.83it/s]"
     ]
    },
    {
     "name": "stderr",
     "output_type": "stream",
     "text": [
      "\r\n",
      "Normal id_02:  42%|██████████████████████████▏                                    | 418/1005 [00:21<00:31, 18.42it/s]"
     ]
    },
    {
     "name": "stderr",
     "output_type": "stream",
     "text": [
      "\r\n",
      "Normal id_02:  42%|██████████████████████████▍                                    | 421/1005 [00:21<00:30, 19.10it/s]"
     ]
    },
    {
     "name": "stderr",
     "output_type": "stream",
     "text": [
      "\r\n",
      "Normal id_02:  42%|██████████████████████████▌                                    | 423/1005 [00:21<00:30, 19.04it/s]"
     ]
    },
    {
     "name": "stderr",
     "output_type": "stream",
     "text": [
      "\r\n",
      "Normal id_02:  42%|██████████████████████████▋                                    | 426/1005 [00:21<00:29, 19.44it/s]"
     ]
    },
    {
     "name": "stderr",
     "output_type": "stream",
     "text": [
      "\r\n",
      "Normal id_02:  43%|██████████████████████████▊                                    | 428/1005 [00:21<00:29, 19.55it/s]"
     ]
    },
    {
     "name": "stderr",
     "output_type": "stream",
     "text": [
      "\r\n",
      "Normal id_02:  43%|██████████████████████████▉                                    | 430/1005 [00:21<00:29, 19.46it/s]"
     ]
    },
    {
     "name": "stderr",
     "output_type": "stream",
     "text": [
      "\r\n",
      "Normal id_02:  43%|███████████████████████████                                    | 432/1005 [00:22<00:29, 19.41it/s]"
     ]
    },
    {
     "name": "stderr",
     "output_type": "stream",
     "text": [
      "\r\n",
      "Normal id_02:  43%|███████████████████████████▏                                   | 434/1005 [00:22<00:29, 19.15it/s]"
     ]
    },
    {
     "name": "stderr",
     "output_type": "stream",
     "text": [
      "\r\n",
      "Normal id_02:  43%|███████████████████████████▎                                   | 436/1005 [00:22<00:29, 19.22it/s]"
     ]
    },
    {
     "name": "stderr",
     "output_type": "stream",
     "text": [
      "\r\n",
      "Normal id_02:  44%|███████████████████████████▍                                   | 438/1005 [00:22<00:29, 19.25it/s]"
     ]
    },
    {
     "name": "stderr",
     "output_type": "stream",
     "text": [
      "\r\n",
      "Normal id_02:  44%|███████████████████████████▋                                   | 441/1005 [00:22<00:28, 19.81it/s]"
     ]
    },
    {
     "name": "stderr",
     "output_type": "stream",
     "text": [
      "\r\n",
      "Normal id_02:  44%|███████████████████████████▊                                   | 444/1005 [00:22<00:27, 20.39it/s]"
     ]
    },
    {
     "name": "stderr",
     "output_type": "stream",
     "text": [
      "\r\n",
      "Normal id_02:  44%|████████████████████████████                                   | 447/1005 [00:22<00:27, 20.53it/s]"
     ]
    },
    {
     "name": "stderr",
     "output_type": "stream",
     "text": [
      "\r\n",
      "Normal id_02:  45%|████████████████████████████▏                                  | 450/1005 [00:22<00:26, 21.00it/s]"
     ]
    },
    {
     "name": "stderr",
     "output_type": "stream",
     "text": [
      "\r\n",
      "Normal id_02:  45%|████████████████████████████▍                                  | 453/1005 [00:23<00:26, 20.66it/s]"
     ]
    },
    {
     "name": "stderr",
     "output_type": "stream",
     "text": [
      "\r\n",
      "Normal id_02:  45%|████████████████████████████▌                                  | 456/1005 [00:23<00:27, 20.28it/s]"
     ]
    },
    {
     "name": "stderr",
     "output_type": "stream",
     "text": [
      "\r\n",
      "Normal id_02:  46%|████████████████████████████▊                                  | 459/1005 [00:23<00:27, 19.68it/s]"
     ]
    },
    {
     "name": "stderr",
     "output_type": "stream",
     "text": [
      "\r\n",
      "Normal id_02:  46%|████████████████████████████▉                                  | 461/1005 [00:23<00:30, 17.92it/s]"
     ]
    },
    {
     "name": "stderr",
     "output_type": "stream",
     "text": [
      "\r\n",
      "Normal id_02:  46%|█████████████████████████████                                  | 463/1005 [00:23<00:30, 17.86it/s]"
     ]
    },
    {
     "name": "stderr",
     "output_type": "stream",
     "text": [
      "\r\n",
      "Normal id_02:  46%|█████████████████████████████▏                                 | 465/1005 [00:23<00:30, 17.83it/s]"
     ]
    },
    {
     "name": "stderr",
     "output_type": "stream",
     "text": [
      "\r\n",
      "Normal id_02:  47%|█████████████████████████████▎                                 | 468/1005 [00:23<00:28, 18.78it/s]"
     ]
    },
    {
     "name": "stderr",
     "output_type": "stream",
     "text": [
      "\r\n",
      "Normal id_02:  47%|█████████████████████████████▍                                 | 470/1005 [00:23<00:28, 18.80it/s]"
     ]
    },
    {
     "name": "stderr",
     "output_type": "stream",
     "text": [
      "\r\n",
      "Normal id_02:  47%|█████████████████████████████▌                                 | 472/1005 [00:24<00:28, 18.94it/s]"
     ]
    },
    {
     "name": "stderr",
     "output_type": "stream",
     "text": [
      "\r\n",
      "Normal id_02:  47%|█████████████████████████████▋                                 | 474/1005 [00:24<00:28, 18.95it/s]"
     ]
    },
    {
     "name": "stderr",
     "output_type": "stream",
     "text": [
      "\r\n",
      "Normal id_02:  47%|█████████████████████████████▊                                 | 476/1005 [00:24<00:27, 18.95it/s]"
     ]
    },
    {
     "name": "stderr",
     "output_type": "stream",
     "text": [
      "\r\n",
      "Normal id_02:  48%|█████████████████████████████▉                                 | 478/1005 [00:24<00:28, 18.71it/s]"
     ]
    },
    {
     "name": "stderr",
     "output_type": "stream",
     "text": [
      "\r\n",
      "Normal id_02:  48%|██████████████████████████████▏                                | 481/1005 [00:24<00:26, 19.95it/s]"
     ]
    },
    {
     "name": "stderr",
     "output_type": "stream",
     "text": [
      "\r\n",
      "Normal id_02:  48%|██████████████████████████████▎                                | 483/1005 [00:24<00:26, 19.78it/s]"
     ]
    },
    {
     "name": "stderr",
     "output_type": "stream",
     "text": [
      "\r\n",
      "Normal id_02:  48%|██████████████████████████████▍                                | 485/1005 [00:24<00:27, 19.21it/s]"
     ]
    },
    {
     "name": "stderr",
     "output_type": "stream",
     "text": [
      "\r\n",
      "Normal id_02:  48%|██████████████████████████████▌                                | 487/1005 [00:24<00:26, 19.38it/s]"
     ]
    },
    {
     "name": "stderr",
     "output_type": "stream",
     "text": [
      "\r\n",
      "Normal id_02:  49%|██████████████████████████████▋                                | 490/1005 [00:25<00:26, 19.64it/s]"
     ]
    },
    {
     "name": "stderr",
     "output_type": "stream",
     "text": [
      "\r\n",
      "Normal id_02:  49%|██████████████████████████████▉                                | 493/1005 [00:25<00:25, 20.10it/s]"
     ]
    },
    {
     "name": "stderr",
     "output_type": "stream",
     "text": [
      "\r\n",
      "Normal id_02:  49%|███████████████████████████████                                | 496/1005 [00:25<00:24, 20.54it/s]"
     ]
    },
    {
     "name": "stderr",
     "output_type": "stream",
     "text": [
      "\r\n",
      "Normal id_02:  50%|███████████████████████████████▎                               | 499/1005 [00:25<00:25, 20.14it/s]"
     ]
    },
    {
     "name": "stderr",
     "output_type": "stream",
     "text": [
      "\r\n",
      "Normal id_02:  50%|███████████████████████████████▍                               | 502/1005 [00:25<00:25, 19.97it/s]"
     ]
    },
    {
     "name": "stderr",
     "output_type": "stream",
     "text": [
      "\r\n",
      "Normal id_02:  50%|███████████████████████████████▌                               | 504/1005 [00:25<00:25, 19.87it/s]"
     ]
    },
    {
     "name": "stderr",
     "output_type": "stream",
     "text": [
      "\r\n",
      "Normal id_02:  50%|███████████████████████████████▋                               | 506/1005 [00:25<00:25, 19.65it/s]"
     ]
    },
    {
     "name": "stderr",
     "output_type": "stream",
     "text": [
      "\r\n",
      "Normal id_02:  51%|███████████████████████████████▊                               | 508/1005 [00:25<00:25, 19.57it/s]"
     ]
    },
    {
     "name": "stderr",
     "output_type": "stream",
     "text": [
      "\r\n",
      "Normal id_02:  51%|███████████████████████████████▉                               | 510/1005 [00:26<00:25, 19.48it/s]"
     ]
    },
    {
     "name": "stderr",
     "output_type": "stream",
     "text": [
      "\r\n",
      "Normal id_02:  51%|████████████████████████████████▏                              | 513/1005 [00:26<00:24, 20.04it/s]"
     ]
    },
    {
     "name": "stderr",
     "output_type": "stream",
     "text": [
      "\r\n",
      "Normal id_02:  51%|████████████████████████████████▎                              | 515/1005 [00:26<00:25, 19.10it/s]"
     ]
    },
    {
     "name": "stderr",
     "output_type": "stream",
     "text": [
      "\r\n",
      "Normal id_02:  52%|████████████████████████████████▍                              | 518/1005 [00:26<00:24, 19.76it/s]"
     ]
    },
    {
     "name": "stderr",
     "output_type": "stream",
     "text": [
      "\r\n",
      "Normal id_02:  52%|████████████████████████████████▋                              | 521/1005 [00:26<00:24, 19.97it/s]"
     ]
    },
    {
     "name": "stderr",
     "output_type": "stream",
     "text": [
      "\r\n",
      "Normal id_02:  52%|████████████████████████████████▊                              | 523/1005 [00:26<00:25, 19.00it/s]"
     ]
    },
    {
     "name": "stderr",
     "output_type": "stream",
     "text": [
      "\r\n",
      "Normal id_02:  52%|████████████████████████████████▉                              | 526/1005 [00:26<00:24, 19.81it/s]"
     ]
    },
    {
     "name": "stderr",
     "output_type": "stream",
     "text": [
      "\r\n",
      "Normal id_02:  53%|█████████████████████████████████▏                             | 529/1005 [00:26<00:23, 20.29it/s]"
     ]
    },
    {
     "name": "stderr",
     "output_type": "stream",
     "text": [
      "\r\n",
      "Normal id_02:  53%|█████████████████████████████████▎                             | 532/1005 [00:27<00:23, 19.78it/s]"
     ]
    },
    {
     "name": "stderr",
     "output_type": "stream",
     "text": [
      "\r\n",
      "Normal id_02:  53%|█████████████████████████████████▍                             | 534/1005 [00:27<00:24, 19.62it/s]"
     ]
    },
    {
     "name": "stderr",
     "output_type": "stream",
     "text": [
      "\r\n",
      "Normal id_02:  53%|█████████████████████████████████▌                             | 536/1005 [00:27<00:23, 19.61it/s]"
     ]
    },
    {
     "name": "stderr",
     "output_type": "stream",
     "text": [
      "\r\n",
      "Normal id_02:  54%|█████████████████████████████████▋                             | 538/1005 [00:27<00:24, 19.17it/s]"
     ]
    },
    {
     "name": "stderr",
     "output_type": "stream",
     "text": [
      "\r\n",
      "Normal id_02:  54%|█████████████████████████████████▉                             | 541/1005 [00:27<00:23, 19.92it/s]"
     ]
    },
    {
     "name": "stderr",
     "output_type": "stream",
     "text": [
      "\r\n",
      "Normal id_02:  54%|██████████████████████████████████                             | 544/1005 [00:27<00:22, 20.10it/s]"
     ]
    },
    {
     "name": "stderr",
     "output_type": "stream",
     "text": [
      "\r\n",
      "Normal id_02:  54%|██████████████████████████████████▎                            | 547/1005 [00:27<00:22, 20.20it/s]"
     ]
    },
    {
     "name": "stderr",
     "output_type": "stream",
     "text": [
      "\r\n",
      "Normal id_02:  55%|██████████████████████████████████▍                            | 550/1005 [00:28<00:22, 20.17it/s]"
     ]
    },
    {
     "name": "stderr",
     "output_type": "stream",
     "text": [
      "\r\n",
      "Normal id_02:  55%|██████████████████████████████████▋                            | 553/1005 [00:28<00:22, 20.10it/s]"
     ]
    },
    {
     "name": "stderr",
     "output_type": "stream",
     "text": [
      "\r\n",
      "Normal id_02:  55%|██████████████████████████████████▊                            | 556/1005 [00:28<00:23, 19.15it/s]"
     ]
    },
    {
     "name": "stderr",
     "output_type": "stream",
     "text": [
      "\r\n",
      "Normal id_02:  56%|███████████████████████████████████                            | 559/1005 [00:28<00:22, 19.93it/s]"
     ]
    },
    {
     "name": "stderr",
     "output_type": "stream",
     "text": [
      "\r\n",
      "Normal id_02:  56%|███████████████████████████████████▏                           | 562/1005 [00:28<00:22, 19.62it/s]"
     ]
    },
    {
     "name": "stderr",
     "output_type": "stream",
     "text": [
      "\r\n",
      "Normal id_02:  56%|███████████████████████████████████▍                           | 565/1005 [00:28<00:22, 19.60it/s]"
     ]
    },
    {
     "name": "stderr",
     "output_type": "stream",
     "text": [
      "\r\n",
      "Normal id_02:  57%|███████████████████████████████████▌                           | 568/1005 [00:28<00:21, 19.89it/s]"
     ]
    },
    {
     "name": "stderr",
     "output_type": "stream",
     "text": [
      "\r\n",
      "Normal id_02:  57%|███████████████████████████████████▋                           | 570/1005 [00:29<00:21, 19.79it/s]"
     ]
    },
    {
     "name": "stderr",
     "output_type": "stream",
     "text": [
      "\r\n",
      "Normal id_02:  57%|███████████████████████████████████▊                           | 572/1005 [00:29<00:21, 19.75it/s]"
     ]
    },
    {
     "name": "stderr",
     "output_type": "stream",
     "text": [
      "\r\n",
      "Normal id_02:  57%|███████████████████████████████████▉                           | 574/1005 [00:29<00:22, 19.22it/s]"
     ]
    },
    {
     "name": "stderr",
     "output_type": "stream",
     "text": [
      "\r\n",
      "Normal id_02:  57%|████████████████████████████████████                           | 576/1005 [00:29<00:22, 19.30it/s]"
     ]
    },
    {
     "name": "stderr",
     "output_type": "stream",
     "text": [
      "\r\n",
      "Normal id_02:  58%|████████████████████████████████████▏                          | 578/1005 [00:29<00:22, 19.37it/s]"
     ]
    },
    {
     "name": "stderr",
     "output_type": "stream",
     "text": [
      "\r\n",
      "Normal id_02:  58%|████████████████████████████████████▎                          | 580/1005 [00:29<00:21, 19.32it/s]"
     ]
    },
    {
     "name": "stderr",
     "output_type": "stream",
     "text": [
      "\r\n",
      "Normal id_02:  58%|████████████████████████████████████▍                          | 582/1005 [00:29<00:21, 19.36it/s]"
     ]
    },
    {
     "name": "stderr",
     "output_type": "stream",
     "text": [
      "\r\n",
      "Normal id_02:  58%|████████████████████████████████████▋                          | 585/1005 [00:29<00:20, 20.45it/s]"
     ]
    },
    {
     "name": "stderr",
     "output_type": "stream",
     "text": [
      "\r\n",
      "Normal id_02:  59%|████████████████████████████████████▊                          | 588/1005 [00:29<00:20, 19.96it/s]"
     ]
    },
    {
     "name": "stderr",
     "output_type": "stream",
     "text": [
      "\r\n",
      "Normal id_02:  59%|████████████████████████████████████▉                          | 590/1005 [00:30<00:20, 19.80it/s]"
     ]
    },
    {
     "name": "stderr",
     "output_type": "stream",
     "text": [
      "\r\n",
      "Normal id_02:  59%|█████████████████████████████████████                          | 592/1005 [00:30<00:21, 19.53it/s]"
     ]
    },
    {
     "name": "stderr",
     "output_type": "stream",
     "text": [
      "\r\n",
      "Normal id_02:  59%|█████████████████████████████████████▏                         | 594/1005 [00:30<00:21, 18.87it/s]"
     ]
    },
    {
     "name": "stderr",
     "output_type": "stream",
     "text": [
      "\r\n",
      "Normal id_02:  59%|█████████████████████████████████████▍                         | 597/1005 [00:30<00:20, 19.50it/s]"
     ]
    },
    {
     "name": "stderr",
     "output_type": "stream",
     "text": [
      "\r\n",
      "Normal id_02:  60%|█████████████████████████████████████▌                         | 600/1005 [00:30<00:20, 20.16it/s]"
     ]
    },
    {
     "name": "stderr",
     "output_type": "stream",
     "text": [
      "\r\n",
      "Normal id_02:  60%|█████████████████████████████████████▊                         | 603/1005 [00:30<00:19, 20.14it/s]"
     ]
    },
    {
     "name": "stderr",
     "output_type": "stream",
     "text": [
      "\r\n",
      "Normal id_02:  60%|█████████████████████████████████████▉                         | 606/1005 [00:30<00:19, 20.08it/s]"
     ]
    },
    {
     "name": "stderr",
     "output_type": "stream",
     "text": [
      "\r\n",
      "Normal id_02:  61%|██████████████████████████████████████▏                        | 609/1005 [00:31<00:20, 19.50it/s]"
     ]
    },
    {
     "name": "stderr",
     "output_type": "stream",
     "text": [
      "\r\n",
      "Normal id_02:  61%|██████████████████████████████████████▎                        | 611/1005 [00:31<00:20, 19.25it/s]"
     ]
    },
    {
     "name": "stderr",
     "output_type": "stream",
     "text": [
      "\r\n",
      "Normal id_02:  61%|██████████████████████████████████████▍                        | 613/1005 [00:31<00:21, 18.34it/s]"
     ]
    },
    {
     "name": "stderr",
     "output_type": "stream",
     "text": [
      "\r\n",
      "Normal id_02:  61%|██████████████████████████████████████▌                        | 616/1005 [00:31<00:20, 18.99it/s]"
     ]
    },
    {
     "name": "stderr",
     "output_type": "stream",
     "text": [
      "\r\n",
      "Normal id_02:  62%|██████████████████████████████████████▊                        | 619/1005 [00:31<00:19, 19.47it/s]"
     ]
    },
    {
     "name": "stderr",
     "output_type": "stream",
     "text": [
      "\r\n",
      "Normal id_02:  62%|██████████████████████████████████████▉                        | 621/1005 [00:31<00:19, 19.51it/s]"
     ]
    },
    {
     "name": "stderr",
     "output_type": "stream",
     "text": [
      "\r\n",
      "Normal id_02:  62%|███████████████████████████████████████                        | 623/1005 [00:31<00:19, 19.52it/s]"
     ]
    },
    {
     "name": "stderr",
     "output_type": "stream",
     "text": [
      "\r\n",
      "Normal id_02:  62%|███████████████████████████████████████▏                       | 625/1005 [00:31<00:19, 19.49it/s]"
     ]
    },
    {
     "name": "stderr",
     "output_type": "stream",
     "text": [
      "\r\n",
      "Normal id_02:  62%|███████████████████████████████████████▎                       | 628/1005 [00:32<00:18, 20.01it/s]"
     ]
    },
    {
     "name": "stderr",
     "output_type": "stream",
     "text": [
      "\r\n",
      "Normal id_02:  63%|███████████████████████████████████████▌                       | 631/1005 [00:32<00:18, 20.28it/s]"
     ]
    },
    {
     "name": "stderr",
     "output_type": "stream",
     "text": [
      "\r\n",
      "Normal id_02:  63%|███████████████████████████████████████▋                       | 634/1005 [00:32<00:18, 19.71it/s]"
     ]
    },
    {
     "name": "stderr",
     "output_type": "stream",
     "text": [
      "\r\n",
      "Normal id_02:  63%|███████████████████████████████████████▉                       | 637/1005 [00:32<00:18, 20.06it/s]"
     ]
    },
    {
     "name": "stderr",
     "output_type": "stream",
     "text": [
      "\r\n",
      "Normal id_02:  64%|████████████████████████████████████████                       | 640/1005 [00:32<00:18, 20.00it/s]"
     ]
    },
    {
     "name": "stderr",
     "output_type": "stream",
     "text": [
      "\r\n",
      "Normal id_02:  64%|████████████████████████████████████████▎                      | 643/1005 [00:32<00:17, 20.11it/s]"
     ]
    },
    {
     "name": "stderr",
     "output_type": "stream",
     "text": [
      "\r\n",
      "Normal id_02:  64%|████████████████████████████████████████▍                      | 646/1005 [00:32<00:18, 19.66it/s]"
     ]
    },
    {
     "name": "stderr",
     "output_type": "stream",
     "text": [
      "\r\n",
      "Normal id_02:  64%|████████████████████████████████████████▌                      | 648/1005 [00:33<00:18, 19.40it/s]"
     ]
    },
    {
     "name": "stderr",
     "output_type": "stream",
     "text": [
      "\r\n",
      "Normal id_02:  65%|████████████████████████████████████████▊                      | 651/1005 [00:33<00:17, 20.25it/s]"
     ]
    },
    {
     "name": "stderr",
     "output_type": "stream",
     "text": [
      "\r\n",
      "Normal id_02:  65%|████████████████████████████████████████▉                      | 654/1005 [00:33<00:18, 19.42it/s]"
     ]
    },
    {
     "name": "stderr",
     "output_type": "stream",
     "text": [
      "\r\n",
      "Normal id_02:  65%|█████████████████████████████████████████▏                     | 657/1005 [00:33<00:17, 20.09it/s]"
     ]
    },
    {
     "name": "stderr",
     "output_type": "stream",
     "text": [
      "\r\n",
      "Normal id_02:  66%|█████████████████████████████████████████▎                     | 660/1005 [00:33<00:17, 19.78it/s]"
     ]
    },
    {
     "name": "stderr",
     "output_type": "stream",
     "text": [
      "\r\n",
      "Normal id_02:  66%|█████████████████████████████████████████▌                     | 663/1005 [00:33<00:16, 20.17it/s]"
     ]
    },
    {
     "name": "stderr",
     "output_type": "stream",
     "text": [
      "\r\n",
      "Normal id_02:  66%|█████████████████████████████████████████▋                     | 666/1005 [00:33<00:16, 20.17it/s]"
     ]
    },
    {
     "name": "stderr",
     "output_type": "stream",
     "text": [
      "\r\n",
      "Normal id_02:  67%|█████████████████████████████████████████▉                     | 669/1005 [00:34<00:16, 20.16it/s]"
     ]
    },
    {
     "name": "stderr",
     "output_type": "stream",
     "text": [
      "\r\n",
      "Normal id_02:  67%|██████████████████████████████████████████▏                    | 672/1005 [00:34<00:16, 20.09it/s]"
     ]
    },
    {
     "name": "stderr",
     "output_type": "stream",
     "text": [
      "\r\n",
      "Normal id_02:  67%|██████████████████████████████████████████▎                    | 675/1005 [00:34<00:16, 19.62it/s]"
     ]
    },
    {
     "name": "stderr",
     "output_type": "stream",
     "text": [
      "\r\n",
      "Normal id_02:  67%|██████████████████████████████████████████▌                    | 678/1005 [00:34<00:16, 20.25it/s]"
     ]
    },
    {
     "name": "stderr",
     "output_type": "stream",
     "text": [
      "\r\n",
      "Normal id_02:  68%|██████████████████████████████████████████▋                    | 681/1005 [00:34<00:15, 20.55it/s]"
     ]
    },
    {
     "name": "stderr",
     "output_type": "stream",
     "text": [
      "\r\n",
      "Normal id_02:  68%|██████████████████████████████████████████▉                    | 684/1005 [00:34<00:15, 20.81it/s]"
     ]
    },
    {
     "name": "stderr",
     "output_type": "stream",
     "text": [
      "\r\n",
      "Normal id_02:  68%|███████████████████████████████████████████                    | 687/1005 [00:34<00:15, 21.14it/s]"
     ]
    },
    {
     "name": "stderr",
     "output_type": "stream",
     "text": [
      "\r\n",
      "Normal id_02:  69%|███████████████████████████████████████████▎                   | 690/1005 [00:35<00:15, 20.88it/s]"
     ]
    },
    {
     "name": "stderr",
     "output_type": "stream",
     "text": [
      "\r\n",
      "Normal id_02:  69%|███████████████████████████████████████████▍                   | 693/1005 [00:35<00:15, 19.78it/s]"
     ]
    },
    {
     "name": "stderr",
     "output_type": "stream",
     "text": [
      "\r\n",
      "Normal id_02:  69%|███████████████████████████████████████████▌                   | 695/1005 [00:35<00:16, 18.60it/s]"
     ]
    },
    {
     "name": "stderr",
     "output_type": "stream",
     "text": [
      "\r\n",
      "Normal id_02:  69%|███████████████████████████████████████████▋                   | 697/1005 [00:35<00:16, 18.89it/s]"
     ]
    },
    {
     "name": "stderr",
     "output_type": "stream",
     "text": [
      "\r\n",
      "Normal id_02:  70%|███████████████████████████████████████████▉                   | 700/1005 [00:35<00:15, 19.68it/s]"
     ]
    },
    {
     "name": "stderr",
     "output_type": "stream",
     "text": [
      "\r\n",
      "Normal id_02:  70%|████████████████████████████████████████████                   | 702/1005 [00:35<00:15, 19.48it/s]"
     ]
    },
    {
     "name": "stderr",
     "output_type": "stream",
     "text": [
      "\r\n",
      "Normal id_02:  70%|████████████████████████████████████████████▏                  | 704/1005 [00:35<00:16, 18.50it/s]"
     ]
    },
    {
     "name": "stderr",
     "output_type": "stream",
     "text": [
      "\r\n",
      "Normal id_02:  70%|████████████████████████████████████████████▎                  | 707/1005 [00:35<00:15, 19.35it/s]"
     ]
    },
    {
     "name": "stderr",
     "output_type": "stream",
     "text": [
      "\r\n",
      "Normal id_02:  71%|████████████████████████████████████████████▌                  | 710/1005 [00:36<00:14, 20.31it/s]"
     ]
    },
    {
     "name": "stderr",
     "output_type": "stream",
     "text": [
      "\r\n",
      "Normal id_02:  71%|████████████████████████████████████████████▋                  | 713/1005 [00:36<00:15, 19.38it/s]"
     ]
    },
    {
     "name": "stderr",
     "output_type": "stream",
     "text": [
      "\r\n",
      "Normal id_02:  71%|████████████████████████████████████████████▉                  | 716/1005 [00:36<00:14, 20.03it/s]"
     ]
    },
    {
     "name": "stderr",
     "output_type": "stream",
     "text": [
      "\r\n",
      "Normal id_02:  72%|█████████████████████████████████████████████                  | 719/1005 [00:36<00:14, 20.32it/s]"
     ]
    },
    {
     "name": "stderr",
     "output_type": "stream",
     "text": [
      "\r\n",
      "Normal id_02:  72%|█████████████████████████████████████████████▎                 | 722/1005 [00:36<00:14, 20.04it/s]"
     ]
    },
    {
     "name": "stderr",
     "output_type": "stream",
     "text": [
      "\r\n",
      "Normal id_02:  72%|█████████████████████████████████████████████▍                 | 725/1005 [00:36<00:13, 20.31it/s]"
     ]
    },
    {
     "name": "stderr",
     "output_type": "stream",
     "text": [
      "\r\n",
      "Normal id_02:  72%|█████████████████████████████████████████████▋                 | 728/1005 [00:37<00:14, 18.61it/s]"
     ]
    },
    {
     "name": "stderr",
     "output_type": "stream",
     "text": [
      "\r\n",
      "Normal id_02:  73%|█████████████████████████████████████████████▊                 | 730/1005 [00:37<00:15, 18.13it/s]"
     ]
    },
    {
     "name": "stderr",
     "output_type": "stream",
     "text": [
      "\r\n",
      "Normal id_02:  73%|█████████████████████████████████████████████▉                 | 732/1005 [00:37<00:15, 18.09it/s]"
     ]
    },
    {
     "name": "stderr",
     "output_type": "stream",
     "text": [
      "\r\n",
      "Normal id_02:  73%|██████████████████████████████████████████████                 | 735/1005 [00:37<00:14, 19.24it/s]"
     ]
    },
    {
     "name": "stderr",
     "output_type": "stream",
     "text": [
      "\r\n",
      "Normal id_02:  73%|██████████████████████████████████████████████▎                | 738/1005 [00:37<00:13, 19.93it/s]"
     ]
    },
    {
     "name": "stderr",
     "output_type": "stream",
     "text": [
      "\r\n",
      "Normal id_02:  74%|██████████████████████████████████████████████▍                | 740/1005 [00:37<00:13, 19.09it/s]"
     ]
    },
    {
     "name": "stderr",
     "output_type": "stream",
     "text": [
      "\r\n",
      "Normal id_02:  74%|██████████████████████████████████████████████▌                | 743/1005 [00:37<00:13, 19.51it/s]"
     ]
    },
    {
     "name": "stderr",
     "output_type": "stream",
     "text": [
      "\r\n",
      "Normal id_02:  74%|██████████████████████████████████████████████▊                | 746/1005 [00:37<00:13, 19.69it/s]"
     ]
    },
    {
     "name": "stderr",
     "output_type": "stream",
     "text": [
      "\r\n",
      "Normal id_02:  75%|██████████████████████████████████████████████▉                | 749/1005 [00:38<00:12, 19.96it/s]"
     ]
    },
    {
     "name": "stderr",
     "output_type": "stream",
     "text": [
      "\r\n",
      "Normal id_02:  75%|███████████████████████████████████████████████                | 751/1005 [00:38<00:13, 18.30it/s]"
     ]
    },
    {
     "name": "stderr",
     "output_type": "stream",
     "text": [
      "\r\n",
      "Normal id_02:  75%|███████████████████████████████████████████████▎               | 754/1005 [00:38<00:12, 19.43it/s]"
     ]
    },
    {
     "name": "stderr",
     "output_type": "stream",
     "text": [
      "\r\n",
      "Normal id_02:  75%|███████████████████████████████████████████████▍               | 757/1005 [00:38<00:12, 20.00it/s]"
     ]
    },
    {
     "name": "stderr",
     "output_type": "stream",
     "text": [
      "\r\n",
      "Normal id_02:  76%|███████████████████████████████████████████████▌               | 759/1005 [00:38<00:12, 19.52it/s]"
     ]
    },
    {
     "name": "stderr",
     "output_type": "stream",
     "text": [
      "\r\n",
      "Normal id_02:  76%|███████████████████████████████████████████████▋               | 761/1005 [00:38<00:12, 19.43it/s]"
     ]
    },
    {
     "name": "stderr",
     "output_type": "stream",
     "text": [
      "\r\n",
      "Normal id_02:  76%|███████████████████████████████████████████████▊               | 763/1005 [00:38<00:12, 19.40it/s]"
     ]
    },
    {
     "name": "stderr",
     "output_type": "stream",
     "text": [
      "\r\n",
      "Normal id_02:  76%|████████████████████████████████████████████████               | 766/1005 [00:39<00:11, 19.95it/s]"
     ]
    },
    {
     "name": "stderr",
     "output_type": "stream",
     "text": [
      "\r\n",
      "Normal id_02:  77%|████████████████████████████████████████████████▏              | 769/1005 [00:39<00:11, 20.09it/s]"
     ]
    },
    {
     "name": "stderr",
     "output_type": "stream",
     "text": [
      "\r\n",
      "Normal id_02:  77%|████████████████████████████████████████████████▎              | 771/1005 [00:39<00:12, 19.26it/s]"
     ]
    },
    {
     "name": "stderr",
     "output_type": "stream",
     "text": [
      "\r\n",
      "Normal id_02:  77%|████████████████████████████████████████████████▌              | 774/1005 [00:39<00:11, 20.09it/s]"
     ]
    },
    {
     "name": "stderr",
     "output_type": "stream",
     "text": [
      "\r\n",
      "Normal id_02:  77%|████████████████████████████████████████████████▋              | 777/1005 [00:39<00:11, 20.67it/s]"
     ]
    },
    {
     "name": "stderr",
     "output_type": "stream",
     "text": [
      "\r\n",
      "Normal id_02:  78%|████████████████████████████████████████████████▉              | 780/1005 [00:39<00:10, 20.96it/s]"
     ]
    },
    {
     "name": "stderr",
     "output_type": "stream",
     "text": [
      "\r\n",
      "Normal id_02:  78%|█████████████████████████████████████████████████              | 783/1005 [00:39<00:10, 21.30it/s]"
     ]
    },
    {
     "name": "stderr",
     "output_type": "stream",
     "text": [
      "\r\n",
      "Normal id_02:  78%|█████████████████████████████████████████████████▎             | 786/1005 [00:39<00:10, 20.43it/s]"
     ]
    },
    {
     "name": "stderr",
     "output_type": "stream",
     "text": [
      "\r\n",
      "Normal id_02:  79%|█████████████████████████████████████████████████▍             | 789/1005 [00:40<00:10, 20.92it/s]"
     ]
    },
    {
     "name": "stderr",
     "output_type": "stream",
     "text": [
      "\r\n",
      "Normal id_02:  79%|█████████████████████████████████████████████████▋             | 792/1005 [00:40<00:10, 20.46it/s]"
     ]
    },
    {
     "name": "stderr",
     "output_type": "stream",
     "text": [
      "\r\n",
      "Normal id_02:  79%|█████████████████████████████████████████████████▊             | 795/1005 [00:40<00:10, 20.14it/s]"
     ]
    },
    {
     "name": "stderr",
     "output_type": "stream",
     "text": [
      "\r\n",
      "Normal id_02:  79%|██████████████████████████████████████████████████             | 798/1005 [00:40<00:10, 20.31it/s]"
     ]
    },
    {
     "name": "stderr",
     "output_type": "stream",
     "text": [
      "\r\n",
      "Normal id_02:  80%|██████████████████████████████████████████████████▏            | 801/1005 [00:40<00:10, 20.21it/s]"
     ]
    },
    {
     "name": "stderr",
     "output_type": "stream",
     "text": [
      "\r\n",
      "Normal id_02:  80%|██████████████████████████████████████████████████▍            | 804/1005 [00:40<00:09, 20.10it/s]"
     ]
    },
    {
     "name": "stderr",
     "output_type": "stream",
     "text": [
      "\r\n",
      "Normal id_02:  80%|██████████████████████████████████████████████████▌            | 807/1005 [00:41<00:09, 20.54it/s]"
     ]
    },
    {
     "name": "stderr",
     "output_type": "stream",
     "text": [
      "\r\n",
      "Normal id_02:  81%|██████████████████████████████████████████████████▊            | 810/1005 [00:41<00:09, 20.57it/s]"
     ]
    },
    {
     "name": "stderr",
     "output_type": "stream",
     "text": [
      "\r\n",
      "Normal id_02:  81%|██████████████████████████████████████████████████▉            | 813/1005 [00:41<00:09, 19.59it/s]"
     ]
    },
    {
     "name": "stderr",
     "output_type": "stream",
     "text": [
      "\r\n",
      "Normal id_02:  81%|███████████████████████████████████████████████████            | 815/1005 [00:41<00:09, 19.50it/s]"
     ]
    },
    {
     "name": "stderr",
     "output_type": "stream",
     "text": [
      "\r\n",
      "Normal id_02:  81%|███████████████████████████████████████████████████▎           | 818/1005 [00:41<00:09, 20.28it/s]"
     ]
    },
    {
     "name": "stderr",
     "output_type": "stream",
     "text": [
      "\r\n",
      "Normal id_02:  82%|███████████████████████████████████████████████████▍           | 821/1005 [00:41<00:08, 20.47it/s]"
     ]
    },
    {
     "name": "stderr",
     "output_type": "stream",
     "text": [
      "\r\n",
      "Normal id_02:  82%|███████████████████████████████████████████████████▋           | 824/1005 [00:41<00:08, 20.53it/s]"
     ]
    },
    {
     "name": "stderr",
     "output_type": "stream",
     "text": [
      "\r\n",
      "Normal id_02:  82%|███████████████████████████████████████████████████▊           | 827/1005 [00:42<00:08, 20.34it/s]"
     ]
    },
    {
     "name": "stderr",
     "output_type": "stream",
     "text": [
      "\r\n",
      "Normal id_02:  83%|████████████████████████████████████████████████████           | 830/1005 [00:42<00:08, 19.95it/s]"
     ]
    },
    {
     "name": "stderr",
     "output_type": "stream",
     "text": [
      "\r\n",
      "Normal id_02:  83%|████████████████████████████████████████████████████▏          | 832/1005 [00:42<00:09, 18.86it/s]"
     ]
    },
    {
     "name": "stderr",
     "output_type": "stream",
     "text": [
      "\r\n",
      "Normal id_02:  83%|████████████████████████████████████████████████████▎          | 834/1005 [00:42<00:08, 19.00it/s]"
     ]
    },
    {
     "name": "stderr",
     "output_type": "stream",
     "text": [
      "\r\n",
      "Normal id_02:  83%|████████████████████████████████████████████████████▍          | 837/1005 [00:42<00:08, 19.87it/s]"
     ]
    },
    {
     "name": "stderr",
     "output_type": "stream",
     "text": [
      "\r\n",
      "Normal id_02:  84%|████████████████████████████████████████████████████▋          | 840/1005 [00:42<00:08, 20.41it/s]"
     ]
    },
    {
     "name": "stderr",
     "output_type": "stream",
     "text": [
      "\r\n",
      "Normal id_02:  84%|████████████████████████████████████████████████████▊          | 843/1005 [00:42<00:08, 20.05it/s]"
     ]
    },
    {
     "name": "stderr",
     "output_type": "stream",
     "text": [
      "\r\n",
      "Normal id_02:  84%|█████████████████████████████████████████████████████          | 846/1005 [00:42<00:07, 20.00it/s]"
     ]
    },
    {
     "name": "stderr",
     "output_type": "stream",
     "text": [
      "\r\n",
      "Normal id_02:  84%|█████████████████████████████████████████████████████▏         | 848/1005 [00:43<00:07, 19.73it/s]"
     ]
    },
    {
     "name": "stderr",
     "output_type": "stream",
     "text": [
      "\r\n",
      "Normal id_02:  85%|█████████████████████████████████████████████████████▎         | 850/1005 [00:43<00:08, 19.03it/s]"
     ]
    },
    {
     "name": "stderr",
     "output_type": "stream",
     "text": [
      "\r\n",
      "Normal id_02:  85%|█████████████████████████████████████████████████████▍         | 852/1005 [00:43<00:08, 18.68it/s]"
     ]
    },
    {
     "name": "stderr",
     "output_type": "stream",
     "text": [
      "\r\n",
      "Normal id_02:  85%|█████████████████████████████████████████████████████▌         | 854/1005 [00:43<00:08, 18.50it/s]"
     ]
    },
    {
     "name": "stderr",
     "output_type": "stream",
     "text": [
      "\r\n",
      "Normal id_02:  85%|█████████████████████████████████████████████████████▋         | 856/1005 [00:43<00:08, 18.62it/s]"
     ]
    },
    {
     "name": "stderr",
     "output_type": "stream",
     "text": [
      "\r\n",
      "Normal id_02:  85%|█████████████████████████████████████████████████████▊         | 859/1005 [00:43<00:07, 19.29it/s]"
     ]
    },
    {
     "name": "stderr",
     "output_type": "stream",
     "text": [
      "\r\n",
      "Normal id_02:  86%|██████████████████████████████████████████████████████         | 862/1005 [00:43<00:07, 19.66it/s]"
     ]
    },
    {
     "name": "stderr",
     "output_type": "stream",
     "text": [
      "\r\n",
      "Normal id_02:  86%|██████████████████████████████████████████████████████▏        | 864/1005 [00:43<00:07, 19.61it/s]"
     ]
    },
    {
     "name": "stderr",
     "output_type": "stream",
     "text": [
      "\r\n",
      "Normal id_02:  86%|██████████████████████████████████████████████████████▎        | 866/1005 [00:44<00:07, 19.40it/s]"
     ]
    },
    {
     "name": "stderr",
     "output_type": "stream",
     "text": [
      "\r\n",
      "Normal id_02:  86%|██████████████████████████████████████████████████████▍        | 869/1005 [00:44<00:06, 19.88it/s]"
     ]
    },
    {
     "name": "stderr",
     "output_type": "stream",
     "text": [
      "\r\n",
      "Normal id_02:  87%|██████████████████████████████████████████████████████▌        | 871/1005 [00:44<00:07, 18.56it/s]"
     ]
    },
    {
     "name": "stderr",
     "output_type": "stream",
     "text": [
      "\r\n",
      "Normal id_02:  87%|██████████████████████████████████████████████████████▊        | 874/1005 [00:44<00:06, 19.42it/s]"
     ]
    },
    {
     "name": "stderr",
     "output_type": "stream",
     "text": [
      "\r\n",
      "Normal id_02:  87%|██████████████████████████████████████████████████████▉        | 877/1005 [00:44<00:06, 19.89it/s]"
     ]
    },
    {
     "name": "stderr",
     "output_type": "stream",
     "text": [
      "\r\n",
      "Normal id_02:  87%|███████████████████████████████████████████████████████        | 879/1005 [00:44<00:06, 19.72it/s]"
     ]
    },
    {
     "name": "stderr",
     "output_type": "stream",
     "text": [
      "\r\n",
      "Normal id_02:  88%|███████████████████████████████████████████████████████▏       | 881/1005 [00:44<00:06, 19.36it/s]"
     ]
    },
    {
     "name": "stderr",
     "output_type": "stream",
     "text": [
      "\r\n",
      "Normal id_02:  88%|███████████████████████████████████████████████████████▎       | 883/1005 [00:44<00:06, 19.08it/s]"
     ]
    },
    {
     "name": "stderr",
     "output_type": "stream",
     "text": [
      "\r\n",
      "Normal id_02:  88%|███████████████████████████████████████████████████████▌       | 886/1005 [00:45<00:05, 20.06it/s]"
     ]
    },
    {
     "name": "stderr",
     "output_type": "stream",
     "text": [
      "\r\n",
      "Normal id_02:  88%|███████████████████████████████████████████████████████▋       | 889/1005 [00:45<00:05, 20.77it/s]"
     ]
    },
    {
     "name": "stderr",
     "output_type": "stream",
     "text": [
      "\r\n",
      "Normal id_02:  89%|███████████████████████████████████████████████████████▉       | 892/1005 [00:45<00:05, 19.47it/s]"
     ]
    },
    {
     "name": "stderr",
     "output_type": "stream",
     "text": [
      "\r\n",
      "Normal id_02:  89%|████████████████████████████████████████████████████████       | 895/1005 [00:45<00:05, 20.20it/s]"
     ]
    },
    {
     "name": "stderr",
     "output_type": "stream",
     "text": [
      "\r\n",
      "Normal id_02:  89%|████████████████████████████████████████████████████████▎      | 898/1005 [00:45<00:05, 20.40it/s]"
     ]
    },
    {
     "name": "stderr",
     "output_type": "stream",
     "text": [
      "\r\n",
      "Normal id_02:  90%|████████████████████████████████████████████████████████▍      | 901/1005 [00:45<00:05, 20.45it/s]"
     ]
    },
    {
     "name": "stderr",
     "output_type": "stream",
     "text": [
      "\r\n",
      "Normal id_02:  90%|████████████████████████████████████████████████████████▋      | 904/1005 [00:45<00:04, 20.28it/s]"
     ]
    },
    {
     "name": "stderr",
     "output_type": "stream",
     "text": [
      "\r\n",
      "Normal id_02:  90%|████████████████████████████████████████████████████████▊      | 907/1005 [00:46<00:04, 20.50it/s]"
     ]
    },
    {
     "name": "stderr",
     "output_type": "stream",
     "text": [
      "\r\n",
      "Normal id_02:  91%|█████████████████████████████████████████████████████████      | 910/1005 [00:46<00:04, 19.28it/s]"
     ]
    },
    {
     "name": "stderr",
     "output_type": "stream",
     "text": [
      "\r\n",
      "Normal id_02:  91%|█████████████████████████████████████████████████████████▏     | 912/1005 [00:46<00:04, 19.34it/s]"
     ]
    },
    {
     "name": "stderr",
     "output_type": "stream",
     "text": [
      "\r\n",
      "Normal id_02:  91%|█████████████████████████████████████████████████████████▎     | 915/1005 [00:46<00:04, 20.16it/s]"
     ]
    },
    {
     "name": "stderr",
     "output_type": "stream",
     "text": [
      "\r\n",
      "Normal id_02:  91%|█████████████████████████████████████████████████████████▌     | 918/1005 [00:46<00:04, 20.69it/s]"
     ]
    },
    {
     "name": "stderr",
     "output_type": "stream",
     "text": [
      "\r\n",
      "Normal id_02:  92%|█████████████████████████████████████████████████████████▋     | 921/1005 [00:46<00:04, 20.40it/s]"
     ]
    },
    {
     "name": "stderr",
     "output_type": "stream",
     "text": [
      "\r\n",
      "Normal id_02:  92%|█████████████████████████████████████████████████████████▉     | 924/1005 [00:46<00:04, 20.15it/s]"
     ]
    },
    {
     "name": "stderr",
     "output_type": "stream",
     "text": [
      "\r\n",
      "Normal id_02:  92%|██████████████████████████████████████████████████████████     | 927/1005 [00:47<00:03, 19.52it/s]"
     ]
    },
    {
     "name": "stderr",
     "output_type": "stream",
     "text": [
      "\r\n",
      "Normal id_02:  93%|██████████████████████████████████████████████████████████▎    | 930/1005 [00:47<00:03, 19.12it/s]"
     ]
    },
    {
     "name": "stderr",
     "output_type": "stream",
     "text": [
      "\r\n",
      "Normal id_02:  93%|██████████████████████████████████████████████████████████▍    | 932/1005 [00:47<00:03, 19.01it/s]"
     ]
    },
    {
     "name": "stderr",
     "output_type": "stream",
     "text": [
      "\r\n",
      "Normal id_02:  93%|██████████████████████████████████████████████████████████▌    | 935/1005 [00:47<00:03, 19.38it/s]"
     ]
    },
    {
     "name": "stderr",
     "output_type": "stream",
     "text": [
      "\r\n",
      "Normal id_02:  93%|██████████████████████████████████████████████████████████▋    | 937/1005 [00:47<00:03, 19.05it/s]"
     ]
    },
    {
     "name": "stderr",
     "output_type": "stream",
     "text": [
      "\r\n",
      "Normal id_02:  93%|██████████████████████████████████████████████████████████▊    | 939/1005 [00:47<00:03, 19.11it/s]"
     ]
    },
    {
     "name": "stderr",
     "output_type": "stream",
     "text": [
      "\r\n",
      "Normal id_02:  94%|███████████████████████████████████████████████████████████    | 942/1005 [00:47<00:03, 19.50it/s]"
     ]
    },
    {
     "name": "stderr",
     "output_type": "stream",
     "text": [
      "\r\n",
      "Normal id_02:  94%|███████████████████████████████████████████████████████████▏   | 945/1005 [00:48<00:03, 19.78it/s]"
     ]
    },
    {
     "name": "stderr",
     "output_type": "stream",
     "text": [
      "\r\n",
      "Normal id_02:  94%|███████████████████████████████████████████████████████████▎   | 947/1005 [00:48<00:02, 19.68it/s]"
     ]
    },
    {
     "name": "stderr",
     "output_type": "stream",
     "text": [
      "\r\n",
      "Normal id_02:  94%|███████████████████████████████████████████████████████████▍   | 949/1005 [00:48<00:02, 18.88it/s]"
     ]
    },
    {
     "name": "stderr",
     "output_type": "stream",
     "text": [
      "\r\n",
      "Normal id_02:  95%|███████████████████████████████████████████████████████████▌   | 951/1005 [00:48<00:02, 18.98it/s]"
     ]
    },
    {
     "name": "stderr",
     "output_type": "stream",
     "text": [
      "\r\n",
      "Normal id_02:  95%|███████████████████████████████████████████████████████████▋   | 953/1005 [00:48<00:02, 19.06it/s]"
     ]
    },
    {
     "name": "stderr",
     "output_type": "stream",
     "text": [
      "\r\n",
      "Normal id_02:  95%|███████████████████████████████████████████████████████████▊   | 955/1005 [00:48<00:02, 19.23it/s]"
     ]
    },
    {
     "name": "stderr",
     "output_type": "stream",
     "text": [
      "\r\n",
      "Normal id_02:  95%|███████████████████████████████████████████████████████████▉   | 957/1005 [00:48<00:02, 19.14it/s]"
     ]
    },
    {
     "name": "stderr",
     "output_type": "stream",
     "text": [
      "\r\n",
      "Normal id_02:  95%|████████████████████████████████████████████████████████████   | 959/1005 [00:48<00:02, 19.27it/s]"
     ]
    },
    {
     "name": "stderr",
     "output_type": "stream",
     "text": [
      "\r\n",
      "Normal id_02:  96%|████████████████████████████████████████████████████████████▎  | 962/1005 [00:48<00:02, 20.07it/s]"
     ]
    },
    {
     "name": "stderr",
     "output_type": "stream",
     "text": [
      "\r\n",
      "Normal id_02:  96%|████████████████████████████████████████████████████████████▍  | 965/1005 [00:49<00:01, 20.41it/s]"
     ]
    },
    {
     "name": "stderr",
     "output_type": "stream",
     "text": [
      "\r\n",
      "Normal id_02:  96%|████████████████████████████████████████████████████████████▋  | 968/1005 [00:49<00:01, 19.19it/s]"
     ]
    },
    {
     "name": "stderr",
     "output_type": "stream",
     "text": [
      "\r\n",
      "Normal id_02:  97%|████████████████████████████████████████████████████████████▊  | 970/1005 [00:49<00:01, 18.85it/s]"
     ]
    },
    {
     "name": "stderr",
     "output_type": "stream",
     "text": [
      "\r\n",
      "Normal id_02:  97%|████████████████████████████████████████████████████████████▉  | 972/1005 [00:49<00:01, 18.29it/s]"
     ]
    },
    {
     "name": "stderr",
     "output_type": "stream",
     "text": [
      "\r\n",
      "Normal id_02:  97%|█████████████████████████████████████████████████████████████  | 975/1005 [00:49<00:01, 19.15it/s]"
     ]
    },
    {
     "name": "stderr",
     "output_type": "stream",
     "text": [
      "\r\n",
      "Normal id_02:  97%|█████████████████████████████████████████████████████████████▎ | 978/1005 [00:49<00:01, 19.72it/s]"
     ]
    },
    {
     "name": "stderr",
     "output_type": "stream",
     "text": [
      "\r\n",
      "Normal id_02:  98%|█████████████████████████████████████████████████████████████▍ | 981/1005 [00:49<00:01, 20.47it/s]"
     ]
    },
    {
     "name": "stderr",
     "output_type": "stream",
     "text": [
      "\r\n",
      "Normal id_02:  98%|█████████████████████████████████████████████████████████████▋ | 984/1005 [00:50<00:01, 20.89it/s]"
     ]
    },
    {
     "name": "stderr",
     "output_type": "stream",
     "text": [
      "\r\n",
      "Normal id_02:  98%|█████████████████████████████████████████████████████████████▊ | 987/1005 [00:50<00:00, 21.31it/s]"
     ]
    },
    {
     "name": "stderr",
     "output_type": "stream",
     "text": [
      "\r\n",
      "Normal id_02:  99%|██████████████████████████████████████████████████████████████ | 990/1005 [00:50<00:00, 19.68it/s]"
     ]
    },
    {
     "name": "stderr",
     "output_type": "stream",
     "text": [
      "\r\n",
      "Normal id_02:  99%|██████████████████████████████████████████████████████████████▏| 993/1005 [00:50<00:00, 20.16it/s]"
     ]
    },
    {
     "name": "stderr",
     "output_type": "stream",
     "text": [
      "\r\n",
      "Normal id_02:  99%|██████████████████████████████████████████████████████████████▍| 996/1005 [00:50<00:00, 20.01it/s]"
     ]
    },
    {
     "name": "stderr",
     "output_type": "stream",
     "text": [
      "\r\n",
      "Normal id_02:  99%|██████████████████████████████████████████████████████████████▌| 999/1005 [00:50<00:00, 19.76it/s]"
     ]
    },
    {
     "name": "stderr",
     "output_type": "stream",
     "text": [
      "\r\n",
      "Normal id_02: 100%|█████████████████████████████████████████████████████████████▊| 1001/1005 [00:50<00:00, 19.30it/s]"
     ]
    },
    {
     "name": "stderr",
     "output_type": "stream",
     "text": [
      "\r\n",
      "Normal id_02: 100%|█████████████████████████████████████████████████████████████▉| 1003/1005 [00:51<00:00, 18.02it/s]"
     ]
    },
    {
     "name": "stderr",
     "output_type": "stream",
     "text": [
      "\r\n",
      "Normal id_02: 100%|██████████████████████████████████████████████████████████████| 1005/1005 [00:51<00:00, 19.66it/s]"
     ]
    },
    {
     "name": "stderr",
     "output_type": "stream",
     "text": [
      "\n"
     ]
    },
    {
     "name": "stdout",
     "output_type": "stream",
     "text": [
      "Processing 111 abnormal files for id_02...\n"
     ]
    },
    {
     "name": "stderr",
     "output_type": "stream",
     "text": [
      "\r\n",
      "Abnormal id_02:   0%|                                                                        | 0/111 [00:00<?, ?it/s]"
     ]
    },
    {
     "name": "stderr",
     "output_type": "stream",
     "text": [
      "\r\n",
      "Abnormal id_02:   3%|█▋                                                              | 3/111 [00:00<00:05, 21.50it/s]"
     ]
    },
    {
     "name": "stderr",
     "output_type": "stream",
     "text": [
      "\r\n",
      "Abnormal id_02:   5%|███▍                                                            | 6/111 [00:00<00:05, 18.28it/s]"
     ]
    },
    {
     "name": "stderr",
     "output_type": "stream",
     "text": [
      "\r\n",
      "Abnormal id_02:   7%|████▌                                                           | 8/111 [00:00<00:05, 17.29it/s]"
     ]
    },
    {
     "name": "stderr",
     "output_type": "stream",
     "text": [
      "\r\n",
      "Abnormal id_02:  10%|██████▏                                                        | 11/111 [00:00<00:05, 18.58it/s]"
     ]
    },
    {
     "name": "stderr",
     "output_type": "stream",
     "text": [
      "\r\n",
      "Abnormal id_02:  13%|███████▉                                                       | 14/111 [00:00<00:05, 19.10it/s]"
     ]
    },
    {
     "name": "stderr",
     "output_type": "stream",
     "text": [
      "\r\n",
      "Abnormal id_02:  14%|█████████                                                      | 16/111 [00:00<00:05, 18.89it/s]"
     ]
    },
    {
     "name": "stderr",
     "output_type": "stream",
     "text": [
      "\r\n",
      "Abnormal id_02:  17%|██████████▊                                                    | 19/111 [00:00<00:04, 19.48it/s]"
     ]
    },
    {
     "name": "stderr",
     "output_type": "stream",
     "text": [
      "\r\n",
      "Abnormal id_02:  20%|████████████▍                                                  | 22/111 [00:01<00:04, 19.41it/s]"
     ]
    },
    {
     "name": "stderr",
     "output_type": "stream",
     "text": [
      "\r\n",
      "Abnormal id_02:  23%|██████████████▏                                                | 25/111 [00:01<00:04, 20.20it/s]"
     ]
    },
    {
     "name": "stderr",
     "output_type": "stream",
     "text": [
      "\r\n",
      "Abnormal id_02:  25%|███████████████▉                                               | 28/111 [00:01<00:04, 19.32it/s]"
     ]
    },
    {
     "name": "stderr",
     "output_type": "stream",
     "text": [
      "\r\n",
      "Abnormal id_02:  27%|█████████████████                                              | 30/111 [00:01<00:04, 19.16it/s]"
     ]
    },
    {
     "name": "stderr",
     "output_type": "stream",
     "text": [
      "\r\n",
      "Abnormal id_02:  29%|██████████████████▏                                            | 32/111 [00:01<00:04, 19.34it/s]"
     ]
    },
    {
     "name": "stderr",
     "output_type": "stream",
     "text": [
      "\r\n",
      "Abnormal id_02:  32%|███████████████████▊                                           | 35/111 [00:01<00:03, 19.96it/s]"
     ]
    },
    {
     "name": "stderr",
     "output_type": "stream",
     "text": [
      "\r\n",
      "Abnormal id_02:  33%|█████████████████████                                          | 37/111 [00:01<00:03, 19.51it/s]"
     ]
    },
    {
     "name": "stderr",
     "output_type": "stream",
     "text": [
      "\r\n",
      "Abnormal id_02:  36%|██████████████████████▋                                        | 40/111 [00:02<00:03, 20.28it/s]"
     ]
    },
    {
     "name": "stderr",
     "output_type": "stream",
     "text": [
      "\r\n",
      "Abnormal id_02:  39%|████████████████████████▍                                      | 43/111 [00:02<00:03, 18.92it/s]"
     ]
    },
    {
     "name": "stderr",
     "output_type": "stream",
     "text": [
      "\r\n",
      "Abnormal id_02:  41%|█████████████████████████▌                                     | 45/111 [00:02<00:03, 18.71it/s]"
     ]
    },
    {
     "name": "stderr",
     "output_type": "stream",
     "text": [
      "\r\n",
      "Abnormal id_02:  43%|███████████████████████████▏                                   | 48/111 [00:02<00:03, 19.43it/s]"
     ]
    },
    {
     "name": "stderr",
     "output_type": "stream",
     "text": [
      "\r\n",
      "Abnormal id_02:  45%|████████████████████████████▍                                  | 50/111 [00:02<00:03, 19.31it/s]"
     ]
    },
    {
     "name": "stderr",
     "output_type": "stream",
     "text": [
      "\r\n",
      "Abnormal id_02:  47%|█████████████████████████████▌                                 | 52/111 [00:02<00:03, 18.68it/s]"
     ]
    },
    {
     "name": "stderr",
     "output_type": "stream",
     "text": [
      "\r\n",
      "Abnormal id_02:  50%|███████████████████████████████▏                               | 55/111 [00:02<00:02, 19.13it/s]"
     ]
    },
    {
     "name": "stderr",
     "output_type": "stream",
     "text": [
      "\r\n",
      "Abnormal id_02:  52%|████████████████████████████████▉                              | 58/111 [00:03<00:02, 19.66it/s]"
     ]
    },
    {
     "name": "stderr",
     "output_type": "stream",
     "text": [
      "\r\n",
      "Abnormal id_02:  54%|██████████████████████████████████                             | 60/111 [00:03<00:02, 19.40it/s]"
     ]
    },
    {
     "name": "stderr",
     "output_type": "stream",
     "text": [
      "\r\n",
      "Abnormal id_02:  57%|███████████████████████████████████▊                           | 63/111 [00:03<00:02, 20.17it/s]"
     ]
    },
    {
     "name": "stderr",
     "output_type": "stream",
     "text": [
      "\r\n",
      "Abnormal id_02:  59%|█████████████████████████████████████▍                         | 66/111 [00:03<00:02, 20.40it/s]"
     ]
    },
    {
     "name": "stderr",
     "output_type": "stream",
     "text": [
      "\r\n",
      "Abnormal id_02:  62%|███████████████████████████████████████▏                       | 69/111 [00:03<00:02, 20.51it/s]"
     ]
    },
    {
     "name": "stderr",
     "output_type": "stream",
     "text": [
      "\r\n",
      "Abnormal id_02:  65%|████████████████████████████████████████▊                      | 72/111 [00:03<00:01, 20.66it/s]"
     ]
    },
    {
     "name": "stderr",
     "output_type": "stream",
     "text": [
      "\r\n",
      "Abnormal id_02:  68%|██████████████████████████████████████████▌                    | 75/111 [00:03<00:01, 20.84it/s]"
     ]
    },
    {
     "name": "stderr",
     "output_type": "stream",
     "text": [
      "\r\n",
      "Abnormal id_02:  70%|████████████████████████████████████████████▎                  | 78/111 [00:03<00:01, 20.10it/s]"
     ]
    },
    {
     "name": "stderr",
     "output_type": "stream",
     "text": [
      "\r\n",
      "Abnormal id_02:  73%|█████████████████████████████████████████████▉                 | 81/111 [00:04<00:01, 19.49it/s]"
     ]
    },
    {
     "name": "stderr",
     "output_type": "stream",
     "text": [
      "\r\n",
      "Abnormal id_02:  76%|███████████████████████████████████████████████▋               | 84/111 [00:04<00:01, 20.29it/s]"
     ]
    },
    {
     "name": "stderr",
     "output_type": "stream",
     "text": [
      "\r\n",
      "Abnormal id_02:  78%|█████████████████████████████████████████████████▍             | 87/111 [00:04<00:01, 20.22it/s]"
     ]
    },
    {
     "name": "stderr",
     "output_type": "stream",
     "text": [
      "\r\n",
      "Abnormal id_02:  81%|███████████████████████████████████████████████████            | 90/111 [00:04<00:01, 20.51it/s]"
     ]
    },
    {
     "name": "stderr",
     "output_type": "stream",
     "text": [
      "\r\n",
      "Abnormal id_02:  84%|████████████████████████████████████████████████████▊          | 93/111 [00:04<00:00, 19.94it/s]"
     ]
    },
    {
     "name": "stderr",
     "output_type": "stream",
     "text": [
      "\r\n",
      "Abnormal id_02:  86%|██████████████████████████████████████████████████████▍        | 96/111 [00:04<00:00, 19.49it/s]"
     ]
    },
    {
     "name": "stderr",
     "output_type": "stream",
     "text": [
      "\r\n",
      "Abnormal id_02:  88%|███████████████████████████████████████████████████████▌       | 98/111 [00:04<00:00, 19.48it/s]"
     ]
    },
    {
     "name": "stderr",
     "output_type": "stream",
     "text": [
      "\r\n",
      "Abnormal id_02:  90%|███████████████████████████████████████████████████████▊      | 100/111 [00:05<00:00, 19.10it/s]"
     ]
    },
    {
     "name": "stderr",
     "output_type": "stream",
     "text": [
      "\r\n",
      "Abnormal id_02:  92%|████████████████████████████████████████████████████████▉     | 102/111 [00:05<00:00, 18.58it/s]"
     ]
    },
    {
     "name": "stderr",
     "output_type": "stream",
     "text": [
      "\r\n",
      "Abnormal id_02:  95%|██████████████████████████████████████████████████████████▋   | 105/111 [00:05<00:00, 19.53it/s]"
     ]
    },
    {
     "name": "stderr",
     "output_type": "stream",
     "text": [
      "\r\n",
      "Abnormal id_02:  97%|████████████████████████████████████████████████████████████▎ | 108/111 [00:05<00:00, 20.36it/s]"
     ]
    },
    {
     "name": "stderr",
     "output_type": "stream",
     "text": [
      "\r\n",
      "Abnormal id_02: 100%|██████████████████████████████████████████████████████████████| 111/111 [00:05<00:00, 20.86it/s]"
     ]
    },
    {
     "name": "stderr",
     "output_type": "stream",
     "text": [
      "\r\n",
      "Abnormal id_02: 100%|██████████████████████████████████████████████████████████████| 111/111 [00:05<00:00, 19.69it/s]"
     ]
    },
    {
     "name": "stderr",
     "output_type": "stream",
     "text": [
      "\n"
     ]
    },
    {
     "name": "stdout",
     "output_type": "stream",
     "text": [
      "Processing 702 normal files for id_04...\n"
     ]
    },
    {
     "name": "stderr",
     "output_type": "stream",
     "text": [
      "\r\n",
      "Normal id_04:   0%|                                                                          | 0/702 [00:00<?, ?it/s]"
     ]
    },
    {
     "name": "stderr",
     "output_type": "stream",
     "text": [
      "\r\n",
      "Normal id_04:   0%|▎                                                                 | 3/702 [00:00<00:32, 21.72it/s]"
     ]
    },
    {
     "name": "stderr",
     "output_type": "stream",
     "text": [
      "\r\n",
      "Normal id_04:   1%|▌                                                                 | 6/702 [00:00<00:34, 19.91it/s]"
     ]
    },
    {
     "name": "stderr",
     "output_type": "stream",
     "text": [
      "\r\n",
      "Normal id_04:   1%|▊                                                                 | 9/702 [00:00<00:39, 17.55it/s]"
     ]
    },
    {
     "name": "stderr",
     "output_type": "stream",
     "text": [
      "\r\n",
      "Normal id_04:   2%|█                                                                | 12/702 [00:00<00:36, 18.72it/s]"
     ]
    },
    {
     "name": "stderr",
     "output_type": "stream",
     "text": [
      "\r\n",
      "Normal id_04:   2%|█▍                                                               | 15/702 [00:00<00:36, 19.03it/s]"
     ]
    },
    {
     "name": "stderr",
     "output_type": "stream",
     "text": [
      "\r\n",
      "Normal id_04:   3%|█▋                                                               | 18/702 [00:00<00:35, 19.48it/s]"
     ]
    },
    {
     "name": "stderr",
     "output_type": "stream",
     "text": [
      "\r\n",
      "Normal id_04:   3%|█▊                                                               | 20/702 [00:01<00:35, 19.34it/s]"
     ]
    },
    {
     "name": "stderr",
     "output_type": "stream",
     "text": [
      "\r\n",
      "Normal id_04:   3%|██                                                               | 22/702 [00:01<00:35, 19.37it/s]"
     ]
    },
    {
     "name": "stderr",
     "output_type": "stream",
     "text": [
      "\r\n",
      "Normal id_04:   3%|██▏                                                              | 24/702 [00:01<00:34, 19.43it/s]"
     ]
    },
    {
     "name": "stderr",
     "output_type": "stream",
     "text": [
      "\r\n",
      "Normal id_04:   4%|██▍                                                              | 26/702 [00:01<00:35, 19.16it/s]"
     ]
    },
    {
     "name": "stderr",
     "output_type": "stream",
     "text": [
      "\r\n",
      "Normal id_04:   4%|██▋                                                              | 29/702 [00:01<00:37, 18.13it/s]"
     ]
    },
    {
     "name": "stderr",
     "output_type": "stream",
     "text": [
      "\r\n",
      "Normal id_04:   5%|██▉                                                              | 32/702 [00:01<00:35, 19.02it/s]"
     ]
    },
    {
     "name": "stderr",
     "output_type": "stream",
     "text": [
      "\r\n",
      "Normal id_04:   5%|███▏                                                             | 35/702 [00:01<00:34, 19.58it/s]"
     ]
    },
    {
     "name": "stderr",
     "output_type": "stream",
     "text": [
      "\r\n",
      "Normal id_04:   5%|███▍                                                             | 37/702 [00:01<00:34, 19.47it/s]"
     ]
    },
    {
     "name": "stderr",
     "output_type": "stream",
     "text": [
      "\r\n",
      "Normal id_04:   6%|███▌                                                             | 39/702 [00:02<00:34, 19.25it/s]"
     ]
    },
    {
     "name": "stderr",
     "output_type": "stream",
     "text": [
      "\r\n",
      "Normal id_04:   6%|███▉                                                             | 42/702 [00:02<00:33, 19.75it/s]"
     ]
    },
    {
     "name": "stderr",
     "output_type": "stream",
     "text": [
      "\r\n",
      "Normal id_04:   6%|████                                                             | 44/702 [00:02<00:33, 19.40it/s]"
     ]
    },
    {
     "name": "stderr",
     "output_type": "stream",
     "text": [
      "\r\n",
      "Normal id_04:   7%|████▎                                                            | 47/702 [00:02<00:33, 19.50it/s]"
     ]
    },
    {
     "name": "stderr",
     "output_type": "stream",
     "text": [
      "\r\n",
      "Normal id_04:   7%|████▌                                                            | 49/702 [00:02<00:35, 18.15it/s]"
     ]
    },
    {
     "name": "stderr",
     "output_type": "stream",
     "text": [
      "\r\n",
      "Normal id_04:   7%|████▊                                                            | 52/702 [00:02<00:34, 18.91it/s]"
     ]
    },
    {
     "name": "stderr",
     "output_type": "stream",
     "text": [
      "\r\n",
      "Normal id_04:   8%|█████                                                            | 54/702 [00:02<00:34, 18.70it/s]"
     ]
    },
    {
     "name": "stderr",
     "output_type": "stream",
     "text": [
      "\r\n",
      "Normal id_04:   8%|█████▏                                                           | 56/702 [00:02<00:34, 18.65it/s]"
     ]
    },
    {
     "name": "stderr",
     "output_type": "stream",
     "text": [
      "\r\n",
      "Normal id_04:   8%|█████▎                                                           | 58/702 [00:03<00:34, 18.90it/s]"
     ]
    },
    {
     "name": "stderr",
     "output_type": "stream",
     "text": [
      "\r\n",
      "Normal id_04:   9%|█████▌                                                           | 60/702 [00:03<00:33, 19.02it/s]"
     ]
    },
    {
     "name": "stderr",
     "output_type": "stream",
     "text": [
      "\r\n",
      "Normal id_04:   9%|█████▋                                                           | 62/702 [00:03<00:33, 19.11it/s]"
     ]
    },
    {
     "name": "stderr",
     "output_type": "stream",
     "text": [
      "\r\n",
      "Normal id_04:   9%|█████▉                                                           | 64/702 [00:03<00:33, 19.03it/s]"
     ]
    },
    {
     "name": "stderr",
     "output_type": "stream",
     "text": [
      "\r\n",
      "Normal id_04:   9%|██████                                                           | 66/702 [00:03<00:33, 18.97it/s]"
     ]
    },
    {
     "name": "stderr",
     "output_type": "stream",
     "text": [
      "\r\n",
      "Normal id_04:  10%|██████▎                                                          | 68/702 [00:03<00:35, 17.71it/s]"
     ]
    },
    {
     "name": "stderr",
     "output_type": "stream",
     "text": [
      "\r\n",
      "Normal id_04:  10%|██████▍                                                          | 70/702 [00:03<00:34, 18.31it/s]"
     ]
    },
    {
     "name": "stderr",
     "output_type": "stream",
     "text": [
      "\r\n",
      "Normal id_04:  10%|██████▊                                                          | 73/702 [00:03<00:32, 19.41it/s]"
     ]
    },
    {
     "name": "stderr",
     "output_type": "stream",
     "text": [
      "\r\n",
      "Normal id_04:  11%|██████▉                                                          | 75/702 [00:03<00:32, 19.24it/s]"
     ]
    },
    {
     "name": "stderr",
     "output_type": "stream",
     "text": [
      "\r\n",
      "Normal id_04:  11%|███████▏                                                         | 77/702 [00:04<00:32, 19.29it/s]"
     ]
    },
    {
     "name": "stderr",
     "output_type": "stream",
     "text": [
      "\r\n",
      "Normal id_04:  11%|███████▎                                                         | 79/702 [00:04<00:32, 19.31it/s]"
     ]
    },
    {
     "name": "stderr",
     "output_type": "stream",
     "text": [
      "\r\n",
      "Normal id_04:  12%|███████▌                                                         | 81/702 [00:04<00:32, 19.38it/s]"
     ]
    },
    {
     "name": "stderr",
     "output_type": "stream",
     "text": [
      "\r\n",
      "Normal id_04:  12%|███████▊                                                         | 84/702 [00:04<00:30, 20.32it/s]"
     ]
    },
    {
     "name": "stderr",
     "output_type": "stream",
     "text": [
      "\r\n",
      "Normal id_04:  12%|████████                                                         | 87/702 [00:04<00:32, 18.96it/s]"
     ]
    },
    {
     "name": "stderr",
     "output_type": "stream",
     "text": [
      "\r\n",
      "Normal id_04:  13%|████████▏                                                        | 89/702 [00:04<00:32, 19.00it/s]"
     ]
    },
    {
     "name": "stderr",
     "output_type": "stream",
     "text": [
      "\r\n",
      "Normal id_04:  13%|████████▌                                                        | 92/702 [00:04<00:31, 19.50it/s]"
     ]
    },
    {
     "name": "stderr",
     "output_type": "stream",
     "text": [
      "\r\n",
      "Normal id_04:  13%|████████▋                                                        | 94/702 [00:04<00:31, 19.23it/s]"
     ]
    },
    {
     "name": "stderr",
     "output_type": "stream",
     "text": [
      "\r\n",
      "Normal id_04:  14%|████████▉                                                        | 97/702 [00:05<00:30, 19.79it/s]"
     ]
    },
    {
     "name": "stderr",
     "output_type": "stream",
     "text": [
      "\r\n",
      "Normal id_04:  14%|█████████                                                       | 100/702 [00:05<00:29, 20.52it/s]"
     ]
    },
    {
     "name": "stderr",
     "output_type": "stream",
     "text": [
      "\r\n",
      "Normal id_04:  15%|█████████▍                                                      | 103/702 [00:05<00:28, 20.99it/s]"
     ]
    },
    {
     "name": "stderr",
     "output_type": "stream",
     "text": [
      "\r\n",
      "Normal id_04:  15%|█████████▋                                                      | 106/702 [00:05<00:29, 20.07it/s]"
     ]
    },
    {
     "name": "stderr",
     "output_type": "stream",
     "text": [
      "\r\n",
      "Normal id_04:  16%|█████████▉                                                      | 109/702 [00:05<00:30, 19.22it/s]"
     ]
    },
    {
     "name": "stderr",
     "output_type": "stream",
     "text": [
      "\r\n",
      "Normal id_04:  16%|██████████                                                      | 111/702 [00:05<00:30, 19.19it/s]"
     ]
    },
    {
     "name": "stderr",
     "output_type": "stream",
     "text": [
      "\r\n",
      "Normal id_04:  16%|██████████▍                                                     | 114/702 [00:05<00:29, 20.10it/s]"
     ]
    },
    {
     "name": "stderr",
     "output_type": "stream",
     "text": [
      "\r\n",
      "Normal id_04:  17%|██████████▋                                                     | 117/702 [00:06<00:28, 20.69it/s]"
     ]
    },
    {
     "name": "stderr",
     "output_type": "stream",
     "text": [
      "\r\n",
      "Normal id_04:  17%|██████████▉                                                     | 120/702 [00:06<00:27, 21.08it/s]"
     ]
    },
    {
     "name": "stderr",
     "output_type": "stream",
     "text": [
      "\r\n",
      "Normal id_04:  18%|███████████▏                                                    | 123/702 [00:06<00:27, 21.43it/s]"
     ]
    },
    {
     "name": "stderr",
     "output_type": "stream",
     "text": [
      "\r\n",
      "Normal id_04:  18%|███████████▍                                                    | 126/702 [00:06<00:27, 20.63it/s]"
     ]
    },
    {
     "name": "stderr",
     "output_type": "stream",
     "text": [
      "\r\n",
      "Normal id_04:  18%|███████████▊                                                    | 129/702 [00:06<00:27, 20.91it/s]"
     ]
    },
    {
     "name": "stderr",
     "output_type": "stream",
     "text": [
      "\r\n",
      "Normal id_04:  19%|████████████                                                    | 132/702 [00:06<00:27, 20.74it/s]"
     ]
    },
    {
     "name": "stderr",
     "output_type": "stream",
     "text": [
      "\r\n",
      "Normal id_04:  19%|████████████▎                                                   | 135/702 [00:06<00:26, 21.01it/s]"
     ]
    },
    {
     "name": "stderr",
     "output_type": "stream",
     "text": [
      "\r\n",
      "Normal id_04:  20%|████████████▌                                                   | 138/702 [00:07<00:26, 21.29it/s]"
     ]
    },
    {
     "name": "stderr",
     "output_type": "stream",
     "text": [
      "\r\n",
      "Normal id_04:  20%|████████████▊                                                   | 141/702 [00:07<00:26, 21.46it/s]"
     ]
    },
    {
     "name": "stderr",
     "output_type": "stream",
     "text": [
      "\r\n",
      "Normal id_04:  21%|█████████████▏                                                  | 144/702 [00:07<00:26, 20.83it/s]"
     ]
    },
    {
     "name": "stderr",
     "output_type": "stream",
     "text": [
      "\r\n",
      "Normal id_04:  21%|█████████████▍                                                  | 147/702 [00:07<00:29, 18.99it/s]"
     ]
    },
    {
     "name": "stderr",
     "output_type": "stream",
     "text": [
      "\r\n",
      "Normal id_04:  21%|█████████████▌                                                  | 149/702 [00:07<00:29, 18.70it/s]"
     ]
    },
    {
     "name": "stderr",
     "output_type": "stream",
     "text": [
      "\r\n",
      "Normal id_04:  22%|█████████████▊                                                  | 152/702 [00:07<00:28, 19.57it/s]"
     ]
    },
    {
     "name": "stderr",
     "output_type": "stream",
     "text": [
      "\r\n",
      "Normal id_04:  22%|██████████████▏                                                 | 155/702 [00:07<00:27, 20.11it/s]"
     ]
    },
    {
     "name": "stderr",
     "output_type": "stream",
     "text": [
      "\r\n",
      "Normal id_04:  23%|██████████████▍                                                 | 158/702 [00:08<00:27, 19.65it/s]"
     ]
    },
    {
     "name": "stderr",
     "output_type": "stream",
     "text": [
      "\r\n",
      "Normal id_04:  23%|██████████████▌                                                 | 160/702 [00:08<00:28, 19.21it/s]"
     ]
    },
    {
     "name": "stderr",
     "output_type": "stream",
     "text": [
      "\r\n",
      "Normal id_04:  23%|██████████████▊                                                 | 162/702 [00:08<00:28, 19.09it/s]"
     ]
    },
    {
     "name": "stderr",
     "output_type": "stream",
     "text": [
      "\r\n",
      "Normal id_04:  23%|██████████████▉                                                 | 164/702 [00:08<00:28, 19.20it/s]"
     ]
    },
    {
     "name": "stderr",
     "output_type": "stream",
     "text": [
      "\r\n",
      "Normal id_04:  24%|███████████████▏                                                | 166/702 [00:08<00:28, 19.02it/s]"
     ]
    },
    {
     "name": "stderr",
     "output_type": "stream",
     "text": [
      "\r\n",
      "Normal id_04:  24%|███████████████▍                                                | 169/702 [00:08<00:27, 19.36it/s]"
     ]
    },
    {
     "name": "stderr",
     "output_type": "stream",
     "text": [
      "\r\n",
      "Normal id_04:  24%|███████████████▌                                                | 171/702 [00:08<00:27, 19.11it/s]"
     ]
    },
    {
     "name": "stderr",
     "output_type": "stream",
     "text": [
      "\r\n",
      "Normal id_04:  25%|███████████████▊                                                | 173/702 [00:08<00:27, 19.00it/s]"
     ]
    },
    {
     "name": "stderr",
     "output_type": "stream",
     "text": [
      "\r\n",
      "Normal id_04:  25%|███████████████▉                                                | 175/702 [00:08<00:27, 18.87it/s]"
     ]
    },
    {
     "name": "stderr",
     "output_type": "stream",
     "text": [
      "\r\n",
      "Normal id_04:  25%|████████████████▏                                               | 178/702 [00:09<00:26, 19.66it/s]"
     ]
    },
    {
     "name": "stderr",
     "output_type": "stream",
     "text": [
      "\r\n",
      "Normal id_04:  26%|████████████████▌                                               | 181/702 [00:09<00:25, 20.14it/s]"
     ]
    },
    {
     "name": "stderr",
     "output_type": "stream",
     "text": [
      "\r\n",
      "Normal id_04:  26%|████████████████▊                                               | 184/702 [00:09<00:24, 20.75it/s]"
     ]
    },
    {
     "name": "stderr",
     "output_type": "stream",
     "text": [
      "\r\n",
      "Normal id_04:  27%|█████████████████                                               | 187/702 [00:09<00:26, 19.56it/s]"
     ]
    },
    {
     "name": "stderr",
     "output_type": "stream",
     "text": [
      "\r\n",
      "Normal id_04:  27%|█████████████████▎                                              | 190/702 [00:09<00:25, 20.27it/s]"
     ]
    },
    {
     "name": "stderr",
     "output_type": "stream",
     "text": [
      "\r\n",
      "Normal id_04:  27%|█████████████████▌                                              | 193/702 [00:09<00:24, 20.87it/s]"
     ]
    },
    {
     "name": "stderr",
     "output_type": "stream",
     "text": [
      "\r\n",
      "Normal id_04:  28%|█████████████████▊                                              | 196/702 [00:09<00:23, 21.11it/s]"
     ]
    },
    {
     "name": "stderr",
     "output_type": "stream",
     "text": [
      "\r\n",
      "Normal id_04:  28%|██████████████████▏                                             | 199/702 [00:10<00:23, 21.32it/s]"
     ]
    },
    {
     "name": "stderr",
     "output_type": "stream",
     "text": [
      "\r\n",
      "Normal id_04:  29%|██████████████████▍                                             | 202/702 [00:10<00:23, 20.87it/s]"
     ]
    },
    {
     "name": "stderr",
     "output_type": "stream",
     "text": [
      "\r\n",
      "Normal id_04:  29%|██████████████████▋                                             | 205/702 [00:10<00:25, 19.78it/s]"
     ]
    },
    {
     "name": "stderr",
     "output_type": "stream",
     "text": [
      "\r\n",
      "Normal id_04:  29%|██████████████████▊                                             | 207/702 [00:10<00:25, 19.05it/s]"
     ]
    },
    {
     "name": "stderr",
     "output_type": "stream",
     "text": [
      "\r\n",
      "Normal id_04:  30%|███████████████████▏                                            | 210/702 [00:10<00:24, 19.71it/s]"
     ]
    },
    {
     "name": "stderr",
     "output_type": "stream",
     "text": [
      "\r\n",
      "Normal id_04:  30%|███████████████████▎                                            | 212/702 [00:10<00:25, 19.27it/s]"
     ]
    },
    {
     "name": "stderr",
     "output_type": "stream",
     "text": [
      "\r\n",
      "Normal id_04:  30%|███████████████████▌                                            | 214/702 [00:10<00:25, 19.16it/s]"
     ]
    },
    {
     "name": "stderr",
     "output_type": "stream",
     "text": [
      "\r\n",
      "Normal id_04:  31%|███████████████████▊                                            | 217/702 [00:11<00:24, 19.90it/s]"
     ]
    },
    {
     "name": "stderr",
     "output_type": "stream",
     "text": [
      "\r\n",
      "Normal id_04:  31%|████████████████████                                            | 220/702 [00:11<00:23, 20.62it/s]"
     ]
    },
    {
     "name": "stderr",
     "output_type": "stream",
     "text": [
      "\r\n",
      "Normal id_04:  32%|████████████████████▎                                           | 223/702 [00:11<00:23, 20.13it/s]"
     ]
    },
    {
     "name": "stderr",
     "output_type": "stream",
     "text": [
      "\r\n",
      "Normal id_04:  32%|████████████████████▌                                           | 226/702 [00:11<00:23, 20.19it/s]"
     ]
    },
    {
     "name": "stderr",
     "output_type": "stream",
     "text": [
      "\r\n",
      "Normal id_04:  33%|████████████████████▉                                           | 229/702 [00:11<00:23, 20.17it/s]"
     ]
    },
    {
     "name": "stderr",
     "output_type": "stream",
     "text": [
      "\r\n",
      "Normal id_04:  33%|█████████████████████▏                                          | 232/702 [00:11<00:23, 19.99it/s]"
     ]
    },
    {
     "name": "stderr",
     "output_type": "stream",
     "text": [
      "\r\n",
      "Normal id_04:  33%|█████████████████████▍                                          | 235/702 [00:11<00:23, 20.17it/s]"
     ]
    },
    {
     "name": "stderr",
     "output_type": "stream",
     "text": [
      "\r\n",
      "Normal id_04:  34%|█████████████████████▋                                          | 238/702 [00:12<00:22, 20.39it/s]"
     ]
    },
    {
     "name": "stderr",
     "output_type": "stream",
     "text": [
      "\r\n",
      "Normal id_04:  34%|█████████████████████▉                                          | 241/702 [00:12<00:22, 20.35it/s]"
     ]
    },
    {
     "name": "stderr",
     "output_type": "stream",
     "text": [
      "\r\n",
      "Normal id_04:  35%|██████████████████████▏                                         | 244/702 [00:12<00:22, 20.40it/s]"
     ]
    },
    {
     "name": "stderr",
     "output_type": "stream",
     "text": [
      "\r\n",
      "Normal id_04:  35%|██████████████████████▌                                         | 247/702 [00:12<00:23, 19.63it/s]"
     ]
    },
    {
     "name": "stderr",
     "output_type": "stream",
     "text": [
      "\r\n",
      "Normal id_04:  36%|██████████████████████▊                                         | 250/702 [00:12<00:22, 19.90it/s]"
     ]
    },
    {
     "name": "stderr",
     "output_type": "stream",
     "text": [
      "\r\n",
      "Normal id_04:  36%|██████████████████████▉                                         | 252/702 [00:12<00:22, 19.80it/s]"
     ]
    },
    {
     "name": "stderr",
     "output_type": "stream",
     "text": [
      "\r\n",
      "Normal id_04:  36%|███████████████████████▏                                        | 254/702 [00:12<00:22, 19.66it/s]"
     ]
    },
    {
     "name": "stderr",
     "output_type": "stream",
     "text": [
      "\r\n",
      "Normal id_04:  36%|███████████████████████▎                                        | 256/702 [00:12<00:22, 19.68it/s]"
     ]
    },
    {
     "name": "stderr",
     "output_type": "stream",
     "text": [
      "\r\n",
      "Normal id_04:  37%|███████████████████████▌                                        | 258/702 [00:13<00:22, 19.31it/s]"
     ]
    },
    {
     "name": "stderr",
     "output_type": "stream",
     "text": [
      "\r\n",
      "Normal id_04:  37%|███████████████████████▊                                        | 261/702 [00:13<00:21, 20.22it/s]"
     ]
    },
    {
     "name": "stderr",
     "output_type": "stream",
     "text": [
      "\r\n",
      "Normal id_04:  38%|████████████████████████                                        | 264/702 [00:13<00:22, 19.84it/s]"
     ]
    },
    {
     "name": "stderr",
     "output_type": "stream",
     "text": [
      "\r\n",
      "Normal id_04:  38%|████████████████████████▎                                       | 266/702 [00:13<00:22, 19.73it/s]"
     ]
    },
    {
     "name": "stderr",
     "output_type": "stream",
     "text": [
      "\r\n",
      "Normal id_04:  38%|████████████████████████▍                                       | 268/702 [00:13<00:22, 19.46it/s]"
     ]
    },
    {
     "name": "stderr",
     "output_type": "stream",
     "text": [
      "\r\n",
      "Normal id_04:  38%|████████████████████████▌                                       | 270/702 [00:13<00:22, 19.53it/s]"
     ]
    },
    {
     "name": "stderr",
     "output_type": "stream",
     "text": [
      "\r\n",
      "Normal id_04:  39%|████████████████████████▉                                       | 273/702 [00:13<00:21, 20.28it/s]"
     ]
    },
    {
     "name": "stderr",
     "output_type": "stream",
     "text": [
      "\r\n",
      "Normal id_04:  39%|█████████████████████████▏                                      | 276/702 [00:13<00:20, 20.56it/s]"
     ]
    },
    {
     "name": "stderr",
     "output_type": "stream",
     "text": [
      "\r\n",
      "Normal id_04:  40%|█████████████████████████▍                                      | 279/702 [00:14<00:20, 20.99it/s]"
     ]
    },
    {
     "name": "stderr",
     "output_type": "stream",
     "text": [
      "\r\n",
      "Normal id_04:  40%|█████████████████████████▋                                      | 282/702 [00:14<00:20, 20.52it/s]"
     ]
    },
    {
     "name": "stderr",
     "output_type": "stream",
     "text": [
      "\r\n",
      "Normal id_04:  41%|█████████████████████████▉                                      | 285/702 [00:14<00:20, 20.06it/s]"
     ]
    },
    {
     "name": "stderr",
     "output_type": "stream",
     "text": [
      "\r\n",
      "Normal id_04:  41%|██████████████████████████▎                                     | 288/702 [00:14<00:21, 19.17it/s]"
     ]
    },
    {
     "name": "stderr",
     "output_type": "stream",
     "text": [
      "\r\n",
      "Normal id_04:  41%|██████████████████████████▌                                     | 291/702 [00:14<00:20, 19.71it/s]"
     ]
    },
    {
     "name": "stderr",
     "output_type": "stream",
     "text": [
      "\r\n",
      "Normal id_04:  42%|██████████████████████████▋                                     | 293/702 [00:14<00:20, 19.55it/s]"
     ]
    },
    {
     "name": "stderr",
     "output_type": "stream",
     "text": [
      "\r\n",
      "Normal id_04:  42%|██████████████████████████▉                                     | 295/702 [00:14<00:20, 19.63it/s]"
     ]
    },
    {
     "name": "stderr",
     "output_type": "stream",
     "text": [
      "\r\n",
      "Normal id_04:  42%|███████████████████████████▏                                    | 298/702 [00:15<00:20, 19.52it/s]"
     ]
    },
    {
     "name": "stderr",
     "output_type": "stream",
     "text": [
      "\r\n",
      "Normal id_04:  43%|███████████████████████████▍                                    | 301/702 [00:15<00:19, 20.11it/s]"
     ]
    },
    {
     "name": "stderr",
     "output_type": "stream",
     "text": [
      "\r\n",
      "Normal id_04:  43%|███████████████████████████▋                                    | 304/702 [00:15<00:20, 19.55it/s]"
     ]
    },
    {
     "name": "stderr",
     "output_type": "stream",
     "text": [
      "\r\n",
      "Normal id_04:  44%|███████████████████████████▉                                    | 306/702 [00:15<00:21, 18.11it/s]"
     ]
    },
    {
     "name": "stderr",
     "output_type": "stream",
     "text": [
      "\r\n",
      "Normal id_04:  44%|████████████████████████████▏                                   | 309/702 [00:15<00:20, 18.88it/s]"
     ]
    },
    {
     "name": "stderr",
     "output_type": "stream",
     "text": [
      "\r\n",
      "Normal id_04:  44%|████████████████████████████▍                                   | 312/702 [00:15<00:20, 19.34it/s]"
     ]
    },
    {
     "name": "stderr",
     "output_type": "stream",
     "text": [
      "\r\n",
      "Normal id_04:  45%|████████████████████████████▋                                   | 315/702 [00:15<00:19, 19.59it/s]"
     ]
    },
    {
     "name": "stderr",
     "output_type": "stream",
     "text": [
      "\r\n",
      "Normal id_04:  45%|████████████████████████████▉                                   | 318/702 [00:16<00:19, 19.39it/s]"
     ]
    },
    {
     "name": "stderr",
     "output_type": "stream",
     "text": [
      "\r\n",
      "Normal id_04:  46%|█████████████████████████████▎                                  | 321/702 [00:16<00:19, 19.94it/s]"
     ]
    },
    {
     "name": "stderr",
     "output_type": "stream",
     "text": [
      "\r\n",
      "Normal id_04:  46%|█████████████████████████████▌                                  | 324/702 [00:16<00:18, 20.29it/s]"
     ]
    },
    {
     "name": "stderr",
     "output_type": "stream",
     "text": [
      "\r\n",
      "Normal id_04:  47%|█████████████████████████████▊                                  | 327/702 [00:16<00:19, 19.48it/s]"
     ]
    },
    {
     "name": "stderr",
     "output_type": "stream",
     "text": [
      "\r\n",
      "Normal id_04:  47%|██████████████████████████████                                  | 330/702 [00:16<00:18, 19.79it/s]"
     ]
    },
    {
     "name": "stderr",
     "output_type": "stream",
     "text": [
      "\r\n",
      "Normal id_04:  47%|██████████████████████████████▎                                 | 333/702 [00:16<00:18, 19.92it/s]"
     ]
    },
    {
     "name": "stderr",
     "output_type": "stream",
     "text": [
      "\r\n",
      "Normal id_04:  48%|██████████████████████████████▌                                 | 335/702 [00:16<00:18, 19.82it/s]"
     ]
    },
    {
     "name": "stderr",
     "output_type": "stream",
     "text": [
      "\r\n",
      "Normal id_04:  48%|██████████████████████████████▊                                 | 338/702 [00:17<00:18, 19.82it/s]"
     ]
    },
    {
     "name": "stderr",
     "output_type": "stream",
     "text": [
      "\r\n",
      "Normal id_04:  48%|██████████████████████████████▉                                 | 340/702 [00:17<00:18, 19.84it/s]"
     ]
    },
    {
     "name": "stderr",
     "output_type": "stream",
     "text": [
      "\r\n",
      "Normal id_04:  49%|███████████████████████████████▏                                | 342/702 [00:17<00:18, 19.64it/s]"
     ]
    },
    {
     "name": "stderr",
     "output_type": "stream",
     "text": [
      "\r\n",
      "Normal id_04:  49%|███████████████████████████████▎                                | 344/702 [00:17<00:18, 19.05it/s]"
     ]
    },
    {
     "name": "stderr",
     "output_type": "stream",
     "text": [
      "\r\n",
      "Normal id_04:  49%|███████████████████████████████▌                                | 346/702 [00:17<00:19, 18.59it/s]"
     ]
    },
    {
     "name": "stderr",
     "output_type": "stream",
     "text": [
      "\r\n",
      "Normal id_04:  50%|███████████████████████████████▊                                | 349/702 [00:17<00:17, 19.64it/s]"
     ]
    },
    {
     "name": "stderr",
     "output_type": "stream",
     "text": [
      "\r\n",
      "Normal id_04:  50%|████████████████████████████████                                | 352/702 [00:17<00:17, 20.46it/s]"
     ]
    },
    {
     "name": "stderr",
     "output_type": "stream",
     "text": [
      "\r\n",
      "Normal id_04:  51%|████████████████████████████████▎                               | 355/702 [00:17<00:16, 20.65it/s]"
     ]
    },
    {
     "name": "stderr",
     "output_type": "stream",
     "text": [
      "\r\n",
      "Normal id_04:  51%|████████████████████████████████▋                               | 358/702 [00:18<00:16, 21.14it/s]"
     ]
    },
    {
     "name": "stderr",
     "output_type": "stream",
     "text": [
      "\r\n",
      "Normal id_04:  51%|████████████████████████████████▉                               | 361/702 [00:18<00:16, 20.53it/s]"
     ]
    },
    {
     "name": "stderr",
     "output_type": "stream",
     "text": [
      "\r\n",
      "Normal id_04:  52%|█████████████████████████████████▏                              | 364/702 [00:18<00:16, 21.02it/s]"
     ]
    },
    {
     "name": "stderr",
     "output_type": "stream",
     "text": [
      "\r\n",
      "Normal id_04:  52%|█████████████████████████████████▍                              | 367/702 [00:18<00:16, 19.84it/s]"
     ]
    },
    {
     "name": "stderr",
     "output_type": "stream",
     "text": [
      "\r\n",
      "Normal id_04:  53%|█████████████████████████████████▋                              | 370/702 [00:18<00:16, 20.19it/s]"
     ]
    },
    {
     "name": "stderr",
     "output_type": "stream",
     "text": [
      "\r\n",
      "Normal id_04:  53%|██████████████████████████████████                              | 373/702 [00:18<00:16, 20.38it/s]"
     ]
    },
    {
     "name": "stderr",
     "output_type": "stream",
     "text": [
      "\r\n",
      "Normal id_04:  54%|██████████████████████████████████▎                             | 376/702 [00:19<00:16, 20.35it/s]"
     ]
    },
    {
     "name": "stderr",
     "output_type": "stream",
     "text": [
      "\r\n",
      "Normal id_04:  54%|██████████████████████████████████▌                             | 379/702 [00:19<00:15, 20.42it/s]"
     ]
    },
    {
     "name": "stderr",
     "output_type": "stream",
     "text": [
      "\r\n",
      "Normal id_04:  54%|██████████████████████████████████▊                             | 382/702 [00:19<00:15, 20.70it/s]"
     ]
    },
    {
     "name": "stderr",
     "output_type": "stream",
     "text": [
      "\r\n",
      "Normal id_04:  55%|███████████████████████████████████                             | 385/702 [00:19<00:15, 20.43it/s]"
     ]
    },
    {
     "name": "stderr",
     "output_type": "stream",
     "text": [
      "\r\n",
      "Normal id_04:  55%|███████████████████████████████████▎                            | 388/702 [00:19<00:16, 19.43it/s]"
     ]
    },
    {
     "name": "stderr",
     "output_type": "stream",
     "text": [
      "\r\n",
      "Normal id_04:  56%|███████████████████████████████████▋                            | 391/702 [00:19<00:15, 20.17it/s]"
     ]
    },
    {
     "name": "stderr",
     "output_type": "stream",
     "text": [
      "\r\n",
      "Normal id_04:  56%|███████████████████████████████████▉                            | 394/702 [00:19<00:14, 20.54it/s]"
     ]
    },
    {
     "name": "stderr",
     "output_type": "stream",
     "text": [
      "\r\n",
      "Normal id_04:  57%|████████████████████████████████████▏                           | 397/702 [00:20<00:15, 20.22it/s]"
     ]
    },
    {
     "name": "stderr",
     "output_type": "stream",
     "text": [
      "\r\n",
      "Normal id_04:  57%|████████████████████████████████████▍                           | 400/702 [00:20<00:14, 20.51it/s]"
     ]
    },
    {
     "name": "stderr",
     "output_type": "stream",
     "text": [
      "\r\n",
      "Normal id_04:  57%|████████████████████████████████████▋                           | 403/702 [00:20<00:14, 20.25it/s]"
     ]
    },
    {
     "name": "stderr",
     "output_type": "stream",
     "text": [
      "\r\n",
      "Normal id_04:  58%|█████████████████████████████████████                           | 406/702 [00:20<00:15, 19.59it/s]"
     ]
    },
    {
     "name": "stderr",
     "output_type": "stream",
     "text": [
      "\r\n",
      "Normal id_04:  58%|█████████████████████████████████████▎                          | 409/702 [00:20<00:14, 20.14it/s]"
     ]
    },
    {
     "name": "stderr",
     "output_type": "stream",
     "text": [
      "\r\n",
      "Normal id_04:  59%|█████████████████████████████████████▌                          | 412/702 [00:20<00:15, 19.33it/s]"
     ]
    },
    {
     "name": "stderr",
     "output_type": "stream",
     "text": [
      "\r\n",
      "Normal id_04:  59%|█████████████████████████████████████▋                          | 414/702 [00:20<00:15, 19.19it/s]"
     ]
    },
    {
     "name": "stderr",
     "output_type": "stream",
     "text": [
      "\r\n",
      "Normal id_04:  59%|█████████████████████████████████████▉                          | 416/702 [00:21<00:14, 19.13it/s]"
     ]
    },
    {
     "name": "stderr",
     "output_type": "stream",
     "text": [
      "\r\n",
      "Normal id_04:  60%|██████████████████████████████████████                          | 418/702 [00:21<00:14, 18.94it/s]"
     ]
    },
    {
     "name": "stderr",
     "output_type": "stream",
     "text": [
      "\r\n",
      "Normal id_04:  60%|██████████████████████████████████████▎                         | 420/702 [00:21<00:14, 19.16it/s]"
     ]
    },
    {
     "name": "stderr",
     "output_type": "stream",
     "text": [
      "\r\n",
      "Normal id_04:  60%|██████████████████████████████████████▌                         | 423/702 [00:21<00:14, 19.62it/s]"
     ]
    },
    {
     "name": "stderr",
     "output_type": "stream",
     "text": [
      "\r\n",
      "Normal id_04:  61%|██████████████████████████████████████▋                         | 425/702 [00:21<00:14, 18.60it/s]"
     ]
    },
    {
     "name": "stderr",
     "output_type": "stream",
     "text": [
      "\r\n",
      "Normal id_04:  61%|███████████████████████████████████████                         | 428/702 [00:21<00:13, 19.70it/s]"
     ]
    },
    {
     "name": "stderr",
     "output_type": "stream",
     "text": [
      "\r\n",
      "Normal id_04:  61%|███████████████████████████████████████▎                        | 431/702 [00:21<00:13, 20.43it/s]"
     ]
    },
    {
     "name": "stderr",
     "output_type": "stream",
     "text": [
      "\r\n",
      "Normal id_04:  62%|███████████████████████████████████████▌                        | 434/702 [00:21<00:12, 20.92it/s]"
     ]
    },
    {
     "name": "stderr",
     "output_type": "stream",
     "text": [
      "\r\n",
      "Normal id_04:  62%|███████████████████████████████████████▊                        | 437/702 [00:22<00:12, 21.27it/s]"
     ]
    },
    {
     "name": "stderr",
     "output_type": "stream",
     "text": [
      "\r\n",
      "Normal id_04:  63%|████████████████████████████████████████                        | 440/702 [00:22<00:12, 21.48it/s]"
     ]
    },
    {
     "name": "stderr",
     "output_type": "stream",
     "text": [
      "\r\n",
      "Normal id_04:  63%|████████████████████████████████████████▍                       | 443/702 [00:22<00:12, 21.49it/s]"
     ]
    },
    {
     "name": "stderr",
     "output_type": "stream",
     "text": [
      "\r\n",
      "Normal id_04:  64%|████████████████████████████████████████▋                       | 446/702 [00:22<00:12, 20.07it/s]"
     ]
    },
    {
     "name": "stderr",
     "output_type": "stream",
     "text": [
      "\r\n",
      "Normal id_04:  64%|████████████████████████████████████████▉                       | 449/702 [00:22<00:13, 18.85it/s]"
     ]
    },
    {
     "name": "stderr",
     "output_type": "stream",
     "text": [
      "\r\n",
      "Normal id_04:  64%|█████████████████████████████████████████                       | 451/702 [00:22<00:13, 18.02it/s]"
     ]
    },
    {
     "name": "stderr",
     "output_type": "stream",
     "text": [
      "\r\n",
      "Normal id_04:  65%|█████████████████████████████████████████▎                      | 453/702 [00:22<00:15, 16.06it/s]"
     ]
    },
    {
     "name": "stderr",
     "output_type": "stream",
     "text": [
      "\r\n",
      "Normal id_04:  65%|█████████████████████████████████████████▍                      | 455/702 [00:23<00:14, 16.68it/s]"
     ]
    },
    {
     "name": "stderr",
     "output_type": "stream",
     "text": [
      "\r\n",
      "Normal id_04:  65%|█████████████████████████████████████████▊                      | 458/702 [00:23<00:13, 18.10it/s]"
     ]
    },
    {
     "name": "stderr",
     "output_type": "stream",
     "text": [
      "\r\n",
      "Normal id_04:  66%|██████████████████████████████████████████                      | 461/702 [00:23<00:12, 19.22it/s]"
     ]
    },
    {
     "name": "stderr",
     "output_type": "stream",
     "text": [
      "\r\n",
      "Normal id_04:  66%|██████████████████████████████████████████▏                     | 463/702 [00:23<00:12, 18.55it/s]"
     ]
    },
    {
     "name": "stderr",
     "output_type": "stream",
     "text": [
      "\r\n",
      "Normal id_04:  66%|██████████████████████████████████████████▍                     | 466/702 [00:23<00:12, 19.20it/s]"
     ]
    },
    {
     "name": "stderr",
     "output_type": "stream",
     "text": [
      "\r\n",
      "Normal id_04:  67%|██████████████████████████████████████████▊                     | 469/702 [00:23<00:11, 19.81it/s]"
     ]
    },
    {
     "name": "stderr",
     "output_type": "stream",
     "text": [
      "\r\n",
      "Normal id_04:  67%|███████████████████████████████████████████                     | 472/702 [00:23<00:11, 20.14it/s]"
     ]
    },
    {
     "name": "stderr",
     "output_type": "stream",
     "text": [
      "\r\n",
      "Normal id_04:  68%|███████████████████████████████████████████▎                    | 475/702 [00:24<00:11, 20.10it/s]"
     ]
    },
    {
     "name": "stderr",
     "output_type": "stream",
     "text": [
      "\r\n",
      "Normal id_04:  68%|███████████████████████████████████████████▌                    | 478/702 [00:24<00:11, 20.21it/s]"
     ]
    },
    {
     "name": "stderr",
     "output_type": "stream",
     "text": [
      "\r\n",
      "Normal id_04:  69%|███████████████████████████████████████████▊                    | 481/702 [00:24<00:10, 20.42it/s]"
     ]
    },
    {
     "name": "stderr",
     "output_type": "stream",
     "text": [
      "\r\n",
      "Normal id_04:  69%|████████████████████████████████████████████▏                   | 484/702 [00:24<00:11, 18.67it/s]"
     ]
    },
    {
     "name": "stderr",
     "output_type": "stream",
     "text": [
      "\r\n",
      "Normal id_04:  69%|████████████████████████████████████████████▎                   | 486/702 [00:24<00:11, 18.28it/s]"
     ]
    },
    {
     "name": "stderr",
     "output_type": "stream",
     "text": [
      "\r\n",
      "Normal id_04:  70%|████████████████████████████████████████████▍                   | 488/702 [00:24<00:11, 18.52it/s]"
     ]
    },
    {
     "name": "stderr",
     "output_type": "stream",
     "text": [
      "\r\n",
      "Normal id_04:  70%|████████████████████████████████████████████▋                   | 490/702 [00:24<00:11, 18.40it/s]"
     ]
    },
    {
     "name": "stderr",
     "output_type": "stream",
     "text": [
      "\r\n",
      "Normal id_04:  70%|████████████████████████████████████████████▊                   | 492/702 [00:24<00:11, 18.35it/s]"
     ]
    },
    {
     "name": "stderr",
     "output_type": "stream",
     "text": [
      "\r\n",
      "Normal id_04:  71%|█████████████████████████████████████████████▏                  | 495/702 [00:25<00:10, 19.48it/s]"
     ]
    },
    {
     "name": "stderr",
     "output_type": "stream",
     "text": [
      "\r\n",
      "Normal id_04:  71%|█████████████████████████████████████████████▍                  | 498/702 [00:25<00:10, 20.09it/s]"
     ]
    },
    {
     "name": "stderr",
     "output_type": "stream",
     "text": [
      "\r\n",
      "Normal id_04:  71%|█████████████████████████████████████████████▋                  | 501/702 [00:25<00:10, 19.88it/s]"
     ]
    },
    {
     "name": "stderr",
     "output_type": "stream",
     "text": [
      "\r\n",
      "Normal id_04:  72%|█████████████████████████████████████████████▊                  | 503/702 [00:25<00:10, 19.16it/s]"
     ]
    },
    {
     "name": "stderr",
     "output_type": "stream",
     "text": [
      "\r\n",
      "Normal id_04:  72%|██████████████████████████████████████████████▏                 | 506/702 [00:25<00:09, 19.94it/s]"
     ]
    },
    {
     "name": "stderr",
     "output_type": "stream",
     "text": [
      "\r\n",
      "Normal id_04:  73%|██████████████████████████████████████████████▍                 | 509/702 [00:25<00:09, 20.13it/s]"
     ]
    },
    {
     "name": "stderr",
     "output_type": "stream",
     "text": [
      "\r\n",
      "Normal id_04:  73%|██████████████████████████████████████████████▋                 | 512/702 [00:25<00:09, 20.32it/s]"
     ]
    },
    {
     "name": "stderr",
     "output_type": "stream",
     "text": [
      "\r\n",
      "Normal id_04:  73%|██████████████████████████████████████████████▉                 | 515/702 [00:26<00:09, 20.04it/s]"
     ]
    },
    {
     "name": "stderr",
     "output_type": "stream",
     "text": [
      "\r\n",
      "Normal id_04:  74%|███████████████████████████████████████████████▏                | 518/702 [00:26<00:09, 20.36it/s]"
     ]
    },
    {
     "name": "stderr",
     "output_type": "stream",
     "text": [
      "\r\n",
      "Normal id_04:  74%|███████████████████████████████████████████████▍                | 521/702 [00:26<00:08, 20.55it/s]"
     ]
    },
    {
     "name": "stderr",
     "output_type": "stream",
     "text": [
      "\r\n",
      "Normal id_04:  75%|███████████████████████████████████████████████▊                | 524/702 [00:26<00:08, 19.88it/s]"
     ]
    },
    {
     "name": "stderr",
     "output_type": "stream",
     "text": [
      "\r\n",
      "Normal id_04:  75%|████████████████████████████████████████████████                | 527/702 [00:26<00:08, 19.93it/s]"
     ]
    },
    {
     "name": "stderr",
     "output_type": "stream",
     "text": [
      "\r\n",
      "Normal id_04:  75%|████████████████████████████████████████████████▏               | 529/702 [00:26<00:08, 19.83it/s]"
     ]
    },
    {
     "name": "stderr",
     "output_type": "stream",
     "text": [
      "\r\n",
      "Normal id_04:  76%|████████████████████████████████████████████████▍               | 531/702 [00:26<00:08, 19.49it/s]"
     ]
    },
    {
     "name": "stderr",
     "output_type": "stream",
     "text": [
      "\r\n",
      "Normal id_04:  76%|████████████████████████████████████████████████▌               | 533/702 [00:27<00:08, 19.34it/s]"
     ]
    },
    {
     "name": "stderr",
     "output_type": "stream",
     "text": [
      "\r\n",
      "Normal id_04:  76%|████████████████████████████████████████████████▊               | 535/702 [00:27<00:08, 19.30it/s]"
     ]
    },
    {
     "name": "stderr",
     "output_type": "stream",
     "text": [
      "\r\n",
      "Normal id_04:  76%|████████████████████████████████████████████████▉               | 537/702 [00:27<00:08, 19.20it/s]"
     ]
    },
    {
     "name": "stderr",
     "output_type": "stream",
     "text": [
      "\r\n",
      "Normal id_04:  77%|█████████████████████████████████████████████████▏              | 539/702 [00:27<00:08, 19.20it/s]"
     ]
    },
    {
     "name": "stderr",
     "output_type": "stream",
     "text": [
      "\r\n",
      "Normal id_04:  77%|█████████████████████████████████████████████████▎              | 541/702 [00:27<00:08, 19.08it/s]"
     ]
    },
    {
     "name": "stderr",
     "output_type": "stream",
     "text": [
      "\r\n",
      "Normal id_04:  77%|█████████████████████████████████████████████████▌              | 543/702 [00:27<00:08, 18.89it/s]"
     ]
    },
    {
     "name": "stderr",
     "output_type": "stream",
     "text": [
      "\r\n",
      "Normal id_04:  78%|█████████████████████████████████████████████████▋              | 545/702 [00:27<00:08, 18.37it/s]"
     ]
    },
    {
     "name": "stderr",
     "output_type": "stream",
     "text": [
      "\r\n",
      "Normal id_04:  78%|█████████████████████████████████████████████████▊              | 547/702 [00:27<00:08, 18.62it/s]"
     ]
    },
    {
     "name": "stderr",
     "output_type": "stream",
     "text": [
      "\r\n",
      "Normal id_04:  78%|██████████████████████████████████████████████████              | 549/702 [00:27<00:08, 18.78it/s]"
     ]
    },
    {
     "name": "stderr",
     "output_type": "stream",
     "text": [
      "\r\n",
      "Normal id_04:  78%|██████████████████████████████████████████████████▏             | 551/702 [00:28<00:08, 18.77it/s]"
     ]
    },
    {
     "name": "stderr",
     "output_type": "stream",
     "text": [
      "\r\n",
      "Normal id_04:  79%|██████████████████████████████████████████████████▍             | 553/702 [00:28<00:07, 18.89it/s]"
     ]
    },
    {
     "name": "stderr",
     "output_type": "stream",
     "text": [
      "\r\n",
      "Normal id_04:  79%|██████████████████████████████████████████████████▋             | 556/702 [00:28<00:07, 19.65it/s]"
     ]
    },
    {
     "name": "stderr",
     "output_type": "stream",
     "text": [
      "\r\n",
      "Normal id_04:  80%|██████████████████████████████████████████████████▉             | 559/702 [00:28<00:07, 20.03it/s]"
     ]
    },
    {
     "name": "stderr",
     "output_type": "stream",
     "text": [
      "\r\n",
      "Normal id_04:  80%|███████████████████████████████████████████████████▏            | 561/702 [00:28<00:07, 19.23it/s]"
     ]
    },
    {
     "name": "stderr",
     "output_type": "stream",
     "text": [
      "\r\n",
      "Normal id_04:  80%|███████████████████████████████████████████████████▎            | 563/702 [00:28<00:07, 19.26it/s]"
     ]
    },
    {
     "name": "stderr",
     "output_type": "stream",
     "text": [
      "\r\n",
      "Normal id_04:  80%|███████████████████████████████████████████████████▌            | 565/702 [00:28<00:07, 19.08it/s]"
     ]
    },
    {
     "name": "stderr",
     "output_type": "stream",
     "text": [
      "\r\n",
      "Normal id_04:  81%|███████████████████████████████████████████████████▋            | 567/702 [00:28<00:07, 18.99it/s]"
     ]
    },
    {
     "name": "stderr",
     "output_type": "stream",
     "text": [
      "\r\n",
      "Normal id_04:  81%|███████████████████████████████████████████████████▊            | 569/702 [00:28<00:06, 19.08it/s]"
     ]
    },
    {
     "name": "stderr",
     "output_type": "stream",
     "text": [
      "\r\n",
      "Normal id_04:  81%|████████████████████████████████████████████████████            | 571/702 [00:29<00:06, 19.06it/s]"
     ]
    },
    {
     "name": "stderr",
     "output_type": "stream",
     "text": [
      "\r\n",
      "Normal id_04:  82%|████████████████████████████████████████████████████▏           | 573/702 [00:29<00:06, 19.13it/s]"
     ]
    },
    {
     "name": "stderr",
     "output_type": "stream",
     "text": [
      "\r\n",
      "Normal id_04:  82%|████████████████████████████████████████████████████▍           | 575/702 [00:29<00:06, 19.33it/s]"
     ]
    },
    {
     "name": "stderr",
     "output_type": "stream",
     "text": [
      "\r\n",
      "Normal id_04:  82%|████████████████████████████████████████████████████▌           | 577/702 [00:29<00:06, 19.36it/s]"
     ]
    },
    {
     "name": "stderr",
     "output_type": "stream",
     "text": [
      "\r\n",
      "Normal id_04:  82%|████████████████████████████████████████████████████▊           | 579/702 [00:29<00:06, 18.83it/s]"
     ]
    },
    {
     "name": "stderr",
     "output_type": "stream",
     "text": [
      "\r\n",
      "Normal id_04:  83%|████████████████████████████████████████████████████▉           | 581/702 [00:29<00:06, 18.87it/s]"
     ]
    },
    {
     "name": "stderr",
     "output_type": "stream",
     "text": [
      "\r\n",
      "Normal id_04:  83%|█████████████████████████████████████████████████████▏          | 583/702 [00:29<00:06, 18.49it/s]"
     ]
    },
    {
     "name": "stderr",
     "output_type": "stream",
     "text": [
      "\r\n",
      "Normal id_04:  83%|█████████████████████████████████████████████████████▎          | 585/702 [00:29<00:06, 18.72it/s]"
     ]
    },
    {
     "name": "stderr",
     "output_type": "stream",
     "text": [
      "\r\n",
      "Normal id_04:  84%|█████████████████████████████████████████████████████▌          | 588/702 [00:29<00:05, 19.73it/s]"
     ]
    },
    {
     "name": "stderr",
     "output_type": "stream",
     "text": [
      "\r\n",
      "Normal id_04:  84%|█████████████████████████████████████████████████████▉          | 591/702 [00:30<00:05, 20.60it/s]"
     ]
    },
    {
     "name": "stderr",
     "output_type": "stream",
     "text": [
      "\r\n",
      "Normal id_04:  85%|██████████████████████████████████████████████████████▏         | 594/702 [00:30<00:05, 21.14it/s]"
     ]
    },
    {
     "name": "stderr",
     "output_type": "stream",
     "text": [
      "\r\n",
      "Normal id_04:  85%|██████████████████████████████████████████████████████▍         | 597/702 [00:30<00:05, 20.10it/s]"
     ]
    },
    {
     "name": "stderr",
     "output_type": "stream",
     "text": [
      "\r\n",
      "Normal id_04:  85%|██████████████████████████████████████████████████████▋         | 600/702 [00:30<00:05, 19.63it/s]"
     ]
    },
    {
     "name": "stderr",
     "output_type": "stream",
     "text": [
      "\r\n",
      "Normal id_04:  86%|██████████████████████████████████████████████████████▉         | 602/702 [00:30<00:05, 19.65it/s]"
     ]
    },
    {
     "name": "stderr",
     "output_type": "stream",
     "text": [
      "\r\n",
      "Normal id_04:  86%|███████████████████████████████████████████████████████         | 604/702 [00:30<00:05, 19.31it/s]"
     ]
    },
    {
     "name": "stderr",
     "output_type": "stream",
     "text": [
      "\r\n",
      "Normal id_04:  86%|███████████████████████████████████████████████████████▏        | 606/702 [00:30<00:04, 19.38it/s]"
     ]
    },
    {
     "name": "stderr",
     "output_type": "stream",
     "text": [
      "\r\n",
      "Normal id_04:  87%|███████████████████████████████████████████████████████▍        | 608/702 [00:30<00:04, 19.55it/s]"
     ]
    },
    {
     "name": "stderr",
     "output_type": "stream",
     "text": [
      "\r\n",
      "Normal id_04:  87%|███████████████████████████████████████████████████████▌        | 610/702 [00:31<00:04, 19.65it/s]"
     ]
    },
    {
     "name": "stderr",
     "output_type": "stream",
     "text": [
      "\r\n",
      "Normal id_04:  87%|███████████████████████████████████████████████████████▉        | 613/702 [00:31<00:04, 19.76it/s]"
     ]
    },
    {
     "name": "stderr",
     "output_type": "stream",
     "text": [
      "\r\n",
      "Normal id_04:  88%|████████████████████████████████████████████████████████        | 615/702 [00:31<00:04, 19.70it/s]"
     ]
    },
    {
     "name": "stderr",
     "output_type": "stream",
     "text": [
      "\r\n",
      "Normal id_04:  88%|████████████████████████████████████████████████████████▎       | 618/702 [00:31<00:04, 19.44it/s]"
     ]
    },
    {
     "name": "stderr",
     "output_type": "stream",
     "text": [
      "\r\n",
      "Normal id_04:  88%|████████████████████████████████████████████████████████▌       | 620/702 [00:31<00:04, 18.17it/s]"
     ]
    },
    {
     "name": "stderr",
     "output_type": "stream",
     "text": [
      "\r\n",
      "Normal id_04:  89%|████████████████████████████████████████████████████████▊       | 623/702 [00:31<00:04, 19.04it/s]"
     ]
    },
    {
     "name": "stderr",
     "output_type": "stream",
     "text": [
      "\r\n",
      "Normal id_04:  89%|████████████████████████████████████████████████████████▉       | 625/702 [00:31<00:04, 19.18it/s]"
     ]
    },
    {
     "name": "stderr",
     "output_type": "stream",
     "text": [
      "\r\n",
      "Normal id_04:  89%|█████████████████████████████████████████████████████████▎      | 628/702 [00:31<00:03, 19.63it/s]"
     ]
    },
    {
     "name": "stderr",
     "output_type": "stream",
     "text": [
      "\r\n",
      "Normal id_04:  90%|█████████████████████████████████████████████████████████▌      | 631/702 [00:32<00:03, 20.33it/s]"
     ]
    },
    {
     "name": "stderr",
     "output_type": "stream",
     "text": [
      "\r\n",
      "Normal id_04:  90%|█████████████████████████████████████████████████████████▊      | 634/702 [00:32<00:03, 19.95it/s]"
     ]
    },
    {
     "name": "stderr",
     "output_type": "stream",
     "text": [
      "\r\n",
      "Normal id_04:  91%|█████████████████████████████████████████████████████████▉      | 636/702 [00:32<00:03, 19.84it/s]"
     ]
    },
    {
     "name": "stderr",
     "output_type": "stream",
     "text": [
      "\r\n",
      "Normal id_04:  91%|██████████████████████████████████████████████████████████▏     | 638/702 [00:32<00:03, 19.64it/s]"
     ]
    },
    {
     "name": "stderr",
     "output_type": "stream",
     "text": [
      "\r\n",
      "Normal id_04:  91%|██████████████████████████████████████████████████████████▎     | 640/702 [00:32<00:03, 19.59it/s]"
     ]
    },
    {
     "name": "stderr",
     "output_type": "stream",
     "text": [
      "\r\n",
      "Normal id_04:  92%|██████████████████████████████████████████████████████████▌     | 643/702 [00:32<00:02, 20.02it/s]"
     ]
    },
    {
     "name": "stderr",
     "output_type": "stream",
     "text": [
      "\r\n",
      "Normal id_04:  92%|██████████████████████████████████████████████████████████▉     | 646/702 [00:32<00:02, 20.42it/s]"
     ]
    },
    {
     "name": "stderr",
     "output_type": "stream",
     "text": [
      "\r\n",
      "Normal id_04:  92%|███████████████████████████████████████████████████████████▏    | 649/702 [00:32<00:02, 20.48it/s]"
     ]
    },
    {
     "name": "stderr",
     "output_type": "stream",
     "text": [
      "\r\n",
      "Normal id_04:  93%|███████████████████████████████████████████████████████████▍    | 652/702 [00:33<00:02, 20.51it/s]"
     ]
    },
    {
     "name": "stderr",
     "output_type": "stream",
     "text": [
      "\r\n",
      "Normal id_04:  93%|███████████████████████████████████████████████████████████▋    | 655/702 [00:33<00:02, 20.56it/s]"
     ]
    },
    {
     "name": "stderr",
     "output_type": "stream",
     "text": [
      "\r\n",
      "Normal id_04:  94%|███████████████████████████████████████████████████████████▉    | 658/702 [00:33<00:02, 20.93it/s]"
     ]
    },
    {
     "name": "stderr",
     "output_type": "stream",
     "text": [
      "\r\n",
      "Normal id_04:  94%|████████████████████████████████████████████████████████████▎   | 661/702 [00:33<00:02, 19.92it/s]"
     ]
    },
    {
     "name": "stderr",
     "output_type": "stream",
     "text": [
      "\r\n",
      "Normal id_04:  95%|████████████████████████████████████████████████████████████▌   | 664/702 [00:33<00:01, 20.38it/s]"
     ]
    },
    {
     "name": "stderr",
     "output_type": "stream",
     "text": [
      "\r\n",
      "Normal id_04:  95%|████████████████████████████████████████████████████████████▊   | 667/702 [00:33<00:01, 20.70it/s]"
     ]
    },
    {
     "name": "stderr",
     "output_type": "stream",
     "text": [
      "\r\n",
      "Normal id_04:  95%|█████████████████████████████████████████████████████████████   | 670/702 [00:34<00:01, 21.16it/s]"
     ]
    },
    {
     "name": "stderr",
     "output_type": "stream",
     "text": [
      "\r\n",
      "Normal id_04:  96%|█████████████████████████████████████████████████████████████▎  | 673/702 [00:34<00:01, 21.22it/s]"
     ]
    },
    {
     "name": "stderr",
     "output_type": "stream",
     "text": [
      "\r\n",
      "Normal id_04:  96%|█████████████████████████████████████████████████████████████▋  | 676/702 [00:34<00:01, 21.40it/s]"
     ]
    },
    {
     "name": "stderr",
     "output_type": "stream",
     "text": [
      "\r\n",
      "Normal id_04:  97%|█████████████████████████████████████████████████████████████▉  | 679/702 [00:34<00:01, 21.65it/s]"
     ]
    },
    {
     "name": "stderr",
     "output_type": "stream",
     "text": [
      "\r\n",
      "Normal id_04:  97%|██████████████████████████████████████████████████████████████▏ | 682/702 [00:34<00:00, 20.69it/s]"
     ]
    },
    {
     "name": "stderr",
     "output_type": "stream",
     "text": [
      "\r\n",
      "Normal id_04:  98%|██████████████████████████████████████████████████████████████▍ | 685/702 [00:34<00:00, 20.74it/s]"
     ]
    },
    {
     "name": "stderr",
     "output_type": "stream",
     "text": [
      "\r\n",
      "Normal id_04:  98%|██████████████████████████████████████████████████████████████▋ | 688/702 [00:34<00:00, 20.65it/s]"
     ]
    },
    {
     "name": "stderr",
     "output_type": "stream",
     "text": [
      "\r\n",
      "Normal id_04:  98%|██████████████████████████████████████████████████████████████▉ | 691/702 [00:35<00:00, 20.01it/s]"
     ]
    },
    {
     "name": "stderr",
     "output_type": "stream",
     "text": [
      "\r\n",
      "Normal id_04:  99%|███████████████████████████████████████████████████████████████▎| 694/702 [00:35<00:00, 19.50it/s]"
     ]
    },
    {
     "name": "stderr",
     "output_type": "stream",
     "text": [
      "\r\n",
      "Normal id_04:  99%|███████████████████████████████████████████████████████████████▍| 696/702 [00:35<00:00, 19.52it/s]"
     ]
    },
    {
     "name": "stderr",
     "output_type": "stream",
     "text": [
      "\r\n",
      "Normal id_04:  99%|███████████████████████████████████████████████████████████████▋| 698/702 [00:35<00:00, 19.63it/s]"
     ]
    },
    {
     "name": "stderr",
     "output_type": "stream",
     "text": [
      "\r\n",
      "Normal id_04: 100%|███████████████████████████████████████████████████████████████▊| 700/702 [00:35<00:00, 18.99it/s]"
     ]
    },
    {
     "name": "stderr",
     "output_type": "stream",
     "text": [
      "\r\n",
      "Normal id_04: 100%|████████████████████████████████████████████████████████████████| 702/702 [00:35<00:00, 18.95it/s]"
     ]
    },
    {
     "name": "stderr",
     "output_type": "stream",
     "text": [
      "\r\n",
      "Normal id_04: 100%|████████████████████████████████████████████████████████████████| 702/702 [00:35<00:00, 19.71it/s]"
     ]
    },
    {
     "name": "stderr",
     "output_type": "stream",
     "text": [
      "\n"
     ]
    },
    {
     "name": "stdout",
     "output_type": "stream",
     "text": [
      "Processing 100 abnormal files for id_04...\n"
     ]
    },
    {
     "name": "stderr",
     "output_type": "stream",
     "text": [
      "\r\n",
      "Abnormal id_04:   0%|                                                                        | 0/100 [00:00<?, ?it/s]"
     ]
    },
    {
     "name": "stderr",
     "output_type": "stream",
     "text": [
      "\r\n",
      "Abnormal id_04:   3%|█▉                                                              | 3/100 [00:00<00:04, 20.59it/s]"
     ]
    },
    {
     "name": "stderr",
     "output_type": "stream",
     "text": [
      "\r\n",
      "Abnormal id_04:   6%|███▊                                                            | 6/100 [00:00<00:04, 20.73it/s]"
     ]
    },
    {
     "name": "stderr",
     "output_type": "stream",
     "text": [
      "\r\n",
      "Abnormal id_04:   9%|█████▊                                                          | 9/100 [00:00<00:04, 21.22it/s]"
     ]
    },
    {
     "name": "stderr",
     "output_type": "stream",
     "text": [
      "\r\n",
      "Abnormal id_04:  12%|███████▌                                                       | 12/100 [00:00<00:04, 20.87it/s]"
     ]
    },
    {
     "name": "stderr",
     "output_type": "stream",
     "text": [
      "\r\n",
      "Abnormal id_04:  15%|█████████▍                                                     | 15/100 [00:00<00:04, 20.70it/s]"
     ]
    },
    {
     "name": "stderr",
     "output_type": "stream",
     "text": [
      "\r\n",
      "Abnormal id_04:  18%|███████████▎                                                   | 18/100 [00:00<00:04, 19.44it/s]"
     ]
    },
    {
     "name": "stderr",
     "output_type": "stream",
     "text": [
      "\r\n",
      "Abnormal id_04:  20%|████████████▌                                                  | 20/100 [00:00<00:04, 19.50it/s]"
     ]
    },
    {
     "name": "stderr",
     "output_type": "stream",
     "text": [
      "\r\n",
      "Abnormal id_04:  23%|██████████████▍                                                | 23/100 [00:01<00:03, 20.10it/s]"
     ]
    },
    {
     "name": "stderr",
     "output_type": "stream",
     "text": [
      "\r\n",
      "Abnormal id_04:  26%|████████████████▍                                              | 26/100 [00:01<00:03, 20.08it/s]"
     ]
    },
    {
     "name": "stderr",
     "output_type": "stream",
     "text": [
      "\r\n",
      "Abnormal id_04:  29%|██████████████████▎                                            | 29/100 [00:01<00:03, 20.57it/s]"
     ]
    },
    {
     "name": "stderr",
     "output_type": "stream",
     "text": [
      "\r\n",
      "Abnormal id_04:  32%|████████████████████▏                                          | 32/100 [00:01<00:03, 20.35it/s]"
     ]
    },
    {
     "name": "stderr",
     "output_type": "stream",
     "text": [
      "\r\n",
      "Abnormal id_04:  35%|██████████████████████                                         | 35/100 [00:01<00:03, 20.70it/s]"
     ]
    },
    {
     "name": "stderr",
     "output_type": "stream",
     "text": [
      "\r\n",
      "Abnormal id_04:  38%|███████████████████████▉                                       | 38/100 [00:01<00:03, 19.95it/s]"
     ]
    },
    {
     "name": "stderr",
     "output_type": "stream",
     "text": [
      "\r\n",
      "Abnormal id_04:  41%|█████████████████████████▊                                     | 41/100 [00:02<00:02, 20.07it/s]"
     ]
    },
    {
     "name": "stderr",
     "output_type": "stream",
     "text": [
      "\r\n",
      "Abnormal id_04:  44%|███████████████████████████▋                                   | 44/100 [00:02<00:02, 20.71it/s]"
     ]
    },
    {
     "name": "stderr",
     "output_type": "stream",
     "text": [
      "\r\n",
      "Abnormal id_04:  47%|█████████████████████████████▌                                 | 47/100 [00:02<00:02, 20.98it/s]"
     ]
    },
    {
     "name": "stderr",
     "output_type": "stream",
     "text": [
      "\r\n",
      "Abnormal id_04:  50%|███████████████████████████████▌                               | 50/100 [00:02<00:02, 20.45it/s]"
     ]
    },
    {
     "name": "stderr",
     "output_type": "stream",
     "text": [
      "\r\n",
      "Abnormal id_04:  53%|█████████████████████████████████▍                             | 53/100 [00:02<00:02, 20.08it/s]"
     ]
    },
    {
     "name": "stderr",
     "output_type": "stream",
     "text": [
      "\r\n",
      "Abnormal id_04:  56%|███████████████████████████████████▎                           | 56/100 [00:02<00:02, 20.15it/s]"
     ]
    },
    {
     "name": "stderr",
     "output_type": "stream",
     "text": [
      "\r\n",
      "Abnormal id_04:  59%|█████████████████████████████████████▏                         | 59/100 [00:02<00:02, 18.57it/s]"
     ]
    },
    {
     "name": "stderr",
     "output_type": "stream",
     "text": [
      "\r\n",
      "Abnormal id_04:  61%|██████████████████████████████████████▍                        | 61/100 [00:03<00:02, 18.34it/s]"
     ]
    },
    {
     "name": "stderr",
     "output_type": "stream",
     "text": [
      "\r\n",
      "Abnormal id_04:  63%|███████████████████████████████████████▋                       | 63/100 [00:03<00:01, 18.63it/s]"
     ]
    },
    {
     "name": "stderr",
     "output_type": "stream",
     "text": [
      "\r\n",
      "Abnormal id_04:  65%|████████████████████████████████████████▉                      | 65/100 [00:03<00:01, 18.63it/s]"
     ]
    },
    {
     "name": "stderr",
     "output_type": "stream",
     "text": [
      "\r\n",
      "Abnormal id_04:  67%|██████████████████████████████████████████▏                    | 67/100 [00:03<00:01, 18.98it/s]"
     ]
    },
    {
     "name": "stderr",
     "output_type": "stream",
     "text": [
      "\r\n",
      "Abnormal id_04:  69%|███████████████████████████████████████████▍                   | 69/100 [00:03<00:01, 19.22it/s]"
     ]
    },
    {
     "name": "stderr",
     "output_type": "stream",
     "text": [
      "\r\n",
      "Abnormal id_04:  72%|█████████████████████████████████████████████▎                 | 72/100 [00:03<00:01, 19.62it/s]"
     ]
    },
    {
     "name": "stderr",
     "output_type": "stream",
     "text": [
      "\r\n",
      "Abnormal id_04:  75%|███████████████████████████████████████████████▎               | 75/100 [00:03<00:01, 20.07it/s]"
     ]
    },
    {
     "name": "stderr",
     "output_type": "stream",
     "text": [
      "\r\n",
      "Abnormal id_04:  78%|█████████████████████████████████████████████████▏             | 78/100 [00:03<00:01, 19.13it/s]"
     ]
    },
    {
     "name": "stderr",
     "output_type": "stream",
     "text": [
      "\r\n",
      "Abnormal id_04:  80%|██████████████████████████████████████████████████▍            | 80/100 [00:04<00:01, 18.26it/s]"
     ]
    },
    {
     "name": "stderr",
     "output_type": "stream",
     "text": [
      "\r\n",
      "Abnormal id_04:  83%|████████████████████████████████████████████████████▎          | 83/100 [00:04<00:00, 19.39it/s]"
     ]
    },
    {
     "name": "stderr",
     "output_type": "stream",
     "text": [
      "\r\n",
      "Abnormal id_04:  86%|██████████████████████████████████████████████████████▏        | 86/100 [00:04<00:00, 19.90it/s]"
     ]
    },
    {
     "name": "stderr",
     "output_type": "stream",
     "text": [
      "\r\n",
      "Abnormal id_04:  88%|███████████████████████████████████████████████████████▍       | 88/100 [00:04<00:00, 19.91it/s]"
     ]
    },
    {
     "name": "stderr",
     "output_type": "stream",
     "text": [
      "\r\n",
      "Abnormal id_04:  91%|█████████████████████████████████████████████████████████▎     | 91/100 [00:04<00:00, 20.16it/s]"
     ]
    },
    {
     "name": "stderr",
     "output_type": "stream",
     "text": [
      "\r\n",
      "Abnormal id_04:  94%|███████████████████████████████████████████████████████████▏   | 94/100 [00:04<00:00, 19.00it/s]"
     ]
    },
    {
     "name": "stderr",
     "output_type": "stream",
     "text": [
      "\r\n",
      "Abnormal id_04:  96%|████████████████████████████████████████████████████████████▍  | 96/100 [00:04<00:00, 18.32it/s]"
     ]
    },
    {
     "name": "stderr",
     "output_type": "stream",
     "text": [
      "\r\n",
      "Abnormal id_04:  98%|█████████████████████████████████████████████████████████████▋ | 98/100 [00:04<00:00, 18.70it/s]"
     ]
    },
    {
     "name": "stderr",
     "output_type": "stream",
     "text": [
      "\r\n",
      "Abnormal id_04: 100%|██████████████████████████████████████████████████████████████| 100/100 [00:05<00:00, 18.62it/s]"
     ]
    },
    {
     "name": "stderr",
     "output_type": "stream",
     "text": [
      "\r\n",
      "Abnormal id_04: 100%|██████████████████████████████████████████████████████████████| 100/100 [00:05<00:00, 19.64it/s]"
     ]
    },
    {
     "name": "stderr",
     "output_type": "stream",
     "text": [
      "\n"
     ]
    },
    {
     "name": "stdout",
     "output_type": "stream",
     "text": [
      "Processing 1036 normal files for id_06...\n"
     ]
    },
    {
     "name": "stderr",
     "output_type": "stream",
     "text": [
      "\r\n",
      "Normal id_06:   0%|                                                                         | 0/1036 [00:00<?, ?it/s]"
     ]
    },
    {
     "name": "stderr",
     "output_type": "stream",
     "text": [
      "\r\n",
      "Normal id_06:   0%|▏                                                                | 2/1036 [00:00<00:55, 18.57it/s]"
     ]
    },
    {
     "name": "stderr",
     "output_type": "stream",
     "text": [
      "\r\n",
      "Normal id_06:   0%|▎                                                                | 5/1036 [00:00<00:55, 18.62it/s]"
     ]
    },
    {
     "name": "stderr",
     "output_type": "stream",
     "text": [
      "\r\n",
      "Normal id_06:   1%|▌                                                                | 8/1036 [00:00<00:52, 19.48it/s]"
     ]
    },
    {
     "name": "stderr",
     "output_type": "stream",
     "text": [
      "\r\n",
      "Normal id_06:   1%|▋                                                               | 11/1036 [00:00<00:51, 19.93it/s]"
     ]
    },
    {
     "name": "stderr",
     "output_type": "stream",
     "text": [
      "\r\n",
      "Normal id_06:   1%|▊                                                               | 13/1036 [00:00<00:53, 19.29it/s]"
     ]
    },
    {
     "name": "stderr",
     "output_type": "stream",
     "text": [
      "\r\n",
      "Normal id_06:   1%|▉                                                               | 15/1036 [00:00<00:57, 17.89it/s]"
     ]
    },
    {
     "name": "stderr",
     "output_type": "stream",
     "text": [
      "\r\n",
      "Normal id_06:   2%|█                                                               | 17/1036 [00:00<00:56, 18.05it/s]"
     ]
    },
    {
     "name": "stderr",
     "output_type": "stream",
     "text": [
      "\r\n",
      "Normal id_06:   2%|█▏                                                              | 19/1036 [00:01<00:56, 17.97it/s]"
     ]
    },
    {
     "name": "stderr",
     "output_type": "stream",
     "text": [
      "\r\n",
      "Normal id_06:   2%|█▎                                                              | 22/1036 [00:01<00:52, 19.20it/s]"
     ]
    },
    {
     "name": "stderr",
     "output_type": "stream",
     "text": [
      "\r\n",
      "Normal id_06:   2%|█▌                                                              | 25/1036 [00:01<00:50, 20.01it/s]"
     ]
    },
    {
     "name": "stderr",
     "output_type": "stream",
     "text": [
      "\r\n",
      "Normal id_06:   3%|█▋                                                              | 28/1036 [00:01<00:48, 20.75it/s]"
     ]
    },
    {
     "name": "stderr",
     "output_type": "stream",
     "text": [
      "\r\n",
      "Normal id_06:   3%|█▉                                                              | 31/1036 [00:01<00:50, 19.96it/s]"
     ]
    },
    {
     "name": "stderr",
     "output_type": "stream",
     "text": [
      "\r\n",
      "Normal id_06:   3%|██                                                              | 34/1036 [00:01<00:50, 19.87it/s]"
     ]
    },
    {
     "name": "stderr",
     "output_type": "stream",
     "text": [
      "\r\n",
      "Normal id_06:   3%|██▏                                                             | 36/1036 [00:01<00:51, 19.27it/s]"
     ]
    },
    {
     "name": "stderr",
     "output_type": "stream",
     "text": [
      "\r\n",
      "Normal id_06:   4%|██▍                                                             | 39/1036 [00:02<00:49, 20.10it/s]"
     ]
    },
    {
     "name": "stderr",
     "output_type": "stream",
     "text": [
      "\r\n",
      "Normal id_06:   4%|██▌                                                             | 42/1036 [00:02<00:49, 20.17it/s]"
     ]
    },
    {
     "name": "stderr",
     "output_type": "stream",
     "text": [
      "\r\n",
      "Normal id_06:   4%|██▊                                                             | 45/1036 [00:02<00:48, 20.53it/s]"
     ]
    },
    {
     "name": "stderr",
     "output_type": "stream",
     "text": [
      "\r\n",
      "Normal id_06:   5%|██▉                                                             | 48/1036 [00:02<00:48, 20.23it/s]"
     ]
    },
    {
     "name": "stderr",
     "output_type": "stream",
     "text": [
      "\r\n",
      "Normal id_06:   5%|███▏                                                            | 51/1036 [00:02<00:49, 19.94it/s]"
     ]
    },
    {
     "name": "stderr",
     "output_type": "stream",
     "text": [
      "\r\n",
      "Normal id_06:   5%|███▎                                                            | 53/1036 [00:02<00:49, 19.86it/s]"
     ]
    },
    {
     "name": "stderr",
     "output_type": "stream",
     "text": [
      "\r\n",
      "Normal id_06:   5%|███▍                                                            | 55/1036 [00:02<00:53, 18.48it/s]"
     ]
    },
    {
     "name": "stderr",
     "output_type": "stream",
     "text": [
      "\r\n",
      "Normal id_06:   6%|███▌                                                            | 57/1036 [00:02<00:53, 18.43it/s]"
     ]
    },
    {
     "name": "stderr",
     "output_type": "stream",
     "text": [
      "\r\n",
      "Normal id_06:   6%|███▋                                                            | 59/1036 [00:03<00:53, 18.36it/s]"
     ]
    },
    {
     "name": "stderr",
     "output_type": "stream",
     "text": [
      "\r\n",
      "Normal id_06:   6%|███▊                                                            | 61/1036 [00:03<00:53, 18.21it/s]"
     ]
    },
    {
     "name": "stderr",
     "output_type": "stream",
     "text": [
      "\r\n",
      "Normal id_06:   6%|███▉                                                            | 63/1036 [00:03<00:54, 17.98it/s]"
     ]
    },
    {
     "name": "stderr",
     "output_type": "stream",
     "text": [
      "\r\n",
      "Normal id_06:   6%|████                                                            | 66/1036 [00:03<00:51, 18.87it/s]"
     ]
    },
    {
     "name": "stderr",
     "output_type": "stream",
     "text": [
      "\r\n",
      "Normal id_06:   7%|████▎                                                           | 69/1036 [00:03<00:49, 19.48it/s]"
     ]
    },
    {
     "name": "stderr",
     "output_type": "stream",
     "text": [
      "\r\n",
      "Normal id_06:   7%|████▍                                                           | 72/1036 [00:03<00:48, 19.99it/s]"
     ]
    },
    {
     "name": "stderr",
     "output_type": "stream",
     "text": [
      "\r\n",
      "Normal id_06:   7%|████▌                                                           | 74/1036 [00:03<00:51, 18.73it/s]"
     ]
    },
    {
     "name": "stderr",
     "output_type": "stream",
     "text": [
      "\r\n",
      "Normal id_06:   7%|████▊                                                           | 77/1036 [00:03<00:49, 19.40it/s]"
     ]
    },
    {
     "name": "stderr",
     "output_type": "stream",
     "text": [
      "\r\n",
      "Normal id_06:   8%|████▉                                                           | 80/1036 [00:04<00:47, 19.92it/s]"
     ]
    },
    {
     "name": "stderr",
     "output_type": "stream",
     "text": [
      "\r\n",
      "Normal id_06:   8%|█████                                                           | 82/1036 [00:04<00:48, 19.66it/s]"
     ]
    },
    {
     "name": "stderr",
     "output_type": "stream",
     "text": [
      "\r\n",
      "Normal id_06:   8%|█████▎                                                          | 85/1036 [00:04<00:47, 19.92it/s]"
     ]
    },
    {
     "name": "stderr",
     "output_type": "stream",
     "text": [
      "\r\n",
      "Normal id_06:   8%|█████▎                                                          | 87/1036 [00:04<00:47, 19.81it/s]"
     ]
    },
    {
     "name": "stderr",
     "output_type": "stream",
     "text": [
      "\r\n",
      "Normal id_06:   9%|█████▍                                                          | 89/1036 [00:04<00:47, 19.78it/s]"
     ]
    },
    {
     "name": "stderr",
     "output_type": "stream",
     "text": [
      "\r\n",
      "Normal id_06:   9%|█████▋                                                          | 92/1036 [00:04<00:47, 20.05it/s]"
     ]
    },
    {
     "name": "stderr",
     "output_type": "stream",
     "text": [
      "\r\n",
      "Normal id_06:   9%|█████▊                                                          | 94/1036 [00:04<00:48, 19.25it/s]"
     ]
    },
    {
     "name": "stderr",
     "output_type": "stream",
     "text": [
      "\r\n",
      "Normal id_06:   9%|█████▉                                                          | 96/1036 [00:04<00:49, 19.12it/s]"
     ]
    },
    {
     "name": "stderr",
     "output_type": "stream",
     "text": [
      "\r\n",
      "Normal id_06:   9%|██████                                                          | 98/1036 [00:05<00:49, 18.87it/s]"
     ]
    },
    {
     "name": "stderr",
     "output_type": "stream",
     "text": [
      "\r\n",
      "Normal id_06:  10%|██████                                                         | 100/1036 [00:05<00:49, 18.93it/s]"
     ]
    },
    {
     "name": "stderr",
     "output_type": "stream",
     "text": [
      "\r\n",
      "Normal id_06:  10%|██████▏                                                        | 102/1036 [00:05<00:48, 19.16it/s]"
     ]
    },
    {
     "name": "stderr",
     "output_type": "stream",
     "text": [
      "\r\n",
      "Normal id_06:  10%|██████▍                                                        | 105/1036 [00:05<00:47, 19.55it/s]"
     ]
    },
    {
     "name": "stderr",
     "output_type": "stream",
     "text": [
      "\r\n",
      "Normal id_06:  10%|██████▌                                                        | 108/1036 [00:05<00:46, 19.85it/s]"
     ]
    },
    {
     "name": "stderr",
     "output_type": "stream",
     "text": [
      "\r\n",
      "Normal id_06:  11%|██████▊                                                        | 111/1036 [00:05<00:45, 20.14it/s]"
     ]
    },
    {
     "name": "stderr",
     "output_type": "stream",
     "text": [
      "\r\n",
      "Normal id_06:  11%|██████▉                                                        | 114/1036 [00:05<00:47, 19.43it/s]"
     ]
    },
    {
     "name": "stderr",
     "output_type": "stream",
     "text": [
      "\r\n",
      "Normal id_06:  11%|███████                                                        | 116/1036 [00:05<00:47, 19.48it/s]"
     ]
    },
    {
     "name": "stderr",
     "output_type": "stream",
     "text": [
      "\r\n",
      "Normal id_06:  11%|███████▏                                                       | 118/1036 [00:06<00:47, 19.43it/s]"
     ]
    },
    {
     "name": "stderr",
     "output_type": "stream",
     "text": [
      "\r\n",
      "Normal id_06:  12%|███████▎                                                       | 120/1036 [00:06<00:47, 19.41it/s]"
     ]
    },
    {
     "name": "stderr",
     "output_type": "stream",
     "text": [
      "\r\n",
      "Normal id_06:  12%|███████▍                                                       | 122/1036 [00:06<00:47, 19.44it/s]"
     ]
    },
    {
     "name": "stderr",
     "output_type": "stream",
     "text": [
      "\r\n",
      "Normal id_06:  12%|███████▌                                                       | 124/1036 [00:06<00:46, 19.55it/s]"
     ]
    },
    {
     "name": "stderr",
     "output_type": "stream",
     "text": [
      "\r\n",
      "Normal id_06:  12%|███████▋                                                       | 126/1036 [00:06<00:47, 19.33it/s]"
     ]
    },
    {
     "name": "stderr",
     "output_type": "stream",
     "text": [
      "\r\n",
      "Normal id_06:  12%|███████▊                                                       | 128/1036 [00:06<00:46, 19.45it/s]"
     ]
    },
    {
     "name": "stderr",
     "output_type": "stream",
     "text": [
      "\r\n",
      "Normal id_06:  13%|███████▉                                                       | 131/1036 [00:06<00:46, 19.60it/s]"
     ]
    },
    {
     "name": "stderr",
     "output_type": "stream",
     "text": [
      "\r\n",
      "Normal id_06:  13%|████████                                                       | 133/1036 [00:06<00:47, 18.86it/s]"
     ]
    },
    {
     "name": "stderr",
     "output_type": "stream",
     "text": [
      "\r\n",
      "Normal id_06:  13%|████████▎                                                      | 136/1036 [00:07<00:46, 19.54it/s]"
     ]
    },
    {
     "name": "stderr",
     "output_type": "stream",
     "text": [
      "\r\n",
      "Normal id_06:  13%|████████▍                                                      | 139/1036 [00:07<00:45, 19.92it/s]"
     ]
    },
    {
     "name": "stderr",
     "output_type": "stream",
     "text": [
      "\r\n",
      "Normal id_06:  14%|████████▋                                                      | 142/1036 [00:07<00:43, 20.64it/s]"
     ]
    },
    {
     "name": "stderr",
     "output_type": "stream",
     "text": [
      "\r\n",
      "Normal id_06:  14%|████████▊                                                      | 145/1036 [00:07<00:42, 21.15it/s]"
     ]
    },
    {
     "name": "stderr",
     "output_type": "stream",
     "text": [
      "\r\n",
      "Normal id_06:  14%|█████████                                                      | 148/1036 [00:07<00:42, 21.10it/s]"
     ]
    },
    {
     "name": "stderr",
     "output_type": "stream",
     "text": [
      "\r\n",
      "Normal id_06:  15%|█████████▏                                                     | 151/1036 [00:07<00:41, 21.45it/s]"
     ]
    },
    {
     "name": "stderr",
     "output_type": "stream",
     "text": [
      "\r\n",
      "Normal id_06:  15%|█████████▎                                                     | 154/1036 [00:07<00:44, 19.74it/s]"
     ]
    },
    {
     "name": "stderr",
     "output_type": "stream",
     "text": [
      "\r\n",
      "Normal id_06:  15%|█████████▌                                                     | 157/1036 [00:08<00:44, 19.91it/s]"
     ]
    },
    {
     "name": "stderr",
     "output_type": "stream",
     "text": [
      "\r\n",
      "Normal id_06:  15%|█████████▋                                                     | 160/1036 [00:08<00:44, 19.81it/s]"
     ]
    },
    {
     "name": "stderr",
     "output_type": "stream",
     "text": [
      "\r\n",
      "Normal id_06:  16%|█████████▊                                                     | 162/1036 [00:08<00:44, 19.74it/s]"
     ]
    },
    {
     "name": "stderr",
     "output_type": "stream",
     "text": [
      "\r\n",
      "Normal id_06:  16%|█████████▉                                                     | 164/1036 [00:08<00:44, 19.67it/s]"
     ]
    },
    {
     "name": "stderr",
     "output_type": "stream",
     "text": [
      "\r\n",
      "Normal id_06:  16%|██████████▏                                                    | 167/1036 [00:08<00:43, 20.15it/s]"
     ]
    },
    {
     "name": "stderr",
     "output_type": "stream",
     "text": [
      "\r\n",
      "Normal id_06:  16%|██████████▎                                                    | 170/1036 [00:08<00:42, 20.16it/s]"
     ]
    },
    {
     "name": "stderr",
     "output_type": "stream",
     "text": [
      "\r\n",
      "Normal id_06:  17%|██████████▌                                                    | 173/1036 [00:08<00:42, 20.30it/s]"
     ]
    },
    {
     "name": "stderr",
     "output_type": "stream",
     "text": [
      "\r\n",
      "Normal id_06:  17%|██████████▋                                                    | 176/1036 [00:08<00:41, 20.55it/s]"
     ]
    },
    {
     "name": "stderr",
     "output_type": "stream",
     "text": [
      "\r\n",
      "Normal id_06:  17%|██████████▉                                                    | 179/1036 [00:09<00:42, 20.21it/s]"
     ]
    },
    {
     "name": "stderr",
     "output_type": "stream",
     "text": [
      "\r\n",
      "Normal id_06:  18%|███████████                                                    | 182/1036 [00:09<00:43, 19.53it/s]"
     ]
    },
    {
     "name": "stderr",
     "output_type": "stream",
     "text": [
      "\r\n",
      "Normal id_06:  18%|███████████▏                                                   | 184/1036 [00:09<00:43, 19.43it/s]"
     ]
    },
    {
     "name": "stderr",
     "output_type": "stream",
     "text": [
      "\r\n",
      "Normal id_06:  18%|███████████▎                                                   | 186/1036 [00:09<00:43, 19.39it/s]"
     ]
    },
    {
     "name": "stderr",
     "output_type": "stream",
     "text": [
      "\r\n",
      "Normal id_06:  18%|███████████▍                                                   | 188/1036 [00:09<00:46, 18.22it/s]"
     ]
    },
    {
     "name": "stderr",
     "output_type": "stream",
     "text": [
      "\r\n",
      "Normal id_06:  18%|███████████▌                                                   | 190/1036 [00:09<00:49, 17.10it/s]"
     ]
    },
    {
     "name": "stderr",
     "output_type": "stream",
     "text": [
      "\r\n",
      "Normal id_06:  19%|███████████▋                                                   | 192/1036 [00:09<00:48, 17.41it/s]"
     ]
    },
    {
     "name": "stderr",
     "output_type": "stream",
     "text": [
      "\r\n",
      "Normal id_06:  19%|███████████▊                                                   | 194/1036 [00:09<00:47, 17.78it/s]"
     ]
    },
    {
     "name": "stderr",
     "output_type": "stream",
     "text": [
      "\r\n",
      "Normal id_06:  19%|███████████▉                                                   | 197/1036 [00:10<00:44, 18.79it/s]"
     ]
    },
    {
     "name": "stderr",
     "output_type": "stream",
     "text": [
      "\r\n",
      "Normal id_06:  19%|████████████▏                                                  | 200/1036 [00:10<00:43, 19.20it/s]"
     ]
    },
    {
     "name": "stderr",
     "output_type": "stream",
     "text": [
      "\r\n",
      "Normal id_06:  20%|████████████▎                                                  | 203/1036 [00:10<00:42, 19.55it/s]"
     ]
    },
    {
     "name": "stderr",
     "output_type": "stream",
     "text": [
      "\r\n",
      "Normal id_06:  20%|████████████▌                                                  | 206/1036 [00:10<00:41, 19.84it/s]"
     ]
    },
    {
     "name": "stderr",
     "output_type": "stream",
     "text": [
      "\r\n",
      "Normal id_06:  20%|████████████▋                                                  | 209/1036 [00:10<00:41, 20.06it/s]"
     ]
    },
    {
     "name": "stderr",
     "output_type": "stream",
     "text": [
      "\r\n",
      "Normal id_06:  20%|████████████▉                                                  | 212/1036 [00:10<00:43, 18.95it/s]"
     ]
    },
    {
     "name": "stderr",
     "output_type": "stream",
     "text": [
      "\r\n",
      "Normal id_06:  21%|█████████████                                                  | 215/1036 [00:11<00:41, 19.75it/s]"
     ]
    },
    {
     "name": "stderr",
     "output_type": "stream",
     "text": [
      "\r\n",
      "Normal id_06:  21%|█████████████▎                                                 | 218/1036 [00:11<00:39, 20.46it/s]"
     ]
    },
    {
     "name": "stderr",
     "output_type": "stream",
     "text": [
      "\r\n",
      "Normal id_06:  21%|█████████████▍                                                 | 221/1036 [00:11<00:39, 20.67it/s]"
     ]
    },
    {
     "name": "stderr",
     "output_type": "stream",
     "text": [
      "\r\n",
      "Normal id_06:  22%|█████████████▌                                                 | 224/1036 [00:11<00:38, 21.00it/s]"
     ]
    },
    {
     "name": "stderr",
     "output_type": "stream",
     "text": [
      "\r\n",
      "Normal id_06:  22%|█████████████▊                                                 | 227/1036 [00:11<00:38, 20.92it/s]"
     ]
    },
    {
     "name": "stderr",
     "output_type": "stream",
     "text": [
      "\r\n",
      "Normal id_06:  22%|█████████████▉                                                 | 230/1036 [00:11<00:39, 20.45it/s]"
     ]
    },
    {
     "name": "stderr",
     "output_type": "stream",
     "text": [
      "\r\n",
      "Normal id_06:  22%|██████████████▏                                                | 233/1036 [00:11<00:40, 19.65it/s]"
     ]
    },
    {
     "name": "stderr",
     "output_type": "stream",
     "text": [
      "\r\n",
      "Normal id_06:  23%|██████████████▎                                                | 235/1036 [00:12<00:40, 19.67it/s]"
     ]
    },
    {
     "name": "stderr",
     "output_type": "stream",
     "text": [
      "\r\n",
      "Normal id_06:  23%|██████████████▍                                                | 237/1036 [00:12<00:42, 18.69it/s]"
     ]
    },
    {
     "name": "stderr",
     "output_type": "stream",
     "text": [
      "\r\n",
      "Normal id_06:  23%|██████████████▌                                                | 239/1036 [00:12<00:42, 18.56it/s]"
     ]
    },
    {
     "name": "stderr",
     "output_type": "stream",
     "text": [
      "\r\n",
      "Normal id_06:  23%|██████████████▋                                                | 241/1036 [00:12<00:46, 17.19it/s]"
     ]
    },
    {
     "name": "stderr",
     "output_type": "stream",
     "text": [
      "\r\n",
      "Normal id_06:  23%|██████████████▊                                                | 243/1036 [00:12<00:44, 17.68it/s]"
     ]
    },
    {
     "name": "stderr",
     "output_type": "stream",
     "text": [
      "\r\n",
      "Normal id_06:  24%|██████████████▉                                                | 246/1036 [00:12<00:41, 19.11it/s]"
     ]
    },
    {
     "name": "stderr",
     "output_type": "stream",
     "text": [
      "\r\n",
      "Normal id_06:  24%|███████████████▏                                               | 249/1036 [00:12<00:40, 19.35it/s]"
     ]
    },
    {
     "name": "stderr",
     "output_type": "stream",
     "text": [
      "\r\n",
      "Normal id_06:  24%|███████████████▎                                               | 252/1036 [00:12<00:39, 19.93it/s]"
     ]
    },
    {
     "name": "stderr",
     "output_type": "stream",
     "text": [
      "\r\n",
      "Normal id_06:  25%|███████████████▍                                               | 254/1036 [00:13<00:39, 19.63it/s]"
     ]
    },
    {
     "name": "stderr",
     "output_type": "stream",
     "text": [
      "\r\n",
      "Normal id_06:  25%|███████████████▌                                               | 256/1036 [00:13<00:39, 19.50it/s]"
     ]
    },
    {
     "name": "stderr",
     "output_type": "stream",
     "text": [
      "\r\n",
      "Normal id_06:  25%|███████████████▋                                               | 258/1036 [00:13<00:43, 17.99it/s]"
     ]
    },
    {
     "name": "stderr",
     "output_type": "stream",
     "text": [
      "\r\n",
      "Normal id_06:  25%|███████████████▊                                               | 260/1036 [00:13<00:42, 18.17it/s]"
     ]
    },
    {
     "name": "stderr",
     "output_type": "stream",
     "text": [
      "\r\n",
      "Normal id_06:  25%|███████████████▉                                               | 262/1036 [00:13<00:41, 18.60it/s]"
     ]
    },
    {
     "name": "stderr",
     "output_type": "stream",
     "text": [
      "\r\n",
      "Normal id_06:  25%|████████████████                                               | 264/1036 [00:13<00:46, 16.44it/s]"
     ]
    },
    {
     "name": "stderr",
     "output_type": "stream",
     "text": [
      "\r\n",
      "Normal id_06:  26%|████████████████▏                                              | 266/1036 [00:13<00:45, 17.03it/s]"
     ]
    },
    {
     "name": "stderr",
     "output_type": "stream",
     "text": [
      "\r\n",
      "Normal id_06:  26%|████████████████▎                                              | 268/1036 [00:13<00:45, 17.05it/s]"
     ]
    },
    {
     "name": "stderr",
     "output_type": "stream",
     "text": [
      "\r\n",
      "Normal id_06:  26%|████████████████▍                                              | 271/1036 [00:13<00:41, 18.61it/s]"
     ]
    },
    {
     "name": "stderr",
     "output_type": "stream",
     "text": [
      "\r\n",
      "Normal id_06:  26%|████████████████▋                                              | 274/1036 [00:14<00:38, 19.78it/s]"
     ]
    },
    {
     "name": "stderr",
     "output_type": "stream",
     "text": [
      "\r\n",
      "Normal id_06:  27%|████████████████▊                                              | 277/1036 [00:14<00:37, 20.03it/s]"
     ]
    },
    {
     "name": "stderr",
     "output_type": "stream",
     "text": [
      "\r\n",
      "Normal id_06:  27%|████████████████▉                                              | 279/1036 [00:14<00:38, 19.79it/s]"
     ]
    },
    {
     "name": "stderr",
     "output_type": "stream",
     "text": [
      "\r\n",
      "Normal id_06:  27%|█████████████████                                              | 281/1036 [00:14<00:39, 19.06it/s]"
     ]
    },
    {
     "name": "stderr",
     "output_type": "stream",
     "text": [
      "\r\n",
      "Normal id_06:  27%|█████████████████▎                                             | 284/1036 [00:14<00:37, 19.90it/s]"
     ]
    },
    {
     "name": "stderr",
     "output_type": "stream",
     "text": [
      "\r\n",
      "Normal id_06:  28%|█████████████████▍                                             | 286/1036 [00:14<00:39, 19.15it/s]"
     ]
    },
    {
     "name": "stderr",
     "output_type": "stream",
     "text": [
      "\r\n",
      "Normal id_06:  28%|█████████████████▌                                             | 288/1036 [00:14<00:40, 18.45it/s]"
     ]
    },
    {
     "name": "stderr",
     "output_type": "stream",
     "text": [
      "\r\n",
      "Normal id_06:  28%|█████████████████▋                                             | 290/1036 [00:14<00:39, 18.66it/s]"
     ]
    },
    {
     "name": "stderr",
     "output_type": "stream",
     "text": [
      "\r\n",
      "Normal id_06:  28%|█████████████████▊                                             | 293/1036 [00:15<00:38, 19.12it/s]"
     ]
    },
    {
     "name": "stderr",
     "output_type": "stream",
     "text": [
      "\r\n",
      "Normal id_06:  29%|██████████████████                                             | 296/1036 [00:15<00:37, 19.90it/s]"
     ]
    },
    {
     "name": "stderr",
     "output_type": "stream",
     "text": [
      "\r\n",
      "Normal id_06:  29%|██████████████████▏                                            | 299/1036 [00:15<00:36, 20.16it/s]"
     ]
    },
    {
     "name": "stderr",
     "output_type": "stream",
     "text": [
      "\r\n",
      "Normal id_06:  29%|██████████████████▎                                            | 302/1036 [00:15<00:37, 19.64it/s]"
     ]
    },
    {
     "name": "stderr",
     "output_type": "stream",
     "text": [
      "\r\n",
      "Normal id_06:  29%|██████████████████▍                                            | 304/1036 [00:15<00:37, 19.52it/s]"
     ]
    },
    {
     "name": "stderr",
     "output_type": "stream",
     "text": [
      "\r\n",
      "Normal id_06:  30%|██████████████████▌                                            | 306/1036 [00:15<00:39, 18.60it/s]"
     ]
    },
    {
     "name": "stderr",
     "output_type": "stream",
     "text": [
      "\r\n",
      "Normal id_06:  30%|██████████████████▋                                            | 308/1036 [00:15<00:38, 18.88it/s]"
     ]
    },
    {
     "name": "stderr",
     "output_type": "stream",
     "text": [
      "\r\n",
      "Normal id_06:  30%|██████████████████▉                                            | 311/1036 [00:16<00:37, 19.58it/s]"
     ]
    },
    {
     "name": "stderr",
     "output_type": "stream",
     "text": [
      "\r\n",
      "Normal id_06:  30%|███████████████████                                            | 314/1036 [00:16<00:35, 20.26it/s]"
     ]
    },
    {
     "name": "stderr",
     "output_type": "stream",
     "text": [
      "\r\n",
      "Normal id_06:  31%|███████████████████▎                                           | 317/1036 [00:16<00:34, 20.81it/s]"
     ]
    },
    {
     "name": "stderr",
     "output_type": "stream",
     "text": [
      "\r\n",
      "Normal id_06:  31%|███████████████████▍                                           | 320/1036 [00:16<00:34, 20.73it/s]"
     ]
    },
    {
     "name": "stderr",
     "output_type": "stream",
     "text": [
      "\r\n",
      "Normal id_06:  31%|███████████████████▋                                           | 323/1036 [00:16<00:34, 20.57it/s]"
     ]
    },
    {
     "name": "stderr",
     "output_type": "stream",
     "text": [
      "\r\n",
      "Normal id_06:  31%|███████████████████▊                                           | 326/1036 [00:16<00:34, 20.49it/s]"
     ]
    },
    {
     "name": "stderr",
     "output_type": "stream",
     "text": [
      "\r\n",
      "Normal id_06:  32%|████████████████████                                           | 329/1036 [00:16<00:34, 20.35it/s]"
     ]
    },
    {
     "name": "stderr",
     "output_type": "stream",
     "text": [
      "\r\n",
      "Normal id_06:  32%|████████████████████▏                                          | 332/1036 [00:17<00:34, 20.25it/s]"
     ]
    },
    {
     "name": "stderr",
     "output_type": "stream",
     "text": [
      "\r\n",
      "Normal id_06:  32%|████████████████████▎                                          | 335/1036 [00:17<00:34, 20.18it/s]"
     ]
    },
    {
     "name": "stderr",
     "output_type": "stream",
     "text": [
      "\r\n",
      "Normal id_06:  33%|████████████████████▌                                          | 338/1036 [00:17<00:35, 19.87it/s]"
     ]
    },
    {
     "name": "stderr",
     "output_type": "stream",
     "text": [
      "\r\n",
      "Normal id_06:  33%|████████████████████▋                                          | 340/1036 [00:17<00:36, 19.26it/s]"
     ]
    },
    {
     "name": "stderr",
     "output_type": "stream",
     "text": [
      "\r\n",
      "Normal id_06:  33%|████████████████████▊                                          | 343/1036 [00:17<00:34, 20.10it/s]"
     ]
    },
    {
     "name": "stderr",
     "output_type": "stream",
     "text": [
      "\r\n",
      "Normal id_06:  33%|█████████████████████                                          | 346/1036 [00:17<00:33, 20.58it/s]"
     ]
    },
    {
     "name": "stderr",
     "output_type": "stream",
     "text": [
      "\r\n",
      "Normal id_06:  34%|█████████████████████▏                                         | 349/1036 [00:17<00:32, 21.05it/s]"
     ]
    },
    {
     "name": "stderr",
     "output_type": "stream",
     "text": [
      "\r\n",
      "Normal id_06:  34%|█████████████████████▍                                         | 352/1036 [00:18<00:33, 20.36it/s]"
     ]
    },
    {
     "name": "stderr",
     "output_type": "stream",
     "text": [
      "\r\n",
      "Normal id_06:  34%|█████████████████████▌                                         | 355/1036 [00:18<00:32, 20.64it/s]"
     ]
    },
    {
     "name": "stderr",
     "output_type": "stream",
     "text": [
      "\r\n",
      "Normal id_06:  35%|█████████████████████▊                                         | 358/1036 [00:18<00:32, 21.08it/s]"
     ]
    },
    {
     "name": "stderr",
     "output_type": "stream",
     "text": [
      "\r\n",
      "Normal id_06:  35%|█████████████████████▉                                         | 361/1036 [00:18<00:31, 21.39it/s]"
     ]
    },
    {
     "name": "stderr",
     "output_type": "stream",
     "text": [
      "\r\n",
      "Normal id_06:  35%|██████████████████████▏                                        | 364/1036 [00:18<00:31, 21.59it/s]"
     ]
    },
    {
     "name": "stderr",
     "output_type": "stream",
     "text": [
      "\r\n",
      "Normal id_06:  35%|██████████████████████▎                                        | 367/1036 [00:18<00:30, 21.72it/s]"
     ]
    },
    {
     "name": "stderr",
     "output_type": "stream",
     "text": [
      "\r\n",
      "Normal id_06:  36%|██████████████████████▌                                        | 370/1036 [00:18<00:32, 20.19it/s]"
     ]
    },
    {
     "name": "stderr",
     "output_type": "stream",
     "text": [
      "\r\n",
      "Normal id_06:  36%|██████████████████████▋                                        | 373/1036 [00:19<00:32, 20.70it/s]"
     ]
    },
    {
     "name": "stderr",
     "output_type": "stream",
     "text": [
      "\r\n",
      "Normal id_06:  36%|██████████████████████▊                                        | 376/1036 [00:19<00:31, 21.12it/s]"
     ]
    },
    {
     "name": "stderr",
     "output_type": "stream",
     "text": [
      "\r\n",
      "Normal id_06:  37%|███████████████████████                                        | 379/1036 [00:19<00:30, 21.48it/s]"
     ]
    },
    {
     "name": "stderr",
     "output_type": "stream",
     "text": [
      "\r\n",
      "Normal id_06:  37%|███████████████████████▏                                       | 382/1036 [00:19<00:32, 20.27it/s]"
     ]
    },
    {
     "name": "stderr",
     "output_type": "stream",
     "text": [
      "\r\n",
      "Normal id_06:  37%|███████████████████████▍                                       | 385/1036 [00:19<00:33, 19.64it/s]"
     ]
    },
    {
     "name": "stderr",
     "output_type": "stream",
     "text": [
      "\r\n",
      "Normal id_06:  37%|███████████████████████▌                                       | 388/1036 [00:19<00:33, 19.06it/s]"
     ]
    },
    {
     "name": "stderr",
     "output_type": "stream",
     "text": [
      "\r\n",
      "Normal id_06:  38%|███████████████████████▊                                       | 391/1036 [00:19<00:33, 19.34it/s]"
     ]
    },
    {
     "name": "stderr",
     "output_type": "stream",
     "text": [
      "\r\n",
      "Normal id_06:  38%|███████████████████████▉                                       | 393/1036 [00:20<00:33, 19.31it/s]"
     ]
    },
    {
     "name": "stderr",
     "output_type": "stream",
     "text": [
      "\r\n",
      "Normal id_06:  38%|████████████████████████                                       | 395/1036 [00:20<00:33, 19.26it/s]"
     ]
    },
    {
     "name": "stderr",
     "output_type": "stream",
     "text": [
      "\r\n",
      "Normal id_06:  38%|████████████████████████▏                                      | 397/1036 [00:20<00:33, 19.11it/s]"
     ]
    },
    {
     "name": "stderr",
     "output_type": "stream",
     "text": [
      "\r\n",
      "Normal id_06:  39%|████████████████████████▎                                      | 399/1036 [00:20<00:34, 18.28it/s]"
     ]
    },
    {
     "name": "stderr",
     "output_type": "stream",
     "text": [
      "\r\n",
      "Normal id_06:  39%|████████████████████████▍                                      | 402/1036 [00:20<00:33, 19.18it/s]"
     ]
    },
    {
     "name": "stderr",
     "output_type": "stream",
     "text": [
      "\r\n",
      "Normal id_06:  39%|████████████████████████▋                                      | 405/1036 [00:20<00:31, 19.92it/s]"
     ]
    },
    {
     "name": "stderr",
     "output_type": "stream",
     "text": [
      "\r\n",
      "Normal id_06:  39%|████████████████████████▊                                      | 407/1036 [00:20<00:36, 17.31it/s]"
     ]
    },
    {
     "name": "stderr",
     "output_type": "stream",
     "text": [
      "\r\n",
      "Normal id_06:  39%|████████████████████████▊                                      | 409/1036 [00:20<00:36, 17.24it/s]"
     ]
    },
    {
     "name": "stderr",
     "output_type": "stream",
     "text": [
      "\r\n",
      "Normal id_06:  40%|█████████████████████████                                      | 412/1036 [00:21<00:33, 18.71it/s]"
     ]
    },
    {
     "name": "stderr",
     "output_type": "stream",
     "text": [
      "\r\n",
      "Normal id_06:  40%|█████████████████████████▏                                     | 415/1036 [00:21<00:32, 19.36it/s]"
     ]
    },
    {
     "name": "stderr",
     "output_type": "stream",
     "text": [
      "\r\n",
      "Normal id_06:  40%|█████████████████████████▎                                     | 417/1036 [00:21<00:31, 19.41it/s]"
     ]
    },
    {
     "name": "stderr",
     "output_type": "stream",
     "text": [
      "\r\n",
      "Normal id_06:  40%|█████████████████████████▍                                     | 419/1036 [00:21<00:31, 19.35it/s]"
     ]
    },
    {
     "name": "stderr",
     "output_type": "stream",
     "text": [
      "\r\n",
      "Normal id_06:  41%|█████████████████████████▌                                     | 421/1036 [00:21<00:32, 18.93it/s]"
     ]
    },
    {
     "name": "stderr",
     "output_type": "stream",
     "text": [
      "\r\n",
      "Normal id_06:  41%|█████████████████████████▋                                     | 423/1036 [00:21<00:31, 19.19it/s]"
     ]
    },
    {
     "name": "stderr",
     "output_type": "stream",
     "text": [
      "\r\n",
      "Normal id_06:  41%|█████████████████████████▊                                     | 425/1036 [00:21<00:33, 18.47it/s]"
     ]
    },
    {
     "name": "stderr",
     "output_type": "stream",
     "text": [
      "\r\n",
      "Normal id_06:  41%|██████████████████████████                                     | 428/1036 [00:21<00:30, 19.73it/s]"
     ]
    },
    {
     "name": "stderr",
     "output_type": "stream",
     "text": [
      "\r\n",
      "Normal id_06:  42%|██████████████████████████▏                                    | 431/1036 [00:22<00:30, 20.06it/s]"
     ]
    },
    {
     "name": "stderr",
     "output_type": "stream",
     "text": [
      "\r\n",
      "Normal id_06:  42%|██████████████████████████▎                                    | 433/1036 [00:22<00:30, 19.94it/s]"
     ]
    },
    {
     "name": "stderr",
     "output_type": "stream",
     "text": [
      "\r\n",
      "Normal id_06:  42%|██████████████████████████▍                                    | 435/1036 [00:22<00:30, 19.83it/s]"
     ]
    },
    {
     "name": "stderr",
     "output_type": "stream",
     "text": [
      "\r\n",
      "Normal id_06:  42%|██████████████████████████▌                                    | 437/1036 [00:22<00:30, 19.73it/s]"
     ]
    },
    {
     "name": "stderr",
     "output_type": "stream",
     "text": [
      "\r\n",
      "Normal id_06:  42%|██████████████████████████▋                                    | 439/1036 [00:22<00:30, 19.69it/s]"
     ]
    },
    {
     "name": "stderr",
     "output_type": "stream",
     "text": [
      "\r\n",
      "Normal id_06:  43%|██████████████████████████▊                                    | 441/1036 [00:22<00:30, 19.56it/s]"
     ]
    },
    {
     "name": "stderr",
     "output_type": "stream",
     "text": [
      "\r\n",
      "Normal id_06:  43%|██████████████████████████▉                                    | 443/1036 [00:22<00:30, 19.33it/s]"
     ]
    },
    {
     "name": "stderr",
     "output_type": "stream",
     "text": [
      "\r\n",
      "Normal id_06:  43%|███████████████████████████                                    | 445/1036 [00:22<00:32, 18.22it/s]"
     ]
    },
    {
     "name": "stderr",
     "output_type": "stream",
     "text": [
      "\r\n",
      "Normal id_06:  43%|███████████████████████████▏                                   | 447/1036 [00:22<00:31, 18.67it/s]"
     ]
    },
    {
     "name": "stderr",
     "output_type": "stream",
     "text": [
      "\r\n",
      "Normal id_06:  43%|███████████████████████████▎                                   | 449/1036 [00:22<00:31, 18.63it/s]"
     ]
    },
    {
     "name": "stderr",
     "output_type": "stream",
     "text": [
      "\r\n",
      "Normal id_06:  44%|███████████████████████████▍                                   | 452/1036 [00:23<00:29, 19.80it/s]"
     ]
    },
    {
     "name": "stderr",
     "output_type": "stream",
     "text": [
      "\r\n",
      "Normal id_06:  44%|███████████████████████████▌                                   | 454/1036 [00:23<00:29, 19.83it/s]"
     ]
    },
    {
     "name": "stderr",
     "output_type": "stream",
     "text": [
      "\r\n",
      "Normal id_06:  44%|███████████████████████████▊                                   | 457/1036 [00:23<00:27, 20.78it/s]"
     ]
    },
    {
     "name": "stderr",
     "output_type": "stream",
     "text": [
      "\r\n",
      "Normal id_06:  44%|███████████████████████████▉                                   | 460/1036 [00:23<00:27, 21.01it/s]"
     ]
    },
    {
     "name": "stderr",
     "output_type": "stream",
     "text": [
      "\r\n",
      "Normal id_06:  45%|████████████████████████████▏                                  | 463/1036 [00:23<00:27, 20.48it/s]"
     ]
    },
    {
     "name": "stderr",
     "output_type": "stream",
     "text": [
      "\r\n",
      "Normal id_06:  45%|████████████████████████████▎                                  | 466/1036 [00:23<00:27, 20.42it/s]"
     ]
    },
    {
     "name": "stderr",
     "output_type": "stream",
     "text": [
      "\r\n",
      "Normal id_06:  45%|████████████████████████████▌                                  | 469/1036 [00:23<00:27, 20.92it/s]"
     ]
    },
    {
     "name": "stderr",
     "output_type": "stream",
     "text": [
      "\r\n",
      "Normal id_06:  46%|████████████████████████████▋                                  | 472/1036 [00:24<00:27, 20.56it/s]"
     ]
    },
    {
     "name": "stderr",
     "output_type": "stream",
     "text": [
      "\r\n",
      "Normal id_06:  46%|████████████████████████████▉                                  | 475/1036 [00:24<00:26, 20.80it/s]"
     ]
    },
    {
     "name": "stderr",
     "output_type": "stream",
     "text": [
      "\r\n",
      "Normal id_06:  46%|█████████████████████████████                                  | 478/1036 [00:24<00:26, 20.90it/s]"
     ]
    },
    {
     "name": "stderr",
     "output_type": "stream",
     "text": [
      "\r\n",
      "Normal id_06:  46%|█████████████████████████████▎                                 | 481/1036 [00:24<00:27, 20.41it/s]"
     ]
    },
    {
     "name": "stderr",
     "output_type": "stream",
     "text": [
      "\r\n",
      "Normal id_06:  47%|█████████████████████████████▍                                 | 484/1036 [00:24<00:27, 20.14it/s]"
     ]
    },
    {
     "name": "stderr",
     "output_type": "stream",
     "text": [
      "\r\n",
      "Normal id_06:  47%|█████████████████████████████▌                                 | 487/1036 [00:24<00:28, 19.34it/s]"
     ]
    },
    {
     "name": "stderr",
     "output_type": "stream",
     "text": [
      "\r\n",
      "Normal id_06:  47%|█████████████████████████████▊                                 | 490/1036 [00:24<00:27, 20.15it/s]"
     ]
    },
    {
     "name": "stderr",
     "output_type": "stream",
     "text": [
      "\r\n",
      "Normal id_06:  48%|█████████████████████████████▉                                 | 493/1036 [00:25<00:27, 19.74it/s]"
     ]
    },
    {
     "name": "stderr",
     "output_type": "stream",
     "text": [
      "\r\n",
      "Normal id_06:  48%|██████████████████████████████                                 | 495/1036 [00:25<00:27, 19.77it/s]"
     ]
    },
    {
     "name": "stderr",
     "output_type": "stream",
     "text": [
      "\r\n",
      "Normal id_06:  48%|██████████████████████████████▏                                | 497/1036 [00:25<00:27, 19.66it/s]"
     ]
    },
    {
     "name": "stderr",
     "output_type": "stream",
     "text": [
      "\r\n",
      "Normal id_06:  48%|██████████████████████████████▎                                | 499/1036 [00:25<00:27, 19.62it/s]"
     ]
    },
    {
     "name": "stderr",
     "output_type": "stream",
     "text": [
      "\r\n",
      "Normal id_06:  48%|██████████████████████████████▍                                | 501/1036 [00:25<00:27, 19.24it/s]"
     ]
    },
    {
     "name": "stderr",
     "output_type": "stream",
     "text": [
      "\r\n",
      "Normal id_06:  49%|██████████████████████████████▌                                | 503/1036 [00:25<00:27, 19.18it/s]"
     ]
    },
    {
     "name": "stderr",
     "output_type": "stream",
     "text": [
      "\r\n",
      "Normal id_06:  49%|██████████████████████████████▋                                | 505/1036 [00:25<00:28, 18.90it/s]"
     ]
    },
    {
     "name": "stderr",
     "output_type": "stream",
     "text": [
      "\r\n",
      "Normal id_06:  49%|██████████████████████████████▉                                | 508/1036 [00:25<00:26, 19.72it/s]"
     ]
    },
    {
     "name": "stderr",
     "output_type": "stream",
     "text": [
      "\r\n",
      "Normal id_06:  49%|███████████████████████████████                                | 511/1036 [00:26<00:26, 20.01it/s]"
     ]
    },
    {
     "name": "stderr",
     "output_type": "stream",
     "text": [
      "\r\n",
      "Normal id_06:  50%|███████████████████████████████▎                               | 514/1036 [00:26<00:25, 20.21it/s]"
     ]
    },
    {
     "name": "stderr",
     "output_type": "stream",
     "text": [
      "\r\n",
      "Normal id_06:  50%|███████████████████████████████▍                               | 517/1036 [00:26<00:25, 20.39it/s]"
     ]
    },
    {
     "name": "stderr",
     "output_type": "stream",
     "text": [
      "\r\n",
      "Normal id_06:  50%|███████████████████████████████▌                               | 520/1036 [00:26<00:25, 19.92it/s]"
     ]
    },
    {
     "name": "stderr",
     "output_type": "stream",
     "text": [
      "\r\n",
      "Normal id_06:  50%|███████████████████████████████▋                               | 522/1036 [00:26<00:26, 19.49it/s]"
     ]
    },
    {
     "name": "stderr",
     "output_type": "stream",
     "text": [
      "\r\n",
      "Normal id_06:  51%|███████████████████████████████▉                               | 525/1036 [00:26<00:26, 19.11it/s]"
     ]
    },
    {
     "name": "stderr",
     "output_type": "stream",
     "text": [
      "\r\n",
      "Normal id_06:  51%|████████████████████████████████                               | 527/1036 [00:26<00:26, 19.31it/s]"
     ]
    },
    {
     "name": "stderr",
     "output_type": "stream",
     "text": [
      "\r\n",
      "Normal id_06:  51%|████████████████████████████████▏                              | 530/1036 [00:27<00:25, 20.16it/s]"
     ]
    },
    {
     "name": "stderr",
     "output_type": "stream",
     "text": [
      "\r\n",
      "Normal id_06:  51%|████████████████████████████████▍                              | 533/1036 [00:27<00:25, 19.92it/s]"
     ]
    },
    {
     "name": "stderr",
     "output_type": "stream",
     "text": [
      "\r\n",
      "Normal id_06:  52%|████████████████████████████████▌                              | 536/1036 [00:27<00:24, 20.66it/s]"
     ]
    },
    {
     "name": "stderr",
     "output_type": "stream",
     "text": [
      "\r\n",
      "Normal id_06:  52%|████████████████████████████████▊                              | 539/1036 [00:27<00:24, 20.31it/s]"
     ]
    },
    {
     "name": "stderr",
     "output_type": "stream",
     "text": [
      "\r\n",
      "Normal id_06:  52%|████████████████████████████████▉                              | 542/1036 [00:27<00:25, 19.54it/s]"
     ]
    },
    {
     "name": "stderr",
     "output_type": "stream",
     "text": [
      "\r\n",
      "Normal id_06:  53%|█████████████████████████████████▏                             | 545/1036 [00:27<00:24, 19.72it/s]"
     ]
    },
    {
     "name": "stderr",
     "output_type": "stream",
     "text": [
      "\r\n",
      "Normal id_06:  53%|█████████████████████████████████▎                             | 547/1036 [00:27<00:24, 19.64it/s]"
     ]
    },
    {
     "name": "stderr",
     "output_type": "stream",
     "text": [
      "\r\n",
      "Normal id_06:  53%|█████████████████████████████████▍                             | 550/1036 [00:28<00:23, 20.45it/s]"
     ]
    },
    {
     "name": "stderr",
     "output_type": "stream",
     "text": [
      "\r\n",
      "Normal id_06:  53%|█████████████████████████████████▋                             | 553/1036 [00:28<00:23, 20.85it/s]"
     ]
    },
    {
     "name": "stderr",
     "output_type": "stream",
     "text": [
      "\r\n",
      "Normal id_06:  54%|█████████████████████████████████▊                             | 556/1036 [00:28<00:23, 20.78it/s]"
     ]
    },
    {
     "name": "stderr",
     "output_type": "stream",
     "text": [
      "\r\n",
      "Normal id_06:  54%|█████████████████████████████████▉                             | 559/1036 [00:28<00:23, 20.73it/s]"
     ]
    },
    {
     "name": "stderr",
     "output_type": "stream",
     "text": [
      "\r\n",
      "Normal id_06:  54%|██████████████████████████████████▏                            | 562/1036 [00:28<00:22, 20.66it/s]"
     ]
    },
    {
     "name": "stderr",
     "output_type": "stream",
     "text": [
      "\r\n",
      "Normal id_06:  55%|██████████████████████████████████▎                            | 565/1036 [00:28<00:23, 20.23it/s]"
     ]
    },
    {
     "name": "stderr",
     "output_type": "stream",
     "text": [
      "\r\n",
      "Normal id_06:  55%|██████████████████████████████████▌                            | 568/1036 [00:28<00:24, 19.42it/s]"
     ]
    },
    {
     "name": "stderr",
     "output_type": "stream",
     "text": [
      "\r\n",
      "Normal id_06:  55%|██████████████████████████████████▋                            | 571/1036 [00:29<00:22, 20.26it/s]"
     ]
    },
    {
     "name": "stderr",
     "output_type": "stream",
     "text": [
      "\r\n",
      "Normal id_06:  55%|██████████████████████████████████▉                            | 574/1036 [00:29<00:22, 20.42it/s]"
     ]
    },
    {
     "name": "stderr",
     "output_type": "stream",
     "text": [
      "\r\n",
      "Normal id_06:  56%|███████████████████████████████████                            | 577/1036 [00:29<00:21, 20.98it/s]"
     ]
    },
    {
     "name": "stderr",
     "output_type": "stream",
     "text": [
      "\r\n",
      "Normal id_06:  56%|███████████████████████████████████▎                           | 580/1036 [00:29<00:21, 21.38it/s]"
     ]
    },
    {
     "name": "stderr",
     "output_type": "stream",
     "text": [
      "\r\n",
      "Normal id_06:  56%|███████████████████████████████████▍                           | 583/1036 [00:29<00:22, 19.72it/s]"
     ]
    },
    {
     "name": "stderr",
     "output_type": "stream",
     "text": [
      "\r\n",
      "Normal id_06:  57%|███████████████████████████████████▋                           | 586/1036 [00:29<00:23, 18.87it/s]"
     ]
    },
    {
     "name": "stderr",
     "output_type": "stream",
     "text": [
      "\r\n",
      "Normal id_06:  57%|███████████████████████████████████▊                           | 589/1036 [00:29<00:22, 19.68it/s]"
     ]
    },
    {
     "name": "stderr",
     "output_type": "stream",
     "text": [
      "\r\n",
      "Normal id_06:  57%|████████████████████████████████████                           | 592/1036 [00:30<00:22, 20.14it/s]"
     ]
    },
    {
     "name": "stderr",
     "output_type": "stream",
     "text": [
      "\r\n",
      "Normal id_06:  57%|████████████████████████████████████▏                          | 595/1036 [00:30<00:22, 20.01it/s]"
     ]
    },
    {
     "name": "stderr",
     "output_type": "stream",
     "text": [
      "\r\n",
      "Normal id_06:  58%|████████████████████████████████████▎                          | 598/1036 [00:30<00:22, 19.25it/s]"
     ]
    },
    {
     "name": "stderr",
     "output_type": "stream",
     "text": [
      "\r\n",
      "Normal id_06:  58%|████████████████████████████████████▍                          | 600/1036 [00:30<00:22, 19.16it/s]"
     ]
    },
    {
     "name": "stderr",
     "output_type": "stream",
     "text": [
      "\r\n",
      "Normal id_06:  58%|████████████████████████████████████▌                          | 602/1036 [00:30<00:22, 19.08it/s]"
     ]
    },
    {
     "name": "stderr",
     "output_type": "stream",
     "text": [
      "\r\n",
      "Normal id_06:  58%|████████████████████████████████████▋                          | 604/1036 [00:30<00:22, 19.07it/s]"
     ]
    },
    {
     "name": "stderr",
     "output_type": "stream",
     "text": [
      "\r\n",
      "Normal id_06:  58%|████████████████████████████████████▊                          | 606/1036 [00:30<00:23, 18.24it/s]"
     ]
    },
    {
     "name": "stderr",
     "output_type": "stream",
     "text": [
      "\r\n",
      "Normal id_06:  59%|████████████████████████████████████▉                          | 608/1036 [00:30<00:23, 18.26it/s]"
     ]
    },
    {
     "name": "stderr",
     "output_type": "stream",
     "text": [
      "\r\n",
      "Normal id_06:  59%|█████████████████████████████████████                          | 610/1036 [00:31<00:23, 18.48it/s]"
     ]
    },
    {
     "name": "stderr",
     "output_type": "stream",
     "text": [
      "\r\n",
      "Normal id_06:  59%|█████████████████████████████████████▎                         | 613/1036 [00:31<00:21, 19.58it/s]"
     ]
    },
    {
     "name": "stderr",
     "output_type": "stream",
     "text": [
      "\r\n",
      "Normal id_06:  59%|█████████████████████████████████████▍                         | 616/1036 [00:31<00:20, 20.41it/s]"
     ]
    },
    {
     "name": "stderr",
     "output_type": "stream",
     "text": [
      "\r\n",
      "Normal id_06:  60%|█████████████████████████████████████▋                         | 619/1036 [00:31<00:19, 21.04it/s]"
     ]
    },
    {
     "name": "stderr",
     "output_type": "stream",
     "text": [
      "\r\n",
      "Normal id_06:  60%|█████████████████████████████████████▊                         | 622/1036 [00:31<00:19, 21.33it/s]"
     ]
    },
    {
     "name": "stderr",
     "output_type": "stream",
     "text": [
      "\r\n",
      "Normal id_06:  60%|██████████████████████████████████████                         | 625/1036 [00:31<00:20, 19.99it/s]"
     ]
    },
    {
     "name": "stderr",
     "output_type": "stream",
     "text": [
      "\r\n",
      "Normal id_06:  61%|██████████████████████████████████████▏                        | 628/1036 [00:31<00:20, 19.90it/s]"
     ]
    },
    {
     "name": "stderr",
     "output_type": "stream",
     "text": [
      "\r\n",
      "Normal id_06:  61%|██████████████████████████████████████▎                        | 631/1036 [00:32<00:20, 19.83it/s]"
     ]
    },
    {
     "name": "stderr",
     "output_type": "stream",
     "text": [
      "\r\n",
      "Normal id_06:  61%|██████████████████████████████████████▌                        | 634/1036 [00:32<00:19, 20.11it/s]"
     ]
    },
    {
     "name": "stderr",
     "output_type": "stream",
     "text": [
      "\r\n",
      "Normal id_06:  61%|██████████████████████████████████████▋                        | 637/1036 [00:32<00:19, 20.58it/s]"
     ]
    },
    {
     "name": "stderr",
     "output_type": "stream",
     "text": [
      "\r\n",
      "Normal id_06:  62%|██████████████████████████████████████▉                        | 640/1036 [00:32<00:19, 19.99it/s]"
     ]
    },
    {
     "name": "stderr",
     "output_type": "stream",
     "text": [
      "\r\n",
      "Normal id_06:  62%|███████████████████████████████████████                        | 643/1036 [00:32<00:19, 20.59it/s]"
     ]
    },
    {
     "name": "stderr",
     "output_type": "stream",
     "text": [
      "\r\n",
      "Normal id_06:  62%|███████████████████████████████████████▎                       | 646/1036 [00:32<00:19, 19.76it/s]"
     ]
    },
    {
     "name": "stderr",
     "output_type": "stream",
     "text": [
      "\r\n",
      "Normal id_06:  63%|███████████████████████████████████████▍                       | 649/1036 [00:32<00:19, 20.35it/s]"
     ]
    },
    {
     "name": "stderr",
     "output_type": "stream",
     "text": [
      "\r\n",
      "Normal id_06:  63%|███████████████████████████████████████▋                       | 652/1036 [00:33<00:18, 20.91it/s]"
     ]
    },
    {
     "name": "stderr",
     "output_type": "stream",
     "text": [
      "\r\n",
      "Normal id_06:  63%|███████████████████████████████████████▊                       | 655/1036 [00:33<00:18, 20.20it/s]"
     ]
    },
    {
     "name": "stderr",
     "output_type": "stream",
     "text": [
      "\r\n",
      "Normal id_06:  64%|████████████████████████████████████████                       | 658/1036 [00:33<00:19, 19.85it/s]"
     ]
    },
    {
     "name": "stderr",
     "output_type": "stream",
     "text": [
      "\r\n",
      "Normal id_06:  64%|████████████████████████████████████████▏                      | 660/1036 [00:33<00:19, 19.63it/s]"
     ]
    },
    {
     "name": "stderr",
     "output_type": "stream",
     "text": [
      "\r\n",
      "Normal id_06:  64%|████████████████████████████████████████▎                      | 663/1036 [00:33<00:18, 19.77it/s]"
     ]
    },
    {
     "name": "stderr",
     "output_type": "stream",
     "text": [
      "\r\n",
      "Normal id_06:  64%|████████████████████████████████████████▍                      | 665/1036 [00:33<00:19, 18.71it/s]"
     ]
    },
    {
     "name": "stderr",
     "output_type": "stream",
     "text": [
      "\r\n",
      "Normal id_06:  64%|████████████████████████████████████████▌                      | 667/1036 [00:33<00:20, 17.84it/s]"
     ]
    },
    {
     "name": "stderr",
     "output_type": "stream",
     "text": [
      "\r\n",
      "Normal id_06:  65%|████████████████████████████████████████▋                      | 670/1036 [00:34<00:19, 19.11it/s]"
     ]
    },
    {
     "name": "stderr",
     "output_type": "stream",
     "text": [
      "\r\n",
      "Normal id_06:  65%|████████████████████████████████████████▉                      | 673/1036 [00:34<00:18, 19.58it/s]"
     ]
    },
    {
     "name": "stderr",
     "output_type": "stream",
     "text": [
      "\r\n",
      "Normal id_06:  65%|█████████████████████████████████████████                      | 676/1036 [00:34<00:18, 19.72it/s]"
     ]
    },
    {
     "name": "stderr",
     "output_type": "stream",
     "text": [
      "\r\n",
      "Normal id_06:  65%|█████████████████████████████████████████▏                     | 678/1036 [00:34<00:18, 19.64it/s]"
     ]
    },
    {
     "name": "stderr",
     "output_type": "stream",
     "text": [
      "\r\n",
      "Normal id_06:  66%|█████████████████████████████████████████▎                     | 680/1036 [00:34<00:18, 19.58it/s]"
     ]
    },
    {
     "name": "stderr",
     "output_type": "stream",
     "text": [
      "\r\n",
      "Normal id_06:  66%|█████████████████████████████████████████▍                     | 682/1036 [00:34<00:18, 19.57it/s]"
     ]
    },
    {
     "name": "stderr",
     "output_type": "stream",
     "text": [
      "\r\n",
      "Normal id_06:  66%|█████████████████████████████████████████▌                     | 684/1036 [00:34<00:19, 18.12it/s]"
     ]
    },
    {
     "name": "stderr",
     "output_type": "stream",
     "text": [
      "\r\n",
      "Normal id_06:  66%|█████████████████████████████████████████▊                     | 687/1036 [00:34<00:17, 19.42it/s]"
     ]
    },
    {
     "name": "stderr",
     "output_type": "stream",
     "text": [
      "\r\n",
      "Normal id_06:  67%|█████████████████████████████████████████▉                     | 689/1036 [00:35<00:17, 19.54it/s]"
     ]
    },
    {
     "name": "stderr",
     "output_type": "stream",
     "text": [
      "\r\n",
      "Normal id_06:  67%|██████████████████████████████████████████                     | 691/1036 [00:35<00:17, 19.44it/s]"
     ]
    },
    {
     "name": "stderr",
     "output_type": "stream",
     "text": [
      "\r\n",
      "Normal id_06:  67%|██████████████████████████████████████████▏                    | 694/1036 [00:35<00:16, 20.44it/s]"
     ]
    },
    {
     "name": "stderr",
     "output_type": "stream",
     "text": [
      "\r\n",
      "Normal id_06:  67%|██████████████████████████████████████████▍                    | 697/1036 [00:35<00:16, 20.76it/s]"
     ]
    },
    {
     "name": "stderr",
     "output_type": "stream",
     "text": [
      "\r\n",
      "Normal id_06:  68%|██████████████████████████████████████████▌                    | 700/1036 [00:35<00:16, 20.46it/s]"
     ]
    },
    {
     "name": "stderr",
     "output_type": "stream",
     "text": [
      "\r\n",
      "Normal id_06:  68%|██████████████████████████████████████████▊                    | 703/1036 [00:35<00:15, 20.96it/s]"
     ]
    },
    {
     "name": "stderr",
     "output_type": "stream",
     "text": [
      "\r\n",
      "Normal id_06:  68%|██████████████████████████████████████████▉                    | 706/1036 [00:35<00:17, 19.11it/s]"
     ]
    },
    {
     "name": "stderr",
     "output_type": "stream",
     "text": [
      "\r\n",
      "Normal id_06:  68%|███████████████████████████████████████████                    | 709/1036 [00:36<00:16, 19.31it/s]"
     ]
    },
    {
     "name": "stderr",
     "output_type": "stream",
     "text": [
      "\r\n",
      "Normal id_06:  69%|███████████████████████████████████████████▎                   | 712/1036 [00:36<00:16, 20.12it/s]"
     ]
    },
    {
     "name": "stderr",
     "output_type": "stream",
     "text": [
      "\r\n",
      "Normal id_06:  69%|███████████████████████████████████████████▍                   | 715/1036 [00:36<00:15, 20.12it/s]"
     ]
    },
    {
     "name": "stderr",
     "output_type": "stream",
     "text": [
      "\r\n",
      "Normal id_06:  69%|███████████████████████████████████████████▋                   | 718/1036 [00:36<00:16, 19.78it/s]"
     ]
    },
    {
     "name": "stderr",
     "output_type": "stream",
     "text": [
      "\r\n",
      "Normal id_06:  69%|███████████████████████████████████████████▊                   | 720/1036 [00:36<00:16, 19.49it/s]"
     ]
    },
    {
     "name": "stderr",
     "output_type": "stream",
     "text": [
      "\r\n",
      "Normal id_06:  70%|███████████████████████████████████████████▉                   | 722/1036 [00:36<00:16, 19.46it/s]"
     ]
    },
    {
     "name": "stderr",
     "output_type": "stream",
     "text": [
      "\r\n",
      "Normal id_06:  70%|████████████████████████████████████████████                   | 724/1036 [00:36<00:17, 18.19it/s]"
     ]
    },
    {
     "name": "stderr",
     "output_type": "stream",
     "text": [
      "\r\n",
      "Normal id_06:  70%|████████████████████████████████████████████▏                  | 727/1036 [00:36<00:16, 19.11it/s]"
     ]
    },
    {
     "name": "stderr",
     "output_type": "stream",
     "text": [
      "\r\n",
      "Normal id_06:  70%|████████████████████████████████████████████▍                  | 730/1036 [00:37<00:15, 20.10it/s]"
     ]
    },
    {
     "name": "stderr",
     "output_type": "stream",
     "text": [
      "\r\n",
      "Normal id_06:  71%|████████████████████████████████████████████▌                  | 733/1036 [00:37<00:15, 19.81it/s]"
     ]
    },
    {
     "name": "stderr",
     "output_type": "stream",
     "text": [
      "\r\n",
      "Normal id_06:  71%|████████████████████████████████████████████▋                  | 735/1036 [00:37<00:15, 19.69it/s]"
     ]
    },
    {
     "name": "stderr",
     "output_type": "stream",
     "text": [
      "\r\n",
      "Normal id_06:  71%|████████████████████████████████████████████▊                  | 737/1036 [00:37<00:15, 19.51it/s]"
     ]
    },
    {
     "name": "stderr",
     "output_type": "stream",
     "text": [
      "\r\n",
      "Normal id_06:  71%|████████████████████████████████████████████▉                  | 739/1036 [00:37<00:15, 19.51it/s]"
     ]
    },
    {
     "name": "stderr",
     "output_type": "stream",
     "text": [
      "\r\n",
      "Normal id_06:  72%|█████████████████████████████████████████████                  | 741/1036 [00:37<00:15, 19.37it/s]"
     ]
    },
    {
     "name": "stderr",
     "output_type": "stream",
     "text": [
      "\r\n",
      "Normal id_06:  72%|█████████████████████████████████████████████▏                 | 743/1036 [00:37<00:16, 18.03it/s]"
     ]
    },
    {
     "name": "stderr",
     "output_type": "stream",
     "text": [
      "\r\n",
      "Normal id_06:  72%|█████████████████████████████████████████████▎                 | 746/1036 [00:37<00:15, 19.01it/s]"
     ]
    },
    {
     "name": "stderr",
     "output_type": "stream",
     "text": [
      "\r\n",
      "Normal id_06:  72%|█████████████████████████████████████████████▌                 | 749/1036 [00:38<00:14, 19.63it/s]"
     ]
    },
    {
     "name": "stderr",
     "output_type": "stream",
     "text": [
      "\r\n",
      "Normal id_06:  73%|█████████████████████████████████████████████▋                 | 752/1036 [00:38<00:14, 19.75it/s]"
     ]
    },
    {
     "name": "stderr",
     "output_type": "stream",
     "text": [
      "\r\n",
      "Normal id_06:  73%|█████████████████████████████████████████████▉                 | 755/1036 [00:38<00:13, 20.08it/s]"
     ]
    },
    {
     "name": "stderr",
     "output_type": "stream",
     "text": [
      "\r\n",
      "Normal id_06:  73%|██████████████████████████████████████████████                 | 758/1036 [00:38<00:13, 20.77it/s]"
     ]
    },
    {
     "name": "stderr",
     "output_type": "stream",
     "text": [
      "\r\n",
      "Normal id_06:  73%|██████████████████████████████████████████████▎                | 761/1036 [00:38<00:13, 21.07it/s]"
     ]
    },
    {
     "name": "stderr",
     "output_type": "stream",
     "text": [
      "\r\n",
      "Normal id_06:  74%|██████████████████████████████████████████████▍                | 764/1036 [00:38<00:13, 19.51it/s]"
     ]
    },
    {
     "name": "stderr",
     "output_type": "stream",
     "text": [
      "\r\n",
      "Normal id_06:  74%|██████████████████████████████████████████████▋                | 767/1036 [00:38<00:13, 20.25it/s]"
     ]
    },
    {
     "name": "stderr",
     "output_type": "stream",
     "text": [
      "\r\n",
      "Normal id_06:  74%|██████████████████████████████████████████████▊                | 770/1036 [00:39<00:13, 19.67it/s]"
     ]
    },
    {
     "name": "stderr",
     "output_type": "stream",
     "text": [
      "\r\n",
      "Normal id_06:  75%|██████████████████████████████████████████████▉                | 772/1036 [00:39<00:13, 19.59it/s]"
     ]
    },
    {
     "name": "stderr",
     "output_type": "stream",
     "text": [
      "\r\n",
      "Normal id_06:  75%|███████████████████████████████████████████████                | 774/1036 [00:39<00:13, 19.45it/s]"
     ]
    },
    {
     "name": "stderr",
     "output_type": "stream",
     "text": [
      "\r\n",
      "Normal id_06:  75%|███████████████████████████████████████████████▎               | 777/1036 [00:39<00:13, 19.32it/s]"
     ]
    },
    {
     "name": "stderr",
     "output_type": "stream",
     "text": [
      "\r\n",
      "Normal id_06:  75%|███████████████████████████████████████████████▎               | 779/1036 [00:39<00:13, 18.70it/s]"
     ]
    },
    {
     "name": "stderr",
     "output_type": "stream",
     "text": [
      "\r\n",
      "Normal id_06:  75%|███████████████████████████████████████████████▌               | 782/1036 [00:39<00:13, 18.47it/s]"
     ]
    },
    {
     "name": "stderr",
     "output_type": "stream",
     "text": [
      "\r\n",
      "Normal id_06:  76%|███████████████████████████████████████████████▋               | 785/1036 [00:39<00:13, 19.10it/s]"
     ]
    },
    {
     "name": "stderr",
     "output_type": "stream",
     "text": [
      "\r\n",
      "Normal id_06:  76%|███████████████████████████████████████████████▉               | 788/1036 [00:40<00:12, 20.01it/s]"
     ]
    },
    {
     "name": "stderr",
     "output_type": "stream",
     "text": [
      "\r\n",
      "Normal id_06:  76%|████████████████████████████████████████████████               | 791/1036 [00:40<00:12, 20.22it/s]"
     ]
    },
    {
     "name": "stderr",
     "output_type": "stream",
     "text": [
      "\r\n",
      "Normal id_06:  77%|████████████████████████████████████████████████▎              | 794/1036 [00:40<00:11, 20.48it/s]"
     ]
    },
    {
     "name": "stderr",
     "output_type": "stream",
     "text": [
      "\r\n",
      "Normal id_06:  77%|████████████████████████████████████████████████▍              | 797/1036 [00:40<00:12, 19.62it/s]"
     ]
    },
    {
     "name": "stderr",
     "output_type": "stream",
     "text": [
      "\r\n",
      "Normal id_06:  77%|████████████████████████████████████████████████▋              | 800/1036 [00:40<00:11, 20.15it/s]"
     ]
    },
    {
     "name": "stderr",
     "output_type": "stream",
     "text": [
      "\r\n",
      "Normal id_06:  78%|████████████████████████████████████████████████▊              | 803/1036 [00:40<00:12, 19.23it/s]"
     ]
    },
    {
     "name": "stderr",
     "output_type": "stream",
     "text": [
      "\r\n",
      "Normal id_06:  78%|████████████████████████████████████████████████▉              | 805/1036 [00:40<00:12, 19.16it/s]"
     ]
    },
    {
     "name": "stderr",
     "output_type": "stream",
     "text": [
      "\r\n",
      "Normal id_06:  78%|█████████████████████████████████████████████████▏             | 808/1036 [00:41<00:11, 20.06it/s]"
     ]
    },
    {
     "name": "stderr",
     "output_type": "stream",
     "text": [
      "\r\n",
      "Normal id_06:  78%|█████████████████████████████████████████████████▎             | 811/1036 [00:41<00:10, 20.61it/s]"
     ]
    },
    {
     "name": "stderr",
     "output_type": "stream",
     "text": [
      "\r\n",
      "Normal id_06:  79%|█████████████████████████████████████████████████▌             | 814/1036 [00:41<00:10, 20.88it/s]"
     ]
    },
    {
     "name": "stderr",
     "output_type": "stream",
     "text": [
      "\r\n",
      "Normal id_06:  79%|█████████████████████████████████████████████████▋             | 817/1036 [00:41<00:10, 21.24it/s]"
     ]
    },
    {
     "name": "stderr",
     "output_type": "stream",
     "text": [
      "\r\n",
      "Normal id_06:  79%|█████████████████████████████████████████████████▊             | 820/1036 [00:41<00:10, 21.53it/s]"
     ]
    },
    {
     "name": "stderr",
     "output_type": "stream",
     "text": [
      "\r\n",
      "Normal id_06:  79%|██████████████████████████████████████████████████             | 823/1036 [00:41<00:10, 21.09it/s]"
     ]
    },
    {
     "name": "stderr",
     "output_type": "stream",
     "text": [
      "\r\n",
      "Normal id_06:  80%|██████████████████████████████████████████████████▏            | 826/1036 [00:41<00:10, 20.91it/s]"
     ]
    },
    {
     "name": "stderr",
     "output_type": "stream",
     "text": [
      "\r\n",
      "Normal id_06:  80%|██████████████████████████████████████████████████▍            | 829/1036 [00:42<00:10, 19.85it/s]"
     ]
    },
    {
     "name": "stderr",
     "output_type": "stream",
     "text": [
      "\r\n",
      "Normal id_06:  80%|██████████████████████████████████████████████████▌            | 832/1036 [00:42<00:10, 20.14it/s]"
     ]
    },
    {
     "name": "stderr",
     "output_type": "stream",
     "text": [
      "\r\n",
      "Normal id_06:  81%|██████████████████████████████████████████████████▊            | 835/1036 [00:42<00:10, 19.68it/s]"
     ]
    },
    {
     "name": "stderr",
     "output_type": "stream",
     "text": [
      "\r\n",
      "Normal id_06:  81%|██████████████████████████████████████████████████▉            | 838/1036 [00:42<00:10, 18.99it/s]"
     ]
    },
    {
     "name": "stderr",
     "output_type": "stream",
     "text": [
      "\r\n",
      "Normal id_06:  81%|███████████████████████████████████████████████████            | 840/1036 [00:42<00:10, 18.93it/s]"
     ]
    },
    {
     "name": "stderr",
     "output_type": "stream",
     "text": [
      "\r\n",
      "Normal id_06:  81%|███████████████████████████████████████████████████▏           | 842/1036 [00:42<00:10, 17.72it/s]"
     ]
    },
    {
     "name": "stderr",
     "output_type": "stream",
     "text": [
      "\r\n",
      "Normal id_06:  82%|███████████████████████████████████████████████████▍           | 845/1036 [00:42<00:10, 18.87it/s]"
     ]
    },
    {
     "name": "stderr",
     "output_type": "stream",
     "text": [
      "\r\n",
      "Normal id_06:  82%|███████████████████████████████████████████████████▌           | 847/1036 [00:43<00:09, 18.93it/s]"
     ]
    },
    {
     "name": "stderr",
     "output_type": "stream",
     "text": [
      "\r\n",
      "Normal id_06:  82%|███████████████████████████████████████████████████▋           | 849/1036 [00:43<00:09, 18.95it/s]"
     ]
    },
    {
     "name": "stderr",
     "output_type": "stream",
     "text": [
      "\r\n",
      "Normal id_06:  82%|███████████████████████████████████████████████████▊           | 852/1036 [00:43<00:09, 18.94it/s]"
     ]
    },
    {
     "name": "stderr",
     "output_type": "stream",
     "text": [
      "\r\n",
      "Normal id_06:  83%|███████████████████████████████████████████████████▉           | 855/1036 [00:43<00:09, 19.57it/s]"
     ]
    },
    {
     "name": "stderr",
     "output_type": "stream",
     "text": [
      "\r\n",
      "Normal id_06:  83%|████████████████████████████████████████████████████           | 857/1036 [00:43<00:09, 19.22it/s]"
     ]
    },
    {
     "name": "stderr",
     "output_type": "stream",
     "text": [
      "\r\n",
      "Normal id_06:  83%|████████████████████████████████████████████████████▎          | 860/1036 [00:43<00:08, 19.85it/s]"
     ]
    },
    {
     "name": "stderr",
     "output_type": "stream",
     "text": [
      "\r\n",
      "Normal id_06:  83%|████████████████████████████████████████████████████▍          | 862/1036 [00:43<00:08, 19.38it/s]"
     ]
    },
    {
     "name": "stderr",
     "output_type": "stream",
     "text": [
      "\r\n",
      "Normal id_06:  83%|████████████████████████████████████████████████████▌          | 865/1036 [00:43<00:08, 19.92it/s]"
     ]
    },
    {
     "name": "stderr",
     "output_type": "stream",
     "text": [
      "\r\n",
      "Normal id_06:  84%|████████████████████████████████████████████████████▋          | 867/1036 [00:44<00:08, 19.78it/s]"
     ]
    },
    {
     "name": "stderr",
     "output_type": "stream",
     "text": [
      "\r\n",
      "Normal id_06:  84%|████████████████████████████████████████████████████▉          | 870/1036 [00:44<00:08, 20.45it/s]"
     ]
    },
    {
     "name": "stderr",
     "output_type": "stream",
     "text": [
      "\r\n",
      "Normal id_06:  84%|█████████████████████████████████████████████████████          | 873/1036 [00:44<00:08, 19.80it/s]"
     ]
    },
    {
     "name": "stderr",
     "output_type": "stream",
     "text": [
      "\r\n",
      "Normal id_06:  85%|█████████████████████████████████████████████████████▎         | 876/1036 [00:44<00:07, 20.38it/s]"
     ]
    },
    {
     "name": "stderr",
     "output_type": "stream",
     "text": [
      "\r\n",
      "Normal id_06:  85%|█████████████████████████████████████████████████████▍         | 879/1036 [00:44<00:07, 20.50it/s]"
     ]
    },
    {
     "name": "stderr",
     "output_type": "stream",
     "text": [
      "\r\n",
      "Normal id_06:  85%|█████████████████████████████████████████████████████▋         | 882/1036 [00:44<00:07, 19.79it/s]"
     ]
    },
    {
     "name": "stderr",
     "output_type": "stream",
     "text": [
      "\r\n",
      "Normal id_06:  85%|█████████████████████████████████████████████████████▊         | 884/1036 [00:44<00:07, 19.49it/s]"
     ]
    },
    {
     "name": "stderr",
     "output_type": "stream",
     "text": [
      "\r\n",
      "Normal id_06:  86%|█████████████████████████████████████████████████████▉         | 886/1036 [00:45<00:07, 19.54it/s]"
     ]
    },
    {
     "name": "stderr",
     "output_type": "stream",
     "text": [
      "\r\n",
      "Normal id_06:  86%|██████████████████████████████████████████████████████         | 888/1036 [00:45<00:07, 19.50it/s]"
     ]
    },
    {
     "name": "stderr",
     "output_type": "stream",
     "text": [
      "\r\n",
      "Normal id_06:  86%|██████████████████████████████████████████████████████▏        | 891/1036 [00:45<00:07, 19.85it/s]"
     ]
    },
    {
     "name": "stderr",
     "output_type": "stream",
     "text": [
      "\r\n",
      "Normal id_06:  86%|██████████████████████████████████████████████████████▎        | 894/1036 [00:45<00:07, 20.09it/s]"
     ]
    },
    {
     "name": "stderr",
     "output_type": "stream",
     "text": [
      "\r\n",
      "Normal id_06:  87%|██████████████████████████████████████████████████████▌        | 897/1036 [00:45<00:06, 20.12it/s]"
     ]
    },
    {
     "name": "stderr",
     "output_type": "stream",
     "text": [
      "\r\n",
      "Normal id_06:  87%|██████████████████████████████████████████████████████▋        | 900/1036 [00:45<00:06, 19.78it/s]"
     ]
    },
    {
     "name": "stderr",
     "output_type": "stream",
     "text": [
      "\r\n",
      "Normal id_06:  87%|██████████████████████████████████████████████████████▊        | 902/1036 [00:45<00:07, 18.81it/s]"
     ]
    },
    {
     "name": "stderr",
     "output_type": "stream",
     "text": [
      "\r\n",
      "Normal id_06:  87%|██████████████████████████████████████████████████████▉        | 904/1036 [00:45<00:06, 18.93it/s]"
     ]
    },
    {
     "name": "stderr",
     "output_type": "stream",
     "text": [
      "\r\n",
      "Normal id_06:  87%|███████████████████████████████████████████████████████        | 906/1036 [00:46<00:07, 18.45it/s]"
     ]
    },
    {
     "name": "stderr",
     "output_type": "stream",
     "text": [
      "\r\n",
      "Normal id_06:  88%|███████████████████████████████████████████████████████▎       | 909/1036 [00:46<00:06, 19.18it/s]"
     ]
    },
    {
     "name": "stderr",
     "output_type": "stream",
     "text": [
      "\r\n",
      "Normal id_06:  88%|███████████████████████████████████████████████████████▍       | 911/1036 [00:46<00:06, 19.19it/s]"
     ]
    },
    {
     "name": "stderr",
     "output_type": "stream",
     "text": [
      "\r\n",
      "Normal id_06:  88%|███████████████████████████████████████████████████████▌       | 913/1036 [00:46<00:06, 18.78it/s]"
     ]
    },
    {
     "name": "stderr",
     "output_type": "stream",
     "text": [
      "\r\n",
      "Normal id_06:  88%|███████████████████████████████████████████████████████▋       | 916/1036 [00:46<00:06, 19.92it/s]"
     ]
    },
    {
     "name": "stderr",
     "output_type": "stream",
     "text": [
      "\r\n",
      "Normal id_06:  89%|███████████████████████████████████████████████████████▉       | 919/1036 [00:46<00:05, 19.94it/s]"
     ]
    },
    {
     "name": "stderr",
     "output_type": "stream",
     "text": [
      "\r\n",
      "Normal id_06:  89%|████████████████████████████████████████████████████████       | 921/1036 [00:46<00:05, 19.25it/s]"
     ]
    },
    {
     "name": "stderr",
     "output_type": "stream",
     "text": [
      "\r\n",
      "Normal id_06:  89%|████████████████████████████████████████████████████████▏      | 924/1036 [00:46<00:05, 19.69it/s]"
     ]
    },
    {
     "name": "stderr",
     "output_type": "stream",
     "text": [
      "\r\n",
      "Normal id_06:  89%|████████████████████████████████████████████████████████▎      | 927/1036 [00:47<00:05, 20.13it/s]"
     ]
    },
    {
     "name": "stderr",
     "output_type": "stream",
     "text": [
      "\r\n",
      "Normal id_06:  90%|████████████████████████████████████████████████████████▌      | 930/1036 [00:47<00:05, 20.29it/s]"
     ]
    },
    {
     "name": "stderr",
     "output_type": "stream",
     "text": [
      "\r\n",
      "Normal id_06:  90%|████████████████████████████████████████████████████████▋      | 933/1036 [00:47<00:05, 20.33it/s]"
     ]
    },
    {
     "name": "stderr",
     "output_type": "stream",
     "text": [
      "\r\n",
      "Normal id_06:  90%|████████████████████████████████████████████████████████▉      | 936/1036 [00:47<00:05, 19.81it/s]"
     ]
    },
    {
     "name": "stderr",
     "output_type": "stream",
     "text": [
      "\r\n",
      "Normal id_06:  91%|█████████████████████████████████████████████████████████      | 939/1036 [00:47<00:04, 20.05it/s]"
     ]
    },
    {
     "name": "stderr",
     "output_type": "stream",
     "text": [
      "\r\n",
      "Normal id_06:  91%|█████████████████████████████████████████████████████████▎     | 942/1036 [00:47<00:04, 19.84it/s]"
     ]
    },
    {
     "name": "stderr",
     "output_type": "stream",
     "text": [
      "\r\n",
      "Normal id_06:  91%|█████████████████████████████████████████████████████████▍     | 945/1036 [00:48<00:04, 20.00it/s]"
     ]
    },
    {
     "name": "stderr",
     "output_type": "stream",
     "text": [
      "\r\n",
      "Normal id_06:  92%|█████████████████████████████████████████████████████████▋     | 948/1036 [00:48<00:04, 19.36it/s]"
     ]
    },
    {
     "name": "stderr",
     "output_type": "stream",
     "text": [
      "\r\n",
      "Normal id_06:  92%|█████████████████████████████████████████████████████████▊     | 950/1036 [00:48<00:04, 19.28it/s]"
     ]
    },
    {
     "name": "stderr",
     "output_type": "stream",
     "text": [
      "\r\n",
      "Normal id_06:  92%|█████████████████████████████████████████████████████████▉     | 952/1036 [00:48<00:04, 19.37it/s]"
     ]
    },
    {
     "name": "stderr",
     "output_type": "stream",
     "text": [
      "\r\n",
      "Normal id_06:  92%|██████████████████████████████████████████████████████████     | 954/1036 [00:48<00:04, 18.96it/s]"
     ]
    },
    {
     "name": "stderr",
     "output_type": "stream",
     "text": [
      "\r\n",
      "Normal id_06:  92%|██████████████████████████████████████████████████████████▏    | 956/1036 [00:48<00:04, 19.16it/s]"
     ]
    },
    {
     "name": "stderr",
     "output_type": "stream",
     "text": [
      "\r\n",
      "Normal id_06:  93%|██████████████████████████████████████████████████████████▎    | 959/1036 [00:48<00:03, 19.70it/s]"
     ]
    },
    {
     "name": "stderr",
     "output_type": "stream",
     "text": [
      "\r\n",
      "Normal id_06:  93%|██████████████████████████████████████████████████████████▍    | 961/1036 [00:48<00:03, 19.69it/s]"
     ]
    },
    {
     "name": "stderr",
     "output_type": "stream",
     "text": [
      "\r\n",
      "Normal id_06:  93%|██████████████████████████████████████████████████████████▌    | 964/1036 [00:48<00:03, 20.22it/s]"
     ]
    },
    {
     "name": "stderr",
     "output_type": "stream",
     "text": [
      "\r\n",
      "Normal id_06:  93%|██████████████████████████████████████████████████████████▊    | 967/1036 [00:49<00:03, 19.86it/s]"
     ]
    },
    {
     "name": "stderr",
     "output_type": "stream",
     "text": [
      "\r\n",
      "Normal id_06:  94%|██████████████████████████████████████████████████████████▉    | 970/1036 [00:49<00:03, 20.66it/s]"
     ]
    },
    {
     "name": "stderr",
     "output_type": "stream",
     "text": [
      "\r\n",
      "Normal id_06:  94%|███████████████████████████████████████████████████████████▏   | 973/1036 [00:49<00:03, 20.14it/s]"
     ]
    },
    {
     "name": "stderr",
     "output_type": "stream",
     "text": [
      "\r\n",
      "Normal id_06:  94%|███████████████████████████████████████████████████████████▎   | 976/1036 [00:49<00:03, 19.69it/s]"
     ]
    },
    {
     "name": "stderr",
     "output_type": "stream",
     "text": [
      "\r\n",
      "Normal id_06:  94%|███████████████████████████████████████████████████████████▌   | 979/1036 [00:49<00:02, 19.60it/s]"
     ]
    },
    {
     "name": "stderr",
     "output_type": "stream",
     "text": [
      "\r\n",
      "Normal id_06:  95%|███████████████████████████████████████████████████████████▋   | 981/1036 [00:49<00:02, 18.67it/s]"
     ]
    },
    {
     "name": "stderr",
     "output_type": "stream",
     "text": [
      "\r\n",
      "Normal id_06:  95%|███████████████████████████████████████████████████████████▊   | 984/1036 [00:50<00:02, 19.70it/s]"
     ]
    },
    {
     "name": "stderr",
     "output_type": "stream",
     "text": [
      "\r\n",
      "Normal id_06:  95%|████████████████████████████████████████████████████████████   | 987/1036 [00:50<00:02, 19.67it/s]"
     ]
    },
    {
     "name": "stderr",
     "output_type": "stream",
     "text": [
      "\r\n",
      "Normal id_06:  96%|████████████████████████████████████████████████████████████▏  | 990/1036 [00:50<00:02, 20.25it/s]"
     ]
    },
    {
     "name": "stderr",
     "output_type": "stream",
     "text": [
      "\r\n",
      "Normal id_06:  96%|████████████████████████████████████████████████████████████▍  | 993/1036 [00:50<00:02, 18.14it/s]"
     ]
    },
    {
     "name": "stderr",
     "output_type": "stream",
     "text": [
      "\r\n",
      "Normal id_06:  96%|████████████████████████████████████████████████████████████▌  | 995/1036 [00:50<00:02, 17.55it/s]"
     ]
    },
    {
     "name": "stderr",
     "output_type": "stream",
     "text": [
      "\r\n",
      "Normal id_06:  96%|████████████████████████████████████████████████████████████▋  | 997/1036 [00:50<00:02, 16.40it/s]"
     ]
    },
    {
     "name": "stderr",
     "output_type": "stream",
     "text": [
      "\r\n",
      "Normal id_06:  96%|████████████████████████████████████████████████████████████▊  | 999/1036 [00:50<00:02, 16.11it/s]"
     ]
    },
    {
     "name": "stderr",
     "output_type": "stream",
     "text": [
      "\r\n",
      "Normal id_06:  97%|███████████████████████████████████████████████████████████▉  | 1001/1036 [00:51<00:02, 15.51it/s]"
     ]
    },
    {
     "name": "stderr",
     "output_type": "stream",
     "text": [
      "\r\n",
      "Normal id_06:  97%|████████████████████████████████████████████████████████████  | 1003/1036 [00:51<00:02, 15.15it/s]"
     ]
    },
    {
     "name": "stderr",
     "output_type": "stream",
     "text": [
      "\r\n",
      "Normal id_06:  97%|████████████████████████████████████████████████████████████▏ | 1005/1036 [00:51<00:02, 15.06it/s]"
     ]
    },
    {
     "name": "stderr",
     "output_type": "stream",
     "text": [
      "\r\n",
      "Normal id_06:  97%|████████████████████████████████████████████████████████████▎ | 1007/1036 [00:51<00:01, 14.96it/s]"
     ]
    },
    {
     "name": "stderr",
     "output_type": "stream",
     "text": [
      "\r\n",
      "Normal id_06:  97%|████████████████████████████████████████████████████████████▍ | 1009/1036 [00:51<00:01, 14.95it/s]"
     ]
    },
    {
     "name": "stderr",
     "output_type": "stream",
     "text": [
      "\r\n",
      "Normal id_06:  98%|████████████████████████████████████████████████████████████▌ | 1011/1036 [00:51<00:01, 15.08it/s]"
     ]
    },
    {
     "name": "stderr",
     "output_type": "stream",
     "text": [
      "\r\n",
      "Normal id_06:  98%|████████████████████████████████████████████████████████████▌ | 1013/1036 [00:51<00:01, 14.76it/s]"
     ]
    },
    {
     "name": "stderr",
     "output_type": "stream",
     "text": [
      "\r\n",
      "Normal id_06:  98%|████████████████████████████████████████████████████████████▋ | 1015/1036 [00:51<00:01, 14.71it/s]"
     ]
    },
    {
     "name": "stderr",
     "output_type": "stream",
     "text": [
      "\r\n",
      "Normal id_06:  98%|████████████████████████████████████████████████████████████▊ | 1017/1036 [00:52<00:01, 14.78it/s]"
     ]
    },
    {
     "name": "stderr",
     "output_type": "stream",
     "text": [
      "\r\n",
      "Normal id_06:  98%|████████████████████████████████████████████████████████████▉ | 1019/1036 [00:52<00:01, 14.59it/s]"
     ]
    },
    {
     "name": "stderr",
     "output_type": "stream",
     "text": [
      "\r\n",
      "Normal id_06:  99%|█████████████████████████████████████████████████████████████ | 1021/1036 [00:52<00:01, 14.55it/s]"
     ]
    },
    {
     "name": "stderr",
     "output_type": "stream",
     "text": [
      "\r\n",
      "Normal id_06:  99%|█████████████████████████████████████████████████████████████▏| 1023/1036 [00:52<00:00, 14.83it/s]"
     ]
    },
    {
     "name": "stderr",
     "output_type": "stream",
     "text": [
      "\r\n",
      "Normal id_06:  99%|█████████████████████████████████████████████████████████████▎| 1025/1036 [00:52<00:00, 15.28it/s]"
     ]
    },
    {
     "name": "stderr",
     "output_type": "stream",
     "text": [
      "\r\n",
      "Normal id_06:  99%|█████████████████████████████████████████████████████████████▍| 1027/1036 [00:52<00:00, 15.26it/s]"
     ]
    },
    {
     "name": "stderr",
     "output_type": "stream",
     "text": [
      "\r\n",
      "Normal id_06:  99%|█████████████████████████████████████████████████████████████▌| 1029/1036 [00:52<00:00, 15.17it/s]"
     ]
    },
    {
     "name": "stderr",
     "output_type": "stream",
     "text": [
      "\r\n",
      "Normal id_06: 100%|█████████████████████████████████████████████████████████████▋| 1031/1036 [00:53<00:00, 15.13it/s]"
     ]
    },
    {
     "name": "stderr",
     "output_type": "stream",
     "text": [
      "\r\n",
      "Normal id_06: 100%|█████████████████████████████████████████████████████████████▉| 1034/1036 [00:53<00:00, 16.73it/s]"
     ]
    },
    {
     "name": "stderr",
     "output_type": "stream",
     "text": [
      "\r\n",
      "Normal id_06: 100%|██████████████████████████████████████████████████████████████| 1036/1036 [00:53<00:00, 19.43it/s]"
     ]
    },
    {
     "name": "stderr",
     "output_type": "stream",
     "text": [
      "\n"
     ]
    },
    {
     "name": "stdout",
     "output_type": "stream",
     "text": [
      "Processing 102 abnormal files for id_06...\n"
     ]
    },
    {
     "name": "stderr",
     "output_type": "stream",
     "text": [
      "\r\n",
      "Abnormal id_06:   0%|                                                                        | 0/102 [00:00<?, ?it/s]"
     ]
    },
    {
     "name": "stderr",
     "output_type": "stream",
     "text": [
      "\r\n",
      "Abnormal id_06:   2%|█▎                                                              | 2/102 [00:00<00:05, 19.49it/s]"
     ]
    },
    {
     "name": "stderr",
     "output_type": "stream",
     "text": [
      "\r\n",
      "Abnormal id_06:   5%|███▏                                                            | 5/102 [00:00<00:04, 20.84it/s]"
     ]
    },
    {
     "name": "stderr",
     "output_type": "stream",
     "text": [
      "\r\n",
      "Abnormal id_06:   8%|█████                                                           | 8/102 [00:00<00:04, 18.83it/s]"
     ]
    },
    {
     "name": "stderr",
     "output_type": "stream",
     "text": [
      "\r\n",
      "Abnormal id_06:  10%|██████▏                                                        | 10/102 [00:00<00:05, 18.37it/s]"
     ]
    },
    {
     "name": "stderr",
     "output_type": "stream",
     "text": [
      "\r\n",
      "Abnormal id_06:  12%|███████▍                                                       | 12/102 [00:00<00:04, 18.70it/s]"
     ]
    },
    {
     "name": "stderr",
     "output_type": "stream",
     "text": [
      "\r\n",
      "Abnormal id_06:  15%|█████████▎                                                     | 15/102 [00:00<00:04, 19.62it/s]"
     ]
    },
    {
     "name": "stderr",
     "output_type": "stream",
     "text": [
      "\r\n",
      "Abnormal id_06:  18%|███████████                                                    | 18/102 [00:00<00:04, 20.34it/s]"
     ]
    },
    {
     "name": "stderr",
     "output_type": "stream",
     "text": [
      "\r\n",
      "Abnormal id_06:  21%|████████████▉                                                  | 21/102 [00:01<00:04, 19.91it/s]"
     ]
    },
    {
     "name": "stderr",
     "output_type": "stream",
     "text": [
      "\r\n",
      "Abnormal id_06:  24%|██████████████▊                                                | 24/102 [00:01<00:03, 20.44it/s]"
     ]
    },
    {
     "name": "stderr",
     "output_type": "stream",
     "text": [
      "\r\n",
      "Abnormal id_06:  26%|████████████████▋                                              | 27/102 [00:01<00:03, 20.84it/s]"
     ]
    },
    {
     "name": "stderr",
     "output_type": "stream",
     "text": [
      "\r\n",
      "Abnormal id_06:  29%|██████████████████▌                                            | 30/102 [00:01<00:03, 19.57it/s]"
     ]
    },
    {
     "name": "stderr",
     "output_type": "stream",
     "text": [
      "\r\n",
      "Abnormal id_06:  32%|████████████████████▍                                          | 33/102 [00:01<00:03, 20.17it/s]"
     ]
    },
    {
     "name": "stderr",
     "output_type": "stream",
     "text": [
      "\r\n",
      "Abnormal id_06:  35%|██████████████████████▏                                        | 36/102 [00:01<00:03, 19.68it/s]"
     ]
    },
    {
     "name": "stderr",
     "output_type": "stream",
     "text": [
      "\r\n",
      "Abnormal id_06:  37%|███████████████████████▍                                       | 38/102 [00:01<00:03, 19.51it/s]"
     ]
    },
    {
     "name": "stderr",
     "output_type": "stream",
     "text": [
      "\r\n",
      "Abnormal id_06:  39%|████████████████████████▋                                      | 40/102 [00:02<00:03, 19.27it/s]"
     ]
    },
    {
     "name": "stderr",
     "output_type": "stream",
     "text": [
      "\r\n",
      "Abnormal id_06:  41%|█████████████████████████▉                                     | 42/102 [00:02<00:03, 19.26it/s]"
     ]
    },
    {
     "name": "stderr",
     "output_type": "stream",
     "text": [
      "\r\n",
      "Abnormal id_06:  43%|███████████████████████████▏                                   | 44/102 [00:02<00:03, 19.27it/s]"
     ]
    },
    {
     "name": "stderr",
     "output_type": "stream",
     "text": [
      "\r\n",
      "Abnormal id_06:  46%|█████████████████████████████                                  | 47/102 [00:02<00:02, 19.64it/s]"
     ]
    },
    {
     "name": "stderr",
     "output_type": "stream",
     "text": [
      "\r\n",
      "Abnormal id_06:  48%|██████████████████████████████▎                                | 49/102 [00:02<00:02, 18.35it/s]"
     ]
    },
    {
     "name": "stderr",
     "output_type": "stream",
     "text": [
      "\r\n",
      "Abnormal id_06:  51%|████████████████████████████████                               | 52/102 [00:02<00:02, 19.30it/s]"
     ]
    },
    {
     "name": "stderr",
     "output_type": "stream",
     "text": [
      "\r\n",
      "Abnormal id_06:  53%|█████████████████████████████████▎                             | 54/102 [00:02<00:02, 18.80it/s]"
     ]
    },
    {
     "name": "stderr",
     "output_type": "stream",
     "text": [
      "\r\n",
      "Abnormal id_06:  55%|██████████████████████████████████▌                            | 56/102 [00:02<00:02, 17.44it/s]"
     ]
    },
    {
     "name": "stderr",
     "output_type": "stream",
     "text": [
      "\r\n",
      "Abnormal id_06:  57%|███████████████████████████████████▊                           | 58/102 [00:03<00:02, 16.50it/s]"
     ]
    },
    {
     "name": "stderr",
     "output_type": "stream",
     "text": [
      "\r\n",
      "Abnormal id_06:  59%|█████████████████████████████████████                          | 60/102 [00:03<00:02, 15.77it/s]"
     ]
    },
    {
     "name": "stderr",
     "output_type": "stream",
     "text": [
      "\r\n",
      "Abnormal id_06:  61%|██████████████████████████████████████▎                        | 62/102 [00:03<00:02, 15.44it/s]"
     ]
    },
    {
     "name": "stderr",
     "output_type": "stream",
     "text": [
      "\r\n",
      "Abnormal id_06:  63%|███████████████████████████████████████▌                       | 64/102 [00:03<00:02, 14.63it/s]"
     ]
    },
    {
     "name": "stderr",
     "output_type": "stream",
     "text": [
      "\r\n",
      "Abnormal id_06:  65%|████████████████████████████████████████▊                      | 66/102 [00:03<00:02, 13.98it/s]"
     ]
    },
    {
     "name": "stderr",
     "output_type": "stream",
     "text": [
      "\r\n",
      "Abnormal id_06:  67%|██████████████████████████████████████████                     | 68/102 [00:03<00:02, 14.26it/s]"
     ]
    },
    {
     "name": "stderr",
     "output_type": "stream",
     "text": [
      "\r\n",
      "Abnormal id_06:  69%|███████████████████████████████████████████▏                   | 70/102 [00:03<00:02, 14.40it/s]"
     ]
    },
    {
     "name": "stderr",
     "output_type": "stream",
     "text": [
      "\r\n",
      "Abnormal id_06:  71%|████████████████████████████████████████████▍                  | 72/102 [00:04<00:02, 14.70it/s]"
     ]
    },
    {
     "name": "stderr",
     "output_type": "stream",
     "text": [
      "\r\n",
      "Abnormal id_06:  73%|█████████████████████████████████████████████▋                 | 74/102 [00:04<00:01, 14.95it/s]"
     ]
    },
    {
     "name": "stderr",
     "output_type": "stream",
     "text": [
      "\r\n",
      "Abnormal id_06:  75%|██████████████████████████████████████████████▉                | 76/102 [00:04<00:01, 14.81it/s]"
     ]
    },
    {
     "name": "stderr",
     "output_type": "stream",
     "text": [
      "\r\n",
      "Abnormal id_06:  76%|████████████████████████████████████████████████▏              | 78/102 [00:04<00:01, 14.68it/s]"
     ]
    },
    {
     "name": "stderr",
     "output_type": "stream",
     "text": [
      "\r\n",
      "Abnormal id_06:  78%|█████████████████████████████████████████████████▍             | 80/102 [00:04<00:01, 15.77it/s]"
     ]
    },
    {
     "name": "stderr",
     "output_type": "stream",
     "text": [
      "\r\n",
      "Abnormal id_06:  80%|██████████████████████████████████████████████████▋            | 82/102 [00:04<00:01, 16.71it/s]"
     ]
    },
    {
     "name": "stderr",
     "output_type": "stream",
     "text": [
      "\r\n",
      "Abnormal id_06:  83%|████████████████████████████████████████████████████▌          | 85/102 [00:04<00:00, 18.12it/s]"
     ]
    },
    {
     "name": "stderr",
     "output_type": "stream",
     "text": [
      "\r\n",
      "Abnormal id_06:  85%|█████████████████████████████████████████████████████▋         | 87/102 [00:04<00:00, 18.59it/s]"
     ]
    },
    {
     "name": "stderr",
     "output_type": "stream",
     "text": [
      "\r\n",
      "Abnormal id_06:  88%|███████████████████████████████████████████████████████▌       | 90/102 [00:05<00:00, 18.93it/s]"
     ]
    },
    {
     "name": "stderr",
     "output_type": "stream",
     "text": [
      "\r\n",
      "Abnormal id_06:  90%|████████████████████████████████████████████████████████▊      | 92/102 [00:05<00:00, 18.81it/s]"
     ]
    },
    {
     "name": "stderr",
     "output_type": "stream",
     "text": [
      "\r\n",
      "Abnormal id_06:  93%|██████████████████████████████████████████████████████████▋    | 95/102 [00:05<00:00, 19.54it/s]"
     ]
    },
    {
     "name": "stderr",
     "output_type": "stream",
     "text": [
      "\r\n",
      "Abnormal id_06:  96%|████████████████████████████████████████████████████████████▌  | 98/102 [00:05<00:00, 18.35it/s]"
     ]
    },
    {
     "name": "stderr",
     "output_type": "stream",
     "text": [
      "\r\n",
      "Abnormal id_06:  99%|█████████████████████████████████████████████████████████████▍| 101/102 [00:05<00:00, 19.00it/s]"
     ]
    },
    {
     "name": "stderr",
     "output_type": "stream",
     "text": [
      "\r\n",
      "Abnormal id_06: 100%|██████████████████████████████████████████████████████████████| 102/102 [00:05<00:00, 17.96it/s]"
     ]
    },
    {
     "name": "stderr",
     "output_type": "stream",
     "text": [
      "\n"
     ]
    },
    {
     "name": "stdout",
     "output_type": "stream",
     "text": [
      "\n",
      "=== Feature Extraction Complete ===\n",
      "Total audio files processed: 8375\n",
      "DataFrame shape: (8375, 43)\n",
      "Class distribution:\n",
      "label\n",
      "0    7440\n",
      "1     935\n",
      "Name: count, dtype: int64\n",
      "Machine type distribution:\n",
      "machine_type\n",
      "pump     4205\n",
      "valve    4170\n",
      "Name: count, dtype: int64\n",
      "\n",
      "Sample of extracted features:\n"
     ]
    },
    {
     "data": {
      "text/html": [
       "<div>\n",
       "<style scoped>\n",
       "    .dataframe tbody tr th:only-of-type {\n",
       "        vertical-align: middle;\n",
       "    }\n",
       "\n",
       "    .dataframe tbody tr th {\n",
       "        vertical-align: top;\n",
       "    }\n",
       "\n",
       "    .dataframe thead th {\n",
       "        text-align: right;\n",
       "    }\n",
       "</style>\n",
       "<table border=\"1\" class=\"dataframe\">\n",
       "  <thead>\n",
       "    <tr style=\"text-align: right;\">\n",
       "      <th></th>\n",
       "      <th>mfcc_0</th>\n",
       "      <th>mfcc_1</th>\n",
       "      <th>mfcc_2</th>\n",
       "      <th>mfcc_3</th>\n",
       "      <th>mfcc_4</th>\n",
       "      <th>mfcc_5</th>\n",
       "      <th>mfcc_6</th>\n",
       "      <th>mfcc_7</th>\n",
       "      <th>mfcc_8</th>\n",
       "      <th>mfcc_9</th>\n",
       "      <th>...</th>\n",
       "      <th>mfcc_33</th>\n",
       "      <th>mfcc_34</th>\n",
       "      <th>mfcc_35</th>\n",
       "      <th>mfcc_36</th>\n",
       "      <th>mfcc_37</th>\n",
       "      <th>mfcc_38</th>\n",
       "      <th>mfcc_39</th>\n",
       "      <th>label</th>\n",
       "      <th>machine_type</th>\n",
       "      <th>machine_id</th>\n",
       "    </tr>\n",
       "  </thead>\n",
       "  <tbody>\n",
       "    <tr>\n",
       "      <th>0</th>\n",
       "      <td>-507.869995</td>\n",
       "      <td>188.468063</td>\n",
       "      <td>-57.282738</td>\n",
       "      <td>69.398331</td>\n",
       "      <td>-31.973919</td>\n",
       "      <td>37.724407</td>\n",
       "      <td>-11.836257</td>\n",
       "      <td>8.645617</td>\n",
       "      <td>1.546806</td>\n",
       "      <td>-4.209627</td>\n",
       "      <td>...</td>\n",
       "      <td>-1.984911</td>\n",
       "      <td>0.238989</td>\n",
       "      <td>-0.967655</td>\n",
       "      <td>-2.708370</td>\n",
       "      <td>1.216359</td>\n",
       "      <td>-2.090937</td>\n",
       "      <td>1.143367</td>\n",
       "      <td>0</td>\n",
       "      <td>valve</td>\n",
       "      <td>id_00</td>\n",
       "    </tr>\n",
       "    <tr>\n",
       "      <th>1</th>\n",
       "      <td>-509.361816</td>\n",
       "      <td>188.268433</td>\n",
       "      <td>-54.788357</td>\n",
       "      <td>66.934479</td>\n",
       "      <td>-28.273144</td>\n",
       "      <td>36.914673</td>\n",
       "      <td>-11.837775</td>\n",
       "      <td>7.263158</td>\n",
       "      <td>0.682315</td>\n",
       "      <td>-5.425356</td>\n",
       "      <td>...</td>\n",
       "      <td>-0.524206</td>\n",
       "      <td>0.412165</td>\n",
       "      <td>0.039723</td>\n",
       "      <td>-1.871952</td>\n",
       "      <td>1.505988</td>\n",
       "      <td>-1.208931</td>\n",
       "      <td>1.669691</td>\n",
       "      <td>0</td>\n",
       "      <td>valve</td>\n",
       "      <td>id_00</td>\n",
       "    </tr>\n",
       "    <tr>\n",
       "      <th>2</th>\n",
       "      <td>-465.439392</td>\n",
       "      <td>163.472260</td>\n",
       "      <td>-61.525158</td>\n",
       "      <td>53.406662</td>\n",
       "      <td>-47.847775</td>\n",
       "      <td>30.557493</td>\n",
       "      <td>-16.927465</td>\n",
       "      <td>10.094733</td>\n",
       "      <td>-0.036770</td>\n",
       "      <td>-7.755546</td>\n",
       "      <td>...</td>\n",
       "      <td>0.549742</td>\n",
       "      <td>0.222157</td>\n",
       "      <td>0.934227</td>\n",
       "      <td>-0.214178</td>\n",
       "      <td>1.005630</td>\n",
       "      <td>-1.678928</td>\n",
       "      <td>0.648282</td>\n",
       "      <td>0</td>\n",
       "      <td>valve</td>\n",
       "      <td>id_00</td>\n",
       "    </tr>\n",
       "    <tr>\n",
       "      <th>3</th>\n",
       "      <td>-507.321625</td>\n",
       "      <td>174.705750</td>\n",
       "      <td>-48.729088</td>\n",
       "      <td>61.112900</td>\n",
       "      <td>-34.114872</td>\n",
       "      <td>49.337193</td>\n",
       "      <td>-8.306753</td>\n",
       "      <td>15.297033</td>\n",
       "      <td>-2.600402</td>\n",
       "      <td>-4.283161</td>\n",
       "      <td>...</td>\n",
       "      <td>-1.573169</td>\n",
       "      <td>0.515809</td>\n",
       "      <td>-0.598281</td>\n",
       "      <td>0.121587</td>\n",
       "      <td>2.720362</td>\n",
       "      <td>-0.489660</td>\n",
       "      <td>2.233421</td>\n",
       "      <td>0</td>\n",
       "      <td>valve</td>\n",
       "      <td>id_00</td>\n",
       "    </tr>\n",
       "    <tr>\n",
       "      <th>4</th>\n",
       "      <td>-556.520142</td>\n",
       "      <td>175.094940</td>\n",
       "      <td>-20.162872</td>\n",
       "      <td>40.920486</td>\n",
       "      <td>-12.892130</td>\n",
       "      <td>29.897953</td>\n",
       "      <td>-2.539979</td>\n",
       "      <td>4.271306</td>\n",
       "      <td>1.508356</td>\n",
       "      <td>0.741697</td>\n",
       "      <td>...</td>\n",
       "      <td>-0.877516</td>\n",
       "      <td>0.278694</td>\n",
       "      <td>1.502990</td>\n",
       "      <td>-0.530207</td>\n",
       "      <td>0.519447</td>\n",
       "      <td>-1.993150</td>\n",
       "      <td>-0.470239</td>\n",
       "      <td>0</td>\n",
       "      <td>valve</td>\n",
       "      <td>id_00</td>\n",
       "    </tr>\n",
       "  </tbody>\n",
       "</table>\n",
       "<p>5 rows × 43 columns</p>\n",
       "</div>"
      ],
      "text/plain": [
       "       mfcc_0      mfcc_1     mfcc_2     mfcc_3     mfcc_4     mfcc_5  \\\n",
       "0 -507.869995  188.468063 -57.282738  69.398331 -31.973919  37.724407   \n",
       "1 -509.361816  188.268433 -54.788357  66.934479 -28.273144  36.914673   \n",
       "2 -465.439392  163.472260 -61.525158  53.406662 -47.847775  30.557493   \n",
       "3 -507.321625  174.705750 -48.729088  61.112900 -34.114872  49.337193   \n",
       "4 -556.520142  175.094940 -20.162872  40.920486 -12.892130  29.897953   \n",
       "\n",
       "      mfcc_6     mfcc_7    mfcc_8    mfcc_9  ...   mfcc_33   mfcc_34  \\\n",
       "0 -11.836257   8.645617  1.546806 -4.209627  ... -1.984911  0.238989   \n",
       "1 -11.837775   7.263158  0.682315 -5.425356  ... -0.524206  0.412165   \n",
       "2 -16.927465  10.094733 -0.036770 -7.755546  ...  0.549742  0.222157   \n",
       "3  -8.306753  15.297033 -2.600402 -4.283161  ... -1.573169  0.515809   \n",
       "4  -2.539979   4.271306  1.508356  0.741697  ... -0.877516  0.278694   \n",
       "\n",
       "    mfcc_35   mfcc_36   mfcc_37   mfcc_38   mfcc_39  label  machine_type  \\\n",
       "0 -0.967655 -2.708370  1.216359 -2.090937  1.143367      0         valve   \n",
       "1  0.039723 -1.871952  1.505988 -1.208931  1.669691      0         valve   \n",
       "2  0.934227 -0.214178  1.005630 -1.678928  0.648282      0         valve   \n",
       "3 -0.598281  0.121587  2.720362 -0.489660  2.233421      0         valve   \n",
       "4  1.502990 -0.530207  0.519447 -1.993150 -0.470239      0         valve   \n",
       "\n",
       "   machine_id  \n",
       "0       id_00  \n",
       "1       id_00  \n",
       "2       id_00  \n",
       "3       id_00  \n",
       "4       id_00  \n",
       "\n",
       "[5 rows x 43 columns]"
      ]
     },
     "execution_count": 3,
     "metadata": {},
     "output_type": "execute_result"
    }
   ],
   "source": [
    "# --- 1. Audio Feature Extraction ---\n",
    "\n",
    "def extract_features(file_path):\n",
    "    \"\"\"\n",
    "    Loads an audio file and extracts MFCC features.\n",
    "    \n",
    "    Args:\n",
    "        file_path (str): Path to the .wav audio file\n",
    "        \n",
    "    Returns:\n",
    "        np.array: Array of 40 MFCC features (mean across time)\n",
    "    \"\"\"\n",
    "    try:\n",
    "        # Load audio file with librosa\n",
    "        audio, sample_rate = librosa.load(file_path, res_type='kaiser_fast', duration=10.0)\n",
    "        \n",
    "        # Extract 40 MFCC coefficients\n",
    "        mfccs = librosa.feature.mfcc(y=audio, sr=sample_rate, n_mfcc=40)\n",
    "        \n",
    "        # Take mean across time dimension to get fixed-size feature vector\n",
    "        mfccs_processed = np.mean(mfccs.T, axis=0)\n",
    "        \n",
    "        return mfccs_processed\n",
    "    except Exception as e:\n",
    "        print(f\"Error processing {file_path}: {e}\")\n",
    "        return None\n",
    "\n",
    "# Define the path to the dataset and initialize containers\n",
    "data_path = 'data/MIMII_sound_dataset/'\n",
    "machine_types = ['6_dB_valve', '6_dB_pump']\n",
    "features_list = []\n",
    "file_count = 0\n",
    "\n",
    "print(\"Starting audio feature extraction from MIMII dataset...\")\n",
    "print(f\"Target machine types: {machine_types}\")\n",
    "\n",
    "# Loop through the directory structure to process audio files\n",
    "for machine_dir in machine_types:\n",
    "    # Get machine type from directory name (e.g., 'valve')\n",
    "    machine_type = machine_dir.split('_')[-1]\n",
    "    machine_path = os.path.join(data_path, machine_dir, machine_type)\n",
    "    \n",
    "    print(f\"\\nProcessing {machine_type} sounds from: {machine_path}\")\n",
    "    \n",
    "    # Use glob to find all id directories\n",
    "    id_dirs = glob.glob(os.path.join(machine_path, 'id_*'))\n",
    "    print(f\"Found {len(id_dirs)} machine IDs for {machine_type}\")\n",
    "    \n",
    "    for id_dir in sorted(id_dirs):\n",
    "        machine_id = os.path.basename(id_dir)\n",
    "        \n",
    "        # Process normal files\n",
    "        normal_files = glob.glob(os.path.join(id_dir, 'normal', '*.wav'))\n",
    "        print(f\"Processing {len(normal_files)} normal files for {machine_id}...\")\n",
    "        \n",
    "        for file_path in tqdm(normal_files, desc=f\"Normal {machine_id}\"):\n",
    "            features = extract_features(file_path)\n",
    "            if features is not None:\n",
    "                features_list.append([*features, 0, machine_type, machine_id])\n",
    "                file_count += 1\n",
    "        \n",
    "        # Process abnormal files\n",
    "        abnormal_files = glob.glob(os.path.join(id_dir, 'abnormal', '*.wav'))\n",
    "        print(f\"Processing {len(abnormal_files)} abnormal files for {machine_id}...\")\n",
    "        \n",
    "        for file_path in tqdm(abnormal_files, desc=f\"Abnormal {machine_id}\"):\n",
    "            features = extract_features(file_path)\n",
    "            if features is not None:\n",
    "                features_list.append([*features, 1, machine_type, machine_id])\n",
    "                file_count += 1\n",
    "\n",
    "# Create DataFrame with proper column names\n",
    "feature_columns = [f'mfcc_{i}' for i in range(40)]\n",
    "df = pd.DataFrame(features_list, columns=feature_columns + ['label', 'machine_type', 'machine_id'])\n",
    "\n",
    "print(f\"\\n=== Feature Extraction Complete ===\")\n",
    "print(f\"Total audio files processed: {file_count}\")\n",
    "print(f\"DataFrame shape: {df.shape}\")\n",
    "print(f\"Class distribution:\\n{df['label'].value_counts()}\")\n",
    "print(f\"Machine type distribution:\\n{df['machine_type'].value_counts()}\")\n",
    "\n",
    "# Display sample of extracted features\n",
    "print(f\"\\nSample of extracted features:\")\n",
    "df.head()"
   ]
  },
  {
   "cell_type": "code",
   "execution_count": 4,
   "id": "3a77da0d",
   "metadata": {
    "execution": {
     "iopub.execute_input": "2025-08-18T18:21:57.250212Z",
     "iopub.status.busy": "2025-08-18T18:21:57.250042Z",
     "iopub.status.idle": "2025-08-18T18:21:57.279206Z",
     "shell.execute_reply": "2025-08-18T18:21:57.278885Z"
    },
    "papermill": {
     "duration": 0.110646,
     "end_time": "2025-08-18T18:21:57.279864",
     "exception": false,
     "start_time": "2025-08-18T18:21:57.169218",
     "status": "completed"
    },
    "tags": []
   },
   "outputs": [
    {
     "name": "stdout",
     "output_type": "stream",
     "text": [
      "=== Dataset Analysis ===\n",
      "Class Distribution:\n",
      "Normal (0): 7440 samples (88.8%)\n",
      "Abnormal (1): 935 samples (11.2%)\n",
      "\n",
      "Machine Type Distribution:\n",
      "valve: 4170 total (3691 normal, 479 abnormal)\n",
      "pump: 4205 total (3749 normal, 456 abnormal)\n",
      "\n",
      "Preparing features for modeling...\n",
      "Feature matrix shape: (8375, 42)\n",
      "Features: ['mfcc_0', 'mfcc_1', 'mfcc_2', 'mfcc_3', 'mfcc_4']... (+37 more)\n"
     ]
    },
    {
     "name": "stdout",
     "output_type": "stream",
     "text": [
      "\n",
      "Training set: 6700 samples\n",
      "Test set: 1675 samples\n",
      "Training class distribution: {0: 5952, 1: 748}\n",
      "Test class distribution: {0: 1488, 1: 187}\n",
      "Data preparation complete! ✅\n"
     ]
    }
   ],
   "source": [
    "# --- 2. Data Preparation and Analysis ---\n",
    "\n",
    "print(\"=== Dataset Analysis ===\")\n",
    "\n",
    "# Class balance analysis\n",
    "print(\"Class Distribution:\")\n",
    "class_counts = df['label'].value_counts()\n",
    "print(f\"Normal (0): {class_counts[0]} samples ({class_counts[0]/len(df)*100:.1f}%)\")\n",
    "print(f\"Abnormal (1): {class_counts[1]} samples ({class_counts[1]/len(df)*100:.1f}%)\")\n",
    "\n",
    "# Machine type analysis\n",
    "print(f\"\\nMachine Type Distribution:\")\n",
    "for machine_type in df['machine_type'].unique():\n",
    "    subset = df[df['machine_type'] == machine_type]\n",
    "    normal_count = (subset['label'] == 0).sum()\n",
    "    abnormal_count = (subset['label'] == 1).sum()\n",
    "    print(f\"{machine_type}: {len(subset)} total ({normal_count} normal, {abnormal_count} abnormal)\")\n",
    "\n",
    "# One-hot encode categorical features\n",
    "print(f\"\\nPreparing features for modeling...\")\n",
    "df_encoded = pd.get_dummies(df, columns=['machine_type'], drop_first=False)\n",
    "\n",
    "# Separate features and target\n",
    "feature_cols = [col for col in df_encoded.columns if col not in ['label', 'machine_id']]\n",
    "X = df_encoded[feature_cols]\n",
    "y = df_encoded['label']\n",
    "\n",
    "print(f\"Feature matrix shape: {X.shape}\")\n",
    "print(f\"Features: {feature_cols[:5]}... (+{len(feature_cols)-5} more)\")\n",
    "\n",
    "# Split data stratified by both label and machine type to ensure representative splits\n",
    "X_train, X_test, y_train, y_test = train_test_split(\n",
    "    X, y, test_size=0.2, random_state=42, stratify=y\n",
    ")\n",
    "\n",
    "# Scale the features\n",
    "scaler = StandardScaler()\n",
    "X_train_scaled = scaler.fit_transform(X_train)\n",
    "X_test_scaled = scaler.transform(X_test)\n",
    "\n",
    "print(f\"\\nTraining set: {X_train_scaled.shape[0]} samples\")\n",
    "print(f\"Test set: {X_test_scaled.shape[0]} samples\")\n",
    "print(f\"Training class distribution: {pd.Series(y_train).value_counts().to_dict()}\")\n",
    "print(f\"Test class distribution: {pd.Series(y_test).value_counts().to_dict()}\")\n",
    "\n",
    "print(\"Data preparation complete! ✅\")"
   ]
  },
  {
   "cell_type": "code",
   "execution_count": 5,
   "id": "d7195faa",
   "metadata": {
    "execution": {
     "iopub.execute_input": "2025-08-18T18:21:57.458086Z",
     "iopub.status.busy": "2025-08-18T18:21:57.457891Z",
     "iopub.status.idle": "2025-08-18T18:22:03.812144Z",
     "shell.execute_reply": "2025-08-18T18:22:03.811895Z"
    },
    "papermill": {
     "duration": 6.450907,
     "end_time": "2025-08-18T18:22:03.812564",
     "exception": false,
     "start_time": "2025-08-18T18:21:57.361657",
     "status": "completed"
    },
    "tags": []
   },
   "outputs": [
    {
     "name": "stdout",
     "output_type": "stream",
     "text": [
      "=== 🎵 Audio Gauntlet: Training RandomForest on MFCC Features ===\n",
      "Training model...\n"
     ]
    },
    {
     "name": "stdout",
     "output_type": "stream",
     "text": [
      "Making predictions...\n"
     ]
    },
    {
     "name": "stdout",
     "output_type": "stream",
     "text": [
      "\n",
      "=== 🎯 Audio Anomaly Detection Results ===\n",
      "Overall Accuracy: 0.9331\n",
      "Abnormal Detection (Recall): 0.4866\n",
      "Abnormal Precision: 0.8505\n",
      "Abnormal F1-Score: 0.6190\n",
      "Macro Average F1: 0.7912\n",
      "\n",
      "📊 Top 5 Most Important Features:\n",
      "  1. mfcc_0: 0.1053\n",
      "  2. mfcc_21: 0.0493\n",
      "  3. mfcc_8: 0.0463\n",
      "  4. mfcc_3: 0.0380\n",
      "  5. mfcc_1: 0.0346\n"
     ]
    },
    {
     "name": "stderr",
     "output_type": "stream",
     "text": [
      "\u001b[31m2025/08/18 18:22:01 WARNING mlflow.models.model: Model logged without a signature and input example. Please set `input_example` parameter when logging the model to auto infer the model signature.\u001b[0m\n"
     ]
    },
    {
     "name": "stderr",
     "output_type": "stream",
     "text": [
      "Successfully registered model 'RandomForest_MIMII_Audio_Benchmark'.\n",
      "2025/08/18 18:22:01 INFO mlflow.store.model_registry.abstract_store: Waiting up to 300 seconds for model version to finish creation. Model name: RandomForest_MIMII_Audio_Benchmark, version 1\n"
     ]
    },
    {
     "name": "stderr",
     "output_type": "stream",
     "text": [
      "Created version '1' of model 'RandomForest_MIMII_Audio_Benchmark'.\n",
      "2025/08/18 18:22:01 WARNING mlflow.sklearn: Model was missing function: predict. Not logging python_function flavor!\n"
     ]
    },
    {
     "name": "stderr",
     "output_type": "stream",
     "text": [
      "\u001b[31m2025/08/18 18:22:03 WARNING mlflow.models.model: Model logged without a signature and input example. Please set `input_example` parameter when logging the model to auto infer the model signature.\u001b[0m\n"
     ]
    },
    {
     "name": "stderr",
     "output_type": "stream",
     "text": [
      "Successfully registered model 'MIMII_Audio_Scaler'.\n",
      "2025/08/18 18:22:03 INFO mlflow.store.model_registry.abstract_store: Waiting up to 300 seconds for model version to finish creation. Model name: MIMII_Audio_Scaler, version 1\n"
     ]
    },
    {
     "name": "stdout",
     "output_type": "stream",
     "text": [
      "\n",
      "✅ Models registered:\n",
      "   - RandomForest_MIMII_Audio_Benchmark\n",
      "   - MIMII_Audio_Scaler\n",
      "🏃 View run RandomForest_Audio_Anomaly_MIMII at: http://mlflow:5000/#/experiments/5/runs/80bb7ac6663f486d834c77c5a8788d0c\n",
      "🧪 View experiment at: http://mlflow:5000/#/experiments/5\n",
      "\n",
      "🎉 === Audio Gauntlet Complete! === 🎉\n",
      "Successfully trained audio anomaly detection model on 8375 MIMII sound samples\n",
      "Model achieves 61.9% F1-score for abnormal sound detection\n"
     ]
    },
    {
     "name": "stderr",
     "output_type": "stream",
     "text": [
      "Created version '1' of model 'MIMII_Audio_Scaler'.\n"
     ]
    }
   ],
   "source": [
    "# --- 3. Model Training and Evaluation ---\n",
    "\n",
    "with mlflow.start_run(run_name=\"RandomForest_Audio_Anomaly_MIMII\"):\n",
    "    print(\"=== 🎵 Audio Gauntlet: Training RandomForest on MFCC Features ===\")\n",
    "    \n",
    "    # Log dataset and experiment metadata\n",
    "    mlflow.log_param(\"dataset\", \"MIMII_6dB_Valve_Pump\")\n",
    "    mlflow.log_param(\"feature_type\", \"MFCC_40_coefficients\")\n",
    "    mlflow.log_param(\"audio_duration_limit\", \"10_seconds\")\n",
    "    mlflow.log_param(\"total_samples\", len(df))\n",
    "    mlflow.log_param(\"train_samples\", len(X_train))\n",
    "    mlflow.log_param(\"test_samples\", len(X_test))\n",
    "    mlflow.log_param(\"feature_dimensions\", X_train_scaled.shape[1])\n",
    "    \n",
    "    # Log class distribution\n",
    "    train_normal = (y_train == 0).sum()\n",
    "    train_abnormal = (y_train == 1).sum()\n",
    "    mlflow.log_param(\"train_normal_samples\", train_normal)\n",
    "    mlflow.log_param(\"train_abnormal_samples\", train_abnormal)\n",
    "    mlflow.log_param(\"class_imbalance_ratio\", train_abnormal / train_normal)\n",
    "    \n",
    "    # Configure and train the model\n",
    "    model = RandomForestClassifier(\n",
    "        n_estimators=100,\n",
    "        random_state=42,\n",
    "        n_jobs=-1,\n",
    "        class_weight='balanced',  # Handle class imbalance\n",
    "        max_depth=10,\n",
    "        min_samples_split=5\n",
    "    )\n",
    "    \n",
    "    # Log model hyperparameters\n",
    "    mlflow.log_param(\"model_type\", \"RandomForestClassifier\")\n",
    "    mlflow.log_params(model.get_params())\n",
    "    \n",
    "    print(\"Training model...\")\n",
    "    model.fit(X_train_scaled, y_train)\n",
    "    \n",
    "    # Make predictions\n",
    "    print(\"Making predictions...\")\n",
    "    y_pred = model.predict(X_test_scaled)\n",
    "    y_pred_proba = model.predict_proba(X_test_scaled)[:, 1]  # Probability of abnormal class\n",
    "    \n",
    "    # Generate comprehensive evaluation metrics\n",
    "    report = classification_report(y_test, y_pred, output_dict=True)\n",
    "    \n",
    "    # Extract key metrics\n",
    "    accuracy = report['accuracy']\n",
    "    precision_normal = report['0']['precision']\n",
    "    recall_normal = report['0']['recall']\n",
    "    f1_normal = report['0']['f1-score']\n",
    "    \n",
    "    precision_abnormal = report['1']['precision']\n",
    "    recall_abnormal = report['1']['recall']\n",
    "    f1_abnormal = report['1']['f1-score']\n",
    "    \n",
    "    macro_avg_f1 = report['macro avg']['f1-score']\n",
    "    weighted_avg_f1 = report['weighted avg']['f1-score']\n",
    "    \n",
    "    # Log all metrics to MLflow\n",
    "    mlflow.log_metric(\"accuracy\", accuracy)\n",
    "    mlflow.log_metric(\"precision_normal\", precision_normal)\n",
    "    mlflow.log_metric(\"recall_normal\", recall_normal)\n",
    "    mlflow.log_metric(\"f1_score_normal\", f1_normal)\n",
    "    mlflow.log_metric(\"precision_abnormal\", precision_abnormal)\n",
    "    mlflow.log_metric(\"recall_abnormal\", recall_abnormal)\n",
    "    mlflow.log_metric(\"f1_score_abnormal\", f1_abnormal)\n",
    "    mlflow.log_metric(\"macro_avg_f1\", macro_avg_f1)\n",
    "    mlflow.log_metric(\"weighted_avg_f1\", weighted_avg_f1)\n",
    "    \n",
    "    # Log classification report as artifact\n",
    "    mlflow.log_dict(report, \"classification_report.json\")\n",
    "    \n",
    "    # Feature importance analysis\n",
    "    feature_importance = pd.DataFrame({\n",
    "        'feature': feature_cols,\n",
    "        'importance': model.feature_importances_\n",
    "    }).sort_values('importance', ascending=False)\n",
    "    \n",
    "    # Log top 10 most important features\n",
    "    top_features = feature_importance.head(10)\n",
    "    for i, (_, row) in enumerate(top_features.iterrows()):\n",
    "        mlflow.log_metric(f\"feature_importance_rank_{i+1}\", row['importance'])\n",
    "        mlflow.log_param(f\"top_feature_{i+1}\", row['feature'])\n",
    "    \n",
    "    # Print results\n",
    "    print(f\"\\n=== 🎯 Audio Anomaly Detection Results ===\")\n",
    "    print(f\"Overall Accuracy: {accuracy:.4f}\")\n",
    "    print(f\"Abnormal Detection (Recall): {recall_abnormal:.4f}\")\n",
    "    print(f\"Abnormal Precision: {precision_abnormal:.4f}\")\n",
    "    print(f\"Abnormal F1-Score: {f1_abnormal:.4f}\")\n",
    "    print(f\"Macro Average F1: {macro_avg_f1:.4f}\")\n",
    "    \n",
    "    print(f\"\\n📊 Top 5 Most Important Features:\")\n",
    "    for i, (_, row) in enumerate(top_features.head(5).iterrows()):\n",
    "        print(f\"  {i+1}. {row['feature']}: {row['importance']:.4f}\")\n",
    "    \n",
    "    # Log and register the model\n",
    "    mlflow.sklearn.log_model(\n",
    "        model, \n",
    "        \"audio_anomaly_classifier\",\n",
    "        registered_model_name=\"RandomForest_MIMII_Audio_Benchmark\"\n",
    "    )\n",
    "    \n",
    "    # Also log the scaler for complete preprocessing pipeline\n",
    "    mlflow.sklearn.log_model(\n",
    "        scaler,\n",
    "        \"feature_scaler\",\n",
    "        registered_model_name=\"MIMII_Audio_Scaler\"\n",
    "    )\n",
    "    \n",
    "    print(f\"\\n✅ Models registered:\")\n",
    "    print(f\"   - RandomForest_MIMII_Audio_Benchmark\")\n",
    "    print(f\"   - MIMII_Audio_Scaler\")\n",
    "\n",
    "print(f\"\\n🎉 === Audio Gauntlet Complete! === 🎉\")\n",
    "print(f\"Successfully trained audio anomaly detection model on {len(df)} MIMII sound samples\")\n",
    "print(f\"Model achieves {f1_abnormal:.1%} F1-score for abnormal sound detection\")"
   ]
  }
 ],
 "metadata": {
  "kernelspec": {
   "display_name": "Python 3",
   "language": "python",
   "name": "python3"
  },
  "language_info": {
   "codemirror_mode": {
    "name": "ipython",
    "version": 3
   },
   "file_extension": ".py",
   "mimetype": "text/x-python",
   "name": "python",
   "nbconvert_exporter": "python",
   "pygments_lexer": "ipython3",
   "version": "3.12.11"
  },
  "papermill": {
   "default_parameters": {},
   "duration": 453.974555,
   "end_time": "2025-08-18T18:22:05.132427",
   "environment_variables": {},
   "exception": null,
   "input_path": "notebooks/07_audio_benchmark.ipynb",
   "output_path": "notebooks/07_audio_benchmark_output.ipynb",
   "parameters": {},
   "start_time": "2025-08-18T18:14:31.157872",
   "version": "2.6.0"
  }
 },
 "nbformat": 4,
 "nbformat_minor": 5
}
