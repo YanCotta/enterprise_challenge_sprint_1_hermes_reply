{
 "cells": [
  {
   "cell_type": "markdown",
   "id": "b4275bc8",
   "metadata": {
    "tags": [
     "papermill-error-cell-tag"
    ]
   },
   "source": [
    "<span style=\"color:red; font-family:Helvetica Neue, Helvetica, Arial, sans-serif; font-size:2em;\">An Exception was encountered at '<a href=\"#papermill-error-cell\">In [3]</a>'.</span>"
   ]
  },
  {
   "cell_type": "code",
   "execution_count": 1,
   "id": "4cc2c72b",
   "metadata": {
    "execution": {
     "iopub.execute_input": "2025-08-22T12:28:43.224404Z",
     "iopub.status.busy": "2025-08-22T12:28:43.224202Z",
     "iopub.status.idle": "2025-08-22T12:28:48.495307Z",
     "shell.execute_reply": "2025-08-22T12:28:48.495034Z"
    },
    "papermill": {
     "duration": 5.273792,
     "end_time": "2025-08-22T12:28:48.495911",
     "exception": false,
     "start_time": "2025-08-22T12:28:43.222119",
     "status": "completed"
    },
    "tags": []
   },
   "outputs": [
    {
     "name": "stderr",
     "output_type": "stream",
     "text": [
      "mkdir -p failed for path /.config/matplotlib: [Errno 13] Permission denied: '/.config'\n"
     ]
    },
    {
     "name": "stderr",
     "output_type": "stream",
     "text": [
      "Matplotlib created a temporary cache directory at /tmp/matplotlib-vi7nz7z_ because there was an issue with the default path (/.config/matplotlib); it is highly recommended to set the MPLCONFIGDIR environment variable to a writable directory, in particular to speed up the import of Matplotlib and to better support multiprocessing.\n"
     ]
    },
    {
     "name": "stdout",
     "output_type": "stream",
     "text": [
      "MLflow tracking URI set to: http://mlflow:5000\n"
     ]
    }
   ],
   "source": [
    "import pandas as pd\n",
    "import mlflow\n",
    "import json\n",
    "import os\n",
    "import socket\n",
    "import time\n",
    "from sklearn.ensemble import IsolationForest\n",
    "import matplotlib.pyplot as plt\n",
    "import seaborn as sns\n",
    "\n",
    "from apps.ml.features import SensorFeatureTransformer\n",
    "\n",
    "# MLflow setup (inside docker network use service name)\n",
    "DEFAULT_TRACKING_URI = \"http://mlflow:5000\"\n",
    "tracking_uri = os.getenv(\"MLFLOW_TRACKING_URI\", DEFAULT_TRACKING_URI)\n",
    "mlflow.set_tracking_uri(tracking_uri)\n",
    "mlflow.set_experiment(\"Anomaly Detection\")\n",
    "\n",
    "def wait_for_port(host: str, port: int, timeout: int = 60, interval: float = 2.0):\n",
    "    start = time.time()\n",
    "    while time.time() - start < timeout:\n",
    "        try:\n",
    "            with socket.create_connection((host, port), timeout=2):\n",
    "                return True\n",
    "        except OSError:\n",
    "            time.sleep(interval)\n",
    "    raise RuntimeError(f\"MLflow not reachable at {host}:{port} after {timeout}s\")\n",
    "\n",
    "# Only wait if using the default internal URI\n",
    "if \"mlflow:5000\" in tracking_uri:\n",
    "    wait_for_port(\"mlflow\", 5000)\n",
    "\n",
    "print(f\"MLflow tracking URI set to: {mlflow.get_tracking_uri()}\")"
   ]
  },
  {
   "cell_type": "code",
   "execution_count": 2,
   "id": "5c5c0e5d",
   "metadata": {
    "execution": {
     "iopub.execute_input": "2025-08-22T12:28:48.498071Z",
     "iopub.status.busy": "2025-08-22T12:28:48.497822Z",
     "iopub.status.idle": "2025-08-22T12:28:48.558159Z",
     "shell.execute_reply": "2025-08-22T12:28:48.557835Z"
    },
    "papermill": {
     "duration": 0.061775,
     "end_time": "2025-08-22T12:28:48.558677",
     "exception": false,
     "start_time": "2025-08-22T12:28:48.496902",
     "status": "completed"
    },
    "tags": []
   },
   "outputs": [
    {
     "name": "stdout",
     "output_type": "stream",
     "text": [
      "Data transformed successfully with new transformer.\n",
      "Features (7): ['value_lag_1', 'value_lag_2', 'value_lag_3', 'value_lag_4', 'value_lag_5', 'value_scaled', 'quality_scaled']\n"
     ]
    },
    {
     "name": "stderr",
     "output_type": "stream",
     "text": [
      "/app/apps/ml/features.py:75: FutureWarning: DataFrameGroupBy.apply operated on the grouping columns. This behavior is deprecated, and in a future version of pandas the grouping columns will be excluded from the operation. Either pass `include_groups=False` to exclude the groupings or explicitly select the grouping columns after groupby to silence this warning.\n",
      "  .apply(lambda g: g.ffill().bfill())\n"
     ]
    },
    {
     "data": {
      "text/html": [
       "<div>\n",
       "<style scoped>\n",
       "    .dataframe tbody tr th:only-of-type {\n",
       "        vertical-align: middle;\n",
       "    }\n",
       "\n",
       "    .dataframe tbody tr th {\n",
       "        vertical-align: top;\n",
       "    }\n",
       "\n",
       "    .dataframe thead th {\n",
       "        text-align: right;\n",
       "    }\n",
       "</style>\n",
       "<table border=\"1\" class=\"dataframe\">\n",
       "  <thead>\n",
       "    <tr style=\"text-align: right;\">\n",
       "      <th></th>\n",
       "      <th>value_lag_1</th>\n",
       "      <th>value_lag_2</th>\n",
       "      <th>value_lag_3</th>\n",
       "      <th>value_lag_4</th>\n",
       "      <th>value_lag_5</th>\n",
       "      <th>value_scaled</th>\n",
       "      <th>quality_scaled</th>\n",
       "    </tr>\n",
       "  </thead>\n",
       "  <tbody>\n",
       "    <tr>\n",
       "      <th>0</th>\n",
       "      <td>51.183</td>\n",
       "      <td>51.183</td>\n",
       "      <td>51.183</td>\n",
       "      <td>51.183</td>\n",
       "      <td>51.183</td>\n",
       "      <td>0.545164</td>\n",
       "      <td>0.726316</td>\n",
       "    </tr>\n",
       "    <tr>\n",
       "      <th>1</th>\n",
       "      <td>51.183</td>\n",
       "      <td>51.183</td>\n",
       "      <td>51.183</td>\n",
       "      <td>51.183</td>\n",
       "      <td>51.183</td>\n",
       "      <td>0.640252</td>\n",
       "      <td>0.526316</td>\n",
       "    </tr>\n",
       "    <tr>\n",
       "      <th>2</th>\n",
       "      <td>57.875</td>\n",
       "      <td>51.183</td>\n",
       "      <td>51.183</td>\n",
       "      <td>51.183</td>\n",
       "      <td>51.183</td>\n",
       "      <td>0.745130</td>\n",
       "      <td>0.821053</td>\n",
       "    </tr>\n",
       "    <tr>\n",
       "      <th>3</th>\n",
       "      <td>65.256</td>\n",
       "      <td>57.875</td>\n",
       "      <td>51.183</td>\n",
       "      <td>51.183</td>\n",
       "      <td>51.183</td>\n",
       "      <td>0.682396</td>\n",
       "      <td>0.747368</td>\n",
       "    </tr>\n",
       "    <tr>\n",
       "      <th>4</th>\n",
       "      <td>60.841</td>\n",
       "      <td>65.256</td>\n",
       "      <td>57.875</td>\n",
       "      <td>51.183</td>\n",
       "      <td>51.183</td>\n",
       "      <td>0.699092</td>\n",
       "      <td>0.694737</td>\n",
       "    </tr>\n",
       "  </tbody>\n",
       "</table>\n",
       "</div>"
      ],
      "text/plain": [
       "   value_lag_1  value_lag_2  value_lag_3  value_lag_4  value_lag_5  \\\n",
       "0       51.183       51.183       51.183       51.183       51.183   \n",
       "1       51.183       51.183       51.183       51.183       51.183   \n",
       "2       57.875       51.183       51.183       51.183       51.183   \n",
       "3       65.256       57.875       51.183       51.183       51.183   \n",
       "4       60.841       65.256       57.875       51.183       51.183   \n",
       "\n",
       "   value_scaled  quality_scaled  \n",
       "0      0.545164        0.726316  \n",
       "1      0.640252        0.526316  \n",
       "2      0.745130        0.821053  \n",
       "3      0.682396        0.747368  \n",
       "4      0.699092        0.694737  "
      ]
     },
     "execution_count": 2,
     "metadata": {},
     "output_type": "execute_result"
    }
   ],
   "source": [
    "df = pd.read_csv('data/sensor_data.csv', parse_dates=['timestamp'])\n",
    "\n",
    "# Initialize the ENHANCED feature transformer\n",
    "feature_transformer = SensorFeatureTransformer(n_lags=5, scale_columns=['value', 'quality'])\n",
    "X_transformed = feature_transformer.fit_transform(df)\n",
    "feature_names = feature_transformer.get_feature_names_out()\n",
    "\n",
    "print(\"Data transformed successfully with new transformer.\")\n",
    "print(f\"Features ({len(feature_names)}): {feature_names}\")\n",
    "X_transformed.head()"
   ]
  },
  {
   "cell_type": "markdown",
   "id": "ca3d4571",
   "metadata": {
    "tags": [
     "papermill-error-cell-tag"
    ]
   },
   "source": [
    "<span id=\"papermill-error-cell\" style=\"color:red; font-family:Helvetica Neue, Helvetica, Arial, sans-serif; font-size:2em;\">Execution using papermill encountered an exception here and stopped:</span>"
   ]
  },
  {
   "cell_type": "code",
   "execution_count": 3,
   "id": "085909a3",
   "metadata": {
    "execution": {
     "iopub.execute_input": "2025-08-22T12:28:48.561327Z",
     "iopub.status.busy": "2025-08-22T12:28:48.561192Z",
     "iopub.status.idle": "2025-08-22T12:28:49.159741Z",
     "shell.execute_reply": "2025-08-22T12:28:49.159236Z"
    },
    "papermill": {
     "duration": 0.600436,
     "end_time": "2025-08-22T12:28:49.160218",
     "exception": true,
     "start_time": "2025-08-22T12:28:48.559782",
     "status": "failed"
    },
    "tags": []
   },
   "outputs": [
    {
     "name": "stderr",
     "output_type": "stream",
     "text": [
      "2025/08/22 12:28:48 WARNING mlflow.tracking.context.registry: Encountered unexpected error during resolving tags: 'getpwuid(): uid not found: 1000'\n"
     ]
    },
    {
     "name": "stdout",
     "output_type": "stream",
     "text": [
      "🏃 View run IsolationForest_v2_refined at: http://mlflow:5000/#/experiments/1/runs/ad260c321faf494e9b78712ea76352c8\n",
      "🧪 View experiment at: http://mlflow:5000/#/experiments/1\n"
     ]
    },
    {
     "ename": "PermissionError",
     "evalue": "[Errno 13] Permission denied: 'feature_names.txt'",
     "output_type": "error",
     "traceback": [
      "\u001b[31m---------------------------------------------------------------------------\u001b[39m",
      "\u001b[31mPermissionError\u001b[39m                           Traceback (most recent call last)",
      "\u001b[36mCell\u001b[39m\u001b[36m \u001b[39m\u001b[32mIn[3]\u001b[39m\u001b[32m, line 8\u001b[39m\n\u001b[32m      6\u001b[39m mlflow.log_param(\u001b[33m\"\u001b[39m\u001b[33mfeature_count\u001b[39m\u001b[33m\"\u001b[39m, \u001b[38;5;28mlen\u001b[39m(feature_names))\n\u001b[32m      7\u001b[39m \u001b[38;5;66;03m# Log feature names as a text artifact\u001b[39;00m\n\u001b[32m----> \u001b[39m\u001b[32m8\u001b[39m \u001b[38;5;28;01mwith\u001b[39;00m \u001b[38;5;28;43mopen\u001b[39;49m\u001b[43m(\u001b[49m\u001b[33;43m\"\u001b[39;49m\u001b[33;43mfeature_names.txt\u001b[39;49m\u001b[33;43m\"\u001b[39;49m\u001b[43m,\u001b[49m\u001b[43m \u001b[49m\u001b[33;43m\"\u001b[39;49m\u001b[33;43mw\u001b[39;49m\u001b[33;43m\"\u001b[39;49m\u001b[43m)\u001b[49m \u001b[38;5;28;01mas\u001b[39;00m f:\n\u001b[32m      9\u001b[39m     json.dump(feature_names, f)\n\u001b[32m     10\u001b[39m mlflow.log_artifact(\u001b[33m\"\u001b[39m\u001b[33mfeature_names.txt\u001b[39m\u001b[33m\"\u001b[39m)\n",
      "\u001b[36mFile \u001b[39m\u001b[32m~usr/local/lib/python3.12/site-packages/IPython/core/interactiveshell.py:343\u001b[39m, in \u001b[36m_modified_open\u001b[39m\u001b[34m(file, *args, **kwargs)\u001b[39m\n\u001b[32m    336\u001b[39m \u001b[38;5;28;01mif\u001b[39;00m file \u001b[38;5;129;01min\u001b[39;00m {\u001b[32m0\u001b[39m, \u001b[32m1\u001b[39m, \u001b[32m2\u001b[39m}:\n\u001b[32m    337\u001b[39m     \u001b[38;5;28;01mraise\u001b[39;00m \u001b[38;5;167;01mValueError\u001b[39;00m(\n\u001b[32m    338\u001b[39m         \u001b[33mf\u001b[39m\u001b[33m\"\u001b[39m\u001b[33mIPython won\u001b[39m\u001b[33m'\u001b[39m\u001b[33mt let you open fd=\u001b[39m\u001b[38;5;132;01m{\u001b[39;00mfile\u001b[38;5;132;01m}\u001b[39;00m\u001b[33m by default \u001b[39m\u001b[33m\"\u001b[39m\n\u001b[32m    339\u001b[39m         \u001b[33m\"\u001b[39m\u001b[33mas it is likely to crash IPython. If you know what you are doing, \u001b[39m\u001b[33m\"\u001b[39m\n\u001b[32m    340\u001b[39m         \u001b[33m\"\u001b[39m\u001b[33myou can use builtins\u001b[39m\u001b[33m'\u001b[39m\u001b[33m open.\u001b[39m\u001b[33m\"\u001b[39m\n\u001b[32m    341\u001b[39m     )\n\u001b[32m--> \u001b[39m\u001b[32m343\u001b[39m \u001b[38;5;28;01mreturn\u001b[39;00m \u001b[43mio_open\u001b[49m\u001b[43m(\u001b[49m\u001b[43mfile\u001b[49m\u001b[43m,\u001b[49m\u001b[43m \u001b[49m\u001b[43m*\u001b[49m\u001b[43margs\u001b[49m\u001b[43m,\u001b[49m\u001b[43m \u001b[49m\u001b[43m*\u001b[49m\u001b[43m*\u001b[49m\u001b[43mkwargs\u001b[49m\u001b[43m)\u001b[49m\n",
      "\u001b[31mPermissionError\u001b[39m: [Errno 13] Permission denied: 'feature_names.txt'"
     ]
    }
   ],
   "source": [
    "with mlflow.start_run(run_name=\"IsolationForest_v2_refined\") as run:\n",
    "    mlflow.log_param(\"model_type\", \"IsolationForest\")\n",
    "    mlflow.log_param(\"feature_engineering_version\", \"v2\")\n",
    "\n",
    "    # --- Log feature details for reproducibility ---\n",
    "    mlflow.log_param(\"feature_count\", len(feature_names))\n",
    "    # Log feature names as a text artifact\n",
    "    with open(\"feature_names.txt\", \"w\") as f:\n",
    "        json.dump(feature_names, f)\n",
    "    mlflow.log_artifact(\"feature_names.txt\")\n",
    "\n",
    "    # --- Train Model ---\n",
    "    contamination = 0.05\n",
    "    mlflow.log_param(\"contamination\", contamination)\n",
    "    model = IsolationForest(contamination=contamination, random_state=42)\n",
    "    model.fit(X_transformed)\n",
    "\n",
    "    # --- Log Metrics ---\n",
    "    df['anomaly'] = model.predict(X_transformed)\n",
    "    anomaly_rate = (df['anomaly'] == -1).mean()\n",
    "    mlflow.log_metric(\"anomaly_rate\", anomaly_rate)\n",
    "    \n",
    "    # Log feature statistics as a dictionary\n",
    "    feature_stats = X_transformed.describe().to_dict()\n",
    "    mlflow.log_dict(feature_stats, \"feature_summary_stats.json\")\n",
    "\n",
    "    # --- Log Model and Artifacts ---\n",
    "    mlflow.sklearn.log_model(model, \"model\", registered_model_name=\"anomaly_detector_refined_v2\")\n",
    "\n",
    "    plt.figure(figsize=(15, 7))\n",
    "    sns.scatterplot(data=df, x='timestamp', y='value', hue='anomaly', palette={1: 'blue', -1: 'red'}, s=10)\n",
    "    plt.title('Anomaly Detection (v2 - Refined Features)')\n",
    "    plot_path = \"docs/ml/anomaly_scatter_v2.png\"\n",
    "    plt.savefig(plot_path)\n",
    "    mlflow.log_artifact(plot_path, \"plots\")\n",
    "\n",
    "    print(f\"Run {run.info.run_name} complete. Anomaly rate: {anomaly_rate:.2%}\")\n",
    "    print(f\"Model registered as 'anomaly_detector_refined_v2'. Check MLflow UI.\")"
   ]
  }
 ],
 "metadata": {
  "kernelspec": {
   "display_name": "Python 3",
   "language": "python",
   "name": "python3"
  },
  "language_info": {
   "codemirror_mode": {
    "name": "ipython",
    "version": 3
   },
   "file_extension": ".py",
   "mimetype": "text/x-python",
   "name": "python",
   "nbconvert_exporter": "python",
   "pygments_lexer": "ipython3",
   "version": "3.12.11"
  },
  "papermill": {
   "default_parameters": {},
   "duration": 7.374447,
   "end_time": "2025-08-22T12:28:49.876346",
   "environment_variables": {},
   "exception": true,
   "input_path": "notebooks/02_anomaly_isolation_forest.ipynb",
   "output_path": "notebooks/02_anomaly_isolation_forest_output.ipynb",
   "parameters": {},
   "start_time": "2025-08-22T12:28:42.501899",
   "version": "2.6.0"
  }
 },
 "nbformat": 4,
 "nbformat_minor": 5
}