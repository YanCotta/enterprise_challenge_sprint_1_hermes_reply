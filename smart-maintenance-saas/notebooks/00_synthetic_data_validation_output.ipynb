{
 "cells": [
  {
   "cell_type": "markdown",
   "id": "fccf9f16",
   "metadata": {
    "tags": [
     "papermill-error-cell-tag"
    ]
   },
   "source": [
    "<span style=\"color:red; font-family:Helvetica Neue, Helvetica, Arial, sans-serif; font-size:2em;\">An Exception was encountered at '<a href=\"#papermill-error-cell\">In [5]</a>'.</span>"
   ]
  },
  {
   "cell_type": "markdown",
   "id": "cell-1",
   "metadata": {
    "papermill": {
     "duration": 0.001248,
     "end_time": "2025-09-16T17:44:25.127822",
     "exception": false,
     "start_time": "2025-09-16T17:44:25.126574",
     "status": "completed"
    },
    "tags": []
   },
   "source": [
    "# MLflow Validation Test - Self-Contained Model Registration\n",
    "\n",
    "This notebook generates synthetic data and registers a simple model to validate our MLflow infrastructure."
   ]
  },
  {
   "cell_type": "code",
   "execution_count": 1,
   "id": "cell-2",
   "metadata": {
    "execution": {
     "iopub.execute_input": "2025-09-16T17:44:25.130162Z",
     "iopub.status.busy": "2025-09-16T17:44:25.130024Z",
     "iopub.status.idle": "2025-09-16T17:44:28.765407Z",
     "shell.execute_reply": "2025-09-16T17:44:28.765038Z"
    },
    "papermill": {
     "duration": 3.637103,
     "end_time": "2025-09-16T17:44:28.765891",
     "exception": false,
     "start_time": "2025-09-16T17:44:25.128788",
     "status": "completed"
    },
    "tags": []
   },
   "outputs": [
    {
     "name": "stdout",
     "output_type": "stream",
     "text": [
      "Libraries imported successfully\n",
      "MLflow tracking URI: file:///app/mlruns\n"
     ]
    }
   ],
   "source": [
    "import numpy as np\n",
    "import pandas as pd\n",
    "import mlflow\n",
    "import mlflow.sklearn\n",
    "from sklearn.ensemble import IsolationForest\n",
    "from sklearn.model_selection import train_test_split\n",
    "from sklearn.preprocessing import StandardScaler\n",
    "import os\n",
    "\n",
    "print(\"Libraries imported successfully\")\n",
    "print(f\"MLflow tracking URI: {mlflow.get_tracking_uri()}\")"
   ]
  },
  {
   "cell_type": "code",
   "execution_count": 2,
   "id": "cell-3",
   "metadata": {
    "execution": {
     "iopub.execute_input": "2025-09-16T17:44:28.768360Z",
     "iopub.status.busy": "2025-09-16T17:44:28.768100Z",
     "iopub.status.idle": "2025-09-16T17:44:28.771881Z",
     "shell.execute_reply": "2025-09-16T17:44:28.771644Z"
    },
    "papermill": {
     "duration": 0.00539,
     "end_time": "2025-09-16T17:44:28.772333",
     "exception": false,
     "start_time": "2025-09-16T17:44:28.766943",
     "status": "completed"
    },
    "tags": []
   },
   "outputs": [
    {
     "name": "stdout",
     "output_type": "stream",
     "text": [
      "Generated 1000 synthetic samples\n",
      "Features: ['feature_0', 'feature_1', 'feature_2', 'feature_3', 'feature_4']\n",
      "Normal samples: 900, Anomalous samples: 100\n"
     ]
    }
   ],
   "source": [
    "# Generate synthetic sensor data\n",
    "np.random.seed(42)\n",
    "\n",
    "# Create 1000 samples with 5 features\n",
    "n_samples = 1000\n",
    "n_features = 5\n",
    "\n",
    "# Normal operation data (90% of samples)\n",
    "normal_data = np.random.normal(0, 1, (int(n_samples * 0.9), n_features))\n",
    "\n",
    "# Anomalous data (10% of samples)\n",
    "anomalous_data = np.random.normal(3, 1.5, (int(n_samples * 0.1), n_features))\n",
    "\n",
    "# Combine data\n",
    "X_synthetic = np.vstack([normal_data, anomalous_data])\n",
    "y_synthetic = np.hstack([np.zeros(len(normal_data)), np.ones(len(anomalous_data))])\n",
    "\n",
    "# Create feature names\n",
    "feature_names = [f'feature_{i}' for i in range(n_features)]\n",
    "\n",
    "print(f\"Generated {len(X_synthetic)} synthetic samples\")\n",
    "print(f\"Features: {feature_names}\")\n",
    "print(f\"Normal samples: {len(normal_data)}, Anomalous samples: {len(anomalous_data)}\")"
   ]
  },
  {
   "cell_type": "code",
   "execution_count": 3,
   "id": "cell-4",
   "metadata": {
    "execution": {
     "iopub.execute_input": "2025-09-16T17:44:28.774764Z",
     "iopub.status.busy": "2025-09-16T17:44:28.774661Z",
     "iopub.status.idle": "2025-09-16T17:44:38.348371Z",
     "shell.execute_reply": "2025-09-16T17:44:38.348077Z"
    },
    "papermill": {
     "duration": 9.575569,
     "end_time": "2025-09-16T17:44:38.348969",
     "exception": false,
     "start_time": "2025-09-16T17:44:28.773400",
     "status": "completed"
    },
    "tags": []
   },
   "outputs": [
    {
     "name": "stdout",
     "output_type": "stream",
     "text": [
      "MLflow configured to: http://mlflow:5000\n"
     ]
    },
    {
     "name": "stdout",
     "output_type": "stream",
     "text": [
      "Active experiment: <Experiment: artifact_location='s3://yan-smart-maintenance-artifacts/1', creation_time=1758044004414, experiment_id='1', last_update_time=1758044004414, lifecycle_stage='active', name='Synthetic_Data_Validation', tags={}>\n"
     ]
    }
   ],
   "source": [
    "# Configure MLflow\n",
    "mlflow.set_tracking_uri(\"http://mlflow:5000\")\n",
    "mlflow.set_experiment(\"Synthetic_Data_Validation\")\n",
    "\n",
    "print(f\"MLflow configured to: {mlflow.get_tracking_uri()}\")\n",
    "print(f\"Active experiment: {mlflow.get_experiment_by_name('Synthetic_Data_Validation')}\")"
   ]
  },
  {
   "cell_type": "code",
   "execution_count": 4,
   "id": "cell-5",
   "metadata": {
    "execution": {
     "iopub.execute_input": "2025-09-16T17:44:38.351538Z",
     "iopub.status.busy": "2025-09-16T17:44:38.351414Z",
     "iopub.status.idle": "2025-09-16T17:44:38.355089Z",
     "shell.execute_reply": "2025-09-16T17:44:38.354860Z"
    },
    "papermill": {
     "duration": 0.005349,
     "end_time": "2025-09-16T17:44:38.355456",
     "exception": false,
     "start_time": "2025-09-16T17:44:38.350107",
     "status": "completed"
    },
    "tags": []
   },
   "outputs": [
    {
     "name": "stdout",
     "output_type": "stream",
     "text": [
      "Training set: (700, 5)\n",
      "Test set: (300, 5)\n"
     ]
    }
   ],
   "source": [
    "# Split data for training and testing\n",
    "X_train, X_test, y_train, y_test = train_test_split(\n",
    "    X_synthetic, y_synthetic, test_size=0.3, random_state=42, stratify=y_synthetic\n",
    ")\n",
    "\n",
    "# Scale the features\n",
    "scaler = StandardScaler()\n",
    "X_train_scaled = scaler.fit_transform(X_train)\n",
    "X_test_scaled = scaler.transform(X_test)\n",
    "\n",
    "print(f\"Training set: {X_train_scaled.shape}\")\n",
    "print(f\"Test set: {X_test_scaled.shape}\")"
   ]
  },
  {
   "cell_type": "markdown",
   "id": "23ac2f44",
   "metadata": {
    "tags": [
     "papermill-error-cell-tag"
    ]
   },
   "source": [
    "<span id=\"papermill-error-cell\" style=\"color:red; font-family:Helvetica Neue, Helvetica, Arial, sans-serif; font-size:2em;\">Execution using papermill encountered an exception here and stopped:</span>"
   ]
  },
  {
   "cell_type": "code",
   "execution_count": 5,
   "id": "cell-6",
   "metadata": {
    "execution": {
     "iopub.execute_input": "2025-09-16T17:44:38.357801Z",
     "iopub.status.busy": "2025-09-16T17:44:38.357692Z",
     "iopub.status.idle": "2025-09-16T17:44:52.996382Z",
     "shell.execute_reply": "2025-09-16T17:44:52.995932Z"
    },
    "papermill": {
     "duration": 14.64043,
     "end_time": "2025-09-16T17:44:52.996945",
     "exception": true,
     "start_time": "2025-09-16T17:44:38.356515",
     "status": "failed"
    },
    "tags": []
   },
   "outputs": [
    {
     "name": "stderr",
     "output_type": "stream",
     "text": [
      "2025/09/16 17:44:38 WARNING mlflow.tracking.context.registry: Encountered unexpected error during resolving tags: 'getpwuid(): uid not found: 1000'\n"
     ]
    },
    {
     "name": "stdout",
     "output_type": "stream",
     "text": [
      "🏃 View run Synthetic_Validation_IsolationForest at: http://mlflow:5000/#/experiments/1/runs/eba5919153c645d09324c7d77188bc0c\n",
      "🧪 View experiment at: http://mlflow:5000/#/experiments/1\n"
     ]
    },
    {
     "ename": "ModuleNotFoundError",
     "evalue": "No module named 'boto3'",
     "output_type": "error",
     "traceback": [
      "\u001b[31m---------------------------------------------------------------------------\u001b[39m",
      "\u001b[31mModuleNotFoundError\u001b[39m                       Traceback (most recent call last)",
      "\u001b[36mCell\u001b[39m\u001b[36m \u001b[39m\u001b[32mIn[5]\u001b[39m\u001b[32m, line 34\u001b[39m\n\u001b[32m     32\u001b[39m \u001b[38;5;28;01mwith\u001b[39;00m \u001b[38;5;28mopen\u001b[39m(\u001b[33m\"\u001b[39m\u001b[33m/tmp/feature_names_synthetic.txt\u001b[39m\u001b[33m\"\u001b[39m, \u001b[33m\"\u001b[39m\u001b[33mw\u001b[39m\u001b[33m\"\u001b[39m) \u001b[38;5;28;01mas\u001b[39;00m f:\n\u001b[32m     33\u001b[39m     f.write(\u001b[33m\"\u001b[39m\u001b[38;5;130;01m\\n\u001b[39;00m\u001b[33m\"\u001b[39m.join(feature_names))\n\u001b[32m---> \u001b[39m\u001b[32m34\u001b[39m \u001b[43mmlflow\u001b[49m\u001b[43m.\u001b[49m\u001b[43mlog_artifact\u001b[49m\u001b[43m(\u001b[49m\u001b[33;43m\"\u001b[39;49m\u001b[33;43m/tmp/feature_names_synthetic.txt\u001b[39;49m\u001b[33;43m\"\u001b[39;49m\u001b[43m)\u001b[49m\n\u001b[32m     36\u001b[39m \u001b[38;5;66;03m# Register the model\u001b[39;00m\n\u001b[32m     37\u001b[39m model_name = \u001b[33m\"\u001b[39m\u001b[33msynthetic_validation_isolation_forest\u001b[39m\u001b[33m\"\u001b[39m\n",
      "\u001b[36mFile \u001b[39m\u001b[32m~usr/local/lib/python3.11/site-packages/mlflow/tracking/fluent.py:1179\u001b[39m, in \u001b[36mlog_artifact\u001b[39m\u001b[34m(local_path, artifact_path, run_id)\u001b[39m\n\u001b[32m   1149\u001b[39m \u001b[38;5;250m\u001b[39m\u001b[33;03m\"\"\"\u001b[39;00m\n\u001b[32m   1150\u001b[39m \u001b[33;03mLog a local file or directory as an artifact of the currently active run. If no run is\u001b[39;00m\n\u001b[32m   1151\u001b[39m \u001b[33;03mactive, this method will create a new active run.\u001b[39;00m\n\u001b[32m   (...)\u001b[39m\u001b[32m   1176\u001b[39m \u001b[33;03m            mlflow.log_artifact(path)\u001b[39;00m\n\u001b[32m   1177\u001b[39m \u001b[33;03m\"\"\"\u001b[39;00m\n\u001b[32m   1178\u001b[39m run_id = run_id \u001b[38;5;129;01mor\u001b[39;00m _get_or_start_run().info.run_id\n\u001b[32m-> \u001b[39m\u001b[32m1179\u001b[39m \u001b[43mMlflowClient\u001b[49m\u001b[43m(\u001b[49m\u001b[43m)\u001b[49m\u001b[43m.\u001b[49m\u001b[43mlog_artifact\u001b[49m\u001b[43m(\u001b[49m\u001b[43mrun_id\u001b[49m\u001b[43m,\u001b[49m\u001b[43m \u001b[49m\u001b[43mlocal_path\u001b[49m\u001b[43m,\u001b[49m\u001b[43m \u001b[49m\u001b[43martifact_path\u001b[49m\u001b[43m)\u001b[49m\n",
      "\u001b[36mFile \u001b[39m\u001b[32m~usr/local/lib/python3.11/site-packages/mlflow/tracking/client.py:2379\u001b[39m, in \u001b[36mMlflowClient.log_artifact\u001b[39m\u001b[34m(self, run_id, local_path, artifact_path)\u001b[39m\n\u001b[32m   2375\u001b[39m \u001b[38;5;28;01mif\u001b[39;00m run_id.startswith(TRACE_REQUEST_ID_PREFIX):\n\u001b[32m   2376\u001b[39m     \u001b[38;5;28;01mraise\u001b[39;00m MlflowException(\n\u001b[32m   2377\u001b[39m         \u001b[33mf\u001b[39m\u001b[33m\"\u001b[39m\u001b[33mInvalid run id: \u001b[39m\u001b[38;5;132;01m{\u001b[39;00mrun_id\u001b[38;5;132;01m}\u001b[39;00m\u001b[33m. `log_artifact` run id must map to a valid run.\u001b[39m\u001b[33m\"\u001b[39m\n\u001b[32m   2378\u001b[39m     )\n\u001b[32m-> \u001b[39m\u001b[32m2379\u001b[39m \u001b[38;5;28;43mself\u001b[39;49m\u001b[43m.\u001b[49m\u001b[43m_tracking_client\u001b[49m\u001b[43m.\u001b[49m\u001b[43mlog_artifact\u001b[49m\u001b[43m(\u001b[49m\u001b[43mrun_id\u001b[49m\u001b[43m,\u001b[49m\u001b[43m \u001b[49m\u001b[43mlocal_path\u001b[49m\u001b[43m,\u001b[49m\u001b[43m \u001b[49m\u001b[43martifact_path\u001b[49m\u001b[43m)\u001b[49m\n",
      "\u001b[36mFile \u001b[39m\u001b[32m~usr/local/lib/python3.11/site-packages/mlflow/tracking/_tracking_service/client.py:935\u001b[39m, in \u001b[36mTrackingServiceClient.log_artifact\u001b[39m\u001b[34m(self, run_id, local_path, artifact_path)\u001b[39m\n\u001b[32m    933\u001b[39m     artifact_repo.log_artifacts(local_path, path_name)\n\u001b[32m    934\u001b[39m \u001b[38;5;28;01melse\u001b[39;00m:\n\u001b[32m--> \u001b[39m\u001b[32m935\u001b[39m     \u001b[43martifact_repo\u001b[49m\u001b[43m.\u001b[49m\u001b[43mlog_artifact\u001b[49m\u001b[43m(\u001b[49m\u001b[43mlocal_path\u001b[49m\u001b[43m,\u001b[49m\u001b[43m \u001b[49m\u001b[43martifact_path\u001b[49m\u001b[43m)\u001b[49m\n",
      "\u001b[36mFile \u001b[39m\u001b[32m~usr/local/lib/python3.11/site-packages/mlflow/store/artifact/s3_artifact_repo.py:177\u001b[39m, in \u001b[36mS3ArtifactRepository.log_artifact\u001b[39m\u001b[34m(self, local_file, artifact_path)\u001b[39m\n\u001b[32m    174\u001b[39m     dest_path = posixpath.join(dest_path, artifact_path)\n\u001b[32m    175\u001b[39m dest_path = posixpath.join(dest_path, os.path.basename(local_file))\n\u001b[32m    176\u001b[39m \u001b[38;5;28mself\u001b[39m._upload_file(\n\u001b[32m--> \u001b[39m\u001b[32m177\u001b[39m     s3_client=\u001b[38;5;28;43mself\u001b[39;49m\u001b[43m.\u001b[49m\u001b[43m_get_s3_client\u001b[49m\u001b[43m(\u001b[49m\u001b[43m)\u001b[49m, local_file=local_file, bucket=bucket, key=dest_path\n\u001b[32m    178\u001b[39m )\n",
      "\u001b[36mFile \u001b[39m\u001b[32m~usr/local/lib/python3.11/site-packages/mlflow/store/artifact/s3_artifact_repo.py:135\u001b[39m, in \u001b[36mS3ArtifactRepository._get_s3_client\u001b[39m\u001b[34m(self)\u001b[39m\n\u001b[32m    134\u001b[39m \u001b[38;5;28;01mdef\u001b[39;00m\u001b[38;5;250m \u001b[39m\u001b[34m_get_s3_client\u001b[39m(\u001b[38;5;28mself\u001b[39m):\n\u001b[32m--> \u001b[39m\u001b[32m135\u001b[39m     \u001b[38;5;28;01mreturn\u001b[39;00m \u001b[43m_get_s3_client\u001b[49m\u001b[43m(\u001b[49m\n\u001b[32m    136\u001b[39m \u001b[43m        \u001b[49m\u001b[43maccess_key_id\u001b[49m\u001b[43m=\u001b[49m\u001b[38;5;28;43mself\u001b[39;49m\u001b[43m.\u001b[49m\u001b[43m_access_key_id\u001b[49m\u001b[43m,\u001b[49m\n\u001b[32m    137\u001b[39m \u001b[43m        \u001b[49m\u001b[43msecret_access_key\u001b[49m\u001b[43m=\u001b[49m\u001b[38;5;28;43mself\u001b[39;49m\u001b[43m.\u001b[49m\u001b[43m_secret_access_key\u001b[49m\u001b[43m,\u001b[49m\n\u001b[32m    138\u001b[39m \u001b[43m        \u001b[49m\u001b[43msession_token\u001b[49m\u001b[43m=\u001b[49m\u001b[38;5;28;43mself\u001b[39;49m\u001b[43m.\u001b[49m\u001b[43m_session_token\u001b[49m\u001b[43m,\u001b[49m\n\u001b[32m    139\u001b[39m \u001b[43m    \u001b[49m\u001b[43m)\u001b[49m\n",
      "\u001b[36mFile \u001b[39m\u001b[32m~usr/local/lib/python3.11/site-packages/mlflow/store/artifact/s3_artifact_repo.py:110\u001b[39m, in \u001b[36m_get_s3_client\u001b[39m\u001b[34m(addressing_style, access_key_id, secret_access_key, session_token, region_name, s3_endpoint_url)\u001b[39m\n\u001b[32m    107\u001b[39m \u001b[38;5;28;01mif\u001b[39;00m \u001b[38;5;129;01mnot\u001b[39;00m addressing_style:\n\u001b[32m    108\u001b[39m     addressing_style = MLFLOW_BOTO_CLIENT_ADDRESSING_STYLE.get()\n\u001b[32m--> \u001b[39m\u001b[32m110\u001b[39m \u001b[38;5;28;01mreturn\u001b[39;00m \u001b[43m_cached_get_s3_client\u001b[49m\u001b[43m(\u001b[49m\n\u001b[32m    111\u001b[39m \u001b[43m    \u001b[49m\u001b[43msignature_version\u001b[49m\u001b[43m,\u001b[49m\n\u001b[32m    112\u001b[39m \u001b[43m    \u001b[49m\u001b[43maddressing_style\u001b[49m\u001b[43m,\u001b[49m\n\u001b[32m    113\u001b[39m \u001b[43m    \u001b[49m\u001b[43ms3_endpoint_url\u001b[49m\u001b[43m,\u001b[49m\n\u001b[32m    114\u001b[39m \u001b[43m    \u001b[49m\u001b[43mverify\u001b[49m\u001b[43m,\u001b[49m\n\u001b[32m    115\u001b[39m \u001b[43m    \u001b[49m\u001b[43mtimestamp\u001b[49m\u001b[43m,\u001b[49m\n\u001b[32m    116\u001b[39m \u001b[43m    \u001b[49m\u001b[43maccess_key_id\u001b[49m\u001b[43m=\u001b[49m\u001b[43maccess_key_id\u001b[49m\u001b[43m,\u001b[49m\n\u001b[32m    117\u001b[39m \u001b[43m    \u001b[49m\u001b[43msecret_access_key\u001b[49m\u001b[43m=\u001b[49m\u001b[43msecret_access_key\u001b[49m\u001b[43m,\u001b[49m\n\u001b[32m    118\u001b[39m \u001b[43m    \u001b[49m\u001b[43msession_token\u001b[49m\u001b[43m=\u001b[49m\u001b[43msession_token\u001b[49m\u001b[43m,\u001b[49m\n\u001b[32m    119\u001b[39m \u001b[43m    \u001b[49m\u001b[43mregion_name\u001b[49m\u001b[43m=\u001b[49m\u001b[43mregion_name\u001b[49m\u001b[43m,\u001b[49m\n\u001b[32m    120\u001b[39m \u001b[43m\u001b[49m\u001b[43m)\u001b[49m\n",
      "\u001b[36mFile \u001b[39m\u001b[32m~usr/local/lib/python3.11/site-packages/mlflow/store/artifact/s3_artifact_repo.py:59\u001b[39m, in \u001b[36m_cached_get_s3_client\u001b[39m\u001b[34m(signature_version, addressing_style, s3_endpoint_url, verify, timestamp, access_key_id, secret_access_key, session_token, region_name)\u001b[39m\n\u001b[32m     34\u001b[39m \u001b[38;5;129m@lru_cache\u001b[39m(maxsize=\u001b[32m64\u001b[39m)\n\u001b[32m     35\u001b[39m \u001b[38;5;28;01mdef\u001b[39;00m\u001b[38;5;250m \u001b[39m\u001b[34m_cached_get_s3_client\u001b[39m(\n\u001b[32m     36\u001b[39m     signature_version,\n\u001b[32m   (...)\u001b[39m\u001b[32m     44\u001b[39m     region_name=\u001b[38;5;28;01mNone\u001b[39;00m,\n\u001b[32m     45\u001b[39m ):\n\u001b[32m     46\u001b[39m \u001b[38;5;250m    \u001b[39m\u001b[33;03m\"\"\"Returns a boto3 client, caching to avoid extra boto3 verify calls.\u001b[39;00m\n\u001b[32m     47\u001b[39m \n\u001b[32m     48\u001b[39m \u001b[33;03m    This method is outside of the S3ArtifactRepository as it is\u001b[39;00m\n\u001b[32m   (...)\u001b[39m\u001b[32m     57\u001b[39m \u001b[33;03m    we utilise the `timestamp` parameter to invalidate cache.\u001b[39;00m\n\u001b[32m     58\u001b[39m \u001b[33;03m    \"\"\"\u001b[39;00m\n\u001b[32m---> \u001b[39m\u001b[32m59\u001b[39m     \u001b[38;5;28;01mimport\u001b[39;00m\u001b[38;5;250m \u001b[39m\u001b[34;01mboto3\u001b[39;00m\n\u001b[32m     60\u001b[39m     \u001b[38;5;28;01mfrom\u001b[39;00m\u001b[38;5;250m \u001b[39m\u001b[34;01mbotocore\u001b[39;00m\u001b[34;01m.\u001b[39;00m\u001b[34;01mclient\u001b[39;00m\u001b[38;5;250m \u001b[39m\u001b[38;5;28;01mimport\u001b[39;00m Config\n\u001b[32m     62\u001b[39m     \u001b[38;5;66;03m# Making it possible to access public S3 buckets\u001b[39;00m\n\u001b[32m     63\u001b[39m     \u001b[38;5;66;03m# Workaround for https://github.com/boto/botocore/issues/2442\u001b[39;00m\n",
      "\u001b[31mModuleNotFoundError\u001b[39m: No module named 'boto3'"
     ]
    }
   ],
   "source": [
    "# Train and register model with MLflow\n",
    "with mlflow.start_run(run_name=\"Synthetic_Validation_IsolationForest\") as run:\n",
    "    # Log parameters\n",
    "    contamination = 0.1\n",
    "    mlflow.log_param(\"model_type\", \"IsolationForest\")\n",
    "    mlflow.log_param(\"contamination\", contamination)\n",
    "    mlflow.log_param(\"n_samples\", n_samples)\n",
    "    mlflow.log_param(\"n_features\", n_features)\n",
    "    mlflow.log_param(\"data_type\", \"synthetic\")\n",
    "    \n",
    "    # Train model\n",
    "    model = IsolationForest(contamination=contamination, random_state=42)\n",
    "    model.fit(X_train_scaled)\n",
    "    \n",
    "    # Make predictions\n",
    "    y_pred = model.predict(X_test_scaled)\n",
    "    y_pred_binary = (y_pred == -1).astype(int)  # Convert to binary (1 for anomaly)\n",
    "    \n",
    "    # Calculate basic metrics\n",
    "    from sklearn.metrics import accuracy_score, precision_score, recall_score\n",
    "    \n",
    "    accuracy = accuracy_score(y_test, y_pred_binary)\n",
    "    precision = precision_score(y_test, y_pred_binary, zero_division=0)\n",
    "    recall = recall_score(y_test, y_pred_binary, zero_division=0)\n",
    "    \n",
    "    # Log metrics\n",
    "    mlflow.log_metric(\"accuracy\", accuracy)\n",
    "    mlflow.log_metric(\"precision\", precision)\n",
    "    mlflow.log_metric(\"recall\", recall)\n",
    "    \n",
    "    # Log feature names as artifact\n",
    "    with open(\"/tmp/feature_names_synthetic.txt\", \"w\") as f:\n",
    "        f.write(\"\\n\".join(feature_names))\n",
    "    mlflow.log_artifact(\"/tmp/feature_names_synthetic.txt\")\n",
    "    \n",
    "    # Register the model\n",
    "    model_name = \"synthetic_validation_isolation_forest\"\n",
    "    mlflow.sklearn.log_model(\n",
    "        model, \n",
    "        \"model\",\n",
    "        registered_model_name=model_name\n",
    "    )\n",
    "    \n",
    "    print(f\"Model registered as: {model_name}\")\n",
    "    print(f\"Run ID: {run.info.run_id}\")\n",
    "    print(f\"Accuracy: {accuracy:.4f}\")\n",
    "    print(f\"Precision: {precision:.4f}\")\n",
    "    print(f\"Recall: {recall:.4f}\")"
   ]
  },
  {
   "cell_type": "code",
   "execution_count": null,
   "id": "cell-7",
   "metadata": {
    "papermill": {
     "duration": null,
     "end_time": null,
     "exception": null,
     "start_time": null,
     "status": "pending"
    },
    "tags": []
   },
   "outputs": [],
   "source": [
    "# Test model loading from MLflow\n",
    "print(\"\\n=== Testing Model Loading ===\")\n",
    "try:\n",
    "    # Load the model back from MLflow\n",
    "    loaded_model = mlflow.sklearn.load_model(f\"models:/{model_name}/latest\")\n",
    "    \n",
    "    # Test prediction with the loaded model\n",
    "    test_sample = X_test_scaled[:5]  # Test with first 5 samples\n",
    "    predictions = loaded_model.predict(test_sample)\n",
    "    \n",
    "    print(f\"Successfully loaded model: {model_name}\")\n",
    "    print(f\"Test predictions: {predictions}\")\n",
    "    print(\"✅ MLflow model loading validation PASSED\")\n",
    "    \n",
    "except Exception as e:\n",
    "    print(f\"❌ MLflow model loading validation FAILED: {e}\")\n",
    "    raise"
   ]
  },
  {
   "cell_type": "code",
   "execution_count": null,
   "id": "cell-8",
   "metadata": {
    "papermill": {
     "duration": null,
     "end_time": null,
     "exception": null,
     "start_time": null,
     "status": "pending"
    },
    "tags": []
   },
   "outputs": [],
   "source": [
    "print(\"\\n=== Synthetic Data Validation Summary ===\")\n",
    "print(\"✅ Synthetic data generation: SUCCESS\")\n",
    "print(\"✅ Model training: SUCCESS\")\n",
    "print(\"✅ MLflow logging: SUCCESS\")\n",
    "print(\"✅ Model registration: SUCCESS\")\n",
    "print(\"✅ Model loading validation: SUCCESS\")\n",
    "print(\"\\n🎉 All validation tests passed! MLflow infrastructure is working correctly.\")"
   ]
  }
 ],
 "metadata": {
  "kernelspec": {
   "display_name": "Python 3",
   "language": "python",
   "name": "python3"
  },
  "language_info": {
   "codemirror_mode": {
    "name": "ipython",
    "version": 3
   },
   "file_extension": ".py",
   "mimetype": "text/x-python",
   "name": "python",
   "nbconvert_exporter": "python",
   "pygments_lexer": "ipython3",
   "version": "3.11.13"
  },
  "papermill": {
   "default_parameters": {},
   "duration": 29.210229,
   "end_time": "2025-09-16T17:44:53.612624",
   "environment_variables": {},
   "exception": true,
   "input_path": "notebooks/00_synthetic_data_validation.ipynb",
   "output_path": "notebooks/00_synthetic_data_validation_output.ipynb",
   "parameters": {},
   "start_time": "2025-09-16T17:44:24.402395",
   "version": "2.6.0"
  }
 },
 "nbformat": 4,
 "nbformat_minor": 5
}