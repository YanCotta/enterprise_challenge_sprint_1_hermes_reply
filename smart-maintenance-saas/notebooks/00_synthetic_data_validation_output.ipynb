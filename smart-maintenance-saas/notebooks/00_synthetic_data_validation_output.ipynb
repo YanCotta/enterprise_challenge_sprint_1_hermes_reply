{
 "cells": [
  {
   "cell_type": "markdown",
   "id": "cell-1",
   "metadata": {
    "papermill": {
     "duration": 0.001271,
     "end_time": "2025-08-22T12:47:06.941740",
     "exception": false,
     "start_time": "2025-08-22T12:47:06.940469",
     "status": "completed"
    },
    "tags": []
   },
   "source": [
    "# MLflow Validation Test - Self-Contained Model Registration\n",
    "\n",
    "This notebook generates synthetic data and registers a simple model to validate our MLflow infrastructure."
   ]
  },
  {
   "cell_type": "code",
   "execution_count": 1,
   "id": "cell-2",
   "metadata": {
    "execution": {
     "iopub.execute_input": "2025-08-22T12:47:06.944188Z",
     "iopub.status.busy": "2025-08-22T12:47:06.944025Z",
     "iopub.status.idle": "2025-08-22T12:47:10.543141Z",
     "shell.execute_reply": "2025-08-22T12:47:10.542841Z"
    },
    "papermill": {
     "duration": 3.600925,
     "end_time": "2025-08-22T12:47:10.543659",
     "exception": false,
     "start_time": "2025-08-22T12:47:06.942734",
     "status": "completed"
    },
    "tags": []
   },
   "outputs": [
    {
     "name": "stdout",
     "output_type": "stream",
     "text": [
      "Libraries imported successfully\n",
      "MLflow tracking URI: file:///app/mlruns\n"
     ]
    }
   ],
   "source": [
    "import numpy as np\n",
    "import pandas as pd\n",
    "import mlflow\n",
    "import mlflow.sklearn\n",
    "from sklearn.ensemble import IsolationForest\n",
    "from sklearn.model_selection import train_test_split\n",
    "from sklearn.preprocessing import StandardScaler\n",
    "import os\n",
    "\n",
    "print(\"Libraries imported successfully\")\n",
    "print(f\"MLflow tracking URI: {mlflow.get_tracking_uri()}\")"
   ]
  },
  {
   "cell_type": "code",
   "execution_count": 2,
   "id": "cell-3",
   "metadata": {
    "execution": {
     "iopub.execute_input": "2025-08-22T12:47:10.546850Z",
     "iopub.status.busy": "2025-08-22T12:47:10.546612Z",
     "iopub.status.idle": "2025-08-22T12:47:10.549853Z",
     "shell.execute_reply": "2025-08-22T12:47:10.549607Z"
    },
    "papermill": {
     "duration": 0.004795,
     "end_time": "2025-08-22T12:47:10.550238",
     "exception": false,
     "start_time": "2025-08-22T12:47:10.545443",
     "status": "completed"
    },
    "tags": []
   },
   "outputs": [
    {
     "name": "stdout",
     "output_type": "stream",
     "text": [
      "Generated 1000 synthetic samples\n",
      "Features: ['feature_0', 'feature_1', 'feature_2', 'feature_3', 'feature_4']\n",
      "Normal samples: 900, Anomalous samples: 100\n"
     ]
    }
   ],
   "source": [
    "# Generate synthetic sensor data\n",
    "np.random.seed(42)\n",
    "\n",
    "# Create 1000 samples with 5 features\n",
    "n_samples = 1000\n",
    "n_features = 5\n",
    "\n",
    "# Normal operation data (90% of samples)\n",
    "normal_data = np.random.normal(0, 1, (int(n_samples * 0.9), n_features))\n",
    "\n",
    "# Anomalous data (10% of samples)\n",
    "anomalous_data = np.random.normal(3, 1.5, (int(n_samples * 0.1), n_features))\n",
    "\n",
    "# Combine data\n",
    "X_synthetic = np.vstack([normal_data, anomalous_data])\n",
    "y_synthetic = np.hstack([np.zeros(len(normal_data)), np.ones(len(anomalous_data))])\n",
    "\n",
    "# Create feature names\n",
    "feature_names = [f'feature_{i}' for i in range(n_features)]\n",
    "\n",
    "print(f\"Generated {len(X_synthetic)} synthetic samples\")\n",
    "print(f\"Features: {feature_names}\")\n",
    "print(f\"Normal samples: {len(normal_data)}, Anomalous samples: {len(anomalous_data)}\")"
   ]
  },
  {
   "cell_type": "code",
   "execution_count": 3,
   "id": "cell-4",
   "metadata": {
    "execution": {
     "iopub.execute_input": "2025-08-22T12:47:10.552431Z",
     "iopub.status.busy": "2025-08-22T12:47:10.552320Z",
     "iopub.status.idle": "2025-08-22T12:47:10.617228Z",
     "shell.execute_reply": "2025-08-22T12:47:10.616924Z"
    },
    "papermill": {
     "duration": 0.066619,
     "end_time": "2025-08-22T12:47:10.617752",
     "exception": false,
     "start_time": "2025-08-22T12:47:10.551133",
     "status": "completed"
    },
    "tags": []
   },
   "outputs": [
    {
     "name": "stdout",
     "output_type": "stream",
     "text": [
      "MLflow configured to: http://mlflow:5000\n",
      "Active experiment: <Experiment: artifact_location='/mlruns/4', creation_time=1755866523352, experiment_id='4', last_update_time=1755866523352, lifecycle_stage='active', name='Synthetic_Data_Validation', tags={}>\n"
     ]
    }
   ],
   "source": [
    "# Configure MLflow\n",
    "mlflow.set_tracking_uri(\"http://mlflow:5000\")\n",
    "mlflow.set_experiment(\"Synthetic_Data_Validation\")\n",
    "\n",
    "print(f\"MLflow configured to: {mlflow.get_tracking_uri()}\")\n",
    "print(f\"Active experiment: {mlflow.get_experiment_by_name('Synthetic_Data_Validation')}\")"
   ]
  },
  {
   "cell_type": "code",
   "execution_count": 4,
   "id": "cell-5",
   "metadata": {
    "execution": {
     "iopub.execute_input": "2025-08-22T12:47:10.620433Z",
     "iopub.status.busy": "2025-08-22T12:47:10.620297Z",
     "iopub.status.idle": "2025-08-22T12:47:10.624421Z",
     "shell.execute_reply": "2025-08-22T12:47:10.624052Z"
    },
    "papermill": {
     "duration": 0.005929,
     "end_time": "2025-08-22T12:47:10.624900",
     "exception": false,
     "start_time": "2025-08-22T12:47:10.618971",
     "status": "completed"
    },
    "tags": []
   },
   "outputs": [
    {
     "name": "stdout",
     "output_type": "stream",
     "text": [
      "Training set: (700, 5)\n",
      "Test set: (300, 5)\n"
     ]
    }
   ],
   "source": [
    "# Split data for training and testing\n",
    "X_train, X_test, y_train, y_test = train_test_split(\n",
    "    X_synthetic, y_synthetic, test_size=0.3, random_state=42, stratify=y_synthetic\n",
    ")\n",
    "\n",
    "# Scale the features\n",
    "scaler = StandardScaler()\n",
    "X_train_scaled = scaler.fit_transform(X_train)\n",
    "X_test_scaled = scaler.transform(X_test)\n",
    "\n",
    "print(f\"Training set: {X_train_scaled.shape}\")\n",
    "print(f\"Test set: {X_test_scaled.shape}\")"
   ]
  },
  {
   "cell_type": "code",
   "execution_count": 5,
   "id": "cell-6",
   "metadata": {
    "execution": {
     "iopub.execute_input": "2025-08-22T12:47:10.627459Z",
     "iopub.status.busy": "2025-08-22T12:47:10.627331Z",
     "iopub.status.idle": "2025-08-22T12:47:16.094119Z",
     "shell.execute_reply": "2025-08-22T12:47:16.093734Z"
    },
    "papermill": {
     "duration": 5.468707,
     "end_time": "2025-08-22T12:47:16.094720",
     "exception": false,
     "start_time": "2025-08-22T12:47:10.626013",
     "status": "completed"
    },
    "tags": []
   },
   "outputs": [
    {
     "name": "stderr",
     "output_type": "stream",
     "text": [
      "2025/08/22 12:47:10 WARNING mlflow.tracking.context.registry: Encountered unexpected error during resolving tags: 'getpwuid(): uid not found: 1000'\n"
     ]
    },
    {
     "name": "stderr",
     "output_type": "stream",
     "text": [
      "\u001b[31m2025/08/22 12:47:15 WARNING mlflow.models.model: Model logged without a signature and input example. Please set `input_example` parameter when logging the model to auto infer the model signature.\u001b[0m\n"
     ]
    },
    {
     "name": "stderr",
     "output_type": "stream",
     "text": [
      "Registered model 'synthetic_validation_isolation_forest' already exists. Creating a new version of this model...\n",
      "2025/08/22 12:47:16 INFO mlflow.store.model_registry.abstract_store: Waiting up to 300 seconds for model version to finish creation. Model name: synthetic_validation_isolation_forest, version 2\n"
     ]
    },
    {
     "name": "stdout",
     "output_type": "stream",
     "text": [
      "Model registered as: synthetic_validation_isolation_forest\n",
      "Run ID: 226b133c20c14f93b633fa03482fcaa7\n",
      "Accuracy: 0.9933\n",
      "Precision: 0.9667\n",
      "Recall: 0.9667\n",
      "🏃 View run Synthetic_Validation_IsolationForest at: http://mlflow:5000/#/experiments/4/runs/226b133c20c14f93b633fa03482fcaa7\n",
      "🧪 View experiment at: http://mlflow:5000/#/experiments/4\n"
     ]
    },
    {
     "name": "stderr",
     "output_type": "stream",
     "text": [
      "Created version '2' of model 'synthetic_validation_isolation_forest'.\n"
     ]
    }
   ],
   "source": [
    "# Train and register model with MLflow\n",
    "with mlflow.start_run(run_name=\"Synthetic_Validation_IsolationForest\") as run:\n",
    "    # Log parameters\n",
    "    contamination = 0.1\n",
    "    mlflow.log_param(\"model_type\", \"IsolationForest\")\n",
    "    mlflow.log_param(\"contamination\", contamination)\n",
    "    mlflow.log_param(\"n_samples\", n_samples)\n",
    "    mlflow.log_param(\"n_features\", n_features)\n",
    "    mlflow.log_param(\"data_type\", \"synthetic\")\n",
    "    \n",
    "    # Train model\n",
    "    model = IsolationForest(contamination=contamination, random_state=42)\n",
    "    model.fit(X_train_scaled)\n",
    "    \n",
    "    # Make predictions\n",
    "    y_pred = model.predict(X_test_scaled)\n",
    "    y_pred_binary = (y_pred == -1).astype(int)  # Convert to binary (1 for anomaly)\n",
    "    \n",
    "    # Calculate basic metrics\n",
    "    from sklearn.metrics import accuracy_score, precision_score, recall_score\n",
    "    \n",
    "    accuracy = accuracy_score(y_test, y_pred_binary)\n",
    "    precision = precision_score(y_test, y_pred_binary, zero_division=0)\n",
    "    recall = recall_score(y_test, y_pred_binary, zero_division=0)\n",
    "    \n",
    "    # Log metrics\n",
    "    mlflow.log_metric(\"accuracy\", accuracy)\n",
    "    mlflow.log_metric(\"precision\", precision)\n",
    "    mlflow.log_metric(\"recall\", recall)\n",
    "    \n",
    "    # Log feature names as artifact\n",
    "    with open(\"/tmp/feature_names_synthetic.txt\", \"w\") as f:\n",
    "        f.write(\"\\n\".join(feature_names))\n",
    "    mlflow.log_artifact(\"/tmp/feature_names_synthetic.txt\")\n",
    "    \n",
    "    # Register the model\n",
    "    model_name = \"synthetic_validation_isolation_forest\"\n",
    "    mlflow.sklearn.log_model(\n",
    "        model, \n",
    "        \"model\",\n",
    "        registered_model_name=model_name\n",
    "    )\n",
    "    \n",
    "    print(f\"Model registered as: {model_name}\")\n",
    "    print(f\"Run ID: {run.info.run_id}\")\n",
    "    print(f\"Accuracy: {accuracy:.4f}\")\n",
    "    print(f\"Precision: {precision:.4f}\")\n",
    "    print(f\"Recall: {recall:.4f}\")"
   ]
  },
  {
   "cell_type": "code",
   "execution_count": 6,
   "id": "cell-7",
   "metadata": {
    "execution": {
     "iopub.execute_input": "2025-08-22T12:47:16.098002Z",
     "iopub.status.busy": "2025-08-22T12:47:16.097867Z",
     "iopub.status.idle": "2025-08-22T12:47:16.243245Z",
     "shell.execute_reply": "2025-08-22T12:47:16.243011Z"
    },
    "papermill": {
     "duration": 0.147476,
     "end_time": "2025-08-22T12:47:16.243799",
     "exception": false,
     "start_time": "2025-08-22T12:47:16.096323",
     "status": "completed"
    },
    "tags": []
   },
   "outputs": [
    {
     "name": "stdout",
     "output_type": "stream",
     "text": [
      "\n",
      "=== Testing Model Loading ===\n"
     ]
    },
    {
     "name": "stdout",
     "output_type": "stream",
     "text": [
      "Successfully loaded model: synthetic_validation_isolation_forest\n",
      "Test predictions: [1 1 1 1 1]\n",
      "✅ MLflow model loading validation PASSED\n"
     ]
    }
   ],
   "source": [
    "# Test model loading from MLflow\n",
    "print(\"\\n=== Testing Model Loading ===\")\n",
    "try:\n",
    "    # Load the model back from MLflow\n",
    "    loaded_model = mlflow.sklearn.load_model(f\"models:/{model_name}/latest\")\n",
    "    \n",
    "    # Test prediction with the loaded model\n",
    "    test_sample = X_test_scaled[:5]  # Test with first 5 samples\n",
    "    predictions = loaded_model.predict(test_sample)\n",
    "    \n",
    "    print(f\"Successfully loaded model: {model_name}\")\n",
    "    print(f\"Test predictions: {predictions}\")\n",
    "    print(\"✅ MLflow model loading validation PASSED\")\n",
    "    \n",
    "except Exception as e:\n",
    "    print(f\"❌ MLflow model loading validation FAILED: {e}\")\n",
    "    raise"
   ]
  },
  {
   "cell_type": "code",
   "execution_count": 7,
   "id": "cell-8",
   "metadata": {
    "execution": {
     "iopub.execute_input": "2025-08-22T12:47:16.246897Z",
     "iopub.status.busy": "2025-08-22T12:47:16.246774Z",
     "iopub.status.idle": "2025-08-22T12:47:16.248823Z",
     "shell.execute_reply": "2025-08-22T12:47:16.248622Z"
    },
    "papermill": {
     "duration": 0.003987,
     "end_time": "2025-08-22T12:47:16.249252",
     "exception": false,
     "start_time": "2025-08-22T12:47:16.245265",
     "status": "completed"
    },
    "tags": []
   },
   "outputs": [
    {
     "name": "stdout",
     "output_type": "stream",
     "text": [
      "\n",
      "=== Synthetic Data Validation Summary ===\n",
      "✅ Synthetic data generation: SUCCESS\n",
      "✅ Model training: SUCCESS\n",
      "✅ MLflow logging: SUCCESS\n",
      "✅ Model registration: SUCCESS\n",
      "✅ Model loading validation: SUCCESS\n",
      "\n",
      "🎉 All validation tests passed! MLflow infrastructure is working correctly.\n"
     ]
    }
   ],
   "source": [
    "print(\"\\n=== Synthetic Data Validation Summary ===\")\n",
    "print(\"✅ Synthetic data generation: SUCCESS\")\n",
    "print(\"✅ Model training: SUCCESS\")\n",
    "print(\"✅ MLflow logging: SUCCESS\")\n",
    "print(\"✅ Model registration: SUCCESS\")\n",
    "print(\"✅ Model loading validation: SUCCESS\")\n",
    "print(\"\\n🎉 All validation tests passed! MLflow infrastructure is working correctly.\")"
   ]
  }
 ],
 "metadata": {
  "kernelspec": {
   "display_name": "Python 3",
   "language": "python",
   "name": "python3"
  },
  "language_info": {
   "codemirror_mode": {
    "name": "ipython",
    "version": 3
   },
   "file_extension": ".py",
   "mimetype": "text/x-python",
   "name": "python",
   "nbconvert_exporter": "python",
   "pygments_lexer": "ipython3",
   "version": "3.12.11"
  },
  "papermill": {
   "default_parameters": {},
   "duration": 10.615823,
   "end_time": "2025-08-22T12:47:16.864873",
   "environment_variables": {},
   "exception": null,
   "input_path": "notebooks/00_synthetic_data_validation.ipynb",
   "output_path": "notebooks/00_synthetic_data_validation_output.ipynb",
   "parameters": {},
   "start_time": "2025-08-22T12:47:06.249050",
   "version": "2.6.0"
  }
 },
 "nbformat": 4,
 "nbformat_minor": 5
}